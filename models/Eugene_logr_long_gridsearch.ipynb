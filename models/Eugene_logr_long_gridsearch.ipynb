{
 "cells": [
  {
   "cell_type": "markdown",
   "metadata": {},
   "source": [
    "#### This notebook has the results of a long gridsearch that has an accuracy of ~80, but still a poor false positive score (FP) where positive = paid down.  Model is predicting 221,677 loans to have paid down when they actually defaulted.  Need to bring this FP number down\n",
    "\n",
    "#### key next step: how to improve the FP score? Change the proba threshold value, check the ROC curve for assistance"
   ]
  },
  {
   "cell_type": "code",
   "execution_count": 1,
   "metadata": {},
   "outputs": [],
   "source": [
    "import pandas as pd\n",
    "import numpy as np\n",
    "import seaborn as sns\n",
    "import matplotlib.pyplot as plt\n",
    "%matplotlib inline\n",
    "import warnings\n",
    "warnings.filterwarnings('ignore')\n",
    "# pd.set_option('display.height', 500)\n",
    "pd.set_option('display.max_rows', 25)\n",
    "pd.set_option('display.max_columns', 50)"
   ]
  },
  {
   "cell_type": "code",
   "execution_count": 2,
   "metadata": {},
   "outputs": [
    {
     "name": "stdout",
     "output_type": "stream",
     "text": [
      "Wall time: 15.4 s\n"
     ]
    }
   ],
   "source": [
    "%%time\n",
    "df = pd.read_parquet('../data/approved.parquet', engine='fastparquet')"
   ]
  },
  {
   "cell_type": "code",
   "execution_count": 3,
   "metadata": {},
   "outputs": [
    {
     "data": {
      "text/html": [
       "<div>\n",
       "<style scoped>\n",
       "    .dataframe tbody tr th:only-of-type {\n",
       "        vertical-align: middle;\n",
       "    }\n",
       "\n",
       "    .dataframe tbody tr th {\n",
       "        vertical-align: top;\n",
       "    }\n",
       "\n",
       "    .dataframe thead th {\n",
       "        text-align: right;\n",
       "    }\n",
       "</style>\n",
       "<table border=\"1\" class=\"dataframe\">\n",
       "  <thead>\n",
       "    <tr style=\"text-align: right;\">\n",
       "      <th></th>\n",
       "      <th>addr_state</th>\n",
       "      <th>annual_inc</th>\n",
       "      <th>application_type</th>\n",
       "      <th>disbursement_method</th>\n",
       "      <th>dti</th>\n",
       "      <th>earliest_cr_line</th>\n",
       "      <th>emp_length</th>\n",
       "      <th>emp_title</th>\n",
       "      <th>fico_range_high</th>\n",
       "      <th>fico_range_low</th>\n",
       "      <th>grade</th>\n",
       "      <th>home_ownership</th>\n",
       "      <th>initial_list_status</th>\n",
       "      <th>installment</th>\n",
       "      <th>int_rate</th>\n",
       "      <th>issue_d</th>\n",
       "      <th>loan_amnt</th>\n",
       "      <th>open_acc</th>\n",
       "      <th>pub_rec</th>\n",
       "      <th>pub_rec_bankruptcies</th>\n",
       "      <th>purpose</th>\n",
       "      <th>sub_grade</th>\n",
       "      <th>term</th>\n",
       "      <th>verification_status</th>\n",
       "      <th>zip_code</th>\n",
       "      <th>loan_status</th>\n",
       "    </tr>\n",
       "    <tr>\n",
       "      <th>id</th>\n",
       "      <th></th>\n",
       "      <th></th>\n",
       "      <th></th>\n",
       "      <th></th>\n",
       "      <th></th>\n",
       "      <th></th>\n",
       "      <th></th>\n",
       "      <th></th>\n",
       "      <th></th>\n",
       "      <th></th>\n",
       "      <th></th>\n",
       "      <th></th>\n",
       "      <th></th>\n",
       "      <th></th>\n",
       "      <th></th>\n",
       "      <th></th>\n",
       "      <th></th>\n",
       "      <th></th>\n",
       "      <th></th>\n",
       "      <th></th>\n",
       "      <th></th>\n",
       "      <th></th>\n",
       "      <th></th>\n",
       "      <th></th>\n",
       "      <th></th>\n",
       "      <th></th>\n",
       "    </tr>\n",
       "  </thead>\n",
       "  <tbody>\n",
       "    <tr>\n",
       "      <th>128396138</th>\n",
       "      <td>AZ</td>\n",
       "      <td>110000.0</td>\n",
       "      <td>Individual</td>\n",
       "      <td>Cash</td>\n",
       "      <td>3.88</td>\n",
       "      <td>2003-04-01</td>\n",
       "      <td>10</td>\n",
       "      <td>Blackjack dealer</td>\n",
       "      <td>779.0</td>\n",
       "      <td>775.0</td>\n",
       "      <td>A</td>\n",
       "      <td>MORTGAGE</td>\n",
       "      <td>w</td>\n",
       "      <td>301.15</td>\n",
       "      <td>5.32</td>\n",
       "      <td>2018-02-01</td>\n",
       "      <td>10000.0</td>\n",
       "      <td>9.0</td>\n",
       "      <td>0.0</td>\n",
       "      <td>0.0</td>\n",
       "      <td>credit_card</td>\n",
       "      <td>A1</td>\n",
       "      <td>36</td>\n",
       "      <td>Not Verified</td>\n",
       "      <td>852xx</td>\n",
       "      <td>1</td>\n",
       "    </tr>\n",
       "    <tr>\n",
       "      <th>39641028</th>\n",
       "      <td>CA</td>\n",
       "      <td>70000.0</td>\n",
       "      <td>Individual</td>\n",
       "      <td>Cash</td>\n",
       "      <td>16.31</td>\n",
       "      <td>2006-09-01</td>\n",
       "      <td>1</td>\n",
       "      <td>Business Relationship Manager</td>\n",
       "      <td>684.0</td>\n",
       "      <td>680.0</td>\n",
       "      <td>B</td>\n",
       "      <td>RENT</td>\n",
       "      <td>w</td>\n",
       "      <td>224.20</td>\n",
       "      <td>9.49</td>\n",
       "      <td>2015-01-01</td>\n",
       "      <td>7000.0</td>\n",
       "      <td>17.0</td>\n",
       "      <td>0.0</td>\n",
       "      <td>0.0</td>\n",
       "      <td>debt_consolidation</td>\n",
       "      <td>B2</td>\n",
       "      <td>36</td>\n",
       "      <td>Not Verified</td>\n",
       "      <td>900xx</td>\n",
       "      <td>1</td>\n",
       "    </tr>\n",
       "    <tr>\n",
       "      <th>96664053</th>\n",
       "      <td>HI</td>\n",
       "      <td>120000.0</td>\n",
       "      <td>Individual</td>\n",
       "      <td>Cash</td>\n",
       "      <td>4.67</td>\n",
       "      <td>2003-10-01</td>\n",
       "      <td>10</td>\n",
       "      <td>Lead Electrician</td>\n",
       "      <td>694.0</td>\n",
       "      <td>690.0</td>\n",
       "      <td>B</td>\n",
       "      <td>MORTGAGE</td>\n",
       "      <td>w</td>\n",
       "      <td>790.74</td>\n",
       "      <td>11.44</td>\n",
       "      <td>2017-01-01</td>\n",
       "      <td>24000.0</td>\n",
       "      <td>5.0</td>\n",
       "      <td>0.0</td>\n",
       "      <td>0.0</td>\n",
       "      <td>credit_card</td>\n",
       "      <td>B4</td>\n",
       "      <td>36</td>\n",
       "      <td>Not Verified</td>\n",
       "      <td>967xx</td>\n",
       "      <td>1</td>\n",
       "    </tr>\n",
       "    <tr>\n",
       "      <th>7286632</th>\n",
       "      <td>UT</td>\n",
       "      <td>47000.0</td>\n",
       "      <td>Individual</td>\n",
       "      <td>Cash</td>\n",
       "      <td>21.40</td>\n",
       "      <td>1997-12-01</td>\n",
       "      <td>4</td>\n",
       "      <td>University of Utah</td>\n",
       "      <td>734.0</td>\n",
       "      <td>730.0</td>\n",
       "      <td>B</td>\n",
       "      <td>OWN</td>\n",
       "      <td>w</td>\n",
       "      <td>576.19</td>\n",
       "      <td>11.99</td>\n",
       "      <td>2013-09-01</td>\n",
       "      <td>17350.0</td>\n",
       "      <td>12.0</td>\n",
       "      <td>0.0</td>\n",
       "      <td>0.0</td>\n",
       "      <td>debt_consolidation</td>\n",
       "      <td>B3</td>\n",
       "      <td>36</td>\n",
       "      <td>Not Verified</td>\n",
       "      <td>841xx</td>\n",
       "      <td>1</td>\n",
       "    </tr>\n",
       "    <tr>\n",
       "      <th>93402473</th>\n",
       "      <td>MD</td>\n",
       "      <td>15600.0</td>\n",
       "      <td>Individual</td>\n",
       "      <td>Cash</td>\n",
       "      <td>27.08</td>\n",
       "      <td>2003-07-01</td>\n",
       "      <td>-1</td>\n",
       "      <td>None</td>\n",
       "      <td>669.0</td>\n",
       "      <td>665.0</td>\n",
       "      <td>B</td>\n",
       "      <td>RENT</td>\n",
       "      <td>f</td>\n",
       "      <td>115.40</td>\n",
       "      <td>11.49</td>\n",
       "      <td>2016-11-01</td>\n",
       "      <td>3500.0</td>\n",
       "      <td>10.0</td>\n",
       "      <td>1.0</td>\n",
       "      <td>1.0</td>\n",
       "      <td>credit_card</td>\n",
       "      <td>B5</td>\n",
       "      <td>36</td>\n",
       "      <td>Not Verified</td>\n",
       "      <td>212xx</td>\n",
       "      <td>1</td>\n",
       "    </tr>\n",
       "  </tbody>\n",
       "</table>\n",
       "</div>"
      ],
      "text/plain": [
       "          addr_state  annual_inc application_type disbursement_method    dti  \\\n",
       "id                                                                             \n",
       "128396138         AZ    110000.0       Individual                Cash   3.88   \n",
       "39641028          CA     70000.0       Individual                Cash  16.31   \n",
       "96664053          HI    120000.0       Individual                Cash   4.67   \n",
       "7286632           UT     47000.0       Individual                Cash  21.40   \n",
       "93402473          MD     15600.0       Individual                Cash  27.08   \n",
       "\n",
       "          earliest_cr_line  emp_length                      emp_title  \\\n",
       "id                                                                      \n",
       "128396138       2003-04-01          10               Blackjack dealer   \n",
       "39641028        2006-09-01           1  Business Relationship Manager   \n",
       "96664053        2003-10-01          10               Lead Electrician   \n",
       "7286632         1997-12-01           4             University of Utah   \n",
       "93402473        2003-07-01          -1                           None   \n",
       "\n",
       "           fico_range_high  fico_range_low grade home_ownership  \\\n",
       "id                                                                \n",
       "128396138            779.0           775.0     A       MORTGAGE   \n",
       "39641028             684.0           680.0     B           RENT   \n",
       "96664053             694.0           690.0     B       MORTGAGE   \n",
       "7286632              734.0           730.0     B            OWN   \n",
       "93402473             669.0           665.0     B           RENT   \n",
       "\n",
       "          initial_list_status  installment  int_rate    issue_d  loan_amnt  \\\n",
       "id                                                                           \n",
       "128396138                   w       301.15      5.32 2018-02-01    10000.0   \n",
       "39641028                    w       224.20      9.49 2015-01-01     7000.0   \n",
       "96664053                    w       790.74     11.44 2017-01-01    24000.0   \n",
       "7286632                     w       576.19     11.99 2013-09-01    17350.0   \n",
       "93402473                    f       115.40     11.49 2016-11-01     3500.0   \n",
       "\n",
       "           open_acc  pub_rec  pub_rec_bankruptcies             purpose  \\\n",
       "id                                                                       \n",
       "128396138       9.0      0.0                   0.0         credit_card   \n",
       "39641028       17.0      0.0                   0.0  debt_consolidation   \n",
       "96664053        5.0      0.0                   0.0         credit_card   \n",
       "7286632        12.0      0.0                   0.0  debt_consolidation   \n",
       "93402473       10.0      1.0                   1.0         credit_card   \n",
       "\n",
       "          sub_grade  term verification_status zip_code  loan_status  \n",
       "id                                                                   \n",
       "128396138        A1    36        Not Verified    852xx            1  \n",
       "39641028         B2    36        Not Verified    900xx            1  \n",
       "96664053         B4    36        Not Verified    967xx            1  \n",
       "7286632          B3    36        Not Verified    841xx            1  \n",
       "93402473         B5    36        Not Verified    212xx            1  "
      ]
     },
     "execution_count": 3,
     "metadata": {},
     "output_type": "execute_result"
    }
   ],
   "source": [
    "df.sample(5)"
   ]
  },
  {
   "cell_type": "markdown",
   "metadata": {},
   "source": [
    "### Feature Engineering"
   ]
  },
  {
   "cell_type": "code",
   "execution_count": 4,
   "metadata": {},
   "outputs": [],
   "source": [
    "df['days_cr_line']=df['issue_d']-df['earliest_cr_line']\n",
    "#need to convert to int"
   ]
  },
  {
   "cell_type": "markdown",
   "metadata": {},
   "source": [
    "### Convert Ordinals"
   ]
  },
  {
   "cell_type": "code",
   "execution_count": 5,
   "metadata": {},
   "outputs": [],
   "source": [
    "# sub_grade\n",
    "df.sub_grade.replace({'A1':1, 'A2':2, 'A3':3, 'A4':4, 'A5':5, 'B1':6, 'B2':7, \n",
    "                      'B3':8, 'B4':9, 'B5':10, 'C1':11, 'C2':12, 'C3':13, 'C4':14, \n",
    "                      'C5':15, 'D1':16, 'D2':17, 'D3':18, 'D4':19, 'D5':20, 'E1':21, \n",
    "                      'E2':22, 'E3':23, 'E4':24, 'E5':25}, inplace=True)\n",
    "\n",
    "# disbursement_method\n",
    "df.disbursement_method.replace({'Cash':0,'DirectPay':1},inplace=True)\n",
    "\n",
    "# verification_status\n",
    "df.verification_status.replace({'Source Verified':'Verified'},inplace=True)\n",
    "df.verification_status.replace({'Not Verified':0,'Verified':1}, inplace=True)\n",
    "\n",
    "# initial_list_status\n",
    "df.initial_list_status.replace({'w':0,'f':1}, inplace=True)\n",
    "\n",
    "# application_type\n",
    "df.application_type.replace({'Individual':0,'Joint App':1}, inplace=True)"
   ]
  },
  {
   "cell_type": "markdown",
   "metadata": {},
   "source": [
    "### Dummification"
   ]
  },
  {
   "cell_type": "code",
   "execution_count": 6,
   "metadata": {},
   "outputs": [],
   "source": [
    "dummies=['purpose','addr_state','home_ownership']\n",
    "\n",
    "for d in dummies:\n",
    "    temp = pd.get_dummies(df[d], prefix=d, prefix_sep='__')\n",
    "    temp = temp.drop(d+'__'+str(df[d].mode()[0]), axis=1)\n",
    "    #drop the most common one (mode), making it the base case\n",
    "    df = pd.concat([df.drop(d, axis=1),temp], axis=1)\n",
    "    #merge back with main df"
   ]
  },
  {
   "cell_type": "markdown",
   "metadata": {},
   "source": [
    "### Drop Columns"
   ]
  },
  {
   "cell_type": "code",
   "execution_count": 7,
   "metadata": {},
   "outputs": [],
   "source": [
    "df.drop(['emp_title','zip_code','grade','issue_d','earliest_cr_line'],axis=1, inplace=True)\n",
    "#remove earliest_cr_line when fixed"
   ]
  },
  {
   "cell_type": "markdown",
   "metadata": {},
   "source": [
    "### Drop Rows"
   ]
  },
  {
   "cell_type": "code",
   "execution_count": 8,
   "metadata": {},
   "outputs": [],
   "source": [
    "df.drop(df[df['emp_length']==-1].index, inplace=True)"
   ]
  },
  {
   "cell_type": "code",
   "execution_count": 9,
   "metadata": {},
   "outputs": [
    {
     "data": {
      "text/plain": [
       "id\n",
       "54734       5660 days\n",
       "55716       4871 days\n",
       "55742       2769 days\n",
       "56121       5054 days\n",
       "56705       6574 days\n",
       "               ...   \n",
       "145620416   4686 days\n",
       "145622746   5935 days\n",
       "145623694   8645 days\n",
       "145627026   7243 days\n",
       "145636374   5479 days\n",
       "Name: days_cr_line, Length: 1227022, dtype: timedelta64[ns]"
      ]
     },
     "execution_count": 9,
     "metadata": {},
     "output_type": "execute_result"
    }
   ],
   "source": [
    "df.days_cr_line"
   ]
  },
  {
   "cell_type": "markdown",
   "metadata": {},
   "source": [
    "# Modelling"
   ]
  },
  {
   "cell_type": "markdown",
   "metadata": {},
   "source": [
    "### create target and features"
   ]
  },
  {
   "cell_type": "code",
   "execution_count": 10,
   "metadata": {},
   "outputs": [],
   "source": [
    "target = df['loan_status']"
   ]
  },
  {
   "cell_type": "code",
   "execution_count": 11,
   "metadata": {},
   "outputs": [],
   "source": [
    "features = df.drop(['loan_status','days_cr_line'], axis=1)"
   ]
  },
  {
   "cell_type": "markdown",
   "metadata": {},
   "source": [
    "### note the reduced train_size of .10 = ~120,000 obs\n",
    "### Note: an extensive Gridsearch will still take over 3 hours"
   ]
  },
  {
   "cell_type": "code",
   "execution_count": 68,
   "metadata": {},
   "outputs": [],
   "source": [
    "from sklearn.linear_model import LogisticRegression, LogisticRegressionCV\n",
    "from sklearn.model_selection import GridSearchCV, StratifiedKFold, train_test_split, KFold\n",
    "\n",
    "Xtrain, Xtest, ytrain, ytest = train_test_split(features, target, train_size=.10 )\n",
    "logr = LogisticRegression()\n",
    "logr_bal = LogisticRegression(class_weight='balanced')"
   ]
  },
  {
   "cell_type": "code",
   "execution_count": 62,
   "metadata": {},
   "outputs": [
    {
     "data": {
      "text/plain": [
       "1    99630\n",
       "0    23072\n",
       "Name: loan_status, dtype: int64"
      ]
     },
     "execution_count": 62,
     "metadata": {},
     "output_type": "execute_result"
    }
   ],
   "source": [
    "ytrain.value_counts()"
   ]
  },
  {
   "cell_type": "code",
   "execution_count": 60,
   "metadata": {},
   "outputs": [
    {
     "name": "stdout",
     "output_type": "stream",
     "text": [
      "Wall time: 1.66 s\n"
     ]
    },
    {
     "data": {
      "text/plain": [
       "LogisticRegression()"
      ]
     },
     "execution_count": 60,
     "metadata": {},
     "output_type": "execute_result"
    }
   ],
   "source": [
    "%%time\n",
    "logr.fit(Xtrain, ytrain)"
   ]
  },
  {
   "cell_type": "code",
   "execution_count": 63,
   "metadata": {},
   "outputs": [
    {
     "data": {
      "text/plain": [
       "0.8127082729643581"
      ]
     },
     "execution_count": 63,
     "metadata": {},
     "output_type": "execute_result"
    }
   ],
   "source": [
    "logr.score(Xtest,ytest)"
   ]
  },
  {
   "cell_type": "code",
   "execution_count": 48,
   "metadata": {},
   "outputs": [
    {
     "data": {
      "text/html": [
       "<div>\n",
       "<style scoped>\n",
       "    .dataframe tbody tr th:only-of-type {\n",
       "        vertical-align: middle;\n",
       "    }\n",
       "\n",
       "    .dataframe tbody tr th {\n",
       "        vertical-align: top;\n",
       "    }\n",
       "\n",
       "    .dataframe thead th {\n",
       "        text-align: right;\n",
       "    }\n",
       "</style>\n",
       "<table border=\"1\" class=\"dataframe\">\n",
       "  <thead>\n",
       "    <tr style=\"text-align: right;\">\n",
       "      <th></th>\n",
       "      <th>annual_inc</th>\n",
       "      <th>application_type</th>\n",
       "      <th>disbursement_method</th>\n",
       "      <th>dti</th>\n",
       "      <th>emp_length</th>\n",
       "      <th>fico_range_high</th>\n",
       "      <th>fico_range_low</th>\n",
       "      <th>initial_list_status</th>\n",
       "      <th>installment</th>\n",
       "      <th>int_rate</th>\n",
       "      <th>loan_amnt</th>\n",
       "      <th>open_acc</th>\n",
       "      <th>pub_rec</th>\n",
       "      <th>pub_rec_bankruptcies</th>\n",
       "      <th>sub_grade</th>\n",
       "      <th>term</th>\n",
       "      <th>verification_status</th>\n",
       "      <th>purpose__car</th>\n",
       "      <th>purpose__credit_card</th>\n",
       "      <th>purpose__educational</th>\n",
       "      <th>purpose__home_improvement</th>\n",
       "      <th>purpose__house</th>\n",
       "      <th>purpose__major_purchase</th>\n",
       "      <th>purpose__medical</th>\n",
       "      <th>purpose__moving</th>\n",
       "      <th>...</th>\n",
       "      <th>addr_state__NJ</th>\n",
       "      <th>addr_state__NM</th>\n",
       "      <th>addr_state__NV</th>\n",
       "      <th>addr_state__NY</th>\n",
       "      <th>addr_state__OH</th>\n",
       "      <th>addr_state__OK</th>\n",
       "      <th>addr_state__OR</th>\n",
       "      <th>addr_state__PA</th>\n",
       "      <th>addr_state__RI</th>\n",
       "      <th>addr_state__SC</th>\n",
       "      <th>addr_state__SD</th>\n",
       "      <th>addr_state__TN</th>\n",
       "      <th>addr_state__TX</th>\n",
       "      <th>addr_state__UT</th>\n",
       "      <th>addr_state__VA</th>\n",
       "      <th>addr_state__VT</th>\n",
       "      <th>addr_state__WA</th>\n",
       "      <th>addr_state__WI</th>\n",
       "      <th>addr_state__WV</th>\n",
       "      <th>addr_state__WY</th>\n",
       "      <th>home_ownership__ANY</th>\n",
       "      <th>home_ownership__NONE</th>\n",
       "      <th>home_ownership__OTHER</th>\n",
       "      <th>home_ownership__OWN</th>\n",
       "      <th>home_ownership__RENT</th>\n",
       "    </tr>\n",
       "    <tr>\n",
       "      <th>id</th>\n",
       "      <th></th>\n",
       "      <th></th>\n",
       "      <th></th>\n",
       "      <th></th>\n",
       "      <th></th>\n",
       "      <th></th>\n",
       "      <th></th>\n",
       "      <th></th>\n",
       "      <th></th>\n",
       "      <th></th>\n",
       "      <th></th>\n",
       "      <th></th>\n",
       "      <th></th>\n",
       "      <th></th>\n",
       "      <th></th>\n",
       "      <th></th>\n",
       "      <th></th>\n",
       "      <th></th>\n",
       "      <th></th>\n",
       "      <th></th>\n",
       "      <th></th>\n",
       "      <th></th>\n",
       "      <th></th>\n",
       "      <th></th>\n",
       "      <th></th>\n",
       "      <th></th>\n",
       "      <th></th>\n",
       "      <th></th>\n",
       "      <th></th>\n",
       "      <th></th>\n",
       "      <th></th>\n",
       "      <th></th>\n",
       "      <th></th>\n",
       "      <th></th>\n",
       "      <th></th>\n",
       "      <th></th>\n",
       "      <th></th>\n",
       "      <th></th>\n",
       "      <th></th>\n",
       "      <th></th>\n",
       "      <th></th>\n",
       "      <th></th>\n",
       "      <th></th>\n",
       "      <th></th>\n",
       "      <th></th>\n",
       "      <th></th>\n",
       "      <th></th>\n",
       "      <th></th>\n",
       "      <th></th>\n",
       "      <th></th>\n",
       "      <th></th>\n",
       "    </tr>\n",
       "  </thead>\n",
       "  <tbody>\n",
       "    <tr>\n",
       "      <th>54734</th>\n",
       "      <td>85000.0</td>\n",
       "      <td>0</td>\n",
       "      <td>0</td>\n",
       "      <td>19.48</td>\n",
       "      <td>1</td>\n",
       "      <td>739.0</td>\n",
       "      <td>735.0</td>\n",
       "      <td>1</td>\n",
       "      <td>829.10</td>\n",
       "      <td>11.89</td>\n",
       "      <td>25000.0</td>\n",
       "      <td>10.0</td>\n",
       "      <td>0.0</td>\n",
       "      <td>0.0</td>\n",
       "      <td>9</td>\n",
       "      <td>36</td>\n",
       "      <td>1</td>\n",
       "      <td>0</td>\n",
       "      <td>0</td>\n",
       "      <td>0</td>\n",
       "      <td>0</td>\n",
       "      <td>0</td>\n",
       "      <td>0</td>\n",
       "      <td>0</td>\n",
       "      <td>0</td>\n",
       "      <td>...</td>\n",
       "      <td>0</td>\n",
       "      <td>0</td>\n",
       "      <td>0</td>\n",
       "      <td>0</td>\n",
       "      <td>0</td>\n",
       "      <td>0</td>\n",
       "      <td>0</td>\n",
       "      <td>0</td>\n",
       "      <td>0</td>\n",
       "      <td>0</td>\n",
       "      <td>0</td>\n",
       "      <td>0</td>\n",
       "      <td>0</td>\n",
       "      <td>0</td>\n",
       "      <td>0</td>\n",
       "      <td>0</td>\n",
       "      <td>0</td>\n",
       "      <td>0</td>\n",
       "      <td>0</td>\n",
       "      <td>0</td>\n",
       "      <td>0</td>\n",
       "      <td>0</td>\n",
       "      <td>0</td>\n",
       "      <td>0</td>\n",
       "      <td>1</td>\n",
       "    </tr>\n",
       "    <tr>\n",
       "      <th>55716</th>\n",
       "      <td>30784.0</td>\n",
       "      <td>0</td>\n",
       "      <td>0</td>\n",
       "      <td>16.96</td>\n",
       "      <td>1</td>\n",
       "      <td>669.0</td>\n",
       "      <td>665.0</td>\n",
       "      <td>0</td>\n",
       "      <td>139.15</td>\n",
       "      <td>24.99</td>\n",
       "      <td>3500.0</td>\n",
       "      <td>14.0</td>\n",
       "      <td>1.0</td>\n",
       "      <td>1.0</td>\n",
       "      <td>24</td>\n",
       "      <td>36</td>\n",
       "      <td>0</td>\n",
       "      <td>0</td>\n",
       "      <td>0</td>\n",
       "      <td>0</td>\n",
       "      <td>0</td>\n",
       "      <td>0</td>\n",
       "      <td>0</td>\n",
       "      <td>0</td>\n",
       "      <td>0</td>\n",
       "      <td>...</td>\n",
       "      <td>0</td>\n",
       "      <td>0</td>\n",
       "      <td>0</td>\n",
       "      <td>0</td>\n",
       "      <td>0</td>\n",
       "      <td>0</td>\n",
       "      <td>0</td>\n",
       "      <td>0</td>\n",
       "      <td>0</td>\n",
       "      <td>0</td>\n",
       "      <td>0</td>\n",
       "      <td>0</td>\n",
       "      <td>0</td>\n",
       "      <td>0</td>\n",
       "      <td>0</td>\n",
       "      <td>0</td>\n",
       "      <td>1</td>\n",
       "      <td>0</td>\n",
       "      <td>0</td>\n",
       "      <td>0</td>\n",
       "      <td>0</td>\n",
       "      <td>0</td>\n",
       "      <td>0</td>\n",
       "      <td>0</td>\n",
       "      <td>1</td>\n",
       "    </tr>\n",
       "    <tr>\n",
       "      <th>55742</th>\n",
       "      <td>65000.0</td>\n",
       "      <td>0</td>\n",
       "      <td>0</td>\n",
       "      <td>14.29</td>\n",
       "      <td>1</td>\n",
       "      <td>709.0</td>\n",
       "      <td>705.0</td>\n",
       "      <td>1</td>\n",
       "      <td>228.22</td>\n",
       "      <td>10.71</td>\n",
       "      <td>7000.0</td>\n",
       "      <td>7.0</td>\n",
       "      <td>0.0</td>\n",
       "      <td>0.0</td>\n",
       "      <td>10</td>\n",
       "      <td>36</td>\n",
       "      <td>0</td>\n",
       "      <td>0</td>\n",
       "      <td>1</td>\n",
       "      <td>0</td>\n",
       "      <td>0</td>\n",
       "      <td>0</td>\n",
       "      <td>0</td>\n",
       "      <td>0</td>\n",
       "      <td>0</td>\n",
       "      <td>...</td>\n",
       "      <td>0</td>\n",
       "      <td>0</td>\n",
       "      <td>0</td>\n",
       "      <td>1</td>\n",
       "      <td>0</td>\n",
       "      <td>0</td>\n",
       "      <td>0</td>\n",
       "      <td>0</td>\n",
       "      <td>0</td>\n",
       "      <td>0</td>\n",
       "      <td>0</td>\n",
       "      <td>0</td>\n",
       "      <td>0</td>\n",
       "      <td>0</td>\n",
       "      <td>0</td>\n",
       "      <td>0</td>\n",
       "      <td>0</td>\n",
       "      <td>0</td>\n",
       "      <td>0</td>\n",
       "      <td>0</td>\n",
       "      <td>0</td>\n",
       "      <td>0</td>\n",
       "      <td>0</td>\n",
       "      <td>0</td>\n",
       "      <td>1</td>\n",
       "    </tr>\n",
       "    <tr>\n",
       "      <th>56121</th>\n",
       "      <td>65000.0</td>\n",
       "      <td>0</td>\n",
       "      <td>0</td>\n",
       "      <td>10.84</td>\n",
       "      <td>10</td>\n",
       "      <td>709.0</td>\n",
       "      <td>705.0</td>\n",
       "      <td>0</td>\n",
       "      <td>245.16</td>\n",
       "      <td>6.49</td>\n",
       "      <td>8000.0</td>\n",
       "      <td>5.0</td>\n",
       "      <td>1.0</td>\n",
       "      <td>1.0</td>\n",
       "      <td>2</td>\n",
       "      <td>36</td>\n",
       "      <td>0</td>\n",
       "      <td>0</td>\n",
       "      <td>0</td>\n",
       "      <td>0</td>\n",
       "      <td>1</td>\n",
       "      <td>0</td>\n",
       "      <td>0</td>\n",
       "      <td>0</td>\n",
       "      <td>0</td>\n",
       "      <td>...</td>\n",
       "      <td>0</td>\n",
       "      <td>0</td>\n",
       "      <td>0</td>\n",
       "      <td>0</td>\n",
       "      <td>0</td>\n",
       "      <td>0</td>\n",
       "      <td>0</td>\n",
       "      <td>0</td>\n",
       "      <td>0</td>\n",
       "      <td>0</td>\n",
       "      <td>0</td>\n",
       "      <td>0</td>\n",
       "      <td>0</td>\n",
       "      <td>0</td>\n",
       "      <td>0</td>\n",
       "      <td>0</td>\n",
       "      <td>0</td>\n",
       "      <td>0</td>\n",
       "      <td>0</td>\n",
       "      <td>0</td>\n",
       "      <td>0</td>\n",
       "      <td>0</td>\n",
       "      <td>0</td>\n",
       "      <td>0</td>\n",
       "      <td>0</td>\n",
       "    </tr>\n",
       "    <tr>\n",
       "      <th>56705</th>\n",
       "      <td>33500.0</td>\n",
       "      <td>0</td>\n",
       "      <td>0</td>\n",
       "      <td>18.38</td>\n",
       "      <td>10</td>\n",
       "      <td>704.0</td>\n",
       "      <td>700.0</td>\n",
       "      <td>0</td>\n",
       "      <td>354.89</td>\n",
       "      <td>9.99</td>\n",
       "      <td>11000.0</td>\n",
       "      <td>11.0</td>\n",
       "      <td>0.0</td>\n",
       "      <td>0.0</td>\n",
       "      <td>8</td>\n",
       "      <td>36</td>\n",
       "      <td>1</td>\n",
       "      <td>0</td>\n",
       "      <td>0</td>\n",
       "      <td>0</td>\n",
       "      <td>0</td>\n",
       "      <td>0</td>\n",
       "      <td>0</td>\n",
       "      <td>0</td>\n",
       "      <td>0</td>\n",
       "      <td>...</td>\n",
       "      <td>0</td>\n",
       "      <td>0</td>\n",
       "      <td>0</td>\n",
       "      <td>0</td>\n",
       "      <td>0</td>\n",
       "      <td>0</td>\n",
       "      <td>0</td>\n",
       "      <td>0</td>\n",
       "      <td>0</td>\n",
       "      <td>0</td>\n",
       "      <td>0</td>\n",
       "      <td>0</td>\n",
       "      <td>0</td>\n",
       "      <td>0</td>\n",
       "      <td>0</td>\n",
       "      <td>0</td>\n",
       "      <td>0</td>\n",
       "      <td>0</td>\n",
       "      <td>0</td>\n",
       "      <td>0</td>\n",
       "      <td>0</td>\n",
       "      <td>0</td>\n",
       "      <td>0</td>\n",
       "      <td>0</td>\n",
       "      <td>0</td>\n",
       "    </tr>\n",
       "    <tr>\n",
       "      <th>...</th>\n",
       "      <td>...</td>\n",
       "      <td>...</td>\n",
       "      <td>...</td>\n",
       "      <td>...</td>\n",
       "      <td>...</td>\n",
       "      <td>...</td>\n",
       "      <td>...</td>\n",
       "      <td>...</td>\n",
       "      <td>...</td>\n",
       "      <td>...</td>\n",
       "      <td>...</td>\n",
       "      <td>...</td>\n",
       "      <td>...</td>\n",
       "      <td>...</td>\n",
       "      <td>...</td>\n",
       "      <td>...</td>\n",
       "      <td>...</td>\n",
       "      <td>...</td>\n",
       "      <td>...</td>\n",
       "      <td>...</td>\n",
       "      <td>...</td>\n",
       "      <td>...</td>\n",
       "      <td>...</td>\n",
       "      <td>...</td>\n",
       "      <td>...</td>\n",
       "      <td>...</td>\n",
       "      <td>...</td>\n",
       "      <td>...</td>\n",
       "      <td>...</td>\n",
       "      <td>...</td>\n",
       "      <td>...</td>\n",
       "      <td>...</td>\n",
       "      <td>...</td>\n",
       "      <td>...</td>\n",
       "      <td>...</td>\n",
       "      <td>...</td>\n",
       "      <td>...</td>\n",
       "      <td>...</td>\n",
       "      <td>...</td>\n",
       "      <td>...</td>\n",
       "      <td>...</td>\n",
       "      <td>...</td>\n",
       "      <td>...</td>\n",
       "      <td>...</td>\n",
       "      <td>...</td>\n",
       "      <td>...</td>\n",
       "      <td>...</td>\n",
       "      <td>...</td>\n",
       "      <td>...</td>\n",
       "      <td>...</td>\n",
       "      <td>...</td>\n",
       "    </tr>\n",
       "    <tr>\n",
       "      <th>145620416</th>\n",
       "      <td>200000.0</td>\n",
       "      <td>0</td>\n",
       "      <td>0</td>\n",
       "      <td>2.62</td>\n",
       "      <td>10</td>\n",
       "      <td>729.0</td>\n",
       "      <td>725.0</td>\n",
       "      <td>0</td>\n",
       "      <td>467.01</td>\n",
       "      <td>7.56</td>\n",
       "      <td>15000.0</td>\n",
       "      <td>7.0</td>\n",
       "      <td>0.0</td>\n",
       "      <td>0.0</td>\n",
       "      <td>3</td>\n",
       "      <td>36</td>\n",
       "      <td>0</td>\n",
       "      <td>0</td>\n",
       "      <td>0</td>\n",
       "      <td>0</td>\n",
       "      <td>0</td>\n",
       "      <td>1</td>\n",
       "      <td>0</td>\n",
       "      <td>0</td>\n",
       "      <td>0</td>\n",
       "      <td>...</td>\n",
       "      <td>0</td>\n",
       "      <td>0</td>\n",
       "      <td>0</td>\n",
       "      <td>0</td>\n",
       "      <td>0</td>\n",
       "      <td>0</td>\n",
       "      <td>0</td>\n",
       "      <td>0</td>\n",
       "      <td>0</td>\n",
       "      <td>0</td>\n",
       "      <td>0</td>\n",
       "      <td>0</td>\n",
       "      <td>0</td>\n",
       "      <td>0</td>\n",
       "      <td>0</td>\n",
       "      <td>0</td>\n",
       "      <td>0</td>\n",
       "      <td>0</td>\n",
       "      <td>0</td>\n",
       "      <td>0</td>\n",
       "      <td>0</td>\n",
       "      <td>0</td>\n",
       "      <td>0</td>\n",
       "      <td>0</td>\n",
       "      <td>0</td>\n",
       "    </tr>\n",
       "    <tr>\n",
       "      <th>145622746</th>\n",
       "      <td>71000.0</td>\n",
       "      <td>0</td>\n",
       "      <td>0</td>\n",
       "      <td>30.39</td>\n",
       "      <td>4</td>\n",
       "      <td>709.0</td>\n",
       "      <td>705.0</td>\n",
       "      <td>1</td>\n",
       "      <td>71.22</td>\n",
       "      <td>16.91</td>\n",
       "      <td>2000.0</td>\n",
       "      <td>13.0</td>\n",
       "      <td>0.0</td>\n",
       "      <td>0.0</td>\n",
       "      <td>15</td>\n",
       "      <td>36</td>\n",
       "      <td>1</td>\n",
       "      <td>0</td>\n",
       "      <td>1</td>\n",
       "      <td>0</td>\n",
       "      <td>0</td>\n",
       "      <td>0</td>\n",
       "      <td>0</td>\n",
       "      <td>0</td>\n",
       "      <td>0</td>\n",
       "      <td>...</td>\n",
       "      <td>0</td>\n",
       "      <td>0</td>\n",
       "      <td>0</td>\n",
       "      <td>0</td>\n",
       "      <td>0</td>\n",
       "      <td>0</td>\n",
       "      <td>0</td>\n",
       "      <td>0</td>\n",
       "      <td>0</td>\n",
       "      <td>0</td>\n",
       "      <td>0</td>\n",
       "      <td>0</td>\n",
       "      <td>0</td>\n",
       "      <td>0</td>\n",
       "      <td>0</td>\n",
       "      <td>0</td>\n",
       "      <td>0</td>\n",
       "      <td>0</td>\n",
       "      <td>0</td>\n",
       "      <td>0</td>\n",
       "      <td>0</td>\n",
       "      <td>0</td>\n",
       "      <td>0</td>\n",
       "      <td>0</td>\n",
       "      <td>0</td>\n",
       "    </tr>\n",
       "    <tr>\n",
       "      <th>145623694</th>\n",
       "      <td>57000.0</td>\n",
       "      <td>0</td>\n",
       "      <td>0</td>\n",
       "      <td>22.18</td>\n",
       "      <td>4</td>\n",
       "      <td>739.0</td>\n",
       "      <td>735.0</td>\n",
       "      <td>0</td>\n",
       "      <td>507.55</td>\n",
       "      <td>17.97</td>\n",
       "      <td>20000.0</td>\n",
       "      <td>10.0</td>\n",
       "      <td>0.0</td>\n",
       "      <td>0.0</td>\n",
       "      <td>16</td>\n",
       "      <td>60</td>\n",
       "      <td>0</td>\n",
       "      <td>0</td>\n",
       "      <td>0</td>\n",
       "      <td>0</td>\n",
       "      <td>0</td>\n",
       "      <td>0</td>\n",
       "      <td>0</td>\n",
       "      <td>0</td>\n",
       "      <td>0</td>\n",
       "      <td>...</td>\n",
       "      <td>0</td>\n",
       "      <td>0</td>\n",
       "      <td>0</td>\n",
       "      <td>0</td>\n",
       "      <td>0</td>\n",
       "      <td>0</td>\n",
       "      <td>0</td>\n",
       "      <td>0</td>\n",
       "      <td>0</td>\n",
       "      <td>0</td>\n",
       "      <td>0</td>\n",
       "      <td>0</td>\n",
       "      <td>0</td>\n",
       "      <td>0</td>\n",
       "      <td>0</td>\n",
       "      <td>0</td>\n",
       "      <td>1</td>\n",
       "      <td>0</td>\n",
       "      <td>0</td>\n",
       "      <td>0</td>\n",
       "      <td>0</td>\n",
       "      <td>0</td>\n",
       "      <td>0</td>\n",
       "      <td>0</td>\n",
       "      <td>1</td>\n",
       "    </tr>\n",
       "    <tr>\n",
       "      <th>145627026</th>\n",
       "      <td>100000.0</td>\n",
       "      <td>1</td>\n",
       "      <td>0</td>\n",
       "      <td>18.92</td>\n",
       "      <td>10</td>\n",
       "      <td>754.0</td>\n",
       "      <td>750.0</td>\n",
       "      <td>0</td>\n",
       "      <td>622.68</td>\n",
       "      <td>7.56</td>\n",
       "      <td>20000.0</td>\n",
       "      <td>9.0</td>\n",
       "      <td>0.0</td>\n",
       "      <td>0.0</td>\n",
       "      <td>3</td>\n",
       "      <td>36</td>\n",
       "      <td>0</td>\n",
       "      <td>0</td>\n",
       "      <td>1</td>\n",
       "      <td>0</td>\n",
       "      <td>0</td>\n",
       "      <td>0</td>\n",
       "      <td>0</td>\n",
       "      <td>0</td>\n",
       "      <td>0</td>\n",
       "      <td>...</td>\n",
       "      <td>0</td>\n",
       "      <td>0</td>\n",
       "      <td>0</td>\n",
       "      <td>0</td>\n",
       "      <td>0</td>\n",
       "      <td>0</td>\n",
       "      <td>0</td>\n",
       "      <td>0</td>\n",
       "      <td>0</td>\n",
       "      <td>0</td>\n",
       "      <td>0</td>\n",
       "      <td>0</td>\n",
       "      <td>0</td>\n",
       "      <td>0</td>\n",
       "      <td>0</td>\n",
       "      <td>0</td>\n",
       "      <td>1</td>\n",
       "      <td>0</td>\n",
       "      <td>0</td>\n",
       "      <td>0</td>\n",
       "      <td>0</td>\n",
       "      <td>0</td>\n",
       "      <td>0</td>\n",
       "      <td>0</td>\n",
       "      <td>0</td>\n",
       "    </tr>\n",
       "    <tr>\n",
       "      <th>145636374</th>\n",
       "      <td>38500.0</td>\n",
       "      <td>0</td>\n",
       "      <td>0</td>\n",
       "      <td>4.64</td>\n",
       "      <td>10</td>\n",
       "      <td>679.0</td>\n",
       "      <td>675.0</td>\n",
       "      <td>0</td>\n",
       "      <td>147.99</td>\n",
       "      <td>11.31</td>\n",
       "      <td>4500.0</td>\n",
       "      <td>12.0</td>\n",
       "      <td>0.0</td>\n",
       "      <td>0.0</td>\n",
       "      <td>8</td>\n",
       "      <td>36</td>\n",
       "      <td>0</td>\n",
       "      <td>0</td>\n",
       "      <td>1</td>\n",
       "      <td>0</td>\n",
       "      <td>0</td>\n",
       "      <td>0</td>\n",
       "      <td>0</td>\n",
       "      <td>0</td>\n",
       "      <td>0</td>\n",
       "      <td>...</td>\n",
       "      <td>0</td>\n",
       "      <td>0</td>\n",
       "      <td>0</td>\n",
       "      <td>0</td>\n",
       "      <td>0</td>\n",
       "      <td>0</td>\n",
       "      <td>0</td>\n",
       "      <td>0</td>\n",
       "      <td>0</td>\n",
       "      <td>0</td>\n",
       "      <td>0</td>\n",
       "      <td>0</td>\n",
       "      <td>1</td>\n",
       "      <td>0</td>\n",
       "      <td>0</td>\n",
       "      <td>0</td>\n",
       "      <td>0</td>\n",
       "      <td>0</td>\n",
       "      <td>0</td>\n",
       "      <td>0</td>\n",
       "      <td>0</td>\n",
       "      <td>0</td>\n",
       "      <td>0</td>\n",
       "      <td>0</td>\n",
       "      <td>1</td>\n",
       "    </tr>\n",
       "  </tbody>\n",
       "</table>\n",
       "<p>1227022 rows × 85 columns</p>\n",
       "</div>"
      ],
      "text/plain": [
       "           annual_inc  application_type  disbursement_method    dti  \\\n",
       "id                                                                    \n",
       "54734         85000.0                 0                    0  19.48   \n",
       "55716         30784.0                 0                    0  16.96   \n",
       "55742         65000.0                 0                    0  14.29   \n",
       "56121         65000.0                 0                    0  10.84   \n",
       "56705         33500.0                 0                    0  18.38   \n",
       "...               ...               ...                  ...    ...   \n",
       "145620416    200000.0                 0                    0   2.62   \n",
       "145622746     71000.0                 0                    0  30.39   \n",
       "145623694     57000.0                 0                    0  22.18   \n",
       "145627026    100000.0                 1                    0  18.92   \n",
       "145636374     38500.0                 0                    0   4.64   \n",
       "\n",
       "           emp_length  fico_range_high  fico_range_low  initial_list_status  \\\n",
       "id                                                                            \n",
       "54734               1            739.0           735.0                    1   \n",
       "55716               1            669.0           665.0                    0   \n",
       "55742               1            709.0           705.0                    1   \n",
       "56121              10            709.0           705.0                    0   \n",
       "56705              10            704.0           700.0                    0   \n",
       "...               ...              ...             ...                  ...   \n",
       "145620416          10            729.0           725.0                    0   \n",
       "145622746           4            709.0           705.0                    1   \n",
       "145623694           4            739.0           735.0                    0   \n",
       "145627026          10            754.0           750.0                    0   \n",
       "145636374          10            679.0           675.0                    0   \n",
       "\n",
       "           installment  int_rate  loan_amnt  open_acc  pub_rec  \\\n",
       "id                                                               \n",
       "54734           829.10     11.89    25000.0      10.0      0.0   \n",
       "55716           139.15     24.99     3500.0      14.0      1.0   \n",
       "55742           228.22     10.71     7000.0       7.0      0.0   \n",
       "56121           245.16      6.49     8000.0       5.0      1.0   \n",
       "56705           354.89      9.99    11000.0      11.0      0.0   \n",
       "...                ...       ...        ...       ...      ...   \n",
       "145620416       467.01      7.56    15000.0       7.0      0.0   \n",
       "145622746        71.22     16.91     2000.0      13.0      0.0   \n",
       "145623694       507.55     17.97    20000.0      10.0      0.0   \n",
       "145627026       622.68      7.56    20000.0       9.0      0.0   \n",
       "145636374       147.99     11.31     4500.0      12.0      0.0   \n",
       "\n",
       "           pub_rec_bankruptcies  sub_grade  term  verification_status  \\\n",
       "id                                                                      \n",
       "54734                       0.0          9    36                    1   \n",
       "55716                       1.0         24    36                    0   \n",
       "55742                       0.0         10    36                    0   \n",
       "56121                       1.0          2    36                    0   \n",
       "56705                       0.0          8    36                    1   \n",
       "...                         ...        ...   ...                  ...   \n",
       "145620416                   0.0          3    36                    0   \n",
       "145622746                   0.0         15    36                    1   \n",
       "145623694                   0.0         16    60                    0   \n",
       "145627026                   0.0          3    36                    0   \n",
       "145636374                   0.0          8    36                    0   \n",
       "\n",
       "           purpose__car  purpose__credit_card  purpose__educational  \\\n",
       "id                                                                    \n",
       "54734                 0                     0                     0   \n",
       "55716                 0                     0                     0   \n",
       "55742                 0                     1                     0   \n",
       "56121                 0                     0                     0   \n",
       "56705                 0                     0                     0   \n",
       "...                 ...                   ...                   ...   \n",
       "145620416             0                     0                     0   \n",
       "145622746             0                     1                     0   \n",
       "145623694             0                     0                     0   \n",
       "145627026             0                     1                     0   \n",
       "145636374             0                     1                     0   \n",
       "\n",
       "           purpose__home_improvement  purpose__house  purpose__major_purchase  \\\n",
       "id                                                                              \n",
       "54734                              0               0                        0   \n",
       "55716                              0               0                        0   \n",
       "55742                              0               0                        0   \n",
       "56121                              1               0                        0   \n",
       "56705                              0               0                        0   \n",
       "...                              ...             ...                      ...   \n",
       "145620416                          0               1                        0   \n",
       "145622746                          0               0                        0   \n",
       "145623694                          0               0                        0   \n",
       "145627026                          0               0                        0   \n",
       "145636374                          0               0                        0   \n",
       "\n",
       "           purpose__medical  purpose__moving  ...  addr_state__NJ  \\\n",
       "id                                            ...                   \n",
       "54734                     0                0  ...               0   \n",
       "55716                     0                0  ...               0   \n",
       "55742                     0                0  ...               0   \n",
       "56121                     0                0  ...               0   \n",
       "56705                     0                0  ...               0   \n",
       "...                     ...              ...  ...             ...   \n",
       "145620416                 0                0  ...               0   \n",
       "145622746                 0                0  ...               0   \n",
       "145623694                 0                0  ...               0   \n",
       "145627026                 0                0  ...               0   \n",
       "145636374                 0                0  ...               0   \n",
       "\n",
       "           addr_state__NM  addr_state__NV  addr_state__NY  addr_state__OH  \\\n",
       "id                                                                          \n",
       "54734                   0               0               0               0   \n",
       "55716                   0               0               0               0   \n",
       "55742                   0               0               1               0   \n",
       "56121                   0               0               0               0   \n",
       "56705                   0               0               0               0   \n",
       "...                   ...             ...             ...             ...   \n",
       "145620416               0               0               0               0   \n",
       "145622746               0               0               0               0   \n",
       "145623694               0               0               0               0   \n",
       "145627026               0               0               0               0   \n",
       "145636374               0               0               0               0   \n",
       "\n",
       "           addr_state__OK  addr_state__OR  addr_state__PA  addr_state__RI  \\\n",
       "id                                                                          \n",
       "54734                   0               0               0               0   \n",
       "55716                   0               0               0               0   \n",
       "55742                   0               0               0               0   \n",
       "56121                   0               0               0               0   \n",
       "56705                   0               0               0               0   \n",
       "...                   ...             ...             ...             ...   \n",
       "145620416               0               0               0               0   \n",
       "145622746               0               0               0               0   \n",
       "145623694               0               0               0               0   \n",
       "145627026               0               0               0               0   \n",
       "145636374               0               0               0               0   \n",
       "\n",
       "           addr_state__SC  addr_state__SD  addr_state__TN  addr_state__TX  \\\n",
       "id                                                                          \n",
       "54734                   0               0               0               0   \n",
       "55716                   0               0               0               0   \n",
       "55742                   0               0               0               0   \n",
       "56121                   0               0               0               0   \n",
       "56705                   0               0               0               0   \n",
       "...                   ...             ...             ...             ...   \n",
       "145620416               0               0               0               0   \n",
       "145622746               0               0               0               0   \n",
       "145623694               0               0               0               0   \n",
       "145627026               0               0               0               0   \n",
       "145636374               0               0               0               1   \n",
       "\n",
       "           addr_state__UT  addr_state__VA  addr_state__VT  addr_state__WA  \\\n",
       "id                                                                          \n",
       "54734                   0               0               0               0   \n",
       "55716                   0               0               0               1   \n",
       "55742                   0               0               0               0   \n",
       "56121                   0               0               0               0   \n",
       "56705                   0               0               0               0   \n",
       "...                   ...             ...             ...             ...   \n",
       "145620416               0               0               0               0   \n",
       "145622746               0               0               0               0   \n",
       "145623694               0               0               0               1   \n",
       "145627026               0               0               0               1   \n",
       "145636374               0               0               0               0   \n",
       "\n",
       "           addr_state__WI  addr_state__WV  addr_state__WY  \\\n",
       "id                                                          \n",
       "54734                   0               0               0   \n",
       "55716                   0               0               0   \n",
       "55742                   0               0               0   \n",
       "56121                   0               0               0   \n",
       "56705                   0               0               0   \n",
       "...                   ...             ...             ...   \n",
       "145620416               0               0               0   \n",
       "145622746               0               0               0   \n",
       "145623694               0               0               0   \n",
       "145627026               0               0               0   \n",
       "145636374               0               0               0   \n",
       "\n",
       "           home_ownership__ANY  home_ownership__NONE  home_ownership__OTHER  \\\n",
       "id                                                                            \n",
       "54734                        0                     0                      0   \n",
       "55716                        0                     0                      0   \n",
       "55742                        0                     0                      0   \n",
       "56121                        0                     0                      0   \n",
       "56705                        0                     0                      0   \n",
       "...                        ...                   ...                    ...   \n",
       "145620416                    0                     0                      0   \n",
       "145622746                    0                     0                      0   \n",
       "145623694                    0                     0                      0   \n",
       "145627026                    0                     0                      0   \n",
       "145636374                    0                     0                      0   \n",
       "\n",
       "           home_ownership__OWN  home_ownership__RENT  \n",
       "id                                                    \n",
       "54734                        0                     1  \n",
       "55716                        0                     1  \n",
       "55742                        0                     1  \n",
       "56121                        0                     0  \n",
       "56705                        0                     0  \n",
       "...                        ...                   ...  \n",
       "145620416                    0                     0  \n",
       "145622746                    0                     0  \n",
       "145623694                    0                     1  \n",
       "145627026                    0                     0  \n",
       "145636374                    0                     1  \n",
       "\n",
       "[1227022 rows x 85 columns]"
      ]
     },
     "execution_count": 48,
     "metadata": {},
     "output_type": "execute_result"
    }
   ],
   "source": [
    "features"
   ]
  },
  {
   "cell_type": "code",
   "execution_count": 65,
   "metadata": {},
   "outputs": [],
   "source": [
    "coefs = pd.DataFrame(logr.coef_.T, index=features.columns)"
   ]
  },
  {
   "cell_type": "code",
   "execution_count": 66,
   "metadata": {},
   "outputs": [
    {
     "data": {
      "text/html": [
       "<div>\n",
       "<style scoped>\n",
       "    .dataframe tbody tr th:only-of-type {\n",
       "        vertical-align: middle;\n",
       "    }\n",
       "\n",
       "    .dataframe tbody tr th {\n",
       "        vertical-align: top;\n",
       "    }\n",
       "\n",
       "    .dataframe thead th {\n",
       "        text-align: right;\n",
       "    }\n",
       "</style>\n",
       "<table border=\"1\" class=\"dataframe\">\n",
       "  <thead>\n",
       "    <tr style=\"text-align: right;\">\n",
       "      <th></th>\n",
       "      <th>0</th>\n",
       "    </tr>\n",
       "  </thead>\n",
       "  <tbody>\n",
       "    <tr>\n",
       "      <th>annual_inc</th>\n",
       "      <td>2.563942e-06</td>\n",
       "    </tr>\n",
       "    <tr>\n",
       "      <th>application_type</th>\n",
       "      <td>-1.257408e-06</td>\n",
       "    </tr>\n",
       "    <tr>\n",
       "      <th>disbursement_method</th>\n",
       "      <td>8.360577e-06</td>\n",
       "    </tr>\n",
       "    <tr>\n",
       "      <th>dti</th>\n",
       "      <td>-2.084417e-02</td>\n",
       "    </tr>\n",
       "    <tr>\n",
       "      <th>emp_length</th>\n",
       "      <td>1.657573e-03</td>\n",
       "    </tr>\n",
       "    <tr>\n",
       "      <th>...</th>\n",
       "      <td>...</td>\n",
       "    </tr>\n",
       "    <tr>\n",
       "      <th>home_ownership__ANY</th>\n",
       "      <td>-2.192562e-06</td>\n",
       "    </tr>\n",
       "    <tr>\n",
       "      <th>home_ownership__NONE</th>\n",
       "      <td>1.594699e-07</td>\n",
       "    </tr>\n",
       "    <tr>\n",
       "      <th>home_ownership__OTHER</th>\n",
       "      <td>5.804069e-07</td>\n",
       "    </tr>\n",
       "    <tr>\n",
       "      <th>home_ownership__OWN</th>\n",
       "      <td>-4.647018e-05</td>\n",
       "    </tr>\n",
       "    <tr>\n",
       "      <th>home_ownership__RENT</th>\n",
       "      <td>-1.040227e-03</td>\n",
       "    </tr>\n",
       "  </tbody>\n",
       "</table>\n",
       "<p>85 rows × 1 columns</p>\n",
       "</div>"
      ],
      "text/plain": [
       "                                  0\n",
       "annual_inc             2.563942e-06\n",
       "application_type      -1.257408e-06\n",
       "disbursement_method    8.360577e-06\n",
       "dti                   -2.084417e-02\n",
       "emp_length             1.657573e-03\n",
       "...                             ...\n",
       "home_ownership__ANY   -2.192562e-06\n",
       "home_ownership__NONE   1.594699e-07\n",
       "home_ownership__OTHER  5.804069e-07\n",
       "home_ownership__OWN   -4.647018e-05\n",
       "home_ownership__RENT  -1.040227e-03\n",
       "\n",
       "[85 rows x 1 columns]"
      ]
     },
     "execution_count": 66,
     "metadata": {},
     "output_type": "execute_result"
    }
   ],
   "source": [
    "coefs"
   ]
  },
  {
   "cell_type": "markdown",
   "metadata": {},
   "source": [
    "### GridsearchCV"
   ]
  },
  {
   "cell_type": "code",
   "execution_count": 15,
   "metadata": {},
   "outputs": [],
   "source": [
    "Cs = [0.0001,0.01,1,10]\n",
    "# cv = KFold(n_splits=5, shuffle=True)"
   ]
  },
  {
   "cell_type": "code",
   "execution_count": 16,
   "metadata": {},
   "outputs": [
    {
     "data": {
      "text/plain": [
       "{'C': 1.0,\n",
       " 'class_weight': None,\n",
       " 'dual': False,\n",
       " 'fit_intercept': True,\n",
       " 'intercept_scaling': 1,\n",
       " 'l1_ratio': None,\n",
       " 'max_iter': 100,\n",
       " 'multi_class': 'auto',\n",
       " 'n_jobs': None,\n",
       " 'penalty': 'l2',\n",
       " 'random_state': None,\n",
       " 'solver': 'lbfgs',\n",
       " 'tol': 0.0001,\n",
       " 'verbose': 0,\n",
       " 'warm_start': False}"
      ]
     },
     "execution_count": 16,
     "metadata": {},
     "output_type": "execute_result"
    }
   ],
   "source": [
    "logr.get_params()"
   ]
  },
  {
   "cell_type": "markdown",
   "metadata": {},
   "source": [
    "#### this gridsearch will take over 3 hours to run.  'solver: liblinear' may be the cause"
   ]
  },
  {
   "cell_type": "code",
   "execution_count": 70,
   "metadata": {},
   "outputs": [],
   "source": [
    "cv = StratifiedKFold(n_splits=5, shuffle=True)\n",
    "# cv = KFold(n_splits=5, shuffle=True)\n",
    "Cs = np.linspace(0.0001,1000,100)\n",
    "params = [{'C':Cs, 'class_weight':['balanced', 'auto'], 'penalty':['l1','l2'], 'solver':['lbfgs','liblinear']}]\n",
    "grid_logr = GridSearchCV(estimator=logr, param_grid=params, cv=cv, return_train_score=False)"
   ]
  },
  {
   "cell_type": "code",
   "execution_count": 17,
   "metadata": {},
   "outputs": [],
   "source": [
    "params = [{'C':Cs}]\n",
    "grid_logr = GridSearchCV(estimator=logr, param_grid=params)"
   ]
  },
  {
   "cell_type": "code",
   "execution_count": 71,
   "metadata": {},
   "outputs": [
    {
     "name": "stdout",
     "output_type": "stream",
     "text": [
      "Wall time: 3h 39min 22s\n"
     ]
    },
    {
     "data": {
      "text/plain": [
       "GridSearchCV(cv=StratifiedKFold(n_splits=5, random_state=None, shuffle=True),\n",
       "             estimator=LogisticRegression(),\n",
       "             param_grid=[{'C': array([1.00000000e-04, 1.01011091e+01, 2.02021182e+01, 3.03031273e+01,\n",
       "       4.04041364e+01, 5.05051455e+01, 6.06061545e+01, 7.07071636e+01,\n",
       "       8.08081727e+01, 9.09091818e+01, 1.01010191e+02, 1.11111200e+02,\n",
       "       1.21212209e+02, 1.31313218e+02, 1.41414227...\n",
       "       8.08080827e+02, 8.18181836e+02, 8.28282845e+02, 8.38383855e+02,\n",
       "       8.48484864e+02, 8.58585873e+02, 8.68686882e+02, 8.78787891e+02,\n",
       "       8.88888900e+02, 8.98989909e+02, 9.09090918e+02, 9.19191927e+02,\n",
       "       9.29292936e+02, 9.39393945e+02, 9.49494955e+02, 9.59595964e+02,\n",
       "       9.69696973e+02, 9.79797982e+02, 9.89898991e+02, 1.00000000e+03]),\n",
       "                          'class_weight': ['balanced', 'auto'],\n",
       "                          'penalty': ['l1', 'l2'],\n",
       "                          'solver': ['lbfgs', 'liblinear']}])"
      ]
     },
     "execution_count": 71,
     "metadata": {},
     "output_type": "execute_result"
    }
   ],
   "source": [
    "%%time\n",
    "grid_logr.fit(Xtrain, ytrain)"
   ]
  },
  {
   "cell_type": "code",
   "execution_count": 73,
   "metadata": {},
   "outputs": [
    {
     "name": "stdout",
     "output_type": "stream",
     "text": [
      "{'C': 90.90918181818182, 'class_weight': 'auto', 'penalty': 'l2', 'solver': 'lbfgs'}\n",
      "0.8122035432812119\n"
     ]
    }
   ],
   "source": [
    "print(grid_logr.best_params_)\n",
    "print(grid_logr.best_score_)"
   ]
  },
  {
   "cell_type": "code",
   "execution_count": 74,
   "metadata": {},
   "outputs": [],
   "source": [
    "best_model = grid_logr.best_estimator_"
   ]
  },
  {
   "cell_type": "code",
   "execution_count": 75,
   "metadata": {},
   "outputs": [
    {
     "data": {
      "text/plain": [
       "0.8125090553462765"
      ]
     },
     "execution_count": 75,
     "metadata": {},
     "output_type": "execute_result"
    }
   ],
   "source": [
    "best_model.score(Xtest,ytest)"
   ]
  },
  {
   "cell_type": "markdown",
   "metadata": {},
   "source": [
    "### Confusion Matrix"
   ]
  },
  {
   "cell_type": "code",
   "execution_count": 76,
   "metadata": {},
   "outputs": [
    {
     "data": {
      "text/plain": [
       "array([[  7711, 221677],\n",
       "       [  8422, 989212]], dtype=int64)"
      ]
     },
     "execution_count": 76,
     "metadata": {},
     "output_type": "execute_result"
    }
   ],
   "source": [
    "from sklearn.metrics import confusion_matrix\n",
    "confusion_matrix(target, best_model.predict(features))"
   ]
  },
  {
   "cell_type": "code",
   "execution_count": 77,
   "metadata": {},
   "outputs": [
    {
     "data": {
      "text/plain": [
       "(1227022,)"
      ]
     },
     "execution_count": 77,
     "metadata": {},
     "output_type": "execute_result"
    }
   ],
   "source": [
    "target.shape"
   ]
  },
  {
   "cell_type": "code",
   "execution_count": 78,
   "metadata": {},
   "outputs": [
    {
     "data": {
      "text/html": [
       "<div>\n",
       "<style scoped>\n",
       "    .dataframe tbody tr th:only-of-type {\n",
       "        vertical-align: middle;\n",
       "    }\n",
       "\n",
       "    .dataframe tbody tr th {\n",
       "        vertical-align: top;\n",
       "    }\n",
       "\n",
       "    .dataframe thead th {\n",
       "        text-align: right;\n",
       "    }\n",
       "</style>\n",
       "<table border=\"1\" class=\"dataframe\">\n",
       "  <thead>\n",
       "    <tr style=\"text-align: right;\">\n",
       "      <th></th>\n",
       "      <th>Pred_0</th>\n",
       "      <th>Pred_1</th>\n",
       "    </tr>\n",
       "  </thead>\n",
       "  <tbody>\n",
       "    <tr>\n",
       "      <th>True_0</th>\n",
       "      <td>7711</td>\n",
       "      <td>221677</td>\n",
       "    </tr>\n",
       "    <tr>\n",
       "      <th>True_1</th>\n",
       "      <td>8422</td>\n",
       "      <td>989212</td>\n",
       "    </tr>\n",
       "  </tbody>\n",
       "</table>\n",
       "</div>"
      ],
      "text/plain": [
       "        Pred_0  Pred_1\n",
       "True_0    7711  221677\n",
       "True_1    8422  989212"
      ]
     },
     "execution_count": 78,
     "metadata": {},
     "output_type": "execute_result"
    }
   ],
   "source": [
    "cmat = confusion_matrix(target,best_model.predict(features))\n",
    "\n",
    "#Label the confusion matrix\n",
    "pd.DataFrame(cmat, columns = [f'Pred_{lab}' for lab in best_model.classes_],\n",
    "             index = [f'True_{lab}' for lab in best_model.classes_])\n"
   ]
  },
  {
   "cell_type": "code",
   "execution_count": 79,
   "metadata": {},
   "outputs": [
    {
     "data": {
      "text/plain": [
       "array([0, 1])"
      ]
     },
     "execution_count": 79,
     "metadata": {},
     "output_type": "execute_result"
    }
   ],
   "source": [
    "best_model.classes_"
   ]
  },
  {
   "cell_type": "code",
   "execution_count": 80,
   "metadata": {},
   "outputs": [
    {
     "data": {
      "text/plain": [
       "1    997634\n",
       "0    229388\n",
       "Name: loan_status, dtype: int64"
      ]
     },
     "execution_count": 80,
     "metadata": {},
     "output_type": "execute_result"
    }
   ],
   "source": [
    "target.value_counts()"
   ]
  },
  {
   "cell_type": "markdown",
   "metadata": {},
   "source": [
    "### SGD classifier"
   ]
  },
  {
   "cell_type": "code",
   "execution_count": null,
   "metadata": {},
   "outputs": [],
   "source": []
  },
  {
   "cell_type": "markdown",
   "metadata": {},
   "source": [
    "### Save model in pickle"
   ]
  },
  {
   "cell_type": "code",
   "execution_count": 222,
   "metadata": {},
   "outputs": [
    {
     "ename": "NameError",
     "evalue": "name 'pickle' is not defined",
     "output_type": "error",
     "traceback": [
      "\u001b[1;31m---------------------------------------------------------------------------\u001b[0m",
      "\u001b[1;31mNameError\u001b[0m                                 Traceback (most recent call last)",
      "\u001b[1;32m<ipython-input-222-f2acc63ff8ec>\u001b[0m in \u001b[0;36m<module>\u001b[1;34m\u001b[0m\n\u001b[0;32m      1\u001b[0m \u001b[0mfilename\u001b[0m \u001b[1;33m=\u001b[0m \u001b[1;34m'grid_logr_model.sav'\u001b[0m\u001b[1;33m\u001b[0m\u001b[1;33m\u001b[0m\u001b[0m\n\u001b[1;32m----> 2\u001b[1;33m \u001b[0mpickle\u001b[0m\u001b[1;33m.\u001b[0m\u001b[0mdump\u001b[0m\u001b[1;33m(\u001b[0m\u001b[0mgrid_logr\u001b[0m\u001b[1;33m,\u001b[0m \u001b[0mopen\u001b[0m\u001b[1;33m(\u001b[0m\u001b[0mfilename\u001b[0m\u001b[1;33m,\u001b[0m \u001b[1;34m'wb'\u001b[0m\u001b[1;33m)\u001b[0m\u001b[1;33m)\u001b[0m\u001b[1;33m\u001b[0m\u001b[1;33m\u001b[0m\u001b[0m\n\u001b[0m",
      "\u001b[1;31mNameError\u001b[0m: name 'pickle' is not defined"
     ]
    }
   ],
   "source": [
    "filename = 'grid_logr_model.sav'\n",
    "pickle.dump(grid_logr, open(filename, 'wb'))"
   ]
  },
  {
   "cell_type": "code",
   "execution_count": null,
   "metadata": {},
   "outputs": [],
   "source": [
    "loaded_model = pickle.load(open(filename, 'rb'))\n",
    "result = loaded_model.score(Xtest, ytest)\n",
    "print(result)"
   ]
  },
  {
   "cell_type": "code",
   "execution_count": null,
   "metadata": {},
   "outputs": [],
   "source": []
  },
  {
   "cell_type": "code",
   "execution_count": null,
   "metadata": {},
   "outputs": [],
   "source": []
  },
  {
   "cell_type": "code",
   "execution_count": null,
   "metadata": {},
   "outputs": [],
   "source": []
  },
  {
   "cell_type": "code",
   "execution_count": null,
   "metadata": {},
   "outputs": [],
   "source": []
  },
  {
   "cell_type": "code",
   "execution_count": null,
   "metadata": {},
   "outputs": [],
   "source": []
  },
  {
   "cell_type": "code",
   "execution_count": null,
   "metadata": {},
   "outputs": [],
   "source": []
  },
  {
   "cell_type": "code",
   "execution_count": null,
   "metadata": {},
   "outputs": [],
   "source": []
  },
  {
   "cell_type": "code",
   "execution_count": null,
   "metadata": {},
   "outputs": [],
   "source": []
  },
  {
   "cell_type": "code",
   "execution_count": null,
   "metadata": {},
   "outputs": [],
   "source": []
  },
  {
   "cell_type": "code",
   "execution_count": 167,
   "metadata": {},
   "outputs": [
    {
     "name": "stdout",
     "output_type": "stream",
     "text": [
      "<class 'pandas.core.frame.DataFrame'>\n",
      "Int64Index: 1227022 entries, 54734 to 145636374\n",
      "Data columns (total 87 columns):\n",
      " #   Column                     Non-Null Count    Dtype          \n",
      "---  ------                     --------------    -----          \n",
      " 0   annual_inc                 1227022 non-null  float64        \n",
      " 1   application_type           1227022 non-null  int64          \n",
      " 2   disbursement_method        1227022 non-null  int64          \n",
      " 3   dti                        1227022 non-null  float64        \n",
      " 4   emp_length                 1227022 non-null  int32          \n",
      " 5   fico_range_high            1227022 non-null  float64        \n",
      " 6   fico_range_low             1227022 non-null  float64        \n",
      " 7   initial_list_status        1227022 non-null  int64          \n",
      " 8   installment                1227022 non-null  float64        \n",
      " 9   int_rate                   1227022 non-null  float64        \n",
      " 10  loan_amnt                  1227022 non-null  float64        \n",
      " 11  open_acc                   1227022 non-null  float64        \n",
      " 12  pub_rec                    1227022 non-null  float64        \n",
      " 13  pub_rec_bankruptcies       1227022 non-null  float64        \n",
      " 14  sub_grade                  1227022 non-null  int64          \n",
      " 15  term                       1227022 non-null  int32          \n",
      " 16  verification_status        1227022 non-null  int64          \n",
      " 17  loan_status                1227022 non-null  int32          \n",
      " 18  days_cr_line               1227022 non-null  timedelta64[ns]\n",
      " 19  purpose__car               1227022 non-null  uint8          \n",
      " 20  purpose__credit_card       1227022 non-null  uint8          \n",
      " 21  purpose__educational       1227022 non-null  uint8          \n",
      " 22  purpose__home_improvement  1227022 non-null  uint8          \n",
      " 23  purpose__house             1227022 non-null  uint8          \n",
      " 24  purpose__major_purchase    1227022 non-null  uint8          \n",
      " 25  purpose__medical           1227022 non-null  uint8          \n",
      " 26  purpose__moving            1227022 non-null  uint8          \n",
      " 27  purpose__other             1227022 non-null  uint8          \n",
      " 28  purpose__renewable_energy  1227022 non-null  uint8          \n",
      " 29  purpose__small_business    1227022 non-null  uint8          \n",
      " 30  purpose__vacation          1227022 non-null  uint8          \n",
      " 31  purpose__wedding           1227022 non-null  uint8          \n",
      " 32  addr_state__AK             1227022 non-null  uint8          \n",
      " 33  addr_state__AL             1227022 non-null  uint8          \n",
      " 34  addr_state__AR             1227022 non-null  uint8          \n",
      " 35  addr_state__AZ             1227022 non-null  uint8          \n",
      " 36  addr_state__CO             1227022 non-null  uint8          \n",
      " 37  addr_state__CT             1227022 non-null  uint8          \n",
      " 38  addr_state__DC             1227022 non-null  uint8          \n",
      " 39  addr_state__DE             1227022 non-null  uint8          \n",
      " 40  addr_state__FL             1227022 non-null  uint8          \n",
      " 41  addr_state__GA             1227022 non-null  uint8          \n",
      " 42  addr_state__HI             1227022 non-null  uint8          \n",
      " 43  addr_state__IA             1227022 non-null  uint8          \n",
      " 44  addr_state__ID             1227022 non-null  uint8          \n",
      " 45  addr_state__IL             1227022 non-null  uint8          \n",
      " 46  addr_state__IN             1227022 non-null  uint8          \n",
      " 47  addr_state__KS             1227022 non-null  uint8          \n",
      " 48  addr_state__KY             1227022 non-null  uint8          \n",
      " 49  addr_state__LA             1227022 non-null  uint8          \n",
      " 50  addr_state__MA             1227022 non-null  uint8          \n",
      " 51  addr_state__MD             1227022 non-null  uint8          \n",
      " 52  addr_state__ME             1227022 non-null  uint8          \n",
      " 53  addr_state__MI             1227022 non-null  uint8          \n",
      " 54  addr_state__MN             1227022 non-null  uint8          \n",
      " 55  addr_state__MO             1227022 non-null  uint8          \n",
      " 56  addr_state__MS             1227022 non-null  uint8          \n",
      " 57  addr_state__MT             1227022 non-null  uint8          \n",
      " 58  addr_state__NC             1227022 non-null  uint8          \n",
      " 59  addr_state__ND             1227022 non-null  uint8          \n",
      " 60  addr_state__NE             1227022 non-null  uint8          \n",
      " 61  addr_state__NH             1227022 non-null  uint8          \n",
      " 62  addr_state__NJ             1227022 non-null  uint8          \n",
      " 63  addr_state__NM             1227022 non-null  uint8          \n",
      " 64  addr_state__NV             1227022 non-null  uint8          \n",
      " 65  addr_state__NY             1227022 non-null  uint8          \n",
      " 66  addr_state__OH             1227022 non-null  uint8          \n",
      " 67  addr_state__OK             1227022 non-null  uint8          \n",
      " 68  addr_state__OR             1227022 non-null  uint8          \n",
      " 69  addr_state__PA             1227022 non-null  uint8          \n",
      " 70  addr_state__RI             1227022 non-null  uint8          \n",
      " 71  addr_state__SC             1227022 non-null  uint8          \n",
      " 72  addr_state__SD             1227022 non-null  uint8          \n",
      " 73  addr_state__TN             1227022 non-null  uint8          \n",
      " 74  addr_state__TX             1227022 non-null  uint8          \n",
      " 75  addr_state__UT             1227022 non-null  uint8          \n",
      " 76  addr_state__VA             1227022 non-null  uint8          \n",
      " 77  addr_state__VT             1227022 non-null  uint8          \n",
      " 78  addr_state__WA             1227022 non-null  uint8          \n",
      " 79  addr_state__WI             1227022 non-null  uint8          \n",
      " 80  addr_state__WV             1227022 non-null  uint8          \n",
      " 81  addr_state__WY             1227022 non-null  uint8          \n",
      " 82  home_ownership__ANY        1227022 non-null  uint8          \n",
      " 83  home_ownership__NONE       1227022 non-null  uint8          \n",
      " 84  home_ownership__OTHER      1227022 non-null  uint8          \n",
      " 85  home_ownership__OWN        1227022 non-null  uint8          \n",
      " 86  home_ownership__RENT       1227022 non-null  uint8          \n",
      "dtypes: float64(10), int32(3), int64(5), timedelta64[ns](1), uint8(68)\n",
      "memory usage: 252.8 MB\n"
     ]
    }
   ],
   "source": [
    "df.info(verbose=True, null_counts=True)"
   ]
  },
  {
   "cell_type": "code",
   "execution_count": null,
   "metadata": {},
   "outputs": [],
   "source": []
  },
  {
   "cell_type": "code",
   "execution_count": null,
   "metadata": {},
   "outputs": [],
   "source": []
  },
  {
   "cell_type": "code",
   "execution_count": null,
   "metadata": {},
   "outputs": [],
   "source": []
  },
  {
   "cell_type": "code",
   "execution_count": null,
   "metadata": {},
   "outputs": [],
   "source": []
  },
  {
   "cell_type": "code",
   "execution_count": null,
   "metadata": {},
   "outputs": [],
   "source": []
  },
  {
   "cell_type": "code",
   "execution_count": 141,
   "metadata": {},
   "outputs": [
    {
     "data": {
      "text/plain": [
       "2016-03-01    43872\n",
       "2015-10-01    39389\n",
       "2015-07-01    37620\n",
       "2015-12-01    35545\n",
       "2014-10-01    33141\n",
       "              ...  \n",
       "2008-01-01        6\n",
       "2007-11-01        2\n",
       "2007-12-01        2\n",
       "2007-08-01        2\n",
       "2007-10-01        1\n",
       "Name: issue_d, Length: 136, dtype: int64"
      ]
     },
     "execution_count": 141,
     "metadata": {},
     "output_type": "execute_result"
    }
   ],
   "source": [
    "df.earliest_cr_line.value_counts()"
   ]
  },
  {
   "cell_type": "code",
   "execution_count": null,
   "metadata": {},
   "outputs": [],
   "source": []
  },
  {
   "cell_type": "code",
   "execution_count": null,
   "metadata": {},
   "outputs": [],
   "source": []
  },
  {
   "cell_type": "code",
   "execution_count": 98,
   "metadata": {},
   "outputs": [],
   "source": [
    "df.verification_status.replace({'Source Verified':'Verified'},inplace=True)\n",
    "df.verification_status.replace({'Not Verified':0,'Verified':1}, inplace=True)"
   ]
  },
  {
   "cell_type": "code",
   "execution_count": 101,
   "metadata": {},
   "outputs": [
    {
     "data": {
      "text/plain": [
       "w    764845\n",
       "f    538238\n",
       "Name: initial_list_status, dtype: int64"
      ]
     },
     "execution_count": 101,
     "metadata": {},
     "output_type": "execute_result"
    }
   ],
   "source": [
    "df.initial_list_status.value_counts()"
   ]
  },
  {
   "cell_type": "code",
   "execution_count": 99,
   "metadata": {},
   "outputs": [
    {
     "data": {
      "text/plain": [
       "1    901856\n",
       "0    401227\n",
       "Name: verification_status, dtype: int64"
      ]
     },
     "execution_count": 99,
     "metadata": {},
     "output_type": "execute_result"
    }
   ],
   "source": [
    "df.verification_status.value_counts()"
   ]
  },
  {
   "cell_type": "code",
   "execution_count": null,
   "metadata": {},
   "outputs": [],
   "source": []
  },
  {
   "cell_type": "code",
   "execution_count": null,
   "metadata": {},
   "outputs": [],
   "source": []
  },
  {
   "cell_type": "code",
   "execution_count": null,
   "metadata": {},
   "outputs": [],
   "source": []
  },
  {
   "cell_type": "code",
   "execution_count": null,
   "metadata": {},
   "outputs": [],
   "source": []
  },
  {
   "cell_type": "code",
   "execution_count": null,
   "metadata": {},
   "outputs": [],
   "source": []
  },
  {
   "cell_type": "code",
   "execution_count": null,
   "metadata": {},
   "outputs": [],
   "source": []
  },
  {
   "cell_type": "code",
   "execution_count": null,
   "metadata": {},
   "outputs": [],
   "source": []
  },
  {
   "cell_type": "code",
   "execution_count": null,
   "metadata": {},
   "outputs": [],
   "source": []
  },
  {
   "cell_type": "code",
   "execution_count": null,
   "metadata": {},
   "outputs": [],
   "source": []
  },
  {
   "cell_type": "markdown",
   "metadata": {},
   "source": [
    "#### good practice prob for later"
   ]
  },
  {
   "cell_type": "code",
   "execution_count": 59,
   "metadata": {},
   "outputs": [],
   "source": [
    "a=df['sub_grade'].unique()"
   ]
  },
  {
   "cell_type": "code",
   "execution_count": 51,
   "metadata": {},
   "outputs": [
    {
     "name": "stdout",
     "output_type": "stream",
     "text": [
      "['A1', 'A2', 'A3', 'A4', 'A5', 'B1', 'B2', 'B3', 'B4', 'B5', 'C1', 'C2', 'C3', 'C4', 'C5', 'D1', 'D2', 'D3', 'D4', 'D5', 'E1', 'E2', 'E3', 'E4', 'E5']\n"
     ]
    }
   ],
   "source": [
    "print(sorted(a))"
   ]
  },
  {
   "cell_type": "code",
   "execution_count": 62,
   "metadata": {},
   "outputs": [],
   "source": [
    "a.sort(axis=0)"
   ]
  },
  {
   "cell_type": "code",
   "execution_count": 75,
   "metadata": {},
   "outputs": [],
   "source": [
    "grade=[]\n",
    "\n",
    "for i in range(len(a)):\n",
    "    b=a[i]+':'+str(i+1)\n",
    "    grade.append(b)"
   ]
  },
  {
   "cell_type": "code",
   "execution_count": 76,
   "metadata": {},
   "outputs": [
    {
     "data": {
      "text/plain": [
       "['A1:1',\n",
       " 'A2:2',\n",
       " 'A3:3',\n",
       " 'A4:4',\n",
       " 'A5:5',\n",
       " 'B1:6',\n",
       " 'B2:7',\n",
       " 'B3:8',\n",
       " 'B4:9',\n",
       " 'B5:10',\n",
       " 'C1:11',\n",
       " 'C2:12',\n",
       " 'C3:13',\n",
       " 'C4:14',\n",
       " 'C5:15',\n",
       " 'D1:16',\n",
       " 'D2:17',\n",
       " 'D3:18',\n",
       " 'D4:19',\n",
       " 'D5:20',\n",
       " 'E1:21',\n",
       " 'E2:22',\n",
       " 'E3:23',\n",
       " 'E4:24',\n",
       " 'E5:25']"
      ]
     },
     "execution_count": 76,
     "metadata": {},
     "output_type": "execute_result"
    }
   ],
   "source": [
    "grade"
   ]
  },
  {
   "cell_type": "raw",
   "metadata": {},
   "source": [
    "a[1]+':'"
   ]
  },
  {
   "cell_type": "code",
   "execution_count": 11,
   "metadata": {},
   "outputs": [
    {
     "data": {
      "text/plain": [
       "(1303083, 26)"
      ]
     },
     "execution_count": 11,
     "metadata": {},
     "output_type": "execute_result"
    }
   ],
   "source": [
    "df.shape"
   ]
  },
  {
   "cell_type": "code",
   "execution_count": 13,
   "metadata": {
    "scrolled": false
   },
   "outputs": [
    {
     "data": {
      "text/plain": [
       "['addr_state',\n",
       " 'annual_inc',\n",
       " 'application_type',\n",
       " 'disbursement_method',\n",
       " 'dti',\n",
       " 'earliest_cr_line',\n",
       " 'emp_length',\n",
       " 'emp_title',\n",
       " 'fico_range_high',\n",
       " 'fico_range_low',\n",
       " 'grade',\n",
       " 'home_ownership',\n",
       " 'initial_list_status',\n",
       " 'installment',\n",
       " 'int_rate',\n",
       " 'issue_d',\n",
       " 'loan_amnt',\n",
       " 'open_acc',\n",
       " 'pub_rec',\n",
       " 'pub_rec_bankruptcies',\n",
       " 'purpose',\n",
       " 'sub_grade',\n",
       " 'term',\n",
       " 'verification_status',\n",
       " 'zip_code',\n",
       " 'loan_status']"
      ]
     },
     "execution_count": 13,
     "metadata": {},
     "output_type": "execute_result"
    }
   ],
   "source": [
    "columns = list(df.columns)\n",
    "columns"
   ]
  },
  {
   "cell_type": "code",
   "execution_count": null,
   "metadata": {},
   "outputs": [],
   "source": []
  },
  {
   "cell_type": "code",
   "execution_count": 14,
   "metadata": {},
   "outputs": [
    {
     "name": "stdout",
     "output_type": "stream",
     "text": [
      "<class 'pandas.core.frame.DataFrame'>\n",
      "Int64Index: 1303083 entries, 54734 to 145636374\n",
      "Data columns (total 26 columns):\n",
      " #   Column                Non-Null Count    Dtype         \n",
      "---  ------                --------------    -----         \n",
      " 0   addr_state            1303083 non-null  object        \n",
      " 1   annual_inc            1303083 non-null  float64       \n",
      " 2   application_type      1303083 non-null  object        \n",
      " 3   disbursement_method   1303083 non-null  object        \n",
      " 4   dti                   1303083 non-null  float64       \n",
      " 5   earliest_cr_line      1303083 non-null  datetime64[ns]\n",
      " 6   emp_length            1303083 non-null  int32         \n",
      " 7   emp_title             1220038 non-null  object        \n",
      " 8   fico_range_high       1303083 non-null  float64       \n",
      " 9   fico_range_low        1303083 non-null  float64       \n",
      " 10  grade                 1303083 non-null  object        \n",
      " 11  home_ownership        1303083 non-null  object        \n",
      " 12  initial_list_status   1303083 non-null  object        \n",
      " 13  installment           1303083 non-null  float64       \n",
      " 14  int_rate              1303083 non-null  float64       \n",
      " 15  issue_d               1303083 non-null  datetime64[ns]\n",
      " 16  loan_amnt             1303083 non-null  float64       \n",
      " 17  open_acc              1303083 non-null  float64       \n",
      " 18  pub_rec               1303083 non-null  float64       \n",
      " 19  pub_rec_bankruptcies  1303083 non-null  float64       \n",
      " 20  purpose               1303083 non-null  object        \n",
      " 21  sub_grade             1303083 non-null  object        \n",
      " 22  term                  1303083 non-null  int32         \n",
      " 23  verification_status   1303083 non-null  object        \n",
      " 24  zip_code              1303082 non-null  object        \n",
      " 25  loan_status           1303083 non-null  int32         \n",
      "dtypes: datetime64[ns](2), float64(10), int32(3), object(11)\n",
      "memory usage: 253.5+ MB\n"
     ]
    }
   ],
   "source": [
    "df.info(verbose=True, null_counts=True)"
   ]
  },
  {
   "cell_type": "code",
   "execution_count": 15,
   "metadata": {},
   "outputs": [
    {
     "data": {
      "text/plain": [
       "zip_code         1\n",
       "emp_title    83045\n",
       "dtype: int64"
      ]
     },
     "execution_count": 15,
     "metadata": {},
     "output_type": "execute_result"
    },
    {
     "data": {
      "image/png": "[encoded data removed]",
      "text/plain": [
       "<Figure size 432x288 with 1 Axes>"
      ]
     },
     "metadata": {
      "needs_background": "light"
     },
     "output_type": "display_data"
    }
   ],
   "source": [
    "missing = df.isnull().sum()\n",
    "missing = missing[missing > 0]\n",
    "missing.sort_values(inplace=True)\n",
    "missing.plot.bar()\n",
    "missing"
   ]
  },
  {
   "cell_type": "code",
   "execution_count": 26,
   "metadata": {},
   "outputs": [
    {
     "data": {
      "text/plain": [
       "C1    85416\n",
       "B4    83138\n",
       "B5    82476\n",
       "B3    81772\n",
       "C2    79148\n",
       "C3    74938\n",
       "C4    74357\n",
       "B2    73965\n",
       "B1    71090\n",
       "C5    67508\n",
       "A5    63962\n",
       "A4    52196\n",
       "D1    51282\n",
       "D2    44809\n",
       "A1    43662\n",
       "D3    39281\n",
       "A3    37951\n",
       "A2    37141\n",
       "D4    35533\n",
       "D5    29871\n",
       "E1    23732\n",
       "E2    21366\n",
       "E3    18377\n",
       "E4    15704\n",
       "E5    14408\n",
       "Name: sub_grade, dtype: int64"
      ]
     },
     "execution_count": 26,
     "metadata": {},
     "output_type": "execute_result"
    }
   ],
   "source": [
    "approved.sub_grade.value_counts()"
   ]
  },
  {
   "cell_type": "code",
   "execution_count": 16,
   "metadata": {},
   "outputs": [
    {
     "data": {
      "text/plain": [
       "[0.8086591567843338, 0.19134084321566625]"
      ]
     },
     "execution_count": 16,
     "metadata": {},
     "output_type": "execute_result"
    }
   ],
   "source": [
    "# df.loan_status.hist()\n",
    "total = df.shape[0]\n",
    "pct=[]\n",
    "for i in approved.loan_status.value_counts():\n",
    "    pct.append(i/df.shape[0])\n",
    "pct"
   ]
  },
  {
   "cell_type": "code",
   "execution_count": 17,
   "metadata": {},
   "outputs": [
    {
     "data": {
      "text/html": [
       "<div>\n",
       "<style scoped>\n",
       "    .dataframe tbody tr th:only-of-type {\n",
       "        vertical-align: middle;\n",
       "    }\n",
       "\n",
       "    .dataframe tbody tr th {\n",
       "        vertical-align: top;\n",
       "    }\n",
       "\n",
       "    .dataframe thead th {\n",
       "        text-align: right;\n",
       "    }\n",
       "</style>\n",
       "<table border=\"1\" class=\"dataframe\">\n",
       "  <thead>\n",
       "    <tr style=\"text-align: right;\">\n",
       "      <th></th>\n",
       "      <th>zip_code</th>\n",
       "      <th>emp_title</th>\n",
       "    </tr>\n",
       "  </thead>\n",
       "  <tbody>\n",
       "    <tr>\n",
       "      <th>count</th>\n",
       "      <td>1303082</td>\n",
       "      <td>1220038</td>\n",
       "    </tr>\n",
       "    <tr>\n",
       "      <th>unique</th>\n",
       "      <td>943</td>\n",
       "      <td>368008</td>\n",
       "    </tr>\n",
       "    <tr>\n",
       "      <th>top</th>\n",
       "      <td>945xx</td>\n",
       "      <td>Teacher</td>\n",
       "    </tr>\n",
       "    <tr>\n",
       "      <th>freq</th>\n",
       "      <td>14555</td>\n",
       "      <td>20749</td>\n",
       "    </tr>\n",
       "  </tbody>\n",
       "</table>\n",
       "</div>"
      ],
      "text/plain": [
       "       zip_code emp_title\n",
       "count   1303082   1220038\n",
       "unique      943    368008\n",
       "top       945xx   Teacher\n",
       "freq      14555     20749"
      ]
     },
     "execution_count": 17,
     "metadata": {},
     "output_type": "execute_result"
    }
   ],
   "source": [
    "missing_list = [i for i in missing.index]\n",
    "df[missing_list].describe()"
   ]
  },
  {
   "cell_type": "markdown",
   "metadata": {},
   "source": [
    "### Imputation"
   ]
  },
  {
   "cell_type": "code",
   "execution_count": 9,
   "metadata": {},
   "outputs": [],
   "source": [
    "#impute with mean\n",
    "df['mths_since_recent_bc'].fillna(np.mean(df.mths_since_recent_bc),inplace=True)\n",
    "df['mo_sin_old_il_acct'].fillna(np.mean(df.mo_sin_old_il_acct), inplace=True)\n",
    "df['mths_since_recent_inq'].fillna(np.mean(df.mths_since_recent_inq), inplace=True)\n",
    "\n",
    "#impute with o\n",
    "df['num_tl_120dpd_2m'].fillna(0, inplace=True)"
   ]
  },
  {
   "cell_type": "markdown",
   "metadata": {},
   "source": [
    "### Drop columns"
   ]
  },
  {
   "cell_type": "code",
   "execution_count": null,
   "metadata": {},
   "outputs": [],
   "source": [
    "df.drop(['mths_since_last_delinq','mths_since_last_major_derog','mths_since_recent_bc_dlq',\n",
    "         'mths_since_last_record','mths_since_rcnt_il'], axis=1, inplace=True)"
   ]
  },
  {
   "cell_type": "code",
   "execution_count": null,
   "metadata": {},
   "outputs": [],
   "source": []
  },
  {
   "cell_type": "code",
   "execution_count": 18,
   "metadata": {},
   "outputs": [
    {
     "data": {
      "text/plain": [
       "1    1\n",
       "Name: loan_status, dtype: int64"
      ]
     },
     "execution_count": 18,
     "metadata": {},
     "output_type": "execute_result"
    }
   ],
   "source": [
    "df1 = df.loc[df['zip_code'].isnull()]\n",
    "df1.loan_status.value_counts()"
   ]
  },
  {
   "cell_type": "code",
   "execution_count": 19,
   "metadata": {},
   "outputs": [
    {
     "data": {
      "text/plain": [
       "945xx    14555\n",
       "750xx    14029\n",
       "112xx    13339\n",
       "606xx    12090\n",
       "300xx    11699\n",
       "         ...  \n",
       "507xx        1\n",
       "205xx        1\n",
       "682xx        1\n",
       "429xx        1\n",
       "269xx        1\n",
       "Name: zip_code, Length: 943, dtype: int64"
      ]
     },
     "execution_count": 19,
     "metadata": {},
     "output_type": "execute_result"
    }
   ],
   "source": [
    "df.zip_code.value_counts()"
   ]
  }
 ],
 "metadata": {
  "kernelspec": {
   "display_name": "Python 3",
   "language": "python",
   "name": "python3"
  },
  "language_info": {
   "codemirror_mode": {
    "name": "ipython",
    "version": 3
   },
   "file_extension": ".py",
   "mimetype": "text/x-python",
   "name": "python",
   "nbconvert_exporter": "python",
   "pygments_lexer": "ipython3",
   "version": "3.8.5"
  }
 },
 "nbformat": 4,
 "nbformat_minor": 4
}
