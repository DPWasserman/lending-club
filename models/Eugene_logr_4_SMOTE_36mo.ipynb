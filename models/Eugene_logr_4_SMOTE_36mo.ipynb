{
 "cells": [
  {
   "cell_type": "markdown",
   "metadata": {},
   "source": [
    "### Model notes:\n",
    "- Only 36 mo product\n",
    "- Use SMOTE to upsample minority class and gridsearch\n",
    "\n",
    "#### Results:\n",
    "loan approval rate: 0.60\\\n",
    "precision pred_1: 0.90\\\n",
    "recall pred_1: 0.64"
   ]
  },
  {
   "cell_type": "code",
   "execution_count": 1,
   "metadata": {},
   "outputs": [],
   "source": [
    "#Installing imblearn\n",
    "#!pip install -U imbalanced-learn"
   ]
  },
  {
   "cell_type": "code",
   "execution_count": 2,
   "metadata": {},
   "outputs": [],
   "source": [
    "import pandas as pd\n",
    "import numpy as np\n",
    "import seaborn as sns\n",
    "import matplotlib.pyplot as plt\n",
    "%matplotlib inline\n",
    "import warnings\n",
    "warnings.filterwarnings('ignore')\n",
    "# pd.set_option('display.height', 500)\n",
    "pd.set_option('display.max_rows', 25)\n",
    "pd.set_option('display.max_columns', 50)"
   ]
  },
  {
   "cell_type": "code",
   "execution_count": 3,
   "metadata": {},
   "outputs": [
    {
     "name": "stdout",
     "output_type": "stream",
     "text": [
      "Wall time: 13 s\n"
     ]
    }
   ],
   "source": [
    "%%time\n",
    "df = pd.read_parquet('../data/approved.parquet', engine='fastparquet')"
   ]
  },
  {
   "cell_type": "code",
   "execution_count": 4,
   "metadata": {},
   "outputs": [
    {
     "data": {
      "text/html": [
       "<div>\n",
       "<style scoped>\n",
       "    .dataframe tbody tr th:only-of-type {\n",
       "        vertical-align: middle;\n",
       "    }\n",
       "\n",
       "    .dataframe tbody tr th {\n",
       "        vertical-align: top;\n",
       "    }\n",
       "\n",
       "    .dataframe thead th {\n",
       "        text-align: right;\n",
       "    }\n",
       "</style>\n",
       "<table border=\"1\" class=\"dataframe\">\n",
       "  <thead>\n",
       "    <tr style=\"text-align: right;\">\n",
       "      <th></th>\n",
       "      <th>addr_state</th>\n",
       "      <th>annual_inc</th>\n",
       "      <th>application_type</th>\n",
       "      <th>disbursement_method</th>\n",
       "      <th>dti</th>\n",
       "      <th>earliest_cr_line</th>\n",
       "      <th>emp_length</th>\n",
       "      <th>emp_title</th>\n",
       "      <th>fico_range_high</th>\n",
       "      <th>fico_range_low</th>\n",
       "      <th>grade</th>\n",
       "      <th>home_ownership</th>\n",
       "      <th>initial_list_status</th>\n",
       "      <th>installment</th>\n",
       "      <th>int_rate</th>\n",
       "      <th>issue_d</th>\n",
       "      <th>loan_amnt</th>\n",
       "      <th>open_acc</th>\n",
       "      <th>pub_rec</th>\n",
       "      <th>pub_rec_bankruptcies</th>\n",
       "      <th>purpose</th>\n",
       "      <th>sub_grade</th>\n",
       "      <th>term</th>\n",
       "      <th>verification_status</th>\n",
       "      <th>zip_code</th>\n",
       "      <th>loan_status</th>\n",
       "    </tr>\n",
       "    <tr>\n",
       "      <th>id</th>\n",
       "      <th></th>\n",
       "      <th></th>\n",
       "      <th></th>\n",
       "      <th></th>\n",
       "      <th></th>\n",
       "      <th></th>\n",
       "      <th></th>\n",
       "      <th></th>\n",
       "      <th></th>\n",
       "      <th></th>\n",
       "      <th></th>\n",
       "      <th></th>\n",
       "      <th></th>\n",
       "      <th></th>\n",
       "      <th></th>\n",
       "      <th></th>\n",
       "      <th></th>\n",
       "      <th></th>\n",
       "      <th></th>\n",
       "      <th></th>\n",
       "      <th></th>\n",
       "      <th></th>\n",
       "      <th></th>\n",
       "      <th></th>\n",
       "      <th></th>\n",
       "      <th></th>\n",
       "    </tr>\n",
       "  </thead>\n",
       "  <tbody>\n",
       "    <tr>\n",
       "      <th>55707197</th>\n",
       "      <td>FL</td>\n",
       "      <td>47000.0</td>\n",
       "      <td>Individual</td>\n",
       "      <td>Cash</td>\n",
       "      <td>22.88</td>\n",
       "      <td>2002-09-01</td>\n",
       "      <td>10</td>\n",
       "      <td>Teacher</td>\n",
       "      <td>669.0</td>\n",
       "      <td>665.0</td>\n",
       "      <td>D</td>\n",
       "      <td>MORTGAGE</td>\n",
       "      <td>w</td>\n",
       "      <td>406.47</td>\n",
       "      <td>15.61</td>\n",
       "      <td>2015-07-01</td>\n",
       "      <td>11625.0</td>\n",
       "      <td>8.0</td>\n",
       "      <td>0.0</td>\n",
       "      <td>0.0</td>\n",
       "      <td>debt_consolidation</td>\n",
       "      <td>D1</td>\n",
       "      <td>36</td>\n",
       "      <td>Not Verified</td>\n",
       "      <td>337xx</td>\n",
       "      <td>1</td>\n",
       "    </tr>\n",
       "    <tr>\n",
       "      <th>88999857</th>\n",
       "      <td>OK</td>\n",
       "      <td>45000.0</td>\n",
       "      <td>Individual</td>\n",
       "      <td>Cash</td>\n",
       "      <td>14.77</td>\n",
       "      <td>2007-04-01</td>\n",
       "      <td>5</td>\n",
       "      <td>Claims clerical supervisor</td>\n",
       "      <td>694.0</td>\n",
       "      <td>690.0</td>\n",
       "      <td>B</td>\n",
       "      <td>MORTGAGE</td>\n",
       "      <td>f</td>\n",
       "      <td>305.24</td>\n",
       "      <td>8.99</td>\n",
       "      <td>2016-09-01</td>\n",
       "      <td>9600.0</td>\n",
       "      <td>8.0</td>\n",
       "      <td>0.0</td>\n",
       "      <td>0.0</td>\n",
       "      <td>credit_card</td>\n",
       "      <td>B1</td>\n",
       "      <td>36</td>\n",
       "      <td>Source Verified</td>\n",
       "      <td>731xx</td>\n",
       "      <td>1</td>\n",
       "    </tr>\n",
       "    <tr>\n",
       "      <th>50605719</th>\n",
       "      <td>KY</td>\n",
       "      <td>104000.0</td>\n",
       "      <td>Individual</td>\n",
       "      <td>Cash</td>\n",
       "      <td>24.83</td>\n",
       "      <td>1993-04-01</td>\n",
       "      <td>10</td>\n",
       "      <td>Captain</td>\n",
       "      <td>679.0</td>\n",
       "      <td>675.0</td>\n",
       "      <td>A</td>\n",
       "      <td>MORTGAGE</td>\n",
       "      <td>w</td>\n",
       "      <td>563.15</td>\n",
       "      <td>7.89</td>\n",
       "      <td>2015-06-01</td>\n",
       "      <td>18000.0</td>\n",
       "      <td>8.0</td>\n",
       "      <td>0.0</td>\n",
       "      <td>0.0</td>\n",
       "      <td>debt_consolidation</td>\n",
       "      <td>A5</td>\n",
       "      <td>36</td>\n",
       "      <td>Not Verified</td>\n",
       "      <td>401xx</td>\n",
       "      <td>1</td>\n",
       "    </tr>\n",
       "    <tr>\n",
       "      <th>2054569</th>\n",
       "      <td>GA</td>\n",
       "      <td>45600.0</td>\n",
       "      <td>Individual</td>\n",
       "      <td>Cash</td>\n",
       "      <td>5.05</td>\n",
       "      <td>1999-12-01</td>\n",
       "      <td>-1</td>\n",
       "      <td>None</td>\n",
       "      <td>704.0</td>\n",
       "      <td>700.0</td>\n",
       "      <td>B</td>\n",
       "      <td>MORTGAGE</td>\n",
       "      <td>f</td>\n",
       "      <td>199.30</td>\n",
       "      <td>11.14</td>\n",
       "      <td>2012-11-01</td>\n",
       "      <td>6075.0</td>\n",
       "      <td>6.0</td>\n",
       "      <td>0.0</td>\n",
       "      <td>0.0</td>\n",
       "      <td>debt_consolidation</td>\n",
       "      <td>B2</td>\n",
       "      <td>36</td>\n",
       "      <td>Source Verified</td>\n",
       "      <td>301xx</td>\n",
       "      <td>1</td>\n",
       "    </tr>\n",
       "    <tr>\n",
       "      <th>120247566</th>\n",
       "      <td>MO</td>\n",
       "      <td>68508.0</td>\n",
       "      <td>Individual</td>\n",
       "      <td>Cash</td>\n",
       "      <td>11.75</td>\n",
       "      <td>2004-09-01</td>\n",
       "      <td>4</td>\n",
       "      <td>Web Development Manager</td>\n",
       "      <td>674.0</td>\n",
       "      <td>670.0</td>\n",
       "      <td>C</td>\n",
       "      <td>RENT</td>\n",
       "      <td>f</td>\n",
       "      <td>169.90</td>\n",
       "      <td>13.59</td>\n",
       "      <td>2017-10-01</td>\n",
       "      <td>5000.0</td>\n",
       "      <td>9.0</td>\n",
       "      <td>0.0</td>\n",
       "      <td>0.0</td>\n",
       "      <td>credit_card</td>\n",
       "      <td>C2</td>\n",
       "      <td>36</td>\n",
       "      <td>Not Verified</td>\n",
       "      <td>651xx</td>\n",
       "      <td>1</td>\n",
       "    </tr>\n",
       "  </tbody>\n",
       "</table>\n",
       "</div>"
      ],
      "text/plain": [
       "          addr_state  annual_inc application_type disbursement_method    dti  \\\n",
       "id                                                                             \n",
       "55707197          FL     47000.0       Individual                Cash  22.88   \n",
       "88999857          OK     45000.0       Individual                Cash  14.77   \n",
       "50605719          KY    104000.0       Individual                Cash  24.83   \n",
       "2054569           GA     45600.0       Individual                Cash   5.05   \n",
       "120247566         MO     68508.0       Individual                Cash  11.75   \n",
       "\n",
       "          earliest_cr_line  emp_length                    emp_title  \\\n",
       "id                                                                    \n",
       "55707197        2002-09-01          10                      Teacher   \n",
       "88999857        2007-04-01           5  Claims clerical supervisor    \n",
       "50605719        1993-04-01          10                      Captain   \n",
       "2054569         1999-12-01          -1                         None   \n",
       "120247566       2004-09-01           4      Web Development Manager   \n",
       "\n",
       "           fico_range_high  fico_range_low grade home_ownership  \\\n",
       "id                                                                \n",
       "55707197             669.0           665.0     D       MORTGAGE   \n",
       "88999857             694.0           690.0     B       MORTGAGE   \n",
       "50605719             679.0           675.0     A       MORTGAGE   \n",
       "2054569              704.0           700.0     B       MORTGAGE   \n",
       "120247566            674.0           670.0     C           RENT   \n",
       "\n",
       "          initial_list_status  installment  int_rate    issue_d  loan_amnt  \\\n",
       "id                                                                           \n",
       "55707197                    w       406.47     15.61 2015-07-01    11625.0   \n",
       "88999857                    f       305.24      8.99 2016-09-01     9600.0   \n",
       "50605719                    w       563.15      7.89 2015-06-01    18000.0   \n",
       "2054569                     f       199.30     11.14 2012-11-01     6075.0   \n",
       "120247566                   f       169.90     13.59 2017-10-01     5000.0   \n",
       "\n",
       "           open_acc  pub_rec  pub_rec_bankruptcies             purpose  \\\n",
       "id                                                                       \n",
       "55707197        8.0      0.0                   0.0  debt_consolidation   \n",
       "88999857        8.0      0.0                   0.0         credit_card   \n",
       "50605719        8.0      0.0                   0.0  debt_consolidation   \n",
       "2054569         6.0      0.0                   0.0  debt_consolidation   \n",
       "120247566       9.0      0.0                   0.0         credit_card   \n",
       "\n",
       "          sub_grade  term verification_status zip_code  loan_status  \n",
       "id                                                                   \n",
       "55707197         D1    36        Not Verified    337xx            1  \n",
       "88999857         B1    36     Source Verified    731xx            1  \n",
       "50605719         A5    36        Not Verified    401xx            1  \n",
       "2054569          B2    36     Source Verified    301xx            1  \n",
       "120247566        C2    36        Not Verified    651xx            1  "
      ]
     },
     "execution_count": 4,
     "metadata": {},
     "output_type": "execute_result"
    }
   ],
   "source": [
    "df.sample(5)"
   ]
  },
  {
   "cell_type": "markdown",
   "metadata": {},
   "source": [
    "### Feature Engineering"
   ]
  },
  {
   "cell_type": "code",
   "execution_count": 5,
   "metadata": {},
   "outputs": [],
   "source": [
    "df['days_cr_line']=df['issue_d']-df['earliest_cr_line']\n",
    "#convert to int (https://www.codegrepper.com/code-examples/python/pandas+timedelta64+ns+to+float)\n",
    "df['days_cr_line'] = (df['days_cr_line'] / np.timedelta64(1,'D')).astype(int)"
   ]
  },
  {
   "cell_type": "markdown",
   "metadata": {},
   "source": [
    "### Convert Ordinals"
   ]
  },
  {
   "cell_type": "code",
   "execution_count": 6,
   "metadata": {},
   "outputs": [],
   "source": [
    "# sub_grade\n",
    "df.sub_grade.replace({'A1':1, 'A2':2, 'A3':3, 'A4':4, 'A5':5, 'B1':6, 'B2':7, \n",
    "                      'B3':8, 'B4':9, 'B5':10, 'C1':11, 'C2':12, 'C3':13, 'C4':14, \n",
    "                      'C5':15, 'D1':16, 'D2':17, 'D3':18, 'D4':19, 'D5':20, 'E1':21, \n",
    "                      'E2':22, 'E3':23, 'E4':24, 'E5':25}, inplace=True)\n",
    "\n",
    "# disbursement_method\n",
    "df.disbursement_method.replace({'Cash':0,'DirectPay':1},inplace=True)\n",
    "\n",
    "# verification_status\n",
    "df.verification_status.replace({'Source Verified':'Verified'},inplace=True)\n",
    "df.verification_status.replace({'Not Verified':0,'Verified':1}, inplace=True)\n",
    "\n",
    "# initial_list_status\n",
    "df.initial_list_status.replace({'w':0,'f':1}, inplace=True)\n",
    "\n",
    "# application_type\n",
    "df.application_type.replace({'Individual':0,'Joint App':1}, inplace=True)"
   ]
  },
  {
   "cell_type": "markdown",
   "metadata": {},
   "source": [
    "### Dummification"
   ]
  },
  {
   "cell_type": "code",
   "execution_count": 7,
   "metadata": {},
   "outputs": [],
   "source": [
    "dummies=['purpose','addr_state','home_ownership']\n",
    "\n",
    "for d in dummies:\n",
    "    temp = pd.get_dummies(df[d], prefix=d, prefix_sep='__')\n",
    "    temp = temp.drop(d+'__'+str(df[d].mode()[0]), axis=1)\n",
    "    #drop the most common one (mode), making it the base case\n",
    "    df = pd.concat([df.drop(d, axis=1),temp], axis=1)\n",
    "    #merge back with main df"
   ]
  },
  {
   "cell_type": "markdown",
   "metadata": {},
   "source": [
    "### Filter for years"
   ]
  },
  {
   "cell_type": "code",
   "execution_count": 8,
   "metadata": {},
   "outputs": [],
   "source": [
    "df= df.loc[df['issue_d'].dt.year.between(2007,2015)]"
   ]
  },
  {
   "cell_type": "code",
   "execution_count": 9,
   "metadata": {},
   "outputs": [
    {
     "data": {
      "text/plain": [
       "800364"
      ]
     },
     "execution_count": 9,
     "metadata": {},
     "output_type": "execute_result"
    }
   ],
   "source": [
    "df.issue_d.dt.year.count()"
   ]
  },
  {
   "cell_type": "markdown",
   "metadata": {},
   "source": [
    "### Drop Columns"
   ]
  },
  {
   "cell_type": "code",
   "execution_count": 10,
   "metadata": {},
   "outputs": [],
   "source": [
    "df.drop(['emp_title','zip_code','grade','issue_d','earliest_cr_line'],axis=1, inplace=True)\n",
    "#remove earliest_cr_line when fixed"
   ]
  },
  {
   "cell_type": "markdown",
   "metadata": {},
   "source": [
    "### Drop Rows"
   ]
  },
  {
   "cell_type": "code",
   "execution_count": 11,
   "metadata": {},
   "outputs": [],
   "source": [
    "df.drop(df[df['emp_length']==-1].index, inplace=True)"
   ]
  },
  {
   "cell_type": "markdown",
   "metadata": {},
   "source": [
    "### Drop the 60month product"
   ]
  },
  {
   "cell_type": "code",
   "execution_count": 12,
   "metadata": {},
   "outputs": [],
   "source": [
    "df = df.loc[df['term']==36]\n",
    "df.drop('term', axis=1, inplace=True)"
   ]
  },
  {
   "cell_type": "markdown",
   "metadata": {},
   "source": [
    "# Modelling"
   ]
  },
  {
   "cell_type": "markdown",
   "metadata": {},
   "source": [
    "### create target and features"
   ]
  },
  {
   "cell_type": "code",
   "execution_count": 13,
   "metadata": {},
   "outputs": [],
   "source": [
    "target = df['loan_status']"
   ]
  },
  {
   "cell_type": "code",
   "execution_count": 14,
   "metadata": {},
   "outputs": [
    {
     "data": {
      "text/plain": [
       "1    500426\n",
       "0     77022\n",
       "Name: loan_status, dtype: int64"
      ]
     },
     "execution_count": 14,
     "metadata": {},
     "output_type": "execute_result"
    }
   ],
   "source": [
    "target.value_counts()"
   ]
  },
  {
   "cell_type": "code",
   "execution_count": 15,
   "metadata": {},
   "outputs": [],
   "source": [
    "features = df.drop(['loan_status'], axis=1)"
   ]
  },
  {
   "cell_type": "markdown",
   "metadata": {},
   "source": [
    "### note the reduced train_size of .10 = ~120,000 obs"
   ]
  },
  {
   "cell_type": "code",
   "execution_count": 16,
   "metadata": {},
   "outputs": [],
   "source": [
    "from sklearn.linear_model import LogisticRegression, LogisticRegressionCV\n",
    "from sklearn.model_selection import GridSearchCV, StratifiedKFold, train_test_split, KFold\n",
    "\n",
    "Xtrain, Xtest, ytrain, ytest = train_test_split(features, target, train_size=.10 )\n",
    "logr = LogisticRegression()"
   ]
  },
  {
   "cell_type": "code",
   "execution_count": 17,
   "metadata": {},
   "outputs": [],
   "source": [
    "# logr.get_params()"
   ]
  },
  {
   "cell_type": "markdown",
   "metadata": {},
   "source": [
    "### SMOTE to oversample minority class"
   ]
  },
  {
   "cell_type": "code",
   "execution_count": 18,
   "metadata": {},
   "outputs": [
    {
     "name": "stdout",
     "output_type": "stream",
     "text": [
      "Wall time: 3.22 s\n"
     ]
    }
   ],
   "source": [
    "%%time\n",
    "from imblearn.over_sampling import SMOTE\n",
    "smote = SMOTE(random_state = 101)\n",
    "X_oversample, y_oversample = smote.fit_resample(Xtrain, ytrain)"
   ]
  },
  {
   "cell_type": "code",
   "execution_count": 19,
   "metadata": {},
   "outputs": [
    {
     "name": "stdout",
     "output_type": "stream",
     "text": [
      "1    49860\n",
      "0    49860\n",
      "Name: loan_status, dtype: int64\n",
      "1    450566\n",
      "0     69138\n",
      "Name: loan_status, dtype: int64\n"
     ]
    }
   ],
   "source": [
    "print(y_oversample.value_counts())\n",
    "print(ytest.value_counts())"
   ]
  },
  {
   "cell_type": "code",
   "execution_count": 20,
   "metadata": {},
   "outputs": [],
   "source": [
    "X_oversample, y_oversample = smote.fit_resample(Xtrain, ytrain)"
   ]
  },
  {
   "cell_type": "markdown",
   "metadata": {},
   "source": [
    "### gridsearch"
   ]
  },
  {
   "cell_type": "code",
   "execution_count": 21,
   "metadata": {},
   "outputs": [],
   "source": [
    "Cs = [0.0001,0.001,0.01,1,10,100,1000,10000]\n",
    "params = [{'C':Cs, 'penalty':['l1','l2']}]\n",
    "grid_logr = GridSearchCV(estimator=logr, param_grid=params, cv=3)"
   ]
  },
  {
   "cell_type": "code",
   "execution_count": 22,
   "metadata": {},
   "outputs": [
    {
     "name": "stdout",
     "output_type": "stream",
     "text": [
      "Wall time: 18.9 s\n"
     ]
    },
    {
     "data": {
      "text/plain": [
       "GridSearchCV(cv=3, estimator=LogisticRegression(),\n",
       "             param_grid=[{'C': [0.0001, 0.001, 0.01, 1, 10, 100, 1000, 10000],\n",
       "                          'penalty': ['l1', 'l2']}])"
      ]
     },
     "execution_count": 22,
     "metadata": {},
     "output_type": "execute_result"
    }
   ],
   "source": [
    "%%time\n",
    "grid_logr.fit(X_oversample, y_oversample)"
   ]
  },
  {
   "cell_type": "code",
   "execution_count": 23,
   "metadata": {},
   "outputs": [
    {
     "name": "stdout",
     "output_type": "stream",
     "text": [
      "{'C': 0.0001, 'penalty': 'l2'}\n",
      "0.6258724428399519\n"
     ]
    }
   ],
   "source": [
    "print(grid_logr.best_params_)\n",
    "print(grid_logr.best_score_)"
   ]
  },
  {
   "cell_type": "code",
   "execution_count": 24,
   "metadata": {},
   "outputs": [
    {
     "data": {
      "text/plain": [
       "0.6108477133137324"
      ]
     },
     "execution_count": 24,
     "metadata": {},
     "output_type": "execute_result"
    }
   ],
   "source": [
    "best_model = grid_logr.best_estimator_\n",
    "best_model.score(Xtest,ytest)"
   ]
  },
  {
   "cell_type": "code",
   "execution_count": 25,
   "metadata": {},
   "outputs": [],
   "source": [
    "coefs = pd.DataFrame(abs(best_model.coef_).T, index=features.columns)"
   ]
  },
  {
   "cell_type": "code",
   "execution_count": 26,
   "metadata": {},
   "outputs": [
    {
     "data": {
      "text/html": [
       "<div>\n",
       "<style scoped>\n",
       "    .dataframe tbody tr th:only-of-type {\n",
       "        vertical-align: middle;\n",
       "    }\n",
       "\n",
       "    .dataframe tbody tr th {\n",
       "        vertical-align: top;\n",
       "    }\n",
       "\n",
       "    .dataframe thead th {\n",
       "        text-align: right;\n",
       "    }\n",
       "</style>\n",
       "<table border=\"1\" class=\"dataframe\">\n",
       "  <thead>\n",
       "    <tr style=\"text-align: right;\">\n",
       "      <th></th>\n",
       "      <th>0</th>\n",
       "    </tr>\n",
       "  </thead>\n",
       "  <tbody>\n",
       "    <tr>\n",
       "      <th>installment</th>\n",
       "      <td>0.020047</td>\n",
       "    </tr>\n",
       "    <tr>\n",
       "      <th>sub_grade</th>\n",
       "      <td>0.004245</td>\n",
       "    </tr>\n",
       "    <tr>\n",
       "      <th>int_rate</th>\n",
       "      <td>0.003359</td>\n",
       "    </tr>\n",
       "    <tr>\n",
       "      <th>dti</th>\n",
       "      <td>0.003063</td>\n",
       "    </tr>\n",
       "    <tr>\n",
       "      <th>open_acc</th>\n",
       "      <td>0.000953</td>\n",
       "    </tr>\n",
       "    <tr>\n",
       "      <th>loan_amnt</th>\n",
       "      <td>0.000664</td>\n",
       "    </tr>\n",
       "    <tr>\n",
       "      <th>emp_length</th>\n",
       "      <td>0.000500</td>\n",
       "    </tr>\n",
       "    <tr>\n",
       "      <th>purpose__credit_card</th>\n",
       "      <td>0.000297</td>\n",
       "    </tr>\n",
       "    <tr>\n",
       "      <th>initial_list_status</th>\n",
       "      <td>0.000274</td>\n",
       "    </tr>\n",
       "    <tr>\n",
       "      <th>home_ownership__RENT</th>\n",
       "      <td>0.000185</td>\n",
       "    </tr>\n",
       "  </tbody>\n",
       "</table>\n",
       "</div>"
      ],
      "text/plain": [
       "                             0\n",
       "installment           0.020047\n",
       "sub_grade             0.004245\n",
       "int_rate              0.003359\n",
       "dti                   0.003063\n",
       "open_acc              0.000953\n",
       "loan_amnt             0.000664\n",
       "emp_length            0.000500\n",
       "purpose__credit_card  0.000297\n",
       "initial_list_status   0.000274\n",
       "home_ownership__RENT  0.000185"
      ]
     },
     "execution_count": 26,
     "metadata": {},
     "output_type": "execute_result"
    }
   ],
   "source": [
    "coefs.sort_values(0, ascending=False).head(10)"
   ]
  },
  {
   "cell_type": "markdown",
   "metadata": {},
   "source": [
    "### Confusion Matrix"
   ]
  },
  {
   "cell_type": "code",
   "execution_count": 27,
   "metadata": {},
   "outputs": [],
   "source": [
    "from sklearn.metrics import confusion_matrix"
   ]
  },
  {
   "cell_type": "code",
   "execution_count": 28,
   "metadata": {},
   "outputs": [
    {
     "data": {
      "text/html": [
       "<div>\n",
       "<style scoped>\n",
       "    .dataframe tbody tr th:only-of-type {\n",
       "        vertical-align: middle;\n",
       "    }\n",
       "\n",
       "    .dataframe tbody tr th {\n",
       "        vertical-align: top;\n",
       "    }\n",
       "\n",
       "    .dataframe thead th {\n",
       "        text-align: right;\n",
       "    }\n",
       "</style>\n",
       "<table border=\"1\" class=\"dataframe\">\n",
       "  <thead>\n",
       "    <tr style=\"text-align: right;\">\n",
       "      <th></th>\n",
       "      <th>Pred_0</th>\n",
       "      <th>Pred_1</th>\n",
       "    </tr>\n",
       "  </thead>\n",
       "  <tbody>\n",
       "    <tr>\n",
       "      <th>True_0</th>\n",
       "      <td>43414</td>\n",
       "      <td>25724</td>\n",
       "    </tr>\n",
       "    <tr>\n",
       "      <th>True_1</th>\n",
       "      <td>176520</td>\n",
       "      <td>274046</td>\n",
       "    </tr>\n",
       "  </tbody>\n",
       "</table>\n",
       "</div>"
      ],
      "text/plain": [
       "        Pred_0  Pred_1\n",
       "True_0   43414   25724\n",
       "True_1  176520  274046"
      ]
     },
     "execution_count": 28,
     "metadata": {},
     "output_type": "execute_result"
    }
   ],
   "source": [
    "cmat = confusion_matrix(ytest,best_model.predict(Xtest))\n",
    "\n",
    "#Label the confusion matrix\n",
    "pd.DataFrame(cmat, columns = [f'Pred_{label}' for label in best_model.classes_],\n",
    "             index = [f'True_{label}' for label in best_model.classes_])\n"
   ]
  },
  {
   "cell_type": "markdown",
   "metadata": {},
   "source": [
    "### Best model is one that strikes good balance of a high \"pred_1 precision\" and a high \"loan approval rate\""
   ]
  },
  {
   "cell_type": "code",
   "execution_count": 29,
   "metadata": {},
   "outputs": [
    {
     "name": "stdout",
     "output_type": "stream",
     "text": [
      "loan approval rate: 0.58\n",
      "precision pred_1: 0.91\n",
      "recall pred_1: 0.61\n"
     ]
    }
   ],
   "source": [
    "cmat=cmat\n",
    "print(f'loan approval rate: {sum(cmat[:,1])/sum(sum(cmat)):.2f}')\n",
    "print(f'precision pred_1: {cmat[1][1]/sum(cmat[:,1]):.2f}')\n",
    "print(f'recall pred_1: {cmat[1][1]/sum(cmat[1,:]):.2f}')"
   ]
  },
  {
   "cell_type": "code",
   "execution_count": 30,
   "metadata": {},
   "outputs": [
    {
     "name": "stdout",
     "output_type": "stream",
     "text": [
      "              precision    recall  f1-score   support\n",
      "\n",
      "           0       0.20      0.63      0.30     69138\n",
      "           1       0.91      0.61      0.73    450566\n",
      "\n",
      "    accuracy                           0.61    519704\n",
      "   macro avg       0.56      0.62      0.52    519704\n",
      "weighted avg       0.82      0.61      0.67    519704\n",
      "\n"
     ]
    }
   ],
   "source": [
    "from sklearn.metrics import classification_report\n",
    "print(classification_report(ytest, best_model.predict(Xtest)))"
   ]
  },
  {
   "cell_type": "markdown",
   "metadata": {},
   "source": [
    "### change the threshold to improve the pred_1 precision"
   ]
  },
  {
   "cell_type": "code",
   "execution_count": 31,
   "metadata": {},
   "outputs": [],
   "source": [
    "probs_positive_class = best_model.predict_proba(Xtest)[:, 1]\n",
    "prediction = probs_positive_class > .6"
   ]
  },
  {
   "cell_type": "code",
   "execution_count": 32,
   "metadata": {},
   "outputs": [
    {
     "data": {
      "text/html": [
       "<div>\n",
       "<style scoped>\n",
       "    .dataframe tbody tr th:only-of-type {\n",
       "        vertical-align: middle;\n",
       "    }\n",
       "\n",
       "    .dataframe tbody tr th {\n",
       "        vertical-align: top;\n",
       "    }\n",
       "\n",
       "    .dataframe thead th {\n",
       "        text-align: right;\n",
       "    }\n",
       "</style>\n",
       "<table border=\"1\" class=\"dataframe\">\n",
       "  <thead>\n",
       "    <tr style=\"text-align: right;\">\n",
       "      <th></th>\n",
       "      <th>Pred_0</th>\n",
       "      <th>Pred_1</th>\n",
       "    </tr>\n",
       "  </thead>\n",
       "  <tbody>\n",
       "    <tr>\n",
       "      <th>True_0</th>\n",
       "      <td>60518</td>\n",
       "      <td>8620</td>\n",
       "    </tr>\n",
       "    <tr>\n",
       "      <th>True_1</th>\n",
       "      <td>317610</td>\n",
       "      <td>132956</td>\n",
       "    </tr>\n",
       "  </tbody>\n",
       "</table>\n",
       "</div>"
      ],
      "text/plain": [
       "        Pred_0  Pred_1\n",
       "True_0   60518    8620\n",
       "True_1  317610  132956"
      ]
     },
     "execution_count": 32,
     "metadata": {},
     "output_type": "execute_result"
    }
   ],
   "source": [
    "cmat2 = confusion_matrix(ytest, prediction, labels=[0, 1])\n",
    "pd.DataFrame(cmat2, columns = [f'Pred_{label}' for label in best_model.classes_],\n",
    "             index = [f'True_{label}' for label in best_model.classes_])"
   ]
  },
  {
   "cell_type": "code",
   "execution_count": 33,
   "metadata": {},
   "outputs": [
    {
     "name": "stdout",
     "output_type": "stream",
     "text": [
      "              precision    recall  f1-score   support\n",
      "\n",
      "           0       0.16      0.88      0.27     69138\n",
      "           1       0.94      0.30      0.45    450566\n",
      "\n",
      "    accuracy                           0.37    519704\n",
      "   macro avg       0.55      0.59      0.36    519704\n",
      "weighted avg       0.84      0.37      0.43    519704\n",
      "\n"
     ]
    }
   ],
   "source": [
    "from sklearn.metrics import classification_report\n",
    "print(classification_report(ytest, prediction))"
   ]
  },
  {
   "cell_type": "code",
   "execution_count": 34,
   "metadata": {},
   "outputs": [
    {
     "name": "stdout",
     "output_type": "stream",
     "text": [
      "loan approval rate: 0.27\n",
      "precision pred_1: 0.94\n",
      "recall pred_1: 0.30\n"
     ]
    }
   ],
   "source": [
    "cmat=cmat2\n",
    "print(f'loan approval rate: {sum(cmat[:,1])/sum(sum(cmat)):.2f}')\n",
    "print(f'precision pred_1: {cmat[1][1]/sum(cmat[:,1]):.2f}')\n",
    "print(f'recall pred_1: {cmat[1][1]/sum(cmat[1,:]):.2f}')"
   ]
  },
  {
   "cell_type": "markdown",
   "metadata": {},
   "source": [
    "### Loop to check thresholds"
   ]
  },
  {
   "cell_type": "code",
   "execution_count": 35,
   "metadata": {},
   "outputs": [
    {
     "name": "stdout",
     "output_type": "stream",
     "text": [
      "threshold:0.50\n",
      "loan approval rate: 0.58\n",
      "precision pred_1: 0.91\n",
      "recall pred_1: 0.61\n",
      "--------------------------------------------------\n",
      "threshold:0.53\n",
      "loan approval rate: 0.47\n",
      "precision pred_1: 0.92\n",
      "recall pred_1: 0.50\n",
      "--------------------------------------------------\n",
      "threshold:0.56\n",
      "loan approval rate: 0.39\n",
      "precision pred_1: 0.93\n",
      "recall pred_1: 0.41\n",
      "--------------------------------------------------\n",
      "threshold:0.58\n",
      "loan approval rate: 0.31\n",
      "precision pred_1: 0.94\n",
      "recall pred_1: 0.34\n",
      "--------------------------------------------------\n",
      "threshold:0.61\n",
      "loan approval rate: 0.25\n",
      "precision pred_1: 0.94\n",
      "recall pred_1: 0.27\n",
      "--------------------------------------------------\n",
      "threshold:0.64\n",
      "loan approval rate: 0.19\n",
      "precision pred_1: 0.94\n",
      "recall pred_1: 0.21\n",
      "--------------------------------------------------\n",
      "threshold:0.67\n",
      "loan approval rate: 0.15\n",
      "precision pred_1: 0.95\n",
      "recall pred_1: 0.17\n",
      "--------------------------------------------------\n",
      "threshold:0.69\n",
      "loan approval rate: 0.12\n",
      "precision pred_1: 0.95\n",
      "recall pred_1: 0.13\n",
      "--------------------------------------------------\n",
      "threshold:0.72\n",
      "loan approval rate: 0.09\n",
      "precision pred_1: 0.95\n",
      "recall pred_1: 0.10\n",
      "--------------------------------------------------\n",
      "threshold:0.75\n",
      "loan approval rate: 0.07\n",
      "precision pred_1: 0.96\n",
      "recall pred_1: 0.07\n",
      "--------------------------------------------------\n",
      "threshold:0.78\n",
      "loan approval rate: 0.05\n",
      "precision pred_1: 0.96\n",
      "recall pred_1: 0.05\n",
      "--------------------------------------------------\n",
      "threshold:0.81\n",
      "loan approval rate: 0.03\n",
      "precision pred_1: 0.96\n",
      "recall pred_1: 0.03\n",
      "--------------------------------------------------\n",
      "threshold:0.83\n",
      "loan approval rate: 0.02\n",
      "precision pred_1: 0.96\n",
      "recall pred_1: 0.02\n",
      "--------------------------------------------------\n",
      "threshold:0.86\n",
      "loan approval rate: 0.01\n",
      "precision pred_1: 0.96\n",
      "recall pred_1: 0.01\n",
      "--------------------------------------------------\n",
      "threshold:0.89\n",
      "loan approval rate: 0.00\n",
      "precision pred_1: 0.96\n",
      "recall pred_1: 0.00\n",
      "--------------------------------------------------\n",
      "threshold:0.92\n",
      "loan approval rate: 0.00\n",
      "precision pred_1: 0.94\n",
      "recall pred_1: 0.00\n",
      "--------------------------------------------------\n",
      "threshold:0.94\n",
      "loan approval rate: 0.00\n",
      "precision pred_1: 0.93\n",
      "recall pred_1: 0.00\n",
      "--------------------------------------------------\n",
      "threshold:0.97\n",
      "loan approval rate: 0.00\n",
      "precision pred_1: 0.91\n",
      "recall pred_1: 0.00\n",
      "--------------------------------------------------\n",
      "threshold:1.00\n",
      "loan approval rate: 0.00\n",
      "precision pred_1: nan\n",
      "recall pred_1: 0.00\n",
      "--------------------------------------------------\n"
     ]
    }
   ],
   "source": [
    "thresholds = np.linspace(0.5,1,19)\n",
    "\n",
    "for i in thresholds:\n",
    "    probs_positive_class = best_model.predict_proba(Xtest)[:, 1]\n",
    "    prediction = probs_positive_class > i\n",
    "    cmat = confusion_matrix(ytest, prediction, labels=[0, 1])\n",
    "    print(f'threshold:{i:.2f}')\n",
    "    print(f'loan approval rate: {sum(cmat[:,1])/sum(sum(cmat)):.2f}')\n",
    "    print(f'precision pred_1: {cmat[1][1]/sum(cmat[:,1]):.2f}')\n",
    "    print(f'recall pred_1: {cmat[1][1]/sum(cmat[1,:]):.2f}')\n",
    "    print(\"-\"*50)"
   ]
  },
  {
   "cell_type": "code",
   "execution_count": null,
   "metadata": {},
   "outputs": [],
   "source": []
  },
  {
   "cell_type": "code",
   "execution_count": null,
   "metadata": {},
   "outputs": [],
   "source": []
  },
  {
   "cell_type": "code",
   "execution_count": null,
   "metadata": {},
   "outputs": [],
   "source": []
  },
  {
   "cell_type": "code",
   "execution_count": null,
   "metadata": {},
   "outputs": [],
   "source": []
  },
  {
   "cell_type": "markdown",
   "metadata": {},
   "source": [
    "## ROC Curve"
   ]
  },
  {
   "cell_type": "code",
   "execution_count": null,
   "metadata": {},
   "outputs": [],
   "source": [
    "from sklearn.metrics import roc_curve"
   ]
  },
  {
   "cell_type": "code",
   "execution_count": null,
   "metadata": {},
   "outputs": [],
   "source": [
    "# predict probabilities\n",
    "yhat = logr.predict_proba(Xtest)"
   ]
  },
  {
   "cell_type": "code",
   "execution_count": null,
   "metadata": {},
   "outputs": [],
   "source": [
    "# keep probabilities for the positive outcome only\n",
    "yhat = yhat[:, 1]"
   ]
  },
  {
   "cell_type": "code",
   "execution_count": null,
   "metadata": {},
   "outputs": [],
   "source": [
    "# calculate roc curves\n",
    "fpr, tpr, thresholds = roc_curve(ytest, yhat)"
   ]
  },
  {
   "cell_type": "code",
   "execution_count": null,
   "metadata": {},
   "outputs": [],
   "source": [
    "# plot the roc curve for the model\n",
    "plt.plot([0,1], [0,1], linestyle='--', label='No Skill')\n",
    "plt.plot(fpr, tpr, marker='.', label='Logistic')\n",
    "# axis labels\n",
    "plt.xlabel('False Positive Rate')\n",
    "plt.ylabel('True Positive Rate')\n",
    "plt.legend()\n",
    "# show the plot\n",
    "plt.show()"
   ]
  },
  {
   "cell_type": "code",
   "execution_count": null,
   "metadata": {},
   "outputs": [],
   "source": [
    "# calculate roc curves\n",
    "fpr, tpr, thresholds = roc_curve(ytest, prediction)"
   ]
  },
  {
   "cell_type": "code",
   "execution_count": null,
   "metadata": {},
   "outputs": [],
   "source": [
    "# plot the roc curve for the model\n",
    "plt.plot([0,1], [0,1], linestyle='--', label='No Skill')\n",
    "plt.plot(fpr, tpr, marker='.', label='Logistic')\n",
    "# axis labels\n",
    "plt.xlabel('False Positive Rate')\n",
    "plt.ylabel('True Positive Rate')\n",
    "plt.legend()\n",
    "# show the plot\n",
    "plt.show()"
   ]
  },
  {
   "cell_type": "markdown",
   "metadata": {},
   "source": [
    "### SGD classifier"
   ]
  },
  {
   "cell_type": "code",
   "execution_count": null,
   "metadata": {},
   "outputs": [],
   "source": []
  },
  {
   "cell_type": "code",
   "execution_count": null,
   "metadata": {},
   "outputs": [],
   "source": []
  },
  {
   "cell_type": "code",
   "execution_count": null,
   "metadata": {},
   "outputs": [],
   "source": []
  },
  {
   "cell_type": "markdown",
   "metadata": {},
   "source": [
    "### Save model in pickle"
   ]
  },
  {
   "cell_type": "code",
   "execution_count": null,
   "metadata": {},
   "outputs": [],
   "source": [
    "filename = 'grid_logr_model.sav'\n",
    "pickle.dump(grid_logr, open(filename, 'wb'))"
   ]
  },
  {
   "cell_type": "code",
   "execution_count": null,
   "metadata": {},
   "outputs": [],
   "source": [
    "loaded_model = pickle.load(open(filename, 'rb'))\n",
    "result = loaded_model.score(Xtest, ytest)\n",
    "print(result)"
   ]
  }
 ],
 "metadata": {
  "kernelspec": {
   "display_name": "Python 3",
   "language": "python",
   "name": "python3"
  },
  "language_info": {
   "codemirror_mode": {
    "name": "ipython",
    "version": 3
   },
   "file_extension": ".py",
   "mimetype": "text/x-python",
   "name": "python",
   "nbconvert_exporter": "python",
   "pygments_lexer": "ipython3",
   "version": "3.8.5"
  }
 },
 "nbformat": 4,
 "nbformat_minor": 4
}
