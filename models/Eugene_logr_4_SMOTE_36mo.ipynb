{
 "cells": [
  {
   "cell_type": "markdown",
   "metadata": {},
   "source": [
    "### Model notes:\n",
    "- Only 36 mo product\n",
    "- Use SMOTE to upsample minority class and gridsearch\n",
    "\n",
    "#### Results:\n",
    "loan approval rate: 0.60\\\n",
    "precision pred_1: 0.90\\\n",
    "recall pred_1: 0.64"
   ]
  },
  {
   "cell_type": "code",
   "execution_count": 76,
   "metadata": {},
   "outputs": [],
   "source": [
    "#Installing imblearn\n",
    "#!pip install -U imbalanced-learn"
   ]
  },
  {
   "cell_type": "code",
   "execution_count": 77,
   "metadata": {},
   "outputs": [],
   "source": [
    "import pandas as pd\n",
    "import numpy as np\n",
    "import seaborn as sns\n",
    "import matplotlib.pyplot as plt\n",
    "%matplotlib inline\n",
    "import warnings\n",
    "warnings.filterwarnings('ignore')\n",
    "# pd.set_option('display.height', 500)\n",
    "pd.set_option('display.max_rows', 25)\n",
    "pd.set_option('display.max_columns', 50)"
   ]
  },
  {
   "cell_type": "code",
   "execution_count": 78,
   "metadata": {},
   "outputs": [
    {
     "name": "stdout",
     "output_type": "stream",
     "text": [
      "Wall time: 3.4 s\n"
     ]
    }
   ],
   "source": [
    "%%time\n",
    "df = pd.read_parquet('../data/approved.parquet', engine='fastparquet')"
   ]
  },
  {
   "cell_type": "code",
   "execution_count": 79,
   "metadata": {},
   "outputs": [
    {
     "data": {
      "text/html": [
       "<div>\n",
       "<style scoped>\n",
       "    .dataframe tbody tr th:only-of-type {\n",
       "        vertical-align: middle;\n",
       "    }\n",
       "\n",
       "    .dataframe tbody tr th {\n",
       "        vertical-align: top;\n",
       "    }\n",
       "\n",
       "    .dataframe thead th {\n",
       "        text-align: right;\n",
       "    }\n",
       "</style>\n",
       "<table border=\"1\" class=\"dataframe\">\n",
       "  <thead>\n",
       "    <tr style=\"text-align: right;\">\n",
       "      <th></th>\n",
       "      <th>addr_state</th>\n",
       "      <th>annual_inc</th>\n",
       "      <th>application_type</th>\n",
       "      <th>disbursement_method</th>\n",
       "      <th>dti</th>\n",
       "      <th>earliest_cr_line</th>\n",
       "      <th>emp_length</th>\n",
       "      <th>emp_title</th>\n",
       "      <th>fico_range_high</th>\n",
       "      <th>fico_range_low</th>\n",
       "      <th>grade</th>\n",
       "      <th>home_ownership</th>\n",
       "      <th>initial_list_status</th>\n",
       "      <th>installment</th>\n",
       "      <th>int_rate</th>\n",
       "      <th>issue_d</th>\n",
       "      <th>loan_amnt</th>\n",
       "      <th>open_acc</th>\n",
       "      <th>pub_rec</th>\n",
       "      <th>pub_rec_bankruptcies</th>\n",
       "      <th>purpose</th>\n",
       "      <th>sub_grade</th>\n",
       "      <th>term</th>\n",
       "      <th>verification_status</th>\n",
       "      <th>zip_code</th>\n",
       "      <th>loan_status</th>\n",
       "    </tr>\n",
       "    <tr>\n",
       "      <th>id</th>\n",
       "      <th></th>\n",
       "      <th></th>\n",
       "      <th></th>\n",
       "      <th></th>\n",
       "      <th></th>\n",
       "      <th></th>\n",
       "      <th></th>\n",
       "      <th></th>\n",
       "      <th></th>\n",
       "      <th></th>\n",
       "      <th></th>\n",
       "      <th></th>\n",
       "      <th></th>\n",
       "      <th></th>\n",
       "      <th></th>\n",
       "      <th></th>\n",
       "      <th></th>\n",
       "      <th></th>\n",
       "      <th></th>\n",
       "      <th></th>\n",
       "      <th></th>\n",
       "      <th></th>\n",
       "      <th></th>\n",
       "      <th></th>\n",
       "      <th></th>\n",
       "      <th></th>\n",
       "    </tr>\n",
       "  </thead>\n",
       "  <tbody>\n",
       "    <tr>\n",
       "      <th>1345430</th>\n",
       "      <td>VA</td>\n",
       "      <td>65000.0</td>\n",
       "      <td>Individual</td>\n",
       "      <td>Cash</td>\n",
       "      <td>26.40</td>\n",
       "      <td>1994-09-01</td>\n",
       "      <td>10</td>\n",
       "      <td>U S Army</td>\n",
       "      <td>689.0</td>\n",
       "      <td>685.0</td>\n",
       "      <td>C</td>\n",
       "      <td>RENT</td>\n",
       "      <td>f</td>\n",
       "      <td>626.72</td>\n",
       "      <td>15.31</td>\n",
       "      <td>2012-06-01</td>\n",
       "      <td>18000.0</td>\n",
       "      <td>6.0</td>\n",
       "      <td>1.0</td>\n",
       "      <td>0.0</td>\n",
       "      <td>debt_consolidation</td>\n",
       "      <td>C3</td>\n",
       "      <td>36</td>\n",
       "      <td>Verified</td>\n",
       "      <td>238xx</td>\n",
       "      <td>1</td>\n",
       "    </tr>\n",
       "    <tr>\n",
       "      <th>66006534</th>\n",
       "      <td>TX</td>\n",
       "      <td>65000.0</td>\n",
       "      <td>Individual</td>\n",
       "      <td>Cash</td>\n",
       "      <td>0.81</td>\n",
       "      <td>2008-12-01</td>\n",
       "      <td>1</td>\n",
       "      <td>SAFE Finance Mgr</td>\n",
       "      <td>679.0</td>\n",
       "      <td>675.0</td>\n",
       "      <td>C</td>\n",
       "      <td>MORTGAGE</td>\n",
       "      <td>f</td>\n",
       "      <td>102.06</td>\n",
       "      <td>13.67</td>\n",
       "      <td>2015-12-01</td>\n",
       "      <td>3000.0</td>\n",
       "      <td>6.0</td>\n",
       "      <td>0.0</td>\n",
       "      <td>0.0</td>\n",
       "      <td>home_improvement</td>\n",
       "      <td>C4</td>\n",
       "      <td>36</td>\n",
       "      <td>Source Verified</td>\n",
       "      <td>797xx</td>\n",
       "      <td>0</td>\n",
       "    </tr>\n",
       "    <tr>\n",
       "      <th>6815121</th>\n",
       "      <td>GA</td>\n",
       "      <td>36000.0</td>\n",
       "      <td>Individual</td>\n",
       "      <td>Cash</td>\n",
       "      <td>12.00</td>\n",
       "      <td>2005-01-01</td>\n",
       "      <td>3</td>\n",
       "      <td>Armstrong Atlantic</td>\n",
       "      <td>679.0</td>\n",
       "      <td>675.0</td>\n",
       "      <td>C</td>\n",
       "      <td>OWN</td>\n",
       "      <td>f</td>\n",
       "      <td>86.94</td>\n",
       "      <td>15.22</td>\n",
       "      <td>2013-08-01</td>\n",
       "      <td>2500.0</td>\n",
       "      <td>6.0</td>\n",
       "      <td>0.0</td>\n",
       "      <td>0.0</td>\n",
       "      <td>major_purchase</td>\n",
       "      <td>C3</td>\n",
       "      <td>36</td>\n",
       "      <td>Not Verified</td>\n",
       "      <td>314xx</td>\n",
       "      <td>1</td>\n",
       "    </tr>\n",
       "    <tr>\n",
       "      <th>22381900</th>\n",
       "      <td>OH</td>\n",
       "      <td>115000.0</td>\n",
       "      <td>Individual</td>\n",
       "      <td>Cash</td>\n",
       "      <td>10.52</td>\n",
       "      <td>1996-09-01</td>\n",
       "      <td>3</td>\n",
       "      <td>Divisional Director</td>\n",
       "      <td>669.0</td>\n",
       "      <td>665.0</td>\n",
       "      <td>C</td>\n",
       "      <td>RENT</td>\n",
       "      <td>w</td>\n",
       "      <td>456.67</td>\n",
       "      <td>14.99</td>\n",
       "      <td>2014-07-01</td>\n",
       "      <td>19200.0</td>\n",
       "      <td>13.0</td>\n",
       "      <td>2.0</td>\n",
       "      <td>2.0</td>\n",
       "      <td>credit_card</td>\n",
       "      <td>C5</td>\n",
       "      <td>60</td>\n",
       "      <td>Source Verified</td>\n",
       "      <td>430xx</td>\n",
       "      <td>1</td>\n",
       "    </tr>\n",
       "    <tr>\n",
       "      <th>55079869</th>\n",
       "      <td>GA</td>\n",
       "      <td>85000.0</td>\n",
       "      <td>Individual</td>\n",
       "      <td>Cash</td>\n",
       "      <td>15.87</td>\n",
       "      <td>1999-11-01</td>\n",
       "      <td>10</td>\n",
       "      <td>recruiter</td>\n",
       "      <td>669.0</td>\n",
       "      <td>665.0</td>\n",
       "      <td>C</td>\n",
       "      <td>RENT</td>\n",
       "      <td>w</td>\n",
       "      <td>503.18</td>\n",
       "      <td>12.69</td>\n",
       "      <td>2015-07-01</td>\n",
       "      <td>15000.0</td>\n",
       "      <td>15.0</td>\n",
       "      <td>1.0</td>\n",
       "      <td>1.0</td>\n",
       "      <td>debt_consolidation</td>\n",
       "      <td>C2</td>\n",
       "      <td>36</td>\n",
       "      <td>Source Verified</td>\n",
       "      <td>301xx</td>\n",
       "      <td>1</td>\n",
       "    </tr>\n",
       "  </tbody>\n",
       "</table>\n",
       "</div>"
      ],
      "text/plain": [
       "         addr_state  annual_inc application_type disbursement_method    dti  \\\n",
       "id                                                                            \n",
       "1345430          VA     65000.0       Individual                Cash  26.40   \n",
       "66006534         TX     65000.0       Individual                Cash   0.81   \n",
       "6815121          GA     36000.0       Individual                Cash  12.00   \n",
       "22381900         OH    115000.0       Individual                Cash  10.52   \n",
       "55079869         GA     85000.0       Individual                Cash  15.87   \n",
       "\n",
       "         earliest_cr_line  emp_length            emp_title  fico_range_high  \\\n",
       "id                                                                            \n",
       "1345430        1994-09-01          10             U S Army            689.0   \n",
       "66006534       2008-12-01           1     SAFE Finance Mgr            679.0   \n",
       "6815121        2005-01-01           3  Armstrong Atlantic             679.0   \n",
       "22381900       1996-09-01           3  Divisional Director            669.0   \n",
       "55079869       1999-11-01          10            recruiter            669.0   \n",
       "\n",
       "          fico_range_low grade home_ownership initial_list_status  \\\n",
       "id                                                                  \n",
       "1345430            685.0     C           RENT                   f   \n",
       "66006534           675.0     C       MORTGAGE                   f   \n",
       "6815121            675.0     C            OWN                   f   \n",
       "22381900           665.0     C           RENT                   w   \n",
       "55079869           665.0     C           RENT                   w   \n",
       "\n",
       "          installment  int_rate    issue_d  loan_amnt  open_acc  pub_rec  \\\n",
       "id                                                                         \n",
       "1345430        626.72     15.31 2012-06-01    18000.0       6.0      1.0   \n",
       "66006534       102.06     13.67 2015-12-01     3000.0       6.0      0.0   \n",
       "6815121         86.94     15.22 2013-08-01     2500.0       6.0      0.0   \n",
       "22381900       456.67     14.99 2014-07-01    19200.0      13.0      2.0   \n",
       "55079869       503.18     12.69 2015-07-01    15000.0      15.0      1.0   \n",
       "\n",
       "          pub_rec_bankruptcies             purpose sub_grade  term  \\\n",
       "id                                                                   \n",
       "1345430                    0.0  debt_consolidation        C3    36   \n",
       "66006534                   0.0    home_improvement        C4    36   \n",
       "6815121                    0.0      major_purchase        C3    36   \n",
       "22381900                   2.0         credit_card        C5    60   \n",
       "55079869                   1.0  debt_consolidation        C2    36   \n",
       "\n",
       "         verification_status zip_code  loan_status  \n",
       "id                                                  \n",
       "1345430             Verified    238xx            1  \n",
       "66006534     Source Verified    797xx            0  \n",
       "6815121         Not Verified    314xx            1  \n",
       "22381900     Source Verified    430xx            1  \n",
       "55079869     Source Verified    301xx            1  "
      ]
     },
     "execution_count": 79,
     "metadata": {},
     "output_type": "execute_result"
    }
   ],
   "source": [
    "df.sample(5)"
   ]
  },
  {
   "cell_type": "markdown",
   "metadata": {},
   "source": [
    "### Feature Engineering"
   ]
  },
  {
   "cell_type": "code",
   "execution_count": 80,
   "metadata": {},
   "outputs": [],
   "source": [
    "df['days_cr_line']=df['issue_d']-df['earliest_cr_line']\n",
    "#convert to int (https://www.codegrepper.com/code-examples/python/pandas+timedelta64+ns+to+float)\n",
    "df['days_cr_line'] = (df['days_cr_line'] / np.timedelta64(1,'D')).astype(int)"
   ]
  },
  {
   "cell_type": "markdown",
   "metadata": {},
   "source": [
    "### Convert Ordinals"
   ]
  },
  {
   "cell_type": "code",
   "execution_count": 81,
   "metadata": {},
   "outputs": [],
   "source": [
    "# sub_grade\n",
    "df.sub_grade.replace({'A1':1, 'A2':2, 'A3':3, 'A4':4, 'A5':5, 'B1':6, 'B2':7, \n",
    "                      'B3':8, 'B4':9, 'B5':10, 'C1':11, 'C2':12, 'C3':13, 'C4':14, \n",
    "                      'C5':15, 'D1':16, 'D2':17, 'D3':18, 'D4':19, 'D5':20, 'E1':21, \n",
    "                      'E2':22, 'E3':23, 'E4':24, 'E5':25}, inplace=True)\n",
    "\n",
    "# disbursement_method\n",
    "df.disbursement_method.replace({'Cash':0,'DirectPay':1},inplace=True)\n",
    "\n",
    "# verification_status\n",
    "df.verification_status.replace({'Source Verified':'Verified'},inplace=True)\n",
    "df.verification_status.replace({'Not Verified':0,'Verified':1}, inplace=True)\n",
    "\n",
    "# initial_list_status\n",
    "df.initial_list_status.replace({'w':0,'f':1}, inplace=True)\n",
    "\n",
    "# application_type\n",
    "df.application_type.replace({'Individual':0,'Joint App':1}, inplace=True)"
   ]
  },
  {
   "cell_type": "markdown",
   "metadata": {},
   "source": [
    "### Dummification"
   ]
  },
  {
   "cell_type": "code",
   "execution_count": 82,
   "metadata": {},
   "outputs": [],
   "source": [
    "dummies=['purpose','addr_state','home_ownership']\n",
    "\n",
    "for d in dummies:\n",
    "    temp = pd.get_dummies(df[d], prefix=d, prefix_sep='__')\n",
    "    temp = temp.drop(d+'__'+str(df[d].mode()[0]), axis=1)\n",
    "    #drop the most common one (mode), making it the base case\n",
    "    df = pd.concat([df.drop(d, axis=1),temp], axis=1)\n",
    "    #merge back with main df"
   ]
  },
  {
   "cell_type": "markdown",
   "metadata": {},
   "source": [
    "### Drop Columns"
   ]
  },
  {
   "cell_type": "code",
   "execution_count": 83,
   "metadata": {},
   "outputs": [],
   "source": [
    "df.drop(['emp_title','zip_code','grade','issue_d','earliest_cr_line'],axis=1, inplace=True)\n",
    "#remove earliest_cr_line when fixed"
   ]
  },
  {
   "cell_type": "markdown",
   "metadata": {},
   "source": [
    "### Drop Rows"
   ]
  },
  {
   "cell_type": "code",
   "execution_count": 84,
   "metadata": {},
   "outputs": [],
   "source": [
    "df.drop(df[df['emp_length']==-1].index, inplace=True)"
   ]
  },
  {
   "cell_type": "markdown",
   "metadata": {},
   "source": [
    "### Filter for years"
   ]
  },
  {
   "cell_type": "code",
   "execution_count": 85,
   "metadata": {},
   "outputs": [],
   "source": [
    "# df= df.loc[df['issue_d'].dt.year.between(2007,2014)]"
   ]
  },
  {
   "cell_type": "markdown",
   "metadata": {},
   "source": [
    "### Drop the 60month product"
   ]
  },
  {
   "cell_type": "code",
   "execution_count": 86,
   "metadata": {},
   "outputs": [],
   "source": [
    "df = df.loc[df['term']==36]\n",
    "df.drop('term', axis=1, inplace=True)"
   ]
  },
  {
   "cell_type": "markdown",
   "metadata": {},
   "source": [
    "# Modelling"
   ]
  },
  {
   "cell_type": "markdown",
   "metadata": {},
   "source": [
    "### create target and features"
   ]
  },
  {
   "cell_type": "code",
   "execution_count": 87,
   "metadata": {},
   "outputs": [],
   "source": [
    "target = df['loan_status']"
   ]
  },
  {
   "cell_type": "code",
   "execution_count": 88,
   "metadata": {},
   "outputs": [
    {
     "data": {
      "text/plain": [
       "1    801834\n",
       "0    144112\n",
       "Name: loan_status, dtype: int64"
      ]
     },
     "execution_count": 88,
     "metadata": {},
     "output_type": "execute_result"
    }
   ],
   "source": [
    "target.value_counts()"
   ]
  },
  {
   "cell_type": "code",
   "execution_count": 89,
   "metadata": {},
   "outputs": [],
   "source": [
    "features = df.drop(['loan_status'], axis=1)"
   ]
  },
  {
   "cell_type": "markdown",
   "metadata": {},
   "source": [
    "### note the reduced train_size of .10 = ~120,000 obs"
   ]
  },
  {
   "cell_type": "code",
   "execution_count": 90,
   "metadata": {},
   "outputs": [],
   "source": [
    "from sklearn.linear_model import LogisticRegression, LogisticRegressionCV\n",
    "from sklearn.model_selection import GridSearchCV, StratifiedKFold, train_test_split, KFold\n",
    "\n",
    "Xtrain, Xtest, ytrain, ytest = train_test_split(features, target, train_size=.10 )\n",
    "logr = LogisticRegression()"
   ]
  },
  {
   "cell_type": "code",
   "execution_count": 91,
   "metadata": {},
   "outputs": [],
   "source": [
    "# logr.get_params()"
   ]
  },
  {
   "cell_type": "markdown",
   "metadata": {},
   "source": [
    "### SMOTE to oversample minority class"
   ]
  },
  {
   "cell_type": "code",
   "execution_count": 92,
   "metadata": {},
   "outputs": [
    {
     "name": "stdout",
     "output_type": "stream",
     "text": [
      "Wall time: 14 s\n"
     ]
    }
   ],
   "source": [
    "%%time\n",
    "from imblearn.over_sampling import SMOTE\n",
    "smote = SMOTE(random_state = 101)\n",
    "X_oversample, y_oversample = smote.fit_resample(Xtrain, ytrain)"
   ]
  },
  {
   "cell_type": "code",
   "execution_count": 93,
   "metadata": {},
   "outputs": [
    {
     "name": "stdout",
     "output_type": "stream",
     "text": [
      "1    80115\n",
      "0    80115\n",
      "Name: loan_status, dtype: int64\n",
      "1    721719\n",
      "0    129633\n",
      "Name: loan_status, dtype: int64\n"
     ]
    }
   ],
   "source": [
    "print(y_oversample.value_counts())\n",
    "print(ytest.value_counts())"
   ]
  },
  {
   "cell_type": "code",
   "execution_count": 94,
   "metadata": {},
   "outputs": [],
   "source": [
    "X_oversample, y_oversample = smote.fit_resample(Xtrain, ytrain)"
   ]
  },
  {
   "cell_type": "markdown",
   "metadata": {},
   "source": [
    "### gridsearch"
   ]
  },
  {
   "cell_type": "code",
   "execution_count": 95,
   "metadata": {},
   "outputs": [],
   "source": [
    "Cs = [0.0001,0.001,0.01,1,10,100,1000,10000]\n",
    "params = [{'C':Cs, 'penalty':['l1','l2']}]\n",
    "grid_logr = GridSearchCV(estimator=logr, param_grid=params, cv=3)"
   ]
  },
  {
   "cell_type": "code",
   "execution_count": 96,
   "metadata": {},
   "outputs": [
    {
     "name": "stdout",
     "output_type": "stream",
     "text": [
      "Wall time: 34.6 s\n"
     ]
    },
    {
     "data": {
      "text/plain": [
       "GridSearchCV(cv=3, estimator=LogisticRegression(),\n",
       "             param_grid=[{'C': [0.0001, 0.001, 0.01, 1, 10, 100, 1000, 10000],\n",
       "                          'penalty': ['l1', 'l2']}])"
      ]
     },
     "execution_count": 96,
     "metadata": {},
     "output_type": "execute_result"
    }
   ],
   "source": [
    "%%time\n",
    "grid_logr.fit(X_oversample, y_oversample)"
   ]
  },
  {
   "cell_type": "code",
   "execution_count": 97,
   "metadata": {},
   "outputs": [
    {
     "name": "stdout",
     "output_type": "stream",
     "text": [
      "{'C': 100, 'penalty': 'l2'}\n",
      "0.6288709979404605\n"
     ]
    }
   ],
   "source": [
    "print(grid_logr.best_params_)\n",
    "print(grid_logr.best_score_)"
   ]
  },
  {
   "cell_type": "code",
   "execution_count": 98,
   "metadata": {},
   "outputs": [
    {
     "data": {
      "text/plain": [
       "0.6397071951437243"
      ]
     },
     "execution_count": 98,
     "metadata": {},
     "output_type": "execute_result"
    }
   ],
   "source": [
    "best_model = grid_logr.best_estimator_\n",
    "best_model.score(Xtest,ytest)"
   ]
  },
  {
   "cell_type": "code",
   "execution_count": 99,
   "metadata": {},
   "outputs": [],
   "source": [
    "coefs = pd.DataFrame(abs(best_model.coef_).T, index=features.columns)"
   ]
  },
  {
   "cell_type": "code",
   "execution_count": 100,
   "metadata": {},
   "outputs": [
    {
     "data": {
      "text/html": [
       "<div>\n",
       "<style scoped>\n",
       "    .dataframe tbody tr th:only-of-type {\n",
       "        vertical-align: middle;\n",
       "    }\n",
       "\n",
       "    .dataframe tbody tr th {\n",
       "        vertical-align: top;\n",
       "    }\n",
       "\n",
       "    .dataframe thead th {\n",
       "        text-align: right;\n",
       "    }\n",
       "</style>\n",
       "<table border=\"1\" class=\"dataframe\">\n",
       "  <thead>\n",
       "    <tr style=\"text-align: right;\">\n",
       "      <th></th>\n",
       "      <th>0</th>\n",
       "    </tr>\n",
       "  </thead>\n",
       "  <tbody>\n",
       "    <tr>\n",
       "      <th>installment</th>\n",
       "      <td>0.019272</td>\n",
       "    </tr>\n",
       "    <tr>\n",
       "      <th>sub_grade</th>\n",
       "      <td>0.003677</td>\n",
       "    </tr>\n",
       "    <tr>\n",
       "      <th>int_rate</th>\n",
       "      <td>0.003144</td>\n",
       "    </tr>\n",
       "    <tr>\n",
       "      <th>dti</th>\n",
       "      <td>0.002632</td>\n",
       "    </tr>\n",
       "    <tr>\n",
       "      <th>open_acc</th>\n",
       "      <td>0.000810</td>\n",
       "    </tr>\n",
       "    <tr>\n",
       "      <th>loan_amnt</th>\n",
       "      <td>0.000637</td>\n",
       "    </tr>\n",
       "    <tr>\n",
       "      <th>emp_length</th>\n",
       "      <td>0.000393</td>\n",
       "    </tr>\n",
       "    <tr>\n",
       "      <th>initial_list_status</th>\n",
       "      <td>0.000239</td>\n",
       "    </tr>\n",
       "    <tr>\n",
       "      <th>purpose__credit_card</th>\n",
       "      <td>0.000229</td>\n",
       "    </tr>\n",
       "    <tr>\n",
       "      <th>home_ownership__RENT</th>\n",
       "      <td>0.000149</td>\n",
       "    </tr>\n",
       "  </tbody>\n",
       "</table>\n",
       "</div>"
      ],
      "text/plain": [
       "                             0\n",
       "installment           0.019272\n",
       "sub_grade             0.003677\n",
       "int_rate              0.003144\n",
       "dti                   0.002632\n",
       "open_acc              0.000810\n",
       "loan_amnt             0.000637\n",
       "emp_length            0.000393\n",
       "initial_list_status   0.000239\n",
       "purpose__credit_card  0.000229\n",
       "home_ownership__RENT  0.000149"
      ]
     },
     "execution_count": 100,
     "metadata": {},
     "output_type": "execute_result"
    }
   ],
   "source": [
    "coefs.sort_values(0, ascending=False).head(10)"
   ]
  },
  {
   "cell_type": "markdown",
   "metadata": {},
   "source": [
    "### Confusion Matrix"
   ]
  },
  {
   "cell_type": "code",
   "execution_count": 101,
   "metadata": {},
   "outputs": [],
   "source": [
    "from sklearn.metrics import confusion_matrix"
   ]
  },
  {
   "cell_type": "code",
   "execution_count": 102,
   "metadata": {},
   "outputs": [
    {
     "data": {
      "text/html": [
       "<div>\n",
       "<style scoped>\n",
       "    .dataframe tbody tr th:only-of-type {\n",
       "        vertical-align: middle;\n",
       "    }\n",
       "\n",
       "    .dataframe tbody tr th {\n",
       "        vertical-align: top;\n",
       "    }\n",
       "\n",
       "    .dataframe thead th {\n",
       "        text-align: right;\n",
       "    }\n",
       "</style>\n",
       "<table border=\"1\" class=\"dataframe\">\n",
       "  <thead>\n",
       "    <tr style=\"text-align: right;\">\n",
       "      <th></th>\n",
       "      <th>Pred_0</th>\n",
       "      <th>Pred_1</th>\n",
       "    </tr>\n",
       "  </thead>\n",
       "  <tbody>\n",
       "    <tr>\n",
       "      <th>True_0</th>\n",
       "      <td>76703</td>\n",
       "      <td>52930</td>\n",
       "    </tr>\n",
       "    <tr>\n",
       "      <th>True_1</th>\n",
       "      <td>253806</td>\n",
       "      <td>467913</td>\n",
       "    </tr>\n",
       "  </tbody>\n",
       "</table>\n",
       "</div>"
      ],
      "text/plain": [
       "        Pred_0  Pred_1\n",
       "True_0   76703   52930\n",
       "True_1  253806  467913"
      ]
     },
     "execution_count": 102,
     "metadata": {},
     "output_type": "execute_result"
    }
   ],
   "source": [
    "cmat = confusion_matrix(ytest,best_model.predict(Xtest))\n",
    "\n",
    "#Label the confusion matrix\n",
    "pd.DataFrame(cmat, columns = [f'Pred_{label}' for label in best_model.classes_],\n",
    "             index = [f'True_{label}' for label in best_model.classes_])\n"
   ]
  },
  {
   "cell_type": "markdown",
   "metadata": {},
   "source": [
    "### Best model is one that strikes good balance of a high \"pred_1 precision\" and a high \"loan approval rate\""
   ]
  },
  {
   "cell_type": "code",
   "execution_count": 103,
   "metadata": {},
   "outputs": [
    {
     "name": "stdout",
     "output_type": "stream",
     "text": [
      "loan approval rate: 0.61\n",
      "precision pred_1: 0.90\n",
      "recall pred_1: 0.65\n"
     ]
    }
   ],
   "source": [
    "cmat=cmat\n",
    "print(f'loan approval rate: {sum(cmat[:,1])/sum(sum(cmat)):.2f}')\n",
    "print(f'precision pred_1: {cmat[1][1]/sum(cmat[:,1]):.2f}')\n",
    "print(f'recall pred_1: {cmat[1][1]/sum(cmat[1,:]):.2f}')"
   ]
  },
  {
   "cell_type": "code",
   "execution_count": 104,
   "metadata": {},
   "outputs": [
    {
     "name": "stdout",
     "output_type": "stream",
     "text": [
      "              precision    recall  f1-score   support\n",
      "\n",
      "           0       0.23      0.59      0.33    129633\n",
      "           1       0.90      0.65      0.75    721719\n",
      "\n",
      "    accuracy                           0.64    851352\n",
      "   macro avg       0.57      0.62      0.54    851352\n",
      "weighted avg       0.80      0.64      0.69    851352\n",
      "\n"
     ]
    }
   ],
   "source": [
    "from sklearn.metrics import classification_report\n",
    "print(classification_report(ytest, best_model.predict(Xtest)))"
   ]
  },
  {
   "cell_type": "markdown",
   "metadata": {},
   "source": [
    "### change the threshold to improve the FP score"
   ]
  },
  {
   "cell_type": "code",
   "execution_count": 105,
   "metadata": {},
   "outputs": [],
   "source": [
    "probs_positive_class = best_model.predict_proba(Xtest)[:, 1]\n",
    "prediction = probs_positive_class > .6"
   ]
  },
  {
   "cell_type": "code",
   "execution_count": 106,
   "metadata": {},
   "outputs": [
    {
     "data": {
      "text/html": [
       "<div>\n",
       "<style scoped>\n",
       "    .dataframe tbody tr th:only-of-type {\n",
       "        vertical-align: middle;\n",
       "    }\n",
       "\n",
       "    .dataframe tbody tr th {\n",
       "        vertical-align: top;\n",
       "    }\n",
       "\n",
       "    .dataframe thead th {\n",
       "        text-align: right;\n",
       "    }\n",
       "</style>\n",
       "<table border=\"1\" class=\"dataframe\">\n",
       "  <thead>\n",
       "    <tr style=\"text-align: right;\">\n",
       "      <th></th>\n",
       "      <th>Pred_0</th>\n",
       "      <th>Pred_1</th>\n",
       "    </tr>\n",
       "  </thead>\n",
       "  <tbody>\n",
       "    <tr>\n",
       "      <th>True_0</th>\n",
       "      <td>114197</td>\n",
       "      <td>15436</td>\n",
       "    </tr>\n",
       "    <tr>\n",
       "      <th>True_1</th>\n",
       "      <td>510447</td>\n",
       "      <td>211272</td>\n",
       "    </tr>\n",
       "  </tbody>\n",
       "</table>\n",
       "</div>"
      ],
      "text/plain": [
       "        Pred_0  Pred_1\n",
       "True_0  114197   15436\n",
       "True_1  510447  211272"
      ]
     },
     "execution_count": 106,
     "metadata": {},
     "output_type": "execute_result"
    }
   ],
   "source": [
    "cmat2 = confusion_matrix(ytest, prediction, labels=[0, 1])\n",
    "pd.DataFrame(cmat2, columns = [f'Pred_{label}' for label in best_model.classes_],\n",
    "             index = [f'True_{label}' for label in best_model.classes_])"
   ]
  },
  {
   "cell_type": "code",
   "execution_count": 107,
   "metadata": {},
   "outputs": [
    {
     "name": "stdout",
     "output_type": "stream",
     "text": [
      "              precision    recall  f1-score   support\n",
      "\n",
      "           0       0.18      0.88      0.30    129633\n",
      "           1       0.93      0.29      0.45    721719\n",
      "\n",
      "    accuracy                           0.38    851352\n",
      "   macro avg       0.56      0.59      0.37    851352\n",
      "weighted avg       0.82      0.38      0.42    851352\n",
      "\n"
     ]
    }
   ],
   "source": [
    "from sklearn.metrics import classification_report\n",
    "print(classification_report(ytest, prediction))"
   ]
  },
  {
   "cell_type": "code",
   "execution_count": 108,
   "metadata": {},
   "outputs": [
    {
     "name": "stdout",
     "output_type": "stream",
     "text": [
      "loan approval rate: 0.27\n",
      "precision pred_1: 0.93\n",
      "recall pred_1: 0.29\n"
     ]
    }
   ],
   "source": [
    "cmat=cmat2\n",
    "print(f'loan approval rate: {sum(cmat[:,1])/sum(sum(cmat)):.2f}')\n",
    "print(f'precision pred_1: {cmat[1][1]/sum(cmat[:,1]):.2f}')\n",
    "print(f'recall pred_1: {cmat[1][1]/sum(cmat[1,:]):.2f}')"
   ]
  },
  {
   "cell_type": "code",
   "execution_count": null,
   "metadata": {},
   "outputs": [],
   "source": []
  },
  {
   "cell_type": "code",
   "execution_count": null,
   "metadata": {},
   "outputs": [],
   "source": []
  },
  {
   "cell_type": "code",
   "execution_count": null,
   "metadata": {},
   "outputs": [],
   "source": []
  },
  {
   "cell_type": "code",
   "execution_count": null,
   "metadata": {},
   "outputs": [],
   "source": []
  },
  {
   "cell_type": "code",
   "execution_count": null,
   "metadata": {},
   "outputs": [],
   "source": []
  },
  {
   "cell_type": "markdown",
   "metadata": {},
   "source": [
    "## ROC Curve"
   ]
  },
  {
   "cell_type": "code",
   "execution_count": null,
   "metadata": {},
   "outputs": [],
   "source": [
    "from sklearn.metrics import roc_curve"
   ]
  },
  {
   "cell_type": "code",
   "execution_count": null,
   "metadata": {},
   "outputs": [],
   "source": [
    "# predict probabilities\n",
    "yhat = logr.predict_proba(Xtest)"
   ]
  },
  {
   "cell_type": "code",
   "execution_count": null,
   "metadata": {},
   "outputs": [],
   "source": [
    "# keep probabilities for the positive outcome only\n",
    "yhat = yhat[:, 1]"
   ]
  },
  {
   "cell_type": "code",
   "execution_count": null,
   "metadata": {},
   "outputs": [],
   "source": [
    "# calculate roc curves\n",
    "fpr, tpr, thresholds = roc_curve(ytest, yhat)"
   ]
  },
  {
   "cell_type": "code",
   "execution_count": null,
   "metadata": {},
   "outputs": [],
   "source": [
    "# plot the roc curve for the model\n",
    "plt.plot([0,1], [0,1], linestyle='--', label='No Skill')\n",
    "plt.plot(fpr, tpr, marker='.', label='Logistic')\n",
    "# axis labels\n",
    "plt.xlabel('False Positive Rate')\n",
    "plt.ylabel('True Positive Rate')\n",
    "plt.legend()\n",
    "# show the plot\n",
    "plt.show()"
   ]
  },
  {
   "cell_type": "code",
   "execution_count": null,
   "metadata": {},
   "outputs": [],
   "source": [
    "# calculate roc curves\n",
    "fpr, tpr, thresholds = roc_curve(ytest, prediction)"
   ]
  },
  {
   "cell_type": "code",
   "execution_count": null,
   "metadata": {},
   "outputs": [],
   "source": [
    "# plot the roc curve for the model\n",
    "plt.plot([0,1], [0,1], linestyle='--', label='No Skill')\n",
    "plt.plot(fpr, tpr, marker='.', label='Logistic')\n",
    "# axis labels\n",
    "plt.xlabel('False Positive Rate')\n",
    "plt.ylabel('True Positive Rate')\n",
    "plt.legend()\n",
    "# show the plot\n",
    "plt.show()"
   ]
  },
  {
   "cell_type": "markdown",
   "metadata": {},
   "source": [
    "### SGD classifier"
   ]
  },
  {
   "cell_type": "code",
   "execution_count": null,
   "metadata": {},
   "outputs": [],
   "source": []
  },
  {
   "cell_type": "code",
   "execution_count": null,
   "metadata": {},
   "outputs": [],
   "source": []
  },
  {
   "cell_type": "code",
   "execution_count": null,
   "metadata": {},
   "outputs": [],
   "source": []
  },
  {
   "cell_type": "markdown",
   "metadata": {},
   "source": [
    "### Save model in pickle"
   ]
  },
  {
   "cell_type": "code",
   "execution_count": null,
   "metadata": {},
   "outputs": [],
   "source": [
    "filename = 'grid_logr_model.sav'\n",
    "pickle.dump(grid_logr, open(filename, 'wb'))"
   ]
  },
  {
   "cell_type": "code",
   "execution_count": null,
   "metadata": {},
   "outputs": [],
   "source": [
    "loaded_model = pickle.load(open(filename, 'rb'))\n",
    "result = loaded_model.score(Xtest, ytest)\n",
    "print(result)"
   ]
  }
 ],
 "metadata": {
  "kernelspec": {
   "display_name": "Python 3",
   "language": "python",
   "name": "python3"
  },
  "language_info": {
   "codemirror_mode": {
    "name": "ipython",
    "version": 3
   },
   "file_extension": ".py",
   "mimetype": "text/x-python",
   "name": "python",
   "nbconvert_exporter": "python",
   "pygments_lexer": "ipython3",
   "version": "3.8.5"
  }
 },
 "nbformat": 4,
 "nbformat_minor": 4
}
