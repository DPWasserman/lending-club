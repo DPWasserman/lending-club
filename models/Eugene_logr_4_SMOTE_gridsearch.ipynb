{
 "cells": [
  {
   "cell_type": "markdown",
   "metadata": {},
   "source": [
    "Use SMOTE to upsample minority class and gridsearch"
   ]
  },
  {
   "cell_type": "code",
   "execution_count": 2,
   "metadata": {},
   "outputs": [],
   "source": [
    "#Installing imblearn\n",
    "#!pip install -U imbalanced-learn"
   ]
  },
  {
   "cell_type": "code",
   "execution_count": 32,
   "metadata": {},
   "outputs": [],
   "source": [
    "import pandas as pd\n",
    "import numpy as np\n",
    "import seaborn as sns\n",
    "import matplotlib.pyplot as plt\n",
    "%matplotlib inline\n",
    "import warnings\n",
    "warnings.filterwarnings('ignore')\n",
    "# pd.set_option('display.height', 500)\n",
    "pd.set_option('display.max_rows', 25)\n",
    "pd.set_option('display.max_columns', 50)"
   ]
  },
  {
   "cell_type": "code",
   "execution_count": 4,
   "metadata": {},
   "outputs": [
    {
     "name": "stdout",
     "output_type": "stream",
     "text": [
      "Wall time: 7.33 s\n"
     ]
    }
   ],
   "source": [
    "%%time\n",
    "df = pd.read_parquet('../data/approved.parquet', engine='fastparquet')"
   ]
  },
  {
   "cell_type": "code",
   "execution_count": 5,
   "metadata": {},
   "outputs": [
    {
     "data": {
      "text/html": [
       "<div>\n",
       "<style scoped>\n",
       "    .dataframe tbody tr th:only-of-type {\n",
       "        vertical-align: middle;\n",
       "    }\n",
       "\n",
       "    .dataframe tbody tr th {\n",
       "        vertical-align: top;\n",
       "    }\n",
       "\n",
       "    .dataframe thead th {\n",
       "        text-align: right;\n",
       "    }\n",
       "</style>\n",
       "<table border=\"1\" class=\"dataframe\">\n",
       "  <thead>\n",
       "    <tr style=\"text-align: right;\">\n",
       "      <th></th>\n",
       "      <th>addr_state</th>\n",
       "      <th>annual_inc</th>\n",
       "      <th>application_type</th>\n",
       "      <th>disbursement_method</th>\n",
       "      <th>dti</th>\n",
       "      <th>earliest_cr_line</th>\n",
       "      <th>emp_length</th>\n",
       "      <th>emp_title</th>\n",
       "      <th>fico_range_high</th>\n",
       "      <th>fico_range_low</th>\n",
       "      <th>grade</th>\n",
       "      <th>home_ownership</th>\n",
       "      <th>initial_list_status</th>\n",
       "      <th>installment</th>\n",
       "      <th>int_rate</th>\n",
       "      <th>issue_d</th>\n",
       "      <th>loan_amnt</th>\n",
       "      <th>open_acc</th>\n",
       "      <th>pub_rec</th>\n",
       "      <th>pub_rec_bankruptcies</th>\n",
       "      <th>purpose</th>\n",
       "      <th>sub_grade</th>\n",
       "      <th>term</th>\n",
       "      <th>verification_status</th>\n",
       "      <th>zip_code</th>\n",
       "      <th>loan_status</th>\n",
       "    </tr>\n",
       "    <tr>\n",
       "      <th>id</th>\n",
       "      <th></th>\n",
       "      <th></th>\n",
       "      <th></th>\n",
       "      <th></th>\n",
       "      <th></th>\n",
       "      <th></th>\n",
       "      <th></th>\n",
       "      <th></th>\n",
       "      <th></th>\n",
       "      <th></th>\n",
       "      <th></th>\n",
       "      <th></th>\n",
       "      <th></th>\n",
       "      <th></th>\n",
       "      <th></th>\n",
       "      <th></th>\n",
       "      <th></th>\n",
       "      <th></th>\n",
       "      <th></th>\n",
       "      <th></th>\n",
       "      <th></th>\n",
       "      <th></th>\n",
       "      <th></th>\n",
       "      <th></th>\n",
       "      <th></th>\n",
       "      <th></th>\n",
       "    </tr>\n",
       "  </thead>\n",
       "  <tbody>\n",
       "    <tr>\n",
       "      <th>625251</th>\n",
       "      <td>NC</td>\n",
       "      <td>52800.0</td>\n",
       "      <td>Individual</td>\n",
       "      <td>Cash</td>\n",
       "      <td>29.66</td>\n",
       "      <td>1996-08-01</td>\n",
       "      <td>6</td>\n",
       "      <td>Director of Communication</td>\n",
       "      <td>679.0</td>\n",
       "      <td>675.0</td>\n",
       "      <td>E</td>\n",
       "      <td>MORTGAGE</td>\n",
       "      <td>f</td>\n",
       "      <td>378.67</td>\n",
       "      <td>20.99</td>\n",
       "      <td>2015-01-01</td>\n",
       "      <td>14000.0</td>\n",
       "      <td>11.0</td>\n",
       "      <td>0.0</td>\n",
       "      <td>0.0</td>\n",
       "      <td>credit_card</td>\n",
       "      <td>E4</td>\n",
       "      <td>60</td>\n",
       "      <td>Not Verified</td>\n",
       "      <td>275xx</td>\n",
       "      <td>1</td>\n",
       "    </tr>\n",
       "    <tr>\n",
       "      <th>65332189</th>\n",
       "      <td>TX</td>\n",
       "      <td>114000.0</td>\n",
       "      <td>Individual</td>\n",
       "      <td>Cash</td>\n",
       "      <td>20.27</td>\n",
       "      <td>2006-11-01</td>\n",
       "      <td>7</td>\n",
       "      <td>Senior Manager</td>\n",
       "      <td>709.0</td>\n",
       "      <td>705.0</td>\n",
       "      <td>D</td>\n",
       "      <td>RENT</td>\n",
       "      <td>f</td>\n",
       "      <td>672.16</td>\n",
       "      <td>15.41</td>\n",
       "      <td>2015-11-01</td>\n",
       "      <td>28000.0</td>\n",
       "      <td>13.0</td>\n",
       "      <td>0.0</td>\n",
       "      <td>0.0</td>\n",
       "      <td>credit_card</td>\n",
       "      <td>D1</td>\n",
       "      <td>60</td>\n",
       "      <td>Verified</td>\n",
       "      <td>787xx</td>\n",
       "      <td>1</td>\n",
       "    </tr>\n",
       "    <tr>\n",
       "      <th>71816772</th>\n",
       "      <td>LA</td>\n",
       "      <td>72700.0</td>\n",
       "      <td>Individual</td>\n",
       "      <td>Cash</td>\n",
       "      <td>37.64</td>\n",
       "      <td>1990-01-01</td>\n",
       "      <td>6</td>\n",
       "      <td>Chem   Driver</td>\n",
       "      <td>729.0</td>\n",
       "      <td>725.0</td>\n",
       "      <td>D</td>\n",
       "      <td>MORTGAGE</td>\n",
       "      <td>w</td>\n",
       "      <td>926.89</td>\n",
       "      <td>17.27</td>\n",
       "      <td>2016-02-01</td>\n",
       "      <td>25900.0</td>\n",
       "      <td>5.0</td>\n",
       "      <td>0.0</td>\n",
       "      <td>0.0</td>\n",
       "      <td>debt_consolidation</td>\n",
       "      <td>D2</td>\n",
       "      <td>36</td>\n",
       "      <td>Verified</td>\n",
       "      <td>707xx</td>\n",
       "      <td>1</td>\n",
       "    </tr>\n",
       "    <tr>\n",
       "      <th>5334835</th>\n",
       "      <td>MI</td>\n",
       "      <td>46000.0</td>\n",
       "      <td>Individual</td>\n",
       "      <td>Cash</td>\n",
       "      <td>23.63</td>\n",
       "      <td>2003-10-01</td>\n",
       "      <td>2</td>\n",
       "      <td>Rco enginerring</td>\n",
       "      <td>684.0</td>\n",
       "      <td>680.0</td>\n",
       "      <td>C</td>\n",
       "      <td>OWN</td>\n",
       "      <td>f</td>\n",
       "      <td>343.39</td>\n",
       "      <td>14.33</td>\n",
       "      <td>2013-05-01</td>\n",
       "      <td>10000.0</td>\n",
       "      <td>7.0</td>\n",
       "      <td>0.0</td>\n",
       "      <td>0.0</td>\n",
       "      <td>debt_consolidation</td>\n",
       "      <td>C1</td>\n",
       "      <td>36</td>\n",
       "      <td>Not Verified</td>\n",
       "      <td>481xx</td>\n",
       "      <td>1</td>\n",
       "    </tr>\n",
       "    <tr>\n",
       "      <th>11925452</th>\n",
       "      <td>CA</td>\n",
       "      <td>42000.0</td>\n",
       "      <td>Individual</td>\n",
       "      <td>Cash</td>\n",
       "      <td>27.86</td>\n",
       "      <td>2002-10-01</td>\n",
       "      <td>2</td>\n",
       "      <td>hvac teck</td>\n",
       "      <td>689.0</td>\n",
       "      <td>685.0</td>\n",
       "      <td>D</td>\n",
       "      <td>RENT</td>\n",
       "      <td>f</td>\n",
       "      <td>310.76</td>\n",
       "      <td>18.92</td>\n",
       "      <td>2014-02-01</td>\n",
       "      <td>12000.0</td>\n",
       "      <td>5.0</td>\n",
       "      <td>0.0</td>\n",
       "      <td>0.0</td>\n",
       "      <td>debt_consolidation</td>\n",
       "      <td>D4</td>\n",
       "      <td>60</td>\n",
       "      <td>Verified</td>\n",
       "      <td>950xx</td>\n",
       "      <td>0</td>\n",
       "    </tr>\n",
       "  </tbody>\n",
       "</table>\n",
       "</div>"
      ],
      "text/plain": [
       "         addr_state  annual_inc application_type disbursement_method    dti  \\\n",
       "id                                                                            \n",
       "625251           NC     52800.0       Individual                Cash  29.66   \n",
       "65332189         TX    114000.0       Individual                Cash  20.27   \n",
       "71816772         LA     72700.0       Individual                Cash  37.64   \n",
       "5334835          MI     46000.0       Individual                Cash  23.63   \n",
       "11925452         CA     42000.0       Individual                Cash  27.86   \n",
       "\n",
       "         earliest_cr_line  emp_length                  emp_title  \\\n",
       "id                                                                 \n",
       "625251         1996-08-01           6  Director of Communication   \n",
       "65332189       2006-11-01           7             Senior Manager   \n",
       "71816772       1990-01-01           6              Chem   Driver   \n",
       "5334835        2003-10-01           2           Rco enginerring    \n",
       "11925452       2002-10-01           2                  hvac teck   \n",
       "\n",
       "          fico_range_high  fico_range_low grade home_ownership  \\\n",
       "id                                                               \n",
       "625251              679.0           675.0     E       MORTGAGE   \n",
       "65332189            709.0           705.0     D           RENT   \n",
       "71816772            729.0           725.0     D       MORTGAGE   \n",
       "5334835             684.0           680.0     C            OWN   \n",
       "11925452            689.0           685.0     D           RENT   \n",
       "\n",
       "         initial_list_status  installment  int_rate    issue_d  loan_amnt  \\\n",
       "id                                                                          \n",
       "625251                     f       378.67     20.99 2015-01-01    14000.0   \n",
       "65332189                   f       672.16     15.41 2015-11-01    28000.0   \n",
       "71816772                   w       926.89     17.27 2016-02-01    25900.0   \n",
       "5334835                    f       343.39     14.33 2013-05-01    10000.0   \n",
       "11925452                   f       310.76     18.92 2014-02-01    12000.0   \n",
       "\n",
       "          open_acc  pub_rec  pub_rec_bankruptcies             purpose  \\\n",
       "id                                                                      \n",
       "625251        11.0      0.0                   0.0         credit_card   \n",
       "65332189      13.0      0.0                   0.0         credit_card   \n",
       "71816772       5.0      0.0                   0.0  debt_consolidation   \n",
       "5334835        7.0      0.0                   0.0  debt_consolidation   \n",
       "11925452       5.0      0.0                   0.0  debt_consolidation   \n",
       "\n",
       "         sub_grade  term verification_status zip_code  loan_status  \n",
       "id                                                                  \n",
       "625251          E4    60        Not Verified    275xx            1  \n",
       "65332189        D1    60            Verified    787xx            1  \n",
       "71816772        D2    36            Verified    707xx            1  \n",
       "5334835         C1    36        Not Verified    481xx            1  \n",
       "11925452        D4    60            Verified    950xx            0  "
      ]
     },
     "execution_count": 5,
     "metadata": {},
     "output_type": "execute_result"
    }
   ],
   "source": [
    "df.sample(5)"
   ]
  },
  {
   "cell_type": "markdown",
   "metadata": {},
   "source": [
    "### Feature Engineering"
   ]
  },
  {
   "cell_type": "code",
   "execution_count": 6,
   "metadata": {},
   "outputs": [],
   "source": [
    "df['days_cr_line']=df['issue_d']-df['earliest_cr_line']\n",
    "#convert to int (https://www.codegrepper.com/code-examples/python/pandas+timedelta64+ns+to+float)\n",
    "df['days_cr_line'] = (df['days_cr_line'] / np.timedelta64(1,'D')).astype(int)"
   ]
  },
  {
   "cell_type": "markdown",
   "metadata": {},
   "source": [
    "### Convert Ordinals"
   ]
  },
  {
   "cell_type": "code",
   "execution_count": 7,
   "metadata": {},
   "outputs": [],
   "source": [
    "# sub_grade\n",
    "df.sub_grade.replace({'A1':1, 'A2':2, 'A3':3, 'A4':4, 'A5':5, 'B1':6, 'B2':7, \n",
    "                      'B3':8, 'B4':9, 'B5':10, 'C1':11, 'C2':12, 'C3':13, 'C4':14, \n",
    "                      'C5':15, 'D1':16, 'D2':17, 'D3':18, 'D4':19, 'D5':20, 'E1':21, \n",
    "                      'E2':22, 'E3':23, 'E4':24, 'E5':25}, inplace=True)\n",
    "\n",
    "# disbursement_method\n",
    "df.disbursement_method.replace({'Cash':0,'DirectPay':1},inplace=True)\n",
    "\n",
    "# verification_status\n",
    "df.verification_status.replace({'Source Verified':'Verified'},inplace=True)\n",
    "df.verification_status.replace({'Not Verified':0,'Verified':1}, inplace=True)\n",
    "\n",
    "# initial_list_status\n",
    "df.initial_list_status.replace({'w':0,'f':1}, inplace=True)\n",
    "\n",
    "# application_type\n",
    "df.application_type.replace({'Individual':0,'Joint App':1}, inplace=True)"
   ]
  },
  {
   "cell_type": "markdown",
   "metadata": {},
   "source": [
    "### Dummification"
   ]
  },
  {
   "cell_type": "code",
   "execution_count": 8,
   "metadata": {},
   "outputs": [],
   "source": [
    "dummies=['purpose','addr_state','home_ownership']\n",
    "\n",
    "for d in dummies:\n",
    "    temp = pd.get_dummies(df[d], prefix=d, prefix_sep='__')\n",
    "    temp = temp.drop(d+'__'+str(df[d].mode()[0]), axis=1)\n",
    "    #drop the most common one (mode), making it the base case\n",
    "    df = pd.concat([df.drop(d, axis=1),temp], axis=1)\n",
    "    #merge back with main df"
   ]
  },
  {
   "cell_type": "markdown",
   "metadata": {},
   "source": [
    "### Drop Columns"
   ]
  },
  {
   "cell_type": "code",
   "execution_count": 9,
   "metadata": {},
   "outputs": [],
   "source": [
    "df.drop(['emp_title','zip_code','grade','issue_d','earliest_cr_line'],axis=1, inplace=True)\n",
    "#remove earliest_cr_line when fixed"
   ]
  },
  {
   "cell_type": "markdown",
   "metadata": {},
   "source": [
    "### Drop Rows"
   ]
  },
  {
   "cell_type": "code",
   "execution_count": 10,
   "metadata": {},
   "outputs": [],
   "source": [
    "df.drop(df[df['emp_length']==-1].index, inplace=True)"
   ]
  },
  {
   "cell_type": "markdown",
   "metadata": {},
   "source": [
    "# Modelling"
   ]
  },
  {
   "cell_type": "markdown",
   "metadata": {},
   "source": [
    "### create target and features"
   ]
  },
  {
   "cell_type": "code",
   "execution_count": 11,
   "metadata": {},
   "outputs": [],
   "source": [
    "target = df['loan_status']"
   ]
  },
  {
   "cell_type": "code",
   "execution_count": 12,
   "metadata": {},
   "outputs": [
    {
     "data": {
      "text/plain": [
       "1    997634\n",
       "0    229388\n",
       "Name: loan_status, dtype: int64"
      ]
     },
     "execution_count": 12,
     "metadata": {},
     "output_type": "execute_result"
    }
   ],
   "source": [
    "target.value_counts()"
   ]
  },
  {
   "cell_type": "code",
   "execution_count": 13,
   "metadata": {},
   "outputs": [],
   "source": [
    "features = df.drop(['loan_status'], axis=1)"
   ]
  },
  {
   "cell_type": "markdown",
   "metadata": {},
   "source": [
    "### note the reduced train_size of .10 = ~120,000 obs"
   ]
  },
  {
   "cell_type": "code",
   "execution_count": 14,
   "metadata": {},
   "outputs": [],
   "source": [
    "from sklearn.linear_model import LogisticRegression, LogisticRegressionCV\n",
    "from sklearn.model_selection import GridSearchCV, StratifiedKFold, train_test_split, KFold\n",
    "\n",
    "Xtrain, Xtest, ytrain, ytest = train_test_split(features, target, train_size=.10 )\n",
    "logr = LogisticRegression()"
   ]
  },
  {
   "cell_type": "code",
   "execution_count": 15,
   "metadata": {},
   "outputs": [
    {
     "data": {
      "text/plain": [
       "{'C': 1.0,\n",
       " 'class_weight': None,\n",
       " 'dual': False,\n",
       " 'fit_intercept': True,\n",
       " 'intercept_scaling': 1,\n",
       " 'l1_ratio': None,\n",
       " 'max_iter': 100,\n",
       " 'multi_class': 'auto',\n",
       " 'n_jobs': None,\n",
       " 'penalty': 'l2',\n",
       " 'random_state': None,\n",
       " 'solver': 'lbfgs',\n",
       " 'tol': 0.0001,\n",
       " 'verbose': 0,\n",
       " 'warm_start': False}"
      ]
     },
     "execution_count": 15,
     "metadata": {},
     "output_type": "execute_result"
    }
   ],
   "source": [
    "logr.get_params()"
   ]
  },
  {
   "cell_type": "markdown",
   "metadata": {},
   "source": [
    "### SMOTE to oversample minority class"
   ]
  },
  {
   "cell_type": "code",
   "execution_count": 16,
   "metadata": {},
   "outputs": [
    {
     "name": "stdout",
     "output_type": "stream",
     "text": [
      "Wall time: 14.6 s\n"
     ]
    }
   ],
   "source": [
    "%%time\n",
    "from imblearn.over_sampling import SMOTE\n",
    "smote = SMOTE(random_state = 101)\n",
    "X_oversample, y_oversample = smote.fit_resample(Xtrain, ytrain)"
   ]
  },
  {
   "cell_type": "code",
   "execution_count": 17,
   "metadata": {},
   "outputs": [
    {
     "name": "stdout",
     "output_type": "stream",
     "text": [
      "1    99949\n",
      "0    99949\n",
      "Name: loan_status, dtype: int64\n",
      "1    897685\n",
      "0    206635\n",
      "Name: loan_status, dtype: int64\n"
     ]
    }
   ],
   "source": [
    "print(y_oversample.value_counts())\n",
    "print(ytest.value_counts())"
   ]
  },
  {
   "cell_type": "markdown",
   "metadata": {},
   "source": [
    "### gridsearch"
   ]
  },
  {
   "cell_type": "code",
   "execution_count": 18,
   "metadata": {},
   "outputs": [],
   "source": [
    "Cs = [0.0001,0.001,0.01,1,10,100,1000,10000]\n",
    "params = [{'C':Cs, 'penalty':['l1','l2']}]\n",
    "grid_logr = GridSearchCV(estimator=logr, param_grid=params, cv=3)"
   ]
  },
  {
   "cell_type": "code",
   "execution_count": 19,
   "metadata": {},
   "outputs": [
    {
     "name": "stdout",
     "output_type": "stream",
     "text": [
      "Wall time: 54.9 s\n"
     ]
    },
    {
     "data": {
      "text/plain": [
       "GridSearchCV(cv=3, estimator=LogisticRegression(),\n",
       "             param_grid=[{'C': [0.0001, 0.001, 0.01, 1, 10, 100, 1000, 10000],\n",
       "                          'penalty': ['l1', 'l2']}])"
      ]
     },
     "execution_count": 19,
     "metadata": {},
     "output_type": "execute_result"
    }
   ],
   "source": [
    "%%time\n",
    "grid_logr.fit(X_oversample, y_oversample)"
   ]
  },
  {
   "cell_type": "code",
   "execution_count": 20,
   "metadata": {},
   "outputs": [
    {
     "name": "stdout",
     "output_type": "stream",
     "text": [
      "{'C': 0.01, 'penalty': 'l2'}\n",
      "0.64515402630952\n"
     ]
    }
   ],
   "source": [
    "print(grid_logr.best_params_)\n",
    "print(grid_logr.best_score_)"
   ]
  },
  {
   "cell_type": "code",
   "execution_count": 21,
   "metadata": {},
   "outputs": [
    {
     "data": {
      "text/plain": [
       "0.6503024485656331"
      ]
     },
     "execution_count": 21,
     "metadata": {},
     "output_type": "execute_result"
    }
   ],
   "source": [
    "best_model = grid_logr.best_estimator_\n",
    "best_model.score(Xtest,ytest)"
   ]
  },
  {
   "cell_type": "code",
   "execution_count": 22,
   "metadata": {},
   "outputs": [],
   "source": [
    "coefs = pd.DataFrame(abs(best_model.coef_).T, index=features.columns)"
   ]
  },
  {
   "cell_type": "code",
   "execution_count": 23,
   "metadata": {},
   "outputs": [
    {
     "data": {
      "text/html": [
       "<div>\n",
       "<style scoped>\n",
       "    .dataframe tbody tr th:only-of-type {\n",
       "        vertical-align: middle;\n",
       "    }\n",
       "\n",
       "    .dataframe tbody tr th {\n",
       "        vertical-align: top;\n",
       "    }\n",
       "\n",
       "    .dataframe thead th {\n",
       "        text-align: right;\n",
       "    }\n",
       "</style>\n",
       "<table border=\"1\" class=\"dataframe\">\n",
       "  <thead>\n",
       "    <tr style=\"text-align: right;\">\n",
       "      <th></th>\n",
       "      <th>0</th>\n",
       "    </tr>\n",
       "  </thead>\n",
       "  <tbody>\n",
       "    <tr>\n",
       "      <th>sub_grade</th>\n",
       "      <td>0.043926</td>\n",
       "    </tr>\n",
       "    <tr>\n",
       "      <th>term</th>\n",
       "      <td>0.041685</td>\n",
       "    </tr>\n",
       "    <tr>\n",
       "      <th>int_rate</th>\n",
       "      <td>0.036030</td>\n",
       "    </tr>\n",
       "    <tr>\n",
       "      <th>dti</th>\n",
       "      <td>0.028586</td>\n",
       "    </tr>\n",
       "    <tr>\n",
       "      <th>open_acc</th>\n",
       "      <td>0.009068</td>\n",
       "    </tr>\n",
       "    <tr>\n",
       "      <th>emp_length</th>\n",
       "      <td>0.004768</td>\n",
       "    </tr>\n",
       "    <tr>\n",
       "      <th>fico_range_low</th>\n",
       "      <td>0.002711</td>\n",
       "    </tr>\n",
       "    <tr>\n",
       "      <th>initial_list_status</th>\n",
       "      <td>0.002577</td>\n",
       "    </tr>\n",
       "    <tr>\n",
       "      <th>purpose__credit_card</th>\n",
       "      <td>0.002240</td>\n",
       "    </tr>\n",
       "    <tr>\n",
       "      <th>installment</th>\n",
       "      <td>0.002119</td>\n",
       "    </tr>\n",
       "  </tbody>\n",
       "</table>\n",
       "</div>"
      ],
      "text/plain": [
       "                             0\n",
       "sub_grade             0.043926\n",
       "term                  0.041685\n",
       "int_rate              0.036030\n",
       "dti                   0.028586\n",
       "open_acc              0.009068\n",
       "emp_length            0.004768\n",
       "fico_range_low        0.002711\n",
       "initial_list_status   0.002577\n",
       "purpose__credit_card  0.002240\n",
       "installment           0.002119"
      ]
     },
     "execution_count": 23,
     "metadata": {},
     "output_type": "execute_result"
    }
   ],
   "source": [
    "coefs.sort_values(0, ascending=False).head(10)"
   ]
  },
  {
   "cell_type": "markdown",
   "metadata": {},
   "source": [
    "### Confusion Matrix"
   ]
  },
  {
   "cell_type": "code",
   "execution_count": 24,
   "metadata": {},
   "outputs": [],
   "source": [
    "from sklearn.metrics import confusion_matrix"
   ]
  },
  {
   "cell_type": "code",
   "execution_count": 25,
   "metadata": {},
   "outputs": [
    {
     "data": {
      "text/html": [
       "<div>\n",
       "<style scoped>\n",
       "    .dataframe tbody tr th:only-of-type {\n",
       "        vertical-align: middle;\n",
       "    }\n",
       "\n",
       "    .dataframe tbody tr th {\n",
       "        vertical-align: top;\n",
       "    }\n",
       "\n",
       "    .dataframe thead th {\n",
       "        text-align: right;\n",
       "    }\n",
       "</style>\n",
       "<table border=\"1\" class=\"dataframe\">\n",
       "  <thead>\n",
       "    <tr style=\"text-align: right;\">\n",
       "      <th></th>\n",
       "      <th>Pred_0</th>\n",
       "      <th>Pred_1</th>\n",
       "    </tr>\n",
       "  </thead>\n",
       "  <tbody>\n",
       "    <tr>\n",
       "      <th>True_0</th>\n",
       "      <td>128102</td>\n",
       "      <td>78533</td>\n",
       "    </tr>\n",
       "    <tr>\n",
       "      <th>True_1</th>\n",
       "      <td>307645</td>\n",
       "      <td>590040</td>\n",
       "    </tr>\n",
       "  </tbody>\n",
       "</table>\n",
       "</div>"
      ],
      "text/plain": [
       "        Pred_0  Pred_1\n",
       "True_0  128102   78533\n",
       "True_1  307645  590040"
      ]
     },
     "execution_count": 25,
     "metadata": {},
     "output_type": "execute_result"
    }
   ],
   "source": [
    "cmat = confusion_matrix(ytest,best_model.predict(Xtest))\n",
    "\n",
    "#Label the confusion matrix\n",
    "pd.DataFrame(cmat, columns = [f'Pred_{label}' for label in best_model.classes_],\n",
    "             index = [f'True_{label}' for label in best_model.classes_])\n"
   ]
  },
  {
   "cell_type": "markdown",
   "metadata": {},
   "source": [
    "### Best model is one that strikes good balance of a high \"pred_1 precision\" and a high \"loan approval rate\""
   ]
  },
  {
   "cell_type": "code",
   "execution_count": 26,
   "metadata": {},
   "outputs": [
    {
     "name": "stdout",
     "output_type": "stream",
     "text": [
      "loan approval rate: 0.61\n",
      "precision pred_1: 0.88\n",
      "recall pred_1: 0.66\n"
     ]
    }
   ],
   "source": [
    "cmat=cmat\n",
    "print(f'loan approval rate: {sum(cmat[:,1])/sum(sum(cmat)):.2f}')\n",
    "print(f'precision pred_1: {cmat[1][1]/sum(cmat[:,1]):.2f}')\n",
    "print(f'recall pred_1: {cmat[1][1]/sum(cmat[1,:]):.2f}')"
   ]
  },
  {
   "cell_type": "code",
   "execution_count": null,
   "metadata": {},
   "outputs": [],
   "source": []
  },
  {
   "cell_type": "code",
   "execution_count": 27,
   "metadata": {},
   "outputs": [
    {
     "name": "stdout",
     "output_type": "stream",
     "text": [
      "              precision    recall  f1-score   support\n",
      "\n",
      "           0       0.29      0.62      0.40    206635\n",
      "           1       0.88      0.66      0.75    897685\n",
      "\n",
      "    accuracy                           0.65   1104320\n",
      "   macro avg       0.59      0.64      0.58   1104320\n",
      "weighted avg       0.77      0.65      0.69   1104320\n",
      "\n"
     ]
    }
   ],
   "source": [
    "from sklearn.metrics import classification_report\n",
    "print(classification_report(ytest, best_model.predict(Xtest)))"
   ]
  },
  {
   "cell_type": "markdown",
   "metadata": {},
   "source": [
    "### change the threshold to improve the pred_1 precision"
   ]
  },
  {
   "cell_type": "code",
   "execution_count": 48,
   "metadata": {},
   "outputs": [],
   "source": [
    "probs_positive_class = best_model.predict_proba(Xtest)[:, 1] #isolates probability for pred_1\n",
    "prediction = probs_positive_class > .6 #converts to true/false boolean. can be inputted into confusion matrix now"
   ]
  },
  {
   "cell_type": "code",
   "execution_count": 49,
   "metadata": {},
   "outputs": [
    {
     "data": {
      "text/html": [
       "<div>\n",
       "<style scoped>\n",
       "    .dataframe tbody tr th:only-of-type {\n",
       "        vertical-align: middle;\n",
       "    }\n",
       "\n",
       "    .dataframe tbody tr th {\n",
       "        vertical-align: top;\n",
       "    }\n",
       "\n",
       "    .dataframe thead th {\n",
       "        text-align: right;\n",
       "    }\n",
       "</style>\n",
       "<table border=\"1\" class=\"dataframe\">\n",
       "  <thead>\n",
       "    <tr style=\"text-align: right;\">\n",
       "      <th></th>\n",
       "      <th>Pred_0</th>\n",
       "      <th>Pred_1</th>\n",
       "    </tr>\n",
       "  </thead>\n",
       "  <tbody>\n",
       "    <tr>\n",
       "      <th>True_0</th>\n",
       "      <td>166949</td>\n",
       "      <td>39686</td>\n",
       "    </tr>\n",
       "    <tr>\n",
       "      <th>True_1</th>\n",
       "      <td>495452</td>\n",
       "      <td>402233</td>\n",
       "    </tr>\n",
       "  </tbody>\n",
       "</table>\n",
       "</div>"
      ],
      "text/plain": [
       "        Pred_0  Pred_1\n",
       "True_0  166949   39686\n",
       "True_1  495452  402233"
      ]
     },
     "execution_count": 49,
     "metadata": {},
     "output_type": "execute_result"
    }
   ],
   "source": [
    "cmat2 = confusion_matrix(ytest, prediction)\n",
    "pd.DataFrame(cmat2, columns = [f'Pred_{label}' for label in best_model.classes_],\n",
    "             index = [f'True_{label}' for label in best_model.classes_])"
   ]
  },
  {
   "cell_type": "code",
   "execution_count": 30,
   "metadata": {},
   "outputs": [
    {
     "name": "stdout",
     "output_type": "stream",
     "text": [
      "              precision    recall  f1-score   support\n",
      "\n",
      "           0       0.25      0.81      0.38    206635\n",
      "           1       0.91      0.45      0.60    897685\n",
      "\n",
      "    accuracy                           0.52   1104320\n",
      "   macro avg       0.58      0.63      0.49   1104320\n",
      "weighted avg       0.79      0.52      0.56   1104320\n",
      "\n"
     ]
    }
   ],
   "source": [
    "from sklearn.metrics import classification_report\n",
    "print(classification_report(ytest, prediction))"
   ]
  },
  {
   "cell_type": "code",
   "execution_count": 31,
   "metadata": {},
   "outputs": [
    {
     "name": "stdout",
     "output_type": "stream",
     "text": [
      "loan approval rate: 0.40\n",
      "precision pred_1: 0.91\n",
      "recall pred_1: 0.45\n"
     ]
    }
   ],
   "source": [
    "cmat=cmat2\n",
    "print(f'loan approval rate: {sum(cmat[:,1])/sum(sum(cmat)):.2f}')\n",
    "print(f'precision pred_1: {cmat[1][1]/sum(cmat[:,1]):.2f}')\n",
    "print(f'recall pred_1: {cmat[1][1]/sum(cmat[1,:]):.2f}')"
   ]
  },
  {
   "cell_type": "markdown",
   "metadata": {},
   "source": [
    "### Loop to check thresholds"
   ]
  },
  {
   "cell_type": "code",
   "execution_count": 34,
   "metadata": {},
   "outputs": [
    {
     "name": "stdout",
     "output_type": "stream",
     "text": [
      "threshold:0.50\n",
      "loan approval rate: 0.61\n",
      "precision pred_1: 0.88\n",
      "recall pred_1: 0.66\n",
      "--------------------------------------------------\n",
      "threshold:0.53\n",
      "loan approval rate: 0.55\n",
      "precision pred_1: 0.89\n",
      "recall pred_1: 0.60\n",
      "--------------------------------------------------\n",
      "threshold:0.56\n",
      "loan approval rate: 0.50\n",
      "precision pred_1: 0.90\n",
      "recall pred_1: 0.55\n",
      "--------------------------------------------------\n",
      "threshold:0.58\n",
      "loan approval rate: 0.44\n",
      "precision pred_1: 0.91\n",
      "recall pred_1: 0.49\n",
      "--------------------------------------------------\n",
      "threshold:0.61\n",
      "loan approval rate: 0.38\n",
      "precision pred_1: 0.91\n",
      "recall pred_1: 0.42\n",
      "--------------------------------------------------\n",
      "threshold:0.64\n",
      "loan approval rate: 0.32\n",
      "precision pred_1: 0.92\n",
      "recall pred_1: 0.36\n",
      "--------------------------------------------------\n",
      "threshold:0.67\n",
      "loan approval rate: 0.26\n",
      "precision pred_1: 0.93\n",
      "recall pred_1: 0.30\n",
      "--------------------------------------------------\n",
      "threshold:0.69\n",
      "loan approval rate: 0.20\n",
      "precision pred_1: 0.94\n",
      "recall pred_1: 0.24\n",
      "--------------------------------------------------\n",
      "threshold:0.72\n",
      "loan approval rate: 0.16\n",
      "precision pred_1: 0.95\n",
      "recall pred_1: 0.18\n",
      "--------------------------------------------------\n",
      "threshold:0.75\n",
      "loan approval rate: 0.11\n",
      "precision pred_1: 0.95\n",
      "recall pred_1: 0.13\n",
      "--------------------------------------------------\n",
      "threshold:0.78\n",
      "loan approval rate: 0.07\n",
      "precision pred_1: 0.96\n",
      "recall pred_1: 0.09\n",
      "--------------------------------------------------\n",
      "threshold:0.81\n",
      "loan approval rate: 0.04\n",
      "precision pred_1: 0.97\n",
      "recall pred_1: 0.05\n",
      "--------------------------------------------------\n",
      "threshold:0.83\n",
      "loan approval rate: 0.02\n",
      "precision pred_1: 0.97\n",
      "recall pred_1: 0.03\n",
      "--------------------------------------------------\n",
      "threshold:0.86\n",
      "loan approval rate: 0.01\n",
      "precision pred_1: 0.97\n",
      "recall pred_1: 0.01\n",
      "--------------------------------------------------\n",
      "threshold:0.89\n",
      "loan approval rate: 0.00\n",
      "precision pred_1: 0.97\n",
      "recall pred_1: 0.00\n",
      "--------------------------------------------------\n",
      "threshold:0.92\n",
      "loan approval rate: 0.00\n",
      "precision pred_1: 0.94\n",
      "recall pred_1: 0.00\n",
      "--------------------------------------------------\n",
      "threshold:0.94\n",
      "loan approval rate: 0.00\n",
      "precision pred_1: 0.87\n",
      "recall pred_1: 0.00\n",
      "--------------------------------------------------\n",
      "threshold:0.97\n",
      "loan approval rate: 0.00\n",
      "precision pred_1: 0.82\n",
      "recall pred_1: 0.00\n",
      "--------------------------------------------------\n",
      "threshold:1.00\n",
      "loan approval rate: 0.00\n",
      "precision pred_1: nan\n",
      "recall pred_1: 0.00\n",
      "--------------------------------------------------\n"
     ]
    }
   ],
   "source": [
    "thresholds = np.linspace(0.5,1,19)\n",
    "\n",
    "for i in thresholds:\n",
    "    probs_positive_class = best_model.predict_proba(Xtest)[:, 1]\n",
    "    prediction = probs_positive_class > i\n",
    "    cmat = confusion_matrix(ytest, prediction, labels=[0, 1])\n",
    "    print(f'threshold:{i:.2f}')\n",
    "    print(f'loan approval rate: {sum(cmat[:,1])/sum(sum(cmat)):.2f}')\n",
    "    print(f'precision pred_1: {cmat[1][1]/sum(cmat[:,1]):.2f}')\n",
    "    print(f'recall pred_1: {cmat[1][1]/sum(cmat[1,:]):.2f}')\n",
    "    print(\"-\"*50)"
   ]
  },
  {
   "cell_type": "code",
   "execution_count": null,
   "metadata": {},
   "outputs": [],
   "source": []
  },
  {
   "cell_type": "markdown",
   "metadata": {},
   "source": [
    "## ROC Curve"
   ]
  },
  {
   "cell_type": "code",
   "execution_count": 29,
   "metadata": {},
   "outputs": [],
   "source": [
    "from sklearn.metrics import roc_curve"
   ]
  },
  {
   "cell_type": "code",
   "execution_count": 31,
   "metadata": {},
   "outputs": [],
   "source": [
    "# predict probabilities\n",
    "yhat = logr.predict_proba(Xtest)"
   ]
  },
  {
   "cell_type": "code",
   "execution_count": 32,
   "metadata": {},
   "outputs": [],
   "source": [
    "# keep probabilities for the positive outcome only\n",
    "yhat = yhat[:, 1]"
   ]
  },
  {
   "cell_type": "code",
   "execution_count": 48,
   "metadata": {},
   "outputs": [],
   "source": [
    "# calculate roc curves\n",
    "fpr, tpr, thresholds = roc_curve(ytest, yhat)"
   ]
  },
  {
   "cell_type": "code",
   "execution_count": 49,
   "metadata": {},
   "outputs": [
    {
     "data": {
      "image/png": "[encoded data removed]",
      "text/plain": [
       "<Figure size 432x288 with 1 Axes>"
      ]
     },
     "metadata": {
      "needs_background": "light"
     },
     "output_type": "display_data"
    }
   ],
   "source": [
    "# plot the roc curve for the model\n",
    "plt.plot([0,1], [0,1], linestyle='--', label='No Skill')\n",
    "plt.plot(fpr, tpr, marker='.', label='Logistic')\n",
    "# axis labels\n",
    "plt.xlabel('False Positive Rate')\n",
    "plt.ylabel('True Positive Rate')\n",
    "plt.legend()\n",
    "# show the plot\n",
    "plt.show()"
   ]
  },
  {
   "cell_type": "code",
   "execution_count": 50,
   "metadata": {},
   "outputs": [],
   "source": [
    "# calculate roc curves\n",
    "fpr, tpr, thresholds = roc_curve(ytest, prediction)"
   ]
  },
  {
   "cell_type": "code",
   "execution_count": 51,
   "metadata": {},
   "outputs": [
    {
     "data": {
      "image/png": "[encoded data removed]",
      "text/plain": [
       "<Figure size 432x288 with 1 Axes>"
      ]
     },
     "metadata": {
      "needs_background": "light"
     },
     "output_type": "display_data"
    }
   ],
   "source": [
    "# plot the roc curve for the model\n",
    "plt.plot([0,1], [0,1], linestyle='--', label='No Skill')\n",
    "plt.plot(fpr, tpr, marker='.', label='Logistic')\n",
    "# axis labels\n",
    "plt.xlabel('False Positive Rate')\n",
    "plt.ylabel('True Positive Rate')\n",
    "plt.legend()\n",
    "# show the plot\n",
    "plt.show()"
   ]
  },
  {
   "cell_type": "markdown",
   "metadata": {},
   "source": [
    "### SGD classifier"
   ]
  },
  {
   "cell_type": "code",
   "execution_count": null,
   "metadata": {},
   "outputs": [],
   "source": []
  },
  {
   "cell_type": "code",
   "execution_count": null,
   "metadata": {},
   "outputs": [],
   "source": []
  },
  {
   "cell_type": "code",
   "execution_count": null,
   "metadata": {},
   "outputs": [],
   "source": []
  },
  {
   "cell_type": "markdown",
   "metadata": {},
   "source": [
    "### Save model in pickle"
   ]
  },
  {
   "cell_type": "code",
   "execution_count": null,
   "metadata": {},
   "outputs": [],
   "source": [
    "filename = 'grid_logr_model.sav'\n",
    "pickle.dump(grid_logr, open(filename, 'wb'))"
   ]
  },
  {
   "cell_type": "code",
   "execution_count": null,
   "metadata": {},
   "outputs": [],
   "source": [
    "loaded_model = pickle.load(open(filename, 'rb'))\n",
    "result = loaded_model.score(Xtest, ytest)\n",
    "print(result)"
   ]
  }
 ],
 "metadata": {
  "kernelspec": {
   "display_name": "Python 3",
   "language": "python",
   "name": "python3"
  },
  "language_info": {
   "codemirror_mode": {
    "name": "ipython",
    "version": 3
   },
   "file_extension": ".py",
   "mimetype": "text/x-python",
   "name": "python",
   "nbconvert_exporter": "python",
   "pygments_lexer": "ipython3",
   "version": "3.8.5"
  }
 },
 "nbformat": 4,
 "nbformat_minor": 4
}
