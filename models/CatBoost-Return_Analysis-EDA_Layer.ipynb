{
 "cells": [
  {
   "cell_type": "markdown",
   "metadata": {},
   "source": [
    "# Portfolio Analysis for ROI CatBoost portfolio"
   ]
  },
  {
   "cell_type": "markdown",
   "metadata": {},
   "source": [
    "## Set up data set"
   ]
  },
  {
   "cell_type": "code",
   "execution_count": 1,
   "metadata": {},
   "outputs": [],
   "source": [
    "import pandas as pd\n",
    "import numpy as np\n",
    "\n",
    "import sys\n",
    "sys.path.append('../lending_club') # path the the directory\n",
    "import config\n",
    "from model_prep import divide_by_term, split_data"
   ]
  },
  {
   "cell_type": "code",
   "execution_count": 2,
   "metadata": {
    "scrolled": true
   },
   "outputs": [],
   "source": [
    "accepted_loans = pd.read_parquet(config.DATAPATH / 'approved.parquet', engine='fastparquet')\n",
    "accepted_60 = divide_by_term(accepted_loans, term_length=60)\n",
    "accepted_36 = divide_by_term(accepted_loans, term_length=36)\n",
    "accepted_60 = accepted_60.loc[:, config.SELECTED_FEATURES + [config.TARGET_COL]]\n",
    "accepted_36 = accepted_36.loc[:, config.SELECTED_FEATURES + [config.TARGET_COL]]"
   ]
  },
  {
   "cell_type": "markdown",
   "metadata": {},
   "source": [
    "## CatBoost Modeling "
   ]
  },
  {
   "cell_type": "code",
   "execution_count": 3,
   "metadata": {},
   "outputs": [],
   "source": [
    "from catboost import CatBoostClassifier"
   ]
  },
  {
   "cell_type": "code",
   "execution_count": 4,
   "metadata": {},
   "outputs": [],
   "source": [
    "best_60 = CatBoostClassifier().load_model('CatBoost60.model')\n",
    "best_36 = CatBoostClassifier().load_model('CatBoost36.model')"
   ]
  },
  {
   "cell_type": "markdown",
   "metadata": {},
   "source": [
    "## ROI on the Entire Portfolio"
   ]
  },
  {
   "cell_type": "code",
   "execution_count": 5,
   "metadata": {},
   "outputs": [],
   "source": [
    "accepted_60['prediction'] = best_60.predict(accepted_60.drop(['addr_state',\n",
    "                                                              'emp_title',\n",
    "                                                               config.TARGET_COL], axis=1))\n",
    "accepted_36['prediction'] = best_36.predict(accepted_36.drop(['addr_state',\n",
    "                                                              'emp_title',\n",
    "                                                               config.TARGET_COL], axis=1))\n",
    "combined = pd.concat([accepted_60,accepted_36],axis=0)"
   ]
  },
  {
   "cell_type": "code",
   "execution_count": 6,
   "metadata": {},
   "outputs": [
    {
     "name": "stdout",
     "output_type": "stream",
     "text": [
      "0.12441867617314067\n"
     ]
    }
   ],
   "source": [
    "portfolio_df = combined.loc[combined['prediction']==1,:]\n",
    "PnL_series = accepted_loans.PnL\n",
    "portfolio_df = portfolio_df.merge(PnL_series, how='inner', left_index=True, right_index=True)\n",
    "print(portfolio_df.PnL.sum()/portfolio_df.loan_amnt.sum())"
   ]
  },
  {
   "cell_type": "code",
   "execution_count": 10,
   "metadata": {},
   "outputs": [
    {
     "data": {
      "text/html": [
       "<div>\n",
       "<style scoped>\n",
       "    .dataframe tbody tr th:only-of-type {\n",
       "        vertical-align: middle;\n",
       "    }\n",
       "\n",
       "    .dataframe tbody tr th {\n",
       "        vertical-align: top;\n",
       "    }\n",
       "\n",
       "    .dataframe thead th {\n",
       "        text-align: right;\n",
       "    }\n",
       "</style>\n",
       "<table border=\"1\" class=\"dataframe\">\n",
       "  <thead>\n",
       "    <tr style=\"text-align: right;\">\n",
       "      <th></th>\n",
       "      <th>Pred: Charged Off</th>\n",
       "      <th>Pred: Fully Paid</th>\n",
       "    </tr>\n",
       "  </thead>\n",
       "  <tbody>\n",
       "    <tr>\n",
       "      <th>True: Charged Off</th>\n",
       "      <td>63911</td>\n",
       "      <td>31583</td>\n",
       "    </tr>\n",
       "    <tr>\n",
       "      <th>True: Fully Paid</th>\n",
       "      <td>157372</td>\n",
       "      <td>408037</td>\n",
       "    </tr>\n",
       "  </tbody>\n",
       "</table>\n",
       "</div>"
      ],
      "text/plain": [
       "                   Pred: Charged Off  Pred: Fully Paid\n",
       "True: Charged Off              63911             31583\n",
       "True: Fully Paid              157372            408037"
      ]
     },
     "execution_count": 10,
     "metadata": {},
     "output_type": "execute_result"
    }
   ],
   "source": [
    "from sklearn.metrics import confusion_matrix\n",
    "cm = confusion_matrix(combined['loan_status'], combined['prediction'])\n",
    "cm_df = pd.DataFrame(cm, columns=['Pred: Charged Off', 'Pred: Fully Paid'], index=['True: Charged Off', 'True: Fully Paid'])\n",
    "cm_df"
   ]
  },
  {
   "cell_type": "code",
   "execution_count": 13,
   "metadata": {},
   "outputs": [
    {
     "data": {
      "text/plain": [
       "0.1690489370222356"
      ]
     },
     "execution_count": 13,
     "metadata": {},
     "output_type": "execute_result"
    }
   ],
   "source": [
    "combined = combined.merge(PnL_series, how='inner', left_index=True, right_index=True)\n",
    "combined.query('PnL>0')['PnL'].sum()/combined.query('PnL>0')['loan_amnt'].sum()"
   ]
  },
  {
   "cell_type": "code",
   "execution_count": 14,
   "metadata": {},
   "outputs": [
    {
     "data": {
      "text/plain": [
       "0.16889954412219232"
      ]
     },
     "execution_count": 14,
     "metadata": {},
     "output_type": "execute_result"
    }
   ],
   "source": [
    "combined.query('loan_status==1')['PnL'].sum()/combined.query('loan_status==1')['loan_amnt'].sum()"
   ]
  },
  {
   "cell_type": "code",
   "execution_count": 19,
   "metadata": {},
   "outputs": [],
   "source": [
    "def calculate_ROI(df, filterCol, filterValues):\n",
    "    df2 = df.loc[~df[filterCol].isin(filterValues),:]\n",
    "    return (df2, df2['PnL'].sum()/df2['loan_amnt'].sum())"
   ]
  },
  {
   "cell_type": "code",
   "execution_count": 16,
   "metadata": {},
   "outputs": [
    {
     "data": {
      "text/plain": [
       "0.12441867617314067"
      ]
     },
     "execution_count": 16,
     "metadata": {},
     "output_type": "execute_result"
    }
   ],
   "source": [
    "catboost_selected = combined.query('prediction==1')\n",
    "catboost_selected['PnL'].sum()/catboost_selected['loan_amnt'].sum()"
   ]
  },
  {
   "cell_type": "code",
   "execution_count": 22,
   "metadata": {},
   "outputs": [
    {
     "name": "stdout",
     "output_type": "stream",
     "text": [
      "0.12445261685008002\n"
     ]
    }
   ],
   "source": [
    "purp_filter,ROI = calculate_ROI(catboost_selected, 'purpose',['small_business'])\n",
    "print(ROI)"
   ]
  },
  {
   "cell_type": "code",
   "execution_count": 25,
   "metadata": {},
   "outputs": [
    {
     "name": "stdout",
     "output_type": "stream",
     "text": [
      "0.1246062141859198\n"
     ]
    }
   ],
   "source": [
    "emplen_filter, ROI = calculate_ROI(catboost_selected, 'emp_length', [-1])\n",
    "print(ROI)"
   ]
  },
  {
   "cell_type": "code",
   "execution_count": 26,
   "metadata": {},
   "outputs": [
    {
     "name": "stdout",
     "output_type": "stream",
     "text": [
      "0.12570817213444574\n"
     ]
    }
   ],
   "source": [
    "homeown_filter, ROI = calculate_ROI(catboost_selected, 'home_ownership', ['RENT'])\n",
    "print(ROI)"
   ]
  },
  {
   "cell_type": "code",
   "execution_count": 27,
   "metadata": {},
   "outputs": [
    {
     "data": {
      "text/plain": [
       "MORTGAGE    231931\n",
       "RENT        164485\n",
       "OWN          43062\n",
       "OTHER          109\n",
       "NONE            31\n",
       "ANY              2\n",
       "Name: home_ownership, dtype: int64"
      ]
     },
     "execution_count": 27,
     "metadata": {},
     "output_type": "execute_result"
    }
   ],
   "source": [
    "catboost_selected.home_ownership.value_counts()"
   ]
  },
  {
   "cell_type": "code",
   "execution_count": 28,
   "metadata": {},
   "outputs": [
    {
     "name": "stdout",
     "output_type": "stream",
     "text": [
      "0.12595773311079145\n"
     ]
    }
   ],
   "source": [
    "combo_filter, ROI = calculate_ROI(emplen_filter, 'home_ownership',['RENT'])\n",
    "print(ROI)"
   ]
  },
  {
   "cell_type": "code",
   "execution_count": 36,
   "metadata": {},
   "outputs": [
    {
     "name": "stdout",
     "output_type": "stream",
     "text": [
      "0.12607793368048906\n"
     ]
    }
   ],
   "source": [
    "state_filter, ROI = calculate_ROI(combo_filter, 'addr_state', ['NV'])\n",
    "print(ROI)"
   ]
  },
  {
   "cell_type": "code",
   "execution_count": 37,
   "metadata": {},
   "outputs": [
    {
     "data": {
      "text/plain": [
       "0.12638427622307724"
      ]
     },
     "execution_count": 37,
     "metadata": {},
     "output_type": "execute_result"
    }
   ],
   "source": [
    "inc_filter = state_filter.query('annual_inc>=42000')\n",
    "inc_filter['PnL'].sum()/inc_filter['loan_amnt'].sum()"
   ]
  },
  {
   "cell_type": "code",
   "execution_count": 40,
   "metadata": {},
   "outputs": [
    {
     "name": "stdout",
     "output_type": "stream",
     "text": [
      "0.1264885713553253\n"
     ]
    }
   ],
   "source": [
    "purp_filter,ROI = calculate_ROI(inc_filter, 'purpose',['small_business'])\n",
    "print(ROI)"
   ]
  },
  {
   "cell_type": "code",
   "execution_count": null,
   "metadata": {},
   "outputs": [],
   "source": []
  }
 ],
 "metadata": {
  "kernelspec": {
   "display_name": "Python 3",
   "language": "python",
   "name": "python3"
  },
  "language_info": {
   "codemirror_mode": {
    "name": "ipython",
    "version": 3
   },
   "file_extension": ".py",
   "mimetype": "text/x-python",
   "name": "python",
   "nbconvert_exporter": "python",
   "pygments_lexer": "ipython3",
   "version": "3.7.9"
  }
 },
 "nbformat": 4,
 "nbformat_minor": 4
}
