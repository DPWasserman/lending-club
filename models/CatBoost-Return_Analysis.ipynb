{
 "cells": [
  {
   "cell_type": "markdown",
   "metadata": {},
   "source": [
    "# Portfolio Analysis for ROI CatBoost portfolio"
   ]
  },
  {
   "cell_type": "markdown",
   "metadata": {},
   "source": [
    "## Set up data set"
   ]
  },
  {
   "cell_type": "code",
   "execution_count": 1,
   "metadata": {},
   "outputs": [],
   "source": [
    "import pandas as pd\n",
    "import numpy as np\n",
    "\n",
    "import sys\n",
    "sys.path.append('../lending_club') # path the the directory\n",
    "import config\n",
    "from model_prep import divide_by_term, split_data"
   ]
  },
  {
   "cell_type": "code",
   "execution_count": 2,
   "metadata": {
    "scrolled": true
   },
   "outputs": [],
   "source": [
    "accepted_loans = pd.read_parquet(config.DATAPATH / 'approved.parquet', engine='fastparquet')\n",
    "accepted_60 = divide_by_term(accepted_loans, term_length=60)\n",
    "accepted_36 = divide_by_term(accepted_loans, term_length=36)\n",
    "accepted_60 = accepted_60.loc[:, config.SELECTED_FEATURES + [config.TARGET_COL]]\n",
    "accepted_36 = accepted_36.loc[:, config.SELECTED_FEATURES + [config.TARGET_COL]]"
   ]
  },
  {
   "cell_type": "markdown",
   "metadata": {},
   "source": [
    "## CatBoost Modeling "
   ]
  },
  {
   "cell_type": "code",
   "execution_count": 3,
   "metadata": {},
   "outputs": [],
   "source": [
    "from catboost import CatBoostClassifier"
   ]
  },
  {
   "cell_type": "code",
   "execution_count": 4,
   "metadata": {},
   "outputs": [],
   "source": [
    "best_60 = CatBoostClassifier().load_model('CatBoost60.model')\n",
    "best_36 = CatBoostClassifier().load_model('CatBoost36.model')"
   ]
  },
  {
   "cell_type": "markdown",
   "metadata": {},
   "source": [
    "## ROI on the Entire Portfolio"
   ]
  },
  {
   "cell_type": "code",
   "execution_count": 6,
   "metadata": {},
   "outputs": [],
   "source": [
    "accepted_60['prediction'] = best_60.predict(accepted_60.drop(['addr_state',\n",
    "                                                              'emp_title',\n",
    "                                                               config.TARGET_COL], axis=1))\n",
    "accepted_36['prediction'] = best_36.predict(accepted_36.drop(['addr_state',\n",
    "                                                              'emp_title',\n",
    "                                                               config.TARGET_COL], axis=1))\n",
    "combined = pd.concat([accepted_60,accepted_36],axis=0)"
   ]
  },
  {
   "cell_type": "code",
   "execution_count": 10,
   "metadata": {},
   "outputs": [
    {
     "name": "stdout",
     "output_type": "stream",
     "text": [
      "0.12441867617314067\n"
     ]
    }
   ],
   "source": [
    "portfolio_df = combined.loc[combined['prediction']==1,:]\n",
    "PnL_series = accepted_loans.PnL\n",
    "portfolio_df = portfolio_df.merge(PnL_series, how='inner', left_index=True, right_index=True)\n",
    "print(portfolio_df.PnL.sum()/portfolio_df.loan_amnt.sum())"
   ]
  },
  {
   "cell_type": "code",
   "execution_count": 11,
   "metadata": {},
   "outputs": [],
   "source": [
    "portfolio_df.to_pickle(config.DATAPATH / 'accepted_portfolio.pickle')"
   ]
  },
  {
   "cell_type": "code",
   "execution_count": null,
   "metadata": {},
   "outputs": [],
   "source": []
  }
 ],
 "metadata": {
  "kernelspec": {
   "display_name": "Python 3",
   "language": "python",
   "name": "python3"
  },
  "language_info": {
   "codemirror_mode": {
    "name": "ipython",
    "version": 3
   },
   "file_extension": ".py",
   "mimetype": "text/x-python",
   "name": "python",
   "nbconvert_exporter": "python",
   "pygments_lexer": "ipython3",
   "version": "3.7.9"
  }
 },
 "nbformat": 4,
 "nbformat_minor": 4
}
