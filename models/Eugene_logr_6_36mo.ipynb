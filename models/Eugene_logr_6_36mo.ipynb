{
 "cells": [
  {
   "cell_type": "markdown",
   "metadata": {},
   "source": [
    "Date: 3/27/21\n",
    "### Purpose\n",
    "- Compare PnL: model-driven port vs. null portfolio\n",
    "\n",
    "### Notes\n",
    "- changes needed for model prep because new parquet raw file (added fields and refinedfeatures())"
   ]
  },
  {
   "cell_type": "code",
   "execution_count": 1,
   "metadata": {},
   "outputs": [],
   "source": [
    "#Installing imblearn\n",
    "#!pip install -U imbalanced-learn"
   ]
  },
  {
   "cell_type": "code",
   "execution_count": 2,
   "metadata": {},
   "outputs": [],
   "source": [
    "import pandas as pd\n",
    "import numpy as np\n",
    "import seaborn as sns\n",
    "import matplotlib.pyplot as plt\n",
    "%matplotlib inline\n",
    "import warnings\n",
    "warnings.filterwarnings('ignore')\n",
    "# pd.set_option('display.height', 500)\n",
    "pd.set_option('display.max_rows', 30)\n",
    "pd.set_option('display.max_columns', 50)"
   ]
  },
  {
   "cell_type": "code",
   "execution_count": 3,
   "metadata": {},
   "outputs": [
    {
     "name": "stdout",
     "output_type": "stream",
     "text": [
      "Wall time: 13.6 s\n"
     ]
    }
   ],
   "source": [
    "%%time\n",
    "df = pd.read_parquet('../data/approved2.parquet', engine='fastparquet')"
   ]
  },
  {
   "cell_type": "code",
   "execution_count": 4,
   "metadata": {},
   "outputs": [
    {
     "data": {
      "text/html": [
       "<div>\n",
       "<style scoped>\n",
       "    .dataframe tbody tr th:only-of-type {\n",
       "        vertical-align: middle;\n",
       "    }\n",
       "\n",
       "    .dataframe tbody tr th {\n",
       "        vertical-align: top;\n",
       "    }\n",
       "\n",
       "    .dataframe thead th {\n",
       "        text-align: right;\n",
       "    }\n",
       "</style>\n",
       "<table border=\"1\" class=\"dataframe\">\n",
       "  <thead>\n",
       "    <tr style=\"text-align: right;\">\n",
       "      <th></th>\n",
       "      <th>addr_state</th>\n",
       "      <th>annual_inc</th>\n",
       "      <th>application_type</th>\n",
       "      <th>disbursement_method</th>\n",
       "      <th>dti</th>\n",
       "      <th>earliest_cr_line</th>\n",
       "      <th>emp_length</th>\n",
       "      <th>emp_title</th>\n",
       "      <th>fico_range_high</th>\n",
       "      <th>fico_range_low</th>\n",
       "      <th>grade</th>\n",
       "      <th>home_ownership</th>\n",
       "      <th>initial_list_status</th>\n",
       "      <th>inq_last_6mths</th>\n",
       "      <th>installment</th>\n",
       "      <th>int_rate</th>\n",
       "      <th>issue_d</th>\n",
       "      <th>last_pymnt_d</th>\n",
       "      <th>loan_amnt</th>\n",
       "      <th>loan_status</th>\n",
       "      <th>open_acc</th>\n",
       "      <th>pub_rec</th>\n",
       "      <th>pub_rec_bankruptcies</th>\n",
       "      <th>purpose</th>\n",
       "      <th>sub_grade</th>\n",
       "      <th>term</th>\n",
       "      <th>total_pymnt</th>\n",
       "      <th>verification_status</th>\n",
       "      <th>zip_code</th>\n",
       "      <th>days_since_first_credit</th>\n",
       "      <th>fico_score_average</th>\n",
       "    </tr>\n",
       "    <tr>\n",
       "      <th>id</th>\n",
       "      <th></th>\n",
       "      <th></th>\n",
       "      <th></th>\n",
       "      <th></th>\n",
       "      <th></th>\n",
       "      <th></th>\n",
       "      <th></th>\n",
       "      <th></th>\n",
       "      <th></th>\n",
       "      <th></th>\n",
       "      <th></th>\n",
       "      <th></th>\n",
       "      <th></th>\n",
       "      <th></th>\n",
       "      <th></th>\n",
       "      <th></th>\n",
       "      <th></th>\n",
       "      <th></th>\n",
       "      <th></th>\n",
       "      <th></th>\n",
       "      <th></th>\n",
       "      <th></th>\n",
       "      <th></th>\n",
       "      <th></th>\n",
       "      <th></th>\n",
       "      <th></th>\n",
       "      <th></th>\n",
       "      <th></th>\n",
       "      <th></th>\n",
       "      <th></th>\n",
       "      <th></th>\n",
       "    </tr>\n",
       "  </thead>\n",
       "  <tbody>\n",
       "    <tr>\n",
       "      <th>67258501</th>\n",
       "      <td>NY</td>\n",
       "      <td>25000.0</td>\n",
       "      <td>Individual</td>\n",
       "      <td>Cash</td>\n",
       "      <td>20.69</td>\n",
       "      <td>2002-10-01</td>\n",
       "      <td>10</td>\n",
       "      <td>Manager</td>\n",
       "      <td>704.0</td>\n",
       "      <td>700.0</td>\n",
       "      <td>C</td>\n",
       "      <td>RENT</td>\n",
       "      <td>w</td>\n",
       "      <td>0.0</td>\n",
       "      <td>401.97</td>\n",
       "      <td>12.59</td>\n",
       "      <td>2015-12-01</td>\n",
       "      <td>2016-11-01</td>\n",
       "      <td>12000.0</td>\n",
       "      <td>1</td>\n",
       "      <td>7.0</td>\n",
       "      <td>0.0</td>\n",
       "      <td>0.0</td>\n",
       "      <td>small_business</td>\n",
       "      <td>12</td>\n",
       "      <td>36</td>\n",
       "      <td>13205.650000</td>\n",
       "      <td>Source Verified</td>\n",
       "      <td>115xx</td>\n",
       "      <td>4809</td>\n",
       "      <td>702.0</td>\n",
       "    </tr>\n",
       "    <tr>\n",
       "      <th>11896143</th>\n",
       "      <td>FL</td>\n",
       "      <td>26000.0</td>\n",
       "      <td>Individual</td>\n",
       "      <td>Cash</td>\n",
       "      <td>21.05</td>\n",
       "      <td>2003-09-01</td>\n",
       "      <td>3</td>\n",
       "      <td>Professor of Physics</td>\n",
       "      <td>699.0</td>\n",
       "      <td>695.0</td>\n",
       "      <td>B</td>\n",
       "      <td>RENT</td>\n",
       "      <td>f</td>\n",
       "      <td>0.0</td>\n",
       "      <td>314.67</td>\n",
       "      <td>11.99</td>\n",
       "      <td>2014-02-01</td>\n",
       "      <td>2014-08-01</td>\n",
       "      <td>9475.0</td>\n",
       "      <td>1</td>\n",
       "      <td>26.0</td>\n",
       "      <td>0.0</td>\n",
       "      <td>0.0</td>\n",
       "      <td>debt_consolidation</td>\n",
       "      <td>8</td>\n",
       "      <td>36</td>\n",
       "      <td>10009.611337</td>\n",
       "      <td>Not Verified</td>\n",
       "      <td>347xx</td>\n",
       "      <td>3806</td>\n",
       "      <td>697.0</td>\n",
       "    </tr>\n",
       "    <tr>\n",
       "      <th>62012358</th>\n",
       "      <td>PA</td>\n",
       "      <td>51000.0</td>\n",
       "      <td>Individual</td>\n",
       "      <td>Cash</td>\n",
       "      <td>5.84</td>\n",
       "      <td>2007-01-01</td>\n",
       "      <td>10</td>\n",
       "      <td>shipping manager</td>\n",
       "      <td>669.0</td>\n",
       "      <td>665.0</td>\n",
       "      <td>B</td>\n",
       "      <td>RENT</td>\n",
       "      <td>w</td>\n",
       "      <td>0.0</td>\n",
       "      <td>318.79</td>\n",
       "      <td>9.17</td>\n",
       "      <td>2015-10-01</td>\n",
       "      <td>2018-10-01</td>\n",
       "      <td>10000.0</td>\n",
       "      <td>1</td>\n",
       "      <td>6.0</td>\n",
       "      <td>0.0</td>\n",
       "      <td>0.0</td>\n",
       "      <td>credit_card</td>\n",
       "      <td>7</td>\n",
       "      <td>36</td>\n",
       "      <td>11471.313647</td>\n",
       "      <td>Source Verified</td>\n",
       "      <td>156xx</td>\n",
       "      <td>3195</td>\n",
       "      <td>667.0</td>\n",
       "    </tr>\n",
       "    <tr>\n",
       "      <th>59581257</th>\n",
       "      <td>MN</td>\n",
       "      <td>40000.0</td>\n",
       "      <td>Individual</td>\n",
       "      <td>Cash</td>\n",
       "      <td>39.90</td>\n",
       "      <td>1992-12-01</td>\n",
       "      <td>9</td>\n",
       "      <td>Project Coordinator</td>\n",
       "      <td>774.0</td>\n",
       "      <td>770.0</td>\n",
       "      <td>B</td>\n",
       "      <td>MORTGAGE</td>\n",
       "      <td>f</td>\n",
       "      <td>1.0</td>\n",
       "      <td>439.88</td>\n",
       "      <td>8.18</td>\n",
       "      <td>2015-09-01</td>\n",
       "      <td>2018-09-01</td>\n",
       "      <td>14000.0</td>\n",
       "      <td>1</td>\n",
       "      <td>12.0</td>\n",
       "      <td>0.0</td>\n",
       "      <td>0.0</td>\n",
       "      <td>credit_card</td>\n",
       "      <td>6</td>\n",
       "      <td>36</td>\n",
       "      <td>15829.018071</td>\n",
       "      <td>Verified</td>\n",
       "      <td>561xx</td>\n",
       "      <td>8309</td>\n",
       "      <td>772.0</td>\n",
       "    </tr>\n",
       "    <tr>\n",
       "      <th>141288254</th>\n",
       "      <td>MI</td>\n",
       "      <td>85000.0</td>\n",
       "      <td>Individual</td>\n",
       "      <td>DirectPay</td>\n",
       "      <td>18.41</td>\n",
       "      <td>2007-01-01</td>\n",
       "      <td>10</td>\n",
       "      <td>TREASURY SPECIALIST</td>\n",
       "      <td>719.0</td>\n",
       "      <td>715.0</td>\n",
       "      <td>C</td>\n",
       "      <td>MORTGAGE</td>\n",
       "      <td>w</td>\n",
       "      <td>1.0</td>\n",
       "      <td>1204.23</td>\n",
       "      <td>14.47</td>\n",
       "      <td>2018-10-01</td>\n",
       "      <td>2019-01-01</td>\n",
       "      <td>35000.0</td>\n",
       "      <td>1</td>\n",
       "      <td>17.0</td>\n",
       "      <td>0.0</td>\n",
       "      <td>0.0</td>\n",
       "      <td>debt_consolidation</td>\n",
       "      <td>12</td>\n",
       "      <td>36</td>\n",
       "      <td>36563.638695</td>\n",
       "      <td>Source Verified</td>\n",
       "      <td>492xx</td>\n",
       "      <td>4291</td>\n",
       "      <td>717.0</td>\n",
       "    </tr>\n",
       "  </tbody>\n",
       "</table>\n",
       "</div>"
      ],
      "text/plain": [
       "          addr_state  annual_inc application_type disbursement_method    dti  \\\n",
       "id                                                                             \n",
       "67258501          NY     25000.0       Individual                Cash  20.69   \n",
       "11896143          FL     26000.0       Individual                Cash  21.05   \n",
       "62012358          PA     51000.0       Individual                Cash   5.84   \n",
       "59581257          MN     40000.0       Individual                Cash  39.90   \n",
       "141288254         MI     85000.0       Individual           DirectPay  18.41   \n",
       "\n",
       "          earliest_cr_line  emp_length             emp_title  fico_range_high  \\\n",
       "id                                                                              \n",
       "67258501        2002-10-01          10              Manager             704.0   \n",
       "11896143        2003-09-01           3  Professor of Physics            699.0   \n",
       "62012358        2007-01-01          10      shipping manager            669.0   \n",
       "59581257        1992-12-01           9   Project Coordinator            774.0   \n",
       "141288254       2007-01-01          10   TREASURY SPECIALIST            719.0   \n",
       "\n",
       "           fico_range_low grade home_ownership initial_list_status  \\\n",
       "id                                                                   \n",
       "67258501            700.0     C           RENT                   w   \n",
       "11896143            695.0     B           RENT                   f   \n",
       "62012358            665.0     B           RENT                   w   \n",
       "59581257            770.0     B       MORTGAGE                   f   \n",
       "141288254           715.0     C       MORTGAGE                   w   \n",
       "\n",
       "           inq_last_6mths  installment  int_rate    issue_d last_pymnt_d  \\\n",
       "id                                                                         \n",
       "67258501              0.0       401.97     12.59 2015-12-01   2016-11-01   \n",
       "11896143              0.0       314.67     11.99 2014-02-01   2014-08-01   \n",
       "62012358              0.0       318.79      9.17 2015-10-01   2018-10-01   \n",
       "59581257              1.0       439.88      8.18 2015-09-01   2018-09-01   \n",
       "141288254             1.0      1204.23     14.47 2018-10-01   2019-01-01   \n",
       "\n",
       "           loan_amnt  loan_status  open_acc  pub_rec  pub_rec_bankruptcies  \\\n",
       "id                                                                           \n",
       "67258501     12000.0            1       7.0      0.0                   0.0   \n",
       "11896143      9475.0            1      26.0      0.0                   0.0   \n",
       "62012358     10000.0            1       6.0      0.0                   0.0   \n",
       "59581257     14000.0            1      12.0      0.0                   0.0   \n",
       "141288254    35000.0            1      17.0      0.0                   0.0   \n",
       "\n",
       "                      purpose  sub_grade  term   total_pymnt  \\\n",
       "id                                                             \n",
       "67258501       small_business         12    36  13205.650000   \n",
       "11896143   debt_consolidation          8    36  10009.611337   \n",
       "62012358          credit_card          7    36  11471.313647   \n",
       "59581257          credit_card          6    36  15829.018071   \n",
       "141288254  debt_consolidation         12    36  36563.638695   \n",
       "\n",
       "          verification_status zip_code  days_since_first_credit  \\\n",
       "id                                                                \n",
       "67258501      Source Verified    115xx                     4809   \n",
       "11896143         Not Verified    347xx                     3806   \n",
       "62012358      Source Verified    156xx                     3195   \n",
       "59581257             Verified    561xx                     8309   \n",
       "141288254     Source Verified    492xx                     4291   \n",
       "\n",
       "           fico_score_average  \n",
       "id                             \n",
       "67258501                702.0  \n",
       "11896143                697.0  \n",
       "62012358                667.0  \n",
       "59581257                772.0  \n",
       "141288254               717.0  "
      ]
     },
     "execution_count": 4,
     "metadata": {},
     "output_type": "execute_result"
    }
   ],
   "source": [
    "df.sample(5)"
   ]
  },
  {
   "cell_type": "code",
   "execution_count": 5,
   "metadata": {},
   "outputs": [
    {
     "data": {
      "text/plain": [
       "inq_last_6mths        1\n",
       "zip_code              1\n",
       "last_pymnt_d       2087\n",
       "emp_title         83045\n",
       "dtype: int64"
      ]
     },
     "execution_count": 5,
     "metadata": {},
     "output_type": "execute_result"
    },
    {
     "data": {
      "image/png": "[encoded data removed]",
      "text/plain": [
       "<Figure size 432x288 with 1 Axes>"
      ]
     },
     "metadata": {
      "needs_background": "light"
     },
     "output_type": "display_data"
    }
   ],
   "source": [
    "missing = df.isnull().sum()\n",
    "missing = missing[missing > 0]\n",
    "missing.sort_values(inplace=True)\n",
    "missing.plot.bar()\n",
    "missing"
   ]
  },
  {
   "cell_type": "markdown",
   "metadata": {},
   "source": [
    "### Feature Engineering"
   ]
  },
  {
   "cell_type": "code",
   "execution_count": 6,
   "metadata": {},
   "outputs": [],
   "source": [
    "df.drop(df[df['last_pymnt_d'].isna()].index, inplace=True)\n",
    "df.drop(df[df['inq_last_6mths'].isna()].index, inplace=True)\n",
    "\n",
    "df['duration']=df['last_pymnt_d']-df['issue_d']\n",
    "df['duration'] = (df['duration'] / np.timedelta64(1,'D')).astype(int)\n",
    "\n",
    "df['PnL']=df['total_pymnt']-df['loan_amnt']\n",
    "\n",
    "# create df_full to get back PnL for model driven portfolio later\n",
    "df_full = df.copy(deep=True)"
   ]
  },
  {
   "cell_type": "markdown",
   "metadata": {},
   "source": [
    "### Convert Ordinals"
   ]
  },
  {
   "cell_type": "code",
   "execution_count": 7,
   "metadata": {},
   "outputs": [],
   "source": [
    "# # sub_grade\n",
    "# df.sub_grade.replace({'A1':1, 'A2':2, 'A3':3, 'A4':4, 'A5':5, 'B1':6, 'B2':7, \n",
    "#                       'B3':8, 'B4':9, 'B5':10, 'C1':11, 'C2':12, 'C3':13, 'C4':14, \n",
    "#                       'C5':15, 'D1':16, 'D2':17, 'D3':18, 'D4':19, 'D5':20, 'E1':21, \n",
    "#                       'E2':22, 'E3':23, 'E4':24, 'E5':25}, inplace=True)\n",
    "\n",
    "# disbursement_method\n",
    "df.disbursement_method.replace({'Cash':0,'DirectPay':1},inplace=True)\n",
    "\n",
    "# verification_status\n",
    "df.verification_status.replace({'Source Verified':'Verified'},inplace=True)\n",
    "df.verification_status.replace({'Not Verified':0,'Verified':1}, inplace=True)\n",
    "\n",
    "# initial_list_status\n",
    "df.initial_list_status.replace({'w':0,'f':1}, inplace=True)\n",
    "\n",
    "# application_type\n",
    "df.application_type.replace({'Individual':0,'Joint App':1}, inplace=True)"
   ]
  },
  {
   "cell_type": "markdown",
   "metadata": {},
   "source": [
    "### Dummification"
   ]
  },
  {
   "cell_type": "code",
   "execution_count": 8,
   "metadata": {},
   "outputs": [],
   "source": [
    "dummies=['purpose','addr_state','home_ownership']\n",
    "\n",
    "for d in dummies:\n",
    "    temp = pd.get_dummies(df[d], prefix=d, prefix_sep='__')\n",
    "    temp = temp.drop(d+'__'+str(df[d].mode()[0]), axis=1)\n",
    "    #drop the most common one (mode), making it the base case\n",
    "    df = pd.concat([df.drop(d, axis=1),temp], axis=1)\n",
    "    #merge back with main df"
   ]
  },
  {
   "cell_type": "markdown",
   "metadata": {},
   "source": [
    "### Filter for years"
   ]
  },
  {
   "cell_type": "code",
   "execution_count": 9,
   "metadata": {},
   "outputs": [],
   "source": [
    "df= df.loc[df['issue_d'].dt.year.between(2007,2015)]"
   ]
  },
  {
   "cell_type": "code",
   "execution_count": 10,
   "metadata": {},
   "outputs": [
    {
     "data": {
      "text/plain": [
       "799772"
      ]
     },
     "execution_count": 10,
     "metadata": {},
     "output_type": "execute_result"
    }
   ],
   "source": [
    "df.issue_d.dt.year.count()"
   ]
  },
  {
   "cell_type": "markdown",
   "metadata": {},
   "source": [
    "### Drop Columns"
   ]
  },
  {
   "cell_type": "code",
   "execution_count": 11,
   "metadata": {},
   "outputs": [],
   "source": [
    "df.drop(['emp_title','zip_code','grade','issue_d','earliest_cr_line','fico_range_high',\n",
    "         'fico_range_low','installment'],axis=1, inplace=True)"
   ]
  },
  {
   "cell_type": "code",
   "execution_count": 12,
   "metadata": {},
   "outputs": [],
   "source": [
    "df.drop(['duration','last_pymnt_d','PnL','total_pymnt'], axis=1, inplace=True)"
   ]
  },
  {
   "cell_type": "markdown",
   "metadata": {},
   "source": [
    "### Drop emp_length==-1"
   ]
  },
  {
   "cell_type": "code",
   "execution_count": 13,
   "metadata": {},
   "outputs": [],
   "source": [
    "df.drop(df[df['emp_length']==-1].index, inplace=True)"
   ]
  },
  {
   "cell_type": "code",
   "execution_count": 14,
   "metadata": {},
   "outputs": [],
   "source": [
    "df = df.dropna(how='all')"
   ]
  },
  {
   "cell_type": "markdown",
   "metadata": {},
   "source": [
    "### Drop the 60month product"
   ]
  },
  {
   "cell_type": "code",
   "execution_count": 15,
   "metadata": {},
   "outputs": [],
   "source": [
    "df = df.loc[df['term']==36]\n",
    "df.drop('term', axis=1, inplace=True)"
   ]
  },
  {
   "cell_type": "markdown",
   "metadata": {},
   "source": [
    "# Modelling"
   ]
  },
  {
   "cell_type": "markdown",
   "metadata": {},
   "source": [
    "### create target and features"
   ]
  },
  {
   "cell_type": "code",
   "execution_count": 16,
   "metadata": {},
   "outputs": [],
   "source": [
    "target = df['loan_status']"
   ]
  },
  {
   "cell_type": "code",
   "execution_count": 17,
   "metadata": {},
   "outputs": [
    {
     "data": {
      "text/plain": [
       "1    500426\n",
       "0     76601\n",
       "Name: loan_status, dtype: int64"
      ]
     },
     "execution_count": 17,
     "metadata": {},
     "output_type": "execute_result"
    }
   ],
   "source": [
    "target.value_counts()"
   ]
  },
  {
   "cell_type": "code",
   "execution_count": 18,
   "metadata": {},
   "outputs": [],
   "source": [
    "features = df.drop(['loan_status'], axis=1)"
   ]
  },
  {
   "cell_type": "markdown",
   "metadata": {},
   "source": [
    "### note the reduced train_size of .10"
   ]
  },
  {
   "cell_type": "code",
   "execution_count": 19,
   "metadata": {},
   "outputs": [],
   "source": [
    "from sklearn.linear_model import LogisticRegression, LogisticRegressionCV\n",
    "from sklearn.model_selection import GridSearchCV, StratifiedKFold, train_test_split, KFold\n",
    "\n",
    "Xtrain, Xtest, ytrain, ytest = train_test_split(features, target, train_size=.10 )\n",
    "logr = LogisticRegression()"
   ]
  },
  {
   "cell_type": "markdown",
   "metadata": {},
   "source": [
    "### gridsearch"
   ]
  },
  {
   "cell_type": "code",
   "execution_count": 20,
   "metadata": {},
   "outputs": [],
   "source": [
    "Cs = [0.0001,0.001,0.01,1,10,100,1000,10000]\n",
    "params = [{'C':Cs, 'penalty':['l1','l2']}]\n",
    "grid_logr = GridSearchCV(estimator=logr, param_grid=params, cv=3)"
   ]
  },
  {
   "cell_type": "code",
   "execution_count": 21,
   "metadata": {},
   "outputs": [
    {
     "name": "stdout",
     "output_type": "stream",
     "text": [
      "Wall time: 2min 5s\n"
     ]
    },
    {
     "data": {
      "text/plain": [
       "GridSearchCV(cv=3, estimator=LogisticRegression(),\n",
       "             param_grid=[{'C': [0.0001, 0.001, 0.01, 1, 10, 100, 1000, 10000],\n",
       "                          'penalty': ['l1', 'l2']}])"
      ]
     },
     "execution_count": 21,
     "metadata": {},
     "output_type": "execute_result"
    }
   ],
   "source": [
    "%%time\n",
    "grid_logr.fit(Xtest, ytest)"
   ]
  },
  {
   "cell_type": "code",
   "execution_count": 22,
   "metadata": {},
   "outputs": [
    {
     "name": "stdout",
     "output_type": "stream",
     "text": [
      "{'C': 0.0001, 'penalty': 'l2'}\n",
      "0.8674279112262337\n"
     ]
    }
   ],
   "source": [
    "print(grid_logr.best_params_)\n",
    "print(grid_logr.best_score_)"
   ]
  },
  {
   "cell_type": "code",
   "execution_count": 23,
   "metadata": {},
   "outputs": [
    {
     "data": {
      "text/plain": [
       "0.8674202089250469"
      ]
     },
     "execution_count": 23,
     "metadata": {},
     "output_type": "execute_result"
    }
   ],
   "source": [
    "best_model = grid_logr.best_estimator_\n",
    "best_model.score(Xtest,ytest)"
   ]
  },
  {
   "cell_type": "code",
   "execution_count": 24,
   "metadata": {},
   "outputs": [],
   "source": [
    "coefs = pd.DataFrame(abs(best_model.coef_).T, index=features.columns)"
   ]
  },
  {
   "cell_type": "code",
   "execution_count": 25,
   "metadata": {},
   "outputs": [
    {
     "data": {
      "text/html": [
       "<div>\n",
       "<style scoped>\n",
       "    .dataframe tbody tr th:only-of-type {\n",
       "        vertical-align: middle;\n",
       "    }\n",
       "\n",
       "    .dataframe tbody tr th {\n",
       "        vertical-align: top;\n",
       "    }\n",
       "\n",
       "    .dataframe thead th {\n",
       "        text-align: right;\n",
       "    }\n",
       "</style>\n",
       "<table border=\"1\" class=\"dataframe\">\n",
       "  <thead>\n",
       "    <tr style=\"text-align: right;\">\n",
       "      <th></th>\n",
       "      <th>0</th>\n",
       "    </tr>\n",
       "  </thead>\n",
       "  <tbody>\n",
       "    <tr>\n",
       "      <th>sub_grade</th>\n",
       "      <td>0.047557</td>\n",
       "    </tr>\n",
       "    <tr>\n",
       "      <th>int_rate</th>\n",
       "      <td>0.032430</td>\n",
       "    </tr>\n",
       "    <tr>\n",
       "      <th>dti</th>\n",
       "      <td>0.030583</td>\n",
       "    </tr>\n",
       "    <tr>\n",
       "      <th>open_acc</th>\n",
       "      <td>0.010102</td>\n",
       "    </tr>\n",
       "    <tr>\n",
       "      <th>fico_score_average</th>\n",
       "      <td>0.004721</td>\n",
       "    </tr>\n",
       "    <tr>\n",
       "      <th>inq_last_6mths</th>\n",
       "      <td>0.003473</td>\n",
       "    </tr>\n",
       "    <tr>\n",
       "      <th>home_ownership__RENT</th>\n",
       "      <td>0.001226</td>\n",
       "    </tr>\n",
       "    <tr>\n",
       "      <th>verification_status</th>\n",
       "      <td>0.001146</td>\n",
       "    </tr>\n",
       "    <tr>\n",
       "      <th>pub_rec</th>\n",
       "      <td>0.000791</td>\n",
       "    </tr>\n",
       "    <tr>\n",
       "      <th>purpose__credit_card</th>\n",
       "      <td>0.000781</td>\n",
       "    </tr>\n",
       "  </tbody>\n",
       "</table>\n",
       "</div>"
      ],
      "text/plain": [
       "                             0\n",
       "sub_grade             0.047557\n",
       "int_rate              0.032430\n",
       "dti                   0.030583\n",
       "open_acc              0.010102\n",
       "fico_score_average    0.004721\n",
       "inq_last_6mths        0.003473\n",
       "home_ownership__RENT  0.001226\n",
       "verification_status   0.001146\n",
       "pub_rec               0.000791\n",
       "purpose__credit_card  0.000781"
      ]
     },
     "execution_count": 25,
     "metadata": {},
     "output_type": "execute_result"
    }
   ],
   "source": [
    "coefs.sort_values(0, ascending=False).head(10)"
   ]
  },
  {
   "cell_type": "markdown",
   "metadata": {},
   "source": [
    "### Confusion Matrix"
   ]
  },
  {
   "cell_type": "code",
   "execution_count": 26,
   "metadata": {},
   "outputs": [],
   "source": [
    "from sklearn.metrics import confusion_matrix"
   ]
  },
  {
   "cell_type": "code",
   "execution_count": 27,
   "metadata": {},
   "outputs": [
    {
     "data": {
      "text/html": [
       "<div>\n",
       "<style scoped>\n",
       "    .dataframe tbody tr th:only-of-type {\n",
       "        vertical-align: middle;\n",
       "    }\n",
       "\n",
       "    .dataframe tbody tr th {\n",
       "        vertical-align: top;\n",
       "    }\n",
       "\n",
       "    .dataframe thead th {\n",
       "        text-align: right;\n",
       "    }\n",
       "</style>\n",
       "<table border=\"1\" class=\"dataframe\">\n",
       "  <thead>\n",
       "    <tr style=\"text-align: right;\">\n",
       "      <th></th>\n",
       "      <th>Pred_0</th>\n",
       "      <th>Pred_1</th>\n",
       "    </tr>\n",
       "  </thead>\n",
       "  <tbody>\n",
       "    <tr>\n",
       "      <th>True_0</th>\n",
       "      <td>2</td>\n",
       "      <td>68845</td>\n",
       "    </tr>\n",
       "    <tr>\n",
       "      <th>True_1</th>\n",
       "      <td>7</td>\n",
       "      <td>450471</td>\n",
       "    </tr>\n",
       "  </tbody>\n",
       "</table>\n",
       "</div>"
      ],
      "text/plain": [
       "        Pred_0  Pred_1\n",
       "True_0       2   68845\n",
       "True_1       7  450471"
      ]
     },
     "execution_count": 27,
     "metadata": {},
     "output_type": "execute_result"
    }
   ],
   "source": [
    "cmat = confusion_matrix(ytest,best_model.predict(Xtest))\n",
    "\n",
    "#Label the confusion matrix\n",
    "pd.DataFrame(cmat, columns = [f'Pred_{label}' for label in best_model.classes_],\n",
    "             index = [f'True_{label}' for label in best_model.classes_])\n"
   ]
  },
  {
   "cell_type": "markdown",
   "metadata": {},
   "source": [
    "### Best model is one that strikes good balance of a high \"pred_1 precision\" and a high \"loan approval rate\""
   ]
  },
  {
   "cell_type": "code",
   "execution_count": 28,
   "metadata": {},
   "outputs": [
    {
     "name": "stdout",
     "output_type": "stream",
     "text": [
      "loan approval rate: 1.00\n",
      "precision pred_1: 0.87\n",
      "recall pred_1: 1.00\n"
     ]
    }
   ],
   "source": [
    "cmat=cmat\n",
    "print(f'loan approval rate: {sum(cmat[:,1])/sum(sum(cmat)):.2f}')\n",
    "print(f'precision pred_1: {cmat[1][1]/sum(cmat[:,1]):.2f}')\n",
    "print(f'recall pred_1: {cmat[1][1]/sum(cmat[1,:]):.2f}')"
   ]
  },
  {
   "cell_type": "code",
   "execution_count": 29,
   "metadata": {},
   "outputs": [
    {
     "name": "stdout",
     "output_type": "stream",
     "text": [
      "              precision    recall  f1-score   support\n",
      "\n",
      "           0       0.22      0.00      0.00     68847\n",
      "           1       0.87      1.00      0.93    450478\n",
      "\n",
      "    accuracy                           0.87    519325\n",
      "   macro avg       0.54      0.50      0.46    519325\n",
      "weighted avg       0.78      0.87      0.81    519325\n",
      "\n"
     ]
    }
   ],
   "source": [
    "from sklearn.metrics import classification_report\n",
    "print(classification_report(ytest, best_model.predict(Xtest)))"
   ]
  },
  {
   "cell_type": "markdown",
   "metadata": {},
   "source": [
    "### Merge test results back into the df to investigate the 'fully paid fails'"
   ]
  },
  {
   "cell_type": "code",
   "execution_count": 30,
   "metadata": {},
   "outputs": [],
   "source": [
    "model_results = pd.Series(best_model.predict(Xtest), index = Xtest.index, name=\"loan_status_predict\")"
   ]
  },
  {
   "cell_type": "code",
   "execution_count": 31,
   "metadata": {},
   "outputs": [],
   "source": [
    "df2 = pd.concat([Xtest, ytest, model_results], axis=1 )"
   ]
  },
  {
   "cell_type": "code",
   "execution_count": 32,
   "metadata": {},
   "outputs": [
    {
     "data": {
      "text/html": [
       "<div>\n",
       "<style scoped>\n",
       "    .dataframe tbody tr th:only-of-type {\n",
       "        vertical-align: middle;\n",
       "    }\n",
       "\n",
       "    .dataframe tbody tr th {\n",
       "        vertical-align: top;\n",
       "    }\n",
       "\n",
       "    .dataframe thead th {\n",
       "        text-align: right;\n",
       "    }\n",
       "</style>\n",
       "<table border=\"1\" class=\"dataframe\">\n",
       "  <thead>\n",
       "    <tr style=\"text-align: right;\">\n",
       "      <th></th>\n",
       "      <th>annual_inc</th>\n",
       "      <th>application_type</th>\n",
       "      <th>disbursement_method</th>\n",
       "      <th>dti</th>\n",
       "      <th>emp_length</th>\n",
       "      <th>initial_list_status</th>\n",
       "      <th>inq_last_6mths</th>\n",
       "      <th>int_rate</th>\n",
       "      <th>loan_amnt</th>\n",
       "      <th>open_acc</th>\n",
       "      <th>pub_rec</th>\n",
       "      <th>pub_rec_bankruptcies</th>\n",
       "      <th>sub_grade</th>\n",
       "      <th>verification_status</th>\n",
       "      <th>days_since_first_credit</th>\n",
       "      <th>fico_score_average</th>\n",
       "      <th>purpose__car</th>\n",
       "      <th>purpose__credit_card</th>\n",
       "      <th>purpose__educational</th>\n",
       "      <th>purpose__home_improvement</th>\n",
       "      <th>purpose__house</th>\n",
       "      <th>purpose__major_purchase</th>\n",
       "      <th>purpose__medical</th>\n",
       "      <th>purpose__moving</th>\n",
       "      <th>purpose__other</th>\n",
       "      <th>...</th>\n",
       "      <th>addr_state__NV</th>\n",
       "      <th>addr_state__NY</th>\n",
       "      <th>addr_state__OH</th>\n",
       "      <th>addr_state__OK</th>\n",
       "      <th>addr_state__OR</th>\n",
       "      <th>addr_state__PA</th>\n",
       "      <th>addr_state__RI</th>\n",
       "      <th>addr_state__SC</th>\n",
       "      <th>addr_state__SD</th>\n",
       "      <th>addr_state__TN</th>\n",
       "      <th>addr_state__TX</th>\n",
       "      <th>addr_state__UT</th>\n",
       "      <th>addr_state__VA</th>\n",
       "      <th>addr_state__VT</th>\n",
       "      <th>addr_state__WA</th>\n",
       "      <th>addr_state__WI</th>\n",
       "      <th>addr_state__WV</th>\n",
       "      <th>addr_state__WY</th>\n",
       "      <th>home_ownership__ANY</th>\n",
       "      <th>home_ownership__NONE</th>\n",
       "      <th>home_ownership__OTHER</th>\n",
       "      <th>home_ownership__OWN</th>\n",
       "      <th>home_ownership__RENT</th>\n",
       "      <th>loan_status</th>\n",
       "      <th>loan_status_predict</th>\n",
       "    </tr>\n",
       "    <tr>\n",
       "      <th>id</th>\n",
       "      <th></th>\n",
       "      <th></th>\n",
       "      <th></th>\n",
       "      <th></th>\n",
       "      <th></th>\n",
       "      <th></th>\n",
       "      <th></th>\n",
       "      <th></th>\n",
       "      <th></th>\n",
       "      <th></th>\n",
       "      <th></th>\n",
       "      <th></th>\n",
       "      <th></th>\n",
       "      <th></th>\n",
       "      <th></th>\n",
       "      <th></th>\n",
       "      <th></th>\n",
       "      <th></th>\n",
       "      <th></th>\n",
       "      <th></th>\n",
       "      <th></th>\n",
       "      <th></th>\n",
       "      <th></th>\n",
       "      <th></th>\n",
       "      <th></th>\n",
       "      <th></th>\n",
       "      <th></th>\n",
       "      <th></th>\n",
       "      <th></th>\n",
       "      <th></th>\n",
       "      <th></th>\n",
       "      <th></th>\n",
       "      <th></th>\n",
       "      <th></th>\n",
       "      <th></th>\n",
       "      <th></th>\n",
       "      <th></th>\n",
       "      <th></th>\n",
       "      <th></th>\n",
       "      <th></th>\n",
       "      <th></th>\n",
       "      <th></th>\n",
       "      <th></th>\n",
       "      <th></th>\n",
       "      <th></th>\n",
       "      <th></th>\n",
       "      <th></th>\n",
       "      <th></th>\n",
       "      <th></th>\n",
       "      <th></th>\n",
       "      <th></th>\n",
       "    </tr>\n",
       "  </thead>\n",
       "  <tbody>\n",
       "    <tr>\n",
       "      <th>2090707</th>\n",
       "      <td>65000.0</td>\n",
       "      <td>0</td>\n",
       "      <td>0</td>\n",
       "      <td>16.45</td>\n",
       "      <td>3</td>\n",
       "      <td>0</td>\n",
       "      <td>0.0</td>\n",
       "      <td>14.33</td>\n",
       "      <td>9750.0</td>\n",
       "      <td>9.0</td>\n",
       "      <td>0.0</td>\n",
       "      <td>0.0</td>\n",
       "      <td>11</td>\n",
       "      <td>0</td>\n",
       "      <td>2315</td>\n",
       "      <td>672.0</td>\n",
       "      <td>0</td>\n",
       "      <td>0</td>\n",
       "      <td>0</td>\n",
       "      <td>0</td>\n",
       "      <td>0</td>\n",
       "      <td>0</td>\n",
       "      <td>0</td>\n",
       "      <td>0</td>\n",
       "      <td>0</td>\n",
       "      <td>...</td>\n",
       "      <td>0</td>\n",
       "      <td>0</td>\n",
       "      <td>0</td>\n",
       "      <td>0</td>\n",
       "      <td>0</td>\n",
       "      <td>0</td>\n",
       "      <td>0</td>\n",
       "      <td>0</td>\n",
       "      <td>0</td>\n",
       "      <td>0</td>\n",
       "      <td>0</td>\n",
       "      <td>0</td>\n",
       "      <td>0</td>\n",
       "      <td>0</td>\n",
       "      <td>0</td>\n",
       "      <td>0</td>\n",
       "      <td>0</td>\n",
       "      <td>0</td>\n",
       "      <td>0</td>\n",
       "      <td>0</td>\n",
       "      <td>0</td>\n",
       "      <td>0</td>\n",
       "      <td>1</td>\n",
       "      <td>0</td>\n",
       "      <td>1</td>\n",
       "    </tr>\n",
       "    <tr>\n",
       "      <th>6717890</th>\n",
       "      <td>100000.0</td>\n",
       "      <td>0</td>\n",
       "      <td>0</td>\n",
       "      <td>21.80</td>\n",
       "      <td>4</td>\n",
       "      <td>1</td>\n",
       "      <td>2.0</td>\n",
       "      <td>18.85</td>\n",
       "      <td>4000.0</td>\n",
       "      <td>9.0</td>\n",
       "      <td>0.0</td>\n",
       "      <td>0.0</td>\n",
       "      <td>18</td>\n",
       "      <td>1</td>\n",
       "      <td>4930</td>\n",
       "      <td>702.0</td>\n",
       "      <td>0</td>\n",
       "      <td>0</td>\n",
       "      <td>0</td>\n",
       "      <td>0</td>\n",
       "      <td>0</td>\n",
       "      <td>0</td>\n",
       "      <td>0</td>\n",
       "      <td>0</td>\n",
       "      <td>1</td>\n",
       "      <td>...</td>\n",
       "      <td>0</td>\n",
       "      <td>0</td>\n",
       "      <td>0</td>\n",
       "      <td>0</td>\n",
       "      <td>0</td>\n",
       "      <td>0</td>\n",
       "      <td>0</td>\n",
       "      <td>0</td>\n",
       "      <td>0</td>\n",
       "      <td>0</td>\n",
       "      <td>0</td>\n",
       "      <td>0</td>\n",
       "      <td>0</td>\n",
       "      <td>0</td>\n",
       "      <td>0</td>\n",
       "      <td>0</td>\n",
       "      <td>0</td>\n",
       "      <td>0</td>\n",
       "      <td>0</td>\n",
       "      <td>0</td>\n",
       "      <td>0</td>\n",
       "      <td>0</td>\n",
       "      <td>0</td>\n",
       "      <td>0</td>\n",
       "      <td>1</td>\n",
       "    </tr>\n",
       "    <tr>\n",
       "      <th>28643840</th>\n",
       "      <td>75000.0</td>\n",
       "      <td>0</td>\n",
       "      <td>0</td>\n",
       "      <td>12.19</td>\n",
       "      <td>10</td>\n",
       "      <td>0</td>\n",
       "      <td>0.0</td>\n",
       "      <td>10.99</td>\n",
       "      <td>13000.0</td>\n",
       "      <td>13.0</td>\n",
       "      <td>0.0</td>\n",
       "      <td>0.0</td>\n",
       "      <td>8</td>\n",
       "      <td>0</td>\n",
       "      <td>4840</td>\n",
       "      <td>697.0</td>\n",
       "      <td>0</td>\n",
       "      <td>0</td>\n",
       "      <td>0</td>\n",
       "      <td>0</td>\n",
       "      <td>0</td>\n",
       "      <td>0</td>\n",
       "      <td>0</td>\n",
       "      <td>0</td>\n",
       "      <td>0</td>\n",
       "      <td>...</td>\n",
       "      <td>0</td>\n",
       "      <td>0</td>\n",
       "      <td>0</td>\n",
       "      <td>0</td>\n",
       "      <td>0</td>\n",
       "      <td>0</td>\n",
       "      <td>0</td>\n",
       "      <td>1</td>\n",
       "      <td>0</td>\n",
       "      <td>0</td>\n",
       "      <td>0</td>\n",
       "      <td>0</td>\n",
       "      <td>0</td>\n",
       "      <td>0</td>\n",
       "      <td>0</td>\n",
       "      <td>0</td>\n",
       "      <td>0</td>\n",
       "      <td>0</td>\n",
       "      <td>0</td>\n",
       "      <td>0</td>\n",
       "      <td>0</td>\n",
       "      <td>1</td>\n",
       "      <td>0</td>\n",
       "      <td>0</td>\n",
       "      <td>1</td>\n",
       "    </tr>\n",
       "    <tr>\n",
       "      <th>44138131</th>\n",
       "      <td>21500.0</td>\n",
       "      <td>0</td>\n",
       "      <td>0</td>\n",
       "      <td>10.61</td>\n",
       "      <td>10</td>\n",
       "      <td>1</td>\n",
       "      <td>0.0</td>\n",
       "      <td>11.53</td>\n",
       "      <td>7000.0</td>\n",
       "      <td>6.0</td>\n",
       "      <td>0.0</td>\n",
       "      <td>0.0</td>\n",
       "      <td>10</td>\n",
       "      <td>1</td>\n",
       "      <td>2981</td>\n",
       "      <td>667.0</td>\n",
       "      <td>0</td>\n",
       "      <td>0</td>\n",
       "      <td>0</td>\n",
       "      <td>0</td>\n",
       "      <td>0</td>\n",
       "      <td>0</td>\n",
       "      <td>0</td>\n",
       "      <td>0</td>\n",
       "      <td>0</td>\n",
       "      <td>...</td>\n",
       "      <td>0</td>\n",
       "      <td>0</td>\n",
       "      <td>0</td>\n",
       "      <td>0</td>\n",
       "      <td>0</td>\n",
       "      <td>0</td>\n",
       "      <td>0</td>\n",
       "      <td>0</td>\n",
       "      <td>0</td>\n",
       "      <td>0</td>\n",
       "      <td>0</td>\n",
       "      <td>0</td>\n",
       "      <td>0</td>\n",
       "      <td>0</td>\n",
       "      <td>0</td>\n",
       "      <td>0</td>\n",
       "      <td>0</td>\n",
       "      <td>0</td>\n",
       "      <td>0</td>\n",
       "      <td>0</td>\n",
       "      <td>0</td>\n",
       "      <td>0</td>\n",
       "      <td>1</td>\n",
       "      <td>0</td>\n",
       "      <td>1</td>\n",
       "    </tr>\n",
       "    <tr>\n",
       "      <th>6976030</th>\n",
       "      <td>68567.0</td>\n",
       "      <td>0</td>\n",
       "      <td>0</td>\n",
       "      <td>18.81</td>\n",
       "      <td>2</td>\n",
       "      <td>0</td>\n",
       "      <td>1.0</td>\n",
       "      <td>15.22</td>\n",
       "      <td>6975.0</td>\n",
       "      <td>9.0</td>\n",
       "      <td>0.0</td>\n",
       "      <td>0.0</td>\n",
       "      <td>13</td>\n",
       "      <td>0</td>\n",
       "      <td>3500</td>\n",
       "      <td>702.0</td>\n",
       "      <td>0</td>\n",
       "      <td>0</td>\n",
       "      <td>0</td>\n",
       "      <td>0</td>\n",
       "      <td>0</td>\n",
       "      <td>0</td>\n",
       "      <td>0</td>\n",
       "      <td>0</td>\n",
       "      <td>0</td>\n",
       "      <td>...</td>\n",
       "      <td>0</td>\n",
       "      <td>0</td>\n",
       "      <td>0</td>\n",
       "      <td>0</td>\n",
       "      <td>0</td>\n",
       "      <td>0</td>\n",
       "      <td>0</td>\n",
       "      <td>0</td>\n",
       "      <td>0</td>\n",
       "      <td>0</td>\n",
       "      <td>0</td>\n",
       "      <td>0</td>\n",
       "      <td>0</td>\n",
       "      <td>0</td>\n",
       "      <td>0</td>\n",
       "      <td>0</td>\n",
       "      <td>0</td>\n",
       "      <td>0</td>\n",
       "      <td>0</td>\n",
       "      <td>0</td>\n",
       "      <td>0</td>\n",
       "      <td>0</td>\n",
       "      <td>0</td>\n",
       "      <td>0</td>\n",
       "      <td>1</td>\n",
       "    </tr>\n",
       "    <tr>\n",
       "      <th>...</th>\n",
       "      <td>...</td>\n",
       "      <td>...</td>\n",
       "      <td>...</td>\n",
       "      <td>...</td>\n",
       "      <td>...</td>\n",
       "      <td>...</td>\n",
       "      <td>...</td>\n",
       "      <td>...</td>\n",
       "      <td>...</td>\n",
       "      <td>...</td>\n",
       "      <td>...</td>\n",
       "      <td>...</td>\n",
       "      <td>...</td>\n",
       "      <td>...</td>\n",
       "      <td>...</td>\n",
       "      <td>...</td>\n",
       "      <td>...</td>\n",
       "      <td>...</td>\n",
       "      <td>...</td>\n",
       "      <td>...</td>\n",
       "      <td>...</td>\n",
       "      <td>...</td>\n",
       "      <td>...</td>\n",
       "      <td>...</td>\n",
       "      <td>...</td>\n",
       "      <td>...</td>\n",
       "      <td>...</td>\n",
       "      <td>...</td>\n",
       "      <td>...</td>\n",
       "      <td>...</td>\n",
       "      <td>...</td>\n",
       "      <td>...</td>\n",
       "      <td>...</td>\n",
       "      <td>...</td>\n",
       "      <td>...</td>\n",
       "      <td>...</td>\n",
       "      <td>...</td>\n",
       "      <td>...</td>\n",
       "      <td>...</td>\n",
       "      <td>...</td>\n",
       "      <td>...</td>\n",
       "      <td>...</td>\n",
       "      <td>...</td>\n",
       "      <td>...</td>\n",
       "      <td>...</td>\n",
       "      <td>...</td>\n",
       "      <td>...</td>\n",
       "      <td>...</td>\n",
       "      <td>...</td>\n",
       "      <td>...</td>\n",
       "      <td>...</td>\n",
       "    </tr>\n",
       "    <tr>\n",
       "      <th>54187456</th>\n",
       "      <td>61000.0</td>\n",
       "      <td>0</td>\n",
       "      <td>0</td>\n",
       "      <td>36.02</td>\n",
       "      <td>10</td>\n",
       "      <td>1</td>\n",
       "      <td>0.0</td>\n",
       "      <td>10.99</td>\n",
       "      <td>6000.0</td>\n",
       "      <td>11.0</td>\n",
       "      <td>0.0</td>\n",
       "      <td>0.0</td>\n",
       "      <td>9</td>\n",
       "      <td>0</td>\n",
       "      <td>6969</td>\n",
       "      <td>712.0</td>\n",
       "      <td>0</td>\n",
       "      <td>0</td>\n",
       "      <td>0</td>\n",
       "      <td>0</td>\n",
       "      <td>0</td>\n",
       "      <td>0</td>\n",
       "      <td>0</td>\n",
       "      <td>0</td>\n",
       "      <td>0</td>\n",
       "      <td>...</td>\n",
       "      <td>0</td>\n",
       "      <td>0</td>\n",
       "      <td>0</td>\n",
       "      <td>0</td>\n",
       "      <td>0</td>\n",
       "      <td>1</td>\n",
       "      <td>0</td>\n",
       "      <td>0</td>\n",
       "      <td>0</td>\n",
       "      <td>0</td>\n",
       "      <td>0</td>\n",
       "      <td>0</td>\n",
       "      <td>0</td>\n",
       "      <td>0</td>\n",
       "      <td>0</td>\n",
       "      <td>0</td>\n",
       "      <td>0</td>\n",
       "      <td>0</td>\n",
       "      <td>0</td>\n",
       "      <td>0</td>\n",
       "      <td>0</td>\n",
       "      <td>0</td>\n",
       "      <td>0</td>\n",
       "      <td>0</td>\n",
       "      <td>1</td>\n",
       "    </tr>\n",
       "    <tr>\n",
       "      <th>36018237</th>\n",
       "      <td>32000.0</td>\n",
       "      <td>0</td>\n",
       "      <td>0</td>\n",
       "      <td>18.00</td>\n",
       "      <td>10</td>\n",
       "      <td>1</td>\n",
       "      <td>0.0</td>\n",
       "      <td>11.99</td>\n",
       "      <td>16000.0</td>\n",
       "      <td>9.0</td>\n",
       "      <td>1.0</td>\n",
       "      <td>0.0</td>\n",
       "      <td>10</td>\n",
       "      <td>1</td>\n",
       "      <td>2891</td>\n",
       "      <td>702.0</td>\n",
       "      <td>0</td>\n",
       "      <td>0</td>\n",
       "      <td>0</td>\n",
       "      <td>0</td>\n",
       "      <td>0</td>\n",
       "      <td>0</td>\n",
       "      <td>0</td>\n",
       "      <td>0</td>\n",
       "      <td>0</td>\n",
       "      <td>...</td>\n",
       "      <td>0</td>\n",
       "      <td>0</td>\n",
       "      <td>0</td>\n",
       "      <td>0</td>\n",
       "      <td>0</td>\n",
       "      <td>0</td>\n",
       "      <td>0</td>\n",
       "      <td>0</td>\n",
       "      <td>0</td>\n",
       "      <td>0</td>\n",
       "      <td>0</td>\n",
       "      <td>0</td>\n",
       "      <td>0</td>\n",
       "      <td>0</td>\n",
       "      <td>1</td>\n",
       "      <td>0</td>\n",
       "      <td>0</td>\n",
       "      <td>0</td>\n",
       "      <td>0</td>\n",
       "      <td>0</td>\n",
       "      <td>0</td>\n",
       "      <td>0</td>\n",
       "      <td>1</td>\n",
       "      <td>0</td>\n",
       "      <td>1</td>\n",
       "    </tr>\n",
       "    <tr>\n",
       "      <th>37897153</th>\n",
       "      <td>43500.0</td>\n",
       "      <td>0</td>\n",
       "      <td>0</td>\n",
       "      <td>29.35</td>\n",
       "      <td>10</td>\n",
       "      <td>1</td>\n",
       "      <td>4.0</td>\n",
       "      <td>14.99</td>\n",
       "      <td>4000.0</td>\n",
       "      <td>12.0</td>\n",
       "      <td>1.0</td>\n",
       "      <td>1.0</td>\n",
       "      <td>15</td>\n",
       "      <td>1</td>\n",
       "      <td>5054</td>\n",
       "      <td>662.0</td>\n",
       "      <td>0</td>\n",
       "      <td>1</td>\n",
       "      <td>0</td>\n",
       "      <td>0</td>\n",
       "      <td>0</td>\n",
       "      <td>0</td>\n",
       "      <td>0</td>\n",
       "      <td>0</td>\n",
       "      <td>0</td>\n",
       "      <td>...</td>\n",
       "      <td>0</td>\n",
       "      <td>0</td>\n",
       "      <td>0</td>\n",
       "      <td>0</td>\n",
       "      <td>0</td>\n",
       "      <td>0</td>\n",
       "      <td>0</td>\n",
       "      <td>0</td>\n",
       "      <td>0</td>\n",
       "      <td>0</td>\n",
       "      <td>0</td>\n",
       "      <td>0</td>\n",
       "      <td>1</td>\n",
       "      <td>0</td>\n",
       "      <td>0</td>\n",
       "      <td>0</td>\n",
       "      <td>0</td>\n",
       "      <td>0</td>\n",
       "      <td>0</td>\n",
       "      <td>0</td>\n",
       "      <td>0</td>\n",
       "      <td>0</td>\n",
       "      <td>1</td>\n",
       "      <td>0</td>\n",
       "      <td>1</td>\n",
       "    </tr>\n",
       "    <tr>\n",
       "      <th>65118659</th>\n",
       "      <td>22000.0</td>\n",
       "      <td>1</td>\n",
       "      <td>0</td>\n",
       "      <td>29.62</td>\n",
       "      <td>10</td>\n",
       "      <td>1</td>\n",
       "      <td>1.0</td>\n",
       "      <td>14.33</td>\n",
       "      <td>8400.0</td>\n",
       "      <td>5.0</td>\n",
       "      <td>0.0</td>\n",
       "      <td>0.0</td>\n",
       "      <td>15</td>\n",
       "      <td>1</td>\n",
       "      <td>4291</td>\n",
       "      <td>677.0</td>\n",
       "      <td>0</td>\n",
       "      <td>0</td>\n",
       "      <td>0</td>\n",
       "      <td>0</td>\n",
       "      <td>0</td>\n",
       "      <td>0</td>\n",
       "      <td>0</td>\n",
       "      <td>0</td>\n",
       "      <td>1</td>\n",
       "      <td>...</td>\n",
       "      <td>0</td>\n",
       "      <td>0</td>\n",
       "      <td>0</td>\n",
       "      <td>0</td>\n",
       "      <td>0</td>\n",
       "      <td>1</td>\n",
       "      <td>0</td>\n",
       "      <td>0</td>\n",
       "      <td>0</td>\n",
       "      <td>0</td>\n",
       "      <td>0</td>\n",
       "      <td>0</td>\n",
       "      <td>0</td>\n",
       "      <td>0</td>\n",
       "      <td>0</td>\n",
       "      <td>0</td>\n",
       "      <td>0</td>\n",
       "      <td>0</td>\n",
       "      <td>0</td>\n",
       "      <td>0</td>\n",
       "      <td>0</td>\n",
       "      <td>0</td>\n",
       "      <td>1</td>\n",
       "      <td>0</td>\n",
       "      <td>1</td>\n",
       "    </tr>\n",
       "    <tr>\n",
       "      <th>20720282</th>\n",
       "      <td>43000.0</td>\n",
       "      <td>0</td>\n",
       "      <td>0</td>\n",
       "      <td>26.77</td>\n",
       "      <td>10</td>\n",
       "      <td>1</td>\n",
       "      <td>1.0</td>\n",
       "      <td>10.99</td>\n",
       "      <td>16500.0</td>\n",
       "      <td>6.0</td>\n",
       "      <td>1.0</td>\n",
       "      <td>1.0</td>\n",
       "      <td>8</td>\n",
       "      <td>0</td>\n",
       "      <td>9618</td>\n",
       "      <td>662.0</td>\n",
       "      <td>0</td>\n",
       "      <td>0</td>\n",
       "      <td>0</td>\n",
       "      <td>0</td>\n",
       "      <td>0</td>\n",
       "      <td>0</td>\n",
       "      <td>0</td>\n",
       "      <td>0</td>\n",
       "      <td>0</td>\n",
       "      <td>...</td>\n",
       "      <td>0</td>\n",
       "      <td>0</td>\n",
       "      <td>0</td>\n",
       "      <td>0</td>\n",
       "      <td>0</td>\n",
       "      <td>0</td>\n",
       "      <td>0</td>\n",
       "      <td>0</td>\n",
       "      <td>0</td>\n",
       "      <td>0</td>\n",
       "      <td>0</td>\n",
       "      <td>0</td>\n",
       "      <td>0</td>\n",
       "      <td>0</td>\n",
       "      <td>0</td>\n",
       "      <td>1</td>\n",
       "      <td>0</td>\n",
       "      <td>0</td>\n",
       "      <td>0</td>\n",
       "      <td>0</td>\n",
       "      <td>0</td>\n",
       "      <td>0</td>\n",
       "      <td>0</td>\n",
       "      <td>0</td>\n",
       "      <td>1</td>\n",
       "    </tr>\n",
       "  </tbody>\n",
       "</table>\n",
       "<p>68845 rows × 86 columns</p>\n",
       "</div>"
      ],
      "text/plain": [
       "          annual_inc  application_type  disbursement_method    dti  \\\n",
       "id                                                                   \n",
       "2090707      65000.0                 0                    0  16.45   \n",
       "6717890     100000.0                 0                    0  21.80   \n",
       "28643840     75000.0                 0                    0  12.19   \n",
       "44138131     21500.0                 0                    0  10.61   \n",
       "6976030      68567.0                 0                    0  18.81   \n",
       "...              ...               ...                  ...    ...   \n",
       "54187456     61000.0                 0                    0  36.02   \n",
       "36018237     32000.0                 0                    0  18.00   \n",
       "37897153     43500.0                 0                    0  29.35   \n",
       "65118659     22000.0                 1                    0  29.62   \n",
       "20720282     43000.0                 0                    0  26.77   \n",
       "\n",
       "          emp_length  initial_list_status  inq_last_6mths  int_rate  \\\n",
       "id                                                                    \n",
       "2090707            3                    0             0.0     14.33   \n",
       "6717890            4                    1             2.0     18.85   \n",
       "28643840          10                    0             0.0     10.99   \n",
       "44138131          10                    1             0.0     11.53   \n",
       "6976030            2                    0             1.0     15.22   \n",
       "...              ...                  ...             ...       ...   \n",
       "54187456          10                    1             0.0     10.99   \n",
       "36018237          10                    1             0.0     11.99   \n",
       "37897153          10                    1             4.0     14.99   \n",
       "65118659          10                    1             1.0     14.33   \n",
       "20720282          10                    1             1.0     10.99   \n",
       "\n",
       "          loan_amnt  open_acc  pub_rec  pub_rec_bankruptcies  sub_grade  \\\n",
       "id                                                                        \n",
       "2090707      9750.0       9.0      0.0                   0.0         11   \n",
       "6717890      4000.0       9.0      0.0                   0.0         18   \n",
       "28643840    13000.0      13.0      0.0                   0.0          8   \n",
       "44138131     7000.0       6.0      0.0                   0.0         10   \n",
       "6976030      6975.0       9.0      0.0                   0.0         13   \n",
       "...             ...       ...      ...                   ...        ...   \n",
       "54187456     6000.0      11.0      0.0                   0.0          9   \n",
       "36018237    16000.0       9.0      1.0                   0.0         10   \n",
       "37897153     4000.0      12.0      1.0                   1.0         15   \n",
       "65118659     8400.0       5.0      0.0                   0.0         15   \n",
       "20720282    16500.0       6.0      1.0                   1.0          8   \n",
       "\n",
       "          verification_status  days_since_first_credit  fico_score_average  \\\n",
       "id                                                                           \n",
       "2090707                     0                     2315               672.0   \n",
       "6717890                     1                     4930               702.0   \n",
       "28643840                    0                     4840               697.0   \n",
       "44138131                    1                     2981               667.0   \n",
       "6976030                     0                     3500               702.0   \n",
       "...                       ...                      ...                 ...   \n",
       "54187456                    0                     6969               712.0   \n",
       "36018237                    1                     2891               702.0   \n",
       "37897153                    1                     5054               662.0   \n",
       "65118659                    1                     4291               677.0   \n",
       "20720282                    0                     9618               662.0   \n",
       "\n",
       "          purpose__car  purpose__credit_card  purpose__educational  \\\n",
       "id                                                                   \n",
       "2090707              0                     0                     0   \n",
       "6717890              0                     0                     0   \n",
       "28643840             0                     0                     0   \n",
       "44138131             0                     0                     0   \n",
       "6976030              0                     0                     0   \n",
       "...                ...                   ...                   ...   \n",
       "54187456             0                     0                     0   \n",
       "36018237             0                     0                     0   \n",
       "37897153             0                     1                     0   \n",
       "65118659             0                     0                     0   \n",
       "20720282             0                     0                     0   \n",
       "\n",
       "          purpose__home_improvement  purpose__house  purpose__major_purchase  \\\n",
       "id                                                                             \n",
       "2090707                           0               0                        0   \n",
       "6717890                           0               0                        0   \n",
       "28643840                          0               0                        0   \n",
       "44138131                          0               0                        0   \n",
       "6976030                           0               0                        0   \n",
       "...                             ...             ...                      ...   \n",
       "54187456                          0               0                        0   \n",
       "36018237                          0               0                        0   \n",
       "37897153                          0               0                        0   \n",
       "65118659                          0               0                        0   \n",
       "20720282                          0               0                        0   \n",
       "\n",
       "          purpose__medical  purpose__moving  purpose__other  ...  \\\n",
       "id                                                           ...   \n",
       "2090707                  0                0               0  ...   \n",
       "6717890                  0                0               1  ...   \n",
       "28643840                 0                0               0  ...   \n",
       "44138131                 0                0               0  ...   \n",
       "6976030                  0                0               0  ...   \n",
       "...                    ...              ...             ...  ...   \n",
       "54187456                 0                0               0  ...   \n",
       "36018237                 0                0               0  ...   \n",
       "37897153                 0                0               0  ...   \n",
       "65118659                 0                0               1  ...   \n",
       "20720282                 0                0               0  ...   \n",
       "\n",
       "          addr_state__NV  addr_state__NY  addr_state__OH  addr_state__OK  \\\n",
       "id                                                                         \n",
       "2090707                0               0               0               0   \n",
       "6717890                0               0               0               0   \n",
       "28643840               0               0               0               0   \n",
       "44138131               0               0               0               0   \n",
       "6976030                0               0               0               0   \n",
       "...                  ...             ...             ...             ...   \n",
       "54187456               0               0               0               0   \n",
       "36018237               0               0               0               0   \n",
       "37897153               0               0               0               0   \n",
       "65118659               0               0               0               0   \n",
       "20720282               0               0               0               0   \n",
       "\n",
       "          addr_state__OR  addr_state__PA  addr_state__RI  addr_state__SC  \\\n",
       "id                                                                         \n",
       "2090707                0               0               0               0   \n",
       "6717890                0               0               0               0   \n",
       "28643840               0               0               0               1   \n",
       "44138131               0               0               0               0   \n",
       "6976030                0               0               0               0   \n",
       "...                  ...             ...             ...             ...   \n",
       "54187456               0               1               0               0   \n",
       "36018237               0               0               0               0   \n",
       "37897153               0               0               0               0   \n",
       "65118659               0               1               0               0   \n",
       "20720282               0               0               0               0   \n",
       "\n",
       "          addr_state__SD  addr_state__TN  addr_state__TX  addr_state__UT  \\\n",
       "id                                                                         \n",
       "2090707                0               0               0               0   \n",
       "6717890                0               0               0               0   \n",
       "28643840               0               0               0               0   \n",
       "44138131               0               0               0               0   \n",
       "6976030                0               0               0               0   \n",
       "...                  ...             ...             ...             ...   \n",
       "54187456               0               0               0               0   \n",
       "36018237               0               0               0               0   \n",
       "37897153               0               0               0               0   \n",
       "65118659               0               0               0               0   \n",
       "20720282               0               0               0               0   \n",
       "\n",
       "          addr_state__VA  addr_state__VT  addr_state__WA  addr_state__WI  \\\n",
       "id                                                                         \n",
       "2090707                0               0               0               0   \n",
       "6717890                0               0               0               0   \n",
       "28643840               0               0               0               0   \n",
       "44138131               0               0               0               0   \n",
       "6976030                0               0               0               0   \n",
       "...                  ...             ...             ...             ...   \n",
       "54187456               0               0               0               0   \n",
       "36018237               0               0               1               0   \n",
       "37897153               1               0               0               0   \n",
       "65118659               0               0               0               0   \n",
       "20720282               0               0               0               1   \n",
       "\n",
       "          addr_state__WV  addr_state__WY  home_ownership__ANY  \\\n",
       "id                                                              \n",
       "2090707                0               0                    0   \n",
       "6717890                0               0                    0   \n",
       "28643840               0               0                    0   \n",
       "44138131               0               0                    0   \n",
       "6976030                0               0                    0   \n",
       "...                  ...             ...                  ...   \n",
       "54187456               0               0                    0   \n",
       "36018237               0               0                    0   \n",
       "37897153               0               0                    0   \n",
       "65118659               0               0                    0   \n",
       "20720282               0               0                    0   \n",
       "\n",
       "          home_ownership__NONE  home_ownership__OTHER  home_ownership__OWN  \\\n",
       "id                                                                           \n",
       "2090707                      0                      0                    0   \n",
       "6717890                      0                      0                    0   \n",
       "28643840                     0                      0                    1   \n",
       "44138131                     0                      0                    0   \n",
       "6976030                      0                      0                    0   \n",
       "...                        ...                    ...                  ...   \n",
       "54187456                     0                      0                    0   \n",
       "36018237                     0                      0                    0   \n",
       "37897153                     0                      0                    0   \n",
       "65118659                     0                      0                    0   \n",
       "20720282                     0                      0                    0   \n",
       "\n",
       "          home_ownership__RENT  loan_status  loan_status_predict  \n",
       "id                                                                \n",
       "2090707                      1            0                    1  \n",
       "6717890                      0            0                    1  \n",
       "28643840                     0            0                    1  \n",
       "44138131                     1            0                    1  \n",
       "6976030                      0            0                    1  \n",
       "...                        ...          ...                  ...  \n",
       "54187456                     0            0                    1  \n",
       "36018237                     1            0                    1  \n",
       "37897153                     1            0                    1  \n",
       "65118659                     1            0                    1  \n",
       "20720282                     0            0                    1  \n",
       "\n",
       "[68845 rows x 86 columns]"
      ]
     },
     "execution_count": 32,
     "metadata": {},
     "output_type": "execute_result"
    }
   ],
   "source": [
    "fails = df2.loc[(df2['loan_status'] == 0) & (df2['loan_status_predict'] == 1)]\n",
    "fails"
   ]
  },
  {
   "cell_type": "markdown",
   "metadata": {},
   "source": [
    "### PnL analysis"
   ]
  },
  {
   "cell_type": "code",
   "execution_count": 33,
   "metadata": {},
   "outputs": [],
   "source": [
    "model_port = df2.loc[df2['loan_status_predict'] == 1]"
   ]
  },
  {
   "cell_type": "code",
   "execution_count": 34,
   "metadata": {},
   "outputs": [],
   "source": [
    "PnL = df_full['PnL']"
   ]
  },
  {
   "cell_type": "code",
   "execution_count": 35,
   "metadata": {},
   "outputs": [],
   "source": [
    "model_port = model_port.merge(PnL, how='inner',left_index=True,right_index=True)"
   ]
  },
  {
   "cell_type": "code",
   "execution_count": 36,
   "metadata": {},
   "outputs": [
    {
     "name": "stdout",
     "output_type": "stream",
     "text": [
      "Total investment for Model Portfolio: 6574852625\n",
      "Total PnL for Model Portfolio: 552672949\n",
      "Return for Model Portfolio: 8.41%\n"
     ]
    }
   ],
   "source": [
    "print(f'Total investment for Model Portfolio: {model_port.loan_amnt.sum():.0f}')\n",
    "print(f'Total PnL for Model Portfolio: {model_port.PnL.sum():.0f}')\n",
    "print(f'Return for Model Portfolio: {(model_port.PnL.sum()/model_port.loan_amnt.sum())*100:.2f}%')"
   ]
  },
  {
   "cell_type": "code",
   "execution_count": 37,
   "metadata": {},
   "outputs": [],
   "source": [
    "null_port = df2.merge(PnL, how='inner',left_index=True,right_index=True)"
   ]
  },
  {
   "cell_type": "code",
   "execution_count": 38,
   "metadata": {},
   "outputs": [
    {
     "name": "stdout",
     "output_type": "stream",
     "text": [
      "Total investment for Null Portfolio: 6574956025\n",
      "Total PnL for Null Portfolio: 552676609\n",
      "Return for Null Portfolio: 8.41%\n"
     ]
    }
   ],
   "source": [
    "print(f'Total investment for Null Portfolio: {null_port.loan_amnt.sum():.0f}')\n",
    "print(f'Total PnL for Null Portfolio: {null_port.PnL.sum():.0f}')\n",
    "print(f'Return for Null Portfolio: {(null_port.PnL.sum()/null_port.loan_amnt.sum())*100:.2f}%')"
   ]
  },
  {
   "cell_type": "code",
   "execution_count": 39,
   "metadata": {},
   "outputs": [],
   "source": [
    "null_port\n",
    "null_port.to_csv('null_port.csv')"
   ]
  },
  {
   "cell_type": "code",
   "execution_count": null,
   "metadata": {},
   "outputs": [],
   "source": []
  },
  {
   "cell_type": "code",
   "execution_count": null,
   "metadata": {},
   "outputs": [],
   "source": []
  },
  {
   "cell_type": "code",
   "execution_count": null,
   "metadata": {},
   "outputs": [],
   "source": []
  },
  {
   "cell_type": "markdown",
   "metadata": {},
   "source": [
    "### Research the model fails"
   ]
  },
  {
   "cell_type": "code",
   "execution_count": null,
   "metadata": {},
   "outputs": [],
   "source": [
    "fig, (ax1,ax2) = plt.subplots(1,2, figsize=(10,4))  # 1 row, 2 columns\n",
    "sns.countplot(x=fails['sub_grade'],ax=ax1)\n",
    "sns.countplot(x=Xtest['sub_grade'],ax=ax2)"
   ]
  },
  {
   "cell_type": "code",
   "execution_count": null,
   "metadata": {},
   "outputs": [],
   "source": [
    "fig, (ax1,ax2) = plt.subplots(1,2, figsize=(10,4))\n",
    "sns.histplot(data=fails, x=\"dti\", ax=ax1)\n",
    "sns.histplot(data=Xtest, x=\"dti\", ax=ax2)\n",
    "plt.xlim(0, 40)\n",
    "# plt.show()"
   ]
  },
  {
   "cell_type": "code",
   "execution_count": null,
   "metadata": {},
   "outputs": [],
   "source": [
    "fig, (ax1,ax2) = plt.subplots(1,2, figsize=(10,4))\n",
    "sns.histplot(data=fails, x=\"int_rate\", ax=ax1)\n",
    "sns.histplot(data=Xtest, x=\"int_rate\", ax=ax2)"
   ]
  },
  {
   "cell_type": "code",
   "execution_count": null,
   "metadata": {},
   "outputs": [],
   "source": [
    "fig, (ax1,ax2) = plt.subplots(1,2, figsize=(10,4))\n",
    "sns.histplot(data=fails, x=\"emp_length\", ax=ax1)\n",
    "sns.histplot(data=Xtest, x=\"emp_length\", ax=ax2)"
   ]
  },
  {
   "cell_type": "code",
   "execution_count": null,
   "metadata": {},
   "outputs": [],
   "source": [
    "fig, (ax1,ax2) = plt.subplots(1,2, figsize=(10,4))\n",
    "sns.histplot(data=fails, x=\"fico_score_average\", ax=ax1)\n",
    "sns.histplot(data=Xtest, x=\"fico_score_average\", ax=ax2)"
   ]
  },
  {
   "cell_type": "code",
   "execution_count": null,
   "metadata": {},
   "outputs": [],
   "source": [
    "fig, (ax1,ax2) = plt.subplots(1,2, figsize=(10,4))\n",
    "sns.histplot(data=fails, x=\"open_acc\", ax=ax1)\n",
    "sns.histplot(data=Xtest, x=\"open_acc\", ax=ax2)"
   ]
  },
  {
   "cell_type": "code",
   "execution_count": null,
   "metadata": {},
   "outputs": [],
   "source": []
  },
  {
   "cell_type": "code",
   "execution_count": null,
   "metadata": {},
   "outputs": [],
   "source": []
  },
  {
   "cell_type": "code",
   "execution_count": null,
   "metadata": {},
   "outputs": [],
   "source": []
  },
  {
   "cell_type": "code",
   "execution_count": null,
   "metadata": {},
   "outputs": [],
   "source": []
  },
  {
   "cell_type": "code",
   "execution_count": null,
   "metadata": {},
   "outputs": [],
   "source": []
  },
  {
   "cell_type": "code",
   "execution_count": null,
   "metadata": {},
   "outputs": [],
   "source": []
  },
  {
   "cell_type": "code",
   "execution_count": null,
   "metadata": {},
   "outputs": [],
   "source": []
  },
  {
   "cell_type": "code",
   "execution_count": null,
   "metadata": {},
   "outputs": [],
   "source": []
  },
  {
   "cell_type": "code",
   "execution_count": null,
   "metadata": {},
   "outputs": [],
   "source": []
  },
  {
   "cell_type": "code",
   "execution_count": null,
   "metadata": {},
   "outputs": [],
   "source": []
  },
  {
   "cell_type": "code",
   "execution_count": null,
   "metadata": {},
   "outputs": [],
   "source": []
  },
  {
   "cell_type": "code",
   "execution_count": null,
   "metadata": {},
   "outputs": [],
   "source": []
  },
  {
   "cell_type": "code",
   "execution_count": null,
   "metadata": {},
   "outputs": [],
   "source": []
  },
  {
   "cell_type": "markdown",
   "metadata": {},
   "source": [
    "### change the threshold to improve the pred_1 precision"
   ]
  },
  {
   "cell_type": "code",
   "execution_count": null,
   "metadata": {},
   "outputs": [],
   "source": [
    "probs_positive_class = best_model.predict_proba(Xtest)[:, 1]\n",
    "prediction = probs_positive_class > .6"
   ]
  },
  {
   "cell_type": "code",
   "execution_count": null,
   "metadata": {},
   "outputs": [],
   "source": [
    "cmat2 = confusion_matrix(ytest, prediction, labels=[0, 1])\n",
    "pd.DataFrame(cmat2, columns = [f'Pred_{label}' for label in best_model.classes_],\n",
    "             index = [f'True_{label}' for label in best_model.classes_])"
   ]
  },
  {
   "cell_type": "code",
   "execution_count": null,
   "metadata": {},
   "outputs": [],
   "source": [
    "from sklearn.metrics import classification_report\n",
    "print(classification_report(ytest, prediction))"
   ]
  },
  {
   "cell_type": "code",
   "execution_count": null,
   "metadata": {},
   "outputs": [],
   "source": [
    "cmat=cmat2\n",
    "print(f'loan approval rate: {sum(cmat[:,1])/sum(sum(cmat)):.2f}')\n",
    "print(f'precision pred_1: {cmat[1][1]/sum(cmat[:,1]):.2f}')\n",
    "print(f'recall pred_1: {cmat[1][1]/sum(cmat[1,:]):.2f}')"
   ]
  },
  {
   "cell_type": "markdown",
   "metadata": {},
   "source": [
    "### Loop to check thresholds"
   ]
  },
  {
   "cell_type": "code",
   "execution_count": null,
   "metadata": {},
   "outputs": [],
   "source": [
    "thresholds = np.linspace(0.5,1,19)\n",
    "\n",
    "for i in thresholds:\n",
    "    probs_positive_class = best_model.predict_proba(Xtest)[:, 1]\n",
    "    prediction = probs_positive_class > i\n",
    "    cmat = confusion_matrix(ytest, prediction, labels=[0, 1])\n",
    "    print(f'threshold:{i:.2f}')\n",
    "    print(f'loan approval rate: {sum(cmat[:,1])/sum(sum(cmat)):.2f}')\n",
    "    print(f'precision pred_1: {cmat[1][1]/sum(cmat[:,1]):.2f}')\n",
    "    print(f'recall pred_1: {cmat[1][1]/sum(cmat[1,:]):.2f}')\n",
    "    print(\"-\"*50)"
   ]
  },
  {
   "cell_type": "code",
   "execution_count": null,
   "metadata": {},
   "outputs": [],
   "source": []
  },
  {
   "cell_type": "code",
   "execution_count": null,
   "metadata": {},
   "outputs": [],
   "source": []
  },
  {
   "cell_type": "code",
   "execution_count": null,
   "metadata": {},
   "outputs": [],
   "source": []
  },
  {
   "cell_type": "code",
   "execution_count": null,
   "metadata": {},
   "outputs": [],
   "source": []
  },
  {
   "cell_type": "markdown",
   "metadata": {},
   "source": [
    "## ROC Curve"
   ]
  },
  {
   "cell_type": "code",
   "execution_count": null,
   "metadata": {},
   "outputs": [],
   "source": [
    "from sklearn.metrics import roc_curve"
   ]
  },
  {
   "cell_type": "code",
   "execution_count": null,
   "metadata": {},
   "outputs": [],
   "source": [
    "# predict probabilities\n",
    "yhat = logr.predict_proba(Xtest)"
   ]
  },
  {
   "cell_type": "code",
   "execution_count": null,
   "metadata": {},
   "outputs": [],
   "source": [
    "# keep probabilities for the positive outcome only\n",
    "yhat = yhat[:, 1]"
   ]
  },
  {
   "cell_type": "code",
   "execution_count": null,
   "metadata": {},
   "outputs": [],
   "source": [
    "# calculate roc curves\n",
    "fpr, tpr, thresholds = roc_curve(ytest, yhat)"
   ]
  },
  {
   "cell_type": "code",
   "execution_count": null,
   "metadata": {},
   "outputs": [],
   "source": [
    "# plot the roc curve for the model\n",
    "plt.plot([0,1], [0,1], linestyle='--', label='No Skill')\n",
    "plt.plot(fpr, tpr, marker='.', label='Logistic')\n",
    "# axis labels\n",
    "plt.xlabel('False Positive Rate')\n",
    "plt.ylabel('True Positive Rate')\n",
    "plt.legend()\n",
    "# show the plot\n",
    "plt.show()"
   ]
  },
  {
   "cell_type": "code",
   "execution_count": null,
   "metadata": {},
   "outputs": [],
   "source": [
    "# calculate roc curves\n",
    "fpr, tpr, thresholds = roc_curve(ytest, prediction)"
   ]
  },
  {
   "cell_type": "code",
   "execution_count": null,
   "metadata": {},
   "outputs": [],
   "source": [
    "# plot the roc curve for the model\n",
    "plt.plot([0,1], [0,1], linestyle='--', label='No Skill')\n",
    "plt.plot(fpr, tpr, marker='.', label='Logistic')\n",
    "# axis labels\n",
    "plt.xlabel('False Positive Rate')\n",
    "plt.ylabel('True Positive Rate')\n",
    "plt.legend()\n",
    "# show the plot\n",
    "plt.show()"
   ]
  },
  {
   "cell_type": "markdown",
   "metadata": {},
   "source": [
    "### SGD classifier"
   ]
  },
  {
   "cell_type": "code",
   "execution_count": null,
   "metadata": {},
   "outputs": [],
   "source": []
  },
  {
   "cell_type": "code",
   "execution_count": null,
   "metadata": {},
   "outputs": [],
   "source": []
  },
  {
   "cell_type": "code",
   "execution_count": null,
   "metadata": {},
   "outputs": [],
   "source": []
  },
  {
   "cell_type": "markdown",
   "metadata": {},
   "source": [
    "### Save model in pickle"
   ]
  },
  {
   "cell_type": "code",
   "execution_count": null,
   "metadata": {},
   "outputs": [],
   "source": [
    "filename = 'grid_logr_model.sav'\n",
    "pickle.dump(grid_logr, open(filename, 'wb'))"
   ]
  },
  {
   "cell_type": "code",
   "execution_count": null,
   "metadata": {},
   "outputs": [],
   "source": [
    "loaded_model = pickle.load(open(filename, 'rb'))\n",
    "result = loaded_model.score(Xtest, ytest)\n",
    "print(result)"
   ]
  }
 ],
 "metadata": {
  "kernelspec": {
   "display_name": "Python 3",
   "language": "python",
   "name": "python3"
  },
  "language_info": {
   "codemirror_mode": {
    "name": "ipython",
    "version": 3
   },
   "file_extension": ".py",
   "mimetype": "text/x-python",
   "name": "python",
   "nbconvert_exporter": "python",
   "pygments_lexer": "ipython3",
   "version": "3.8.5"
  }
 },
 "nbformat": 4,
 "nbformat_minor": 4
}
