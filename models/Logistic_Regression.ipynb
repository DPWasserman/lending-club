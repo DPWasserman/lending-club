{
 "cells": [
  {
   "cell_type": "markdown",
   "metadata": {},
   "source": [
    "# Logistic Regression\n",
    "- Contents:\n",
    " - Data prep\n",
    " - Plain logr model\n",
    " - logr with upsampling (SMOTE) and gridsearch\n",
    " - Confusion matricies\n",
    " - PnL analysis (test and whole dataset)\n",
    " - Loop to search range of  'approval' ratings\n",
    " - ROC curve"
   ]
  },
  {
   "cell_type": "code",
   "execution_count": 61,
   "metadata": {},
   "outputs": [],
   "source": [
    "import pandas as pd\n",
    "import numpy as np\n",
    "import seaborn as sns\n",
    "import matplotlib.pyplot as plt\n",
    "%matplotlib inline\n",
    "import warnings\n",
    "warnings.filterwarnings('ignore')\n",
    "# pd.set_option('display.height', 500)\n",
    "pd.set_option('display.max_rows', 30)\n",
    "pd.set_option('display.max_columns', 50)"
   ]
  },
  {
   "cell_type": "code",
   "execution_count": 62,
   "metadata": {},
   "outputs": [],
   "source": [
    "import sys\n",
    "sys.path.append('../lending_club')\n",
    "import config\n",
    "from data_prep import get_lending_club_data, refine_features\n",
    "from model_analysis import output_confusion_matrix"
   ]
  },
  {
   "cell_type": "code",
   "execution_count": 63,
   "metadata": {},
   "outputs": [
    {
     "name": "stdout",
     "output_type": "stream",
     "text": [
      "Wall time: 4.63 s\n"
     ]
    }
   ],
   "source": [
    "%%time\n",
    "approved = pd.read_parquet('../data/approved_20210329.parquet')"
   ]
  },
  {
   "cell_type": "code",
   "execution_count": 64,
   "metadata": {},
   "outputs": [
    {
     "data": {
      "text/plain": [
       "addr_state                  object\n",
       "annual_inc                 float64\n",
       "application_type            object\n",
       "disbursement_method         object\n",
       "dti                        float64\n",
       "                            ...   \n",
       "verification_status         object\n",
       "zip_code                    object\n",
       "days_since_first_credit      int64\n",
       "fico_score_average         float64\n",
       "PnL                        float64\n",
       "Length: 32, dtype: object"
      ]
     },
     "execution_count": 64,
     "metadata": {},
     "output_type": "execute_result"
    }
   ],
   "source": [
    "approved.dtypes"
   ]
  },
  {
   "cell_type": "markdown",
   "metadata": {},
   "source": [
    "### create df_full to get back PnL for model driven portfolio later"
   ]
  },
  {
   "cell_type": "code",
   "execution_count": 65,
   "metadata": {},
   "outputs": [],
   "source": [
    "df_full = approved.copy(deep=True)"
   ]
  },
  {
   "cell_type": "markdown",
   "metadata": {},
   "source": [
    "### Removed NA's"
   ]
  },
  {
   "cell_type": "code",
   "execution_count": 31,
   "metadata": {},
   "outputs": [],
   "source": [
    "approved.drop(['emp_title', 'earliest_cr_line', 'grade', 'zip_code', 'last_pymnt_d','total_pymnt','PnL'], axis = 1, inplace = True)"
   ]
  },
  {
   "cell_type": "code",
   "execution_count": 32,
   "metadata": {},
   "outputs": [],
   "source": [
    "approved.dropna(axis = 0, inplace = True)"
   ]
  },
  {
   "cell_type": "markdown",
   "metadata": {},
   "source": [
    "### Dummification"
   ]
  },
  {
   "cell_type": "code",
   "execution_count": 33,
   "metadata": {},
   "outputs": [
    {
     "name": "stdout",
     "output_type": "stream",
     "text": [
      "Wall time: 8.78 s\n"
     ]
    }
   ],
   "source": [
    "%%time\n",
    "for d in ['addr_state', 'application_type', 'disbursement_method', 'home_ownership', \\\n",
    "          'initial_list_status', 'purpose','verification_status','sub_grade']:\n",
    "    temp = pd.get_dummies(approved[d], prefix=d, prefix_sep='__')\n",
    "    temp = temp.drop(d+'__'+str(approved[d].mode()[0]), axis=1)\n",
    "    #drop the most common one (mode), making it the base case\n",
    "    approved = pd.concat([approved.drop(d, axis=1),temp], axis=1)\n",
    "    #merge back with main df"
   ]
  },
  {
   "cell_type": "markdown",
   "metadata": {},
   "source": [
    "### Create 'combined' DataFrame (combo of 36mo and 60mo loans)\n"
   ]
  },
  {
   "cell_type": "code",
   "execution_count": 34,
   "metadata": {},
   "outputs": [],
   "source": [
    "from model_prep import divide_by_term\n",
    "\n",
    "three_year = divide_by_term(approved, 36)\n",
    "five_year = divide_by_term(approved, 60)\n",
    "combined = pd.concat([three_year,five_year],axis=0)"
   ]
  },
  {
   "cell_type": "code",
   "execution_count": 35,
   "metadata": {},
   "outputs": [],
   "source": [
    "combined.drop('issue_d', axis = 1, inplace = True)"
   ]
  },
  {
   "cell_type": "markdown",
   "metadata": {},
   "source": [
    "### Logistic Regression (plain = no gridsearch, no upsampling)"
   ]
  },
  {
   "cell_type": "code",
   "execution_count": 36,
   "metadata": {},
   "outputs": [
    {
     "data": {
      "text/plain": [
       "(660903, 113)"
      ]
     },
     "execution_count": 36,
     "metadata": {},
     "output_type": "execute_result"
    }
   ],
   "source": [
    "combined.shape"
   ]
  },
  {
   "cell_type": "code",
   "execution_count": 37,
   "metadata": {},
   "outputs": [],
   "source": [
    "target = combined['loan_status']\n",
    "features = combined.drop('loan_status', axis = 1)"
   ]
  },
  {
   "cell_type": "code",
   "execution_count": 39,
   "metadata": {},
   "outputs": [],
   "source": [
    "from sklearn.linear_model import LogisticRegression, LogisticRegressionCV\n",
    "from sklearn.model_selection import GridSearchCV, StratifiedKFold, train_test_split, KFold\n",
    "\n",
    "Xtrain, Xtest, ytrain, ytest = train_test_split(features, target, train_size=.8)\n",
    "logr = LogisticRegression(max_iter=1e8)"
   ]
  },
  {
   "cell_type": "code",
   "execution_count": 40,
   "metadata": {},
   "outputs": [
    {
     "data": {
      "text/plain": [
       "LogisticRegression(max_iter=100000000.0)"
      ]
     },
     "execution_count": 40,
     "metadata": {},
     "output_type": "execute_result"
    }
   ],
   "source": [
    "logr.fit(Xtrain, ytrain)"
   ]
  },
  {
   "cell_type": "code",
   "execution_count": 41,
   "metadata": {},
   "outputs": [
    {
     "data": {
      "text/html": [
       "<div>\n",
       "<style scoped>\n",
       "    .dataframe tbody tr th:only-of-type {\n",
       "        vertical-align: middle;\n",
       "    }\n",
       "\n",
       "    .dataframe tbody tr th {\n",
       "        vertical-align: top;\n",
       "    }\n",
       "\n",
       "    .dataframe thead th {\n",
       "        text-align: right;\n",
       "    }\n",
       "</style>\n",
       "<table border=\"1\" class=\"dataframe\">\n",
       "  <thead>\n",
       "    <tr style=\"text-align: right;\">\n",
       "      <th></th>\n",
       "      <th>Pred: Charged Off</th>\n",
       "      <th>Pred: Fully Paid</th>\n",
       "    </tr>\n",
       "  </thead>\n",
       "  <tbody>\n",
       "    <tr>\n",
       "      <th>True: Charged Off</th>\n",
       "      <td>54</td>\n",
       "      <td>19158</td>\n",
       "    </tr>\n",
       "    <tr>\n",
       "      <th>True: Fully Paid</th>\n",
       "      <td>72</td>\n",
       "      <td>112897</td>\n",
       "    </tr>\n",
       "  </tbody>\n",
       "</table>\n",
       "</div>"
      ],
      "text/plain": [
       "                   Pred: Charged Off  Pred: Fully Paid\n",
       "True: Charged Off                 54             19158\n",
       "True: Fully Paid                  72            112897"
      ]
     },
     "execution_count": 41,
     "metadata": {},
     "output_type": "execute_result"
    }
   ],
   "source": [
    "output_confusion_matrix(logr, Xtest, ytest)"
   ]
  },
  {
   "cell_type": "code",
   "execution_count": 42,
   "metadata": {},
   "outputs": [
    {
     "name": "stdout",
     "output_type": "stream",
     "text": [
      "0.8545176689539343\n",
      "0.8555157530800686\n"
     ]
    }
   ],
   "source": [
    "print(logr.score(Xtest, ytest))\n",
    "print(logr.score(Xtrain,ytrain))"
   ]
  },
  {
   "cell_type": "markdown",
   "metadata": {},
   "source": [
    "### Summary: logr is predicting the null model because of the data imbalance\n",
    "### Next steps:\n",
    "- Use SMOTE for upsampling\n",
    "- GridsearchCV for parameter tuning"
   ]
  },
  {
   "cell_type": "markdown",
   "metadata": {},
   "source": [
    "### SMOTE to oversample minority class (defaulted loans)"
   ]
  },
  {
   "cell_type": "code",
   "execution_count": 43,
   "metadata": {},
   "outputs": [
    {
     "name": "stdout",
     "output_type": "stream",
     "text": [
      "Wall time: 2min 56s\n"
     ]
    }
   ],
   "source": [
    "%%time\n",
    "from imblearn.over_sampling import SMOTE\n",
    "smote = SMOTE(random_state = 101)\n",
    "X_oversample, y_oversample = smote.fit_resample(Xtrain, ytrain)"
   ]
  },
  {
   "cell_type": "code",
   "execution_count": 44,
   "metadata": {},
   "outputs": [
    {
     "name": "stdout",
     "output_type": "stream",
     "text": [
      "1    452440\n",
      "0    452440\n",
      "Name: loan_status, dtype: int64\n",
      "1    112969\n",
      "0     19212\n",
      "Name: loan_status, dtype: int64\n"
     ]
    }
   ],
   "source": [
    "print(y_oversample.value_counts())\n",
    "print(ytest.value_counts())"
   ]
  },
  {
   "cell_type": "markdown",
   "metadata": {},
   "source": [
    "### Gridsearch"
   ]
  },
  {
   "cell_type": "code",
   "execution_count": 45,
   "metadata": {},
   "outputs": [],
   "source": [
    "Cs = [0.0001,0.001,0.01,1,10,100,1000,10000]\n",
    "params = [{'C':Cs, 'penalty':['l1','l2']}]\n",
    "grid_logr = GridSearchCV(estimator=logr, param_grid=params, cv=3)"
   ]
  },
  {
   "cell_type": "code",
   "execution_count": 46,
   "metadata": {},
   "outputs": [
    {
     "name": "stdout",
     "output_type": "stream",
     "text": [
      "Wall time: 7min 13s\n"
     ]
    },
    {
     "data": {
      "text/plain": [
       "GridSearchCV(cv=3, estimator=LogisticRegression(max_iter=100000000.0),\n",
       "             param_grid=[{'C': [0.0001, 0.001, 0.01, 1, 10, 100, 1000, 10000],\n",
       "                          'penalty': ['l1', 'l2']}])"
      ]
     },
     "execution_count": 46,
     "metadata": {},
     "output_type": "execute_result"
    }
   ],
   "source": [
    "%%time\n",
    "grid_logr.fit(X_oversample, y_oversample)"
   ]
  },
  {
   "cell_type": "code",
   "execution_count": 47,
   "metadata": {},
   "outputs": [
    {
     "name": "stdout",
     "output_type": "stream",
     "text": [
      "{'C': 10000, 'penalty': 'l2'}\n",
      "0.641202147196168\n"
     ]
    }
   ],
   "source": [
    "print(grid_logr.best_params_)\n",
    "print(grid_logr.best_score_)"
   ]
  },
  {
   "cell_type": "code",
   "execution_count": 48,
   "metadata": {},
   "outputs": [
    {
     "data": {
      "text/plain": [
       "0.6219275084921434"
      ]
     },
     "execution_count": 48,
     "metadata": {},
     "output_type": "execute_result"
    }
   ],
   "source": [
    "best_model = grid_logr.best_estimator_\n",
    "best_model.score(Xtest,ytest)"
   ]
  },
  {
   "cell_type": "code",
   "execution_count": 49,
   "metadata": {},
   "outputs": [],
   "source": [
    "coefs = pd.DataFrame(abs(best_model.coef_).T, index=features.columns)"
   ]
  },
  {
   "cell_type": "code",
   "execution_count": 50,
   "metadata": {},
   "outputs": [
    {
     "data": {
      "text/html": [
       "<div>\n",
       "<style scoped>\n",
       "    .dataframe tbody tr th:only-of-type {\n",
       "        vertical-align: middle;\n",
       "    }\n",
       "\n",
       "    .dataframe tbody tr th {\n",
       "        vertical-align: top;\n",
       "    }\n",
       "\n",
       "    .dataframe thead th {\n",
       "        text-align: right;\n",
       "    }\n",
       "</style>\n",
       "<table border=\"1\" class=\"dataframe\">\n",
       "  <thead>\n",
       "    <tr style=\"text-align: right;\">\n",
       "      <th></th>\n",
       "      <th>0</th>\n",
       "    </tr>\n",
       "  </thead>\n",
       "  <tbody>\n",
       "    <tr>\n",
       "      <th>int_rate</th>\n",
       "      <td>0.090795</td>\n",
       "    </tr>\n",
       "    <tr>\n",
       "      <th>term</th>\n",
       "      <td>0.073077</td>\n",
       "    </tr>\n",
       "    <tr>\n",
       "      <th>emp_length</th>\n",
       "      <td>0.029408</td>\n",
       "    </tr>\n",
       "    <tr>\n",
       "      <th>dti</th>\n",
       "      <td>0.018844</td>\n",
       "    </tr>\n",
       "    <tr>\n",
       "      <th>verification_status__Not Verified</th>\n",
       "      <td>0.013121</td>\n",
       "    </tr>\n",
       "    <tr>\n",
       "      <th>purpose__credit_card</th>\n",
       "      <td>0.010889</td>\n",
       "    </tr>\n",
       "    <tr>\n",
       "      <th>initial_list_status__f</th>\n",
       "      <td>0.010761</td>\n",
       "    </tr>\n",
       "    <tr>\n",
       "      <th>inq_last_6mths</th>\n",
       "      <td>0.009948</td>\n",
       "    </tr>\n",
       "    <tr>\n",
       "      <th>verification_status__Verified</th>\n",
       "      <td>0.008826</td>\n",
       "    </tr>\n",
       "    <tr>\n",
       "      <th>home_ownership__RENT</th>\n",
       "      <td>0.008229</td>\n",
       "    </tr>\n",
       "  </tbody>\n",
       "</table>\n",
       "</div>"
      ],
      "text/plain": [
       "                                          0\n",
       "int_rate                           0.090795\n",
       "term                               0.073077\n",
       "emp_length                         0.029408\n",
       "dti                                0.018844\n",
       "verification_status__Not Verified  0.013121\n",
       "purpose__credit_card               0.010889\n",
       "initial_list_status__f             0.010761\n",
       "inq_last_6mths                     0.009948\n",
       "verification_status__Verified      0.008826\n",
       "home_ownership__RENT               0.008229"
      ]
     },
     "execution_count": 50,
     "metadata": {},
     "output_type": "execute_result"
    }
   ],
   "source": [
    "coefs.sort_values(0, ascending=False).head(10)"
   ]
  },
  {
   "cell_type": "code",
   "execution_count": 51,
   "metadata": {},
   "outputs": [
    {
     "data": {
      "text/html": [
       "<div>\n",
       "<style scoped>\n",
       "    .dataframe tbody tr th:only-of-type {\n",
       "        vertical-align: middle;\n",
       "    }\n",
       "\n",
       "    .dataframe tbody tr th {\n",
       "        vertical-align: top;\n",
       "    }\n",
       "\n",
       "    .dataframe thead th {\n",
       "        text-align: right;\n",
       "    }\n",
       "</style>\n",
       "<table border=\"1\" class=\"dataframe\">\n",
       "  <thead>\n",
       "    <tr style=\"text-align: right;\">\n",
       "      <th></th>\n",
       "      <th>Pred_0</th>\n",
       "      <th>Pred_1</th>\n",
       "    </tr>\n",
       "  </thead>\n",
       "  <tbody>\n",
       "    <tr>\n",
       "      <th>True_0</th>\n",
       "      <td>11859</td>\n",
       "      <td>7353</td>\n",
       "    </tr>\n",
       "    <tr>\n",
       "      <th>True_1</th>\n",
       "      <td>42621</td>\n",
       "      <td>70348</td>\n",
       "    </tr>\n",
       "  </tbody>\n",
       "</table>\n",
       "</div>"
      ],
      "text/plain": [
       "        Pred_0  Pred_1\n",
       "True_0   11859    7353\n",
       "True_1   42621   70348"
      ]
     },
     "execution_count": 51,
     "metadata": {},
     "output_type": "execute_result"
    }
   ],
   "source": [
    "from sklearn.metrics import confusion_matrix\n",
    "cmat = confusion_matrix(ytest,best_model.predict(Xtest))\n",
    "\n",
    "#Label the confusion matrix\n",
    "pd.DataFrame(cmat, columns = [f'Pred_{label}' for label in best_model.classes_],\n",
    "             index = [f'True_{label}' for label in best_model.classes_])"
   ]
  },
  {
   "cell_type": "code",
   "execution_count": 52,
   "metadata": {},
   "outputs": [
    {
     "name": "stdout",
     "output_type": "stream",
     "text": [
      "loan approval rate: 0.59\n",
      "precision pred_1: 0.91\n",
      "recall pred_1: 0.62\n"
     ]
    }
   ],
   "source": [
    "cmat=cmat\n",
    "print(f'loan approval rate: {sum(cmat[:,1])/sum(sum(cmat)):.2f}')\n",
    "print(f'precision pred_1: {cmat[1][1]/sum(cmat[:,1]):.2f}')\n",
    "print(f'recall pred_1: {cmat[1][1]/sum(cmat[1,:]):.2f}')"
   ]
  },
  {
   "cell_type": "code",
   "execution_count": 53,
   "metadata": {},
   "outputs": [
    {
     "name": "stdout",
     "output_type": "stream",
     "text": [
      "              precision    recall  f1-score   support\n",
      "\n",
      "           0       0.22      0.62      0.32     19212\n",
      "           1       0.91      0.62      0.74    112969\n",
      "\n",
      "    accuracy                           0.62    132181\n",
      "   macro avg       0.56      0.62      0.53    132181\n",
      "weighted avg       0.81      0.62      0.68    132181\n",
      "\n"
     ]
    }
   ],
   "source": [
    "from sklearn.metrics import classification_report\n",
    "print(classification_report(ytest, best_model.predict(Xtest)))"
   ]
  },
  {
   "cell_type": "markdown",
   "metadata": {},
   "source": [
    "### PnL analysis for the TEST set"
   ]
  },
  {
   "cell_type": "markdown",
   "metadata": {},
   "source": [
    "- These steps will \n",
    " -  Create the logr model 'approved' portolio \n",
    " -  Bring back the PnL from the raw data frame and"
   ]
  },
  {
   "cell_type": "code",
   "execution_count": 70,
   "metadata": {},
   "outputs": [],
   "source": [
    "model_results = pd.Series(best_model.predict(Xtest), index = Xtest.index, name=\"loan_status_predict\")\n",
    "df2 = pd.concat([Xtest, ytest, model_results], axis=1 )\n",
    "model_port = df2.loc[df2['loan_status_predict'] == 1]\n",
    "PnL = df_full['PnL']\n",
    "model_port = model_port.merge(PnL, how='inner',left_index=True,right_index=True)"
   ]
  },
  {
   "cell_type": "code",
   "execution_count": 71,
   "metadata": {},
   "outputs": [
    {
     "name": "stdout",
     "output_type": "stream",
     "text": [
      "Total investment for Model Portfolio: 1020993950\n",
      "Total PnL for Model Portfolio: 85280363\n",
      "Return for Model Portfolio: 8.35%\n"
     ]
    }
   ],
   "source": [
    "print(f'Total investment for Model Portfolio: {model_port.loan_amnt.sum():.0f}')\n",
    "print(f'Total PnL for Model Portfolio: {model_port.PnL.sum():.0f}')\n",
    "print(f'Return for Model Portfolio: {(model_port.PnL.sum()/model_port.loan_amnt.sum())*100:.2f}%')"
   ]
  },
  {
   "cell_type": "markdown",
   "metadata": {},
   "source": [
    "### PnL analysis for the WHOLE set"
   ]
  },
  {
   "cell_type": "code",
   "execution_count": 91,
   "metadata": {},
   "outputs": [
    {
     "data": {
      "text/html": [
       "<div>\n",
       "<style scoped>\n",
       "    .dataframe tbody tr th:only-of-type {\n",
       "        vertical-align: middle;\n",
       "    }\n",
       "\n",
       "    .dataframe tbody tr th {\n",
       "        vertical-align: top;\n",
       "    }\n",
       "\n",
       "    .dataframe thead th {\n",
       "        text-align: right;\n",
       "    }\n",
       "</style>\n",
       "<table border=\"1\" class=\"dataframe\">\n",
       "  <thead>\n",
       "    <tr style=\"text-align: right;\">\n",
       "      <th></th>\n",
       "      <th>Pred_0</th>\n",
       "      <th>Pred_1</th>\n",
       "    </tr>\n",
       "  </thead>\n",
       "  <tbody>\n",
       "    <tr>\n",
       "      <th>True_0</th>\n",
       "      <td>59207</td>\n",
       "      <td>36287</td>\n",
       "    </tr>\n",
       "    <tr>\n",
       "      <th>True_1</th>\n",
       "      <td>213450</td>\n",
       "      <td>351959</td>\n",
       "    </tr>\n",
       "  </tbody>\n",
       "</table>\n",
       "</div>"
      ],
      "text/plain": [
       "        Pred_0  Pred_1\n",
       "True_0   59207   36287\n",
       "True_1  213450  351959"
      ]
     },
     "execution_count": 91,
     "metadata": {},
     "output_type": "execute_result"
    }
   ],
   "source": [
    "best_model.score(features,target)\n",
    "cmat = confusion_matrix(target,best_model.predict(features))\n",
    "\n",
    "#Label the confusion matrix\n",
    "pd.DataFrame(cmat, columns = [f'Pred_{label}' for label in best_model.classes_],\n",
    "             index = [f'True_{label}' for label in best_model.classes_])"
   ]
  },
  {
   "cell_type": "code",
   "execution_count": 92,
   "metadata": {},
   "outputs": [
    {
     "name": "stdout",
     "output_type": "stream",
     "text": [
      "              precision    recall  f1-score   support\n",
      "\n",
      "           0       0.22      0.62      0.32     95494\n",
      "           1       0.91      0.62      0.74    565409\n",
      "\n",
      "    accuracy                           0.62    660903\n",
      "   macro avg       0.56      0.62      0.53    660903\n",
      "weighted avg       0.81      0.62      0.68    660903\n",
      "\n"
     ]
    }
   ],
   "source": [
    "from sklearn.metrics import classification_report\n",
    "print(classification_report(target, best_model.predict(features)))"
   ]
  },
  {
   "cell_type": "code",
   "execution_count": 93,
   "metadata": {},
   "outputs": [
    {
     "name": "stdout",
     "output_type": "stream",
     "text": [
      "loan approval rate: 0.5874\n",
      "precision pred_1: 0.9065\n",
      "recall pred_1: 0.6225\n"
     ]
    }
   ],
   "source": [
    "cmat=cmat\n",
    "print(f'loan approval rate: {sum(cmat[:,1])/sum(sum(cmat)):.4f}')\n",
    "print(f'precision pred_1: {cmat[1][1]/sum(cmat[:,1]):.4f}')\n",
    "print(f'recall pred_1: {cmat[1][1]/sum(cmat[1,:]):.4f}')"
   ]
  },
  {
   "cell_type": "code",
   "execution_count": 79,
   "metadata": {},
   "outputs": [],
   "source": [
    "model_results = pd.Series(best_model.predict(features), index = features.index, name=\"loan_status_predict\")\n",
    "df2 = pd.concat([features, target, model_results], axis=1 )\n",
    "model_port = df2.loc[df2['loan_status_predict'] == 1]\n",
    "PnL = df_full['PnL']\n",
    "model_port = model_port.merge(PnL, how='inner',left_index=True,right_index=True)"
   ]
  },
  {
   "cell_type": "code",
   "execution_count": 80,
   "metadata": {},
   "outputs": [
    {
     "name": "stdout",
     "output_type": "stream",
     "text": [
      "Total investment for Model Portfolio: 5086028975\n",
      "Total PnL for Model Portfolio: 427819021\n",
      "Return for Model Portfolio: 8.41%\n"
     ]
    }
   ],
   "source": [
    "print(f'Total investment for Model Portfolio: {model_port.loan_amnt.sum():.0f}')\n",
    "print(f'Total PnL for Model Portfolio: {model_port.PnL.sum():.0f}')\n",
    "print(f'Return for Model Portfolio: {(model_port.PnL.sum()/model_port.loan_amnt.sum())*100:.2f}%')"
   ]
  },
  {
   "cell_type": "markdown",
   "metadata": {},
   "source": [
    "### Loop to check performance of different 'approval' thresholds"
   ]
  },
  {
   "cell_type": "code",
   "execution_count": 82,
   "metadata": {},
   "outputs": [
    {
     "name": "stdout",
     "output_type": "stream",
     "text": [
      "threshold:0.50\n",
      "loan approval rate: 0.59\n",
      "precision pred_1: 0.91\n",
      "recall pred_1: 0.62\n",
      "--------------------------------------------------\n",
      "threshold:0.53\n",
      "loan approval rate: 0.52\n",
      "precision pred_1: 0.91\n",
      "recall pred_1: 0.56\n",
      "--------------------------------------------------\n",
      "threshold:0.56\n",
      "loan approval rate: 0.46\n",
      "precision pred_1: 0.92\n",
      "recall pred_1: 0.50\n",
      "--------------------------------------------------\n",
      "threshold:0.58\n",
      "loan approval rate: 0.40\n",
      "precision pred_1: 0.93\n",
      "recall pred_1: 0.43\n",
      "--------------------------------------------------\n",
      "threshold:0.61\n",
      "loan approval rate: 0.34\n",
      "precision pred_1: 0.93\n",
      "recall pred_1: 0.38\n",
      "--------------------------------------------------\n",
      "threshold:0.64\n",
      "loan approval rate: 0.29\n",
      "precision pred_1: 0.94\n",
      "recall pred_1: 0.32\n",
      "--------------------------------------------------\n",
      "threshold:0.67\n",
      "loan approval rate: 0.24\n",
      "precision pred_1: 0.94\n",
      "recall pred_1: 0.27\n",
      "--------------------------------------------------\n",
      "threshold:0.69\n",
      "loan approval rate: 0.19\n",
      "precision pred_1: 0.95\n",
      "recall pred_1: 0.21\n",
      "--------------------------------------------------\n",
      "threshold:0.72\n",
      "loan approval rate: 0.15\n",
      "precision pred_1: 0.95\n",
      "recall pred_1: 0.17\n",
      "--------------------------------------------------\n",
      "threshold:0.75\n",
      "loan approval rate: 0.11\n",
      "precision pred_1: 0.96\n",
      "recall pred_1: 0.12\n",
      "--------------------------------------------------\n",
      "threshold:0.78\n",
      "loan approval rate: 0.07\n",
      "precision pred_1: 0.97\n",
      "recall pred_1: 0.08\n",
      "--------------------------------------------------\n",
      "threshold:0.81\n",
      "loan approval rate: 0.04\n",
      "precision pred_1: 0.97\n",
      "recall pred_1: 0.05\n",
      "--------------------------------------------------\n",
      "threshold:0.83\n",
      "loan approval rate: 0.02\n",
      "precision pred_1: 0.97\n",
      "recall pred_1: 0.03\n",
      "--------------------------------------------------\n",
      "threshold:0.86\n",
      "loan approval rate: 0.01\n",
      "precision pred_1: 0.97\n",
      "recall pred_1: 0.01\n",
      "--------------------------------------------------\n",
      "threshold:0.89\n",
      "loan approval rate: 0.00\n",
      "precision pred_1: 0.96\n",
      "recall pred_1: 0.00\n",
      "--------------------------------------------------\n",
      "threshold:0.92\n",
      "loan approval rate: 0.00\n",
      "precision pred_1: 0.93\n",
      "recall pred_1: 0.00\n",
      "--------------------------------------------------\n",
      "threshold:0.94\n",
      "loan approval rate: 0.00\n",
      "precision pred_1: 0.91\n",
      "recall pred_1: 0.00\n",
      "--------------------------------------------------\n",
      "threshold:0.97\n",
      "loan approval rate: 0.00\n",
      "precision pred_1: 0.88\n",
      "recall pred_1: 0.00\n",
      "--------------------------------------------------\n",
      "threshold:1.00\n",
      "loan approval rate: 0.00\n",
      "precision pred_1: nan\n",
      "recall pred_1: 0.00\n",
      "--------------------------------------------------\n"
     ]
    }
   ],
   "source": [
    "thresholds = np.linspace(0.5,1,19)\n",
    "\n",
    "for i in thresholds:\n",
    "    probs_positive_class = best_model.predict_proba(features)[:, 1]\n",
    "    prediction = probs_positive_class > i\n",
    "    cmat = confusion_matrix(target, prediction, labels=[0, 1])\n",
    "    print(f'threshold:{i:.2f}')\n",
    "    print(f'loan approval rate: {sum(cmat[:,1])/sum(sum(cmat)):.2f}')\n",
    "    print(f'precision pred_1: {cmat[1][1]/sum(cmat[:,1]):.2f}')\n",
    "    print(f'recall pred_1: {cmat[1][1]/sum(cmat[1,:]):.2f}')\n",
    "    print(\"-\"*50)"
   ]
  },
  {
   "cell_type": "markdown",
   "metadata": {},
   "source": [
    "## ROC Curve"
   ]
  },
  {
   "cell_type": "code",
   "execution_count": 84,
   "metadata": {},
   "outputs": [],
   "source": [
    "from sklearn.metrics import roc_curve"
   ]
  },
  {
   "cell_type": "code",
   "execution_count": 85,
   "metadata": {},
   "outputs": [],
   "source": [
    "# predict probabilities\n",
    "yhat = logr.predict_proba(features)"
   ]
  },
  {
   "cell_type": "code",
   "execution_count": 86,
   "metadata": {},
   "outputs": [],
   "source": [
    "# keep probabilities for the positive outcome only\n",
    "yhat = yhat[:, 1]"
   ]
  },
  {
   "cell_type": "code",
   "execution_count": 87,
   "metadata": {},
   "outputs": [],
   "source": [
    "# calculate roc curves\n",
    "fpr, tpr, thresholds = roc_curve(target, yhat)"
   ]
  },
  {
   "cell_type": "code",
   "execution_count": 88,
   "metadata": {},
   "outputs": [
    {
     "data": {
      "image/png": "[encoded data removed]",
      "text/plain": [
       "<Figure size 432x288 with 1 Axes>"
      ]
     },
     "metadata": {
      "needs_background": "light"
     },
     "output_type": "display_data"
    }
   ],
   "source": [
    "# plot the roc curve for the model\n",
    "plt.plot([0,1], [0,1], linestyle='--', label='No Skill')\n",
    "plt.plot(fpr, tpr, marker='.', label='Logistic')\n",
    "# axis labels\n",
    "plt.xlabel('False Positive Rate')\n",
    "plt.ylabel('True Positive Rate')\n",
    "plt.legend()\n",
    "# show the plot\n",
    "plt.show()"
   ]
  }
 ],
 "metadata": {
  "kernelspec": {
   "display_name": "Python 3",
   "language": "python",
   "name": "python3"
  },
  "language_info": {
   "codemirror_mode": {
    "name": "ipython",
    "version": 3
   },
   "file_extension": ".py",
   "mimetype": "text/x-python",
   "name": "python",
   "nbconvert_exporter": "python",
   "pygments_lexer": "ipython3",
   "version": "3.8.5"
  }
 },
 "nbformat": 4,
 "nbformat_minor": 4
}
