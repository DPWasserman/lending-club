{
 "cells": [
  {
   "cell_type": "markdown",
   "metadata": {},
   "source": [
    "## Import Base Python Libraries"
   ]
  },
  {
   "cell_type": "code",
   "execution_count": 1,
   "metadata": {},
   "outputs": [],
   "source": [
    "import pandas as pd\n",
    "import numpy as np"
   ]
  },
  {
   "cell_type": "markdown",
   "metadata": {},
   "source": [
    "## Import Lending Club package"
   ]
  },
  {
   "cell_type": "code",
   "execution_count": 2,
   "metadata": {},
   "outputs": [],
   "source": [
    "import sys\n",
    "sys.path.append('../lending_club')\n",
    "import config"
   ]
  },
  {
   "cell_type": "markdown",
   "metadata": {},
   "source": [
    "## Get Lending Club Approved Loan Data"
   ]
  },
  {
   "cell_type": "code",
   "execution_count": 3,
   "metadata": {},
   "outputs": [],
   "source": [
    "from data_prep import get_lending_club_data\n",
    "accepted_loans = get_lending_club_data(config.APPROVED_LOANS_CSV)"
   ]
  },
  {
   "cell_type": "markdown",
   "metadata": {},
   "source": [
    "## Count non-NA Values per Column"
   ]
  },
  {
   "cell_type": "code",
   "execution_count": null,
   "metadata": {},
   "outputs": [],
   "source": [
    "my_cols = ['sec_app_open_acc',\n",
    "'sec_app_open_act_il',\n",
    "'sec_app_revol_util',\n",
    "'settlement_amount',\n",
    "'settlement_date',\n",
    "'settlement_percentage',\n",
    "'settlement_status',\n",
    "'settlement_term',\n",
    "'sub_grade',\n",
    "'tax_liens',\n",
    "'term',\n",
    "'title',\n",
    "'tot_coll_amt',\n",
    "'tot_cur_bal',\n",
    "'tot_hi_cred_lim',\n",
    "'total_acc',\n",
    "'total_bal_ex_mort',\n",
    "'total_bal_il',\n",
    "'total_bc_limit',\n",
    "'total_cu_tl',\n",
    "'total_il_high_credit_limit',\n",
    "'total_pymnt',\n",
    "'total_pymnt_inv',\n",
    "'total_rec_int',\n",
    "'total_rec_late_fee',\n",
    "'total_rec_prncp',\n",
    "'total_rev_hi_lim',\n",
    "'url',\n",
    "'verification_status',\n",
    "'verification_status_joint',\n",
    "'zip_code',\n",
    "]"
   ]
  },
  {
   "cell_type": "code",
   "execution_count": null,
   "metadata": {},
   "outputs": [],
   "source": [
    "d = {}\n",
    "for col in my_cols:\n",
    "    d[col] = accepted_loans[col].count().compute()"
   ]
  },
  {
   "cell_type": "code",
   "execution_count": null,
   "metadata": {},
   "outputs": [],
   "source": [
    "d"
   ]
  },
  {
   "cell_type": "code",
   "execution_count": null,
   "metadata": {},
   "outputs": [],
   "source": []
  }
 ],
 "metadata": {
  "kernelspec": {
   "display_name": "Python 3",
   "language": "python",
   "name": "python3"
  },
  "language_info": {
   "codemirror_mode": {
    "name": "ipython",
    "version": 3
   },
   "file_extension": ".py",
   "mimetype": "text/x-python",
   "name": "python",
   "nbconvert_exporter": "python",
   "pygments_lexer": "ipython3",
   "version": "3.7.9"
  }
 },
 "nbformat": 4,
 "nbformat_minor": 4
}
