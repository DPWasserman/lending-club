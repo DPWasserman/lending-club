{
 "cells": [
  {
   "cell_type": "code",
   "execution_count": 1,
   "metadata": {},
   "outputs": [],
   "source": [
    "import pandas as pd\n",
    "import numpy as np"
   ]
  },
  {
   "cell_type": "code",
   "execution_count": 2,
   "metadata": {},
   "outputs": [],
   "source": [
    "import sys\n",
    "sys.path.append('../lending_club')\n",
    "import config\n",
    "from data_prep import get_lending_club_data, refine_features"
   ]
  },
  {
   "cell_type": "markdown",
   "metadata": {},
   "source": [
    "### Import file"
   ]
  },
  {
   "cell_type": "code",
   "execution_count": 3,
   "metadata": {},
   "outputs": [
    {
     "name": "stdout",
     "output_type": "stream",
     "text": [
      "CPU times: user 1.52 s, sys: 614 ms, total: 2.13 s\n",
      "Wall time: 900 ms\n"
     ]
    }
   ],
   "source": [
    "%%time\n",
    "approved = pd.read_parquet('approved.parquet')"
   ]
  },
  {
   "cell_type": "code",
   "execution_count": 4,
   "metadata": {},
   "outputs": [],
   "source": [
    "from model_prep import divide_by_term\n",
    "\n",
    "df_60= divide_by_term(approved, 60)\n",
    "df_36= divide_by_term(approved, 36)\n",
    "approved = pd.concat([df_60,df_36],axis=0)"
   ]
  },
  {
   "cell_type": "code",
   "execution_count": 5,
   "metadata": {},
   "outputs": [],
   "source": [
    "approved = approved.loc[approved['issue_d'].dt.year>2007,:]"
   ]
  },
  {
   "cell_type": "code",
   "execution_count": 6,
   "metadata": {},
   "outputs": [
    {
     "data": {
      "text/plain": [
       "addr_state                         object\n",
       "annual_inc                        float64\n",
       "application_type                   object\n",
       "disbursement_method                object\n",
       "dti                               float64\n",
       "earliest_cr_line           datetime64[ns]\n",
       "emp_length                          int64\n",
       "emp_title                          object\n",
       "fico_range_high                   float64\n",
       "fico_range_low                    float64\n",
       "grade                              object\n",
       "home_ownership                     object\n",
       "initial_list_status                object\n",
       "inq_last_6mths                    float64\n",
       "installment                       float64\n",
       "int_rate                          float64\n",
       "issue_d                    datetime64[ns]\n",
       "last_pymnt_d               datetime64[ns]\n",
       "loan_amnt                         float64\n",
       "loan_status                         int64\n",
       "open_acc                          float64\n",
       "pub_rec                           float64\n",
       "pub_rec_bankruptcies              float64\n",
       "purpose                            object\n",
       "sub_grade                           int64\n",
       "term                                int64\n",
       "total_pymnt                       float64\n",
       "verification_status                object\n",
       "zip_code                           object\n",
       "days_since_first_credit             int64\n",
       "fico_score_average                float64\n",
       "PnL                               float64\n",
       "dtype: object"
      ]
     },
     "execution_count": 6,
     "metadata": {},
     "output_type": "execute_result"
    }
   ],
   "source": [
    "approved.dtypes"
   ]
  },
  {
   "cell_type": "markdown",
   "metadata": {},
   "source": [
    "# EDA"
   ]
  },
  {
   "cell_type": "code",
   "execution_count": 7,
   "metadata": {},
   "outputs": [],
   "source": [
    "import seaborn as sns\n",
    "import matplotlib.pyplot as plt\n",
    "%matplotlib inline "
   ]
  },
  {
   "cell_type": "code",
   "execution_count": 8,
   "metadata": {},
   "outputs": [],
   "source": [
    "#add year of issue date column\n",
    "approved['years']= approved['issue_d'].dt.year"
   ]
  },
  {
   "cell_type": "markdown",
   "metadata": {},
   "source": [
    "## What is the default rate? What are the defaults per loan grade?"
   ]
  },
  {
   "cell_type": "code",
   "execution_count": 9,
   "metadata": {},
   "outputs": [
    {
     "data": {
      "text/plain": [
       "1    565404\n",
       "0     95492\n",
       "Name: loan_status, dtype: int64"
      ]
     },
     "execution_count": 9,
     "metadata": {},
     "output_type": "execute_result"
    }
   ],
   "source": [
    "approved['loan_status'].value_counts()"
   ]
  },
  {
   "cell_type": "code",
   "execution_count": 10,
   "metadata": {},
   "outputs": [
    {
     "data": {
      "text/plain": [
       "0.14448869413644505"
      ]
     },
     "execution_count": 10,
     "metadata": {},
     "output_type": "execute_result"
    }
   ],
   "source": [
    "1-(approved['loan_status'].mean())"
   ]
  },
  {
   "cell_type": "code",
   "execution_count": 11,
   "metadata": {},
   "outputs": [],
   "source": [
    "default = approved['loan_status'].value_counts()\n",
    "default\n",
    "my_labels = ['Fully Paid','Charged Off']\n",
    "my_colors = ['lightgreen','crimson']\n",
    "my_explode = (0, 0.1)"
   ]
  },
  {
   "cell_type": "code",
   "execution_count": 12,
   "metadata": {},
   "outputs": [
    {
     "data": {
      "text/plain": [
       "Text(0.5, 1.0, 'Default Rate')"
      ]
     },
     "execution_count": 12,
     "metadata": {},
     "output_type": "execute_result"
    },
    {
     "data": {
      "image/png": "[encoded data removed]",
      "text/plain": [
       "<Figure size 432x288 with 1 Axes>"
      ]
     },
     "metadata": {},
     "output_type": "display_data"
    }
   ],
   "source": [
    "plt.pie(default, labels=my_labels, colors=my_colors, explode=my_explode, shadow = True, autopct='%1.1f%%')\n",
    "plt.title('Default Rate')\n",
    "#save"
   ]
  },
  {
   "cell_type": "code",
   "execution_count": 110,
   "metadata": {},
   "outputs": [
    {
     "data": {
      "text/html": [
       "<div>\n",
       "<style scoped>\n",
       "    .dataframe tbody tr th:only-of-type {\n",
       "        vertical-align: middle;\n",
       "    }\n",
       "\n",
       "    .dataframe tbody tr th {\n",
       "        vertical-align: top;\n",
       "    }\n",
       "\n",
       "    .dataframe thead th {\n",
       "        text-align: right;\n",
       "    }\n",
       "</style>\n",
       "<table border=\"1\" class=\"dataframe\">\n",
       "  <thead>\n",
       "    <tr style=\"text-align: right;\">\n",
       "      <th></th>\n",
       "      <th>grade</th>\n",
       "      <th>loan_status</th>\n",
       "    </tr>\n",
       "  </thead>\n",
       "  <tbody>\n",
       "    <tr>\n",
       "      <th>0</th>\n",
       "      <td>A</td>\n",
       "      <td>5.500993</td>\n",
       "    </tr>\n",
       "    <tr>\n",
       "      <th>1</th>\n",
       "      <td>B</td>\n",
       "      <td>11.353537</td>\n",
       "    </tr>\n",
       "    <tr>\n",
       "      <th>2</th>\n",
       "      <td>C</td>\n",
       "      <td>18.289454</td>\n",
       "    </tr>\n",
       "    <tr>\n",
       "      <th>3</th>\n",
       "      <td>D</td>\n",
       "      <td>23.794905</td>\n",
       "    </tr>\n",
       "    <tr>\n",
       "      <th>4</th>\n",
       "      <td>E</td>\n",
       "      <td>29.408411</td>\n",
       "    </tr>\n",
       "  </tbody>\n",
       "</table>\n",
       "</div>"
      ],
      "text/plain": [
       "  grade  loan_status\n",
       "0     A     5.500993\n",
       "1     B    11.353537\n",
       "2     C    18.289454\n",
       "3     D    23.794905\n",
       "4     E    29.408411"
      ]
     },
     "execution_count": 110,
     "metadata": {},
     "output_type": "execute_result"
    }
   ],
   "source": [
    "default_rate = approved.groupby('grade').agg({'loan_status':'mean'})\n",
    "default_rate= (1-default_rate)*100\n",
    "default_rate=default_rate.reset_index()\n",
    "default_rate"
   ]
  },
  {
   "cell_type": "code",
   "execution_count": 111,
   "metadata": {},
   "outputs": [
    {
     "data": {
      "text/plain": [
       "Text(0.5, 1.0, 'Default Rate per Loan Grade')"
      ]
     },
     "execution_count": 111,
     "metadata": {},
     "output_type": "execute_result"
    },
    {
     "data": {
      "image/png": "[encoded data removed]",
      "text/plain": [
       "<Figure size 432x288 with 1 Axes>"
      ]
     },
     "metadata": {
      "needs_background": "light"
     },
     "output_type": "display_data"
    }
   ],
   "source": [
    "sns.barplot(y='loan_status',x='grade', data=default_rate, palette='coolwarm')\n",
    "plt.xlabel('Grade')\n",
    "plt.ylabel('Default Rate (%)')\n",
    "plt.title('Default Rate per Loan Grade')\n",
    "#save"
   ]
  },
  {
   "cell_type": "code",
   "execution_count": 113,
   "metadata": {
    "scrolled": true
   },
   "outputs": [
    {
     "data": {
      "text/html": [
       "<div>\n",
       "<style scoped>\n",
       "    .dataframe tbody tr th:only-of-type {\n",
       "        vertical-align: middle;\n",
       "    }\n",
       "\n",
       "    .dataframe tbody tr th {\n",
       "        vertical-align: top;\n",
       "    }\n",
       "\n",
       "    .dataframe thead th {\n",
       "        text-align: right;\n",
       "    }\n",
       "</style>\n",
       "<table border=\"1\" class=\"dataframe\">\n",
       "  <thead>\n",
       "    <tr style=\"text-align: right;\">\n",
       "      <th></th>\n",
       "      <th>grade</th>\n",
       "      <th>term</th>\n",
       "      <th>loan_status</th>\n",
       "    </tr>\n",
       "  </thead>\n",
       "  <tbody>\n",
       "    <tr>\n",
       "      <th>0</th>\n",
       "      <td>A</td>\n",
       "      <td>36</td>\n",
       "      <td>0.054767</td>\n",
       "    </tr>\n",
       "    <tr>\n",
       "      <th>1</th>\n",
       "      <td>A</td>\n",
       "      <td>60</td>\n",
       "      <td>0.083817</td>\n",
       "    </tr>\n",
       "    <tr>\n",
       "      <th>2</th>\n",
       "      <td>B</td>\n",
       "      <td>36</td>\n",
       "      <td>0.111894</td>\n",
       "    </tr>\n",
       "    <tr>\n",
       "      <th>3</th>\n",
       "      <td>B</td>\n",
       "      <td>60</td>\n",
       "      <td>0.155824</td>\n",
       "    </tr>\n",
       "    <tr>\n",
       "      <th>4</th>\n",
       "      <td>C</td>\n",
       "      <td>36</td>\n",
       "      <td>0.179117</td>\n",
       "    </tr>\n",
       "    <tr>\n",
       "      <th>5</th>\n",
       "      <td>C</td>\n",
       "      <td>60</td>\n",
       "      <td>0.217252</td>\n",
       "    </tr>\n",
       "    <tr>\n",
       "      <th>6</th>\n",
       "      <td>D</td>\n",
       "      <td>36</td>\n",
       "      <td>0.233172</td>\n",
       "    </tr>\n",
       "    <tr>\n",
       "      <th>7</th>\n",
       "      <td>D</td>\n",
       "      <td>60</td>\n",
       "      <td>0.272859</td>\n",
       "    </tr>\n",
       "    <tr>\n",
       "      <th>8</th>\n",
       "      <td>E</td>\n",
       "      <td>36</td>\n",
       "      <td>0.285661</td>\n",
       "    </tr>\n",
       "    <tr>\n",
       "      <th>9</th>\n",
       "      <td>E</td>\n",
       "      <td>60</td>\n",
       "      <td>0.311716</td>\n",
       "    </tr>\n",
       "  </tbody>\n",
       "</table>\n",
       "</div>"
      ],
      "text/plain": [
       "  grade  term  loan_status\n",
       "0     A    36     0.054767\n",
       "1     A    60     0.083817\n",
       "2     B    36     0.111894\n",
       "3     B    60     0.155824\n",
       "4     C    36     0.179117\n",
       "5     C    60     0.217252\n",
       "6     D    36     0.233172\n",
       "7     D    60     0.272859\n",
       "8     E    36     0.285661\n",
       "9     E    60     0.311716"
      ]
     },
     "execution_count": 113,
     "metadata": {},
     "output_type": "execute_result"
    }
   ],
   "source": [
    "default_rate = approved.groupby(['grade','term']).agg({'loan_status':'mean'})\n",
    "default_rate= (1-default_rate)\n",
    "default_rate = default_rate.reset_index()\n",
    "default_rate"
   ]
  },
  {
   "cell_type": "code",
   "execution_count": 114,
   "metadata": {},
   "outputs": [
    {
     "data": {
      "text/plain": [
       "Text(0.5, 1.0, 'Default Rate per Loan Grade')"
      ]
     },
     "execution_count": 114,
     "metadata": {},
     "output_type": "execute_result"
    },
    {
     "data": {
      "image/png": "[encoded data removed]",
      "text/plain": [
       "<Figure size 432x288 with 1 Axes>"
      ]
     },
     "metadata": {
      "needs_background": "light"
     },
     "output_type": "display_data"
    }
   ],
   "source": [
    "sns.barplot(y='loan_status',x='grade',hue='term', data=default_rate, palette='coolwarm')\n",
    "plt.xlabel('Grade')\n",
    "plt.ylabel('Default Rate')\n",
    "plt.title('Default Rate per Loan Grade')"
   ]
  },
  {
   "cell_type": "code",
   "execution_count": 17,
   "metadata": {},
   "outputs": [],
   "source": [
    "approved['last_pymnt_d'].fillna(approved['issue_d'], inplace=True)"
   ]
  },
  {
   "cell_type": "code",
   "execution_count": 18,
   "metadata": {},
   "outputs": [],
   "source": [
    "approved['default_year']=approved['last_pymnt_d'].dt.year"
   ]
  },
  {
   "cell_type": "code",
   "execution_count": 19,
   "metadata": {
    "scrolled": true
   },
   "outputs": [],
   "source": [
    "default_rate_year = approved.groupby(['years','term']).mean()['loan_status']\n",
    "default_rate_year = (1-default_rate_year)*100\n",
    "default_rate_year = default_rate_year.reset_index()"
   ]
  },
  {
   "cell_type": "code",
   "execution_count": 20,
   "metadata": {
    "scrolled": true
   },
   "outputs": [
    {
     "data": {
      "text/plain": [
       "Text(0.5, 1.0, 'Default Rate Over Time')"
      ]
     },
     "execution_count": 20,
     "metadata": {},
     "output_type": "execute_result"
    },
    {
     "data": {
      "image/png": "[encoded data removed]",
      "text/plain": [
       "<Figure size 432x288 with 1 Axes>"
      ]
     },
     "metadata": {
      "needs_background": "light"
     },
     "output_type": "display_data"
    }
   ],
   "source": [
    "sns.lineplot(y='loan_status',x='years',data=default_rate_year)\n",
    "plt.xlabel('Year of Issue')\n",
    "plt.ylabel('Default Rate')\n",
    "plt.title('Default Rate Over Time')"
   ]
  },
  {
   "cell_type": "code",
   "execution_count": 21,
   "metadata": {},
   "outputs": [
    {
     "data": {
      "text/plain": [
       "<matplotlib.legend.Legend at 0x7ff6bb4ad1c0>"
      ]
     },
     "execution_count": 21,
     "metadata": {},
     "output_type": "execute_result"
    },
    {
     "data": {
      "image/png": "[encoded data removed]",
      "text/plain": [
       "<Figure size 432x288 with 1 Axes>"
      ]
     },
     "metadata": {
      "needs_background": "light"
     },
     "output_type": "display_data"
    }
   ],
   "source": [
    "sns.barplot(y='loan_status',x='years',hue='term',data=default_rate_year)\n",
    "plt.xlabel('Year')\n",
    "plt.ylabel('Default Rate (%)')\n",
    "plt.title('Default Rate Over Time by Term')\n",
    "plt.legend(loc=1)\n",
    "#save"
   ]
  },
  {
   "cell_type": "code",
   "execution_count": 22,
   "metadata": {},
   "outputs": [
    {
     "data": {
      "text/html": [
       "<div>\n",
       "<style scoped>\n",
       "    .dataframe tbody tr th:only-of-type {\n",
       "        vertical-align: middle;\n",
       "    }\n",
       "\n",
       "    .dataframe tbody tr th {\n",
       "        vertical-align: top;\n",
       "    }\n",
       "\n",
       "    .dataframe thead th {\n",
       "        text-align: right;\n",
       "    }\n",
       "</style>\n",
       "<table border=\"1\" class=\"dataframe\">\n",
       "  <thead>\n",
       "    <tr style=\"text-align: right;\">\n",
       "      <th>term</th>\n",
       "      <th>36</th>\n",
       "      <th>60</th>\n",
       "    </tr>\n",
       "    <tr>\n",
       "      <th>years</th>\n",
       "      <th></th>\n",
       "      <th></th>\n",
       "    </tr>\n",
       "  </thead>\n",
       "  <tbody>\n",
       "    <tr>\n",
       "      <th>2008</th>\n",
       "      <td>1097.0</td>\n",
       "      <td>NaN</td>\n",
       "    </tr>\n",
       "    <tr>\n",
       "      <th>2009</th>\n",
       "      <td>4626.0</td>\n",
       "      <td>NaN</td>\n",
       "    </tr>\n",
       "    <tr>\n",
       "      <th>2010</th>\n",
       "      <td>8382.0</td>\n",
       "      <td>2826.0</td>\n",
       "    </tr>\n",
       "    <tr>\n",
       "      <th>2011</th>\n",
       "      <td>14037.0</td>\n",
       "      <td>6759.0</td>\n",
       "    </tr>\n",
       "    <tr>\n",
       "      <th>2012</th>\n",
       "      <td>43343.0</td>\n",
       "      <td>8448.0</td>\n",
       "    </tr>\n",
       "    <tr>\n",
       "      <th>2013</th>\n",
       "      <td>99799.0</td>\n",
       "      <td>29750.0</td>\n",
       "    </tr>\n",
       "    <tr>\n",
       "      <th>2014</th>\n",
       "      <td>160411.0</td>\n",
       "      <td>NaN</td>\n",
       "    </tr>\n",
       "    <tr>\n",
       "      <th>2015</th>\n",
       "      <td>281418.0</td>\n",
       "      <td>NaN</td>\n",
       "    </tr>\n",
       "  </tbody>\n",
       "</table>\n",
       "</div>"
      ],
      "text/plain": [
       "term         36       60\n",
       "years                   \n",
       "2008     1097.0      NaN\n",
       "2009     4626.0      NaN\n",
       "2010     8382.0   2826.0\n",
       "2011    14037.0   6759.0\n",
       "2012    43343.0   8448.0\n",
       "2013    99799.0  29750.0\n",
       "2014   160411.0      NaN\n",
       "2015   281418.0      NaN"
      ]
     },
     "execution_count": 22,
     "metadata": {},
     "output_type": "execute_result"
    }
   ],
   "source": [
    "df_plot = approved.groupby(['years', 'term']).size().reset_index().pivot(columns='term', index='years', values=0)\n",
    "df_plot"
   ]
  },
  {
   "cell_type": "code",
   "execution_count": 171,
   "metadata": {},
   "outputs": [
    {
     "data": {
      "text/plain": [
       "Text(0, 0.5, 'Count')"
      ]
     },
     "execution_count": 171,
     "metadata": {},
     "output_type": "execute_result"
    },
    {
     "data": {
      "image/png": "[encoded data removed]",
      "text/plain": [
       "<Figure size 432x288 with 1 Axes>"
      ]
     },
     "metadata": {
      "needs_background": "light"
     },
     "output_type": "display_data"
    }
   ],
   "source": [
    "df_plot.plot(kind='bar', stacked=True,color=('cadetblue','burlywood'))\n",
    "plt.title('Loan Count Over Time')\n",
    "plt.xlabel('Year')\n",
    "plt.ylabel('Count')"
   ]
  },
  {
   "cell_type": "code",
   "execution_count": 24,
   "metadata": {},
   "outputs": [
    {
     "data": {
      "text/plain": [
       "Text(0.5, 1.0, 'Charged Off vs Fully Paid Over Time')"
      ]
     },
     "execution_count": 24,
     "metadata": {},
     "output_type": "execute_result"
    },
    {
     "data": {
      "image/png": "[encoded data removed]",
      "text/plain": [
       "<Figure size 432x288 with 1 Axes>"
      ]
     },
     "metadata": {
      "needs_background": "light"
     },
     "output_type": "display_data"
    }
   ],
   "source": [
    "sns.countplot(x='years', hue='term', data=approved, palette='hls')\n",
    "plt.legend(['Charged Off', 'Fully Paid'])\n",
    "plt.title('Charged Off vs Fully Paid Over Time')"
   ]
  },
  {
   "cell_type": "markdown",
   "metadata": {},
   "source": [
    "## Segmentation by FICO scores of the borrowers\n"
   ]
  },
  {
   "cell_type": "code",
   "execution_count": 25,
   "metadata": {},
   "outputs": [
    {
     "data": {
      "text/plain": [
       "Text(0.5, 1.0, 'FICO Score vs Grade')"
      ]
     },
     "execution_count": 25,
     "metadata": {},
     "output_type": "execute_result"
    },
    {
     "data": {
      "image/png": "[encoded data removed]",
      "text/plain": [
       "<Figure size 432x288 with 1 Axes>"
      ]
     },
     "metadata": {
      "needs_background": "light"
     },
     "output_type": "display_data"
    }
   ],
   "source": [
    "my_order = ['A','B','C','D','E']\n",
    "sns.boxplot(x='grade', y='fico_score_average', data=approved, palette='hls',order=my_order)\n",
    "plt.title('FICO Score vs Grade')"
   ]
  },
  {
   "cell_type": "code",
   "execution_count": 26,
   "metadata": {},
   "outputs": [
    {
     "data": {
      "text/plain": [
       "Text(0.5, 1.0, 'Interest Rate vs FICO Score')"
      ]
     },
     "execution_count": 26,
     "metadata": {},
     "output_type": "execute_result"
    },
    {
     "data": {
      "image/png": "[encoded data removed]",
      "text/plain": [
       "<Figure size 432x288 with 1 Axes>"
      ]
     },
     "metadata": {
      "needs_background": "light"
     },
     "output_type": "display_data"
    }
   ],
   "source": [
    "sns.lineplot(y='int_rate',x='fico_score_average', data=approved, palette='hls')\n",
    "plt.title('Interest Rate vs FICO Score')"
   ]
  },
  {
   "cell_type": "code",
   "execution_count": 27,
   "metadata": {
    "scrolled": true
   },
   "outputs": [
    {
     "data": {
      "text/plain": [
       "Text(0, 0.5, 'FICO Score')"
      ]
     },
     "execution_count": 27,
     "metadata": {},
     "output_type": "execute_result"
    },
    {
     "data": {
      "image/png": "[encoded data removed]",
      "text/plain": [
       "<Figure size 432x288 with 1 Axes>"
      ]
     },
     "metadata": {
      "needs_background": "light"
     },
     "output_type": "display_data"
    }
   ],
   "source": [
    "plot = sns.lineplot(y='fico_score_average',x= 'years', hue='grade', data=approved, palette='hls')\n",
    "\n",
    "handles, labels = plot.get_legend_handles_labels()\n",
    "handles = [handles[4], handles[0], handles[3], handles[1], handles[2]]\n",
    "labels = [labels[4], labels[0], labels[3], labels[1], labels[2] ]\n",
    "plt.legend(handles,labels, title='Grade', loc=1)\n",
    "plt.title(\"Average FICO Score Over Time\")\n",
    "plt.xlabel('Year')\n",
    "plt.ylabel('FICO Score')"
   ]
  },
  {
   "cell_type": "code",
   "execution_count": 28,
   "metadata": {
    "scrolled": true
   },
   "outputs": [],
   "source": [
    "default_fico = approved.groupby('fico_score_average').mean()['loan_status']\n",
    "default_fico = (1-default_fico)*100"
   ]
  },
  {
   "cell_type": "code",
   "execution_count": 119,
   "metadata": {},
   "outputs": [
    {
     "data": {
      "text/plain": [
       "<matplotlib.lines.Line2D at 0x7ff69f5cbcd0>"
      ]
     },
     "execution_count": 119,
     "metadata": {},
     "output_type": "execute_result"
    },
    {
     "data": {
      "image/png": "[encoded data removed]",
      "text/plain": [
       "<Figure size 432x288 with 1 Axes>"
      ]
     },
     "metadata": {
      "needs_background": "light"
     },
     "output_type": "display_data"
    }
   ],
   "source": [
    "sns.lineplot(y=default_fico.values,x=default_fico.index, color='cornflowerblue')\n",
    "plt.xlabel('FICO Score')\n",
    "plt.ylabel('Default Rate (%)')\n",
    "plt.title('Default Rate vs FICO Score')\n",
    "plt.axhline(14.4, linestyle='--', color='crimson')"
   ]
  },
  {
   "cell_type": "code",
   "execution_count": 30,
   "metadata": {},
   "outputs": [
    {
     "data": {
      "text/html": [
       "<div>\n",
       "<style scoped>\n",
       "    .dataframe tbody tr th:only-of-type {\n",
       "        vertical-align: middle;\n",
       "    }\n",
       "\n",
       "    .dataframe tbody tr th {\n",
       "        vertical-align: top;\n",
       "    }\n",
       "\n",
       "    .dataframe thead th {\n",
       "        text-align: right;\n",
       "    }\n",
       "</style>\n",
       "<table border=\"1\" class=\"dataframe\">\n",
       "  <thead>\n",
       "    <tr style=\"text-align: right;\">\n",
       "      <th></th>\n",
       "      <th>addr_state</th>\n",
       "      <th>annual_inc</th>\n",
       "      <th>application_type</th>\n",
       "      <th>disbursement_method</th>\n",
       "      <th>dti</th>\n",
       "      <th>earliest_cr_line</th>\n",
       "      <th>emp_length</th>\n",
       "      <th>emp_title</th>\n",
       "      <th>fico_range_high</th>\n",
       "      <th>fico_range_low</th>\n",
       "      <th>grade</th>\n",
       "      <th>home_ownership</th>\n",
       "      <th>initial_list_status</th>\n",
       "      <th>inq_last_6mths</th>\n",
       "      <th>installment</th>\n",
       "      <th>int_rate</th>\n",
       "      <th>issue_d</th>\n",
       "      <th>last_pymnt_d</th>\n",
       "      <th>loan_amnt</th>\n",
       "      <th>loan_status</th>\n",
       "      <th>open_acc</th>\n",
       "      <th>pub_rec</th>\n",
       "      <th>pub_rec_bankruptcies</th>\n",
       "      <th>purpose</th>\n",
       "      <th>sub_grade</th>\n",
       "      <th>term</th>\n",
       "      <th>total_pymnt</th>\n",
       "      <th>verification_status</th>\n",
       "      <th>zip_code</th>\n",
       "      <th>days_since_first_credit</th>\n",
       "      <th>fico_score_average</th>\n",
       "      <th>PnL</th>\n",
       "      <th>years</th>\n",
       "      <th>default_year</th>\n",
       "    </tr>\n",
       "    <tr>\n",
       "      <th>id</th>\n",
       "      <th></th>\n",
       "      <th></th>\n",
       "      <th></th>\n",
       "      <th></th>\n",
       "      <th></th>\n",
       "      <th></th>\n",
       "      <th></th>\n",
       "      <th></th>\n",
       "      <th></th>\n",
       "      <th></th>\n",
       "      <th></th>\n",
       "      <th></th>\n",
       "      <th></th>\n",
       "      <th></th>\n",
       "      <th></th>\n",
       "      <th></th>\n",
       "      <th></th>\n",
       "      <th></th>\n",
       "      <th></th>\n",
       "      <th></th>\n",
       "      <th></th>\n",
       "      <th></th>\n",
       "      <th></th>\n",
       "      <th></th>\n",
       "      <th></th>\n",
       "      <th></th>\n",
       "      <th></th>\n",
       "      <th></th>\n",
       "      <th></th>\n",
       "      <th></th>\n",
       "      <th></th>\n",
       "      <th></th>\n",
       "      <th></th>\n",
       "      <th></th>\n",
       "    </tr>\n",
       "  </thead>\n",
       "  <tbody>\n",
       "    <tr>\n",
       "      <th>7266455</th>\n",
       "      <td>FL</td>\n",
       "      <td>34000.0</td>\n",
       "      <td>Individual</td>\n",
       "      <td>Cash</td>\n",
       "      <td>10.76</td>\n",
       "      <td>1985-07-01</td>\n",
       "      <td>10</td>\n",
       "      <td>Bell Shoals Baptist Church</td>\n",
       "      <td>850.0</td>\n",
       "      <td>845.0</td>\n",
       "      <td>C</td>\n",
       "      <td>OWN</td>\n",
       "      <td>f</td>\n",
       "      <td>0.0</td>\n",
       "      <td>270.02</td>\n",
       "      <td>15.10</td>\n",
       "      <td>2013-09-01</td>\n",
       "      <td>2014-09-01</td>\n",
       "      <td>11325.0</td>\n",
       "      <td>0</td>\n",
       "      <td>11.0</td>\n",
       "      <td>0.0</td>\n",
       "      <td>0.0</td>\n",
       "      <td>other</td>\n",
       "      <td>12</td>\n",
       "      <td>60</td>\n",
       "      <td>5574.95</td>\n",
       "      <td>Source Verified</td>\n",
       "      <td>335xx</td>\n",
       "      <td>10289</td>\n",
       "      <td>847.5</td>\n",
       "      <td>-5750.05</td>\n",
       "      <td>2013</td>\n",
       "      <td>2014</td>\n",
       "    </tr>\n",
       "    <tr>\n",
       "      <th>3625381</th>\n",
       "      <td>TX</td>\n",
       "      <td>48000.0</td>\n",
       "      <td>Individual</td>\n",
       "      <td>Cash</td>\n",
       "      <td>30.56</td>\n",
       "      <td>1992-06-01</td>\n",
       "      <td>10</td>\n",
       "      <td>Health Fitness Corporation</td>\n",
       "      <td>844.0</td>\n",
       "      <td>840.0</td>\n",
       "      <td>A</td>\n",
       "      <td>MORTGAGE</td>\n",
       "      <td>w</td>\n",
       "      <td>0.0</td>\n",
       "      <td>152.18</td>\n",
       "      <td>6.03</td>\n",
       "      <td>2013-03-01</td>\n",
       "      <td>2015-04-01</td>\n",
       "      <td>5000.0</td>\n",
       "      <td>0</td>\n",
       "      <td>13.0</td>\n",
       "      <td>0.0</td>\n",
       "      <td>0.0</td>\n",
       "      <td>credit_card</td>\n",
       "      <td>1</td>\n",
       "      <td>36</td>\n",
       "      <td>3998.07</td>\n",
       "      <td>Verified</td>\n",
       "      <td>752xx</td>\n",
       "      <td>7578</td>\n",
       "      <td>842.0</td>\n",
       "      <td>-1001.93</td>\n",
       "      <td>2013</td>\n",
       "      <td>2015</td>\n",
       "    </tr>\n",
       "    <tr>\n",
       "      <th>10130799</th>\n",
       "      <td>NJ</td>\n",
       "      <td>59000.0</td>\n",
       "      <td>Individual</td>\n",
       "      <td>Cash</td>\n",
       "      <td>3.30</td>\n",
       "      <td>1989-10-01</td>\n",
       "      <td>8</td>\n",
       "      <td>Federal Police Sergeant</td>\n",
       "      <td>850.0</td>\n",
       "      <td>845.0</td>\n",
       "      <td>A</td>\n",
       "      <td>MORTGAGE</td>\n",
       "      <td>w</td>\n",
       "      <td>0.0</td>\n",
       "      <td>317.54</td>\n",
       "      <td>8.90</td>\n",
       "      <td>2014-01-01</td>\n",
       "      <td>2014-07-01</td>\n",
       "      <td>10000.0</td>\n",
       "      <td>0</td>\n",
       "      <td>8.0</td>\n",
       "      <td>0.0</td>\n",
       "      <td>0.0</td>\n",
       "      <td>home_improvement</td>\n",
       "      <td>5</td>\n",
       "      <td>36</td>\n",
       "      <td>7374.84</td>\n",
       "      <td>Source Verified</td>\n",
       "      <td>083xx</td>\n",
       "      <td>8858</td>\n",
       "      <td>847.5</td>\n",
       "      <td>-2625.16</td>\n",
       "      <td>2014</td>\n",
       "      <td>2014</td>\n",
       "    </tr>\n",
       "    <tr>\n",
       "      <th>12316506</th>\n",
       "      <td>NC</td>\n",
       "      <td>50000.0</td>\n",
       "      <td>Individual</td>\n",
       "      <td>Cash</td>\n",
       "      <td>9.53</td>\n",
       "      <td>1988-10-01</td>\n",
       "      <td>7</td>\n",
       "      <td>Security Installer</td>\n",
       "      <td>844.0</td>\n",
       "      <td>840.0</td>\n",
       "      <td>C</td>\n",
       "      <td>MORTGAGE</td>\n",
       "      <td>w</td>\n",
       "      <td>0.0</td>\n",
       "      <td>850.20</td>\n",
       "      <td>13.65</td>\n",
       "      <td>2014-02-01</td>\n",
       "      <td>2015-12-01</td>\n",
       "      <td>25000.0</td>\n",
       "      <td>0</td>\n",
       "      <td>6.0</td>\n",
       "      <td>0.0</td>\n",
       "      <td>0.0</td>\n",
       "      <td>home_improvement</td>\n",
       "      <td>11</td>\n",
       "      <td>36</td>\n",
       "      <td>19636.05</td>\n",
       "      <td>Verified</td>\n",
       "      <td>284xx</td>\n",
       "      <td>9254</td>\n",
       "      <td>842.0</td>\n",
       "      <td>-5363.95</td>\n",
       "      <td>2014</td>\n",
       "      <td>2015</td>\n",
       "    </tr>\n",
       "    <tr>\n",
       "      <th>26200698</th>\n",
       "      <td>IL</td>\n",
       "      <td>216000.0</td>\n",
       "      <td>Individual</td>\n",
       "      <td>Cash</td>\n",
       "      <td>4.43</td>\n",
       "      <td>1997-02-01</td>\n",
       "      <td>4</td>\n",
       "      <td>President</td>\n",
       "      <td>844.0</td>\n",
       "      <td>840.0</td>\n",
       "      <td>D</td>\n",
       "      <td>RENT</td>\n",
       "      <td>w</td>\n",
       "      <td>0.0</td>\n",
       "      <td>1235.52</td>\n",
       "      <td>16.29</td>\n",
       "      <td>2014-09-01</td>\n",
       "      <td>2017-07-01</td>\n",
       "      <td>35000.0</td>\n",
       "      <td>0</td>\n",
       "      <td>8.0</td>\n",
       "      <td>0.0</td>\n",
       "      <td>0.0</td>\n",
       "      <td>house</td>\n",
       "      <td>17</td>\n",
       "      <td>36</td>\n",
       "      <td>42007.68</td>\n",
       "      <td>Source Verified</td>\n",
       "      <td>600xx</td>\n",
       "      <td>6421</td>\n",
       "      <td>842.0</td>\n",
       "      <td>7007.68</td>\n",
       "      <td>2014</td>\n",
       "      <td>2017</td>\n",
       "    </tr>\n",
       "    <tr>\n",
       "      <th>48545903</th>\n",
       "      <td>NC</td>\n",
       "      <td>75000.0</td>\n",
       "      <td>Individual</td>\n",
       "      <td>Cash</td>\n",
       "      <td>12.56</td>\n",
       "      <td>1986-07-01</td>\n",
       "      <td>-1</td>\n",
       "      <td>None</td>\n",
       "      <td>850.0</td>\n",
       "      <td>845.0</td>\n",
       "      <td>B</td>\n",
       "      <td>OWN</td>\n",
       "      <td>w</td>\n",
       "      <td>0.0</td>\n",
       "      <td>628.39</td>\n",
       "      <td>8.18</td>\n",
       "      <td>2015-05-01</td>\n",
       "      <td>2015-05-01</td>\n",
       "      <td>20000.0</td>\n",
       "      <td>0</td>\n",
       "      <td>17.0</td>\n",
       "      <td>0.0</td>\n",
       "      <td>0.0</td>\n",
       "      <td>small_business</td>\n",
       "      <td>6</td>\n",
       "      <td>36</td>\n",
       "      <td>0.00</td>\n",
       "      <td>Source Verified</td>\n",
       "      <td>275xx</td>\n",
       "      <td>10531</td>\n",
       "      <td>847.5</td>\n",
       "      <td>-20000.00</td>\n",
       "      <td>2015</td>\n",
       "      <td>2015</td>\n",
       "    </tr>\n",
       "    <tr>\n",
       "      <th>65374531</th>\n",
       "      <td>CA</td>\n",
       "      <td>14400.0</td>\n",
       "      <td>Individual</td>\n",
       "      <td>Cash</td>\n",
       "      <td>2.08</td>\n",
       "      <td>1986-04-01</td>\n",
       "      <td>10</td>\n",
       "      <td>cook</td>\n",
       "      <td>844.0</td>\n",
       "      <td>840.0</td>\n",
       "      <td>E</td>\n",
       "      <td>MORTGAGE</td>\n",
       "      <td>w</td>\n",
       "      <td>1.0</td>\n",
       "      <td>176.74</td>\n",
       "      <td>18.20</td>\n",
       "      <td>2015-11-01</td>\n",
       "      <td>2017-10-01</td>\n",
       "      <td>4875.0</td>\n",
       "      <td>0</td>\n",
       "      <td>7.0</td>\n",
       "      <td>0.0</td>\n",
       "      <td>0.0</td>\n",
       "      <td>other</td>\n",
       "      <td>21</td>\n",
       "      <td>36</td>\n",
       "      <td>4884.50</td>\n",
       "      <td>Source Verified</td>\n",
       "      <td>953xx</td>\n",
       "      <td>10806</td>\n",
       "      <td>842.0</td>\n",
       "      <td>9.50</td>\n",
       "      <td>2015</td>\n",
       "      <td>2017</td>\n",
       "    </tr>\n",
       "    <tr>\n",
       "      <th>66633602</th>\n",
       "      <td>NY</td>\n",
       "      <td>40000.0</td>\n",
       "      <td>Individual</td>\n",
       "      <td>Cash</td>\n",
       "      <td>0.75</td>\n",
       "      <td>1993-03-01</td>\n",
       "      <td>-1</td>\n",
       "      <td>None</td>\n",
       "      <td>850.0</td>\n",
       "      <td>845.0</td>\n",
       "      <td>C</td>\n",
       "      <td>MORTGAGE</td>\n",
       "      <td>f</td>\n",
       "      <td>0.0</td>\n",
       "      <td>190.02</td>\n",
       "      <td>13.18</td>\n",
       "      <td>2015-12-01</td>\n",
       "      <td>2016-06-01</td>\n",
       "      <td>5625.0</td>\n",
       "      <td>0</td>\n",
       "      <td>6.0</td>\n",
       "      <td>0.0</td>\n",
       "      <td>0.0</td>\n",
       "      <td>moving</td>\n",
       "      <td>13</td>\n",
       "      <td>36</td>\n",
       "      <td>1136.00</td>\n",
       "      <td>Verified</td>\n",
       "      <td>107xx</td>\n",
       "      <td>8310</td>\n",
       "      <td>847.5</td>\n",
       "      <td>-4489.00</td>\n",
       "      <td>2015</td>\n",
       "      <td>2016</td>\n",
       "    </tr>\n",
       "    <tr>\n",
       "      <th>67839977</th>\n",
       "      <td>NY</td>\n",
       "      <td>50000.0</td>\n",
       "      <td>Individual</td>\n",
       "      <td>Cash</td>\n",
       "      <td>0.84</td>\n",
       "      <td>1995-09-01</td>\n",
       "      <td>10</td>\n",
       "      <td>IT</td>\n",
       "      <td>844.0</td>\n",
       "      <td>840.0</td>\n",
       "      <td>C</td>\n",
       "      <td>MORTGAGE</td>\n",
       "      <td>w</td>\n",
       "      <td>0.0</td>\n",
       "      <td>736.93</td>\n",
       "      <td>12.59</td>\n",
       "      <td>2015-12-01</td>\n",
       "      <td>2016-07-01</td>\n",
       "      <td>22000.0</td>\n",
       "      <td>0</td>\n",
       "      <td>5.0</td>\n",
       "      <td>0.0</td>\n",
       "      <td>0.0</td>\n",
       "      <td>medical</td>\n",
       "      <td>12</td>\n",
       "      <td>36</td>\n",
       "      <td>6334.28</td>\n",
       "      <td>Not Verified</td>\n",
       "      <td>125xx</td>\n",
       "      <td>7396</td>\n",
       "      <td>842.0</td>\n",
       "      <td>-15665.72</td>\n",
       "      <td>2015</td>\n",
       "      <td>2016</td>\n",
       "    </tr>\n",
       "  </tbody>\n",
       "</table>\n",
       "</div>"
      ],
      "text/plain": [
       "         addr_state  annual_inc application_type disbursement_method    dti  \\\n",
       "id                                                                            \n",
       "7266455          FL     34000.0       Individual                Cash  10.76   \n",
       "3625381          TX     48000.0       Individual                Cash  30.56   \n",
       "10130799         NJ     59000.0       Individual                Cash   3.30   \n",
       "12316506         NC     50000.0       Individual                Cash   9.53   \n",
       "26200698         IL    216000.0       Individual                Cash   4.43   \n",
       "48545903         NC     75000.0       Individual                Cash  12.56   \n",
       "65374531         CA     14400.0       Individual                Cash   2.08   \n",
       "66633602         NY     40000.0       Individual                Cash   0.75   \n",
       "67839977         NY     50000.0       Individual                Cash   0.84   \n",
       "\n",
       "         earliest_cr_line  emp_length                   emp_title  \\\n",
       "id                                                                  \n",
       "7266455        1985-07-01          10  Bell Shoals Baptist Church   \n",
       "3625381        1992-06-01          10  Health Fitness Corporation   \n",
       "10130799       1989-10-01           8     Federal Police Sergeant   \n",
       "12316506       1988-10-01           7          Security Installer   \n",
       "26200698       1997-02-01           4                   President   \n",
       "48545903       1986-07-01          -1                        None   \n",
       "65374531       1986-04-01          10                        cook   \n",
       "66633602       1993-03-01          -1                        None   \n",
       "67839977       1995-09-01          10                          IT   \n",
       "\n",
       "          fico_range_high  fico_range_low grade home_ownership  \\\n",
       "id                                                               \n",
       "7266455             850.0           845.0     C            OWN   \n",
       "3625381             844.0           840.0     A       MORTGAGE   \n",
       "10130799            850.0           845.0     A       MORTGAGE   \n",
       "12316506            844.0           840.0     C       MORTGAGE   \n",
       "26200698            844.0           840.0     D           RENT   \n",
       "48545903            850.0           845.0     B            OWN   \n",
       "65374531            844.0           840.0     E       MORTGAGE   \n",
       "66633602            850.0           845.0     C       MORTGAGE   \n",
       "67839977            844.0           840.0     C       MORTGAGE   \n",
       "\n",
       "         initial_list_status  inq_last_6mths  installment  int_rate  \\\n",
       "id                                                                    \n",
       "7266455                    f             0.0       270.02     15.10   \n",
       "3625381                    w             0.0       152.18      6.03   \n",
       "10130799                   w             0.0       317.54      8.90   \n",
       "12316506                   w             0.0       850.20     13.65   \n",
       "26200698                   w             0.0      1235.52     16.29   \n",
       "48545903                   w             0.0       628.39      8.18   \n",
       "65374531                   w             1.0       176.74     18.20   \n",
       "66633602                   f             0.0       190.02     13.18   \n",
       "67839977                   w             0.0       736.93     12.59   \n",
       "\n",
       "            issue_d last_pymnt_d  loan_amnt  loan_status  open_acc  pub_rec  \\\n",
       "id                                                                            \n",
       "7266455  2013-09-01   2014-09-01    11325.0            0      11.0      0.0   \n",
       "3625381  2013-03-01   2015-04-01     5000.0            0      13.0      0.0   \n",
       "10130799 2014-01-01   2014-07-01    10000.0            0       8.0      0.0   \n",
       "12316506 2014-02-01   2015-12-01    25000.0            0       6.0      0.0   \n",
       "26200698 2014-09-01   2017-07-01    35000.0            0       8.0      0.0   \n",
       "48545903 2015-05-01   2015-05-01    20000.0            0      17.0      0.0   \n",
       "65374531 2015-11-01   2017-10-01     4875.0            0       7.0      0.0   \n",
       "66633602 2015-12-01   2016-06-01     5625.0            0       6.0      0.0   \n",
       "67839977 2015-12-01   2016-07-01    22000.0            0       5.0      0.0   \n",
       "\n",
       "          pub_rec_bankruptcies           purpose  sub_grade  term  \\\n",
       "id                                                                  \n",
       "7266455                    0.0             other         12    60   \n",
       "3625381                    0.0       credit_card          1    36   \n",
       "10130799                   0.0  home_improvement          5    36   \n",
       "12316506                   0.0  home_improvement         11    36   \n",
       "26200698                   0.0             house         17    36   \n",
       "48545903                   0.0    small_business          6    36   \n",
       "65374531                   0.0             other         21    36   \n",
       "66633602                   0.0            moving         13    36   \n",
       "67839977                   0.0           medical         12    36   \n",
       "\n",
       "          total_pymnt verification_status zip_code  days_since_first_credit  \\\n",
       "id                                                                            \n",
       "7266455       5574.95     Source Verified    335xx                    10289   \n",
       "3625381       3998.07            Verified    752xx                     7578   \n",
       "10130799      7374.84     Source Verified    083xx                     8858   \n",
       "12316506     19636.05            Verified    284xx                     9254   \n",
       "26200698     42007.68     Source Verified    600xx                     6421   \n",
       "48545903         0.00     Source Verified    275xx                    10531   \n",
       "65374531      4884.50     Source Verified    953xx                    10806   \n",
       "66633602      1136.00            Verified    107xx                     8310   \n",
       "67839977      6334.28        Not Verified    125xx                     7396   \n",
       "\n",
       "          fico_score_average       PnL  years  default_year  \n",
       "id                                                           \n",
       "7266455                847.5  -5750.05   2013          2014  \n",
       "3625381                842.0  -1001.93   2013          2015  \n",
       "10130799               847.5  -2625.16   2014          2014  \n",
       "12316506               842.0  -5363.95   2014          2015  \n",
       "26200698               842.0   7007.68   2014          2017  \n",
       "48545903               847.5 -20000.00   2015          2015  \n",
       "65374531               842.0      9.50   2015          2017  \n",
       "66633602               847.5  -4489.00   2015          2016  \n",
       "67839977               842.0 -15665.72   2015          2016  "
      ]
     },
     "execution_count": 30,
     "metadata": {},
     "output_type": "execute_result"
    }
   ],
   "source": [
    "pd.set_option(\"display.max_columns\", 200)\n",
    "subset = approved.query(\"fico_score_average>=840 and loan_status==0\")\n",
    "subset"
   ]
  },
  {
   "cell_type": "markdown",
   "metadata": {},
   "source": [
    "## Interest Rate"
   ]
  },
  {
   "cell_type": "code",
   "execution_count": 31,
   "metadata": {},
   "outputs": [
    {
     "data": {
      "text/plain": [
       "Text(0.5, 1.0, 'Interest Rate Over Time')"
      ]
     },
     "execution_count": 31,
     "metadata": {},
     "output_type": "execute_result"
    },
    {
     "data": {
      "image/png": "[encoded data removed]",
      "text/plain": [
       "<Figure size 432x288 with 1 Axes>"
      ]
     },
     "metadata": {
      "needs_background": "light"
     },
     "output_type": "display_data"
    }
   ],
   "source": [
    "sns.lineplot(y='int_rate',x= 'years', hue='loan_status', data=approved, palette='hls')\n",
    "plt.legend(['Charged Off', 'Fully Paid'])\n",
    "plt.title('Interest Rate Over Time')"
   ]
  },
  {
   "cell_type": "code",
   "execution_count": 88,
   "metadata": {},
   "outputs": [
    {
     "data": {
      "text/plain": [
       "Text(0, 0.5, 'Interest Rate (%)')"
      ]
     },
     "execution_count": 88,
     "metadata": {},
     "output_type": "execute_result"
    },
    {
     "data": {
      "image/png": "[encoded data removed]",
      "text/plain": [
       "<Figure size 432x288 with 1 Axes>"
      ]
     },
     "metadata": {
      "needs_background": "light"
     },
     "output_type": "display_data"
    }
   ],
   "source": [
    "plot = sns.lineplot(y='int_rate',x='years', hue= 'grade', data=approved, palette='icefire')\n",
    "handles, labels = plot.get_legend_handles_labels()\n",
    "handles = [handles[4], handles[0], handles[3], handles[1], handles[2]]\n",
    "labels = [labels[4], labels[0], labels[3], labels[1], labels[2]]\n",
    "plt.legend(handles,labels, title='Grade', loc=2)\n",
    "plt.title('Interest Rate by Loan Grade')\n",
    "plt.xlabel('Year')\n",
    "plt.ylabel('Interest Rate (%)')\n",
    "#save"
   ]
  },
  {
   "cell_type": "code",
   "execution_count": 74,
   "metadata": {
    "scrolled": true
   },
   "outputs": [
    {
     "data": {
      "text/plain": [
       "<AxesSubplot:xlabel='grade', ylabel='int_rate'>"
      ]
     },
     "execution_count": 74,
     "metadata": {},
     "output_type": "execute_result"
    },
    {
     "data": {
      "image/png": "[encoded data removed]",
      "text/plain": [
       "<Figure size 432x288 with 1 Axes>"
      ]
     },
     "metadata": {
      "needs_background": "light"
     },
     "output_type": "display_data"
    }
   ],
   "source": [
    "my_order = ['A','B','C','D','E']\n",
    "sns.boxplot(x='grade', y='int_rate', data=approved, order=my_order, palette='hls')"
   ]
  },
  {
   "cell_type": "markdown",
   "metadata": {},
   "source": [
    "## DTI"
   ]
  },
  {
   "cell_type": "code",
   "execution_count": 33,
   "metadata": {
    "scrolled": true
   },
   "outputs": [
    {
     "data": {
      "text/plain": [
       "Text(0.5, 1.0, 'DTI Over Time')"
      ]
     },
     "execution_count": 33,
     "metadata": {},
     "output_type": "execute_result"
    },
    {
     "data": {
      "image/png": "[encoded data removed]",
      "text/plain": [
       "<Figure size 432x288 with 1 Axes>"
      ]
     },
     "metadata": {
      "needs_background": "light"
     },
     "output_type": "display_data"
    }
   ],
   "source": [
    "sns.lineplot(y='dti',x= 'years', hue='loan_status', data=approved, palette='hls')\n",
    "plt.legend(['Charged Off', 'Fully Paid'])\n",
    "plt.title('DTI Over Time')"
   ]
  },
  {
   "cell_type": "code",
   "execution_count": 90,
   "metadata": {},
   "outputs": [
    {
     "data": {
      "text/plain": [
       "Text(0, 0.5, 'Debt to Income')"
      ]
     },
     "execution_count": 90,
     "metadata": {},
     "output_type": "execute_result"
    },
    {
     "data": {
      "image/png": "[encoded data removed]",
      "text/plain": [
       "<Figure size 432x288 with 1 Axes>"
      ]
     },
     "metadata": {
      "needs_background": "light"
     },
     "output_type": "display_data"
    }
   ],
   "source": [
    "sns.lineplot(y='dti',x='years', hue= 'grade', data=approved, palette='hls')\n",
    "handles, labels = plot.get_legend_handles_labels()\n",
    "handles = [handles[4], handles[0], handles[3], handles[1], handles[2]]\n",
    "labels = [labels[4], labels[0], labels[3], labels[1], labels[2]]\n",
    "plt.legend(handles,labels, title='Grade', loc=4)\n",
    "plt.title('DTI Over Time')\n",
    "plt.xlabel('Year')\n",
    "plt.ylabel('Debt to Income')"
   ]
  },
  {
   "cell_type": "code",
   "execution_count": 35,
   "metadata": {},
   "outputs": [
    {
     "data": {
      "text/plain": [
       "count    660896.000000\n",
       "mean         17.544156\n",
       "std           8.309068\n",
       "min           0.000000\n",
       "25%          11.390000\n",
       "50%          17.050000\n",
       "75%          23.250000\n",
       "max         999.000000\n",
       "Name: dti, dtype: float64"
      ]
     },
     "execution_count": 35,
     "metadata": {},
     "output_type": "execute_result"
    }
   ],
   "source": [
    "approved['dti'].describe()"
   ]
  },
  {
   "cell_type": "code",
   "execution_count": 36,
   "metadata": {},
   "outputs": [
    {
     "data": {
      "text/plain": [
       "(12.59, 14.83]                  66295\n",
       "(17.05, 19.35]                  66231\n",
       "(24.79, 28.8]                   66084\n",
       "(7.05, 10.13]                   66083\n",
       "(10.13, 12.59]                  66082\n",
       "(0.009000000000000001, 7.05]    66059\n",
       "(21.84, 24.79]                  66051\n",
       "(28.8, 999.0]                   66009\n",
       "(19.35, 21.84]                  65844\n",
       "(14.83, 17.05]                  65810\n",
       "Name: dti_cut, dtype: int64"
      ]
     },
     "execution_count": 36,
     "metadata": {},
     "output_type": "execute_result"
    }
   ],
   "source": [
    "approved['dti_cut'] = pd.qcut(approved.loc[approved['dti']>0,'dti'], q=10)\n",
    "approved['dti_cut'].value_counts()"
   ]
  },
  {
   "cell_type": "code",
   "execution_count": 37,
   "metadata": {},
   "outputs": [],
   "source": [
    "default_dti = approved.groupby('dti_cut').mean()['loan_status']\n",
    "default_dti = (1-default_dti)*100"
   ]
  },
  {
   "cell_type": "code",
   "execution_count": 38,
   "metadata": {
    "scrolled": true
   },
   "outputs": [
    {
     "data": {
      "text/plain": [
       "(-0.5, 9.5)"
      ]
     },
     "execution_count": 38,
     "metadata": {},
     "output_type": "execute_result"
    },
    {
     "data": {
      "image/png": "[encoded data removed]",
      "text/plain": [
       "<Figure size 432x288 with 1 Axes>"
      ]
     },
     "metadata": {
      "needs_background": "light"
     },
     "output_type": "display_data"
    }
   ],
   "source": [
    "sns.barplot(x=default_dti.values,y=default_dti.index, palette='rocket_r')\n",
    "plt.ylabel('DTI')\n",
    "plt.xlabel('Default Rate (%)')\n",
    "plt.title('DTI vs Default Rate')\n",
    "plt.yticks([0, 1, 2,3,4,5,6,7,8,9], [\n",
    "'(0, 7.26]',\n",
    "'(7.26, 10.45]',\n",
    "'(10.45, 12.96]',\n",
    "'(12.96, 15.25]',\n",
    "'(15.25, 17.54]',\n",
    "'(17.54, 19.89]',\n",
    "'(19.89, 22.5]',\n",
    "'(22.5, 25.58]',\n",
    "'(25.58, 29.66]',\n",
    "'> 30'])\n",
    "plt.ylim(reversed(plt.ylim()))\n",
    "#save "
   ]
  },
  {
   "cell_type": "code",
   "execution_count": 39,
   "metadata": {},
   "outputs": [
    {
     "data": {
      "text/plain": [
       "(32000.0, 40000.0]       70388\n",
       "(61000.0, 70000.0]       70299\n",
       "(1199.999, 32000.0]      68599\n",
       "(54103.88, 61000.0]      66965\n",
       "(47840.0, 54103.88]      66016\n",
       "(80000.0, 96000.0]       66003\n",
       "(120000.0, 9000000.0]    65228\n",
       "(96000.0, 120000.0]      64663\n",
       "(70000.0, 80000.0]       63379\n",
       "(40000.0, 47840.0]       59356\n",
       "Name: inc_cut, dtype: int64"
      ]
     },
     "execution_count": 39,
     "metadata": {},
     "output_type": "execute_result"
    }
   ],
   "source": [
    "approved['inc_cut'] = pd.qcut(approved.annual_inc, q=10)\n",
    "approved['inc_cut'].value_counts()"
   ]
  },
  {
   "cell_type": "code",
   "execution_count": 40,
   "metadata": {},
   "outputs": [],
   "source": [
    "default_inc = approved.groupby('inc_cut').mean()['loan_status']\n",
    "default_inc = (1-default_inc)*100"
   ]
  },
  {
   "cell_type": "code",
   "execution_count": 41,
   "metadata": {},
   "outputs": [
    {
     "data": {
      "text/plain": [
       "Text(0.5, 1.0, 'Annual Income vs Default Rate')"
      ]
     },
     "execution_count": 41,
     "metadata": {},
     "output_type": "execute_result"
    },
    {
     "data": {
      "image/png": "[encoded data removed]",
      "text/plain": [
       "<Figure size 432x288 with 1 Axes>"
      ]
     },
     "metadata": {
      "needs_background": "light"
     },
     "output_type": "display_data"
    }
   ],
   "source": [
    "sns.barplot(x=default_inc.values,y=default_inc.index, palette='rocket')\n",
    "plt.ylabel('Annual Income')\n",
    "plt.xlabel('Default Rate (%)')\n",
    "plt.title('Annual Income vs Default Rate')\n",
    "#save"
   ]
  },
  {
   "cell_type": "markdown",
   "metadata": {},
   "source": [
    "## Loan Purpose"
   ]
  },
  {
   "cell_type": "code",
   "execution_count": 42,
   "metadata": {},
   "outputs": [],
   "source": [
    "default_purpose = approved.groupby('purpose').mean()['loan_status']\n",
    "default_purpose = (1-default_purpose)*100\n",
    "default_purpose = default_purpose.sort_values(ascending=False).head(10)"
   ]
  },
  {
   "cell_type": "code",
   "execution_count": 43,
   "metadata": {},
   "outputs": [
    {
     "data": {
      "text/plain": [
       "Text(0.5, 1.0, 'Loan Purpose vs Default Rate')"
      ]
     },
     "execution_count": 43,
     "metadata": {},
     "output_type": "execute_result"
    },
    {
     "data": {
      "image/png": "[encoded data removed]",
      "text/plain": [
       "<Figure size 432x288 with 1 Axes>"
      ]
     },
     "metadata": {
      "needs_background": "light"
     },
     "output_type": "display_data"
    }
   ],
   "source": [
    "sns.barplot(x=default_purpose.values,y=default_purpose.index, palette='rocket')\n",
    "plt.ylabel('Loan Purpose')\n",
    "plt.xlabel('Default Rate (%)')\n",
    "plt.title('Loan Purpose vs Default Rate')"
   ]
  },
  {
   "cell_type": "markdown",
   "metadata": {},
   "source": [
    "## Verification Status"
   ]
  },
  {
   "cell_type": "code",
   "execution_count": 44,
   "metadata": {},
   "outputs": [
    {
     "data": {
      "text/plain": [
       "Source Verified    228902\n",
       "Not Verified       216476\n",
       "Verified           215518\n",
       "Name: verification_status, dtype: int64"
      ]
     },
     "execution_count": 44,
     "metadata": {},
     "output_type": "execute_result"
    }
   ],
   "source": [
    "approved['verification_status'].value_counts()"
   ]
  },
  {
   "cell_type": "code",
   "execution_count": 45,
   "metadata": {},
   "outputs": [],
   "source": [
    "approved['verification_status']= np.where(approved['verification_status']=='Source Verified','Verified',approved['verification_status'])"
   ]
  },
  {
   "cell_type": "code",
   "execution_count": 46,
   "metadata": {},
   "outputs": [
    {
     "data": {
      "text/plain": [
       "Verified        444420\n",
       "Not Verified    216476\n",
       "Name: verification_status, dtype: int64"
      ]
     },
     "execution_count": 46,
     "metadata": {},
     "output_type": "execute_result"
    }
   ],
   "source": [
    "approved['verification_status'].value_counts()"
   ]
  },
  {
   "cell_type": "code",
   "execution_count": 47,
   "metadata": {},
   "outputs": [],
   "source": [
    "default_verif = approved.groupby('verification_status').mean()['loan_status']\n",
    "default_verif = 1-default_verif"
   ]
  },
  {
   "cell_type": "code",
   "execution_count": 48,
   "metadata": {},
   "outputs": [
    {
     "data": {
      "text/plain": [
       "Text(0.5, 1.0, 'Default Rate vs Verification Status')"
      ]
     },
     "execution_count": 48,
     "metadata": {},
     "output_type": "execute_result"
    },
    {
     "data": {
      "image/png": "[encoded data removed]",
      "text/plain": [
       "<Figure size 432x288 with 1 Axes>"
      ]
     },
     "metadata": {
      "needs_background": "light"
     },
     "output_type": "display_data"
    }
   ],
   "source": [
    "sns.barplot(y=default_verif.values,x=default_verif.index, palette='hls')\n",
    "plt.xlabel('Verification Status')\n",
    "plt.ylabel('Default Rate')\n",
    "plt.title('Default Rate vs Verification Status')"
   ]
  },
  {
   "cell_type": "markdown",
   "metadata": {},
   "source": [
    "## Employment Length"
   ]
  },
  {
   "cell_type": "code",
   "execution_count": 121,
   "metadata": {},
   "outputs": [
    {
     "data": {
      "text/plain": [
       "<matplotlib.legend.Legend at 0x7ff69f5f43d0>"
      ]
     },
     "execution_count": 121,
     "metadata": {},
     "output_type": "execute_result"
    },
    {
     "data": {
      "image/png": "[encoded data removed]",
      "text/plain": [
       "<Figure size 432x288 with 1 Axes>"
      ]
     },
     "metadata": {
      "needs_background": "light"
     },
     "output_type": "display_data"
    }
   ],
   "source": [
    "sns.countplot(x='emp_length', hue='loan_status', data=approved, palette='hls')\n",
    "plt.legend(['Charged Off', 'Fully Paid'])"
   ]
  },
  {
   "cell_type": "code",
   "execution_count": 122,
   "metadata": {},
   "outputs": [],
   "source": [
    "approved['emp_na']=np.where(approved['emp_length']==-1,1,0)"
   ]
  },
  {
   "cell_type": "code",
   "execution_count": 123,
   "metadata": {},
   "outputs": [],
   "source": [
    "default_emp = approved.groupby('emp_na').mean()['loan_status']\n",
    "default_emp = (1-default_emp)*100"
   ]
  },
  {
   "cell_type": "code",
   "execution_count": 177,
   "metadata": {},
   "outputs": [
    {
     "data": {
      "text/plain": [
       "Text(0.5, 1.0, 'Default Rate vs Employment Length')"
      ]
     },
     "execution_count": 177,
     "metadata": {},
     "output_type": "execute_result"
    },
    {
     "data": {
      "image/png": "[encoded data removed]",
      "text/plain": [
       "<Figure size 432x288 with 1 Axes>"
      ]
     },
     "metadata": {
      "needs_background": "light"
     },
     "output_type": "display_data"
    }
   ],
   "source": [
    "sns.barplot(y=default_emp.values,x=default_emp.index, palette=\"ocean_r\")\n",
    "plt.xlabel('Employment Length')\n",
    "plt.ylabel('Default Rate (%)')\n",
    "plt.xticks([0, 1], ['Given',' Not Given'])\n",
    "plt.title('Default Rate vs Employment Length')"
   ]
  },
  {
   "cell_type": "code",
   "execution_count": 53,
   "metadata": {},
   "outputs": [],
   "source": [
    "default_emp = approved.groupby('emp_length').mean()['loan_status']\n",
    "default_emp = (1-default_emp)*100"
   ]
  },
  {
   "cell_type": "code",
   "execution_count": 54,
   "metadata": {
    "scrolled": false
   },
   "outputs": [
    {
     "data": {
      "text/plain": [
       "Text(0.5, 1.0, 'Default Rate vs Employment Length')"
      ]
     },
     "execution_count": 54,
     "metadata": {},
     "output_type": "execute_result"
    },
    {
     "data": {
      "image/png": "[encoded data removed]",
      "text/plain": [
       "<Figure size 432x288 with 1 Axes>"
      ]
     },
     "metadata": {
      "needs_background": "light"
     },
     "output_type": "display_data"
    }
   ],
   "source": [
    "sns.barplot(y=default_emp.values,x=default_emp.index, palette=\"viridis\")\n",
    "plt.xlabel('Employment Length')\n",
    "plt.ylabel('Default Rate')\n",
    "plt.xticks([0, 1, 2,3,4,5,6,7,8,9,10,11], ['NA','< 1 year', '1 year', \n",
    "            '2 years', '3 years', '4 years', '5 years', '6 years', \n",
    "            '7 years', '8 years', '9 years', '10+ years'])\n",
    "plt.xticks(rotation=45)\n",
    "plt.title('Default Rate vs Employment Length')"
   ]
  },
  {
   "cell_type": "markdown",
   "metadata": {},
   "source": [
    "## Home Ownership"
   ]
  },
  {
   "cell_type": "code",
   "execution_count": 55,
   "metadata": {},
   "outputs": [
    {
     "data": {
      "text/plain": [
       "MORTGAGE    315550\n",
       "RENT        279592\n",
       "OWN          65576\n",
       "OTHER          139\n",
       "NONE            37\n",
       "ANY              2\n",
       "Name: home_ownership, dtype: int64"
      ]
     },
     "execution_count": 55,
     "metadata": {},
     "output_type": "execute_result"
    }
   ],
   "source": [
    "approved['home_ownership'].value_counts()"
   ]
  },
  {
   "cell_type": "code",
   "execution_count": 56,
   "metadata": {},
   "outputs": [],
   "source": [
    "home = approved.copy()"
   ]
  },
  {
   "cell_type": "code",
   "execution_count": 57,
   "metadata": {},
   "outputs": [],
   "source": [
    "home['home_ownership'].replace('MORTGAGE', 'OWN', inplace = True)\n",
    "home['home_ownership'].replace('OWN', 'Home Ownership', inplace = True)\n",
    "home['home_ownership'].replace('RENT', 'Rent', inplace = True)\n",
    "home = home[~home['home_ownership'].isin(['OTHER', 'NONE', 'ANY'])]"
   ]
  },
  {
   "cell_type": "code",
   "execution_count": 58,
   "metadata": {},
   "outputs": [],
   "source": [
    "default_home = home.groupby('home_ownership').mean()['loan_status']\n",
    "default_home = (1-default_home) * 100"
   ]
  },
  {
   "cell_type": "code",
   "execution_count": 154,
   "metadata": {},
   "outputs": [
    {
     "data": {
      "text/plain": [
       "[Text(0.5, 1.0, 'Default Rate vs Home Ownership'),\n",
       " Text(0.5, 0, 'Home Ownership Status'),\n",
       " Text(0, 0.5, 'Default Rate (%)')]"
      ]
     },
     "execution_count": 154,
     "metadata": {},
     "output_type": "execute_result"
    },
    {
     "data": {
      "image/png": "[encoded data removed]",
      "text/plain": [
       "<Figure size 432x288 with 1 Axes>"
      ]
     },
     "metadata": {
      "needs_background": "light"
     },
     "output_type": "display_data"
    }
   ],
   "source": [
    "fig = sns.barplot(x=default_home.index, y=default_home.values, data=approved, palette='plasma_r')\n",
    "fig.set(title = 'Default Rate vs Home Ownership', xlabel = 'Home Ownership Status', ylabel = 'Default Rate (%)')\n",
    "#remove any and order\n",
    "#mortgage, own = home ownership and rent - 2 bars"
   ]
  },
  {
   "cell_type": "markdown",
   "metadata": {},
   "source": [
    "## Default rate vs # of credit inquiries"
   ]
  },
  {
   "cell_type": "code",
   "execution_count": 60,
   "metadata": {},
   "outputs": [],
   "source": [
    "approved['inq']=np.where(approved['inq_last_6mths']>=4,4,approved['inq_last_6mths'])"
   ]
  },
  {
   "cell_type": "code",
   "execution_count": 61,
   "metadata": {},
   "outputs": [],
   "source": [
    "default_inqs = approved.groupby('inq').mean()['loan_status']\n",
    "default_inqs = (1-default_inqs) * 100"
   ]
  },
  {
   "cell_type": "code",
   "execution_count": 62,
   "metadata": {},
   "outputs": [
    {
     "data": {
      "text/plain": [
       "0.0    369741\n",
       "1.0    180879\n",
       "2.0     71248\n",
       "3.0     28347\n",
       "4.0     10681\n",
       "Name: inq, dtype: int64"
      ]
     },
     "execution_count": 62,
     "metadata": {},
     "output_type": "execute_result"
    }
   ],
   "source": [
    "approved['inq'].value_counts()"
   ]
  },
  {
   "cell_type": "code",
   "execution_count": 176,
   "metadata": {},
   "outputs": [
    {
     "data": {
      "text/plain": [
       "([<matplotlib.axis.XTick at 0x7ff6a66b48e0>,\n",
       "  <matplotlib.axis.XTick at 0x7ff6a66b48b0>,\n",
       "  <matplotlib.axis.XTick at 0x7ff6a66addf0>,\n",
       "  <matplotlib.axis.XTick at 0x7ff6a675f8e0>,\n",
       "  <matplotlib.axis.XTick at 0x7ff6a675fdf0>],\n",
       " [Text(0, 0, '0.0'),\n",
       "  Text(1, 0, '1.0'),\n",
       "  Text(2, 0, '2.0'),\n",
       "  Text(3, 0, '3.0'),\n",
       "  Text(4, 0, '4.0+')])"
      ]
     },
     "execution_count": 176,
     "metadata": {},
     "output_type": "execute_result"
    },
    {
     "data": {
      "image/png": "[encoded data removed]",
      "text/plain": [
       "<Figure size 432x288 with 1 Axes>"
      ]
     },
     "metadata": {
      "needs_background": "light"
     },
     "output_type": "display_data"
    }
   ],
   "source": [
    "sns.barplot(y=default_inqs.values,x=default_inqs.index, palette=\"ocean_r\")\n",
    "plt.xlabel('Number of Credit Inquiries in Past 6 Months')\n",
    "plt.ylabel('Default Rate (%)')\n",
    "plt.title('Default Rate (%) vs Number of Credit Inquiries')\n",
    "plt.xticks([0,1,2,3,4], ['0.0', '1.0', '2.0', '3.0', '4.0+'])\n",
    "#save"
   ]
  },
  {
   "cell_type": "code",
   "execution_count": 64,
   "metadata": {},
   "outputs": [
    {
     "data": {
      "text/html": [
       "<div>\n",
       "<style scoped>\n",
       "    .dataframe tbody tr th:only-of-type {\n",
       "        vertical-align: middle;\n",
       "    }\n",
       "\n",
       "    .dataframe tbody tr th {\n",
       "        vertical-align: top;\n",
       "    }\n",
       "\n",
       "    .dataframe thead th {\n",
       "        text-align: right;\n",
       "    }\n",
       "</style>\n",
       "<table border=\"1\" class=\"dataframe\">\n",
       "  <thead>\n",
       "    <tr style=\"text-align: right;\">\n",
       "      <th></th>\n",
       "      <th>addr_state</th>\n",
       "      <th>annual_inc</th>\n",
       "      <th>application_type</th>\n",
       "      <th>disbursement_method</th>\n",
       "      <th>dti</th>\n",
       "      <th>earliest_cr_line</th>\n",
       "      <th>emp_length</th>\n",
       "      <th>emp_title</th>\n",
       "      <th>fico_range_high</th>\n",
       "      <th>fico_range_low</th>\n",
       "      <th>grade</th>\n",
       "      <th>home_ownership</th>\n",
       "      <th>initial_list_status</th>\n",
       "      <th>inq_last_6mths</th>\n",
       "      <th>installment</th>\n",
       "      <th>int_rate</th>\n",
       "      <th>issue_d</th>\n",
       "      <th>last_pymnt_d</th>\n",
       "      <th>loan_amnt</th>\n",
       "      <th>loan_status</th>\n",
       "      <th>open_acc</th>\n",
       "      <th>pub_rec</th>\n",
       "      <th>pub_rec_bankruptcies</th>\n",
       "      <th>purpose</th>\n",
       "      <th>sub_grade</th>\n",
       "      <th>term</th>\n",
       "      <th>total_pymnt</th>\n",
       "      <th>verification_status</th>\n",
       "      <th>zip_code</th>\n",
       "      <th>days_since_first_credit</th>\n",
       "      <th>fico_score_average</th>\n",
       "      <th>PnL</th>\n",
       "      <th>years</th>\n",
       "      <th>default_year</th>\n",
       "      <th>dti_cut</th>\n",
       "      <th>inc_cut</th>\n",
       "      <th>emp_na</th>\n",
       "      <th>inq</th>\n",
       "    </tr>\n",
       "    <tr>\n",
       "      <th>id</th>\n",
       "      <th></th>\n",
       "      <th></th>\n",
       "      <th></th>\n",
       "      <th></th>\n",
       "      <th></th>\n",
       "      <th></th>\n",
       "      <th></th>\n",
       "      <th></th>\n",
       "      <th></th>\n",
       "      <th></th>\n",
       "      <th></th>\n",
       "      <th></th>\n",
       "      <th></th>\n",
       "      <th></th>\n",
       "      <th></th>\n",
       "      <th></th>\n",
       "      <th></th>\n",
       "      <th></th>\n",
       "      <th></th>\n",
       "      <th></th>\n",
       "      <th></th>\n",
       "      <th></th>\n",
       "      <th></th>\n",
       "      <th></th>\n",
       "      <th></th>\n",
       "      <th></th>\n",
       "      <th></th>\n",
       "      <th></th>\n",
       "      <th></th>\n",
       "      <th></th>\n",
       "      <th></th>\n",
       "      <th></th>\n",
       "      <th></th>\n",
       "      <th></th>\n",
       "      <th></th>\n",
       "      <th></th>\n",
       "      <th></th>\n",
       "      <th></th>\n",
       "    </tr>\n",
       "  </thead>\n",
       "  <tbody>\n",
       "    <tr>\n",
       "      <th>533380</th>\n",
       "      <td>MA</td>\n",
       "      <td>33000.0</td>\n",
       "      <td>Individual</td>\n",
       "      <td>Cash</td>\n",
       "      <td>14.94</td>\n",
       "      <td>1997-10-01</td>\n",
       "      <td>10</td>\n",
       "      <td>cvs pharmacy</td>\n",
       "      <td>744.0</td>\n",
       "      <td>740.0</td>\n",
       "      <td>D</td>\n",
       "      <td>MORTGAGE</td>\n",
       "      <td>f</td>\n",
       "      <td>8.0</td>\n",
       "      <td>122.45</td>\n",
       "      <td>16.32</td>\n",
       "      <td>2010-06-01</td>\n",
       "      <td>2011-12-01</td>\n",
       "      <td>5000.0</td>\n",
       "      <td>1</td>\n",
       "      <td>20.0</td>\n",
       "      <td>0.0</td>\n",
       "      <td>0.0</td>\n",
       "      <td>home_improvement</td>\n",
       "      <td>20</td>\n",
       "      <td>60</td>\n",
       "      <td>6048.103124</td>\n",
       "      <td>Verified</td>\n",
       "      <td>020xx</td>\n",
       "      <td>4626</td>\n",
       "      <td>742.0</td>\n",
       "      <td>1048.103124</td>\n",
       "      <td>2010</td>\n",
       "      <td>2011</td>\n",
       "      <td>(14.83, 17.05]</td>\n",
       "      <td>(32000.0, 40000.0]</td>\n",
       "      <td>0</td>\n",
       "      <td>4.0</td>\n",
       "    </tr>\n",
       "    <tr>\n",
       "      <th>657025</th>\n",
       "      <td>CO</td>\n",
       "      <td>27600.0</td>\n",
       "      <td>Individual</td>\n",
       "      <td>Cash</td>\n",
       "      <td>16.83</td>\n",
       "      <td>1976-12-01</td>\n",
       "      <td>7</td>\n",
       "      <td>Alamosa Public Schools</td>\n",
       "      <td>769.0</td>\n",
       "      <td>765.0</td>\n",
       "      <td>D</td>\n",
       "      <td>MORTGAGE</td>\n",
       "      <td>f</td>\n",
       "      <td>8.0</td>\n",
       "      <td>333.03</td>\n",
       "      <td>15.65</td>\n",
       "      <td>2011-01-01</td>\n",
       "      <td>2016-02-01</td>\n",
       "      <td>13800.0</td>\n",
       "      <td>1</td>\n",
       "      <td>11.0</td>\n",
       "      <td>0.0</td>\n",
       "      <td>0.0</td>\n",
       "      <td>car</td>\n",
       "      <td>19</td>\n",
       "      <td>60</td>\n",
       "      <td>19981.643198</td>\n",
       "      <td>Verified</td>\n",
       "      <td>811xx</td>\n",
       "      <td>12449</td>\n",
       "      <td>767.0</td>\n",
       "      <td>6181.643198</td>\n",
       "      <td>2011</td>\n",
       "      <td>2016</td>\n",
       "      <td>(14.83, 17.05]</td>\n",
       "      <td>(1199.999, 32000.0]</td>\n",
       "      <td>0</td>\n",
       "      <td>4.0</td>\n",
       "    </tr>\n",
       "    <tr>\n",
       "      <th>666496</th>\n",
       "      <td>IL</td>\n",
       "      <td>35000.0</td>\n",
       "      <td>Individual</td>\n",
       "      <td>Cash</td>\n",
       "      <td>24.75</td>\n",
       "      <td>1996-12-01</td>\n",
       "      <td>7</td>\n",
       "      <td>Roys Body Shop</td>\n",
       "      <td>744.0</td>\n",
       "      <td>740.0</td>\n",
       "      <td>D</td>\n",
       "      <td>OWN</td>\n",
       "      <td>f</td>\n",
       "      <td>8.0</td>\n",
       "      <td>124.48</td>\n",
       "      <td>15.28</td>\n",
       "      <td>2011-02-01</td>\n",
       "      <td>2014-03-01</td>\n",
       "      <td>5200.0</td>\n",
       "      <td>1</td>\n",
       "      <td>7.0</td>\n",
       "      <td>0.0</td>\n",
       "      <td>0.0</td>\n",
       "      <td>car</td>\n",
       "      <td>18</td>\n",
       "      <td>60</td>\n",
       "      <td>7073.703155</td>\n",
       "      <td>Not Verified</td>\n",
       "      <td>629xx</td>\n",
       "      <td>5175</td>\n",
       "      <td>742.0</td>\n",
       "      <td>1873.703155</td>\n",
       "      <td>2011</td>\n",
       "      <td>2014</td>\n",
       "      <td>(21.84, 24.79]</td>\n",
       "      <td>(32000.0, 40000.0]</td>\n",
       "      <td>0</td>\n",
       "      <td>4.0</td>\n",
       "    </tr>\n",
       "    <tr>\n",
       "      <th>696388</th>\n",
       "      <td>MI</td>\n",
       "      <td>82000.0</td>\n",
       "      <td>Individual</td>\n",
       "      <td>Cash</td>\n",
       "      <td>14.59</td>\n",
       "      <td>1994-01-01</td>\n",
       "      <td>10</td>\n",
       "      <td>Northville Public Schools</td>\n",
       "      <td>799.0</td>\n",
       "      <td>795.0</td>\n",
       "      <td>D</td>\n",
       "      <td>MORTGAGE</td>\n",
       "      <td>f</td>\n",
       "      <td>8.0</td>\n",
       "      <td>335.13</td>\n",
       "      <td>15.28</td>\n",
       "      <td>2011-03-01</td>\n",
       "      <td>2016-03-01</td>\n",
       "      <td>14000.0</td>\n",
       "      <td>1</td>\n",
       "      <td>10.0</td>\n",
       "      <td>0.0</td>\n",
       "      <td>0.0</td>\n",
       "      <td>home_improvement</td>\n",
       "      <td>18</td>\n",
       "      <td>60</td>\n",
       "      <td>20105.810027</td>\n",
       "      <td>Verified</td>\n",
       "      <td>481xx</td>\n",
       "      <td>6268</td>\n",
       "      <td>797.0</td>\n",
       "      <td>6105.810027</td>\n",
       "      <td>2011</td>\n",
       "      <td>2016</td>\n",
       "      <td>(12.59, 14.83]</td>\n",
       "      <td>(80000.0, 96000.0]</td>\n",
       "      <td>0</td>\n",
       "      <td>4.0</td>\n",
       "    </tr>\n",
       "    <tr>\n",
       "      <th>766671</th>\n",
       "      <td>FL</td>\n",
       "      <td>146000.0</td>\n",
       "      <td>Individual</td>\n",
       "      <td>Cash</td>\n",
       "      <td>9.96</td>\n",
       "      <td>1996-07-01</td>\n",
       "      <td>10</td>\n",
       "      <td>Marriott International</td>\n",
       "      <td>749.0</td>\n",
       "      <td>745.0</td>\n",
       "      <td>E</td>\n",
       "      <td>MORTGAGE</td>\n",
       "      <td>f</td>\n",
       "      <td>8.0</td>\n",
       "      <td>639.54</td>\n",
       "      <td>17.88</td>\n",
       "      <td>2011-06-01</td>\n",
       "      <td>2012-03-01</td>\n",
       "      <td>35000.0</td>\n",
       "      <td>1</td>\n",
       "      <td>9.0</td>\n",
       "      <td>0.0</td>\n",
       "      <td>0.0</td>\n",
       "      <td>debt_consolidation</td>\n",
       "      <td>25</td>\n",
       "      <td>60</td>\n",
       "      <td>28489.760904</td>\n",
       "      <td>Verified</td>\n",
       "      <td>331xx</td>\n",
       "      <td>5448</td>\n",
       "      <td>747.0</td>\n",
       "      <td>-6510.239096</td>\n",
       "      <td>2011</td>\n",
       "      <td>2012</td>\n",
       "      <td>(7.05, 10.13]</td>\n",
       "      <td>(120000.0, 9000000.0]</td>\n",
       "      <td>0</td>\n",
       "      <td>4.0</td>\n",
       "    </tr>\n",
       "    <tr>\n",
       "      <th>884507</th>\n",
       "      <td>MI</td>\n",
       "      <td>30000.0</td>\n",
       "      <td>Individual</td>\n",
       "      <td>Cash</td>\n",
       "      <td>22.96</td>\n",
       "      <td>1978-09-01</td>\n",
       "      <td>8</td>\n",
       "      <td>golden brown bakery</td>\n",
       "      <td>759.0</td>\n",
       "      <td>755.0</td>\n",
       "      <td>D</td>\n",
       "      <td>OWN</td>\n",
       "      <td>f</td>\n",
       "      <td>8.0</td>\n",
       "      <td>49.46</td>\n",
       "      <td>16.77</td>\n",
       "      <td>2011-09-01</td>\n",
       "      <td>2016-10-01</td>\n",
       "      <td>2000.0</td>\n",
       "      <td>1</td>\n",
       "      <td>6.0</td>\n",
       "      <td>0.0</td>\n",
       "      <td>0.0</td>\n",
       "      <td>other</td>\n",
       "      <td>17</td>\n",
       "      <td>60</td>\n",
       "      <td>2967.427698</td>\n",
       "      <td>Not Verified</td>\n",
       "      <td>490xx</td>\n",
       "      <td>12053</td>\n",
       "      <td>757.0</td>\n",
       "      <td>967.427698</td>\n",
       "      <td>2011</td>\n",
       "      <td>2016</td>\n",
       "      <td>(21.84, 24.79]</td>\n",
       "      <td>(1199.999, 32000.0]</td>\n",
       "      <td>0</td>\n",
       "      <td>4.0</td>\n",
       "    </tr>\n",
       "    <tr>\n",
       "      <th>1368779</th>\n",
       "      <td>KY</td>\n",
       "      <td>218000.0</td>\n",
       "      <td>Individual</td>\n",
       "      <td>Cash</td>\n",
       "      <td>1.07</td>\n",
       "      <td>1985-10-01</td>\n",
       "      <td>10</td>\n",
       "      <td>Presbyterian Publishing Corp.</td>\n",
       "      <td>749.0</td>\n",
       "      <td>745.0</td>\n",
       "      <td>E</td>\n",
       "      <td>MORTGAGE</td>\n",
       "      <td>f</td>\n",
       "      <td>8.0</td>\n",
       "      <td>683.25</td>\n",
       "      <td>21.49</td>\n",
       "      <td>2012-07-01</td>\n",
       "      <td>2012-12-01</td>\n",
       "      <td>25000.0</td>\n",
       "      <td>1</td>\n",
       "      <td>5.0</td>\n",
       "      <td>0.0</td>\n",
       "      <td>0.0</td>\n",
       "      <td>debt_consolidation</td>\n",
       "      <td>23</td>\n",
       "      <td>60</td>\n",
       "      <td>27195.602034</td>\n",
       "      <td>Verified</td>\n",
       "      <td>402xx</td>\n",
       "      <td>9770</td>\n",
       "      <td>747.0</td>\n",
       "      <td>2195.602034</td>\n",
       "      <td>2012</td>\n",
       "      <td>2012</td>\n",
       "      <td>(0.009000000000000001, 7.05]</td>\n",
       "      <td>(120000.0, 9000000.0]</td>\n",
       "      <td>0</td>\n",
       "      <td>4.0</td>\n",
       "    </tr>\n",
       "    <tr>\n",
       "      <th>1587833</th>\n",
       "      <td>MI</td>\n",
       "      <td>82000.0</td>\n",
       "      <td>Individual</td>\n",
       "      <td>Cash</td>\n",
       "      <td>18.59</td>\n",
       "      <td>2000-06-01</td>\n",
       "      <td>10</td>\n",
       "      <td>kroger</td>\n",
       "      <td>754.0</td>\n",
       "      <td>750.0</td>\n",
       "      <td>D</td>\n",
       "      <td>MORTGAGE</td>\n",
       "      <td>w</td>\n",
       "      <td>8.0</td>\n",
       "      <td>649.21</td>\n",
       "      <td>19.05</td>\n",
       "      <td>2012-10-01</td>\n",
       "      <td>2017-03-01</td>\n",
       "      <td>25000.0</td>\n",
       "      <td>1</td>\n",
       "      <td>11.0</td>\n",
       "      <td>0.0</td>\n",
       "      <td>0.0</td>\n",
       "      <td>debt_consolidation</td>\n",
       "      <td>19</td>\n",
       "      <td>60</td>\n",
       "      <td>38656.019830</td>\n",
       "      <td>Verified</td>\n",
       "      <td>481xx</td>\n",
       "      <td>4505</td>\n",
       "      <td>752.0</td>\n",
       "      <td>13656.019830</td>\n",
       "      <td>2012</td>\n",
       "      <td>2017</td>\n",
       "      <td>(17.05, 19.35]</td>\n",
       "      <td>(80000.0, 96000.0]</td>\n",
       "      <td>0</td>\n",
       "      <td>4.0</td>\n",
       "    </tr>\n",
       "    <tr>\n",
       "      <th>353370</th>\n",
       "      <td>CO</td>\n",
       "      <td>42000.0</td>\n",
       "      <td>Individual</td>\n",
       "      <td>Cash</td>\n",
       "      <td>23.63</td>\n",
       "      <td>1994-04-01</td>\n",
       "      <td>2</td>\n",
       "      <td>Jefferson count schools</td>\n",
       "      <td>744.0</td>\n",
       "      <td>740.0</td>\n",
       "      <td>C</td>\n",
       "      <td>RENT</td>\n",
       "      <td>f</td>\n",
       "      <td>8.0</td>\n",
       "      <td>165.86</td>\n",
       "      <td>11.91</td>\n",
       "      <td>2008-08-01</td>\n",
       "      <td>2010-01-01</td>\n",
       "      <td>5000.0</td>\n",
       "      <td>1</td>\n",
       "      <td>19.0</td>\n",
       "      <td>0.0</td>\n",
       "      <td>0.0</td>\n",
       "      <td>credit_card</td>\n",
       "      <td>13</td>\n",
       "      <td>36</td>\n",
       "      <td>5678.670000</td>\n",
       "      <td>Not Verified</td>\n",
       "      <td>805xx</td>\n",
       "      <td>5236</td>\n",
       "      <td>742.0</td>\n",
       "      <td>678.670000</td>\n",
       "      <td>2008</td>\n",
       "      <td>2010</td>\n",
       "      <td>(21.84, 24.79]</td>\n",
       "      <td>(40000.0, 47840.0]</td>\n",
       "      <td>0</td>\n",
       "      <td>4.0</td>\n",
       "    </tr>\n",
       "    <tr>\n",
       "      <th>428884</th>\n",
       "      <td>MI</td>\n",
       "      <td>30000.0</td>\n",
       "      <td>Individual</td>\n",
       "      <td>Cash</td>\n",
       "      <td>4.28</td>\n",
       "      <td>1986-11-01</td>\n",
       "      <td>0</td>\n",
       "      <td>None</td>\n",
       "      <td>754.0</td>\n",
       "      <td>750.0</td>\n",
       "      <td>C</td>\n",
       "      <td>MORTGAGE</td>\n",
       "      <td>f</td>\n",
       "      <td>8.0</td>\n",
       "      <td>135.09</td>\n",
       "      <td>13.16</td>\n",
       "      <td>2009-07-01</td>\n",
       "      <td>2010-12-01</td>\n",
       "      <td>4000.0</td>\n",
       "      <td>1</td>\n",
       "      <td>14.0</td>\n",
       "      <td>0.0</td>\n",
       "      <td>0.0</td>\n",
       "      <td>educational</td>\n",
       "      <td>13</td>\n",
       "      <td>36</td>\n",
       "      <td>4466.996068</td>\n",
       "      <td>Not Verified</td>\n",
       "      <td>482xx</td>\n",
       "      <td>8278</td>\n",
       "      <td>752.0</td>\n",
       "      <td>466.996068</td>\n",
       "      <td>2009</td>\n",
       "      <td>2010</td>\n",
       "      <td>(0.009000000000000001, 7.05]</td>\n",
       "      <td>(1199.999, 32000.0]</td>\n",
       "      <td>0</td>\n",
       "      <td>4.0</td>\n",
       "    </tr>\n",
       "    <tr>\n",
       "      <th>584881</th>\n",
       "      <td>IL</td>\n",
       "      <td>230000.0</td>\n",
       "      <td>Individual</td>\n",
       "      <td>Cash</td>\n",
       "      <td>5.79</td>\n",
       "      <td>1979-10-01</td>\n",
       "      <td>10</td>\n",
       "      <td>Scot Forge Company</td>\n",
       "      <td>789.0</td>\n",
       "      <td>785.0</td>\n",
       "      <td>C</td>\n",
       "      <td>MORTGAGE</td>\n",
       "      <td>f</td>\n",
       "      <td>8.0</td>\n",
       "      <td>410.02</td>\n",
       "      <td>13.98</td>\n",
       "      <td>2010-09-01</td>\n",
       "      <td>2011-12-01</td>\n",
       "      <td>12000.0</td>\n",
       "      <td>1</td>\n",
       "      <td>13.0</td>\n",
       "      <td>0.0</td>\n",
       "      <td>0.0</td>\n",
       "      <td>home_improvement</td>\n",
       "      <td>13</td>\n",
       "      <td>36</td>\n",
       "      <td>13656.944287</td>\n",
       "      <td>Verified</td>\n",
       "      <td>600xx</td>\n",
       "      <td>11293</td>\n",
       "      <td>787.0</td>\n",
       "      <td>1656.944287</td>\n",
       "      <td>2010</td>\n",
       "      <td>2011</td>\n",
       "      <td>(0.009000000000000001, 7.05]</td>\n",
       "      <td>(120000.0, 9000000.0]</td>\n",
       "      <td>0</td>\n",
       "      <td>4.0</td>\n",
       "    </tr>\n",
       "    <tr>\n",
       "      <th>700214</th>\n",
       "      <td>NC</td>\n",
       "      <td>36000.0</td>\n",
       "      <td>Individual</td>\n",
       "      <td>Cash</td>\n",
       "      <td>3.57</td>\n",
       "      <td>1995-11-01</td>\n",
       "      <td>1</td>\n",
       "      <td>crosby trucking</td>\n",
       "      <td>749.0</td>\n",
       "      <td>745.0</td>\n",
       "      <td>E</td>\n",
       "      <td>RENT</td>\n",
       "      <td>f</td>\n",
       "      <td>8.0</td>\n",
       "      <td>530.33</td>\n",
       "      <td>16.40</td>\n",
       "      <td>2011-03-01</td>\n",
       "      <td>2014-05-01</td>\n",
       "      <td>15000.0</td>\n",
       "      <td>1</td>\n",
       "      <td>4.0</td>\n",
       "      <td>0.0</td>\n",
       "      <td>0.0</td>\n",
       "      <td>small_business</td>\n",
       "      <td>21</td>\n",
       "      <td>36</td>\n",
       "      <td>19154.844190</td>\n",
       "      <td>Verified</td>\n",
       "      <td>282xx</td>\n",
       "      <td>5599</td>\n",
       "      <td>747.0</td>\n",
       "      <td>4154.844190</td>\n",
       "      <td>2011</td>\n",
       "      <td>2014</td>\n",
       "      <td>(0.009000000000000001, 7.05]</td>\n",
       "      <td>(32000.0, 40000.0]</td>\n",
       "      <td>0</td>\n",
       "      <td>4.0</td>\n",
       "    </tr>\n",
       "    <tr>\n",
       "      <th>1034529</th>\n",
       "      <td>OK</td>\n",
       "      <td>78000.0</td>\n",
       "      <td>Individual</td>\n",
       "      <td>Cash</td>\n",
       "      <td>25.97</td>\n",
       "      <td>1995-03-01</td>\n",
       "      <td>10</td>\n",
       "      <td>Stillwater Medical Center</td>\n",
       "      <td>769.0</td>\n",
       "      <td>765.0</td>\n",
       "      <td>C</td>\n",
       "      <td>MORTGAGE</td>\n",
       "      <td>f</td>\n",
       "      <td>8.0</td>\n",
       "      <td>482.92</td>\n",
       "      <td>14.65</td>\n",
       "      <td>2011-11-01</td>\n",
       "      <td>2012-08-01</td>\n",
       "      <td>14000.0</td>\n",
       "      <td>0</td>\n",
       "      <td>13.0</td>\n",
       "      <td>0.0</td>\n",
       "      <td>0.0</td>\n",
       "      <td>debt_consolidation</td>\n",
       "      <td>13</td>\n",
       "      <td>36</td>\n",
       "      <td>3863.360000</td>\n",
       "      <td>Verified</td>\n",
       "      <td>746xx</td>\n",
       "      <td>6089</td>\n",
       "      <td>767.0</td>\n",
       "      <td>-10136.640000</td>\n",
       "      <td>2011</td>\n",
       "      <td>2012</td>\n",
       "      <td>(24.79, 28.8]</td>\n",
       "      <td>(70000.0, 80000.0]</td>\n",
       "      <td>0</td>\n",
       "      <td>4.0</td>\n",
       "    </tr>\n",
       "    <tr>\n",
       "      <th>1177411</th>\n",
       "      <td>NY</td>\n",
       "      <td>80000.0</td>\n",
       "      <td>Individual</td>\n",
       "      <td>Cash</td>\n",
       "      <td>26.07</td>\n",
       "      <td>1984-06-01</td>\n",
       "      <td>2</td>\n",
       "      <td>Analysis &amp; Design Application Co</td>\n",
       "      <td>744.0</td>\n",
       "      <td>740.0</td>\n",
       "      <td>C</td>\n",
       "      <td>OWN</td>\n",
       "      <td>f</td>\n",
       "      <td>8.0</td>\n",
       "      <td>417.81</td>\n",
       "      <td>15.31</td>\n",
       "      <td>2012-04-01</td>\n",
       "      <td>2013-04-01</td>\n",
       "      <td>12000.0</td>\n",
       "      <td>1</td>\n",
       "      <td>12.0</td>\n",
       "      <td>0.0</td>\n",
       "      <td>0.0</td>\n",
       "      <td>wedding</td>\n",
       "      <td>13</td>\n",
       "      <td>36</td>\n",
       "      <td>13606.151561</td>\n",
       "      <td>Not Verified</td>\n",
       "      <td>117xx</td>\n",
       "      <td>10166</td>\n",
       "      <td>742.0</td>\n",
       "      <td>1606.151561</td>\n",
       "      <td>2012</td>\n",
       "      <td>2013</td>\n",
       "      <td>(24.79, 28.8]</td>\n",
       "      <td>(70000.0, 80000.0]</td>\n",
       "      <td>0</td>\n",
       "      <td>4.0</td>\n",
       "    </tr>\n",
       "    <tr>\n",
       "      <th>1185038</th>\n",
       "      <td>CA</td>\n",
       "      <td>80000.0</td>\n",
       "      <td>Individual</td>\n",
       "      <td>Cash</td>\n",
       "      <td>2.09</td>\n",
       "      <td>2003-08-01</td>\n",
       "      <td>5</td>\n",
       "      <td>JR International Distributors Inc</td>\n",
       "      <td>744.0</td>\n",
       "      <td>740.0</td>\n",
       "      <td>C</td>\n",
       "      <td>RENT</td>\n",
       "      <td>f</td>\n",
       "      <td>8.0</td>\n",
       "      <td>141.21</td>\n",
       "      <td>16.29</td>\n",
       "      <td>2012-03-01</td>\n",
       "      <td>2012-11-01</td>\n",
       "      <td>4000.0</td>\n",
       "      <td>1</td>\n",
       "      <td>5.0</td>\n",
       "      <td>0.0</td>\n",
       "      <td>0.0</td>\n",
       "      <td>small_business</td>\n",
       "      <td>15</td>\n",
       "      <td>36</td>\n",
       "      <td>4400.477913</td>\n",
       "      <td>Verified</td>\n",
       "      <td>925xx</td>\n",
       "      <td>3135</td>\n",
       "      <td>742.0</td>\n",
       "      <td>400.477913</td>\n",
       "      <td>2012</td>\n",
       "      <td>2012</td>\n",
       "      <td>(0.009000000000000001, 7.05]</td>\n",
       "      <td>(70000.0, 80000.0]</td>\n",
       "      <td>0</td>\n",
       "      <td>4.0</td>\n",
       "    </tr>\n",
       "    <tr>\n",
       "      <th>1246002</th>\n",
       "      <td>NJ</td>\n",
       "      <td>80000.0</td>\n",
       "      <td>Individual</td>\n",
       "      <td>Cash</td>\n",
       "      <td>24.84</td>\n",
       "      <td>1998-12-01</td>\n",
       "      <td>10</td>\n",
       "      <td>John Wiley &amp; Sons Inc</td>\n",
       "      <td>744.0</td>\n",
       "      <td>740.0</td>\n",
       "      <td>D</td>\n",
       "      <td>RENT</td>\n",
       "      <td>f</td>\n",
       "      <td>8.0</td>\n",
       "      <td>483.13</td>\n",
       "      <td>17.27</td>\n",
       "      <td>2012-04-01</td>\n",
       "      <td>2013-01-01</td>\n",
       "      <td>13500.0</td>\n",
       "      <td>1</td>\n",
       "      <td>5.0</td>\n",
       "      <td>0.0</td>\n",
       "      <td>0.0</td>\n",
       "      <td>credit_card</td>\n",
       "      <td>16</td>\n",
       "      <td>36</td>\n",
       "      <td>14777.550384</td>\n",
       "      <td>Verified</td>\n",
       "      <td>074xx</td>\n",
       "      <td>4870</td>\n",
       "      <td>742.0</td>\n",
       "      <td>1277.550384</td>\n",
       "      <td>2012</td>\n",
       "      <td>2013</td>\n",
       "      <td>(24.79, 28.8]</td>\n",
       "      <td>(70000.0, 80000.0]</td>\n",
       "      <td>0</td>\n",
       "      <td>4.0</td>\n",
       "    </tr>\n",
       "    <tr>\n",
       "      <th>1393728</th>\n",
       "      <td>CT</td>\n",
       "      <td>80000.0</td>\n",
       "      <td>Individual</td>\n",
       "      <td>Cash</td>\n",
       "      <td>17.76</td>\n",
       "      <td>1988-09-01</td>\n",
       "      <td>10</td>\n",
       "      <td>dept of corrections</td>\n",
       "      <td>794.0</td>\n",
       "      <td>790.0</td>\n",
       "      <td>C</td>\n",
       "      <td>MORTGAGE</td>\n",
       "      <td>f</td>\n",
       "      <td>8.0</td>\n",
       "      <td>48.75</td>\n",
       "      <td>15.31</td>\n",
       "      <td>2012-08-01</td>\n",
       "      <td>2013-01-01</td>\n",
       "      <td>1400.0</td>\n",
       "      <td>1</td>\n",
       "      <td>16.0</td>\n",
       "      <td>0.0</td>\n",
       "      <td>0.0</td>\n",
       "      <td>credit_card</td>\n",
       "      <td>12</td>\n",
       "      <td>36</td>\n",
       "      <td>1485.626251</td>\n",
       "      <td>Verified</td>\n",
       "      <td>067xx</td>\n",
       "      <td>8735</td>\n",
       "      <td>792.0</td>\n",
       "      <td>85.626251</td>\n",
       "      <td>2012</td>\n",
       "      <td>2013</td>\n",
       "      <td>(17.05, 19.35]</td>\n",
       "      <td>(70000.0, 80000.0]</td>\n",
       "      <td>0</td>\n",
       "      <td>4.0</td>\n",
       "    </tr>\n",
       "    <tr>\n",
       "      <th>1394603</th>\n",
       "      <td>MO</td>\n",
       "      <td>30000.0</td>\n",
       "      <td>Individual</td>\n",
       "      <td>Cash</td>\n",
       "      <td>30.76</td>\n",
       "      <td>1999-08-01</td>\n",
       "      <td>1</td>\n",
       "      <td>warrensburg chrysler</td>\n",
       "      <td>754.0</td>\n",
       "      <td>750.0</td>\n",
       "      <td>C</td>\n",
       "      <td>MORTGAGE</td>\n",
       "      <td>f</td>\n",
       "      <td>8.0</td>\n",
       "      <td>191.50</td>\n",
       "      <td>15.31</td>\n",
       "      <td>2012-07-01</td>\n",
       "      <td>2013-03-01</td>\n",
       "      <td>5500.0</td>\n",
       "      <td>0</td>\n",
       "      <td>9.0</td>\n",
       "      <td>0.0</td>\n",
       "      <td>0.0</td>\n",
       "      <td>home_improvement</td>\n",
       "      <td>12</td>\n",
       "      <td>36</td>\n",
       "      <td>1304.970000</td>\n",
       "      <td>Not Verified</td>\n",
       "      <td>647xx</td>\n",
       "      <td>4718</td>\n",
       "      <td>752.0</td>\n",
       "      <td>-4195.030000</td>\n",
       "      <td>2012</td>\n",
       "      <td>2013</td>\n",
       "      <td>(28.8, 999.0]</td>\n",
       "      <td>(1199.999, 32000.0]</td>\n",
       "      <td>0</td>\n",
       "      <td>4.0</td>\n",
       "    </tr>\n",
       "  </tbody>\n",
       "</table>\n",
       "</div>"
      ],
      "text/plain": [
       "        addr_state  annual_inc application_type disbursement_method    dti  \\\n",
       "id                                                                           \n",
       "533380          MA     33000.0       Individual                Cash  14.94   \n",
       "657025          CO     27600.0       Individual                Cash  16.83   \n",
       "666496          IL     35000.0       Individual                Cash  24.75   \n",
       "696388          MI     82000.0       Individual                Cash  14.59   \n",
       "766671          FL    146000.0       Individual                Cash   9.96   \n",
       "884507          MI     30000.0       Individual                Cash  22.96   \n",
       "1368779         KY    218000.0       Individual                Cash   1.07   \n",
       "1587833         MI     82000.0       Individual                Cash  18.59   \n",
       "353370          CO     42000.0       Individual                Cash  23.63   \n",
       "428884          MI     30000.0       Individual                Cash   4.28   \n",
       "584881          IL    230000.0       Individual                Cash   5.79   \n",
       "700214          NC     36000.0       Individual                Cash   3.57   \n",
       "1034529         OK     78000.0       Individual                Cash  25.97   \n",
       "1177411         NY     80000.0       Individual                Cash  26.07   \n",
       "1185038         CA     80000.0       Individual                Cash   2.09   \n",
       "1246002         NJ     80000.0       Individual                Cash  24.84   \n",
       "1393728         CT     80000.0       Individual                Cash  17.76   \n",
       "1394603         MO     30000.0       Individual                Cash  30.76   \n",
       "\n",
       "        earliest_cr_line  emp_length                          emp_title  \\\n",
       "id                                                                        \n",
       "533380        1997-10-01          10                       cvs pharmacy   \n",
       "657025        1976-12-01           7             Alamosa Public Schools   \n",
       "666496        1996-12-01           7                     Roys Body Shop   \n",
       "696388        1994-01-01          10          Northville Public Schools   \n",
       "766671        1996-07-01          10             Marriott International   \n",
       "884507        1978-09-01           8                golden brown bakery   \n",
       "1368779       1985-10-01          10      Presbyterian Publishing Corp.   \n",
       "1587833       2000-06-01          10                             kroger   \n",
       "353370        1994-04-01           2            Jefferson count schools   \n",
       "428884        1986-11-01           0                               None   \n",
       "584881        1979-10-01          10                 Scot Forge Company   \n",
       "700214        1995-11-01           1                    crosby trucking   \n",
       "1034529       1995-03-01          10          Stillwater Medical Center   \n",
       "1177411       1984-06-01           2   Analysis & Design Application Co   \n",
       "1185038       2003-08-01           5  JR International Distributors Inc   \n",
       "1246002       1998-12-01          10              John Wiley & Sons Inc   \n",
       "1393728       1988-09-01          10                dept of corrections   \n",
       "1394603       1999-08-01           1               warrensburg chrysler   \n",
       "\n",
       "         fico_range_high  fico_range_low grade home_ownership  \\\n",
       "id                                                              \n",
       "533380             744.0           740.0     D       MORTGAGE   \n",
       "657025             769.0           765.0     D       MORTGAGE   \n",
       "666496             744.0           740.0     D            OWN   \n",
       "696388             799.0           795.0     D       MORTGAGE   \n",
       "766671             749.0           745.0     E       MORTGAGE   \n",
       "884507             759.0           755.0     D            OWN   \n",
       "1368779            749.0           745.0     E       MORTGAGE   \n",
       "1587833            754.0           750.0     D       MORTGAGE   \n",
       "353370             744.0           740.0     C           RENT   \n",
       "428884             754.0           750.0     C       MORTGAGE   \n",
       "584881             789.0           785.0     C       MORTGAGE   \n",
       "700214             749.0           745.0     E           RENT   \n",
       "1034529            769.0           765.0     C       MORTGAGE   \n",
       "1177411            744.0           740.0     C            OWN   \n",
       "1185038            744.0           740.0     C           RENT   \n",
       "1246002            744.0           740.0     D           RENT   \n",
       "1393728            794.0           790.0     C       MORTGAGE   \n",
       "1394603            754.0           750.0     C       MORTGAGE   \n",
       "\n",
       "        initial_list_status  inq_last_6mths  installment  int_rate    issue_d  \\\n",
       "id                                                                              \n",
       "533380                    f             8.0       122.45     16.32 2010-06-01   \n",
       "657025                    f             8.0       333.03     15.65 2011-01-01   \n",
       "666496                    f             8.0       124.48     15.28 2011-02-01   \n",
       "696388                    f             8.0       335.13     15.28 2011-03-01   \n",
       "766671                    f             8.0       639.54     17.88 2011-06-01   \n",
       "884507                    f             8.0        49.46     16.77 2011-09-01   \n",
       "1368779                   f             8.0       683.25     21.49 2012-07-01   \n",
       "1587833                   w             8.0       649.21     19.05 2012-10-01   \n",
       "353370                    f             8.0       165.86     11.91 2008-08-01   \n",
       "428884                    f             8.0       135.09     13.16 2009-07-01   \n",
       "584881                    f             8.0       410.02     13.98 2010-09-01   \n",
       "700214                    f             8.0       530.33     16.40 2011-03-01   \n",
       "1034529                   f             8.0       482.92     14.65 2011-11-01   \n",
       "1177411                   f             8.0       417.81     15.31 2012-04-01   \n",
       "1185038                   f             8.0       141.21     16.29 2012-03-01   \n",
       "1246002                   f             8.0       483.13     17.27 2012-04-01   \n",
       "1393728                   f             8.0        48.75     15.31 2012-08-01   \n",
       "1394603                   f             8.0       191.50     15.31 2012-07-01   \n",
       "\n",
       "        last_pymnt_d  loan_amnt  loan_status  open_acc  pub_rec  \\\n",
       "id                                                                \n",
       "533380    2011-12-01     5000.0            1      20.0      0.0   \n",
       "657025    2016-02-01    13800.0            1      11.0      0.0   \n",
       "666496    2014-03-01     5200.0            1       7.0      0.0   \n",
       "696388    2016-03-01    14000.0            1      10.0      0.0   \n",
       "766671    2012-03-01    35000.0            1       9.0      0.0   \n",
       "884507    2016-10-01     2000.0            1       6.0      0.0   \n",
       "1368779   2012-12-01    25000.0            1       5.0      0.0   \n",
       "1587833   2017-03-01    25000.0            1      11.0      0.0   \n",
       "353370    2010-01-01     5000.0            1      19.0      0.0   \n",
       "428884    2010-12-01     4000.0            1      14.0      0.0   \n",
       "584881    2011-12-01    12000.0            1      13.0      0.0   \n",
       "700214    2014-05-01    15000.0            1       4.0      0.0   \n",
       "1034529   2012-08-01    14000.0            0      13.0      0.0   \n",
       "1177411   2013-04-01    12000.0            1      12.0      0.0   \n",
       "1185038   2012-11-01     4000.0            1       5.0      0.0   \n",
       "1246002   2013-01-01    13500.0            1       5.0      0.0   \n",
       "1393728   2013-01-01     1400.0            1      16.0      0.0   \n",
       "1394603   2013-03-01     5500.0            0       9.0      0.0   \n",
       "\n",
       "         pub_rec_bankruptcies             purpose  sub_grade  term  \\\n",
       "id                                                                   \n",
       "533380                    0.0    home_improvement         20    60   \n",
       "657025                    0.0                 car         19    60   \n",
       "666496                    0.0                 car         18    60   \n",
       "696388                    0.0    home_improvement         18    60   \n",
       "766671                    0.0  debt_consolidation         25    60   \n",
       "884507                    0.0               other         17    60   \n",
       "1368779                   0.0  debt_consolidation         23    60   \n",
       "1587833                   0.0  debt_consolidation         19    60   \n",
       "353370                    0.0         credit_card         13    36   \n",
       "428884                    0.0         educational         13    36   \n",
       "584881                    0.0    home_improvement         13    36   \n",
       "700214                    0.0      small_business         21    36   \n",
       "1034529                   0.0  debt_consolidation         13    36   \n",
       "1177411                   0.0             wedding         13    36   \n",
       "1185038                   0.0      small_business         15    36   \n",
       "1246002                   0.0         credit_card         16    36   \n",
       "1393728                   0.0         credit_card         12    36   \n",
       "1394603                   0.0    home_improvement         12    36   \n",
       "\n",
       "          total_pymnt verification_status zip_code  days_since_first_credit  \\\n",
       "id                                                                            \n",
       "533380    6048.103124            Verified    020xx                     4626   \n",
       "657025   19981.643198            Verified    811xx                    12449   \n",
       "666496    7073.703155        Not Verified    629xx                     5175   \n",
       "696388   20105.810027            Verified    481xx                     6268   \n",
       "766671   28489.760904            Verified    331xx                     5448   \n",
       "884507    2967.427698        Not Verified    490xx                    12053   \n",
       "1368779  27195.602034            Verified    402xx                     9770   \n",
       "1587833  38656.019830            Verified    481xx                     4505   \n",
       "353370    5678.670000        Not Verified    805xx                     5236   \n",
       "428884    4466.996068        Not Verified    482xx                     8278   \n",
       "584881   13656.944287            Verified    600xx                    11293   \n",
       "700214   19154.844190            Verified    282xx                     5599   \n",
       "1034529   3863.360000            Verified    746xx                     6089   \n",
       "1177411  13606.151561        Not Verified    117xx                    10166   \n",
       "1185038   4400.477913            Verified    925xx                     3135   \n",
       "1246002  14777.550384            Verified    074xx                     4870   \n",
       "1393728   1485.626251            Verified    067xx                     8735   \n",
       "1394603   1304.970000        Not Verified    647xx                     4718   \n",
       "\n",
       "         fico_score_average           PnL  years  default_year  \\\n",
       "id                                                               \n",
       "533380                742.0   1048.103124   2010          2011   \n",
       "657025                767.0   6181.643198   2011          2016   \n",
       "666496                742.0   1873.703155   2011          2014   \n",
       "696388                797.0   6105.810027   2011          2016   \n",
       "766671                747.0  -6510.239096   2011          2012   \n",
       "884507                757.0    967.427698   2011          2016   \n",
       "1368779               747.0   2195.602034   2012          2012   \n",
       "1587833               752.0  13656.019830   2012          2017   \n",
       "353370                742.0    678.670000   2008          2010   \n",
       "428884                752.0    466.996068   2009          2010   \n",
       "584881                787.0   1656.944287   2010          2011   \n",
       "700214                747.0   4154.844190   2011          2014   \n",
       "1034529               767.0 -10136.640000   2011          2012   \n",
       "1177411               742.0   1606.151561   2012          2013   \n",
       "1185038               742.0    400.477913   2012          2012   \n",
       "1246002               742.0   1277.550384   2012          2013   \n",
       "1393728               792.0     85.626251   2012          2013   \n",
       "1394603               752.0  -4195.030000   2012          2013   \n",
       "\n",
       "                              dti_cut                inc_cut  emp_na  inq  \n",
       "id                                                                         \n",
       "533380                 (14.83, 17.05]     (32000.0, 40000.0]       0  4.0  \n",
       "657025                 (14.83, 17.05]    (1199.999, 32000.0]       0  4.0  \n",
       "666496                 (21.84, 24.79]     (32000.0, 40000.0]       0  4.0  \n",
       "696388                 (12.59, 14.83]     (80000.0, 96000.0]       0  4.0  \n",
       "766671                  (7.05, 10.13]  (120000.0, 9000000.0]       0  4.0  \n",
       "884507                 (21.84, 24.79]    (1199.999, 32000.0]       0  4.0  \n",
       "1368779  (0.009000000000000001, 7.05]  (120000.0, 9000000.0]       0  4.0  \n",
       "1587833                (17.05, 19.35]     (80000.0, 96000.0]       0  4.0  \n",
       "353370                 (21.84, 24.79]     (40000.0, 47840.0]       0  4.0  \n",
       "428884   (0.009000000000000001, 7.05]    (1199.999, 32000.0]       0  4.0  \n",
       "584881   (0.009000000000000001, 7.05]  (120000.0, 9000000.0]       0  4.0  \n",
       "700214   (0.009000000000000001, 7.05]     (32000.0, 40000.0]       0  4.0  \n",
       "1034529                 (24.79, 28.8]     (70000.0, 80000.0]       0  4.0  \n",
       "1177411                 (24.79, 28.8]     (70000.0, 80000.0]       0  4.0  \n",
       "1185038  (0.009000000000000001, 7.05]     (70000.0, 80000.0]       0  4.0  \n",
       "1246002                 (24.79, 28.8]     (70000.0, 80000.0]       0  4.0  \n",
       "1393728                (17.05, 19.35]     (70000.0, 80000.0]       0  4.0  \n",
       "1394603                 (28.8, 999.0]    (1199.999, 32000.0]       0  4.0  "
      ]
     },
     "execution_count": 64,
     "metadata": {},
     "output_type": "execute_result"
    }
   ],
   "source": [
    "approved.query(\"inq_last_6mths==8\")"
   ]
  },
  {
   "cell_type": "markdown",
   "metadata": {},
   "source": [
    "## PnL\n",
    "### How much of principal is typically paid off before default? Broken out by loan grade?"
   ]
  },
  {
   "cell_type": "code",
   "execution_count": 65,
   "metadata": {},
   "outputs": [
    {
     "data": {
      "text/plain": [
       "grade\n",
       "A    1001.756625\n",
       "B    1167.457566\n",
       "C    1278.154733\n",
       "D    1271.603028\n",
       "E    1867.478122\n",
       "Name: PnL, dtype: float64"
      ]
     },
     "execution_count": 65,
     "metadata": {},
     "output_type": "execute_result"
    }
   ],
   "source": [
    "approved.groupby('grade')['PnL'].mean()"
   ]
  },
  {
   "cell_type": "code",
   "execution_count": 66,
   "metadata": {
    "scrolled": true
   },
   "outputs": [
    {
     "data": {
      "text/plain": [
       "[Text(0.5, 1.0, 'Profit/Loss by Grade'),\n",
       " Text(0.5, 0, 'Grade'),\n",
       " Text(0, 0.5, 'Average Profit $')]"
      ]
     },
     "execution_count": 66,
     "metadata": {},
     "output_type": "execute_result"
    },
    {
     "data": {
      "image/png": "[encoded data removed]",
      "text/plain": [
       "<Figure size 432x288 with 1 Axes>"
      ]
     },
     "metadata": {
      "needs_background": "light"
     },
     "output_type": "display_data"
    }
   ],
   "source": [
    "my_order = ['A','B','C','D','E']\n",
    "fig = sns.barplot(y='PnL',x='grade',data=approved,order=my_order, palette='rocket_r')\n",
    "fig.set(title = 'Profit/Loss by Grade', xlabel = 'Grade', ylabel = 'Average Profit $')"
   ]
  },
  {
   "cell_type": "markdown",
   "metadata": {},
   "source": [
    "## Loan Duration\n",
    "### True life of loans [last_pmnt_d - issue_d] vs term (36/60)"
   ]
  },
  {
   "cell_type": "code",
   "execution_count": 67,
   "metadata": {},
   "outputs": [],
   "source": [
    "approved['tru_life']=approved['last_pymnt_d']-approved['issue_d']\n",
    "approved['tru_months'] = approved['tru_life'].dt.days / 30.4167"
   ]
  },
  {
   "cell_type": "code",
   "execution_count": 68,
   "metadata": {},
   "outputs": [
    {
     "data": {
      "text/plain": [
       "count    660896.000000\n",
       "mean         25.316971\n",
       "std          12.093485\n",
       "min           0.000000\n",
       "25%          15.057518\n",
       "50%          27.024628\n",
       "75%          36.032837\n",
       "max          70.027321\n",
       "Name: tru_months, dtype: float64"
      ]
     },
     "execution_count": 68,
     "metadata": {},
     "output_type": "execute_result"
    }
   ],
   "source": [
    "approved['tru_months'].describe()"
   ]
  },
  {
   "cell_type": "code",
   "execution_count": 69,
   "metadata": {},
   "outputs": [],
   "source": [
    "approved['true']=approved['tru_months']/approved['term']"
   ]
  },
  {
   "cell_type": "code",
   "execution_count": 71,
   "metadata": {},
   "outputs": [
    {
     "data": {
      "text/plain": [
       "(0.0, 1.0)"
      ]
     },
     "execution_count": 71,
     "metadata": {},
     "output_type": "execute_result"
    },
    {
     "data": {
      "image/png": "[encoded data removed]",
      "text/plain": [
       "<Figure size 432x288 with 1 Axes>"
      ]
     },
     "metadata": {
      "needs_background": "light"
     },
     "output_type": "display_data"
    }
   ],
   "source": [
    "my_order = ['A','B','C','D','E']\n",
    "plot = sns.barplot(x='grade', y='true',hue='loan_status', data=approved, palette='hls', order=my_order)\n",
    "plt.title('Loan Duration')\n",
    "my_labels=['Charged Off', 'Fully Paid']\n",
    "handles, labels = plot.get_legend_handles_labels()\n",
    "handles = [handles[0], handles[1]]\n",
    "labels = my_labels\n",
    "plt.legend(handles,labels, title='Loan Status', loc=3)\n",
    "plt.ylabel('Percent to Loan Completion (%)')\n",
    "plt.xlabel('Grade')\n",
    "plt.title('Loan Duration by Status')\n",
    "plt.ylim(0,1)\n",
    "\n",
    "#prepayment risk vs default risk"
   ]
  },
  {
   "cell_type": "code",
   "execution_count": 71,
   "metadata": {},
   "outputs": [
    {
     "data": {
      "text/plain": [
       "<matplotlib.legend.Legend at 0x7f9512571700>"
      ]
     },
     "execution_count": 71,
     "metadata": {},
     "output_type": "execute_result"
    },
    {
     "data": {
      "image/png": "[encoded data removed]",
      "text/plain": [
       "<Figure size 432x288 with 1 Axes>"
      ]
     },
     "metadata": {
      "needs_background": "light"
     },
     "output_type": "display_data"
    }
   ],
   "source": [
    "my_order = ['A','B','C','D','E']\n",
    "fig = sns.barplot(x='grade', y='tru_months', hue='term', data=approved, palette='hls', order=my_order)\n",
    "fig.set(title = 'Loan Duration by Term', xlabel = 'Grade', ylabel = 'Months')\n",
    "fig.legend(title = 'Loan Term', loc = 'lower left')\n",
    "#save"
   ]
  },
  {
   "cell_type": "code",
   "execution_count": 72,
   "metadata": {},
   "outputs": [
    {
     "data": {
      "text/plain": [
       "<matplotlib.legend.Legend at 0x7f9542040250>"
      ]
     },
     "execution_count": 72,
     "metadata": {},
     "output_type": "execute_result"
    },
    {
     "data": {
      "image/png": "[encoded data removed]",
      "text/plain": [
       "<Figure size 432x288 with 1 Axes>"
      ]
     },
     "metadata": {
      "needs_background": "light"
     },
     "output_type": "display_data"
    }
   ],
   "source": [
    "my_order = ['A','B','C','D','E']\n",
    "sns.boxplot(x='grade', y='tru_months', hue='term', data=approved, palette='hls', order=my_order)\n",
    "plt.title('Loan Duration')\n",
    "plt.legend(loc=1)"
   ]
  },
  {
   "cell_type": "code",
   "execution_count": 73,
   "metadata": {},
   "outputs": [
    {
     "data": {
      "text/html": [
       "<div>\n",
       "<style scoped>\n",
       "    .dataframe tbody tr th:only-of-type {\n",
       "        vertical-align: middle;\n",
       "    }\n",
       "\n",
       "    .dataframe tbody tr th {\n",
       "        vertical-align: top;\n",
       "    }\n",
       "\n",
       "    .dataframe thead th {\n",
       "        text-align: right;\n",
       "    }\n",
       "</style>\n",
       "<table border=\"1\" class=\"dataframe\">\n",
       "  <thead>\n",
       "    <tr style=\"text-align: right;\">\n",
       "      <th></th>\n",
       "      <th></th>\n",
       "      <th>tru_months</th>\n",
       "    </tr>\n",
       "    <tr>\n",
       "      <th>term</th>\n",
       "      <th>grade</th>\n",
       "      <th></th>\n",
       "    </tr>\n",
       "  </thead>\n",
       "  <tbody>\n",
       "    <tr>\n",
       "      <th rowspan=\"5\" valign=\"top\">36</th>\n",
       "      <th>A</th>\n",
       "      <td>29.030105</td>\n",
       "    </tr>\n",
       "    <tr>\n",
       "      <th>B</th>\n",
       "      <td>27.057505</td>\n",
       "    </tr>\n",
       "    <tr>\n",
       "      <th>C</th>\n",
       "      <td>25.052027</td>\n",
       "    </tr>\n",
       "    <tr>\n",
       "      <th>D</th>\n",
       "      <td>23.046550</td>\n",
       "    </tr>\n",
       "    <tr>\n",
       "      <th>E</th>\n",
       "      <td>22.027373</td>\n",
       "    </tr>\n",
       "    <tr>\n",
       "      <th rowspan=\"5\" valign=\"top\">60</th>\n",
       "      <th>A</th>\n",
       "      <td>41.062969</td>\n",
       "    </tr>\n",
       "    <tr>\n",
       "      <th>B</th>\n",
       "      <td>37.972561</td>\n",
       "    </tr>\n",
       "    <tr>\n",
       "      <th>C</th>\n",
       "      <td>34.027360</td>\n",
       "    </tr>\n",
       "    <tr>\n",
       "      <th>D</th>\n",
       "      <td>31.002706</td>\n",
       "    </tr>\n",
       "    <tr>\n",
       "      <th>E</th>\n",
       "      <td>29.030105</td>\n",
       "    </tr>\n",
       "  </tbody>\n",
       "</table>\n",
       "</div>"
      ],
      "text/plain": [
       "            tru_months\n",
       "term grade            \n",
       "36   A       29.030105\n",
       "     B       27.057505\n",
       "     C       25.052027\n",
       "     D       23.046550\n",
       "     E       22.027373\n",
       "60   A       41.062969\n",
       "     B       37.972561\n",
       "     C       34.027360\n",
       "     D       31.002706\n",
       "     E       29.030105"
      ]
     },
     "execution_count": 73,
     "metadata": {},
     "output_type": "execute_result"
    }
   ],
   "source": [
    "approved.groupby(['term','grade'])[['tru_months']].median()"
   ]
  },
  {
   "cell_type": "code",
   "execution_count": 74,
   "metadata": {},
   "outputs": [
    {
     "data": {
      "text/html": [
       "<div>\n",
       "<style scoped>\n",
       "    .dataframe tbody tr th:only-of-type {\n",
       "        vertical-align: middle;\n",
       "    }\n",
       "\n",
       "    .dataframe tbody tr th {\n",
       "        vertical-align: top;\n",
       "    }\n",
       "\n",
       "    .dataframe thead th {\n",
       "        text-align: right;\n",
       "    }\n",
       "</style>\n",
       "<table border=\"1\" class=\"dataframe\">\n",
       "  <thead>\n",
       "    <tr style=\"text-align: right;\">\n",
       "      <th></th>\n",
       "      <th>tru_months</th>\n",
       "    </tr>\n",
       "    <tr>\n",
       "      <th>term</th>\n",
       "      <th></th>\n",
       "    </tr>\n",
       "  </thead>\n",
       "  <tbody>\n",
       "    <tr>\n",
       "      <th>36</th>\n",
       "      <td>26.958875</td>\n",
       "    </tr>\n",
       "    <tr>\n",
       "      <th>60</th>\n",
       "      <td>33.041060</td>\n",
       "    </tr>\n",
       "  </tbody>\n",
       "</table>\n",
       "</div>"
      ],
      "text/plain": [
       "      tru_months\n",
       "term            \n",
       "36     26.958875\n",
       "60     33.041060"
      ]
     },
     "execution_count": 74,
     "metadata": {},
     "output_type": "execute_result"
    }
   ],
   "source": [
    "approved.groupby('term')[['tru_months']].median()"
   ]
  },
  {
   "cell_type": "code",
   "execution_count": 75,
   "metadata": {},
   "outputs": [
    {
     "data": {
      "text/plain": [
       "<AxesSubplot:xlabel='term', ylabel='tru_months'>"
      ]
     },
     "execution_count": 75,
     "metadata": {},
     "output_type": "execute_result"
    },
    {
     "data": {
      "image/png": "[encoded data removed]",
      "text/plain": [
       "<Figure size 432x288 with 1 Axes>"
      ]
     },
     "metadata": {
      "needs_background": "light"
     },
     "output_type": "display_data"
    }
   ],
   "source": [
    "sns.barplot(x='term', y='tru_months', hue='loan_status', data=approved, palette='hls')"
   ]
  },
  {
   "cell_type": "markdown",
   "metadata": {},
   "source": [
    "## Location: by Zip Code and State"
   ]
  },
  {
   "cell_type": "code",
   "execution_count": 76,
   "metadata": {},
   "outputs": [
    {
     "data": {
      "text/plain": [
       "945xx    7641\n",
       "112xx    7416\n",
       "750xx    7032\n",
       "606xx    6896\n",
       "100xx    6154\n",
       "300xx    6035\n",
       "900xx    6029\n",
       "331xx    5797\n",
       "070xx    5655\n",
       "770xx    5443\n",
       "Name: zip_code, dtype: int64"
      ]
     },
     "execution_count": 76,
     "metadata": {},
     "output_type": "execute_result"
    }
   ],
   "source": [
    "approved['zip_code'].value_counts().head(10)"
   ]
  },
  {
   "cell_type": "code",
   "execution_count": 77,
   "metadata": {},
   "outputs": [
    {
     "data": {
      "text/html": [
       "<div>\n",
       "<style scoped>\n",
       "    .dataframe tbody tr th:only-of-type {\n",
       "        vertical-align: middle;\n",
       "    }\n",
       "\n",
       "    .dataframe tbody tr th {\n",
       "        vertical-align: top;\n",
       "    }\n",
       "\n",
       "    .dataframe thead th {\n",
       "        text-align: right;\n",
       "    }\n",
       "</style>\n",
       "<table border=\"1\" class=\"dataframe\">\n",
       "  <thead>\n",
       "    <tr style=\"text-align: right;\">\n",
       "      <th></th>\n",
       "      <th>default_rate</th>\n",
       "      <th>count</th>\n",
       "    </tr>\n",
       "    <tr>\n",
       "      <th>zip_code</th>\n",
       "      <th></th>\n",
       "      <th></th>\n",
       "    </tr>\n",
       "  </thead>\n",
       "  <tbody>\n",
       "    <tr>\n",
       "      <th>362xx</th>\n",
       "      <td>0.200000</td>\n",
       "      <td>280</td>\n",
       "    </tr>\n",
       "    <tr>\n",
       "      <th>994xx</th>\n",
       "      <td>0.200000</td>\n",
       "      <td>30</td>\n",
       "    </tr>\n",
       "    <tr>\n",
       "      <th>723xx</th>\n",
       "      <td>0.199203</td>\n",
       "      <td>251</td>\n",
       "    </tr>\n",
       "    <tr>\n",
       "      <th>386xx</th>\n",
       "      <td>0.199187</td>\n",
       "      <td>492</td>\n",
       "    </tr>\n",
       "    <tr>\n",
       "      <th>178xx</th>\n",
       "      <td>0.196552</td>\n",
       "      <td>290</td>\n",
       "    </tr>\n",
       "    <tr>\n",
       "      <th>...</th>\n",
       "      <td>...</td>\n",
       "      <td>...</td>\n",
       "    </tr>\n",
       "    <tr>\n",
       "      <th>822xx</th>\n",
       "      <td>0.060000</td>\n",
       "      <td>50</td>\n",
       "    </tr>\n",
       "    <tr>\n",
       "      <th>865xx</th>\n",
       "      <td>0.053571</td>\n",
       "      <td>56</td>\n",
       "    </tr>\n",
       "    <tr>\n",
       "      <th>823xx</th>\n",
       "      <td>0.050000</td>\n",
       "      <td>40</td>\n",
       "    </tr>\n",
       "    <tr>\n",
       "      <th>676xx</th>\n",
       "      <td>0.045455</td>\n",
       "      <td>88</td>\n",
       "    </tr>\n",
       "    <tr>\n",
       "      <th>878xx</th>\n",
       "      <td>0.038462</td>\n",
       "      <td>26</td>\n",
       "    </tr>\n",
       "  </tbody>\n",
       "</table>\n",
       "<p>789 rows × 2 columns</p>\n",
       "</div>"
      ],
      "text/plain": [
       "          default_rate  count\n",
       "zip_code                     \n",
       "362xx         0.200000    280\n",
       "994xx         0.200000     30\n",
       "723xx         0.199203    251\n",
       "386xx         0.199187    492\n",
       "178xx         0.196552    290\n",
       "...                ...    ...\n",
       "822xx         0.060000     50\n",
       "865xx         0.053571     56\n",
       "823xx         0.050000     40\n",
       "676xx         0.045455     88\n",
       "878xx         0.038462     26\n",
       "\n",
       "[789 rows x 2 columns]"
      ]
     },
     "execution_count": 77,
     "metadata": {},
     "output_type": "execute_result"
    }
   ],
   "source": [
    "default_zip = approved.groupby('zip_code').agg({'loan_status':['mean','count']})\n",
    "default_zip.sort_values(by=('loan_status','count'),ascending=False).head(20)\n",
    "default_zip.columns=['default_rate','count']\n",
    "default_zip.default_rate = 1 - default_zip.default_rate\n",
    "subset = default_zip.query(\"count>20 and default_rate<=.2\")\n",
    "subset.sort_values(by='default_rate',ascending=False)\n"
   ]
  },
  {
   "cell_type": "code",
   "execution_count": 90,
   "metadata": {},
   "outputs": [
    {
     "data": {
      "text/html": [
       "<div>\n",
       "<style scoped>\n",
       "    .dataframe tbody tr th:only-of-type {\n",
       "        vertical-align: middle;\n",
       "    }\n",
       "\n",
       "    .dataframe tbody tr th {\n",
       "        vertical-align: top;\n",
       "    }\n",
       "\n",
       "    .dataframe thead th {\n",
       "        text-align: right;\n",
       "    }\n",
       "</style>\n",
       "<table border=\"1\" class=\"dataframe\">\n",
       "  <thead>\n",
       "    <tr style=\"text-align: right;\">\n",
       "      <th></th>\n",
       "      <th>loan_status</th>\n",
       "    </tr>\n",
       "    <tr>\n",
       "      <th>addr_state</th>\n",
       "      <th></th>\n",
       "    </tr>\n",
       "  </thead>\n",
       "  <tbody>\n",
       "    <tr>\n",
       "      <th>IA</th>\n",
       "      <td>0.333333</td>\n",
       "    </tr>\n",
       "    <tr>\n",
       "      <th>NE</th>\n",
       "      <td>0.191744</td>\n",
       "    </tr>\n",
       "    <tr>\n",
       "      <th>MS</th>\n",
       "      <td>0.183218</td>\n",
       "    </tr>\n",
       "    <tr>\n",
       "      <th>NV</th>\n",
       "      <td>0.177083</td>\n",
       "    </tr>\n",
       "    <tr>\n",
       "      <th>AR</th>\n",
       "      <td>0.175842</td>\n",
       "    </tr>\n",
       "    <tr>\n",
       "      <th>OK</th>\n",
       "      <td>0.171555</td>\n",
       "    </tr>\n",
       "    <tr>\n",
       "      <th>AL</th>\n",
       "      <td>0.168669</td>\n",
       "    </tr>\n",
       "    <tr>\n",
       "      <th>TN</th>\n",
       "      <td>0.163995</td>\n",
       "    </tr>\n",
       "    <tr>\n",
       "      <th>LA</th>\n",
       "      <td>0.161705</td>\n",
       "    </tr>\n",
       "    <tr>\n",
       "      <th>FL</th>\n",
       "      <td>0.159488</td>\n",
       "    </tr>\n",
       "    <tr>\n",
       "      <th>NY</th>\n",
       "      <td>0.157492</td>\n",
       "    </tr>\n",
       "    <tr>\n",
       "      <th>SD</th>\n",
       "      <td>0.157394</td>\n",
       "    </tr>\n",
       "    <tr>\n",
       "      <th>MO</th>\n",
       "      <td>0.157256</td>\n",
       "    </tr>\n",
       "    <tr>\n",
       "      <th>NM</th>\n",
       "      <td>0.156613</td>\n",
       "    </tr>\n",
       "    <tr>\n",
       "      <th>IN</th>\n",
       "      <td>0.154398</td>\n",
       "    </tr>\n",
       "    <tr>\n",
       "      <th>ND</th>\n",
       "      <td>0.153595</td>\n",
       "    </tr>\n",
       "    <tr>\n",
       "      <th>NJ</th>\n",
       "      <td>0.151851</td>\n",
       "    </tr>\n",
       "    <tr>\n",
       "      <th>OH</th>\n",
       "      <td>0.149827</td>\n",
       "    </tr>\n",
       "    <tr>\n",
       "      <th>NC</th>\n",
       "      <td>0.149025</td>\n",
       "    </tr>\n",
       "    <tr>\n",
       "      <th>MD</th>\n",
       "      <td>0.148158</td>\n",
       "    </tr>\n",
       "    <tr>\n",
       "      <th>KY</th>\n",
       "      <td>0.147210</td>\n",
       "    </tr>\n",
       "    <tr>\n",
       "      <th>AZ</th>\n",
       "      <td>0.146172</td>\n",
       "    </tr>\n",
       "    <tr>\n",
       "      <th>MI</th>\n",
       "      <td>0.146165</td>\n",
       "    </tr>\n",
       "    <tr>\n",
       "      <th>CA</th>\n",
       "      <td>0.146013</td>\n",
       "    </tr>\n",
       "    <tr>\n",
       "      <th>PA</th>\n",
       "      <td>0.145152</td>\n",
       "    </tr>\n",
       "    <tr>\n",
       "      <th>MN</th>\n",
       "      <td>0.144751</td>\n",
       "    </tr>\n",
       "    <tr>\n",
       "      <th>HI</th>\n",
       "      <td>0.144621</td>\n",
       "    </tr>\n",
       "    <tr>\n",
       "      <th>DE</th>\n",
       "      <td>0.144068</td>\n",
       "    </tr>\n",
       "    <tr>\n",
       "      <th>VA</th>\n",
       "      <td>0.143046</td>\n",
       "    </tr>\n",
       "    <tr>\n",
       "      <th>RI</th>\n",
       "      <td>0.138099</td>\n",
       "    </tr>\n",
       "    <tr>\n",
       "      <th>AK</th>\n",
       "      <td>0.137931</td>\n",
       "    </tr>\n",
       "    <tr>\n",
       "      <th>TX</th>\n",
       "      <td>0.137741</td>\n",
       "    </tr>\n",
       "    <tr>\n",
       "      <th>UT</th>\n",
       "      <td>0.132543</td>\n",
       "    </tr>\n",
       "    <tr>\n",
       "      <th>MA</th>\n",
       "      <td>0.132151</td>\n",
       "    </tr>\n",
       "    <tr>\n",
       "      <th>GA</th>\n",
       "      <td>0.129085</td>\n",
       "    </tr>\n",
       "    <tr>\n",
       "      <th>CT</th>\n",
       "      <td>0.126706</td>\n",
       "    </tr>\n",
       "    <tr>\n",
       "      <th>WI</th>\n",
       "      <td>0.126268</td>\n",
       "    </tr>\n",
       "    <tr>\n",
       "      <th>IL</th>\n",
       "      <td>0.125684</td>\n",
       "    </tr>\n",
       "    <tr>\n",
       "      <th>MT</th>\n",
       "      <td>0.122332</td>\n",
       "    </tr>\n",
       "    <tr>\n",
       "      <th>WA</th>\n",
       "      <td>0.120602</td>\n",
       "    </tr>\n",
       "    <tr>\n",
       "      <th>SC</th>\n",
       "      <td>0.118019</td>\n",
       "    </tr>\n",
       "    <tr>\n",
       "      <th>OR</th>\n",
       "      <td>0.117984</td>\n",
       "    </tr>\n",
       "    <tr>\n",
       "      <th>CO</th>\n",
       "      <td>0.117231</td>\n",
       "    </tr>\n",
       "    <tr>\n",
       "      <th>KS</th>\n",
       "      <td>0.114627</td>\n",
       "    </tr>\n",
       "    <tr>\n",
       "      <th>WY</th>\n",
       "      <td>0.113195</td>\n",
       "    </tr>\n",
       "    <tr>\n",
       "      <th>WV</th>\n",
       "      <td>0.111771</td>\n",
       "    </tr>\n",
       "    <tr>\n",
       "      <th>ME</th>\n",
       "      <td>0.104790</td>\n",
       "    </tr>\n",
       "    <tr>\n",
       "      <th>VT</th>\n",
       "      <td>0.102308</td>\n",
       "    </tr>\n",
       "    <tr>\n",
       "      <th>NH</th>\n",
       "      <td>0.098734</td>\n",
       "    </tr>\n",
       "    <tr>\n",
       "      <th>DC</th>\n",
       "      <td>0.093588</td>\n",
       "    </tr>\n",
       "    <tr>\n",
       "      <th>ID</th>\n",
       "      <td>0.000000</td>\n",
       "    </tr>\n",
       "  </tbody>\n",
       "</table>\n",
       "</div>"
      ],
      "text/plain": [
       "            loan_status\n",
       "addr_state             \n",
       "IA             0.333333\n",
       "NE             0.191744\n",
       "MS             0.183218\n",
       "NV             0.177083\n",
       "AR             0.175842\n",
       "OK             0.171555\n",
       "AL             0.168669\n",
       "TN             0.163995\n",
       "LA             0.161705\n",
       "FL             0.159488\n",
       "NY             0.157492\n",
       "SD             0.157394\n",
       "MO             0.157256\n",
       "NM             0.156613\n",
       "IN             0.154398\n",
       "ND             0.153595\n",
       "NJ             0.151851\n",
       "OH             0.149827\n",
       "NC             0.149025\n",
       "MD             0.148158\n",
       "KY             0.147210\n",
       "AZ             0.146172\n",
       "MI             0.146165\n",
       "CA             0.146013\n",
       "PA             0.145152\n",
       "MN             0.144751\n",
       "HI             0.144621\n",
       "DE             0.144068\n",
       "VA             0.143046\n",
       "RI             0.138099\n",
       "AK             0.137931\n",
       "TX             0.137741\n",
       "UT             0.132543\n",
       "MA             0.132151\n",
       "GA             0.129085\n",
       "CT             0.126706\n",
       "WI             0.126268\n",
       "IL             0.125684\n",
       "MT             0.122332\n",
       "WA             0.120602\n",
       "SC             0.118019\n",
       "OR             0.117984\n",
       "CO             0.117231\n",
       "KS             0.114627\n",
       "WY             0.113195\n",
       "WV             0.111771\n",
       "ME             0.104790\n",
       "VT             0.102308\n",
       "NH             0.098734\n",
       "DC             0.093588\n",
       "ID             0.000000"
      ]
     },
     "execution_count": 90,
     "metadata": {},
     "output_type": "execute_result"
    }
   ],
   "source": [
    "default_state = approved.groupby('addr_state').mean()[['loan_status']]\n",
    "default_state = 1-default_state\n",
    "default_state.sort_values(by='loan_status',ascending=False)"
   ]
  },
  {
   "cell_type": "code",
   "execution_count": 92,
   "metadata": {},
   "outputs": [
    {
     "data": {
      "text/plain": [
       "CA    101676\n",
       "NY     56295\n",
       "TX     53216\n",
       "FL     46367\n",
       "IL     26694\n",
       "NJ     24669\n",
       "PA     22473\n",
       "GA     21389\n",
       "OH     21131\n",
       "VA     18931\n",
       "NC     17695\n",
       "MI     17015\n",
       "AZ     15427\n",
       "MA     15278\n",
       "MD     15119\n",
       "WA     14610\n",
       "CO     13853\n",
       "MN     11689\n",
       "MO     10378\n",
       "CT     10110\n",
       "NV      9696\n",
       "IN      9482\n",
       "TN      8921\n",
       "WI      8577\n",
       "OR      8391\n",
       "AL      7909\n",
       "LA      7693\n",
       "SC      7592\n",
       "KY      6039\n",
       "OK      5864\n",
       "KS      5784\n",
       "AR      4868\n",
       "UT      4557\n",
       "NM      3697\n",
       "HI      3402\n",
       "NH      3160\n",
       "WV      3033\n",
       "RI      2882\n",
       "MS      2467\n",
       "DC      1934\n",
       "MT      1921\n",
       "DE      1770\n",
       "AK      1682\n",
       "WY      1493\n",
       "SD      1366\n",
       "VT      1300\n",
       "NE       751\n",
       "ME       334\n",
       "ND       306\n",
       "ID         7\n",
       "IA         3\n",
       "Name: addr_state, dtype: int64"
      ]
     },
     "execution_count": 92,
     "metadata": {},
     "output_type": "execute_result"
    }
   ],
   "source": [
    "approved['addr_state'].value_counts()"
   ]
  },
  {
   "cell_type": "markdown",
   "metadata": {},
   "source": [
    "## Disbursement Method"
   ]
  },
  {
   "cell_type": "code",
   "execution_count": 80,
   "metadata": {},
   "outputs": [
    {
     "data": {
      "text/plain": [
       "Cash    660896\n",
       "Name: disbursement_method, dtype: int64"
      ]
     },
     "execution_count": 80,
     "metadata": {},
     "output_type": "execute_result"
    }
   ],
   "source": [
    "approved['disbursement_method'].value_counts()"
   ]
  },
  {
   "cell_type": "code",
   "execution_count": 81,
   "metadata": {},
   "outputs": [
    {
     "data": {
      "text/plain": [
       "disbursement_method\n",
       "Cash    0.144489\n",
       "Name: loan_status, dtype: float64"
      ]
     },
     "execution_count": 81,
     "metadata": {},
     "output_type": "execute_result"
    }
   ],
   "source": [
    "default_state = approved.groupby('disbursement_method').mean()['loan_status']\n",
    "default_state = 1-default_state\n",
    "default_state.sort_values(ascending=False)"
   ]
  },
  {
   "cell_type": "markdown",
   "metadata": {},
   "source": [
    "## Days Since First Credit"
   ]
  },
  {
   "cell_type": "code",
   "execution_count": 79,
   "metadata": {},
   "outputs": [],
   "source": [
    "approved['days_since_first_credit'] = approved['issue_d'] - approved['earliest_cr_line']"
   ]
  },
  {
   "cell_type": "code",
   "execution_count": 80,
   "metadata": {},
   "outputs": [],
   "source": [
    "approved['days_since_first_credit'] = approved['days_since_first_credit'].dt.days"
   ]
  },
  {
   "cell_type": "code",
   "execution_count": 81,
   "metadata": {},
   "outputs": [
    {
     "data": {
      "text/plain": [
       "(1094.999, 2861.0]    66771\n",
       "(4291.0, 4809.0]      66722\n",
       "(6788.0, 7852.0]      66121\n",
       "(2861.0, 3713.0]      66118\n",
       "(9677.0, 25933.0]     66081\n",
       "(5355.0, 5967.0]      66081\n",
       "(7852.0, 9677.0]      66008\n",
       "(5967.0, 6788.0]      65965\n",
       "(4809.0, 5355.0]      65543\n",
       "(3713.0, 4291.0]      65486\n",
       "Name: days_cut, dtype: int64"
      ]
     },
     "execution_count": 81,
     "metadata": {},
     "output_type": "execute_result"
    }
   ],
   "source": [
    "approved['days_cut'] = pd.qcut(approved.days_since_first_credit, q=10)\n",
    "approved['days_cut'].value_counts()"
   ]
  },
  {
   "cell_type": "code",
   "execution_count": 82,
   "metadata": {},
   "outputs": [],
   "source": [
    "default_day = approved.groupby('days_cut').mean()['loan_status']\n",
    "default_day = (1-default_day) * 100"
   ]
  },
  {
   "cell_type": "code",
   "execution_count": 83,
   "metadata": {},
   "outputs": [
    {
     "data": {
      "text/plain": [
       "[Text(0.5, 1.0, 'Credit History vs Default Rate'),\n",
       " Text(0.5, 0, 'Default Rate (%)'),\n",
       " Text(0, 0.5, 'Credit History in Days')]"
      ]
     },
     "execution_count": 83,
     "metadata": {},
     "output_type": "execute_result"
    },
    {
     "data": {
      "image/png": "[encoded data removed]",
      "text/plain": [
       "<Figure size 432x288 with 1 Axes>"
      ]
     },
     "metadata": {
      "needs_background": "light"
     },
     "output_type": "display_data"
    }
   ],
   "source": [
    "fig = sns.barplot(x=default_day.values,y=default_day.index, palette='rocket')\n",
    "fig.set(title='Credit History vs Default Rate', xlabel='Default Rate (%)',ylabel='Credit History in Days')\n",
    "#save"
   ]
  },
  {
   "cell_type": "code",
   "execution_count": null,
   "metadata": {},
   "outputs": [],
   "source": []
  }
 ],
 "metadata": {
  "kernelspec": {
   "display_name": "Python 3",
   "language": "python",
   "name": "python3"
  },
  "language_info": {
   "codemirror_mode": {
    "name": "ipython",
    "version": 3
   },
   "file_extension": ".py",
   "mimetype": "text/x-python",
   "name": "python",
   "nbconvert_exporter": "python",
   "pygments_lexer": "ipython3",
   "version": "3.8.5"
  }
 },
 "nbformat": 4,
 "nbformat_minor": 4
}
