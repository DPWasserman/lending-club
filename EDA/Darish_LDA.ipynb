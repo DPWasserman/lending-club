{
 "metadata": {
  "language_info": {
   "codemirror_mode": {
    "name": "ipython",
    "version": 3
   },
   "file_extension": ".py",
   "mimetype": "text/x-python",
   "name": "python",
   "nbconvert_exporter": "python",
   "pygments_lexer": "ipython3",
   "version": "3.8.5-final"
  },
  "orig_nbformat": 2,
  "kernelspec": {
   "name": "python3",
   "display_name": "Python 3",
   "language": "python"
  }
 },
 "nbformat": 4,
 "nbformat_minor": 2,
 "cells": [
  {
   "cell_type": "code",
   "execution_count": 1,
   "metadata": {},
   "outputs": [],
   "source": [
    "import pandas as pd\n",
    "import numpy as np\n",
    "from sklearn.discriminant_analysis import LinearDiscriminantAnalysis\n",
    "from sklearn.model_selection import cross_val_score, train_test_split\n",
    "from sklearn.metrics import confusion_matrix\n",
    "import dask.dataframe as dd\n",
    "from dask_ml.preprocessing import OneHotEncoder, DummyEncoder, Categorizer, LabelEncoder, StandardScaler\n",
    "pd.set_option('display.max_rows', 200)"
   ]
  },
  {
   "cell_type": "code",
   "execution_count": 2,
   "metadata": {},
   "outputs": [],
   "source": [
    "approved_data = dd.read_csv('../data/approved1.csv')"
   ]
  },
  {
   "cell_type": "code",
   "execution_count": 3,
   "metadata": {},
   "outputs": [
    {
     "output_type": "execute_result",
     "data": {
      "text/plain": [
       "id                        int64\n",
       "addr_state               object\n",
       "annual_inc              float64\n",
       "application_type         object\n",
       "disbursement_method      object\n",
       "dti                     float64\n",
       "earliest_cr_line         object\n",
       "emp_length               object\n",
       "emp_title                object\n",
       "fico_range_high         float64\n",
       "fico_range_low          float64\n",
       "grade                    object\n",
       "home_ownership           object\n",
       "initial_list_status      object\n",
       "installment             float64\n",
       "int_rate                float64\n",
       "issue_d                  object\n",
       "loan_amnt               float64\n",
       "open_acc                float64\n",
       "pub_rec                 float64\n",
       "pub_rec_bankruptcies    float64\n",
       "purpose                  object\n",
       "sub_grade                object\n",
       "term                     object\n",
       "verification_status      object\n",
       "zip_code                 object\n",
       "loan_status              object\n",
       "dtype: object"
      ]
     },
     "metadata": {},
     "execution_count": 3
    }
   ],
   "source": [
    "approved_data.dtypes"
   ]
  },
  {
   "cell_type": "code",
   "execution_count": 4,
   "metadata": {},
   "outputs": [],
   "source": [
    "# number of missing in id\n",
    "# print('Number of missing in addr_state: ', approved_data.addr_state.isna().sum().compute())\n",
    "# print('Number of missing in annual_inc: ', approved_data.annual_inc.isna().sum().compute())\n",
    "# print('Number of missing in disbursement_method: ', approved_data.disbursement_method.isna().sum().compute())\n",
    "# print('Number of missing in dti: ', approved_data.dti.isna().sum().compute())\n",
    "# print('Number of missing in earliest_cr_line: ', approved_data.earliest_cr_line.isna().sum().compute())\n",
    "# print('Number of missing in emp_length: ', approved_data.emp_length.isna().sum().compute())\n",
    "# print('Number of missing in fico_range_low: ', approved_data.fico_range_low.isna().sum().compute())\n",
    "# print('Number of missing in fico_range_high: ', approved_data.fico_range_high.isna().sum().compute())\n",
    "# print('Number of missing in grade: ', approved_data.grade.isna().sum().compute())\n",
    "# print('Number of missing in home_ownership: ', approved_data.home_ownership.isna().sum().compute())\n",
    "# print('Number of missing in initial_list_status: ', approved_data.initial_list_status.isna().sum().compute())\n",
    "# print('Number of missing in installment: ', approved_data.installment.isna().sum().compute())\n",
    "# print('Number of missing in int_rate: ', approved_data.int_rate.isna().sum().compute())\n",
    "# print('Number of missing in issue_d: ', approved_data.issue_d.isna().sum().compute())\n",
    "# print('Number of missing in loan_amnt: ', approved_data.loan_amnt.isna().sum().compute())\n",
    "# print('Number of missing in open_acc: ', approved_data.open_acc.isna().sum().compute())\n",
    "# print('Number of missing in pub_rec: ', approved_data.pub_rec.isna().sum().compute())\n",
    "# print('Number of missing in pub_rec_bankruptcies: ', approved_data.pub_rec_bankruptcies.isna().sum().compute())\n",
    "# print('Number of missing in purpose: ', approved_data.purpose.isna().sum().compute())\n",
    "# print('Number of missing in sub_grade: ', approved_data.sub_grade.isna().sum().compute())\n",
    "# print('Number of missing in term: ', approved_data.term.isna().sum().compute())\n",
    "# print('Number of missing in verification_status: ', approved_data.verification_status.isna().sum().compute())\n",
    "# print('Number of missing in zip_code: ', approved_data.zip_code.isna().sum().compute())\n",
    "# print('Number of missing in loan_status: ', approved_data.loan_status.isna().sum().compute())\n"
   ]
  },
  {
   "cell_type": "code",
   "execution_count": 5,
   "metadata": {},
   "outputs": [],
   "source": [
    "# print('Number of rows in the data: ', len(approved_data))"
   ]
  },
  {
   "cell_type": "code",
   "execution_count": 6,
   "metadata": {},
   "outputs": [],
   "source": [
    "# Clean emp_length\n",
    "approved_data.emp_length = approved_data.emp_length.replace(to_replace='< 1 year', value='0')\n",
    "approved_data.emp_length = approved_data.emp_length.str.strip('<+ years')"
   ]
  },
  {
   "cell_type": "code",
   "execution_count": 7,
   "metadata": {},
   "outputs": [],
   "source": [
    "mean_emp_length = np.floor(approved_data.emp_length.dropna().astype(int).mean())\n",
    "approved_data.emp_length = approved_data.emp_length.fillna(mean_emp_length)"
   ]
  },
  {
   "cell_type": "code",
   "execution_count": 8,
   "metadata": {},
   "outputs": [],
   "source": [
    "approved_data.emp_length = approved_data.emp_length.astype(int)"
   ]
  },
  {
   "cell_type": "code",
   "execution_count": 9,
   "metadata": {},
   "outputs": [],
   "source": [
    "# Separate target from features\n",
    "y = approved_data.loan_status\n",
    "X = approved_data[['addr_state', 'annual_inc', 'application_type', 'disbursement_method', 'dti', 'earliest_cr_line', 'emp_length', 'fico_range_high', 'fico_range_low', 'grade',\n",
    "'home_ownership', 'initial_list_status', 'installment', 'int_rate', 'issue_d', 'loan_amnt', 'open_acc', 'pub_rec', 'pub_rec_bankruptcies', 'purpose', 'sub_grade', 'term', 'verification_status']]"
   ]
  },
  {
   "cell_type": "code",
   "execution_count": 10,
   "metadata": {},
   "outputs": [],
   "source": [
    "# Replace earliest_cr_line with number of days from earliest cr open to issue date\n",
    "X.earliest_cr_line = X.earliest_cr_line.map_partitions(pd.to_datetime, meta=('earliest_cr_line', 'datetime64[ns]'))\n",
    "X.issue_d = X.issue_d.map_partitions(pd.to_datetime, meta=('issue_d', 'datetime64[ns]'))\n",
    "X['days_since_first_credit'] = (X.issue_d - X.earliest_cr_line).dt.days"
   ]
  },
  {
   "cell_type": "code",
   "execution_count": 11,
   "metadata": {},
   "outputs": [],
   "source": [
    "# Drop earliest_cr_line and issue_d\n",
    "X = X.drop(['earliest_cr_line', 'issue_d', 'grade'], axis=1)"
   ]
  },
  {
   "cell_type": "code",
   "execution_count": 12,
   "metadata": {},
   "outputs": [
    {
     "output_type": "execute_result",
     "data": {
      "text/plain": [
       "10    428296\n",
       "5     157584\n",
       "2     117971\n",
       "0     104722\n",
       "3     104288\n",
       "1      85753\n",
       "4      78078\n",
       "6      60675\n",
       "8      58718\n",
       "7      57675\n",
       "9      49323\n",
       "Name: emp_length, dtype: int64"
      ]
     },
     "metadata": {},
     "execution_count": 12
    }
   ],
   "source": [
    "approved_data.emp_length.value_counts().compute()"
   ]
  },
  {
   "cell_type": "code",
   "execution_count": 13,
   "metadata": {},
   "outputs": [],
   "source": [
    "approved_data.annual_inc = approved_data.annual_inc[approved_data.annual_inc < 2e7]"
   ]
  },
  {
   "cell_type": "code",
   "execution_count": 14,
   "metadata": {},
   "outputs": [],
   "source": [
    "ce = Categorizer(columns=['addr_state', 'application_type', 'disbursement_method', 'emp_length', 'home_ownership', 'initial_list_status', 'purpose', 'term', 'verification_status', 'sub_grade'])\n",
    "X = ce.fit_transform(X)"
   ]
  },
  {
   "cell_type": "code",
   "execution_count": 15,
   "metadata": {},
   "outputs": [],
   "source": [
    "de = DummyEncoder(columns=['addr_state', 'application_type', 'disbursement_method', 'emp_length', 'home_ownership', 'initial_list_status', 'purpose', 'term', 'verification_status', 'sub_grade'])\n",
    "X = de.fit_transform(X)"
   ]
  },
  {
   "cell_type": "code",
   "execution_count": 16,
   "metadata": {},
   "outputs": [
    {
     "output_type": "execute_result",
     "data": {
      "text/plain": [
       "array([1, 1, 1, ..., 1, 1, 1])"
      ]
     },
     "metadata": {},
     "execution_count": 16
    }
   ],
   "source": [
    "le = LabelEncoder()\n",
    "y = le.fit_transform(y)\n",
    "y.compute()"
   ]
  },
  {
   "cell_type": "code",
   "execution_count": 17,
   "metadata": {},
   "outputs": [
    {
     "output_type": "execute_result",
     "data": {
      "text/plain": [
       "array(['Charged Off', 'Fully Paid'], dtype=object)"
      ]
     },
     "metadata": {},
     "execution_count": 17
    }
   ],
   "source": [
    "le.classes_.compute()"
   ]
  },
  {
   "cell_type": "code",
   "execution_count": 18,
   "metadata": {},
   "outputs": [],
   "source": [
    "scaler = StandardScaler()\n",
    "X = scaler.fit_transform(X)"
   ]
  },
  {
   "cell_type": "code",
   "execution_count": 19,
   "metadata": {},
   "outputs": [],
   "source": [
    "count_1 = y.sum() / len(y)\n",
    "count_0 = 1 - count_1"
   ]
  },
  {
   "cell_type": "code",
   "execution_count": 20,
   "metadata": {},
   "outputs": [
    {
     "output_type": "execute_result",
     "data": {
      "text/plain": [
       "array([0.80761424, 0.63395327, 0.65277016, 0.65348252, 0.64290374])"
      ]
     },
     "metadata": {},
     "execution_count": 20
    }
   ],
   "source": [
    "lda = LinearDiscriminantAnalysis(priors=[0.5, 0.5])\n",
    "cross_val_score(lda, X.compute(), y, cv=5)"
   ]
  },
  {
   "cell_type": "code",
   "execution_count": 21,
   "metadata": {},
   "outputs": [
    {
     "output_type": "stream",
     "name": "stderr",
     "text": [
      "/Users/darishsakeesing/opt/anaconda3/lib/python3.8/site-packages/sklearn/utils/__init__.py:181: PerformanceWarning: Slicing with an out-of-order index is generating 160126 times more chunks\n",
      "  return array[key] if axis == 0 else array[:, key]\n",
      "/Users/darishsakeesing/opt/anaconda3/lib/python3.8/site-packages/sklearn/utils/__init__.py:181: PerformanceWarning: Slicing with an out-of-order index is generating 40052 times more chunks\n",
      "  return array[key] if axis == 0 else array[:, key]\n"
     ]
    }
   ],
   "source": [
    "X_train, X_test, y_train, y_test = train_test_split(X.compute(), y, test_size=0.2, shuffle=True)"
   ]
  },
  {
   "cell_type": "code",
   "execution_count": null,
   "metadata": {},
   "outputs": [],
   "source": []
  },
  {
   "cell_type": "code",
   "execution_count": 22,
   "metadata": {},
   "outputs": [
    {
     "output_type": "execute_result",
     "data": {
      "text/plain": [
       "LinearDiscriminantAnalysis(priors=[0.5, 0.5])"
      ]
     },
     "metadata": {},
     "execution_count": 22
    }
   ],
   "source": [
    "lda1 = LinearDiscriminantAnalysis(priors=[0.5, 0.5])\n",
    "lda1.fit(X_train, y_train)\n",
    "# probs_positive_class = lda1.predict_proba(X_test)[:, 1]\n",
    "# prediction = probs_positive_class > .9"
   ]
  },
  {
   "cell_type": "code",
   "execution_count": 24,
   "metadata": {},
   "outputs": [
    {
     "output_type": "execute_result",
     "data": {
      "text/plain": [
       "array([[ 31321,  18718],\n",
       "       [ 70475, 140103]])"
      ]
     },
     "metadata": {},
     "execution_count": 24
    }
   ],
   "source": [
    "confusion_matrix(y_test, lda1.predict(X_test))"
   ]
  },
  {
   "cell_type": "code",
   "execution_count": 30,
   "metadata": {},
   "outputs": [],
   "source": [
    "#Constructing priors list\n",
    "priors = []\n",
    "for x in range(0, 101, 1):\n",
    "    priors.append([x/100, (100-x)/100])"
   ]
  },
  {
   "cell_type": "code",
   "execution_count": 36,
   "metadata": {},
   "outputs": [],
   "source": [
    "# Constructing threshold list\n",
    "threshold = np.linspace(start=0.01, stop=0.99, num = 99, endpoint=True)"
   ]
  },
  {
   "cell_type": "code",
   "execution_count": 45,
   "metadata": {},
   "outputs": [],
   "source": [
    "def custom_scoring(estimator, X, y):\n",
    "    cm = confusion_matrix(y, estimator.predict(X))\n",
    "    score = cm[0, 1] + cm[1, 0]\n",
    "    return score"
   ]
  },
  {
   "cell_type": "code",
   "execution_count": 49,
   "metadata": {},
   "outputs": [
    {
     "output_type": "stream",
     "name": "stderr",
     "text": [
      "/Users/darishsakeesing/opt/anaconda3/lib/python3.8/site-packages/sklearn/utils/__init__.py:181: PerformanceWarning: Slicing with an out-of-order index is generating 160161 times more chunks\n",
      "  return array[key] if axis == 0 else array[:, key]\n",
      "/Users/darishsakeesing/opt/anaconda3/lib/python3.8/site-packages/sklearn/utils/__init__.py:181: PerformanceWarning: Slicing with an out-of-order index is generating 40059 times more chunks\n",
      "  return array[key] if axis == 0 else array[:, key]\n",
      "[Parallel(n_jobs=-1)]: Using backend LokyBackend with 8 concurrent workers.\n",
      "[Parallel(n_jobs=-1)]: Done   3 out of   3 | elapsed: 10.8min remaining:    0.0s\n",
      "[Parallel(n_jobs=-1)]: Done   3 out of   3 | elapsed: 10.8min finished\n",
      "[0.0, 1.0] done\n",
      "[Parallel(n_jobs=-1)]: Using backend LokyBackend with 8 concurrent workers.\n",
      "[Parallel(n_jobs=-1)]: Done   3 out of   3 | elapsed: 10.7min remaining:    0.0s\n",
      "[Parallel(n_jobs=-1)]: Done   3 out of   3 | elapsed: 10.7min finished\n",
      "[0.01, 0.99] done\n",
      "[Parallel(n_jobs=-1)]: Using backend LokyBackend with 8 concurrent workers.\n",
      "[Parallel(n_jobs=-1)]: Done   3 out of   3 | elapsed: 16.5min remaining:    0.0s\n",
      "[Parallel(n_jobs=-1)]: Done   3 out of   3 | elapsed: 16.5min finished\n",
      "[0.02, 0.98] done\n",
      "[Parallel(n_jobs=-1)]: Using backend LokyBackend with 8 concurrent workers.\n",
      "[Parallel(n_jobs=-1)]: Done   3 out of   3 | elapsed: 11.5min remaining:    0.0s\n",
      "[Parallel(n_jobs=-1)]: Done   3 out of   3 | elapsed: 11.5min finished\n",
      "[0.03, 0.97] done\n",
      "[Parallel(n_jobs=-1)]: Using backend LokyBackend with 8 concurrent workers.\n",
      "[Parallel(n_jobs=-1)]: Done   3 out of   3 | elapsed:  8.2min remaining:    0.0s\n",
      "[Parallel(n_jobs=-1)]: Done   3 out of   3 | elapsed:  8.2min finished\n",
      "[0.04, 0.96] done\n",
      "[Parallel(n_jobs=-1)]: Using backend LokyBackend with 8 concurrent workers.\n",
      "[Parallel(n_jobs=-1)]: Done   3 out of   3 | elapsed:  7.9min remaining:    0.0s\n",
      "[Parallel(n_jobs=-1)]: Done   3 out of   3 | elapsed:  7.9min finished\n",
      "[0.05, 0.95] done\n",
      "[Parallel(n_jobs=-1)]: Using backend LokyBackend with 8 concurrent workers.\n",
      "[Parallel(n_jobs=-1)]: Done   3 out of   3 | elapsed:  7.8min remaining:    0.0s\n",
      "[Parallel(n_jobs=-1)]: Done   3 out of   3 | elapsed:  7.8min finished\n",
      "[0.06, 0.94] done\n",
      "[Parallel(n_jobs=-1)]: Using backend LokyBackend with 8 concurrent workers.\n",
      "[Parallel(n_jobs=-1)]: Done   3 out of   3 | elapsed:  7.6min remaining:    0.0s\n",
      "[Parallel(n_jobs=-1)]: Done   3 out of   3 | elapsed:  7.6min finished\n",
      "[0.07, 0.93] done\n",
      "[Parallel(n_jobs=-1)]: Using backend LokyBackend with 8 concurrent workers.\n",
      "[Parallel(n_jobs=-1)]: Done   3 out of   3 | elapsed:  7.0min remaining:    0.0s\n",
      "[Parallel(n_jobs=-1)]: Done   3 out of   3 | elapsed:  7.0min finished\n",
      "[0.08, 0.92] done\n",
      "[Parallel(n_jobs=-1)]: Using backend LokyBackend with 8 concurrent workers.\n",
      "[Parallel(n_jobs=-1)]: Done   3 out of   3 | elapsed:  7.1min remaining:    0.0s\n",
      "[Parallel(n_jobs=-1)]: Done   3 out of   3 | elapsed:  7.1min finished\n",
      "[0.09, 0.91] done\n",
      "[Parallel(n_jobs=-1)]: Using backend LokyBackend with 8 concurrent workers.\n",
      "[Parallel(n_jobs=-1)]: Done   3 out of   3 | elapsed:  7.8min remaining:    0.0s\n",
      "[Parallel(n_jobs=-1)]: Done   3 out of   3 | elapsed:  7.8min finished\n",
      "[0.1, 0.9] done\n",
      "[Parallel(n_jobs=-1)]: Using backend LokyBackend with 8 concurrent workers.\n",
      "[Parallel(n_jobs=-1)]: Done   3 out of   3 | elapsed:  8.9min remaining:    0.0s\n",
      "[Parallel(n_jobs=-1)]: Done   3 out of   3 | elapsed:  8.9min finished\n",
      "[0.11, 0.89] done\n",
      "[Parallel(n_jobs=-1)]: Using backend LokyBackend with 8 concurrent workers.\n",
      "[Parallel(n_jobs=-1)]: Done   3 out of   3 | elapsed:  8.8min remaining:    0.0s\n",
      "[Parallel(n_jobs=-1)]: Done   3 out of   3 | elapsed:  8.8min finished\n",
      "[0.12, 0.88] done\n",
      "[Parallel(n_jobs=-1)]: Using backend LokyBackend with 8 concurrent workers.\n",
      "[Parallel(n_jobs=-1)]: Done   3 out of   3 | elapsed:  8.9min remaining:    0.0s\n",
      "[Parallel(n_jobs=-1)]: Done   3 out of   3 | elapsed:  8.9min finished\n",
      "[0.13, 0.87] done\n",
      "[Parallel(n_jobs=-1)]: Using backend LokyBackend with 8 concurrent workers.\n",
      "[Parallel(n_jobs=-1)]: Done   3 out of   3 | elapsed:  8.8min remaining:    0.0s\n",
      "[Parallel(n_jobs=-1)]: Done   3 out of   3 | elapsed:  8.8min finished\n",
      "[0.14, 0.86] done\n",
      "[Parallel(n_jobs=-1)]: Using backend LokyBackend with 8 concurrent workers.\n",
      "[Parallel(n_jobs=-1)]: Done   3 out of   3 | elapsed:  8.7min remaining:    0.0s\n",
      "[Parallel(n_jobs=-1)]: Done   3 out of   3 | elapsed:  8.7min finished\n",
      "[0.15, 0.85] done\n",
      "[Parallel(n_jobs=-1)]: Using backend LokyBackend with 8 concurrent workers.\n",
      "[Parallel(n_jobs=-1)]: Done   3 out of   3 | elapsed:  8.7min remaining:    0.0s\n",
      "[Parallel(n_jobs=-1)]: Done   3 out of   3 | elapsed:  8.7min finished\n",
      "[0.16, 0.84] done\n",
      "[Parallel(n_jobs=-1)]: Using backend LokyBackend with 8 concurrent workers.\n",
      "[Parallel(n_jobs=-1)]: Done   3 out of   3 | elapsed:  8.7min remaining:    0.0s\n",
      "[Parallel(n_jobs=-1)]: Done   3 out of   3 | elapsed:  8.7min finished\n",
      "[0.17, 0.83] done\n",
      "[Parallel(n_jobs=-1)]: Using backend LokyBackend with 8 concurrent workers.\n",
      "[Parallel(n_jobs=-1)]: Done   3 out of   3 | elapsed:  8.7min remaining:    0.0s\n",
      "[Parallel(n_jobs=-1)]: Done   3 out of   3 | elapsed:  8.7min finished\n",
      "[0.18, 0.82] done\n",
      "[Parallel(n_jobs=-1)]: Using backend LokyBackend with 8 concurrent workers.\n",
      "[Parallel(n_jobs=-1)]: Done   3 out of   3 | elapsed:  8.6min remaining:    0.0s\n",
      "[Parallel(n_jobs=-1)]: Done   3 out of   3 | elapsed:  8.6min finished\n",
      "[0.19, 0.81] done\n",
      "[Parallel(n_jobs=-1)]: Using backend LokyBackend with 8 concurrent workers.\n",
      "[Parallel(n_jobs=-1)]: Done   3 out of   3 | elapsed:  8.6min remaining:    0.0s\n",
      "[Parallel(n_jobs=-1)]: Done   3 out of   3 | elapsed:  8.6min finished\n",
      "[0.2, 0.8] done\n",
      "[Parallel(n_jobs=-1)]: Using backend LokyBackend with 8 concurrent workers.\n",
      "[Parallel(n_jobs=-1)]: Done   3 out of   3 | elapsed:  8.6min remaining:    0.0s\n",
      "[Parallel(n_jobs=-1)]: Done   3 out of   3 | elapsed:  8.6min finished\n",
      "[0.21, 0.79] done\n",
      "[Parallel(n_jobs=-1)]: Using backend LokyBackend with 8 concurrent workers.\n",
      "[Parallel(n_jobs=-1)]: Done   3 out of   3 | elapsed:  8.6min remaining:    0.0s\n",
      "[Parallel(n_jobs=-1)]: Done   3 out of   3 | elapsed:  8.6min finished\n",
      "[0.22, 0.78] done\n",
      "[Parallel(n_jobs=-1)]: Using backend LokyBackend with 8 concurrent workers.\n",
      "[Parallel(n_jobs=-1)]: Done   3 out of   3 | elapsed:  8.6min remaining:    0.0s\n",
      "[Parallel(n_jobs=-1)]: Done   3 out of   3 | elapsed:  8.6min finished\n",
      "[0.23, 0.77] done\n",
      "[Parallel(n_jobs=-1)]: Using backend LokyBackend with 8 concurrent workers.\n",
      "[Parallel(n_jobs=-1)]: Done   3 out of   3 | elapsed:  8.7min remaining:    0.0s\n",
      "[Parallel(n_jobs=-1)]: Done   3 out of   3 | elapsed:  8.7min finished\n",
      "[0.24, 0.76] done\n",
      "[Parallel(n_jobs=-1)]: Using backend LokyBackend with 8 concurrent workers.\n",
      "[Parallel(n_jobs=-1)]: Done   3 out of   3 | elapsed:  8.6min remaining:    0.0s\n",
      "[Parallel(n_jobs=-1)]: Done   3 out of   3 | elapsed:  8.6min finished\n",
      "[0.25, 0.75] done\n",
      "[Parallel(n_jobs=-1)]: Using backend LokyBackend with 8 concurrent workers.\n",
      "[Parallel(n_jobs=-1)]: Done   3 out of   3 | elapsed:  8.6min remaining:    0.0s\n",
      "[Parallel(n_jobs=-1)]: Done   3 out of   3 | elapsed:  8.6min finished\n",
      "[0.26, 0.74] done\n",
      "[Parallel(n_jobs=-1)]: Using backend LokyBackend with 8 concurrent workers.\n",
      "[Parallel(n_jobs=-1)]: Done   3 out of   3 | elapsed:  8.6min remaining:    0.0s\n",
      "[Parallel(n_jobs=-1)]: Done   3 out of   3 | elapsed:  8.6min finished\n",
      "[0.27, 0.73] done\n",
      "[Parallel(n_jobs=-1)]: Using backend LokyBackend with 8 concurrent workers.\n",
      "[Parallel(n_jobs=-1)]: Done   3 out of   3 | elapsed:  8.6min remaining:    0.0s\n",
      "[Parallel(n_jobs=-1)]: Done   3 out of   3 | elapsed:  8.6min finished\n",
      "[0.28, 0.72] done\n",
      "[Parallel(n_jobs=-1)]: Using backend LokyBackend with 8 concurrent workers.\n",
      "[Parallel(n_jobs=-1)]: Done   3 out of   3 | elapsed:  8.6min remaining:    0.0s\n",
      "[Parallel(n_jobs=-1)]: Done   3 out of   3 | elapsed:  8.6min finished\n",
      "[0.29, 0.71] done\n",
      "[Parallel(n_jobs=-1)]: Using backend LokyBackend with 8 concurrent workers.\n",
      "[Parallel(n_jobs=-1)]: Done   3 out of   3 | elapsed:  8.4min finished\n",
      "[Parallel(n_jobs=-1)]: Done   3 out of   3 | elapsed:  8.4min remaining:    0.0s\n",
      "[0.3, 0.7] done\n",
      "[Parallel(n_jobs=-1)]: Using backend LokyBackend with 8 concurrent workers.\n",
      "[Parallel(n_jobs=-1)]: Done   3 out of   3 | elapsed:  8.5min remaining:    0.0s\n",
      "[Parallel(n_jobs=-1)]: Done   3 out of   3 | elapsed:  8.5min finished\n",
      "[0.31, 0.69] done\n",
      "[Parallel(n_jobs=-1)]: Using backend LokyBackend with 8 concurrent workers.\n",
      "[Parallel(n_jobs=-1)]: Done   3 out of   3 | elapsed:  8.4min remaining:    0.0s\n",
      "[Parallel(n_jobs=-1)]: Done   3 out of   3 | elapsed:  8.4min finished\n",
      "[0.32, 0.68] done\n",
      "[Parallel(n_jobs=-1)]: Using backend LokyBackend with 8 concurrent workers.\n",
      "[Parallel(n_jobs=-1)]: Done   3 out of   3 | elapsed:  8.3min remaining:    0.0s\n",
      "[Parallel(n_jobs=-1)]: Done   3 out of   3 | elapsed:  8.3min finished\n",
      "[0.33, 0.67] done\n",
      "[Parallel(n_jobs=-1)]: Using backend LokyBackend with 8 concurrent workers.\n",
      "/Users/darishsakeesing/opt/anaconda3/lib/python3.8/site-packages/joblib/externals/loky/process_executor.py:688: UserWarning: A worker stopped while some jobs were given to the executor. This can be caused by a too short worker timeout or by a memory leak.\n",
      "  warnings.warn(\n",
      "[Parallel(n_jobs=-1)]: Done   3 out of   3 | elapsed:  8.3min remaining:    0.0s\n",
      "[Parallel(n_jobs=-1)]: Done   3 out of   3 | elapsed:  8.3min finished\n",
      "[0.34, 0.66] done\n",
      "[Parallel(n_jobs=-1)]: Using backend LokyBackend with 8 concurrent workers.\n",
      "[Parallel(n_jobs=-1)]: Done   3 out of   3 | elapsed:  8.3min remaining:    0.0s\n",
      "[Parallel(n_jobs=-1)]: Done   3 out of   3 | elapsed:  8.3min finished\n",
      "[0.35, 0.65] done\n",
      "[Parallel(n_jobs=-1)]: Using backend LokyBackend with 8 concurrent workers.\n",
      "[Parallel(n_jobs=-1)]: Done   3 out of   3 | elapsed:  8.2min remaining:    0.0s\n",
      "[Parallel(n_jobs=-1)]: Done   3 out of   3 | elapsed:  8.2min finished\n",
      "[0.36, 0.64] done\n",
      "[Parallel(n_jobs=-1)]: Using backend LokyBackend with 8 concurrent workers.\n",
      "[Parallel(n_jobs=-1)]: Done   3 out of   3 | elapsed:  8.4min remaining:    0.0s\n",
      "[Parallel(n_jobs=-1)]: Done   3 out of   3 | elapsed:  8.4min finished\n",
      "[0.37, 0.63] done\n",
      "[Parallel(n_jobs=-1)]: Using backend LokyBackend with 8 concurrent workers.\n",
      "[Parallel(n_jobs=-1)]: Done   3 out of   3 | elapsed:  8.5min remaining:    0.0s\n",
      "[Parallel(n_jobs=-1)]: Done   3 out of   3 | elapsed:  8.5min finished\n",
      "[0.38, 0.62] done\n",
      "[Parallel(n_jobs=-1)]: Using backend LokyBackend with 8 concurrent workers.\n",
      "[Parallel(n_jobs=-1)]: Done   3 out of   3 | elapsed:  8.5min remaining:    0.0s\n",
      "[Parallel(n_jobs=-1)]: Done   3 out of   3 | elapsed:  8.5min finished\n",
      "[0.39, 0.61] done\n",
      "[Parallel(n_jobs=-1)]: Using backend LokyBackend with 8 concurrent workers.\n",
      "[Parallel(n_jobs=-1)]: Done   3 out of   3 | elapsed:  8.4min remaining:    0.0s\n",
      "[Parallel(n_jobs=-1)]: Done   3 out of   3 | elapsed:  8.4min finished\n",
      "[0.4, 0.6] done\n",
      "[Parallel(n_jobs=-1)]: Using backend LokyBackend with 8 concurrent workers.\n",
      "[Parallel(n_jobs=-1)]: Done   3 out of   3 | elapsed:  8.3min remaining:    0.0s\n",
      "[Parallel(n_jobs=-1)]: Done   3 out of   3 | elapsed:  8.3min finished\n",
      "[0.41, 0.59] done\n",
      "[Parallel(n_jobs=-1)]: Using backend LokyBackend with 8 concurrent workers.\n",
      "[Parallel(n_jobs=-1)]: Done   3 out of   3 | elapsed:  8.5min remaining:    0.0s\n",
      "[Parallel(n_jobs=-1)]: Done   3 out of   3 | elapsed:  8.5min finished\n",
      "[0.42, 0.58] done\n",
      "[Parallel(n_jobs=-1)]: Using backend LokyBackend with 8 concurrent workers.\n",
      "[Parallel(n_jobs=-1)]: Done   3 out of   3 | elapsed:  8.6min remaining:    0.0s\n",
      "[Parallel(n_jobs=-1)]: Done   3 out of   3 | elapsed:  8.6min finished\n",
      "[0.43, 0.57] done\n",
      "[Parallel(n_jobs=-1)]: Using backend LokyBackend with 8 concurrent workers.\n",
      "[Parallel(n_jobs=-1)]: Done   3 out of   3 | elapsed:  8.8min remaining:    0.0s\n",
      "[Parallel(n_jobs=-1)]: Done   3 out of   3 | elapsed:  8.8min finished\n",
      "[0.44, 0.56] done\n",
      "[Parallel(n_jobs=-1)]: Using backend LokyBackend with 8 concurrent workers.\n",
      "[Parallel(n_jobs=-1)]: Done   3 out of   3 | elapsed:  8.8min remaining:    0.0s\n",
      "[Parallel(n_jobs=-1)]: Done   3 out of   3 | elapsed:  8.8min finished\n",
      "[0.45, 0.55] done\n",
      "[Parallel(n_jobs=-1)]: Using backend LokyBackend with 8 concurrent workers.\n",
      "[Parallel(n_jobs=-1)]: Done   3 out of   3 | elapsed:  8.8min remaining:    0.0s\n",
      "[Parallel(n_jobs=-1)]: Done   3 out of   3 | elapsed:  8.8min finished\n",
      "[0.46, 0.54] done\n",
      "[Parallel(n_jobs=-1)]: Using backend LokyBackend with 8 concurrent workers.\n",
      "[Parallel(n_jobs=-1)]: Done   3 out of   3 | elapsed:  8.8min remaining:    0.0s\n",
      "[Parallel(n_jobs=-1)]: Done   3 out of   3 | elapsed:  8.8min finished\n",
      "[0.47, 0.53] done\n",
      "[Parallel(n_jobs=-1)]: Using backend LokyBackend with 8 concurrent workers.\n",
      "[Parallel(n_jobs=-1)]: Done   3 out of   3 | elapsed:  9.1min remaining:    0.0s\n",
      "[Parallel(n_jobs=-1)]: Done   3 out of   3 | elapsed:  9.1min finished\n",
      "[0.48, 0.52] done\n",
      "[Parallel(n_jobs=-1)]: Using backend LokyBackend with 8 concurrent workers.\n",
      "[Parallel(n_jobs=-1)]: Done   3 out of   3 | elapsed:  9.4min remaining:    0.0s\n",
      "[Parallel(n_jobs=-1)]: Done   3 out of   3 | elapsed:  9.4min finished\n",
      "[0.49, 0.51] done\n",
      "[Parallel(n_jobs=-1)]: Using backend LokyBackend with 8 concurrent workers.\n",
      "[Parallel(n_jobs=-1)]: Done   3 out of   3 | elapsed: 11.0min finished\n",
      "[Parallel(n_jobs=-1)]: Done   3 out of   3 | elapsed: 11.0min remaining:    0.0s\n",
      "[0.5, 0.5] done\n",
      "[Parallel(n_jobs=-1)]: Using backend LokyBackend with 8 concurrent workers.\n",
      "[Parallel(n_jobs=-1)]: Done   3 out of   3 | elapsed: 10.3min remaining:    0.0s\n",
      "[Parallel(n_jobs=-1)]: Done   3 out of   3 | elapsed: 10.3min finished\n",
      "[0.51, 0.49] done\n",
      "[Parallel(n_jobs=-1)]: Using backend LokyBackend with 8 concurrent workers.\n",
      "[Parallel(n_jobs=-1)]: Done   3 out of   3 | elapsed: 12.1min remaining:    0.0s\n",
      "[Parallel(n_jobs=-1)]: Done   3 out of   3 | elapsed: 12.1min finished\n",
      "[0.52, 0.48] done\n",
      "[Parallel(n_jobs=-1)]: Using backend LokyBackend with 8 concurrent workers.\n",
      "[Parallel(n_jobs=-1)]: Done   3 out of   3 | elapsed: 11.5min finished\n",
      "[Parallel(n_jobs=-1)]: Done   3 out of   3 | elapsed: 11.5min remaining:    0.0s\n",
      "[0.53, 0.47] done\n",
      "[Parallel(n_jobs=-1)]: Using backend LokyBackend with 8 concurrent workers.\n",
      "[Parallel(n_jobs=-1)]: Done   3 out of   3 | elapsed: 11.8min remaining:    0.0s\n",
      "[Parallel(n_jobs=-1)]: Done   3 out of   3 | elapsed: 11.8min finished\n",
      "[0.54, 0.46] done\n",
      "[Parallel(n_jobs=-1)]: Using backend LokyBackend with 8 concurrent workers.\n",
      "[Parallel(n_jobs=-1)]: Done   3 out of   3 | elapsed: 10.5min remaining:    0.0s\n",
      "[Parallel(n_jobs=-1)]: Done   3 out of   3 | elapsed: 10.5min finished\n",
      "[0.55, 0.45] done\n",
      "[Parallel(n_jobs=-1)]: Using backend LokyBackend with 8 concurrent workers.\n",
      "[Parallel(n_jobs=-1)]: Done   3 out of   3 | elapsed: 10.2min finished\n",
      "[Parallel(n_jobs=-1)]: Done   3 out of   3 | elapsed: 10.2min remaining:    0.0s\n",
      "[0.56, 0.44] done\n",
      "[Parallel(n_jobs=-1)]: Using backend LokyBackend with 8 concurrent workers.\n",
      "[Parallel(n_jobs=-1)]: Done   3 out of   3 | elapsed:  9.9min finished\n",
      "[Parallel(n_jobs=-1)]: Done   3 out of   3 | elapsed:  9.9min remaining:    0.0s\n",
      "[0.57, 0.43] done\n",
      "[Parallel(n_jobs=-1)]: Using backend LokyBackend with 8 concurrent workers.\n",
      "[Parallel(n_jobs=-1)]: Done   3 out of   3 | elapsed:  9.4min remaining:    0.0s\n",
      "[Parallel(n_jobs=-1)]: Done   3 out of   3 | elapsed:  9.4min finished\n",
      "[0.58, 0.42] done\n",
      "[Parallel(n_jobs=-1)]: Using backend LokyBackend with 8 concurrent workers.\n",
      "[Parallel(n_jobs=-1)]: Done   3 out of   3 | elapsed:  8.9min remaining:    0.0s\n",
      "[Parallel(n_jobs=-1)]: Done   3 out of   3 | elapsed:  8.9min finished\n",
      "[0.59, 0.41] done\n",
      "[Parallel(n_jobs=-1)]: Using backend LokyBackend with 8 concurrent workers.\n",
      "[Parallel(n_jobs=-1)]: Done   3 out of   3 | elapsed:  8.8min remaining:    0.0s\n",
      "[Parallel(n_jobs=-1)]: Done   3 out of   3 | elapsed:  8.8min finished\n",
      "[0.6, 0.4] done\n",
      "[Parallel(n_jobs=-1)]: Using backend LokyBackend with 8 concurrent workers.\n",
      "[Parallel(n_jobs=-1)]: Done   3 out of   3 | elapsed:  9.0min remaining:    0.0s\n",
      "[Parallel(n_jobs=-1)]: Done   3 out of   3 | elapsed:  9.0min finished\n",
      "[0.61, 0.39] done\n",
      "[Parallel(n_jobs=-1)]: Using backend LokyBackend with 8 concurrent workers.\n",
      "[Parallel(n_jobs=-1)]: Done   3 out of   3 | elapsed:  8.7min remaining:    0.0s\n",
      "[Parallel(n_jobs=-1)]: Done   3 out of   3 | elapsed:  8.7min finished\n",
      "[0.62, 0.38] done\n",
      "[Parallel(n_jobs=-1)]: Using backend LokyBackend with 8 concurrent workers.\n",
      "[Parallel(n_jobs=-1)]: Done   3 out of   3 | elapsed: 10.9min finished\n",
      "[Parallel(n_jobs=-1)]: Done   3 out of   3 | elapsed: 10.9min remaining:    0.0s\n",
      "[0.63, 0.37] done\n",
      "[Parallel(n_jobs=-1)]: Using backend LokyBackend with 8 concurrent workers.\n",
      "[Parallel(n_jobs=-1)]: Done   3 out of   3 | elapsed:  8.7min remaining:    0.0s\n",
      "[Parallel(n_jobs=-1)]: Done   3 out of   3 | elapsed:  8.7min finished\n",
      "[0.64, 0.36] done\n",
      "[Parallel(n_jobs=-1)]: Using backend LokyBackend with 8 concurrent workers.\n",
      "[Parallel(n_jobs=-1)]: Done   3 out of   3 | elapsed:  8.7min remaining:    0.0s\n",
      "[Parallel(n_jobs=-1)]: Done   3 out of   3 | elapsed:  8.7min finished\n",
      "[0.65, 0.35] done\n",
      "[Parallel(n_jobs=-1)]: Using backend LokyBackend with 8 concurrent workers.\n",
      "[Parallel(n_jobs=-1)]: Done   3 out of   3 | elapsed: 10.8min remaining:    0.0s\n",
      "[Parallel(n_jobs=-1)]: Done   3 out of   3 | elapsed: 10.8min finished\n",
      "[0.66, 0.34] done\n",
      "[Parallel(n_jobs=-1)]: Using backend LokyBackend with 8 concurrent workers.\n",
      "[Parallel(n_jobs=-1)]: Done   3 out of   3 | elapsed: 11.5min remaining:    0.0s\n",
      "[Parallel(n_jobs=-1)]: Done   3 out of   3 | elapsed: 11.5min finished\n",
      "[0.67, 0.33] done\n",
      "[Parallel(n_jobs=-1)]: Using backend LokyBackend with 8 concurrent workers.\n",
      "[Parallel(n_jobs=-1)]: Done   3 out of   3 | elapsed: 10.7min remaining:    0.0s\n",
      "[Parallel(n_jobs=-1)]: Done   3 out of   3 | elapsed: 10.7min finished\n",
      "[0.68, 0.32] done\n",
      "[Parallel(n_jobs=-1)]: Using backend LokyBackend with 8 concurrent workers.\n",
      "[Parallel(n_jobs=-1)]: Done   3 out of   3 | elapsed: 10.9min finished\n",
      "[Parallel(n_jobs=-1)]: Done   3 out of   3 | elapsed: 10.9min remaining:    0.0s\n",
      "[0.69, 0.31] done\n",
      "[Parallel(n_jobs=-1)]: Using backend LokyBackend with 8 concurrent workers.\n",
      "[Parallel(n_jobs=-1)]: Done   3 out of   3 | elapsed:  8.6min remaining:    0.0s\n",
      "[Parallel(n_jobs=-1)]: Done   3 out of   3 | elapsed:  8.6min finished\n",
      "[0.7, 0.3] done\n",
      "[Parallel(n_jobs=-1)]: Using backend LokyBackend with 8 concurrent workers.\n",
      "[Parallel(n_jobs=-1)]: Done   3 out of   3 | elapsed:  7.8min remaining:    0.0s\n",
      "[Parallel(n_jobs=-1)]: Done   3 out of   3 | elapsed:  7.8min finished\n",
      "[0.71, 0.29] done\n",
      "[Parallel(n_jobs=-1)]: Using backend LokyBackend with 8 concurrent workers.\n",
      "[Parallel(n_jobs=-1)]: Done   3 out of   3 | elapsed:  7.3min remaining:    0.0s\n",
      "[Parallel(n_jobs=-1)]: Done   3 out of   3 | elapsed:  7.3min finished\n",
      "[0.72, 0.28] done\n",
      "[Parallel(n_jobs=-1)]: Using backend LokyBackend with 8 concurrent workers.\n",
      "[Parallel(n_jobs=-1)]: Done   3 out of   3 | elapsed:  7.2min remaining:    0.0s\n",
      "[Parallel(n_jobs=-1)]: Done   3 out of   3 | elapsed:  7.2min finished\n",
      "[0.73, 0.27] done\n",
      "[Parallel(n_jobs=-1)]: Using backend LokyBackend with 8 concurrent workers.\n",
      "[Parallel(n_jobs=-1)]: Done   3 out of   3 | elapsed:  7.1min remaining:    0.0s\n",
      "[Parallel(n_jobs=-1)]: Done   3 out of   3 | elapsed:  7.1min finished\n",
      "[0.74, 0.26] done\n",
      "[Parallel(n_jobs=-1)]: Using backend LokyBackend with 8 concurrent workers.\n",
      "[Parallel(n_jobs=-1)]: Done   3 out of   3 | elapsed:  7.1min remaining:    0.0s\n",
      "[Parallel(n_jobs=-1)]: Done   3 out of   3 | elapsed:  7.1min finished\n",
      "[0.75, 0.25] done\n",
      "[Parallel(n_jobs=-1)]: Using backend LokyBackend with 8 concurrent workers.\n",
      "[Parallel(n_jobs=-1)]: Done   3 out of   3 | elapsed:  9.1min remaining:    0.0s\n",
      "[Parallel(n_jobs=-1)]: Done   3 out of   3 | elapsed:  9.1min finished\n",
      "[0.76, 0.24] done\n",
      "[Parallel(n_jobs=-1)]: Using backend LokyBackend with 8 concurrent workers.\n",
      "[Parallel(n_jobs=-1)]: Done   3 out of   3 | elapsed:  9.1min remaining:    0.0s\n",
      "[Parallel(n_jobs=-1)]: Done   3 out of   3 | elapsed:  9.1min finished\n",
      "[0.77, 0.23] done\n",
      "[Parallel(n_jobs=-1)]: Using backend LokyBackend with 8 concurrent workers.\n",
      "[Parallel(n_jobs=-1)]: Done   3 out of   3 | elapsed:  7.4min remaining:    0.0s\n",
      "[Parallel(n_jobs=-1)]: Done   3 out of   3 | elapsed:  7.4min finished\n",
      "[0.78, 0.22] done\n",
      "[Parallel(n_jobs=-1)]: Using backend LokyBackend with 8 concurrent workers.\n",
      "[Parallel(n_jobs=-1)]: Done   3 out of   3 | elapsed:  7.1min remaining:    0.0s\n",
      "[Parallel(n_jobs=-1)]: Done   3 out of   3 | elapsed:  7.1min finished\n",
      "[0.79, 0.21] done\n",
      "[Parallel(n_jobs=-1)]: Using backend LokyBackend with 8 concurrent workers.\n",
      "[Parallel(n_jobs=-1)]: Done   3 out of   3 | elapsed:  7.6min remaining:    0.0s\n",
      "[Parallel(n_jobs=-1)]: Done   3 out of   3 | elapsed:  7.6min finished\n",
      "[0.8, 0.2] done\n",
      "[Parallel(n_jobs=-1)]: Using backend LokyBackend with 8 concurrent workers.\n",
      "[Parallel(n_jobs=-1)]: Done   3 out of   3 | elapsed:  9.1min remaining:    0.0s\n",
      "[Parallel(n_jobs=-1)]: Done   3 out of   3 | elapsed:  9.1min finished\n",
      "[0.81, 0.19] done\n",
      "[Parallel(n_jobs=-1)]: Using backend LokyBackend with 8 concurrent workers.\n",
      "[Parallel(n_jobs=-1)]: Done   3 out of   3 | elapsed:  9.9min remaining:    0.0s\n",
      "[Parallel(n_jobs=-1)]: Done   3 out of   3 | elapsed:  9.9min finished\n",
      "[0.82, 0.18] done\n",
      "[Parallel(n_jobs=-1)]: Using backend LokyBackend with 8 concurrent workers.\n",
      "[Parallel(n_jobs=-1)]: Done   3 out of   3 | elapsed: 17.7min finished\n",
      "[Parallel(n_jobs=-1)]: Done   3 out of   3 | elapsed: 17.7min remaining:    0.0s\n",
      "[0.83, 0.17] done\n",
      "[Parallel(n_jobs=-1)]: Using backend LokyBackend with 8 concurrent workers.\n",
      "[Parallel(n_jobs=-1)]: Done   3 out of   3 | elapsed:  7.5min remaining:    0.0s\n",
      "[Parallel(n_jobs=-1)]: Done   3 out of   3 | elapsed:  7.5min finished\n",
      "[0.84, 0.16] done\n",
      "[Parallel(n_jobs=-1)]: Using backend LokyBackend with 8 concurrent workers.\n",
      "[Parallel(n_jobs=-1)]: Done   3 out of   3 | elapsed:  7.6min remaining:    0.0s\n",
      "[Parallel(n_jobs=-1)]: Done   3 out of   3 | elapsed:  7.6min finished\n",
      "[0.85, 0.15] done\n",
      "[Parallel(n_jobs=-1)]: Using backend LokyBackend with 8 concurrent workers.\n",
      "[Parallel(n_jobs=-1)]: Done   3 out of   3 | elapsed:  7.7min remaining:    0.0s\n",
      "[Parallel(n_jobs=-1)]: Done   3 out of   3 | elapsed:  7.7min finished\n",
      "[0.86, 0.14] done\n",
      "[Parallel(n_jobs=-1)]: Using backend LokyBackend with 8 concurrent workers.\n",
      "[Parallel(n_jobs=-1)]: Done   3 out of   3 | elapsed:  7.6min remaining:    0.0s\n",
      "[Parallel(n_jobs=-1)]: Done   3 out of   3 | elapsed:  7.6min finished\n",
      "[0.87, 0.13] done\n",
      "[Parallel(n_jobs=-1)]: Using backend LokyBackend with 8 concurrent workers.\n",
      "[Parallel(n_jobs=-1)]: Done   3 out of   3 | elapsed: 14.6min remaining:    0.0s\n",
      "[Parallel(n_jobs=-1)]: Done   3 out of   3 | elapsed: 14.6min finished\n",
      "[0.88, 0.12] done\n",
      "[Parallel(n_jobs=-1)]: Using backend LokyBackend with 8 concurrent workers.\n",
      "[Parallel(n_jobs=-1)]: Done   3 out of   3 | elapsed: 19.6min remaining:    0.0s\n",
      "[Parallel(n_jobs=-1)]: Done   3 out of   3 | elapsed: 19.6min finished\n",
      "[0.89, 0.11] done\n",
      "[Parallel(n_jobs=-1)]: Using backend LokyBackend with 8 concurrent workers.\n",
      "[Parallel(n_jobs=-1)]: Done   3 out of   3 | elapsed: 13.8min finished\n",
      "[Parallel(n_jobs=-1)]: Done   3 out of   3 | elapsed: 13.8min remaining:    0.0s\n",
      "[0.9, 0.1] done\n",
      "[Parallel(n_jobs=-1)]: Using backend LokyBackend with 8 concurrent workers.\n",
      "[Parallel(n_jobs=-1)]: Done   3 out of   3 | elapsed: 17.0min remaining:    0.0s\n",
      "[Parallel(n_jobs=-1)]: Done   3 out of   3 | elapsed: 17.0min finished\n",
      "[0.91, 0.09] done\n",
      "[Parallel(n_jobs=-1)]: Using backend LokyBackend with 8 concurrent workers.\n",
      "[Parallel(n_jobs=-1)]: Done   3 out of   3 | elapsed:  3.1min remaining:    0.0s\n",
      "[Parallel(n_jobs=-1)]: Done   3 out of   3 | elapsed:  3.1min finished\n",
      "[0.92, 0.08] done\n",
      "[Parallel(n_jobs=-1)]: Using backend LokyBackend with 8 concurrent workers.\n",
      "[Parallel(n_jobs=-1)]: Done   3 out of   3 | elapsed:  2.5min remaining:    0.0s\n",
      "[Parallel(n_jobs=-1)]: Done   3 out of   3 | elapsed:  2.5min finished\n",
      "[0.93, 0.07] done\n",
      "[Parallel(n_jobs=-1)]: Using backend LokyBackend with 8 concurrent workers.\n",
      "[Parallel(n_jobs=-1)]: Done   3 out of   3 | elapsed:  2.3min remaining:    0.0s\n",
      "[Parallel(n_jobs=-1)]: Done   3 out of   3 | elapsed:  2.3min finished\n",
      "[0.94, 0.06] done\n",
      "[Parallel(n_jobs=-1)]: Using backend LokyBackend with 8 concurrent workers.\n",
      "[Parallel(n_jobs=-1)]: Done   3 out of   3 | elapsed:  1.9min remaining:    0.0s\n",
      "[Parallel(n_jobs=-1)]: Done   3 out of   3 | elapsed:  1.9min finished\n",
      "[0.95, 0.05] done\n",
      "[Parallel(n_jobs=-1)]: Using backend LokyBackend with 8 concurrent workers.\n",
      "[Parallel(n_jobs=-1)]: Done   3 out of   3 | elapsed:  2.0min remaining:    0.0s\n",
      "[Parallel(n_jobs=-1)]: Done   3 out of   3 | elapsed:  2.0min finished\n",
      "[0.96, 0.04] done\n",
      "[Parallel(n_jobs=-1)]: Using backend LokyBackend with 8 concurrent workers.\n",
      "[Parallel(n_jobs=-1)]: Done   3 out of   3 | elapsed:  2.0min remaining:    0.0s\n",
      "[Parallel(n_jobs=-1)]: Done   3 out of   3 | elapsed:  2.0min finished\n",
      "[0.97, 0.03] done\n",
      "[Parallel(n_jobs=-1)]: Using backend LokyBackend with 8 concurrent workers.\n",
      "[Parallel(n_jobs=-1)]: Done   3 out of   3 | elapsed:  2.0min remaining:    0.0s\n",
      "[Parallel(n_jobs=-1)]: Done   3 out of   3 | elapsed:  2.0min finished\n",
      "[0.98, 0.02] done\n",
      "[Parallel(n_jobs=-1)]: Using backend LokyBackend with 8 concurrent workers.\n",
      "[Parallel(n_jobs=-1)]: Done   3 out of   3 | elapsed:  1.7min remaining:    0.0s\n",
      "[Parallel(n_jobs=-1)]: Done   3 out of   3 | elapsed:  1.7min finished\n",
      "[0.99, 0.01] done\n",
      "[Parallel(n_jobs=-1)]: Using backend LokyBackend with 8 concurrent workers.\n",
      "[Parallel(n_jobs=-1)]: Done   3 out of   3 | elapsed:  2.0min remaining:    0.0s\n",
      "[Parallel(n_jobs=-1)]: Done   3 out of   3 | elapsed:  2.0min finished\n",
      "[1.0, 0.0] done\n"
     ]
    }
   ],
   "source": [
    "results = []\n",
    "X_train, X_test, y_train, y_test = train_test_split(X.compute(), y, test_size=0.2, shuffle=True)\n",
    "for p in priors:\n",
    "    lda = LinearDiscriminantAnalysis(priors=p)\n",
    "    CV_scores = cross_val_score(estimator=lda, X = X_train, y = y_train, cv=3, n_jobs=-1, verbose=5, scoring=custom_scoring)\n",
    "    results.append({'params': p, 'scores':CV_scores, 'mean_score': CV_scores.mean()})\n",
    "    print(p, 'done')\n"
   ]
  },
  {
   "cell_type": "code",
   "execution_count": 50,
   "metadata": {},
   "outputs": [
    {
     "output_type": "execute_result",
     "data": {
      "text/plain": [
       "           params                    scores     mean_score\n",
       "0      [0.0, 1.0]     [66470, 66469, 66469]   66469.333333\n",
       "1    [0.01, 0.99]     [66476, 66475, 66487]   66479.333333\n",
       "2    [0.02, 0.98]     [66479, 66477, 66490]   66482.000000\n",
       "3    [0.03, 0.97]     [66480, 66479, 66490]   66483.000000\n",
       "4    [0.04, 0.96]     [66482, 66481, 66493]   66485.333333\n",
       "5    [0.05, 0.95]     [66486, 66482, 66492]   66486.666667\n",
       "6    [0.06, 0.94]     [66489, 66485, 66493]   66489.000000\n",
       "7    [0.07, 0.93]     [66493, 66485, 66494]   66490.666667\n",
       "8    [0.08, 0.92]     [66495, 66488, 66489]   66490.666667\n",
       "9    [0.09, 0.91]     [66495, 66485, 66490]   66490.000000\n",
       "10     [0.1, 0.9]     [66464, 66473, 66480]   66472.333333\n",
       "11   [0.11, 0.89]     [66414, 66431, 66425]   66423.333333\n",
       "12   [0.12, 0.88]     [66336, 66387, 66375]   66366.000000\n",
       "13   [0.13, 0.87]     [66276, 66364, 66363]   66334.333333\n",
       "14   [0.14, 0.86]     [66223, 66371, 66268]   66287.333333\n",
       "15   [0.15, 0.85]     [66186, 66371, 66246]   66267.666667\n",
       "16   [0.16, 0.84]     [66178, 66365, 66213]   66252.000000\n",
       "17   [0.17, 0.83]     [66209, 66383, 66177]   66256.333333\n",
       "18   [0.18, 0.82]     [66361, 66428, 66243]   66344.000000\n",
       "19   [0.19, 0.81]     [66527, 66613, 66456]   66532.000000\n",
       "20     [0.2, 0.8]     [66730, 66863, 66677]   66756.666667\n",
       "21   [0.21, 0.79]     [67010, 67257, 66960]   67075.666667\n",
       "22   [0.22, 0.78]     [67363, 67642, 67305]   67436.666667\n",
       "23   [0.23, 0.77]     [67857, 68136, 67790]   67927.666667\n",
       "24   [0.24, 0.76]     [68371, 68745, 68224]   68446.666667\n",
       "25   [0.25, 0.75]     [69003, 69332, 68922]   69085.666667\n",
       "26   [0.26, 0.74]     [69607, 70118, 69637]   69787.333333\n",
       "27   [0.27, 0.73]     [70441, 70883, 70315]   70546.333333\n",
       "28   [0.28, 0.72]     [71246, 71687, 71145]   71359.333333\n",
       "29   [0.29, 0.71]     [72205, 72596, 71999]   72266.666667\n",
       "30     [0.3, 0.7]     [73190, 73736, 72999]   73308.333333\n",
       "31   [0.31, 0.69]     [74284, 74902, 74220]   74468.666667\n",
       "32   [0.32, 0.68]     [75603, 76039, 75484]   75708.666667\n",
       "33   [0.33, 0.67]     [76920, 77324, 76879]   77041.000000\n",
       "34   [0.34, 0.66]     [78452, 78771, 78330]   78517.666667\n",
       "35   [0.35, 0.65]     [80055, 80414, 79895]   80121.333333\n",
       "36   [0.36, 0.64]     [81836, 82169, 81559]   81854.666667\n",
       "37   [0.37, 0.63]     [83662, 83989, 83430]   83693.666667\n",
       "38   [0.38, 0.62]     [85598, 86017, 85489]   85701.333333\n",
       "39   [0.39, 0.61]     [87670, 88002, 87597]   87756.333333\n",
       "40     [0.4, 0.6]     [89785, 90295, 89785]   89955.000000\n",
       "41   [0.41, 0.59]     [92171, 92482, 92154]   92269.000000\n",
       "42   [0.42, 0.58]     [94609, 95002, 94620]   94743.666667\n",
       "43   [0.43, 0.57]     [97361, 97598, 97281]   97413.333333\n",
       "44   [0.44, 0.56]  [100118, 100495, 100040]  100217.666667\n",
       "45   [0.45, 0.55]  [103020, 103309, 102987]  103105.333333\n",
       "46   [0.46, 0.54]  [106067, 106248, 106074]  106129.666667\n",
       "47   [0.47, 0.53]  [109094, 109239, 109080]  109137.666667\n",
       "48   [0.48, 0.52]  [112375, 112368, 112314]  112352.333333\n",
       "49   [0.49, 0.51]  [115845, 115791, 115579]  115738.333333\n",
       "50     [0.5, 0.5]  [119271, 119189, 119119]  119193.000000\n",
       "51   [0.51, 0.49]  [122909, 122819, 122668]  122798.666667\n",
       "52   [0.52, 0.48]  [126736, 126422, 126312]  126490.000000\n",
       "53   [0.53, 0.47]  [130642, 130151, 130241]  130344.666667\n",
       "54   [0.54, 0.46]  [134793, 134078, 134436]  134435.666667\n",
       "55   [0.55, 0.45]  [139019, 138203, 138596]  138606.000000\n",
       "56   [0.56, 0.44]  [143398, 142433, 142896]  142909.000000\n",
       "57   [0.57, 0.43]  [147832, 146811, 147296]  147313.000000\n",
       "58   [0.58, 0.42]  [152465, 151228, 151920]  151871.000000\n",
       "59   [0.59, 0.41]  [157349, 155878, 156695]  156640.666667\n",
       "60     [0.6, 0.4]  [162293, 160579, 161520]  161464.000000\n",
       "61   [0.61, 0.39]  [167363, 165691, 166550]  166534.666667\n",
       "62   [0.62, 0.38]  [172530, 170836, 171756]  171707.333333\n",
       "63   [0.63, 0.37]  [177912, 176163, 177132]  177069.000000\n",
       "64   [0.64, 0.36]  [183466, 181617, 182691]  182591.333333\n",
       "65   [0.65, 0.35]  [189017, 187155, 188291]  188154.333333\n",
       "66   [0.66, 0.34]  [194673, 193057, 193984]  193904.666667\n",
       "67   [0.67, 0.33]  [200394, 198757, 199768]  199639.666667\n",
       "68   [0.68, 0.32]  [206167, 204681, 205684]  205510.666667\n",
       "69   [0.69, 0.31]  [212206, 210581, 211609]  211465.333333\n",
       "70     [0.7, 0.3]  [218084, 216445, 217479]  217336.000000\n",
       "71   [0.71, 0.29]  [224009, 222352, 223429]  223263.333333\n",
       "72   [0.72, 0.28]  [229840, 228324, 229265]  229143.000000\n",
       "73   [0.73, 0.27]  [235471, 234305, 234955]  234910.333333\n",
       "74   [0.74, 0.26]  [241159, 239992, 240615]  240588.666667\n",
       "75   [0.75, 0.25]  [246639, 245467, 246042]  246049.333333\n",
       "76   [0.76, 0.24]  [251863, 250706, 251283]  251284.000000\n",
       "77   [0.77, 0.23]  [256766, 255767, 256136]  256223.000000\n",
       "78   [0.78, 0.22]  [261293, 260406, 260588]  260762.333333\n",
       "79   [0.79, 0.21]  [265465, 264574, 264737]  264925.333333\n",
       "80     [0.8, 0.2]  [269109, 268268, 268377]  268584.666667\n",
       "81   [0.81, 0.19]  [272132, 271494, 271511]  271712.333333\n",
       "82   [0.82, 0.18]  [274742, 274140, 274175]  274352.333333\n",
       "83   [0.83, 0.17]  [276755, 276250, 276280]  276428.333333\n",
       "84   [0.84, 0.16]  [278261, 277940, 277929]  278043.333333\n",
       "85   [0.85, 0.15]  [279371, 279098, 279194]  279221.000000\n",
       "86   [0.86, 0.14]  [280105, 279928, 279999]  280010.666667\n",
       "87   [0.87, 0.13]  [280555, 280466, 280481]  280500.666667\n",
       "88   [0.88, 0.12]  [280795, 280729, 280778]  280767.333333\n",
       "89   [0.89, 0.11]  [280929, 280896, 280920]  280915.000000\n",
       "90     [0.9, 0.1]  [280975, 280956, 280976]  280969.000000\n",
       "91   [0.91, 0.09]  [280996, 280981, 280996]  280991.000000\n",
       "92   [0.92, 0.08]           [nan, nan, nan]            NaN\n",
       "93   [0.93, 0.07]           [nan, nan, nan]            NaN\n",
       "94   [0.94, 0.06]           [nan, nan, nan]            NaN\n",
       "95   [0.95, 0.05]           [nan, nan, nan]            NaN\n",
       "96   [0.96, 0.04]           [nan, nan, nan]            NaN\n",
       "97   [0.97, 0.03]           [nan, nan, nan]            NaN\n",
       "98   [0.98, 0.02]           [nan, nan, nan]            NaN\n",
       "99   [0.99, 0.01]           [nan, nan, nan]            NaN\n",
       "100    [1.0, 0.0]           [nan, nan, nan]            NaN"
      ],
      "text/html": "<div>\n<style scoped>\n    .dataframe tbody tr th:only-of-type {\n        vertical-align: middle;\n    }\n\n    .dataframe tbody tr th {\n        vertical-align: top;\n    }\n\n    .dataframe thead th {\n        text-align: right;\n    }\n</style>\n<table border=\"1\" class=\"dataframe\">\n  <thead>\n    <tr style=\"text-align: right;\">\n      <th></th>\n      <th>params</th>\n      <th>scores</th>\n      <th>mean_score</th>\n    </tr>\n  </thead>\n  <tbody>\n    <tr>\n      <th>0</th>\n      <td>[0.0, 1.0]</td>\n      <td>[66470, 66469, 66469]</td>\n      <td>66469.333333</td>\n    </tr>\n    <tr>\n      <th>1</th>\n      <td>[0.01, 0.99]</td>\n      <td>[66476, 66475, 66487]</td>\n      <td>66479.333333</td>\n    </tr>\n    <tr>\n      <th>2</th>\n      <td>[0.02, 0.98]</td>\n      <td>[66479, 66477, 66490]</td>\n      <td>66482.000000</td>\n    </tr>\n    <tr>\n      <th>3</th>\n      <td>[0.03, 0.97]</td>\n      <td>[66480, 66479, 66490]</td>\n      <td>66483.000000</td>\n    </tr>\n    <tr>\n      <th>4</th>\n      <td>[0.04, 0.96]</td>\n      <td>[66482, 66481, 66493]</td>\n      <td>66485.333333</td>\n    </tr>\n    <tr>\n      <th>5</th>\n      <td>[0.05, 0.95]</td>\n      <td>[66486, 66482, 66492]</td>\n      <td>66486.666667</td>\n    </tr>\n    <tr>\n      <th>6</th>\n      <td>[0.06, 0.94]</td>\n      <td>[66489, 66485, 66493]</td>\n      <td>66489.000000</td>\n    </tr>\n    <tr>\n      <th>7</th>\n      <td>[0.07, 0.93]</td>\n      <td>[66493, 66485, 66494]</td>\n      <td>66490.666667</td>\n    </tr>\n    <tr>\n      <th>8</th>\n      <td>[0.08, 0.92]</td>\n      <td>[66495, 66488, 66489]</td>\n      <td>66490.666667</td>\n    </tr>\n    <tr>\n      <th>9</th>\n      <td>[0.09, 0.91]</td>\n      <td>[66495, 66485, 66490]</td>\n      <td>66490.000000</td>\n    </tr>\n    <tr>\n      <th>10</th>\n      <td>[0.1, 0.9]</td>\n      <td>[66464, 66473, 66480]</td>\n      <td>66472.333333</td>\n    </tr>\n    <tr>\n      <th>11</th>\n      <td>[0.11, 0.89]</td>\n      <td>[66414, 66431, 66425]</td>\n      <td>66423.333333</td>\n    </tr>\n    <tr>\n      <th>12</th>\n      <td>[0.12, 0.88]</td>\n      <td>[66336, 66387, 66375]</td>\n      <td>66366.000000</td>\n    </tr>\n    <tr>\n      <th>13</th>\n      <td>[0.13, 0.87]</td>\n      <td>[66276, 66364, 66363]</td>\n      <td>66334.333333</td>\n    </tr>\n    <tr>\n      <th>14</th>\n      <td>[0.14, 0.86]</td>\n      <td>[66223, 66371, 66268]</td>\n      <td>66287.333333</td>\n    </tr>\n    <tr>\n      <th>15</th>\n      <td>[0.15, 0.85]</td>\n      <td>[66186, 66371, 66246]</td>\n      <td>66267.666667</td>\n    </tr>\n    <tr>\n      <th>16</th>\n      <td>[0.16, 0.84]</td>\n      <td>[66178, 66365, 66213]</td>\n      <td>66252.000000</td>\n    </tr>\n    <tr>\n      <th>17</th>\n      <td>[0.17, 0.83]</td>\n      <td>[66209, 66383, 66177]</td>\n      <td>66256.333333</td>\n    </tr>\n    <tr>\n      <th>18</th>\n      <td>[0.18, 0.82]</td>\n      <td>[66361, 66428, 66243]</td>\n      <td>66344.000000</td>\n    </tr>\n    <tr>\n      <th>19</th>\n      <td>[0.19, 0.81]</td>\n      <td>[66527, 66613, 66456]</td>\n      <td>66532.000000</td>\n    </tr>\n    <tr>\n      <th>20</th>\n      <td>[0.2, 0.8]</td>\n      <td>[66730, 66863, 66677]</td>\n      <td>66756.666667</td>\n    </tr>\n    <tr>\n      <th>21</th>\n      <td>[0.21, 0.79]</td>\n      <td>[67010, 67257, 66960]</td>\n      <td>67075.666667</td>\n    </tr>\n    <tr>\n      <th>22</th>\n      <td>[0.22, 0.78]</td>\n      <td>[67363, 67642, 67305]</td>\n      <td>67436.666667</td>\n    </tr>\n    <tr>\n      <th>23</th>\n      <td>[0.23, 0.77]</td>\n      <td>[67857, 68136, 67790]</td>\n      <td>67927.666667</td>\n    </tr>\n    <tr>\n      <th>24</th>\n      <td>[0.24, 0.76]</td>\n      <td>[68371, 68745, 68224]</td>\n      <td>68446.666667</td>\n    </tr>\n    <tr>\n      <th>25</th>\n      <td>[0.25, 0.75]</td>\n      <td>[69003, 69332, 68922]</td>\n      <td>69085.666667</td>\n    </tr>\n    <tr>\n      <th>26</th>\n      <td>[0.26, 0.74]</td>\n      <td>[69607, 70118, 69637]</td>\n      <td>69787.333333</td>\n    </tr>\n    <tr>\n      <th>27</th>\n      <td>[0.27, 0.73]</td>\n      <td>[70441, 70883, 70315]</td>\n      <td>70546.333333</td>\n    </tr>\n    <tr>\n      <th>28</th>\n      <td>[0.28, 0.72]</td>\n      <td>[71246, 71687, 71145]</td>\n      <td>71359.333333</td>\n    </tr>\n    <tr>\n      <th>29</th>\n      <td>[0.29, 0.71]</td>\n      <td>[72205, 72596, 71999]</td>\n      <td>72266.666667</td>\n    </tr>\n    <tr>\n      <th>30</th>\n      <td>[0.3, 0.7]</td>\n      <td>[73190, 73736, 72999]</td>\n      <td>73308.333333</td>\n    </tr>\n    <tr>\n      <th>31</th>\n      <td>[0.31, 0.69]</td>\n      <td>[74284, 74902, 74220]</td>\n      <td>74468.666667</td>\n    </tr>\n    <tr>\n      <th>32</th>\n      <td>[0.32, 0.68]</td>\n      <td>[75603, 76039, 75484]</td>\n      <td>75708.666667</td>\n    </tr>\n    <tr>\n      <th>33</th>\n      <td>[0.33, 0.67]</td>\n      <td>[76920, 77324, 76879]</td>\n      <td>77041.000000</td>\n    </tr>\n    <tr>\n      <th>34</th>\n      <td>[0.34, 0.66]</td>\n      <td>[78452, 78771, 78330]</td>\n      <td>78517.666667</td>\n    </tr>\n    <tr>\n      <th>35</th>\n      <td>[0.35, 0.65]</td>\n      <td>[80055, 80414, 79895]</td>\n      <td>80121.333333</td>\n    </tr>\n    <tr>\n      <th>36</th>\n      <td>[0.36, 0.64]</td>\n      <td>[81836, 82169, 81559]</td>\n      <td>81854.666667</td>\n    </tr>\n    <tr>\n      <th>37</th>\n      <td>[0.37, 0.63]</td>\n      <td>[83662, 83989, 83430]</td>\n      <td>83693.666667</td>\n    </tr>\n    <tr>\n      <th>38</th>\n      <td>[0.38, 0.62]</td>\n      <td>[85598, 86017, 85489]</td>\n      <td>85701.333333</td>\n    </tr>\n    <tr>\n      <th>39</th>\n      <td>[0.39, 0.61]</td>\n      <td>[87670, 88002, 87597]</td>\n      <td>87756.333333</td>\n    </tr>\n    <tr>\n      <th>40</th>\n      <td>[0.4, 0.6]</td>\n      <td>[89785, 90295, 89785]</td>\n      <td>89955.000000</td>\n    </tr>\n    <tr>\n      <th>41</th>\n      <td>[0.41, 0.59]</td>\n      <td>[92171, 92482, 92154]</td>\n      <td>92269.000000</td>\n    </tr>\n    <tr>\n      <th>42</th>\n      <td>[0.42, 0.58]</td>\n      <td>[94609, 95002, 94620]</td>\n      <td>94743.666667</td>\n    </tr>\n    <tr>\n      <th>43</th>\n      <td>[0.43, 0.57]</td>\n      <td>[97361, 97598, 97281]</td>\n      <td>97413.333333</td>\n    </tr>\n    <tr>\n      <th>44</th>\n      <td>[0.44, 0.56]</td>\n      <td>[100118, 100495, 100040]</td>\n      <td>100217.666667</td>\n    </tr>\n    <tr>\n      <th>45</th>\n      <td>[0.45, 0.55]</td>\n      <td>[103020, 103309, 102987]</td>\n      <td>103105.333333</td>\n    </tr>\n    <tr>\n      <th>46</th>\n      <td>[0.46, 0.54]</td>\n      <td>[106067, 106248, 106074]</td>\n      <td>106129.666667</td>\n    </tr>\n    <tr>\n      <th>47</th>\n      <td>[0.47, 0.53]</td>\n      <td>[109094, 109239, 109080]</td>\n      <td>109137.666667</td>\n    </tr>\n    <tr>\n      <th>48</th>\n      <td>[0.48, 0.52]</td>\n      <td>[112375, 112368, 112314]</td>\n      <td>112352.333333</td>\n    </tr>\n    <tr>\n      <th>49</th>\n      <td>[0.49, 0.51]</td>\n      <td>[115845, 115791, 115579]</td>\n      <td>115738.333333</td>\n    </tr>\n    <tr>\n      <th>50</th>\n      <td>[0.5, 0.5]</td>\n      <td>[119271, 119189, 119119]</td>\n      <td>119193.000000</td>\n    </tr>\n    <tr>\n      <th>51</th>\n      <td>[0.51, 0.49]</td>\n      <td>[122909, 122819, 122668]</td>\n      <td>122798.666667</td>\n    </tr>\n    <tr>\n      <th>52</th>\n      <td>[0.52, 0.48]</td>\n      <td>[126736, 126422, 126312]</td>\n      <td>126490.000000</td>\n    </tr>\n    <tr>\n      <th>53</th>\n      <td>[0.53, 0.47]</td>\n      <td>[130642, 130151, 130241]</td>\n      <td>130344.666667</td>\n    </tr>\n    <tr>\n      <th>54</th>\n      <td>[0.54, 0.46]</td>\n      <td>[134793, 134078, 134436]</td>\n      <td>134435.666667</td>\n    </tr>\n    <tr>\n      <th>55</th>\n      <td>[0.55, 0.45]</td>\n      <td>[139019, 138203, 138596]</td>\n      <td>138606.000000</td>\n    </tr>\n    <tr>\n      <th>56</th>\n      <td>[0.56, 0.44]</td>\n      <td>[143398, 142433, 142896]</td>\n      <td>142909.000000</td>\n    </tr>\n    <tr>\n      <th>57</th>\n      <td>[0.57, 0.43]</td>\n      <td>[147832, 146811, 147296]</td>\n      <td>147313.000000</td>\n    </tr>\n    <tr>\n      <th>58</th>\n      <td>[0.58, 0.42]</td>\n      <td>[152465, 151228, 151920]</td>\n      <td>151871.000000</td>\n    </tr>\n    <tr>\n      <th>59</th>\n      <td>[0.59, 0.41]</td>\n      <td>[157349, 155878, 156695]</td>\n      <td>156640.666667</td>\n    </tr>\n    <tr>\n      <th>60</th>\n      <td>[0.6, 0.4]</td>\n      <td>[162293, 160579, 161520]</td>\n      <td>161464.000000</td>\n    </tr>\n    <tr>\n      <th>61</th>\n      <td>[0.61, 0.39]</td>\n      <td>[167363, 165691, 166550]</td>\n      <td>166534.666667</td>\n    </tr>\n    <tr>\n      <th>62</th>\n      <td>[0.62, 0.38]</td>\n      <td>[172530, 170836, 171756]</td>\n      <td>171707.333333</td>\n    </tr>\n    <tr>\n      <th>63</th>\n      <td>[0.63, 0.37]</td>\n      <td>[177912, 176163, 177132]</td>\n      <td>177069.000000</td>\n    </tr>\n    <tr>\n      <th>64</th>\n      <td>[0.64, 0.36]</td>\n      <td>[183466, 181617, 182691]</td>\n      <td>182591.333333</td>\n    </tr>\n    <tr>\n      <th>65</th>\n      <td>[0.65, 0.35]</td>\n      <td>[189017, 187155, 188291]</td>\n      <td>188154.333333</td>\n    </tr>\n    <tr>\n      <th>66</th>\n      <td>[0.66, 0.34]</td>\n      <td>[194673, 193057, 193984]</td>\n      <td>193904.666667</td>\n    </tr>\n    <tr>\n      <th>67</th>\n      <td>[0.67, 0.33]</td>\n      <td>[200394, 198757, 199768]</td>\n      <td>199639.666667</td>\n    </tr>\n    <tr>\n      <th>68</th>\n      <td>[0.68, 0.32]</td>\n      <td>[206167, 204681, 205684]</td>\n      <td>205510.666667</td>\n    </tr>\n    <tr>\n      <th>69</th>\n      <td>[0.69, 0.31]</td>\n      <td>[212206, 210581, 211609]</td>\n      <td>211465.333333</td>\n    </tr>\n    <tr>\n      <th>70</th>\n      <td>[0.7, 0.3]</td>\n      <td>[218084, 216445, 217479]</td>\n      <td>217336.000000</td>\n    </tr>\n    <tr>\n      <th>71</th>\n      <td>[0.71, 0.29]</td>\n      <td>[224009, 222352, 223429]</td>\n      <td>223263.333333</td>\n    </tr>\n    <tr>\n      <th>72</th>\n      <td>[0.72, 0.28]</td>\n      <td>[229840, 228324, 229265]</td>\n      <td>229143.000000</td>\n    </tr>\n    <tr>\n      <th>73</th>\n      <td>[0.73, 0.27]</td>\n      <td>[235471, 234305, 234955]</td>\n      <td>234910.333333</td>\n    </tr>\n    <tr>\n      <th>74</th>\n      <td>[0.74, 0.26]</td>\n      <td>[241159, 239992, 240615]</td>\n      <td>240588.666667</td>\n    </tr>\n    <tr>\n      <th>75</th>\n      <td>[0.75, 0.25]</td>\n      <td>[246639, 245467, 246042]</td>\n      <td>246049.333333</td>\n    </tr>\n    <tr>\n      <th>76</th>\n      <td>[0.76, 0.24]</td>\n      <td>[251863, 250706, 251283]</td>\n      <td>251284.000000</td>\n    </tr>\n    <tr>\n      <th>77</th>\n      <td>[0.77, 0.23]</td>\n      <td>[256766, 255767, 256136]</td>\n      <td>256223.000000</td>\n    </tr>\n    <tr>\n      <th>78</th>\n      <td>[0.78, 0.22]</td>\n      <td>[261293, 260406, 260588]</td>\n      <td>260762.333333</td>\n    </tr>\n    <tr>\n      <th>79</th>\n      <td>[0.79, 0.21]</td>\n      <td>[265465, 264574, 264737]</td>\n      <td>264925.333333</td>\n    </tr>\n    <tr>\n      <th>80</th>\n      <td>[0.8, 0.2]</td>\n      <td>[269109, 268268, 268377]</td>\n      <td>268584.666667</td>\n    </tr>\n    <tr>\n      <th>81</th>\n      <td>[0.81, 0.19]</td>\n      <td>[272132, 271494, 271511]</td>\n      <td>271712.333333</td>\n    </tr>\n    <tr>\n      <th>82</th>\n      <td>[0.82, 0.18]</td>\n      <td>[274742, 274140, 274175]</td>\n      <td>274352.333333</td>\n    </tr>\n    <tr>\n      <th>83</th>\n      <td>[0.83, 0.17]</td>\n      <td>[276755, 276250, 276280]</td>\n      <td>276428.333333</td>\n    </tr>\n    <tr>\n      <th>84</th>\n      <td>[0.84, 0.16]</td>\n      <td>[278261, 277940, 277929]</td>\n      <td>278043.333333</td>\n    </tr>\n    <tr>\n      <th>85</th>\n      <td>[0.85, 0.15]</td>\n      <td>[279371, 279098, 279194]</td>\n      <td>279221.000000</td>\n    </tr>\n    <tr>\n      <th>86</th>\n      <td>[0.86, 0.14]</td>\n      <td>[280105, 279928, 279999]</td>\n      <td>280010.666667</td>\n    </tr>\n    <tr>\n      <th>87</th>\n      <td>[0.87, 0.13]</td>\n      <td>[280555, 280466, 280481]</td>\n      <td>280500.666667</td>\n    </tr>\n    <tr>\n      <th>88</th>\n      <td>[0.88, 0.12]</td>\n      <td>[280795, 280729, 280778]</td>\n      <td>280767.333333</td>\n    </tr>\n    <tr>\n      <th>89</th>\n      <td>[0.89, 0.11]</td>\n      <td>[280929, 280896, 280920]</td>\n      <td>280915.000000</td>\n    </tr>\n    <tr>\n      <th>90</th>\n      <td>[0.9, 0.1]</td>\n      <td>[280975, 280956, 280976]</td>\n      <td>280969.000000</td>\n    </tr>\n    <tr>\n      <th>91</th>\n      <td>[0.91, 0.09]</td>\n      <td>[280996, 280981, 280996]</td>\n      <td>280991.000000</td>\n    </tr>\n    <tr>\n      <th>92</th>\n      <td>[0.92, 0.08]</td>\n      <td>[nan, nan, nan]</td>\n      <td>NaN</td>\n    </tr>\n    <tr>\n      <th>93</th>\n      <td>[0.93, 0.07]</td>\n      <td>[nan, nan, nan]</td>\n      <td>NaN</td>\n    </tr>\n    <tr>\n      <th>94</th>\n      <td>[0.94, 0.06]</td>\n      <td>[nan, nan, nan]</td>\n      <td>NaN</td>\n    </tr>\n    <tr>\n      <th>95</th>\n      <td>[0.95, 0.05]</td>\n      <td>[nan, nan, nan]</td>\n      <td>NaN</td>\n    </tr>\n    <tr>\n      <th>96</th>\n      <td>[0.96, 0.04]</td>\n      <td>[nan, nan, nan]</td>\n      <td>NaN</td>\n    </tr>\n    <tr>\n      <th>97</th>\n      <td>[0.97, 0.03]</td>\n      <td>[nan, nan, nan]</td>\n      <td>NaN</td>\n    </tr>\n    <tr>\n      <th>98</th>\n      <td>[0.98, 0.02]</td>\n      <td>[nan, nan, nan]</td>\n      <td>NaN</td>\n    </tr>\n    <tr>\n      <th>99</th>\n      <td>[0.99, 0.01]</td>\n      <td>[nan, nan, nan]</td>\n      <td>NaN</td>\n    </tr>\n    <tr>\n      <th>100</th>\n      <td>[1.0, 0.0]</td>\n      <td>[nan, nan, nan]</td>\n      <td>NaN</td>\n    </tr>\n  </tbody>\n</table>\n</div>"
     },
     "metadata": {},
     "execution_count": 50
    }
   ],
   "source": [
    "resultsDF = pd.DataFrame(results)\n",
    "resultsDF"
   ]
  },
  {
   "cell_type": "code",
   "execution_count": 51,
   "metadata": {},
   "outputs": [],
   "source": [
    "resultsDF.to_csv('../data/results.csv')"
   ]
  }
 ]
}