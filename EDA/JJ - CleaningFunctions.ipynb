{
 "cells": [
  {
   "cell_type": "code",
   "execution_count": 1,
   "metadata": {},
   "outputs": [],
   "source": [
    "import pandas as pd\n",
    "import numpy as np\n",
    "import seaborn as sns\n",
    "%matplotlib inline \n",
    "import matplotlib.pyplot as plt\n",
    "import dask\n",
    "import dask.dataframe as dd"
   ]
  },
  {
   "cell_type": "code",
   "execution_count": 3,
   "metadata": {},
   "outputs": [],
   "source": [
    "#my subset\n",
    "df1 = dd.read_csv('accepted_2007_to_2018Q4.csv', usecols=['acc_now_delinq','acc_open_past_24mths','addr_state','all_util',\n",
    "                'annual_inc','annual_inc_joint','application_type','avg_cur_bal',\n",
    "                'bc_open_to_buy','bc_util','chargeoff_within_12_mths','collection_recovery_fee',\n",
    "                'collections_12_mths_ex_med','debt_settlement_flag','debt_settlement_flag_date',\n",
    "                'deferral_term','delinq_2yrs','delinq_amnt','disbursement_method',\n",
    "                'dti','dti_joint','earliest_cr_line','emp_length','emp_title',\n",
    "                'fico_range_high','fico_range_low','funded_amnt','funded_amnt_inv',\n",
    "                'grade','int_rate','loan_status','issue_d'], low_memory = False)"
   ]
  },
  {
   "cell_type": "code",
   "execution_count": 4,
   "metadata": {},
   "outputs": [],
   "source": [
    "def recent_years(df):\n",
    "    df['issue_d']=dd.to_datetime(df.issue_d)\n",
    "    df = df.loc[df['issue_d'].dt.year.between(2015,2018)]\n",
    "    df = df.dropna(subset=['issue_d'])\n",
    "    return df "
   ]
  },
  {
   "cell_type": "code",
   "execution_count": 5,
   "metadata": {},
   "outputs": [],
   "source": [
    "def grade_change(df):\n",
    "    #drop F & G\n",
    "    df = df[(df.grade != 'F') & (df.grade != 'G')]\n",
    "    #encode grades\n",
    "    df['grade'] = df['grade'].mask(df['grade'] == 'E', '1').mask(df['grade'] == 'D', '2').mask(df['grade'] == 'C', '3').mask(df['grade'] == 'B', '4').mask(df['grade'] == 'A', '5')\n",
    "    return df"
   ]
  },
  {
   "cell_type": "code",
   "execution_count": 7,
   "metadata": {},
   "outputs": [],
   "source": [
    "def annual_inc(df):\n",
    "    df['annual_inc_total'] = df['annual_inc_joint'].fillna(df['annual_inc'])\n",
    "    #drop 2 outliers\n",
    "    df = df[df.annual_inc_total < .2e8]\n",
    "    df = df.drop(['annual_inc','annual_inc_joint'], axis=1)\n",
    "    return df"
   ]
  },
  {
   "cell_type": "code",
   "execution_count": 8,
   "metadata": {},
   "outputs": [],
   "source": [
    "# convert columns to binary\n",
    "import dask.array as da\n",
    "\n",
    "def make_binary(df):\n",
    "    x = df1['application_type'].to_dask_array()\n",
    "    y = df1['disbursement_method'].to_dask_array()\n",
    "    df['application_type_indiv']= da.where(x =='Individual',1,0)\n",
    "    df['disbursement_method_cash']= da.where(y =='Cash',1,0)\n",
    "    df = df.drop(['application_type','disbursement_method'], axis=1)\n",
    "    return df"
   ]
  },
  {
   "cell_type": "code",
   "execution_count": 9,
   "metadata": {},
   "outputs": [],
   "source": [
    "def date_format(df):\n",
    "    df['earliest_cr_line']=dd.to_datetime(df.earliest_cr_line,unit='ns')\n",
    "    return df"
   ]
  },
  {
   "cell_type": "code",
   "execution_count": null,
   "metadata": {},
   "outputs": [],
   "source": [
    "def drop_columns(df):\n",
    "    df = df.drop(['desc','collection_recovery_fee','debt_settlement_flag','debt_settlement_flag_date','deferral_term','funded_amnt','funded_amnt_inv'], axis=1)\n",
    "    return df"
   ]
  },
  {
   "cell_type": "markdown",
   "metadata": {},
   "source": [
    "#### Still need to deal with:"
   ]
  },
  {
   "cell_type": "code",
   "execution_count": null,
   "metadata": {},
   "outputs": [],
   "source": [
    "# addr_state needs to be dummified"
   ]
  },
  {
   "cell_type": "markdown",
   "metadata": {},
   "source": [
    "Missingness: \n",
    "- Mean impute all_util - 388,531 missing"
   ]
  },
  {
   "cell_type": "code",
   "execution_count": 16,
   "metadata": {},
   "outputs": [],
   "source": [
    "df1.all_util = df1.all_util.fillna(np.mean(df1.all_util))"
   ]
  },
  {
   "cell_type": "markdown",
   "metadata": {},
   "source": [
    "- avg_cur_bal - 55 missing"
   ]
  },
  {
   "cell_type": "code",
   "execution_count": null,
   "metadata": {},
   "outputs": [],
   "source": [
    "#drop?\n",
    "df = df.dropna(subset=['avg_cur_bal'])\n",
    "#mean impute?\n",
    "df1.avg_cur_bal = df1.avg_cur_bal.fillna(np.mean(df1.avg_cur_bal))"
   ]
  },
  {
   "cell_type": "markdown",
   "metadata": {},
   "source": [
    "- bc_open_to_buy - 20,182 missing\n",
    "- bc_util - 21,034 missing\n",
    "\n",
    "\n",
    "- dti - 1666 missing - verification status? (is annual_inc ok?)\n",
    "- dti_joint - 1,638,776 missing - verification status?\n",
    "\n",
    "\n",
    "- emp_length - missing 123,534\n",
    "- emp_title - ???"
   ]
  }
 ],
 "metadata": {
  "kernelspec": {
   "display_name": "Python 3",
   "language": "python",
   "name": "python3"
  },
  "language_info": {
   "codemirror_mode": {
    "name": "ipython",
    "version": 3
   },
   "file_extension": ".py",
   "mimetype": "text/x-python",
   "name": "python",
   "nbconvert_exporter": "python",
   "pygments_lexer": "ipython3",
   "version": "3.8.5"
  }
 },
 "nbformat": 4,
 "nbformat_minor": 4
}
