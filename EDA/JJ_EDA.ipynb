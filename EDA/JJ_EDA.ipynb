{
 "cells": [
  {
   "cell_type": "code",
   "execution_count": 39,
   "metadata": {},
   "outputs": [],
   "source": [
    "import pandas as pd\n",
    "import numpy as np\n",
    "import seaborn as sns\n",
    "%matplotlib inline \n",
    "import matplotlib.pyplot as plt\n",
    "import dask\n",
    "import dask.dataframe as dd"
   ]
  },
  {
   "cell_type": "markdown",
   "metadata": {},
   "source": [
    "#### Import my subset using Dask"
   ]
  },
  {
   "cell_type": "code",
   "execution_count": 40,
   "metadata": {},
   "outputs": [],
   "source": [
    "#my subset\n",
    "df1 = dd.read_csv('accepted_2007_to_2018Q4.csv', usecols=['acc_now_delinq','acc_open_past_24mths','addr_state','all_util',\n",
    "                'annual_inc','annual_inc_joint','application_type','avg_cur_bal',\n",
    "                'bc_open_to_buy','bc_util','chargeoff_within_12_mths','collection_recovery_fee',\n",
    "                'collections_12_mths_ex_med','debt_settlement_flag','debt_settlement_flag_date',\n",
    "                'deferral_term','delinq_2yrs','delinq_amnt','disbursement_method',\n",
    "                'dti','dti_joint','earliest_cr_line','emp_length','emp_title',\n",
    "                'fico_range_high','fico_range_low','funded_amnt','funded_amnt_inv',\n",
    "                'grade','int_rate','loan_status'], low_memory = False)"
   ]
  },
  {
   "cell_type": "code",
   "execution_count": 41,
   "metadata": {},
   "outputs": [
    {
     "data": {
      "text/html": [
       "<div>\n",
       "<style scoped>\n",
       "    .dataframe tbody tr th:only-of-type {\n",
       "        vertical-align: middle;\n",
       "    }\n",
       "\n",
       "    .dataframe tbody tr th {\n",
       "        vertical-align: top;\n",
       "    }\n",
       "\n",
       "    .dataframe thead th {\n",
       "        text-align: right;\n",
       "    }\n",
       "</style>\n",
       "<table border=\"1\" class=\"dataframe\">\n",
       "  <thead>\n",
       "    <tr style=\"text-align: right;\">\n",
       "      <th></th>\n",
       "      <th>funded_amnt</th>\n",
       "      <th>funded_amnt_inv</th>\n",
       "      <th>int_rate</th>\n",
       "      <th>grade</th>\n",
       "      <th>emp_title</th>\n",
       "      <th>emp_length</th>\n",
       "      <th>annual_inc</th>\n",
       "      <th>loan_status</th>\n",
       "      <th>addr_state</th>\n",
       "      <th>dti</th>\n",
       "      <th>...</th>\n",
       "      <th>acc_open_past_24mths</th>\n",
       "      <th>avg_cur_bal</th>\n",
       "      <th>bc_open_to_buy</th>\n",
       "      <th>bc_util</th>\n",
       "      <th>chargeoff_within_12_mths</th>\n",
       "      <th>delinq_amnt</th>\n",
       "      <th>deferral_term</th>\n",
       "      <th>disbursement_method</th>\n",
       "      <th>debt_settlement_flag</th>\n",
       "      <th>debt_settlement_flag_date</th>\n",
       "    </tr>\n",
       "  </thead>\n",
       "  <tbody>\n",
       "    <tr>\n",
       "      <th>0</th>\n",
       "      <td>3600.0</td>\n",
       "      <td>3600.0</td>\n",
       "      <td>13.99</td>\n",
       "      <td>C</td>\n",
       "      <td>leadman</td>\n",
       "      <td>10+ years</td>\n",
       "      <td>55000.0</td>\n",
       "      <td>Fully Paid</td>\n",
       "      <td>PA</td>\n",
       "      <td>5.91</td>\n",
       "      <td>...</td>\n",
       "      <td>4.0</td>\n",
       "      <td>20701.0</td>\n",
       "      <td>1506.0</td>\n",
       "      <td>37.2</td>\n",
       "      <td>0.0</td>\n",
       "      <td>0.0</td>\n",
       "      <td>NaN</td>\n",
       "      <td>Cash</td>\n",
       "      <td>N</td>\n",
       "      <td>NaN</td>\n",
       "    </tr>\n",
       "    <tr>\n",
       "      <th>1</th>\n",
       "      <td>24700.0</td>\n",
       "      <td>24700.0</td>\n",
       "      <td>11.99</td>\n",
       "      <td>C</td>\n",
       "      <td>Engineer</td>\n",
       "      <td>10+ years</td>\n",
       "      <td>65000.0</td>\n",
       "      <td>Fully Paid</td>\n",
       "      <td>SD</td>\n",
       "      <td>16.06</td>\n",
       "      <td>...</td>\n",
       "      <td>4.0</td>\n",
       "      <td>9733.0</td>\n",
       "      <td>57830.0</td>\n",
       "      <td>27.1</td>\n",
       "      <td>0.0</td>\n",
       "      <td>0.0</td>\n",
       "      <td>NaN</td>\n",
       "      <td>Cash</td>\n",
       "      <td>N</td>\n",
       "      <td>NaN</td>\n",
       "    </tr>\n",
       "    <tr>\n",
       "      <th>2</th>\n",
       "      <td>20000.0</td>\n",
       "      <td>20000.0</td>\n",
       "      <td>10.78</td>\n",
       "      <td>B</td>\n",
       "      <td>truck driver</td>\n",
       "      <td>10+ years</td>\n",
       "      <td>63000.0</td>\n",
       "      <td>Fully Paid</td>\n",
       "      <td>IL</td>\n",
       "      <td>10.78</td>\n",
       "      <td>...</td>\n",
       "      <td>6.0</td>\n",
       "      <td>31617.0</td>\n",
       "      <td>2737.0</td>\n",
       "      <td>55.9</td>\n",
       "      <td>0.0</td>\n",
       "      <td>0.0</td>\n",
       "      <td>NaN</td>\n",
       "      <td>Cash</td>\n",
       "      <td>N</td>\n",
       "      <td>NaN</td>\n",
       "    </tr>\n",
       "    <tr>\n",
       "      <th>3</th>\n",
       "      <td>35000.0</td>\n",
       "      <td>35000.0</td>\n",
       "      <td>14.85</td>\n",
       "      <td>C</td>\n",
       "      <td>Information Systems Officer</td>\n",
       "      <td>10+ years</td>\n",
       "      <td>110000.0</td>\n",
       "      <td>Current</td>\n",
       "      <td>NJ</td>\n",
       "      <td>17.06</td>\n",
       "      <td>...</td>\n",
       "      <td>2.0</td>\n",
       "      <td>23192.0</td>\n",
       "      <td>54962.0</td>\n",
       "      <td>12.1</td>\n",
       "      <td>0.0</td>\n",
       "      <td>0.0</td>\n",
       "      <td>NaN</td>\n",
       "      <td>Cash</td>\n",
       "      <td>N</td>\n",
       "      <td>NaN</td>\n",
       "    </tr>\n",
       "    <tr>\n",
       "      <th>4</th>\n",
       "      <td>10400.0</td>\n",
       "      <td>10400.0</td>\n",
       "      <td>22.45</td>\n",
       "      <td>F</td>\n",
       "      <td>Contract Specialist</td>\n",
       "      <td>3 years</td>\n",
       "      <td>104433.0</td>\n",
       "      <td>Fully Paid</td>\n",
       "      <td>PA</td>\n",
       "      <td>25.37</td>\n",
       "      <td>...</td>\n",
       "      <td>10.0</td>\n",
       "      <td>27644.0</td>\n",
       "      <td>4567.0</td>\n",
       "      <td>77.5</td>\n",
       "      <td>0.0</td>\n",
       "      <td>0.0</td>\n",
       "      <td>NaN</td>\n",
       "      <td>Cash</td>\n",
       "      <td>N</td>\n",
       "      <td>NaN</td>\n",
       "    </tr>\n",
       "  </tbody>\n",
       "</table>\n",
       "<p>5 rows × 31 columns</p>\n",
       "</div>"
      ],
      "text/plain": [
       "   funded_amnt  funded_amnt_inv  int_rate grade                    emp_title  \\\n",
       "0       3600.0           3600.0     13.99     C                      leadman   \n",
       "1      24700.0          24700.0     11.99     C                     Engineer   \n",
       "2      20000.0          20000.0     10.78     B                 truck driver   \n",
       "3      35000.0          35000.0     14.85     C  Information Systems Officer   \n",
       "4      10400.0          10400.0     22.45     F          Contract Specialist   \n",
       "\n",
       "  emp_length  annual_inc loan_status addr_state    dti  ...  \\\n",
       "0  10+ years     55000.0  Fully Paid         PA   5.91  ...   \n",
       "1  10+ years     65000.0  Fully Paid         SD  16.06  ...   \n",
       "2  10+ years     63000.0  Fully Paid         IL  10.78  ...   \n",
       "3  10+ years    110000.0     Current         NJ  17.06  ...   \n",
       "4    3 years    104433.0  Fully Paid         PA  25.37  ...   \n",
       "\n",
       "   acc_open_past_24mths avg_cur_bal  bc_open_to_buy  bc_util  \\\n",
       "0                   4.0     20701.0          1506.0     37.2   \n",
       "1                   4.0      9733.0         57830.0     27.1   \n",
       "2                   6.0     31617.0          2737.0     55.9   \n",
       "3                   2.0     23192.0         54962.0     12.1   \n",
       "4                  10.0     27644.0          4567.0     77.5   \n",
       "\n",
       "   chargeoff_within_12_mths  delinq_amnt deferral_term  disbursement_method  \\\n",
       "0                       0.0          0.0           NaN                 Cash   \n",
       "1                       0.0          0.0           NaN                 Cash   \n",
       "2                       0.0          0.0           NaN                 Cash   \n",
       "3                       0.0          0.0           NaN                 Cash   \n",
       "4                       0.0          0.0           NaN                 Cash   \n",
       "\n",
       "   debt_settlement_flag  debt_settlement_flag_date  \n",
       "0                     N                        NaN  \n",
       "1                     N                        NaN  \n",
       "2                     N                        NaN  \n",
       "3                     N                        NaN  \n",
       "4                     N                        NaN  \n",
       "\n",
       "[5 rows x 31 columns]"
      ]
     },
     "execution_count": 41,
     "metadata": {},
     "output_type": "execute_result"
    }
   ],
   "source": [
    "df1.head()"
   ]
  },
  {
   "cell_type": "code",
   "execution_count": 42,
   "metadata": {},
   "outputs": [
    {
     "data": {
      "text/plain": [
       "funded_amnt                   float64\n",
       "funded_amnt_inv               float64\n",
       "int_rate                      float64\n",
       "grade                          object\n",
       "emp_title                      object\n",
       "emp_length                     object\n",
       "annual_inc                    float64\n",
       "loan_status                    object\n",
       "addr_state                     object\n",
       "dti                           float64\n",
       "delinq_2yrs                   float64\n",
       "earliest_cr_line               object\n",
       "fico_range_low                float64\n",
       "fico_range_high               float64\n",
       "collection_recovery_fee       float64\n",
       "collections_12_mths_ex_med    float64\n",
       "application_type               object\n",
       "annual_inc_joint              float64\n",
       "dti_joint                     float64\n",
       "acc_now_delinq                float64\n",
       "all_util                      float64\n",
       "acc_open_past_24mths          float64\n",
       "avg_cur_bal                   float64\n",
       "bc_open_to_buy                float64\n",
       "bc_util                       float64\n",
       "chargeoff_within_12_mths      float64\n",
       "delinq_amnt                   float64\n",
       "deferral_term                 float64\n",
       "disbursement_method            object\n",
       "debt_settlement_flag           object\n",
       "debt_settlement_flag_date      object\n",
       "dtype: object"
      ]
     },
     "execution_count": 42,
     "metadata": {},
     "output_type": "execute_result"
    }
   ],
   "source": [
    "#check datatypes\n",
    "df1.dtypes"
   ]
  },
  {
   "cell_type": "markdown",
   "metadata": {},
   "source": [
    "## Evaluate each feature"
   ]
  },
  {
   "cell_type": "code",
   "execution_count": 249,
   "metadata": {},
   "outputs": [
    {
     "data": {
      "text/plain": [
       "0.0     2251857\n",
       "1.0        8293\n",
       "2.0         421\n",
       "3.0          50\n",
       "4.0          11\n",
       "5.0           3\n",
       "6.0           2\n",
       "14.0          1\n",
       "7.0           1\n",
       "Name: acc_now_delinq, dtype: int64"
      ]
     },
     "execution_count": 249,
     "metadata": {},
     "output_type": "execute_result"
    }
   ],
   "source": [
    "df1['acc_now_delinq'].value_counts().compute()\n",
    "#missingness is from 33 bad ids"
   ]
  },
  {
   "cell_type": "code",
   "execution_count": 251,
   "metadata": {},
   "outputs": [
    {
     "data": {
      "text/plain": [
       "count    2.210638e+06\n",
       "mean     4.521656e+00\n",
       "std      3.164229e+00\n",
       "min      0.000000e+00\n",
       "25%      2.000000e+00\n",
       "50%      4.000000e+00\n",
       "75%      6.000000e+00\n",
       "max      6.400000e+01\n",
       "Name: acc_open_past_24mths, dtype: float64"
      ]
     },
     "execution_count": 251,
     "metadata": {},
     "output_type": "execute_result"
    }
   ],
   "source": [
    "df1['acc_open_past_24mths'].describe().compute()\n",
    "#2.214% missing"
   ]
  },
  {
   "cell_type": "code",
   "execution_count": 47,
   "metadata": {},
   "outputs": [
    {
     "data": {
      "text/html": [
       "<div>\n",
       "<style scoped>\n",
       "    .dataframe tbody tr th:only-of-type {\n",
       "        vertical-align: middle;\n",
       "    }\n",
       "\n",
       "    .dataframe tbody tr th {\n",
       "        vertical-align: top;\n",
       "    }\n",
       "\n",
       "    .dataframe thead th {\n",
       "        text-align: right;\n",
       "    }\n",
       "</style>\n",
       "<table border=\"1\" class=\"dataframe\">\n",
       "  <thead>\n",
       "    <tr style=\"text-align: right;\">\n",
       "      <th></th>\n",
       "      <th>acc_open_past_24mths</th>\n",
       "    </tr>\n",
       "    <tr>\n",
       "      <th>loan_status</th>\n",
       "      <th></th>\n",
       "    </tr>\n",
       "  </thead>\n",
       "  <tbody>\n",
       "    <tr>\n",
       "      <th>Charged Off</th>\n",
       "      <td>5.326243</td>\n",
       "    </tr>\n",
       "    <tr>\n",
       "      <th>Current</th>\n",
       "      <td>4.249941</td>\n",
       "    </tr>\n",
       "    <tr>\n",
       "      <th>Default</th>\n",
       "      <td>5.475000</td>\n",
       "    </tr>\n",
       "    <tr>\n",
       "      <th>Fully Paid</th>\n",
       "      <td>4.532947</td>\n",
       "    </tr>\n",
       "    <tr>\n",
       "      <th>In Grace Period</th>\n",
       "      <td>4.799431</td>\n",
       "    </tr>\n",
       "    <tr>\n",
       "      <th>Late (16-30 days)</th>\n",
       "      <td>4.913543</td>\n",
       "    </tr>\n",
       "    <tr>\n",
       "      <th>Late (31-120 days)</th>\n",
       "      <td>5.095821</td>\n",
       "    </tr>\n",
       "  </tbody>\n",
       "</table>\n",
       "</div>"
      ],
      "text/plain": [
       "                    acc_open_past_24mths\n",
       "loan_status                             \n",
       "Charged Off                     5.326243\n",
       "Current                         4.249941\n",
       "Default                         5.475000\n",
       "Fully Paid                      4.532947\n",
       "In Grace Period                 4.799431\n",
       "Late (16-30 days)               4.913543\n",
       "Late (31-120 days)              5.095821"
      ]
     },
     "execution_count": 47,
     "metadata": {},
     "output_type": "execute_result"
    }
   ],
   "source": [
    "#impute using mean of each loan_status\n",
    "df1[['loan_status', 'acc_open_past_24mths']].dropna().groupby('loan_status').mean().compute()"
   ]
  },
  {
   "cell_type": "markdown",
   "metadata": {},
   "source": [
    "### State"
   ]
  },
  {
   "cell_type": "code",
   "execution_count": 52,
   "metadata": {
    "scrolled": true
   },
   "outputs": [
    {
     "data": {
      "text/plain": [
       "CA    314533\n",
       "NY    186389\n",
       "TX    186335\n",
       "FL    161991\n",
       "IL     91173\n",
       "NJ     83132\n",
       "PA     76939\n",
       "OH     75132\n",
       "GA     74196\n",
       "VA     62954\n",
       "NC     62730\n",
       "MI     58770\n",
       "MD     54008\n",
       "AZ     53777\n",
       "MA     51784\n",
       "CO     48183\n",
       "WA     47060\n",
       "MN     39517\n",
       "IN     37515\n",
       "MO     36084\n",
       "CT     35785\n",
       "TN     35483\n",
       "NV     32657\n",
       "WI     29877\n",
       "SC     28003\n",
       "AL     27284\n",
       "OR     26789\n",
       "LA     25759\n",
       "KY     21887\n",
       "OK     20691\n",
       "KS     19109\n",
       "AR     17074\n",
       "UT     14993\n",
       "MS     12639\n",
       "NM     11986\n",
       "NH     11142\n",
       "HI     10668\n",
       "RI     10005\n",
       "WV      8351\n",
       "NE      7819\n",
       "DE      6458\n",
       "MT      6299\n",
       "DC      5356\n",
       "AK      5231\n",
       "ME      4974\n",
       "VT      4937\n",
       "WY      4748\n",
       "SD      4549\n",
       "ID      4308\n",
       "ND      3591\n",
       "IA        14\n",
       "Name: addr_state, dtype: int64"
      ]
     },
     "execution_count": 52,
     "metadata": {},
     "output_type": "execute_result"
    }
   ],
   "source": [
    "df1.addr_state.value_counts().compute()\n",
    "#need to dumify"
   ]
  },
  {
   "cell_type": "markdown",
   "metadata": {},
   "source": [
    "### Balance to credit limit on all trades\n",
    "##### 38% missing\n",
    "starts after 2015"
   ]
  },
  {
   "cell_type": "code",
   "execution_count": 58,
   "metadata": {},
   "outputs": [
    {
     "data": {
      "text/html": [
       "<div>\n",
       "<style scoped>\n",
       "    .dataframe tbody tr th:only-of-type {\n",
       "        vertical-align: middle;\n",
       "    }\n",
       "\n",
       "    .dataframe tbody tr th {\n",
       "        vertical-align: top;\n",
       "    }\n",
       "\n",
       "    .dataframe thead th {\n",
       "        text-align: right;\n",
       "    }\n",
       "</style>\n",
       "<table border=\"1\" class=\"dataframe\">\n",
       "  <thead>\n",
       "    <tr style=\"text-align: right;\">\n",
       "      <th></th>\n",
       "      <th>all_util</th>\n",
       "    </tr>\n",
       "    <tr>\n",
       "      <th>loan_status</th>\n",
       "      <th></th>\n",
       "    </tr>\n",
       "  </thead>\n",
       "  <tbody>\n",
       "    <tr>\n",
       "      <th>Charged Off</th>\n",
       "      <td>61.650892</td>\n",
       "    </tr>\n",
       "    <tr>\n",
       "      <th>Current</th>\n",
       "      <td>56.196456</td>\n",
       "    </tr>\n",
       "    <tr>\n",
       "      <th>Fully Paid</th>\n",
       "      <td>57.176862</td>\n",
       "    </tr>\n",
       "    <tr>\n",
       "      <th>In Grace Period</th>\n",
       "      <td>60.916808</td>\n",
       "    </tr>\n",
       "    <tr>\n",
       "      <th>Late (16-30 days)</th>\n",
       "      <td>58.829213</td>\n",
       "    </tr>\n",
       "    <tr>\n",
       "      <th>Late (31-120 days)</th>\n",
       "      <td>58.935312</td>\n",
       "    </tr>\n",
       "    <tr>\n",
       "      <th>Default</th>\n",
       "      <td>54.631579</td>\n",
       "    </tr>\n",
       "  </tbody>\n",
       "</table>\n",
       "</div>"
      ],
      "text/plain": [
       "                     all_util\n",
       "loan_status                  \n",
       "Charged Off         61.650892\n",
       "Current             56.196456\n",
       "Fully Paid          57.176862\n",
       "In Grace Period     60.916808\n",
       "Late (16-30 days)   58.829213\n",
       "Late (31-120 days)  58.935312\n",
       "Default             54.631579"
      ]
     },
     "execution_count": 58,
     "metadata": {},
     "output_type": "execute_result"
    }
   ],
   "source": [
    "#impute using mean of each loan_status\n",
    "util_means = df1[['loan_status', 'all_util']].dropna().groupby('loan_status').mean().compute()\n",
    "util_means"
   ]
  },
  {
   "cell_type": "code",
   "execution_count": 69,
   "metadata": {},
   "outputs": [
    {
     "data": {
      "text/plain": [
       "(array([0, 1, 2, 3, 4, 5, 6]),\n",
       " [Text(0, 0, 'Fully Paid'),\n",
       "  Text(1, 0, 'Current'),\n",
       "  Text(2, 0, 'Charged Off'),\n",
       "  Text(3, 0, 'In Grace Period'),\n",
       "  Text(4, 0, 'Late (31-120 days)'),\n",
       "  Text(5, 0, 'Late (16-30 days)'),\n",
       "  Text(6, 0, 'Default')])"
      ]
     },
     "execution_count": 69,
     "metadata": {},
     "output_type": "execute_result"
    },
    {
     "data": {
      "image/png": "[encoded data removed]",
      "text/plain": [
       "<Figure size 432x288 with 1 Axes>"
      ]
     },
     "metadata": {
      "needs_background": "light"
     },
     "output_type": "display_data"
    }
   ],
   "source": [
    "util_box = df1[['loan_status', 'all_util']].dropna().compute()\n",
    "sns.boxplot(x='loan_status', y=\"all_util\", data=util_box)\n",
    "plt.xticks(rotation=45)"
   ]
  },
  {
   "cell_type": "code",
   "execution_count": 55,
   "metadata": {},
   "outputs": [
    {
     "data": {
      "text/plain": [
       "count    1.394320e+06\n",
       "mean     5.703230e+01\n",
       "std      2.090475e+01\n",
       "min      0.000000e+00\n",
       "25%      4.800000e+01\n",
       "50%      6.200000e+01\n",
       "75%      7.500000e+01\n",
       "max      2.390000e+02\n",
       "Name: all_util, dtype: float64"
      ]
     },
     "execution_count": 55,
     "metadata": {},
     "output_type": "execute_result"
    }
   ],
   "source": [
    "df1['all_util'].describe().compute()"
   ]
  },
  {
   "cell_type": "markdown",
   "metadata": {},
   "source": [
    "### Annual Income"
   ]
  },
  {
   "cell_type": "code",
   "execution_count": 71,
   "metadata": {},
   "outputs": [
    {
     "data": {
      "text/plain": [
       "count    2.260664e+06\n",
       "mean     7.799243e+04\n",
       "std      1.126962e+05\n",
       "min      0.000000e+00\n",
       "25%      5.000000e+04\n",
       "50%      7.000000e+04\n",
       "75%      9.889575e+04\n",
       "max      1.100000e+08\n",
       "Name: annual_inc, dtype: float64"
      ]
     },
     "execution_count": 71,
     "metadata": {},
     "output_type": "execute_result"
    }
   ],
   "source": [
    "df1['annual_inc'].describe().compute()"
   ]
  },
  {
   "cell_type": "code",
   "execution_count": 72,
   "metadata": {},
   "outputs": [
    {
     "data": {
      "text/plain": [
       "<AxesSubplot:xlabel='annual_inc', ylabel='int_rate'>"
      ]
     },
     "execution_count": 72,
     "metadata": {},
     "output_type": "execute_result"
    },
    {
     "data": {
      "image/png": "[encoded data removed]",
      "text/plain": [
       "<Figure size 432x288 with 1 Axes>"
      ]
     },
     "metadata": {
      "needs_background": "light"
     },
     "output_type": "display_data"
    }
   ],
   "source": [
    "sns.scatterplot(x='annual_inc',y='int_rate', data=df1.compute())"
   ]
  },
  {
   "cell_type": "code",
   "execution_count": 73,
   "metadata": {},
   "outputs": [],
   "source": [
    "#Drop 2 outliers\n",
    "df1= df1[df1.annual_inc < .4e8]"
   ]
  },
  {
   "cell_type": "code",
   "execution_count": 74,
   "metadata": {},
   "outputs": [
    {
     "data": {
      "text/plain": [
       "<AxesSubplot:xlabel='annual_inc', ylabel='int_rate'>"
      ]
     },
     "execution_count": 74,
     "metadata": {},
     "output_type": "execute_result"
    },
    {
     "data": {
      "image/png": "[encoded data removed]",
      "text/plain": [
       "<Figure size 432x288 with 1 Axes>"
      ]
     },
     "metadata": {
      "needs_background": "light"
     },
     "output_type": "display_data"
    }
   ],
   "source": [
    "sns.scatterplot(x='annual_inc',y='int_rate', data=df1.compute())"
   ]
  },
  {
   "cell_type": "code",
   "execution_count": 159,
   "metadata": {},
   "outputs": [
    {
     "data": {
      "text/plain": [
       "0"
      ]
     },
     "execution_count": 159,
     "metadata": {},
     "output_type": "execute_result"
    }
   ],
   "source": [
    "sum(df1['annual_inc'].isnull().compute())"
   ]
  },
  {
   "cell_type": "code",
   "execution_count": 78,
   "metadata": {},
   "outputs": [
    {
     "data": {
      "text/plain": [
       "count    1.207100e+05\n",
       "mean     1.236246e+05\n",
       "std      7.416135e+04\n",
       "min      5.693510e+03\n",
       "25%      8.900000e+04\n",
       "50%      1.200000e+05\n",
       "75%      1.637425e+05\n",
       "max      7.874821e+06\n",
       "Name: annual_inc_joint, dtype: float64"
      ]
     },
     "execution_count": 78,
     "metadata": {},
     "output_type": "execute_result"
    }
   ],
   "source": [
    "df1['annual_inc_joint'].describe().compute()"
   ]
  },
  {
   "cell_type": "code",
   "execution_count": null,
   "metadata": {},
   "outputs": [],
   "source": [
    "#combine- use inc joint if it exists"
   ]
  },
  {
   "cell_type": "markdown",
   "metadata": {},
   "source": [
    "- 94% missing in annual_inc_joint"
   ]
  },
  {
   "cell_type": "markdown",
   "metadata": {},
   "source": [
    "#### Application Type"
   ]
  },
  {
   "cell_type": "code",
   "execution_count": 79,
   "metadata": {},
   "outputs": [
    {
     "data": {
      "text/plain": [
       "Individual    2139952\n",
       "Joint App      120710\n",
       "Name: application_type, dtype: int64"
      ]
     },
     "execution_count": 79,
     "metadata": {},
     "output_type": "execute_result"
    }
   ],
   "source": [
    "df1['application_type'].value_counts().compute()"
   ]
  },
  {
   "cell_type": "code",
   "execution_count": 165,
   "metadata": {},
   "outputs": [],
   "source": [
    "#covert to binary\n",
    "#df1['application_type_indiv']= dd.from_array(np.where(df1['application_type'] =='Individual',1,0))\n"
   ]
  },
  {
   "cell_type": "markdown",
   "metadata": {},
   "source": [
    "#### Average current balance of all accounts"
   ]
  },
  {
   "cell_type": "code",
   "execution_count": 85,
   "metadata": {},
   "outputs": [
    {
     "data": {
      "text/plain": [
       "count    2.190320e+06\n",
       "mean     1.354781e+04\n",
       "std      1.647408e+04\n",
       "min      0.000000e+00\n",
       "25%      3.367000e+03\n",
       "50%      8.120000e+03\n",
       "75%      1.985475e+04\n",
       "max      9.580840e+05\n",
       "Name: avg_cur_bal, dtype: float64"
      ]
     },
     "execution_count": 85,
     "metadata": {},
     "output_type": "execute_result"
    }
   ],
   "source": [
    "df1['avg_cur_bal'].describe().compute()"
   ]
  },
  {
   "cell_type": "code",
   "execution_count": 90,
   "metadata": {},
   "outputs": [
    {
     "data": {
      "text/plain": [
       "70342"
      ]
     },
     "execution_count": 90,
     "metadata": {},
     "output_type": "execute_result"
    }
   ],
   "source": [
    "sum(df1['avg_cur_bal'].isnull().compute())"
   ]
  },
  {
   "cell_type": "code",
   "execution_count": 93,
   "metadata": {},
   "outputs": [
    {
     "data": {
      "text/html": [
       "<div>\n",
       "<style scoped>\n",
       "    .dataframe tbody tr th:only-of-type {\n",
       "        vertical-align: middle;\n",
       "    }\n",
       "\n",
       "    .dataframe tbody tr th {\n",
       "        vertical-align: top;\n",
       "    }\n",
       "\n",
       "    .dataframe thead th {\n",
       "        text-align: right;\n",
       "    }\n",
       "</style>\n",
       "<table border=\"1\" class=\"dataframe\">\n",
       "  <thead>\n",
       "    <tr style=\"text-align: right;\">\n",
       "      <th></th>\n",
       "      <th>avg_cur_bal</th>\n",
       "    </tr>\n",
       "    <tr>\n",
       "      <th>loan_status</th>\n",
       "      <th></th>\n",
       "    </tr>\n",
       "  </thead>\n",
       "  <tbody>\n",
       "    <tr>\n",
       "      <th>Charged Off</th>\n",
       "      <td>10934.066703</td>\n",
       "    </tr>\n",
       "    <tr>\n",
       "      <th>Current</th>\n",
       "      <td>13668.869174</td>\n",
       "    </tr>\n",
       "    <tr>\n",
       "      <th>Default</th>\n",
       "      <td>12363.625000</td>\n",
       "    </tr>\n",
       "    <tr>\n",
       "      <th>Fully Paid</th>\n",
       "      <td>14135.645106</td>\n",
       "    </tr>\n",
       "    <tr>\n",
       "      <th>In Grace Period</th>\n",
       "      <td>14037.810692</td>\n",
       "    </tr>\n",
       "    <tr>\n",
       "      <th>Late (16-30 days)</th>\n",
       "      <td>12719.144631</td>\n",
       "    </tr>\n",
       "    <tr>\n",
       "      <th>Late (31-120 days)</th>\n",
       "      <td>12095.731576</td>\n",
       "    </tr>\n",
       "  </tbody>\n",
       "</table>\n",
       "</div>"
      ],
      "text/plain": [
       "                     avg_cur_bal\n",
       "loan_status                     \n",
       "Charged Off         10934.066703\n",
       "Current             13668.869174\n",
       "Default             12363.625000\n",
       "Fully Paid          14135.645106\n",
       "In Grace Period     14037.810692\n",
       "Late (16-30 days)   12719.144631\n",
       "Late (31-120 days)  12095.731576"
      ]
     },
     "execution_count": 93,
     "metadata": {},
     "output_type": "execute_result"
    }
   ],
   "source": [
    "df1[['loan_status', 'avg_cur_bal']].dropna().groupby('loan_status').mean().compute()"
   ]
  },
  {
   "cell_type": "code",
   "execution_count": 92,
   "metadata": {},
   "outputs": [
    {
     "data": {
      "text/plain": [
       "(array([0, 1, 2, 3, 4, 5, 6]),\n",
       " [Text(0, 0, 'Fully Paid'),\n",
       "  Text(1, 0, 'Current'),\n",
       "  Text(2, 0, 'Charged Off'),\n",
       "  Text(3, 0, 'In Grace Period'),\n",
       "  Text(4, 0, 'Late (31-120 days)'),\n",
       "  Text(5, 0, 'Late (16-30 days)'),\n",
       "  Text(6, 0, 'Default')])"
      ]
     },
     "execution_count": 92,
     "metadata": {},
     "output_type": "execute_result"
    },
    {
     "data": {
      "image/png": "[encoded data removed]",
      "text/plain": [
       "<Figure size 432x288 with 1 Axes>"
      ]
     },
     "metadata": {
      "needs_background": "light"
     },
     "output_type": "display_data"
    }
   ],
   "source": [
    "cur_bal_box = df1[['loan_status', 'avg_cur_bal']].dropna().compute()\n",
    "sns.boxplot(x='loan_status', y='avg_cur_bal', data=cur_bal_box)\n",
    "plt.xticks(rotation=45)"
   ]
  },
  {
   "cell_type": "code",
   "execution_count": null,
   "metadata": {},
   "outputs": [],
   "source": [
    "#log?"
   ]
  },
  {
   "cell_type": "markdown",
   "metadata": {},
   "source": [
    "#### Total open to buy on revolving bankcards"
   ]
  },
  {
   "cell_type": "code",
   "execution_count": 94,
   "metadata": {},
   "outputs": [
    {
     "data": {
      "text/plain": [
       "0.0         30767\n",
       "500.0        1954\n",
       "2000.0       1908\n",
       "1000.0       1709\n",
       "3000.0       1580\n",
       "            ...  \n",
       "78675.0         1\n",
       "78674.0         1\n",
       "78668.0         1\n",
       "78667.0         1\n",
       "711140.0        1\n",
       "Name: bc_open_to_buy, Length: 91500, dtype: int64"
      ]
     },
     "execution_count": 94,
     "metadata": {},
     "output_type": "execute_result"
    }
   ],
   "source": [
    "df1['bc_open_to_buy'].value_counts().compute()"
   ]
  },
  {
   "cell_type": "code",
   "execution_count": 151,
   "metadata": {},
   "outputs": [
    {
     "data": {
      "text/plain": [
       "74931"
      ]
     },
     "execution_count": 151,
     "metadata": {},
     "output_type": "execute_result"
    }
   ],
   "source": [
    "sum(df1['bc_open_to_buy'].isnull().compute())"
   ]
  },
  {
   "cell_type": "markdown",
   "metadata": {},
   "source": [
    "#### Ratio of total current balance to high credit/credit limit for all bankcard accounts."
   ]
  },
  {
   "cell_type": "code",
   "execution_count": 95,
   "metadata": {},
   "outputs": [
    {
     "data": {
      "text/plain": [
       "0.0      27885\n",
       "98.0      6188\n",
       "97.0      5748\n",
       "99.0      5700\n",
       "96.0      5642\n",
       "         ...  \n",
       "145.7        1\n",
       "145.8        1\n",
       "146.0        1\n",
       "146.2        1\n",
       "339.6        1\n",
       "Name: bc_util, Length: 1494, dtype: int64"
      ]
     },
     "execution_count": 95,
     "metadata": {},
     "output_type": "execute_result"
    }
   ],
   "source": [
    "df1['bc_util'].value_counts().compute()"
   ]
  },
  {
   "cell_type": "code",
   "execution_count": 97,
   "metadata": {},
   "outputs": [
    {
     "data": {
      "text/plain": [
       "76067"
      ]
     },
     "execution_count": 97,
     "metadata": {},
     "output_type": "execute_result"
    }
   ],
   "source": [
    "sum(df1['bc_util'].isnull().compute())"
   ]
  },
  {
   "cell_type": "markdown",
   "metadata": {},
   "source": [
    "#### # of chargeoffs & # of collections"
   ]
  },
  {
   "cell_type": "code",
   "execution_count": 98,
   "metadata": {},
   "outputs": [
    {
     "data": {
      "text/plain": [
       "0.0     2243337\n",
       "1.0       15765\n",
       "2.0        1115\n",
       "3.0         186\n",
       "4.0          68\n",
       "5.0          22\n",
       "6.0          12\n",
       "7.0           8\n",
       "9.0           5\n",
       "8.0           2\n",
       "10.0          1\n",
       "Name: chargeoff_within_12_mths, dtype: int64"
      ]
     },
     "execution_count": 98,
     "metadata": {},
     "output_type": "execute_result"
    }
   ],
   "source": [
    "df1['chargeoff_within_12_mths'].value_counts().compute()"
   ]
  },
  {
   "cell_type": "code",
   "execution_count": 108,
   "metadata": {},
   "outputs": [
    {
     "data": {
      "text/plain": [
       "0.0     2223083\n",
       "1.0       34684\n",
       "2.0        2313\n",
       "3.0         271\n",
       "4.0          93\n",
       "5.0          36\n",
       "6.0          17\n",
       "7.0           7\n",
       "9.0           4\n",
       "8.0           4\n",
       "20.0          2\n",
       "12.0          2\n",
       "10.0          2\n",
       "16.0          1\n",
       "14.0          1\n",
       "11.0          1\n",
       "Name: collections_12_mths_ex_med, dtype: int64"
      ]
     },
     "execution_count": 108,
     "metadata": {},
     "output_type": "execute_result"
    }
   ],
   "source": [
    "df1['collections_12_mths_ex_med'].value_counts().compute()"
   ]
  },
  {
   "cell_type": "markdown",
   "metadata": {},
   "source": [
    "- 99%, 98% of non-null values are 0 \n",
    "- both have 141 missings - drop"
   ]
  },
  {
   "cell_type": "markdown",
   "metadata": {},
   "source": [
    "#### Disbursement method"
   ]
  },
  {
   "cell_type": "code",
   "execution_count": 117,
   "metadata": {},
   "outputs": [
    {
     "data": {
      "text/plain": [
       "Cash         2182540\n",
       "DirectPay      78122\n",
       "Name: disbursement_method, dtype: int64"
      ]
     },
     "execution_count": 117,
     "metadata": {},
     "output_type": "execute_result"
    }
   ],
   "source": [
    "df1['disbursement_method'].value_counts().compute()"
   ]
  },
  {
   "cell_type": "code",
   "execution_count": 203,
   "metadata": {},
   "outputs": [],
   "source": [
    "## Make disbursement method binary\n",
    "#subset['disbursement_method']= [1 if x =='Cash' else 0 for x in subset['disbursement_method']]\n",
    "#subset.rename(columns = {'disbursement_method': 'disbursement_method_cash'}, inplace = True)"
   ]
  },
  {
   "cell_type": "code",
   "execution_count": 148,
   "metadata": {},
   "outputs": [
    {
     "data": {
      "text/plain": [
       "0"
      ]
     },
     "execution_count": 148,
     "metadata": {},
     "output_type": "execute_result"
    }
   ],
   "source": [
    "sum(df1['disbursement_method'].isnull().compute())"
   ]
  },
  {
   "cell_type": "markdown",
   "metadata": {},
   "source": [
    "#### DTI"
   ]
  },
  {
   "cell_type": "code",
   "execution_count": 142,
   "metadata": {},
   "outputs": [
    {
     "data": {
      "text/plain": [
       "1711"
      ]
     },
     "execution_count": 142,
     "metadata": {},
     "output_type": "execute_result"
    }
   ],
   "source": [
    "sum(df1['dti'].isnull().compute())"
   ]
  },
  {
   "cell_type": "code",
   "execution_count": 152,
   "metadata": {},
   "outputs": [
    {
     "data": {
      "text/plain": [
       "count    120706.000000\n",
       "mean         19.251817\n",
       "std           7.822086\n",
       "min           0.000000\n",
       "25%          14.187500\n",
       "50%          19.400000\n",
       "75%          25.350000\n",
       "max          69.490000\n",
       "Name: dti_joint, dtype: float64"
      ]
     },
     "execution_count": 152,
     "metadata": {},
     "output_type": "execute_result"
    }
   ],
   "source": [
    "df1['dti_joint'].describe().compute()"
   ]
  },
  {
   "cell_type": "code",
   "execution_count": 119,
   "metadata": {},
   "outputs": [
    {
     "data": {
      "text/plain": [
       "17.32    80\n",
       "22.39    77\n",
       "19.89    77\n",
       "18.10    77\n",
       "18.96    76\n",
       "         ..\n",
       "46.84     1\n",
       "46.86     1\n",
       "48.58     1\n",
       "49.45     1\n",
       "69.49     1\n",
       "Name: dti_joint, Length: 4018, dtype: int64"
      ]
     },
     "execution_count": 119,
     "metadata": {},
     "output_type": "execute_result"
    }
   ],
   "source": [
    "df1['dti_joint'].value_counts().compute()"
   ]
  },
  {
   "cell_type": "code",
   "execution_count": 145,
   "metadata": {},
   "outputs": [
    {
     "data": {
      "text/plain": [
       "2139956"
      ]
     },
     "execution_count": 145,
     "metadata": {},
     "output_type": "execute_result"
    }
   ],
   "source": [
    "sum(df1['dti_joint'].isnull().compute())"
   ]
  },
  {
   "cell_type": "markdown",
   "metadata": {},
   "source": [
    "- 94% missing - impute 0 for not joint?"
   ]
  },
  {
   "cell_type": "markdown",
   "metadata": {},
   "source": [
    "#### Earliest reported credit line opened"
   ]
  },
  {
   "cell_type": "code",
   "execution_count": 120,
   "metadata": {},
   "outputs": [
    {
     "data": {
      "text/plain": [
       "Sep-2004    15400\n",
       "Sep-2003    15215\n",
       "Sep-2005    14780\n",
       "Aug-2003    14669\n",
       "Aug-2004    14413\n",
       "            ...  \n",
       "May-1950        1\n",
       "Jan-1946        1\n",
       "Mar-1958        1\n",
       "Oct-1957        1\n",
       "Mar-1957        1\n",
       "Name: earliest_cr_line, Length: 754, dtype: int64"
      ]
     },
     "execution_count": 120,
     "metadata": {},
     "output_type": "execute_result"
    }
   ],
   "source": [
    "df1['earliest_cr_line'].value_counts().compute()"
   ]
  },
  {
   "cell_type": "code",
   "execution_count": 140,
   "metadata": {},
   "outputs": [],
   "source": [
    "#need to change format\n",
    "df1['earliest_cr_line']=dd.to_datetime(df1.earliest_cr_line,unit='ns')"
   ]
  },
  {
   "cell_type": "code",
   "execution_count": 141,
   "metadata": {},
   "outputs": [
    {
     "data": {
      "text/plain": [
       "2004-09-01    15400\n",
       "2003-09-01    15215\n",
       "2005-09-01    14780\n",
       "2003-08-01    14669\n",
       "2004-08-01    14413\n",
       "              ...  \n",
       "1957-08-01        1\n",
       "1957-09-01        1\n",
       "1951-12-01        1\n",
       "1951-09-01        1\n",
       "1933-03-01        1\n",
       "Name: earliest_cr_line, Length: 754, dtype: int64"
      ]
     },
     "execution_count": 141,
     "metadata": {},
     "output_type": "execute_result"
    }
   ],
   "source": [
    "df1['earliest_cr_line'].value_counts().compute()"
   ]
  },
  {
   "cell_type": "code",
   "execution_count": 157,
   "metadata": {},
   "outputs": [
    {
     "data": {
      "text/plain": [
       "<AxesSubplot:xlabel='earliest_cr_line'>"
      ]
     },
     "execution_count": 157,
     "metadata": {},
     "output_type": "execute_result"
    },
    {
     "data": {
      "image/png": "[encoded data removed]",
      "text/plain": [
       "<Figure size 432x288 with 1 Axes>"
      ]
     },
     "metadata": {
      "needs_background": "light"
     },
     "output_type": "display_data"
    }
   ],
   "source": [
    "df1[['earliest_cr_line','loan_status']].groupby(['earliest_cr_line']).count().compute().plot()"
   ]
  },
  {
   "cell_type": "code",
   "execution_count": 139,
   "metadata": {},
   "outputs": [
    {
     "data": {
      "text/plain": [
       "25"
      ]
     },
     "execution_count": 139,
     "metadata": {},
     "output_type": "execute_result"
    }
   ],
   "source": [
    "sum(df1['earliest_cr_line'].isnull().compute())"
   ]
  },
  {
   "cell_type": "markdown",
   "metadata": {},
   "source": [
    "### Professions"
   ]
  },
  {
   "cell_type": "markdown",
   "metadata": {},
   "source": [
    "- need to deal with emp_title"
   ]
  },
  {
   "cell_type": "code",
   "execution_count": 112,
   "metadata": {},
   "outputs": [
    {
     "data": {
      "text/plain": [
       "10+ years    748003\n",
       "2 years      203677\n",
       "< 1 year     189984\n",
       "3 years      180753\n",
       "1 year       148403\n",
       "5 years      139698\n",
       "4 years      136605\n",
       "6 years      102628\n",
       "7 years       92695\n",
       "8 years       91914\n",
       "9 years       79395\n",
       "Name: emp_length, dtype: int64"
      ]
     },
     "execution_count": 112,
     "metadata": {},
     "output_type": "execute_result"
    }
   ],
   "source": [
    "df1['emp_length'].value_counts().compute()"
   ]
  },
  {
   "cell_type": "code",
   "execution_count": 195,
   "metadata": {},
   "outputs": [],
   "source": [
    "#covert to ordinal\n",
    "#subset.emp_length.replace({'< 1 year':0, '1 year':1, '2 years':2, '3 years':3,'4 years':4, '5 years':5, '6 years':6, '7 years':7, '8 years':8, '9 years':9, '10+ years':10}, inplace=True)"
   ]
  },
  {
   "cell_type": "code",
   "execution_count": 115,
   "metadata": {},
   "outputs": [
    {
     "data": {
      "text/plain": [
       "146907"
      ]
     },
     "execution_count": 115,
     "metadata": {},
     "output_type": "execute_result"
    }
   ],
   "source": [
    "sum(df1['emp_length'].isnull().compute())"
   ]
  },
  {
   "cell_type": "markdown",
   "metadata": {},
   "source": [
    "### Fico"
   ]
  },
  {
   "cell_type": "code",
   "execution_count": 153,
   "metadata": {},
   "outputs": [
    {
     "data": {
      "text/plain": [
       "count    2.260662e+06\n",
       "mean     7.025883e+02\n",
       "std      3.301107e+01\n",
       "min      6.140000e+02\n",
       "25%      6.840000e+02\n",
       "50%      7.090000e+02\n",
       "75%      7.390000e+02\n",
       "max      8.500000e+02\n",
       "Name: fico_range_high, dtype: float64"
      ]
     },
     "execution_count": 153,
     "metadata": {},
     "output_type": "execute_result"
    }
   ],
   "source": [
    "df1['fico_range_high'].describe().compute()"
   ]
  },
  {
   "cell_type": "code",
   "execution_count": 154,
   "metadata": {},
   "outputs": [
    {
     "data": {
      "text/plain": [
       "0"
      ]
     },
     "execution_count": 154,
     "metadata": {},
     "output_type": "execute_result"
    }
   ],
   "source": [
    "sum(df1['fico_range_high'].isnull().compute())"
   ]
  },
  {
   "cell_type": "code",
   "execution_count": 155,
   "metadata": {},
   "outputs": [
    {
     "data": {
      "text/plain": [
       "0"
      ]
     },
     "execution_count": 155,
     "metadata": {},
     "output_type": "execute_result"
    }
   ],
   "source": [
    "sum(df1['fico_range_low'].isnull().compute())"
   ]
  },
  {
   "cell_type": "markdown",
   "metadata": {},
   "source": [
    "### Grade \n",
    "#### Remove F and G grade?"
   ]
  },
  {
   "cell_type": "code",
   "execution_count": 123,
   "metadata": {},
   "outputs": [
    {
     "data": {
      "text/plain": [
       "B    663555\n",
       "C    650053\n",
       "A    433023\n",
       "D    324424\n",
       "E    135639\n",
       "F     41800\n",
       "G     12168\n",
       "Name: grade, dtype: int64"
      ]
     },
     "execution_count": 123,
     "metadata": {},
     "output_type": "execute_result"
    }
   ],
   "source": [
    "df1['grade'].value_counts().compute()"
   ]
  },
  {
   "cell_type": "code",
   "execution_count": 131,
   "metadata": {},
   "outputs": [
    {
     "data": {
      "text/plain": [
       "0"
      ]
     },
     "execution_count": 131,
     "metadata": {},
     "output_type": "execute_result"
    }
   ],
   "source": [
    "sum(df1['grade'].isnull().compute())"
   ]
  },
  {
   "cell_type": "code",
   "execution_count": 124,
   "metadata": {},
   "outputs": [
    {
     "data": {
      "text/plain": [
       "<AxesSubplot:xlabel='grade', ylabel='int_rate'>"
      ]
     },
     "execution_count": 124,
     "metadata": {},
     "output_type": "execute_result"
    },
    {
     "data": {
      "image/png": "[encoded data removed]",
      "text/plain": [
       "<Figure size 432x288 with 1 Axes>"
      ]
     },
     "metadata": {
      "needs_background": "light"
     },
     "output_type": "display_data"
    }
   ],
   "source": [
    "my_order = ['A','B','C','D','E','F','G']\n",
    "sns.boxplot(x='grade', y='int_rate', data=df1.compute(), order=my_order)"
   ]
  },
  {
   "cell_type": "code",
   "execution_count": null,
   "metadata": {},
   "outputs": [],
   "source": [
    "#remove?\n",
    "#df1 = df1[(df1.grade != 'F') & (df1.grade != 'G')]"
   ]
  },
  {
   "cell_type": "code",
   "execution_count": 207,
   "metadata": {},
   "outputs": [],
   "source": [
    "#covert to ordinal\n",
    "#df1.grade.replace({'G':1,'F':2,'E':3, 'D':4, 'C':5, 'B':6, 'A':7}, inplace=True)"
   ]
  }
 ],
 "metadata": {
  "kernelspec": {
   "display_name": "Python 3",
   "language": "python",
   "name": "python3"
  },
  "language_info": {
   "codemirror_mode": {
    "name": "ipython",
    "version": 3
   },
   "file_extension": ".py",
   "mimetype": "text/x-python",
   "name": "python",
   "nbconvert_exporter": "python",
   "pygments_lexer": "ipython3",
   "version": "3.8.5"
  }
 },
 "nbformat": 4,
 "nbformat_minor": 4
}
