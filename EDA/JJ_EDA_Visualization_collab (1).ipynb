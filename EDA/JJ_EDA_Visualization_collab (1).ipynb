{
 "cells": [
  {
   "cell_type": "code",
   "execution_count": 1,
   "metadata": {},
   "outputs": [],
   "source": [
    "import pandas as pd\n",
    "import numpy as np"
   ]
  },
  {
   "cell_type": "code",
   "execution_count": 2,
   "metadata": {},
   "outputs": [],
   "source": [
    "import sys\n",
    "sys.path.append('../lending_club')\n",
    "import config\n",
    "from data_prep import get_lending_club_data, refine_features"
   ]
  },
  {
   "cell_type": "markdown",
   "metadata": {},
   "source": [
    "### Import file"
   ]
  },
  {
   "cell_type": "code",
   "execution_count": 9,
   "metadata": {},
   "outputs": [
    {
     "name": "stdout",
     "output_type": "stream",
     "text": [
      "Wall time: 16.3 s\n"
     ]
    }
   ],
   "source": [
    "%%time\n",
    "approved = pd.read_pickle('../data/approved.pickle')"
   ]
  },
  {
   "cell_type": "code",
   "execution_count": 10,
   "metadata": {},
   "outputs": [],
   "source": [
    "from model_prep import divide_by_term\n",
    "\n",
    "df_60= divide_by_term(approved, 60)\n",
    "df_36= divide_by_term(approved, 36)\n",
    "approved = pd.concat([df_60,df_36],axis=0)"
   ]
  },
  {
   "cell_type": "code",
   "execution_count": 11,
   "metadata": {},
   "outputs": [],
   "source": [
    "approved = approved.loc[approved['issue_d'].dt.year>2007,:]"
   ]
  },
  {
   "cell_type": "code",
   "execution_count": 6,
   "metadata": {
    "scrolled": true
   },
   "outputs": [
    {
     "data": {
      "text/plain": [
       "addr_state                         object\n",
       "annual_inc                        float64\n",
       "application_type                   object\n",
       "disbursement_method                object\n",
       "dti                               float64\n",
       "earliest_cr_line           datetime64[ns]\n",
       "emp_length                          int64\n",
       "emp_title                          object\n",
       "fico_range_high                   float64\n",
       "fico_range_low                    float64\n",
       "grade                              object\n",
       "home_ownership                     object\n",
       "initial_list_status                object\n",
       "inq_last_6mths                    float64\n",
       "installment                       float64\n",
       "int_rate                          float64\n",
       "issue_d                    datetime64[ns]\n",
       "last_pymnt_d               datetime64[ns]\n",
       "loan_amnt                         float64\n",
       "loan_status                         int64\n",
       "open_acc                          float64\n",
       "pub_rec                           float64\n",
       "pub_rec_bankruptcies              float64\n",
       "purpose                            object\n",
       "sub_grade                           int64\n",
       "term                                int64\n",
       "total_pymnt                       float64\n",
       "verification_status                object\n",
       "zip_code                           object\n",
       "days_since_first_credit             int64\n",
       "fico_score_average                float64\n",
       "PnL                               float64\n",
       "dtype: object"
      ]
     },
     "execution_count": 6,
     "metadata": {},
     "output_type": "execute_result"
    }
   ],
   "source": [
    "approved.dtypes"
   ]
  },
  {
   "cell_type": "markdown",
   "metadata": {},
   "source": [
    "# EDA"
   ]
  },
  {
   "cell_type": "code",
   "execution_count": 12,
   "metadata": {},
   "outputs": [],
   "source": [
    "import seaborn as sns\n",
    "import matplotlib.pyplot as plt\n",
    "%matplotlib inline "
   ]
  },
  {
   "cell_type": "code",
   "execution_count": 13,
   "metadata": {},
   "outputs": [],
   "source": [
    "approved['years']= approved['issue_d'].dt.year"
   ]
  },
  {
   "cell_type": "code",
   "execution_count": 215,
   "metadata": {},
   "outputs": [
    {
     "data": {
      "text/plain": [
       "1    565404\n",
       "0     95492\n",
       "Name: loan_status, dtype: int64"
      ]
     },
     "execution_count": 215,
     "metadata": {},
     "output_type": "execute_result"
    }
   ],
   "source": [
    "approved['loan_status'].value_counts()"
   ]
  },
  {
   "cell_type": "code",
   "execution_count": 216,
   "metadata": {},
   "outputs": [
    {
     "data": {
      "text/plain": [
       "0.14448869413644505"
      ]
     },
     "execution_count": 216,
     "metadata": {},
     "output_type": "execute_result"
    }
   ],
   "source": [
    "1-(approved['loan_status'].mean())"
   ]
  },
  {
   "cell_type": "markdown",
   "metadata": {},
   "source": [
    "### What is the default rate? What are the defaults per loan grade?"
   ]
  },
  {
   "cell_type": "code",
   "execution_count": 217,
   "metadata": {},
   "outputs": [],
   "source": [
    "default = approved['loan_status'].value_counts()\n",
    "default\n",
    "my_labels = ['Fully Paid','Charged Off']\n",
    "my_colors = ['lightgreen','crimson']\n",
    "my_explode = (0, 0.1)"
   ]
  },
  {
   "cell_type": "code",
   "execution_count": 218,
   "metadata": {},
   "outputs": [
    {
     "data": {
      "text/plain": [
       "Text(0.5, 1.0, 'Default Rate')"
      ]
     },
     "execution_count": 218,
     "metadata": {},
     "output_type": "execute_result"
    },
    {
     "data": {
      "image/png": "[encoded data removed]",
      "text/plain": [
       "<Figure size 432x288 with 1 Axes>"
      ]
     },
     "metadata": {},
     "output_type": "display_data"
    }
   ],
   "source": [
    "plt.pie(default, labels=my_labels, colors=my_colors, explode=my_explode, shadow = True, autopct='%1.1f%%')\n",
    "plt.title('Default Rate')\n",
    "#save"
   ]
  },
  {
   "cell_type": "code",
   "execution_count": 219,
   "metadata": {},
   "outputs": [
    {
     "data": {
      "text/html": [
       "<div>\n",
       "<style scoped>\n",
       "    .dataframe tbody tr th:only-of-type {\n",
       "        vertical-align: middle;\n",
       "    }\n",
       "\n",
       "    .dataframe tbody tr th {\n",
       "        vertical-align: top;\n",
       "    }\n",
       "\n",
       "    .dataframe thead th {\n",
       "        text-align: right;\n",
       "    }\n",
       "</style>\n",
       "<table border=\"1\" class=\"dataframe\">\n",
       "  <thead>\n",
       "    <tr style=\"text-align: right;\">\n",
       "      <th></th>\n",
       "      <th>grade</th>\n",
       "      <th>loan_status</th>\n",
       "    </tr>\n",
       "  </thead>\n",
       "  <tbody>\n",
       "    <tr>\n",
       "      <th>0</th>\n",
       "      <td>A</td>\n",
       "      <td>0.055010</td>\n",
       "    </tr>\n",
       "    <tr>\n",
       "      <th>1</th>\n",
       "      <td>B</td>\n",
       "      <td>0.113535</td>\n",
       "    </tr>\n",
       "    <tr>\n",
       "      <th>2</th>\n",
       "      <td>C</td>\n",
       "      <td>0.182895</td>\n",
       "    </tr>\n",
       "    <tr>\n",
       "      <th>3</th>\n",
       "      <td>D</td>\n",
       "      <td>0.237949</td>\n",
       "    </tr>\n",
       "    <tr>\n",
       "      <th>4</th>\n",
       "      <td>E</td>\n",
       "      <td>0.294084</td>\n",
       "    </tr>\n",
       "  </tbody>\n",
       "</table>\n",
       "</div>"
      ],
      "text/plain": [
       "  grade  loan_status\n",
       "0     A     0.055010\n",
       "1     B     0.113535\n",
       "2     C     0.182895\n",
       "3     D     0.237949\n",
       "4     E     0.294084"
      ]
     },
     "execution_count": 219,
     "metadata": {},
     "output_type": "execute_result"
    }
   ],
   "source": [
    "default_rate = approved.groupby('grade').agg({'loan_status':'mean'})\n",
    "default_rate= 1-default_rate\n",
    "default_rate = default_rate.reset_index()\n",
    "default_rate"
   ]
  },
  {
   "cell_type": "code",
   "execution_count": 220,
   "metadata": {},
   "outputs": [
    {
     "data": {
      "text/plain": [
       "Text(0.5, 1.0, 'Default Rate per Loan Grade')"
      ]
     },
     "execution_count": 220,
     "metadata": {},
     "output_type": "execute_result"
    },
    {
     "data": {
      "image/png": "[encoded data removed]",
      "text/plain": [
       "<Figure size 432x288 with 1 Axes>"
      ]
     },
     "metadata": {
      "needs_background": "light"
     },
     "output_type": "display_data"
    }
   ],
   "source": [
    "sns.barplot(y='loan_status',x='grade', data=default_rate, palette='hls')\n",
    "plt.xlabel('Grade')\n",
    "plt.ylabel('Default Rate')\n",
    "plt.title('Default Rate per Loan Grade')\n",
    "#save"
   ]
  },
  {
   "cell_type": "code",
   "execution_count": 221,
   "metadata": {
    "scrolled": true
   },
   "outputs": [
    {
     "data": {
      "text/html": [
       "<div>\n",
       "<style scoped>\n",
       "    .dataframe tbody tr th:only-of-type {\n",
       "        vertical-align: middle;\n",
       "    }\n",
       "\n",
       "    .dataframe tbody tr th {\n",
       "        vertical-align: top;\n",
       "    }\n",
       "\n",
       "    .dataframe thead th {\n",
       "        text-align: right;\n",
       "    }\n",
       "</style>\n",
       "<table border=\"1\" class=\"dataframe\">\n",
       "  <thead>\n",
       "    <tr style=\"text-align: right;\">\n",
       "      <th></th>\n",
       "      <th>grade</th>\n",
       "      <th>term</th>\n",
       "      <th>loan_status</th>\n",
       "    </tr>\n",
       "  </thead>\n",
       "  <tbody>\n",
       "    <tr>\n",
       "      <th>0</th>\n",
       "      <td>A</td>\n",
       "      <td>36</td>\n",
       "      <td>0.054767</td>\n",
       "    </tr>\n",
       "    <tr>\n",
       "      <th>1</th>\n",
       "      <td>A</td>\n",
       "      <td>60</td>\n",
       "      <td>0.083817</td>\n",
       "    </tr>\n",
       "    <tr>\n",
       "      <th>2</th>\n",
       "      <td>B</td>\n",
       "      <td>36</td>\n",
       "      <td>0.111894</td>\n",
       "    </tr>\n",
       "    <tr>\n",
       "      <th>3</th>\n",
       "      <td>B</td>\n",
       "      <td>60</td>\n",
       "      <td>0.155824</td>\n",
       "    </tr>\n",
       "    <tr>\n",
       "      <th>4</th>\n",
       "      <td>C</td>\n",
       "      <td>36</td>\n",
       "      <td>0.179117</td>\n",
       "    </tr>\n",
       "    <tr>\n",
       "      <th>5</th>\n",
       "      <td>C</td>\n",
       "      <td>60</td>\n",
       "      <td>0.217252</td>\n",
       "    </tr>\n",
       "    <tr>\n",
       "      <th>6</th>\n",
       "      <td>D</td>\n",
       "      <td>36</td>\n",
       "      <td>0.233172</td>\n",
       "    </tr>\n",
       "    <tr>\n",
       "      <th>7</th>\n",
       "      <td>D</td>\n",
       "      <td>60</td>\n",
       "      <td>0.272859</td>\n",
       "    </tr>\n",
       "    <tr>\n",
       "      <th>8</th>\n",
       "      <td>E</td>\n",
       "      <td>36</td>\n",
       "      <td>0.285661</td>\n",
       "    </tr>\n",
       "    <tr>\n",
       "      <th>9</th>\n",
       "      <td>E</td>\n",
       "      <td>60</td>\n",
       "      <td>0.311716</td>\n",
       "    </tr>\n",
       "  </tbody>\n",
       "</table>\n",
       "</div>"
      ],
      "text/plain": [
       "  grade  term  loan_status\n",
       "0     A    36     0.054767\n",
       "1     A    60     0.083817\n",
       "2     B    36     0.111894\n",
       "3     B    60     0.155824\n",
       "4     C    36     0.179117\n",
       "5     C    60     0.217252\n",
       "6     D    36     0.233172\n",
       "7     D    60     0.272859\n",
       "8     E    36     0.285661\n",
       "9     E    60     0.311716"
      ]
     },
     "execution_count": 221,
     "metadata": {},
     "output_type": "execute_result"
    }
   ],
   "source": [
    "default_rate = approved.groupby(['grade','term']).agg({'loan_status':'mean'})\n",
    "default_rate= 1-default_rate\n",
    "default_rate = default_rate.reset_index()\n",
    "default_rate"
   ]
  },
  {
   "cell_type": "code",
   "execution_count": 222,
   "metadata": {},
   "outputs": [
    {
     "data": {
      "text/plain": [
       "Text(0.5, 1.0, 'Default Rate per Loan Grade')"
      ]
     },
     "execution_count": 222,
     "metadata": {},
     "output_type": "execute_result"
    },
    {
     "data": {
      "image/png": "[encoded data removed]",
      "text/plain": [
       "<Figure size 432x288 with 1 Axes>"
      ]
     },
     "metadata": {
      "needs_background": "light"
     },
     "output_type": "display_data"
    }
   ],
   "source": [
    "sns.barplot(y='loan_status',x='grade',hue='term', data=default_rate, palette='hls')\n",
    "plt.xlabel('Grade')\n",
    "plt.ylabel('Default Rate')\n",
    "plt.title('Default Rate per Loan Grade')"
   ]
  },
  {
   "cell_type": "code",
   "execution_count": 224,
   "metadata": {},
   "outputs": [],
   "source": [
    "approved['last_pymnt_d'].fillna(approved['issue_d'], inplace=True)"
   ]
  },
  {
   "cell_type": "code",
   "execution_count": 225,
   "metadata": {},
   "outputs": [],
   "source": [
    "approved['default_year']=approved['last_pymnt_d'].dt.year"
   ]
  },
  {
   "cell_type": "code",
   "execution_count": 226,
   "metadata": {
    "scrolled": true
   },
   "outputs": [
    {
     "data": {
      "text/html": [
       "<div>\n",
       "<style scoped>\n",
       "    .dataframe tbody tr th:only-of-type {\n",
       "        vertical-align: middle;\n",
       "    }\n",
       "\n",
       "    .dataframe tbody tr th {\n",
       "        vertical-align: top;\n",
       "    }\n",
       "\n",
       "    .dataframe thead th {\n",
       "        text-align: right;\n",
       "    }\n",
       "</style>\n",
       "<table border=\"1\" class=\"dataframe\">\n",
       "  <thead>\n",
       "    <tr style=\"text-align: right;\">\n",
       "      <th></th>\n",
       "      <th>years</th>\n",
       "      <th>term</th>\n",
       "      <th>loan_status</th>\n",
       "    </tr>\n",
       "  </thead>\n",
       "  <tbody>\n",
       "    <tr>\n",
       "      <th>0</th>\n",
       "      <td>2008</td>\n",
       "      <td>36</td>\n",
       "      <td>0.150410</td>\n",
       "    </tr>\n",
       "    <tr>\n",
       "      <th>1</th>\n",
       "      <td>2009</td>\n",
       "      <td>36</td>\n",
       "      <td>0.124081</td>\n",
       "    </tr>\n",
       "    <tr>\n",
       "      <th>2</th>\n",
       "      <td>2010</td>\n",
       "      <td>36</td>\n",
       "      <td>0.097232</td>\n",
       "    </tr>\n",
       "    <tr>\n",
       "      <th>3</th>\n",
       "      <td>2010</td>\n",
       "      <td>60</td>\n",
       "      <td>0.203468</td>\n",
       "    </tr>\n",
       "    <tr>\n",
       "      <th>4</th>\n",
       "      <td>2011</td>\n",
       "      <td>36</td>\n",
       "      <td>0.105578</td>\n",
       "    </tr>\n",
       "    <tr>\n",
       "      <th>5</th>\n",
       "      <td>2011</td>\n",
       "      <td>60</td>\n",
       "      <td>0.225033</td>\n",
       "    </tr>\n",
       "    <tr>\n",
       "      <th>6</th>\n",
       "      <td>2012</td>\n",
       "      <td>36</td>\n",
       "      <td>0.135662</td>\n",
       "    </tr>\n",
       "    <tr>\n",
       "      <th>7</th>\n",
       "      <td>2012</td>\n",
       "      <td>60</td>\n",
       "      <td>0.259351</td>\n",
       "    </tr>\n",
       "    <tr>\n",
       "      <th>8</th>\n",
       "      <td>2013</td>\n",
       "      <td>36</td>\n",
       "      <td>0.122356</td>\n",
       "    </tr>\n",
       "    <tr>\n",
       "      <th>9</th>\n",
       "      <td>2013</td>\n",
       "      <td>60</td>\n",
       "      <td>0.234319</td>\n",
       "    </tr>\n",
       "    <tr>\n",
       "      <th>10</th>\n",
       "      <td>2014</td>\n",
       "      <td>36</td>\n",
       "      <td>0.135066</td>\n",
       "    </tr>\n",
       "    <tr>\n",
       "      <th>11</th>\n",
       "      <td>2015</td>\n",
       "      <td>36</td>\n",
       "      <td>0.147258</td>\n",
       "    </tr>\n",
       "  </tbody>\n",
       "</table>\n",
       "</div>"
      ],
      "text/plain": [
       "    years  term  loan_status\n",
       "0    2008    36     0.150410\n",
       "1    2009    36     0.124081\n",
       "2    2010    36     0.097232\n",
       "3    2010    60     0.203468\n",
       "4    2011    36     0.105578\n",
       "5    2011    60     0.225033\n",
       "6    2012    36     0.135662\n",
       "7    2012    60     0.259351\n",
       "8    2013    36     0.122356\n",
       "9    2013    60     0.234319\n",
       "10   2014    36     0.135066\n",
       "11   2015    36     0.147258"
      ]
     },
     "execution_count": 226,
     "metadata": {},
     "output_type": "execute_result"
    }
   ],
   "source": [
    "default_rate_year = approved.groupby(['years','term']).mean()['loan_status']\n",
    "default_rate_year = 1-default_rate_year\n",
    "default_rate_year = default_rate_year.reset_index()\n",
    "default_rate_year"
   ]
  },
  {
   "cell_type": "code",
   "execution_count": 227,
   "metadata": {
    "scrolled": true
   },
   "outputs": [
    {
     "data": {
      "text/plain": [
       "Text(0.5, 1.0, 'Default Rate Over Time')"
      ]
     },
     "execution_count": 227,
     "metadata": {},
     "output_type": "execute_result"
    },
    {
     "data": {
      "image/png": "[encoded data removed]",
      "text/plain": [
       "<Figure size 432x288 with 1 Axes>"
      ]
     },
     "metadata": {
      "needs_background": "light"
     },
     "output_type": "display_data"
    }
   ],
   "source": [
    "sns.lineplot(y='loan_status',x='years',data=default_rate_year)\n",
    "plt.xlabel('Year of Issue')\n",
    "plt.ylabel('Default Rate')\n",
    "plt.title('Default Rate Over Time')"
   ]
  },
  {
   "cell_type": "code",
   "execution_count": 228,
   "metadata": {},
   "outputs": [
    {
     "data": {
      "text/plain": [
       "<matplotlib.legend.Legend at 0x7ff3fc0107f0>"
      ]
     },
     "execution_count": 228,
     "metadata": {},
     "output_type": "execute_result"
    },
    {
     "data": {
      "image/png": "[encoded data removed]",
      "text/plain": [
       "<Figure size 432x288 with 1 Axes>"
      ]
     },
     "metadata": {
      "needs_background": "light"
     },
     "output_type": "display_data"
    }
   ],
   "source": [
    "sns.barplot(y='loan_status',x='years',hue='term',data=default_rate_year)\n",
    "plt.xlabel('Year')\n",
    "plt.ylabel('Default Rate')\n",
    "plt.title('Default Rate Over Time by Term')\n",
    "plt.legend(loc=1)\n",
    "#save"
   ]
  },
  {
   "cell_type": "code",
   "execution_count": 211,
   "metadata": {},
   "outputs": [
    {
     "data": {
      "text/html": [
       "<div>\n",
       "<style scoped>\n",
       "    .dataframe tbody tr th:only-of-type {\n",
       "        vertical-align: middle;\n",
       "    }\n",
       "\n",
       "    .dataframe tbody tr th {\n",
       "        vertical-align: top;\n",
       "    }\n",
       "\n",
       "    .dataframe thead th {\n",
       "        text-align: right;\n",
       "    }\n",
       "</style>\n",
       "<table border=\"1\" class=\"dataframe\">\n",
       "  <thead>\n",
       "    <tr style=\"text-align: right;\">\n",
       "      <th>term</th>\n",
       "      <th>36</th>\n",
       "      <th>60</th>\n",
       "    </tr>\n",
       "    <tr>\n",
       "      <th>years</th>\n",
       "      <th></th>\n",
       "      <th></th>\n",
       "    </tr>\n",
       "  </thead>\n",
       "  <tbody>\n",
       "    <tr>\n",
       "      <th>2008</th>\n",
       "      <td>1097.0</td>\n",
       "      <td>NaN</td>\n",
       "    </tr>\n",
       "    <tr>\n",
       "      <th>2009</th>\n",
       "      <td>4626.0</td>\n",
       "      <td>NaN</td>\n",
       "    </tr>\n",
       "    <tr>\n",
       "      <th>2010</th>\n",
       "      <td>8382.0</td>\n",
       "      <td>2826.0</td>\n",
       "    </tr>\n",
       "    <tr>\n",
       "      <th>2011</th>\n",
       "      <td>14037.0</td>\n",
       "      <td>6759.0</td>\n",
       "    </tr>\n",
       "    <tr>\n",
       "      <th>2012</th>\n",
       "      <td>43343.0</td>\n",
       "      <td>8448.0</td>\n",
       "    </tr>\n",
       "    <tr>\n",
       "      <th>2013</th>\n",
       "      <td>99799.0</td>\n",
       "      <td>29750.0</td>\n",
       "    </tr>\n",
       "    <tr>\n",
       "      <th>2014</th>\n",
       "      <td>160411.0</td>\n",
       "      <td>NaN</td>\n",
       "    </tr>\n",
       "    <tr>\n",
       "      <th>2015</th>\n",
       "      <td>281418.0</td>\n",
       "      <td>NaN</td>\n",
       "    </tr>\n",
       "  </tbody>\n",
       "</table>\n",
       "</div>"
      ],
      "text/plain": [
       "term         36       60\n",
       "years                   \n",
       "2008     1097.0      NaN\n",
       "2009     4626.0      NaN\n",
       "2010     8382.0   2826.0\n",
       "2011    14037.0   6759.0\n",
       "2012    43343.0   8448.0\n",
       "2013    99799.0  29750.0\n",
       "2014   160411.0      NaN\n",
       "2015   281418.0      NaN"
      ]
     },
     "execution_count": 211,
     "metadata": {},
     "output_type": "execute_result"
    }
   ],
   "source": [
    "df_plot = approved.groupby(['years', 'term']).size().reset_index().pivot(columns='term', index='years', values=0)\n",
    "df_plot"
   ]
  },
  {
   "cell_type": "code",
   "execution_count": 212,
   "metadata": {},
   "outputs": [
    {
     "data": {
      "text/plain": [
       "<AxesSubplot:xlabel='years'>"
      ]
     },
     "execution_count": 212,
     "metadata": {},
     "output_type": "execute_result"
    },
    {
     "data": {
      "image/png": "[encoded data removed]",
      "text/plain": [
       "<Figure size 432x288 with 1 Axes>"
      ]
     },
     "metadata": {
      "needs_background": "light"
     },
     "output_type": "display_data"
    }
   ],
   "source": [
    "df_plot.plot(kind='bar', stacked=True)"
   ]
  },
  {
   "cell_type": "code",
   "execution_count": 204,
   "metadata": {},
   "outputs": [
    {
     "data": {
      "text/plain": [
       "Text(0.5, 1.0, 'Charged Off vs Fully Paid Over Time')"
      ]
     },
     "execution_count": 204,
     "metadata": {},
     "output_type": "execute_result"
    },
    {
     "data": {
      "image/png": "[encoded data removed]",
      "text/plain": [
       "<Figure size 432x288 with 1 Axes>"
      ]
     },
     "metadata": {
      "needs_background": "light"
     },
     "output_type": "display_data"
    }
   ],
   "source": [
    "sns.countplot(x='years', hue='term', data=approved, palette='hls')\n",
    "plt.legend(['Charged Off', 'Fully Paid'])\n",
    "plt.title('Charged Off vs Fully Paid Over Time')"
   ]
  },
  {
   "cell_type": "markdown",
   "metadata": {},
   "source": [
    "### Segmentation by FICO scores of the borrowers\n"
   ]
  },
  {
   "cell_type": "code",
   "execution_count": 231,
   "metadata": {},
   "outputs": [
    {
     "data": {
      "text/plain": [
       "Text(0.5, 1.0, 'FICO Score vs Grade')"
      ]
     },
     "execution_count": 231,
     "metadata": {},
     "output_type": "execute_result"
    },
    {
     "data": {
      "image/png": "[encoded data removed]",
      "text/plain": [
       "<Figure size 432x288 with 1 Axes>"
      ]
     },
     "metadata": {
      "needs_background": "light"
     },
     "output_type": "display_data"
    }
   ],
   "source": [
    "my_order = ['A','B','C','D','E']\n",
    "sns.boxplot(x='grade', y='fico_score_average', data=approved, palette='hls',order=my_order)\n",
    "plt.title('FICO Score vs Grade')"
   ]
  },
  {
   "cell_type": "code",
   "execution_count": 230,
   "metadata": {},
   "outputs": [
    {
     "data": {
      "text/plain": [
       "Text(0.5, 1.0, 'Interest Rate vs FICO Score')"
      ]
     },
     "execution_count": 230,
     "metadata": {},
     "output_type": "execute_result"
    },
    {
     "data": {
      "image/png": "[encoded data removed]",
      "text/plain": [
       "<Figure size 432x288 with 1 Axes>"
      ]
     },
     "metadata": {
      "needs_background": "light"
     },
     "output_type": "display_data"
    }
   ],
   "source": [
    "sns.lineplot(y='int_rate',x='fico_score_average', data=approved, palette='hls')\n",
    "plt.title('Interest Rate vs FICO Score')"
   ]
  },
  {
   "cell_type": "code",
   "execution_count": 232,
   "metadata": {
    "scrolled": true
   },
   "outputs": [
    {
     "data": {
      "text/plain": [
       "<matplotlib.legend.Legend at 0x7ff40009df10>"
      ]
     },
     "execution_count": 232,
     "metadata": {},
     "output_type": "execute_result"
    },
    {
     "data": {
      "image/png": "[encoded data removed]",
      "text/plain": [
       "<Figure size 432x288 with 1 Axes>"
      ]
     },
     "metadata": {
      "needs_background": "light"
     },
     "output_type": "display_data"
    }
   ],
   "source": [
    "plt = sns.lineplot(y='fico_score_average',x= 'years', hue='grade', data=approved, palette='hls')\n",
    "\n",
    "handles, labels = plt.get_legend_handles_labels()\n",
    "handles = [handles[2], handles[0], handles[4], handles[3], handles[1]]\n",
    "labels = [labels[2], labels[0], labels[4], labels[3], labels[1] ]\n",
    "plt.legend(handles,labels, title='Grade', loc=1)\n",
    "#save and fix legend\n",
    "#fix fanning"
   ]
  },
  {
   "cell_type": "code",
   "execution_count": 233,
   "metadata": {
    "scrolled": true
   },
   "outputs": [
    {
     "data": {
      "text/plain": [
       "fico_score_average\n",
       "662.0    0.198097\n",
       "667.0    0.187555\n",
       "672.0    0.181200\n",
       "677.0    0.172124\n",
       "682.0    0.169228\n",
       "687.0    0.157534\n",
       "692.0    0.148646\n",
       "697.0    0.144033\n",
       "702.0    0.132422\n",
       "707.0    0.124893\n",
       "712.0    0.116712\n",
       "717.0    0.110796\n",
       "722.0    0.099783\n",
       "727.0    0.104162\n",
       "732.0    0.090298\n",
       "737.0    0.090655\n",
       "742.0    0.083757\n",
       "747.0    0.083042\n",
       "752.0    0.076177\n",
       "757.0    0.074647\n",
       "762.0    0.067114\n",
       "767.0    0.065134\n",
       "772.0    0.053822\n",
       "777.0    0.053947\n",
       "782.0    0.056067\n",
       "787.0    0.049630\n",
       "792.0    0.050457\n",
       "797.0    0.041417\n",
       "802.0    0.047262\n",
       "807.0    0.043201\n",
       "812.0    0.039962\n",
       "817.0    0.031969\n",
       "822.0    0.041096\n",
       "827.0    0.024038\n",
       "832.0    0.033835\n",
       "837.0    0.006452\n",
       "842.0    0.054348\n",
       "847.5    0.054795\n",
       "Name: loan_status, dtype: float64"
      ]
     },
     "execution_count": 233,
     "metadata": {},
     "output_type": "execute_result"
    }
   ],
   "source": [
    "default_fico = approved.groupby('fico_score_average').mean()['loan_status']\n",
    "default_fico = 1-default_fico\n",
    "default_fico"
   ]
  },
  {
   "cell_type": "code",
   "execution_count": 234,
   "metadata": {},
   "outputs": [
    {
     "ename": "AttributeError",
     "evalue": "'AxesSubplot' object has no attribute 'xlabel'",
     "output_type": "error",
     "traceback": [
      "\u001b[0;31m---------------------------------------------------------------------------\u001b[0m",
      "\u001b[0;31mAttributeError\u001b[0m                            Traceback (most recent call last)",
      "\u001b[0;32m<ipython-input-234-dbe93c6e063b>\u001b[0m in \u001b[0;36m<module>\u001b[0;34m\u001b[0m\n\u001b[1;32m      1\u001b[0m \u001b[0msns\u001b[0m\u001b[0;34m.\u001b[0m\u001b[0mlineplot\u001b[0m\u001b[0;34m(\u001b[0m\u001b[0my\u001b[0m\u001b[0;34m=\u001b[0m\u001b[0mdefault_fico\u001b[0m\u001b[0;34m.\u001b[0m\u001b[0mvalues\u001b[0m\u001b[0;34m,\u001b[0m\u001b[0mx\u001b[0m\u001b[0;34m=\u001b[0m\u001b[0mdefault_fico\u001b[0m\u001b[0;34m.\u001b[0m\u001b[0mindex\u001b[0m\u001b[0;34m,\u001b[0m \u001b[0mpalette\u001b[0m\u001b[0;34m=\u001b[0m\u001b[0;34m'hls'\u001b[0m\u001b[0;34m)\u001b[0m\u001b[0;34m\u001b[0m\u001b[0;34m\u001b[0m\u001b[0m\n\u001b[0;32m----> 2\u001b[0;31m \u001b[0mplt\u001b[0m\u001b[0;34m.\u001b[0m\u001b[0mxlabel\u001b[0m\u001b[0;34m(\u001b[0m\u001b[0;34m'FICO Score'\u001b[0m\u001b[0;34m)\u001b[0m\u001b[0;34m\u001b[0m\u001b[0;34m\u001b[0m\u001b[0m\n\u001b[0m\u001b[1;32m      3\u001b[0m \u001b[0mplt\u001b[0m\u001b[0;34m.\u001b[0m\u001b[0mylabel\u001b[0m\u001b[0;34m(\u001b[0m\u001b[0;34m'Default Rate'\u001b[0m\u001b[0;34m)\u001b[0m\u001b[0;34m\u001b[0m\u001b[0;34m\u001b[0m\u001b[0m\n\u001b[1;32m      4\u001b[0m \u001b[0mplt\u001b[0m\u001b[0;34m.\u001b[0m\u001b[0mtitle\u001b[0m\u001b[0;34m(\u001b[0m\u001b[0;34m'Default Rate vs FICO Score'\u001b[0m\u001b[0;34m)\u001b[0m\u001b[0;34m\u001b[0m\u001b[0;34m\u001b[0m\u001b[0m\n\u001b[1;32m      5\u001b[0m \u001b[0;31m#save and add h-line avg\u001b[0m\u001b[0;34m\u001b[0m\u001b[0;34m\u001b[0m\u001b[0;34m\u001b[0m\u001b[0m\n",
      "\u001b[0;31mAttributeError\u001b[0m: 'AxesSubplot' object has no attribute 'xlabel'"
     ]
    },
    {
     "data": {
      "image/png": "[encoded data removed]",
      "text/plain": [
       "<Figure size 432x288 with 1 Axes>"
      ]
     },
     "metadata": {
      "needs_background": "light"
     },
     "output_type": "display_data"
    }
   ],
   "source": [
    "sns.lineplot(y=default_fico.values,x=default_fico.index, palette='hls')\n",
    "plt.xlabel('FICO Score')\n",
    "plt.ylabel('Default Rate')\n",
    "plt.title('Default Rate vs FICO Score')\n",
    "#save and add h-line avg"
   ]
  },
  {
   "cell_type": "code",
   "execution_count": 41,
   "metadata": {},
   "outputs": [
    {
     "data": {
      "text/html": [
       "<div>\n",
       "<style scoped>\n",
       "    .dataframe tbody tr th:only-of-type {\n",
       "        vertical-align: middle;\n",
       "    }\n",
       "\n",
       "    .dataframe tbody tr th {\n",
       "        vertical-align: top;\n",
       "    }\n",
       "\n",
       "    .dataframe thead th {\n",
       "        text-align: right;\n",
       "    }\n",
       "</style>\n",
       "<table border=\"1\" class=\"dataframe\">\n",
       "  <thead>\n",
       "    <tr style=\"text-align: right;\">\n",
       "      <th></th>\n",
       "      <th>addr_state</th>\n",
       "      <th>annual_inc</th>\n",
       "      <th>application_type</th>\n",
       "      <th>disbursement_method</th>\n",
       "      <th>dti</th>\n",
       "      <th>earliest_cr_line</th>\n",
       "      <th>emp_length</th>\n",
       "      <th>emp_title</th>\n",
       "      <th>fico_range_high</th>\n",
       "      <th>fico_range_low</th>\n",
       "      <th>grade</th>\n",
       "      <th>home_ownership</th>\n",
       "      <th>initial_list_status</th>\n",
       "      <th>inq_last_6mths</th>\n",
       "      <th>installment</th>\n",
       "      <th>int_rate</th>\n",
       "      <th>issue_d</th>\n",
       "      <th>last_pymnt_d</th>\n",
       "      <th>loan_amnt</th>\n",
       "      <th>loan_status</th>\n",
       "      <th>open_acc</th>\n",
       "      <th>pub_rec</th>\n",
       "      <th>pub_rec_bankruptcies</th>\n",
       "      <th>purpose</th>\n",
       "      <th>sub_grade</th>\n",
       "      <th>term</th>\n",
       "      <th>total_pymnt</th>\n",
       "      <th>verification_status</th>\n",
       "      <th>zip_code</th>\n",
       "      <th>days_since_first_credit</th>\n",
       "      <th>fico_score_average</th>\n",
       "      <th>PnL</th>\n",
       "      <th>years</th>\n",
       "      <th>fico_avg</th>\n",
       "    </tr>\n",
       "    <tr>\n",
       "      <th>id</th>\n",
       "      <th></th>\n",
       "      <th></th>\n",
       "      <th></th>\n",
       "      <th></th>\n",
       "      <th></th>\n",
       "      <th></th>\n",
       "      <th></th>\n",
       "      <th></th>\n",
       "      <th></th>\n",
       "      <th></th>\n",
       "      <th></th>\n",
       "      <th></th>\n",
       "      <th></th>\n",
       "      <th></th>\n",
       "      <th></th>\n",
       "      <th></th>\n",
       "      <th></th>\n",
       "      <th></th>\n",
       "      <th></th>\n",
       "      <th></th>\n",
       "      <th></th>\n",
       "      <th></th>\n",
       "      <th></th>\n",
       "      <th></th>\n",
       "      <th></th>\n",
       "      <th></th>\n",
       "      <th></th>\n",
       "      <th></th>\n",
       "      <th></th>\n",
       "      <th></th>\n",
       "      <th></th>\n",
       "      <th></th>\n",
       "      <th></th>\n",
       "      <th></th>\n",
       "    </tr>\n",
       "  </thead>\n",
       "  <tbody>\n",
       "    <tr>\n",
       "      <th>7266455</th>\n",
       "      <td>FL</td>\n",
       "      <td>34000.0</td>\n",
       "      <td>Individual</td>\n",
       "      <td>Cash</td>\n",
       "      <td>10.76</td>\n",
       "      <td>1985-07-01</td>\n",
       "      <td>10</td>\n",
       "      <td>Bell Shoals Baptist Church</td>\n",
       "      <td>850.0</td>\n",
       "      <td>845.0</td>\n",
       "      <td>C</td>\n",
       "      <td>OWN</td>\n",
       "      <td>f</td>\n",
       "      <td>0.0</td>\n",
       "      <td>270.02</td>\n",
       "      <td>15.10</td>\n",
       "      <td>2013-09-01</td>\n",
       "      <td>2014-09-01</td>\n",
       "      <td>11325.0</td>\n",
       "      <td>0</td>\n",
       "      <td>11.0</td>\n",
       "      <td>0.0</td>\n",
       "      <td>0.0</td>\n",
       "      <td>other</td>\n",
       "      <td>12</td>\n",
       "      <td>60</td>\n",
       "      <td>5574.95</td>\n",
       "      <td>Source Verified</td>\n",
       "      <td>335xx</td>\n",
       "      <td>10289</td>\n",
       "      <td>847.5</td>\n",
       "      <td>-5750.05</td>\n",
       "      <td>2013</td>\n",
       "      <td>847.5</td>\n",
       "    </tr>\n",
       "    <tr>\n",
       "      <th>3625381</th>\n",
       "      <td>TX</td>\n",
       "      <td>48000.0</td>\n",
       "      <td>Individual</td>\n",
       "      <td>Cash</td>\n",
       "      <td>30.56</td>\n",
       "      <td>1992-06-01</td>\n",
       "      <td>10</td>\n",
       "      <td>Health Fitness Corporation</td>\n",
       "      <td>844.0</td>\n",
       "      <td>840.0</td>\n",
       "      <td>A</td>\n",
       "      <td>MORTGAGE</td>\n",
       "      <td>w</td>\n",
       "      <td>0.0</td>\n",
       "      <td>152.18</td>\n",
       "      <td>6.03</td>\n",
       "      <td>2013-03-01</td>\n",
       "      <td>2015-04-01</td>\n",
       "      <td>5000.0</td>\n",
       "      <td>0</td>\n",
       "      <td>13.0</td>\n",
       "      <td>0.0</td>\n",
       "      <td>0.0</td>\n",
       "      <td>credit_card</td>\n",
       "      <td>1</td>\n",
       "      <td>36</td>\n",
       "      <td>3998.07</td>\n",
       "      <td>Verified</td>\n",
       "      <td>752xx</td>\n",
       "      <td>7578</td>\n",
       "      <td>842.0</td>\n",
       "      <td>-1001.93</td>\n",
       "      <td>2013</td>\n",
       "      <td>842.0</td>\n",
       "    </tr>\n",
       "    <tr>\n",
       "      <th>10130799</th>\n",
       "      <td>NJ</td>\n",
       "      <td>59000.0</td>\n",
       "      <td>Individual</td>\n",
       "      <td>Cash</td>\n",
       "      <td>3.30</td>\n",
       "      <td>1989-10-01</td>\n",
       "      <td>8</td>\n",
       "      <td>Federal Police Sergeant</td>\n",
       "      <td>850.0</td>\n",
       "      <td>845.0</td>\n",
       "      <td>A</td>\n",
       "      <td>MORTGAGE</td>\n",
       "      <td>w</td>\n",
       "      <td>0.0</td>\n",
       "      <td>317.54</td>\n",
       "      <td>8.90</td>\n",
       "      <td>2014-01-01</td>\n",
       "      <td>2014-07-01</td>\n",
       "      <td>10000.0</td>\n",
       "      <td>0</td>\n",
       "      <td>8.0</td>\n",
       "      <td>0.0</td>\n",
       "      <td>0.0</td>\n",
       "      <td>home_improvement</td>\n",
       "      <td>5</td>\n",
       "      <td>36</td>\n",
       "      <td>7374.84</td>\n",
       "      <td>Source Verified</td>\n",
       "      <td>083xx</td>\n",
       "      <td>8858</td>\n",
       "      <td>847.5</td>\n",
       "      <td>-2625.16</td>\n",
       "      <td>2014</td>\n",
       "      <td>847.5</td>\n",
       "    </tr>\n",
       "    <tr>\n",
       "      <th>12316506</th>\n",
       "      <td>NC</td>\n",
       "      <td>50000.0</td>\n",
       "      <td>Individual</td>\n",
       "      <td>Cash</td>\n",
       "      <td>9.53</td>\n",
       "      <td>1988-10-01</td>\n",
       "      <td>7</td>\n",
       "      <td>Security Installer</td>\n",
       "      <td>844.0</td>\n",
       "      <td>840.0</td>\n",
       "      <td>C</td>\n",
       "      <td>MORTGAGE</td>\n",
       "      <td>w</td>\n",
       "      <td>0.0</td>\n",
       "      <td>850.20</td>\n",
       "      <td>13.65</td>\n",
       "      <td>2014-02-01</td>\n",
       "      <td>2015-12-01</td>\n",
       "      <td>25000.0</td>\n",
       "      <td>0</td>\n",
       "      <td>6.0</td>\n",
       "      <td>0.0</td>\n",
       "      <td>0.0</td>\n",
       "      <td>home_improvement</td>\n",
       "      <td>11</td>\n",
       "      <td>36</td>\n",
       "      <td>19636.05</td>\n",
       "      <td>Verified</td>\n",
       "      <td>284xx</td>\n",
       "      <td>9254</td>\n",
       "      <td>842.0</td>\n",
       "      <td>-5363.95</td>\n",
       "      <td>2014</td>\n",
       "      <td>842.0</td>\n",
       "    </tr>\n",
       "    <tr>\n",
       "      <th>26200698</th>\n",
       "      <td>IL</td>\n",
       "      <td>216000.0</td>\n",
       "      <td>Individual</td>\n",
       "      <td>Cash</td>\n",
       "      <td>4.43</td>\n",
       "      <td>1997-02-01</td>\n",
       "      <td>4</td>\n",
       "      <td>President</td>\n",
       "      <td>844.0</td>\n",
       "      <td>840.0</td>\n",
       "      <td>D</td>\n",
       "      <td>RENT</td>\n",
       "      <td>w</td>\n",
       "      <td>0.0</td>\n",
       "      <td>1235.52</td>\n",
       "      <td>16.29</td>\n",
       "      <td>2014-09-01</td>\n",
       "      <td>2017-07-01</td>\n",
       "      <td>35000.0</td>\n",
       "      <td>0</td>\n",
       "      <td>8.0</td>\n",
       "      <td>0.0</td>\n",
       "      <td>0.0</td>\n",
       "      <td>house</td>\n",
       "      <td>17</td>\n",
       "      <td>36</td>\n",
       "      <td>42007.68</td>\n",
       "      <td>Source Verified</td>\n",
       "      <td>600xx</td>\n",
       "      <td>6421</td>\n",
       "      <td>842.0</td>\n",
       "      <td>7007.68</td>\n",
       "      <td>2014</td>\n",
       "      <td>842.0</td>\n",
       "    </tr>\n",
       "    <tr>\n",
       "      <th>48545903</th>\n",
       "      <td>NC</td>\n",
       "      <td>75000.0</td>\n",
       "      <td>Individual</td>\n",
       "      <td>Cash</td>\n",
       "      <td>12.56</td>\n",
       "      <td>1986-07-01</td>\n",
       "      <td>-1</td>\n",
       "      <td>None</td>\n",
       "      <td>850.0</td>\n",
       "      <td>845.0</td>\n",
       "      <td>B</td>\n",
       "      <td>OWN</td>\n",
       "      <td>w</td>\n",
       "      <td>0.0</td>\n",
       "      <td>628.39</td>\n",
       "      <td>8.18</td>\n",
       "      <td>2015-05-01</td>\n",
       "      <td>NaT</td>\n",
       "      <td>20000.0</td>\n",
       "      <td>0</td>\n",
       "      <td>17.0</td>\n",
       "      <td>0.0</td>\n",
       "      <td>0.0</td>\n",
       "      <td>small_business</td>\n",
       "      <td>6</td>\n",
       "      <td>36</td>\n",
       "      <td>0.00</td>\n",
       "      <td>Source Verified</td>\n",
       "      <td>275xx</td>\n",
       "      <td>10531</td>\n",
       "      <td>847.5</td>\n",
       "      <td>-20000.00</td>\n",
       "      <td>2015</td>\n",
       "      <td>847.5</td>\n",
       "    </tr>\n",
       "    <tr>\n",
       "      <th>65374531</th>\n",
       "      <td>CA</td>\n",
       "      <td>14400.0</td>\n",
       "      <td>Individual</td>\n",
       "      <td>Cash</td>\n",
       "      <td>2.08</td>\n",
       "      <td>1986-04-01</td>\n",
       "      <td>10</td>\n",
       "      <td>cook</td>\n",
       "      <td>844.0</td>\n",
       "      <td>840.0</td>\n",
       "      <td>E</td>\n",
       "      <td>MORTGAGE</td>\n",
       "      <td>w</td>\n",
       "      <td>1.0</td>\n",
       "      <td>176.74</td>\n",
       "      <td>18.20</td>\n",
       "      <td>2015-11-01</td>\n",
       "      <td>2017-10-01</td>\n",
       "      <td>4875.0</td>\n",
       "      <td>0</td>\n",
       "      <td>7.0</td>\n",
       "      <td>0.0</td>\n",
       "      <td>0.0</td>\n",
       "      <td>other</td>\n",
       "      <td>21</td>\n",
       "      <td>36</td>\n",
       "      <td>4884.50</td>\n",
       "      <td>Source Verified</td>\n",
       "      <td>953xx</td>\n",
       "      <td>10806</td>\n",
       "      <td>842.0</td>\n",
       "      <td>9.50</td>\n",
       "      <td>2015</td>\n",
       "      <td>842.0</td>\n",
       "    </tr>\n",
       "    <tr>\n",
       "      <th>66633602</th>\n",
       "      <td>NY</td>\n",
       "      <td>40000.0</td>\n",
       "      <td>Individual</td>\n",
       "      <td>Cash</td>\n",
       "      <td>0.75</td>\n",
       "      <td>1993-03-01</td>\n",
       "      <td>-1</td>\n",
       "      <td>None</td>\n",
       "      <td>850.0</td>\n",
       "      <td>845.0</td>\n",
       "      <td>C</td>\n",
       "      <td>MORTGAGE</td>\n",
       "      <td>f</td>\n",
       "      <td>0.0</td>\n",
       "      <td>190.02</td>\n",
       "      <td>13.18</td>\n",
       "      <td>2015-12-01</td>\n",
       "      <td>2016-06-01</td>\n",
       "      <td>5625.0</td>\n",
       "      <td>0</td>\n",
       "      <td>6.0</td>\n",
       "      <td>0.0</td>\n",
       "      <td>0.0</td>\n",
       "      <td>moving</td>\n",
       "      <td>13</td>\n",
       "      <td>36</td>\n",
       "      <td>1136.00</td>\n",
       "      <td>Verified</td>\n",
       "      <td>107xx</td>\n",
       "      <td>8310</td>\n",
       "      <td>847.5</td>\n",
       "      <td>-4489.00</td>\n",
       "      <td>2015</td>\n",
       "      <td>847.5</td>\n",
       "    </tr>\n",
       "    <tr>\n",
       "      <th>67839977</th>\n",
       "      <td>NY</td>\n",
       "      <td>50000.0</td>\n",
       "      <td>Individual</td>\n",
       "      <td>Cash</td>\n",
       "      <td>0.84</td>\n",
       "      <td>1995-09-01</td>\n",
       "      <td>10</td>\n",
       "      <td>IT</td>\n",
       "      <td>844.0</td>\n",
       "      <td>840.0</td>\n",
       "      <td>C</td>\n",
       "      <td>MORTGAGE</td>\n",
       "      <td>w</td>\n",
       "      <td>0.0</td>\n",
       "      <td>736.93</td>\n",
       "      <td>12.59</td>\n",
       "      <td>2015-12-01</td>\n",
       "      <td>2016-07-01</td>\n",
       "      <td>22000.0</td>\n",
       "      <td>0</td>\n",
       "      <td>5.0</td>\n",
       "      <td>0.0</td>\n",
       "      <td>0.0</td>\n",
       "      <td>medical</td>\n",
       "      <td>12</td>\n",
       "      <td>36</td>\n",
       "      <td>6334.28</td>\n",
       "      <td>Not Verified</td>\n",
       "      <td>125xx</td>\n",
       "      <td>7396</td>\n",
       "      <td>842.0</td>\n",
       "      <td>-15665.72</td>\n",
       "      <td>2015</td>\n",
       "      <td>842.0</td>\n",
       "    </tr>\n",
       "  </tbody>\n",
       "</table>\n",
       "</div>"
      ],
      "text/plain": [
       "         addr_state  annual_inc application_type disbursement_method    dti  \\\n",
       "id                                                                            \n",
       "7266455          FL     34000.0       Individual                Cash  10.76   \n",
       "3625381          TX     48000.0       Individual                Cash  30.56   \n",
       "10130799         NJ     59000.0       Individual                Cash   3.30   \n",
       "12316506         NC     50000.0       Individual                Cash   9.53   \n",
       "26200698         IL    216000.0       Individual                Cash   4.43   \n",
       "48545903         NC     75000.0       Individual                Cash  12.56   \n",
       "65374531         CA     14400.0       Individual                Cash   2.08   \n",
       "66633602         NY     40000.0       Individual                Cash   0.75   \n",
       "67839977         NY     50000.0       Individual                Cash   0.84   \n",
       "\n",
       "         earliest_cr_line  emp_length                   emp_title  \\\n",
       "id                                                                  \n",
       "7266455        1985-07-01          10  Bell Shoals Baptist Church   \n",
       "3625381        1992-06-01          10  Health Fitness Corporation   \n",
       "10130799       1989-10-01           8     Federal Police Sergeant   \n",
       "12316506       1988-10-01           7          Security Installer   \n",
       "26200698       1997-02-01           4                   President   \n",
       "48545903       1986-07-01          -1                        None   \n",
       "65374531       1986-04-01          10                        cook   \n",
       "66633602       1993-03-01          -1                        None   \n",
       "67839977       1995-09-01          10                          IT   \n",
       "\n",
       "          fico_range_high  fico_range_low grade home_ownership  \\\n",
       "id                                                               \n",
       "7266455             850.0           845.0     C            OWN   \n",
       "3625381             844.0           840.0     A       MORTGAGE   \n",
       "10130799            850.0           845.0     A       MORTGAGE   \n",
       "12316506            844.0           840.0     C       MORTGAGE   \n",
       "26200698            844.0           840.0     D           RENT   \n",
       "48545903            850.0           845.0     B            OWN   \n",
       "65374531            844.0           840.0     E       MORTGAGE   \n",
       "66633602            850.0           845.0     C       MORTGAGE   \n",
       "67839977            844.0           840.0     C       MORTGAGE   \n",
       "\n",
       "         initial_list_status  inq_last_6mths  installment  int_rate  \\\n",
       "id                                                                    \n",
       "7266455                    f             0.0       270.02     15.10   \n",
       "3625381                    w             0.0       152.18      6.03   \n",
       "10130799                   w             0.0       317.54      8.90   \n",
       "12316506                   w             0.0       850.20     13.65   \n",
       "26200698                   w             0.0      1235.52     16.29   \n",
       "48545903                   w             0.0       628.39      8.18   \n",
       "65374531                   w             1.0       176.74     18.20   \n",
       "66633602                   f             0.0       190.02     13.18   \n",
       "67839977                   w             0.0       736.93     12.59   \n",
       "\n",
       "            issue_d last_pymnt_d  loan_amnt  loan_status  open_acc  pub_rec  \\\n",
       "id                                                                            \n",
       "7266455  2013-09-01   2014-09-01    11325.0            0      11.0      0.0   \n",
       "3625381  2013-03-01   2015-04-01     5000.0            0      13.0      0.0   \n",
       "10130799 2014-01-01   2014-07-01    10000.0            0       8.0      0.0   \n",
       "12316506 2014-02-01   2015-12-01    25000.0            0       6.0      0.0   \n",
       "26200698 2014-09-01   2017-07-01    35000.0            0       8.0      0.0   \n",
       "48545903 2015-05-01          NaT    20000.0            0      17.0      0.0   \n",
       "65374531 2015-11-01   2017-10-01     4875.0            0       7.0      0.0   \n",
       "66633602 2015-12-01   2016-06-01     5625.0            0       6.0      0.0   \n",
       "67839977 2015-12-01   2016-07-01    22000.0            0       5.0      0.0   \n",
       "\n",
       "          pub_rec_bankruptcies           purpose  sub_grade  term  \\\n",
       "id                                                                  \n",
       "7266455                    0.0             other         12    60   \n",
       "3625381                    0.0       credit_card          1    36   \n",
       "10130799                   0.0  home_improvement          5    36   \n",
       "12316506                   0.0  home_improvement         11    36   \n",
       "26200698                   0.0             house         17    36   \n",
       "48545903                   0.0    small_business          6    36   \n",
       "65374531                   0.0             other         21    36   \n",
       "66633602                   0.0            moving         13    36   \n",
       "67839977                   0.0           medical         12    36   \n",
       "\n",
       "          total_pymnt verification_status zip_code  days_since_first_credit  \\\n",
       "id                                                                            \n",
       "7266455       5574.95     Source Verified    335xx                    10289   \n",
       "3625381       3998.07            Verified    752xx                     7578   \n",
       "10130799      7374.84     Source Verified    083xx                     8858   \n",
       "12316506     19636.05            Verified    284xx                     9254   \n",
       "26200698     42007.68     Source Verified    600xx                     6421   \n",
       "48545903         0.00     Source Verified    275xx                    10531   \n",
       "65374531      4884.50     Source Verified    953xx                    10806   \n",
       "66633602      1136.00            Verified    107xx                     8310   \n",
       "67839977      6334.28        Not Verified    125xx                     7396   \n",
       "\n",
       "          fico_score_average       PnL  years  fico_avg  \n",
       "id                                                       \n",
       "7266455                847.5  -5750.05   2013     847.5  \n",
       "3625381                842.0  -1001.93   2013     842.0  \n",
       "10130799               847.5  -2625.16   2014     847.5  \n",
       "12316506               842.0  -5363.95   2014     842.0  \n",
       "26200698               842.0   7007.68   2014     842.0  \n",
       "48545903               847.5 -20000.00   2015     847.5  \n",
       "65374531               842.0      9.50   2015     842.0  \n",
       "66633602               847.5  -4489.00   2015     847.5  \n",
       "67839977               842.0 -15665.72   2015     842.0  "
      ]
     },
     "execution_count": 41,
     "metadata": {},
     "output_type": "execute_result"
    }
   ],
   "source": [
    "pd.set_option(\"display.max_columns\", 200)\n",
    "subset = approved.query(\"fico_avg>=840 and loan_status==0\")\n",
    "subset"
   ]
  },
  {
   "cell_type": "markdown",
   "metadata": {},
   "source": [
    "### Int Rate"
   ]
  },
  {
   "cell_type": "code",
   "execution_count": 237,
   "metadata": {},
   "outputs": [
    {
     "data": {
      "text/plain": [
       "Text(0.5, 1.0, 'Interest Rate Over Time')"
      ]
     },
     "execution_count": 237,
     "metadata": {},
     "output_type": "execute_result"
    },
    {
     "data": {
      "image/png": "[encoded data removed]",
      "text/plain": [
       "<Figure size 432x288 with 1 Axes>"
      ]
     },
     "metadata": {
      "needs_background": "light"
     },
     "output_type": "display_data"
    }
   ],
   "source": [
    "sns.lineplot(y='int_rate',x= 'years', hue='loan_status', data=approved, palette='hls')\n",
    "plt.legend(['Charged Off', 'Fully Paid'])\n",
    "plt.title('Interest Rate Over Time')"
   ]
  },
  {
   "cell_type": "code",
   "execution_count": 238,
   "metadata": {},
   "outputs": [
    {
     "data": {
      "text/plain": [
       "Text(0.5, 1.0, 'Interest Rate Over Time')"
      ]
     },
     "execution_count": 238,
     "metadata": {},
     "output_type": "execute_result"
    },
    {
     "data": {
      "image/png": "[encoded data removed]",
      "text/plain": [
       "<Figure size 432x288 with 1 Axes>"
      ]
     },
     "metadata": {
      "needs_background": "light"
     },
     "output_type": "display_data"
    }
   ],
   "source": [
    "plot = sns.lineplot(y='int_rate',x='years', hue= 'grade', data=approved, palette='hls')\n",
    "\n",
    "handles, labels = plot.get_legend_handles_labels()\n",
    "handles = [handles[2], handles[0], handles[4], handles[3], handles[1]]\n",
    "labels = [labels[2], labels[0], labels[4], labels[3], labels[1]]\n",
    "plt.legend(handles,labels, title='Grade', loc=2)\n",
    "plt.title('Interest Rate Over Time')\n",
    "#save and fix"
   ]
  },
  {
   "cell_type": "markdown",
   "metadata": {},
   "source": [
    "### DTI"
   ]
  },
  {
   "cell_type": "code",
   "execution_count": 239,
   "metadata": {
    "scrolled": true
   },
   "outputs": [
    {
     "data": {
      "text/plain": [
       "Text(0.5, 1.0, 'DTI Over Time')"
      ]
     },
     "execution_count": 239,
     "metadata": {},
     "output_type": "execute_result"
    },
    {
     "data": {
      "image/png": "[encoded data removed]",
      "text/plain": [
       "<Figure size 432x288 with 1 Axes>"
      ]
     },
     "metadata": {
      "needs_background": "light"
     },
     "output_type": "display_data"
    }
   ],
   "source": [
    "sns.lineplot(y='dti',x= 'years', hue='loan_status', data=approved, palette='hls')\n",
    "plt.legend(['Charged Off', 'Fully Paid'])\n",
    "plt.title('DTI Over Time')"
   ]
  },
  {
   "cell_type": "code",
   "execution_count": 240,
   "metadata": {},
   "outputs": [
    {
     "data": {
      "text/plain": [
       "<AxesSubplot:xlabel='years', ylabel='dti'>"
      ]
     },
     "execution_count": 240,
     "metadata": {},
     "output_type": "execute_result"
    },
    {
     "data": {
      "image/png": "[encoded data removed]",
      "text/plain": [
       "<Figure size 432x288 with 1 Axes>"
      ]
     },
     "metadata": {
      "needs_background": "light"
     },
     "output_type": "display_data"
    }
   ],
   "source": [
    "sns.lineplot(y='dti',x='years', hue= 'grade', data=approved, palette='hls')\n",
    "#save and fix legend"
   ]
  },
  {
   "cell_type": "code",
   "execution_count": 241,
   "metadata": {},
   "outputs": [
    {
     "data": {
      "text/plain": [
       "count    660896.000000\n",
       "mean         17.544156\n",
       "std           8.309068\n",
       "min           0.000000\n",
       "25%          11.390000\n",
       "50%          17.050000\n",
       "75%          23.250000\n",
       "max         999.000000\n",
       "Name: dti, dtype: float64"
      ]
     },
     "execution_count": 241,
     "metadata": {},
     "output_type": "execute_result"
    }
   ],
   "source": [
    "approved['dti'].describe()"
   ]
  },
  {
   "cell_type": "code",
   "execution_count": 242,
   "metadata": {},
   "outputs": [
    {
     "data": {
      "text/plain": [
       "dti\n",
       "0.00      0.149425\n",
       "0.01      0.125000\n",
       "0.02      0.272727\n",
       "0.03      0.142857\n",
       "0.04      0.000000\n",
       "            ...   \n",
       "104.00    0.000000\n",
       "120.66    0.000000\n",
       "137.40    0.000000\n",
       "672.52    0.000000\n",
       "999.00    0.000000\n",
       "Name: loan_status, Length: 4032, dtype: float64"
      ]
     },
     "execution_count": 242,
     "metadata": {},
     "output_type": "execute_result"
    }
   ],
   "source": [
    "default_dti = approved.groupby('dti').mean()['loan_status']\n",
    "default_dti = 1-default_dti\n",
    "default_dti"
   ]
  },
  {
   "cell_type": "code",
   "execution_count": 243,
   "metadata": {},
   "outputs": [
    {
     "data": {
      "text/plain": [
       "(12.59, 14.83]                  66295\n",
       "(17.05, 19.35]                  66231\n",
       "(24.79, 28.8]                   66084\n",
       "(7.05, 10.13]                   66083\n",
       "(10.13, 12.59]                  66082\n",
       "(0.009000000000000001, 7.05]    66059\n",
       "(21.84, 24.79]                  66051\n",
       "(28.8, 999.0]                   66009\n",
       "(19.35, 21.84]                  65844\n",
       "(14.83, 17.05]                  65810\n",
       "Name: dti_cut, dtype: int64"
      ]
     },
     "execution_count": 243,
     "metadata": {},
     "output_type": "execute_result"
    }
   ],
   "source": [
    "approved['dti_cut'] = pd.qcut(approved.loc[approved['dti']>0,'dti'], q=10)\n",
    "approved['dti_cut'].value_counts()"
   ]
  },
  {
   "cell_type": "code",
   "execution_count": 244,
   "metadata": {},
   "outputs": [
    {
     "data": {
      "text/plain": [
       "dti_cut\n",
       "(0.009000000000000001, 7.05]    0.108418\n",
       "(7.05, 10.13]                   0.114901\n",
       "(10.13, 12.59]                  0.118308\n",
       "(12.59, 14.83]                  0.127355\n",
       "(14.83, 17.05]                  0.135496\n",
       "(17.05, 19.35]                  0.146065\n",
       "(19.35, 21.84]                  0.153651\n",
       "(21.84, 24.79]                  0.164479\n",
       "(24.79, 28.8]                   0.178772\n",
       "(28.8, 999.0]                   0.197519\n",
       "Name: loan_status, dtype: float64"
      ]
     },
     "execution_count": 244,
     "metadata": {},
     "output_type": "execute_result"
    }
   ],
   "source": [
    "default_dti = approved.groupby('dti_cut').mean()['loan_status']\n",
    "default_dti = 1-default_dti\n",
    "default_dti"
   ]
  },
  {
   "cell_type": "code",
   "execution_count": 245,
   "metadata": {
    "scrolled": true
   },
   "outputs": [
    {
     "data": {
      "text/plain": [
       "Text(0.5, 1.0, 'DTI vs Default Rate')"
      ]
     },
     "execution_count": 245,
     "metadata": {},
     "output_type": "execute_result"
    },
    {
     "data": {
      "image/png": "[encoded data removed]",
      "text/plain": [
       "<Figure size 432x288 with 1 Axes>"
      ]
     },
     "metadata": {
      "needs_background": "light"
     },
     "output_type": "display_data"
    }
   ],
   "source": [
    "sns.barplot(x=default_dti.values,y=default_dti.index, palette='rocket')\n",
    "plt.ylabel('DTI')\n",
    "plt.xlabel('Default Rate')\n",
    "plt.yticks([0, 1, 2,3,4,5,6,7,8,9], [\n",
    "'(0, 7.26]',\n",
    "'(7.26, 10.45]',\n",
    "'(10.45, 12.96]',\n",
    "'(12.96, 15.25]',\n",
    "'(15.25, 17.54]',\n",
    "'(17.54, 19.89]',\n",
    "'(19.89, 22.5]',\n",
    "'(22.5, 25.58]',\n",
    "'(25.58, 29.66]',\n",
    "'> 30'])\n",
    "plt.title('DTI vs Default Rate')\n",
    "#save and flip y axis\n",
    "#try to make defaults %"
   ]
  },
  {
   "cell_type": "code",
   "execution_count": 246,
   "metadata": {},
   "outputs": [
    {
     "data": {
      "text/plain": [
       "(32000.0, 40000.0]       70388\n",
       "(61000.0, 70000.0]       70299\n",
       "(1199.999, 32000.0]      68599\n",
       "(54103.88, 61000.0]      66965\n",
       "(47840.0, 54103.88]      66016\n",
       "(80000.0, 96000.0]       66003\n",
       "(120000.0, 9000000.0]    65228\n",
       "(96000.0, 120000.0]      64663\n",
       "(70000.0, 80000.0]       63379\n",
       "(40000.0, 47840.0]       59356\n",
       "Name: inc_cut, dtype: int64"
      ]
     },
     "execution_count": 246,
     "metadata": {},
     "output_type": "execute_result"
    }
   ],
   "source": [
    "approved['inc_cut'] = pd.qcut(approved.annual_inc, q=10)\n",
    "approved['inc_cut'].value_counts()"
   ]
  },
  {
   "cell_type": "code",
   "execution_count": 247,
   "metadata": {},
   "outputs": [
    {
     "data": {
      "text/plain": [
       "inc_cut\n",
       "(1199.999, 32000.0]      0.198079\n",
       "(32000.0, 40000.0]       0.176536\n",
       "(40000.0, 47840.0]       0.163859\n",
       "(47840.0, 54103.88]      0.155750\n",
       "(54103.88, 61000.0]      0.150362\n",
       "(61000.0, 70000.0]       0.139945\n",
       "(70000.0, 80000.0]       0.130311\n",
       "(80000.0, 96000.0]       0.118146\n",
       "(96000.0, 120000.0]      0.108980\n",
       "(120000.0, 9000000.0]    0.099022\n",
       "Name: loan_status, dtype: float64"
      ]
     },
     "execution_count": 247,
     "metadata": {},
     "output_type": "execute_result"
    }
   ],
   "source": [
    "default_inc = approved.groupby('inc_cut').mean()['loan_status']\n",
    "default_inc = 1-default_inc\n",
    "default_inc"
   ]
  },
  {
   "cell_type": "code",
   "execution_count": 248,
   "metadata": {},
   "outputs": [
    {
     "data": {
      "text/plain": [
       "Text(0.5, 1.0, 'Annual Inc vs Default Rate')"
      ]
     },
     "execution_count": 248,
     "metadata": {},
     "output_type": "execute_result"
    },
    {
     "data": {
      "image/png": "[encoded data removed]",
      "text/plain": [
       "<Figure size 432x288 with 1 Axes>"
      ]
     },
     "metadata": {
      "needs_background": "light"
     },
     "output_type": "display_data"
    }
   ],
   "source": [
    "sns.barplot(x=default_inc.values,y=default_inc.index, palette='rocket')\n",
    "plt.ylabel('Annual Inc')\n",
    "plt.xlabel('Default Rate')\n",
    "plt.title('Annual Inc vs Default Rate')\n",
    "#save"
   ]
  },
  {
   "cell_type": "markdown",
   "metadata": {},
   "source": [
    "### Loan Purposes"
   ]
  },
  {
   "cell_type": "code",
   "execution_count": 84,
   "metadata": {},
   "outputs": [],
   "source": [
    "default_purpose = approved.groupby('purpose').mean()['loan_status']\n",
    "default_purpose = 1-default_purpose\n",
    "default_purpose = default_purpose.sort_values(ascending=False).head(10)"
   ]
  },
  {
   "cell_type": "code",
   "execution_count": 169,
   "metadata": {},
   "outputs": [
    {
     "data": {
      "text/plain": [
       "Text(0.5, 1.0, 'Loan Purpose vs Default Rate')"
      ]
     },
     "execution_count": 169,
     "metadata": {},
     "output_type": "execute_result"
    },
    {
     "data": {
      "image/png": "[encoded data removed]",
      "text/plain": [
       "<Figure size 432x288 with 1 Axes>"
      ]
     },
     "metadata": {
      "needs_background": "light"
     },
     "output_type": "display_data"
    }
   ],
   "source": [
    "sns.barplot(x=default_purpose.values,y=default_purpose.index, palette='rocket')\n",
    "plt.ylabel('Loan Purpose')\n",
    "plt.xlabel('Default Rate')\n",
    "plt.title('Loan Purpose vs Default Rate')"
   ]
  },
  {
   "cell_type": "markdown",
   "metadata": {},
   "source": [
    "### Default Rate vs Verification Status"
   ]
  },
  {
   "cell_type": "code",
   "execution_count": 86,
   "metadata": {},
   "outputs": [
    {
     "data": {
      "text/plain": [
       "Source Verified    228902\n",
       "Not Verified       216483\n",
       "Verified           215518\n",
       "Name: verification_status, dtype: int64"
      ]
     },
     "execution_count": 86,
     "metadata": {},
     "output_type": "execute_result"
    }
   ],
   "source": [
    "approved['verification_status'].value_counts()"
   ]
  },
  {
   "cell_type": "code",
   "execution_count": 87,
   "metadata": {},
   "outputs": [],
   "source": [
    "approved['verification_status']= np.where(approved['verification_status']=='Source Verified','Verified',approved['verification_status'])"
   ]
  },
  {
   "cell_type": "code",
   "execution_count": 88,
   "metadata": {},
   "outputs": [
    {
     "data": {
      "text/plain": [
       "Verified        444420\n",
       "Not Verified    216483\n",
       "Name: verification_status, dtype: int64"
      ]
     },
     "execution_count": 88,
     "metadata": {},
     "output_type": "execute_result"
    }
   ],
   "source": [
    "approved['verification_status'].value_counts()"
   ]
  },
  {
   "cell_type": "code",
   "execution_count": 89,
   "metadata": {},
   "outputs": [],
   "source": [
    "default_verif = approved.groupby('verification_status').mean()['loan_status']\n",
    "default_verif = 1-default_verif"
   ]
  },
  {
   "cell_type": "code",
   "execution_count": 90,
   "metadata": {},
   "outputs": [
    {
     "data": {
      "text/plain": [
       "verification_status\n",
       "Not Verified    0.116406\n",
       "Verified        0.158170\n",
       "Name: loan_status, dtype: float64"
      ]
     },
     "execution_count": 90,
     "metadata": {},
     "output_type": "execute_result"
    }
   ],
   "source": [
    "default_verif"
   ]
  },
  {
   "cell_type": "code",
   "execution_count": 91,
   "metadata": {},
   "outputs": [
    {
     "data": {
      "text/plain": [
       "Text(0.5, 1.0, 'Default Rate vs Verification Status')"
      ]
     },
     "execution_count": 91,
     "metadata": {},
     "output_type": "execute_result"
    },
    {
     "data": {
      "image/png": "[encoded data removed]",
      "text/plain": [
       "<Figure size 432x288 with 1 Axes>"
      ]
     },
     "metadata": {
      "needs_background": "light"
     },
     "output_type": "display_data"
    }
   ],
   "source": [
    "sns.barplot(y=default_verif.values,x=default_verif.index, palette='hls')\n",
    "plt.xlabel('Verification Status')\n",
    "plt.ylabel('Default Rate')\n",
    "plt.title('Default Rate vs Verification Status')"
   ]
  },
  {
   "cell_type": "markdown",
   "metadata": {},
   "source": [
    "### Emp Length"
   ]
  },
  {
   "cell_type": "code",
   "execution_count": 92,
   "metadata": {},
   "outputs": [
    {
     "data": {
      "text/plain": [
       "<matplotlib.legend.Legend at 0x7ff40c144310>"
      ]
     },
     "execution_count": 92,
     "metadata": {},
     "output_type": "execute_result"
    },
    {
     "data": {
      "image/png": "[encoded data removed]",
      "text/plain": [
       "<Figure size 432x288 with 1 Axes>"
      ]
     },
     "metadata": {
      "needs_background": "light"
     },
     "output_type": "display_data"
    }
   ],
   "source": [
    "plt = sns.countplot(x='emp_length', hue='loan_status', data=approved, palette='hls')\n",
    "plt.legend(['Charged Off', 'Fully Paid'])"
   ]
  },
  {
   "cell_type": "code",
   "execution_count": 97,
   "metadata": {},
   "outputs": [
    {
     "data": {
      "text/plain": [
       "emp_length\n",
       "-1     0.204954\n",
       " 0     0.148739\n",
       " 1     0.146902\n",
       " 2     0.142259\n",
       " 3     0.142919\n",
       " 4     0.142678\n",
       " 5     0.144148\n",
       " 6     0.144258\n",
       " 7     0.143979\n",
       " 8     0.145071\n",
       " 9     0.145525\n",
       " 10    0.133460\n",
       "Name: loan_status, dtype: float64"
      ]
     },
     "execution_count": 97,
     "metadata": {},
     "output_type": "execute_result"
    }
   ],
   "source": [
    "default_emp = approved.groupby('emp_length').mean()['loan_status']\n",
    "default_emp = 1-default_emp\n",
    "default_emp"
   ]
  },
  {
   "cell_type": "code",
   "execution_count": 99,
   "metadata": {
    "scrolled": false
   },
   "outputs": [
    {
     "data": {
      "text/plain": [
       "Text(0.5, 1.0, 'Default Rate vs Employment Length')"
      ]
     },
     "execution_count": 99,
     "metadata": {},
     "output_type": "execute_result"
    },
    {
     "data": {
      "image/png": "[encoded data removed]",
      "text/plain": [
       "<Figure size 432x288 with 1 Axes>"
      ]
     },
     "metadata": {
      "needs_background": "light"
     },
     "output_type": "display_data"
    }
   ],
   "source": [
    "sns.barplot(y=default_emp.values,x=default_emp.index, palette=\"viridis\")\n",
    "plt.xlabel('Employment Length')\n",
    "plt.ylabel('Default Rate')\n",
    "plt.xticks([0, 1, 2,3,4,5,6,7,8,9,10,11], ['NA','< 1 year', '1 year', \n",
    "            '2 years', '3 years', '4 years', '5 years', '6 years', \n",
    "            '7 years', '8 years', '9 years', '10+ years'])\n",
    "plt.xticks(rotation=45)\n",
    "plt.title('Default Rate vs Employment Length')"
   ]
  },
  {
   "cell_type": "code",
   "execution_count": null,
   "metadata": {},
   "outputs": [],
   "source": [
    "# make it NA or not"
   ]
  },
  {
   "cell_type": "code",
   "execution_count": 172,
   "metadata": {},
   "outputs": [
    {
     "data": {
      "text/plain": [
       "MORTGAGE    315555\n",
       "RENT        279594\n",
       "OWN          65576\n",
       "OTHER          139\n",
       "NONE            37\n",
       "ANY              2\n",
       "Name: home_ownership, dtype: int64"
      ]
     },
     "execution_count": 172,
     "metadata": {},
     "output_type": "execute_result"
    }
   ],
   "source": [
    "approved['home_ownership'].value_counts()\n"
   ]
  },
  {
   "cell_type": "code",
   "execution_count": 82,
   "metadata": {},
   "outputs": [],
   "source": [
    "home = approved.copy()"
   ]
  },
  {
   "cell_type": "code",
   "execution_count": 83,
   "metadata": {},
   "outputs": [],
   "source": [
    "home['home_ownership'].replace('MORTGAGE', 'OWN', inplace = True)"
   ]
  },
  {
   "cell_type": "code",
   "execution_count": 84,
   "metadata": {
    "scrolled": true
   },
   "outputs": [],
   "source": [
    "home['home_ownership'].replace('OWN', 'Home Ownership', inplace = True)"
   ]
  },
  {
   "cell_type": "code",
   "execution_count": 85,
   "metadata": {},
   "outputs": [],
   "source": [
    "home['home_ownership'].replace('RENT', 'Rent', inplace = True)\n",
    "home['home_ownership'].replace('HOME OWNERSHIP', 'Home Ownership', inplace = True)"
   ]
  },
  {
   "cell_type": "code",
   "execution_count": 86,
   "metadata": {},
   "outputs": [],
   "source": [
    "home = home[~home['home_ownership'].isin(['OTHER', 'NONE', 'ANY'])]"
   ]
  },
  {
   "cell_type": "code",
   "execution_count": 87,
   "metadata": {},
   "outputs": [
    {
     "data": {
      "text/plain": [
       "home_ownership\n",
       "Home Ownership    12.779238\n",
       "Rent              16.722581\n",
       "Name: loan_status, dtype: float64"
      ]
     },
     "execution_count": 87,
     "metadata": {},
     "output_type": "execute_result"
    }
   ],
   "source": [
    "default_home = home.groupby('home_ownership').mean()['loan_status']\n",
    "default_home = (1-default_home) * 100\n",
    "default_home"
   ]
  },
  {
   "cell_type": "code",
   "execution_count": 88,
   "metadata": {},
   "outputs": [
    {
     "data": {
      "text/plain": [
       "[Text(0, 0.5, 'Default Rate (%)'),\n",
       " Text(0.5, 0, 'Home Ownership Status'),\n",
       " Text(0.5, 1.0, 'Default Rate vs Home Ownership')]"
      ]
     },
     "execution_count": 88,
     "metadata": {},
     "output_type": "execute_result"
    },
    {
     "data": {
      "image/png": "[encoded data removed]",
      "text/plain": [
       "<Figure size 432x288 with 1 Axes>"
      ]
     },
     "metadata": {
      "needs_background": "light"
     },
     "output_type": "display_data"
    }
   ],
   "source": [
    "fig = sns.barplot(x=default_home.index, y=default_home.values, data=approved, palette='hls')\n",
    "fig.set(title = 'Default Rate vs Home Ownership', xlabel = 'Home Ownership Status', ylabel = 'Default Rate (%)')\n",
    "#remove any and order\n",
    "#mortgage, own = home ownership and rent - 2 bars"
   ]
  },
  {
   "cell_type": "code",
   "execution_count": 102,
   "metadata": {},
   "outputs": [],
   "source": [
    "import seaborn as sns\n",
    "import matplotlib.pyplot as plt\n",
    "%matplotlib inline "
   ]
  },
  {
   "cell_type": "markdown",
   "metadata": {},
   "source": [
    "## Default rate vs # of credit inquiries"
   ]
  },
  {
   "cell_type": "code",
   "execution_count": 48,
   "metadata": {},
   "outputs": [],
   "source": [
    "approved['inq']=np.where(approved['inq_last_6mths']>=4,4,approved['inq_last_6mths'])"
   ]
  },
  {
   "cell_type": "code",
   "execution_count": 53,
   "metadata": {},
   "outputs": [
    {
     "data": {
      "text/plain": [
       "inq\n",
       "0.0    12.609367\n",
       "1.0    15.599931\n",
       "2.0    18.008927\n",
       "3.0    19.875119\n",
       "4.0    20.484973\n",
       "Name: loan_status, dtype: float64"
      ]
     },
     "execution_count": 53,
     "metadata": {},
     "output_type": "execute_result"
    }
   ],
   "source": [
    "default_inqs = approved.groupby('inq').mean()['loan_status']\n",
    "default_inqs = (1-default_inqs) * 100\n",
    "default_inqs"
   ]
  },
  {
   "cell_type": "code",
   "execution_count": 54,
   "metadata": {},
   "outputs": [
    {
     "data": {
      "text/plain": [
       "0.0    369741\n",
       "1.0    180879\n",
       "2.0     71248\n",
       "3.0     28347\n",
       "4.0     10681\n",
       "Name: inq, dtype: int64"
      ]
     },
     "execution_count": 54,
     "metadata": {},
     "output_type": "execute_result"
    }
   ],
   "source": [
    "approved['inq'].value_counts()"
   ]
  },
  {
   "cell_type": "code",
   "execution_count": 55,
   "metadata": {},
   "outputs": [
    {
     "data": {
      "text/plain": [
       "([<matplotlib.axis.XTick at 0x1eb8120fe50>,\n",
       "  <matplotlib.axis.XTick at 0x1eb8120fbb0>,\n",
       "  <matplotlib.axis.XTick at 0x1eb81255ca0>,\n",
       "  <matplotlib.axis.XTick at 0x1eb812397f0>,\n",
       "  <matplotlib.axis.XTick at 0x1eb81239f10>],\n",
       " [Text(0, 0, '0.0'),\n",
       "  Text(0, 0, '1.0'),\n",
       "  Text(0, 0, '2.0'),\n",
       "  Text(0, 0, '3.0'),\n",
       "  Text(0, 0, '4.0+')])"
      ]
     },
     "execution_count": 55,
     "metadata": {},
     "output_type": "execute_result"
    },
    {
     "data": {
      "image/png": "[encoded data removed]",
      "text/plain": [
       "<Figure size 432x288 with 1 Axes>"
      ]
     },
     "metadata": {
      "needs_background": "light"
     },
     "output_type": "display_data"
    }
   ],
   "source": [
    "sns.barplot(y=default_inqs.values,x=default_inqs.index, palette=\"rocket_r\")\n",
    "plt.xlabel('Number of Credit Inquiries in Past 6 Months')\n",
    "plt.ylabel('Default Rate (%)')\n",
    "plt.title('Default Rate (%) vs Number of Credit Inquiries')\n",
    "plt.xticks([0,1,2,3,4], ['0.0', '1.0', '2.0', '3.0', '4.0+'])\n",
    "#save and make it 4.0+"
   ]
  },
  {
   "cell_type": "code",
   "execution_count": 106,
   "metadata": {},
   "outputs": [
    {
     "data": {
      "text/html": [
       "<div>\n",
       "<style scoped>\n",
       "    .dataframe tbody tr th:only-of-type {\n",
       "        vertical-align: middle;\n",
       "    }\n",
       "\n",
       "    .dataframe tbody tr th {\n",
       "        vertical-align: top;\n",
       "    }\n",
       "\n",
       "    .dataframe thead th {\n",
       "        text-align: right;\n",
       "    }\n",
       "</style>\n",
       "<table border=\"1\" class=\"dataframe\">\n",
       "  <thead>\n",
       "    <tr style=\"text-align: right;\">\n",
       "      <th></th>\n",
       "      <th>addr_state</th>\n",
       "      <th>annual_inc</th>\n",
       "      <th>application_type</th>\n",
       "      <th>disbursement_method</th>\n",
       "      <th>dti</th>\n",
       "      <th>earliest_cr_line</th>\n",
       "      <th>emp_length</th>\n",
       "      <th>emp_title</th>\n",
       "      <th>fico_range_high</th>\n",
       "      <th>fico_range_low</th>\n",
       "      <th>grade</th>\n",
       "      <th>home_ownership</th>\n",
       "      <th>initial_list_status</th>\n",
       "      <th>inq_last_6mths</th>\n",
       "      <th>installment</th>\n",
       "      <th>int_rate</th>\n",
       "      <th>issue_d</th>\n",
       "      <th>last_pymnt_d</th>\n",
       "      <th>loan_amnt</th>\n",
       "      <th>loan_status</th>\n",
       "      <th>open_acc</th>\n",
       "      <th>pub_rec</th>\n",
       "      <th>pub_rec_bankruptcies</th>\n",
       "      <th>purpose</th>\n",
       "      <th>sub_grade</th>\n",
       "      <th>term</th>\n",
       "      <th>total_pymnt</th>\n",
       "      <th>verification_status</th>\n",
       "      <th>zip_code</th>\n",
       "      <th>days_since_first_credit</th>\n",
       "      <th>fico_score_average</th>\n",
       "      <th>PnL</th>\n",
       "      <th>years</th>\n",
       "      <th>fico_avg</th>\n",
       "      <th>default_year</th>\n",
       "      <th>dti_cut</th>\n",
       "      <th>inc_cut</th>\n",
       "    </tr>\n",
       "    <tr>\n",
       "      <th>id</th>\n",
       "      <th></th>\n",
       "      <th></th>\n",
       "      <th></th>\n",
       "      <th></th>\n",
       "      <th></th>\n",
       "      <th></th>\n",
       "      <th></th>\n",
       "      <th></th>\n",
       "      <th></th>\n",
       "      <th></th>\n",
       "      <th></th>\n",
       "      <th></th>\n",
       "      <th></th>\n",
       "      <th></th>\n",
       "      <th></th>\n",
       "      <th></th>\n",
       "      <th></th>\n",
       "      <th></th>\n",
       "      <th></th>\n",
       "      <th></th>\n",
       "      <th></th>\n",
       "      <th></th>\n",
       "      <th></th>\n",
       "      <th></th>\n",
       "      <th></th>\n",
       "      <th></th>\n",
       "      <th></th>\n",
       "      <th></th>\n",
       "      <th></th>\n",
       "      <th></th>\n",
       "      <th></th>\n",
       "      <th></th>\n",
       "      <th></th>\n",
       "      <th></th>\n",
       "      <th></th>\n",
       "      <th></th>\n",
       "      <th></th>\n",
       "    </tr>\n",
       "  </thead>\n",
       "  <tbody>\n",
       "    <tr>\n",
       "      <th>533380</th>\n",
       "      <td>MA</td>\n",
       "      <td>33000.0</td>\n",
       "      <td>Individual</td>\n",
       "      <td>Cash</td>\n",
       "      <td>14.94</td>\n",
       "      <td>1997-10-01</td>\n",
       "      <td>10</td>\n",
       "      <td>cvs pharmacy</td>\n",
       "      <td>744.0</td>\n",
       "      <td>740.0</td>\n",
       "      <td>D</td>\n",
       "      <td>MORTGAGE</td>\n",
       "      <td>f</td>\n",
       "      <td>8.0</td>\n",
       "      <td>122.45</td>\n",
       "      <td>16.32</td>\n",
       "      <td>2010-06-01</td>\n",
       "      <td>2011-12-01</td>\n",
       "      <td>5000.0</td>\n",
       "      <td>1</td>\n",
       "      <td>20.0</td>\n",
       "      <td>0.0</td>\n",
       "      <td>0.0</td>\n",
       "      <td>home_improvement</td>\n",
       "      <td>20</td>\n",
       "      <td>60</td>\n",
       "      <td>6048.103124</td>\n",
       "      <td>Verified</td>\n",
       "      <td>020xx</td>\n",
       "      <td>4626</td>\n",
       "      <td>742.0</td>\n",
       "      <td>1048.103124</td>\n",
       "      <td>2010</td>\n",
       "      <td>742.0</td>\n",
       "      <td>2011</td>\n",
       "      <td>(14.83, 17.05]</td>\n",
       "      <td>(32000.0, 40000.0]</td>\n",
       "    </tr>\n",
       "    <tr>\n",
       "      <th>657025</th>\n",
       "      <td>CO</td>\n",
       "      <td>27600.0</td>\n",
       "      <td>Individual</td>\n",
       "      <td>Cash</td>\n",
       "      <td>16.83</td>\n",
       "      <td>1976-12-01</td>\n",
       "      <td>7</td>\n",
       "      <td>Alamosa Public Schools</td>\n",
       "      <td>769.0</td>\n",
       "      <td>765.0</td>\n",
       "      <td>D</td>\n",
       "      <td>MORTGAGE</td>\n",
       "      <td>f</td>\n",
       "      <td>8.0</td>\n",
       "      <td>333.03</td>\n",
       "      <td>15.65</td>\n",
       "      <td>2011-01-01</td>\n",
       "      <td>2016-02-01</td>\n",
       "      <td>13800.0</td>\n",
       "      <td>1</td>\n",
       "      <td>11.0</td>\n",
       "      <td>0.0</td>\n",
       "      <td>0.0</td>\n",
       "      <td>car</td>\n",
       "      <td>19</td>\n",
       "      <td>60</td>\n",
       "      <td>19981.643198</td>\n",
       "      <td>Verified</td>\n",
       "      <td>811xx</td>\n",
       "      <td>12449</td>\n",
       "      <td>767.0</td>\n",
       "      <td>6181.643198</td>\n",
       "      <td>2011</td>\n",
       "      <td>767.0</td>\n",
       "      <td>2016</td>\n",
       "      <td>(14.83, 17.05]</td>\n",
       "      <td>(1199.999, 32000.0]</td>\n",
       "    </tr>\n",
       "    <tr>\n",
       "      <th>666496</th>\n",
       "      <td>IL</td>\n",
       "      <td>35000.0</td>\n",
       "      <td>Individual</td>\n",
       "      <td>Cash</td>\n",
       "      <td>24.75</td>\n",
       "      <td>1996-12-01</td>\n",
       "      <td>7</td>\n",
       "      <td>Roys Body Shop</td>\n",
       "      <td>744.0</td>\n",
       "      <td>740.0</td>\n",
       "      <td>D</td>\n",
       "      <td>OWN</td>\n",
       "      <td>f</td>\n",
       "      <td>8.0</td>\n",
       "      <td>124.48</td>\n",
       "      <td>15.28</td>\n",
       "      <td>2011-02-01</td>\n",
       "      <td>2014-03-01</td>\n",
       "      <td>5200.0</td>\n",
       "      <td>1</td>\n",
       "      <td>7.0</td>\n",
       "      <td>0.0</td>\n",
       "      <td>0.0</td>\n",
       "      <td>car</td>\n",
       "      <td>18</td>\n",
       "      <td>60</td>\n",
       "      <td>7073.703155</td>\n",
       "      <td>Not Verified</td>\n",
       "      <td>629xx</td>\n",
       "      <td>5175</td>\n",
       "      <td>742.0</td>\n",
       "      <td>1873.703155</td>\n",
       "      <td>2011</td>\n",
       "      <td>742.0</td>\n",
       "      <td>2014</td>\n",
       "      <td>(21.84, 24.79]</td>\n",
       "      <td>(32000.0, 40000.0]</td>\n",
       "    </tr>\n",
       "    <tr>\n",
       "      <th>696388</th>\n",
       "      <td>MI</td>\n",
       "      <td>82000.0</td>\n",
       "      <td>Individual</td>\n",
       "      <td>Cash</td>\n",
       "      <td>14.59</td>\n",
       "      <td>1994-01-01</td>\n",
       "      <td>10</td>\n",
       "      <td>Northville Public Schools</td>\n",
       "      <td>799.0</td>\n",
       "      <td>795.0</td>\n",
       "      <td>D</td>\n",
       "      <td>MORTGAGE</td>\n",
       "      <td>f</td>\n",
       "      <td>8.0</td>\n",
       "      <td>335.13</td>\n",
       "      <td>15.28</td>\n",
       "      <td>2011-03-01</td>\n",
       "      <td>2016-03-01</td>\n",
       "      <td>14000.0</td>\n",
       "      <td>1</td>\n",
       "      <td>10.0</td>\n",
       "      <td>0.0</td>\n",
       "      <td>0.0</td>\n",
       "      <td>home_improvement</td>\n",
       "      <td>18</td>\n",
       "      <td>60</td>\n",
       "      <td>20105.810027</td>\n",
       "      <td>Verified</td>\n",
       "      <td>481xx</td>\n",
       "      <td>6268</td>\n",
       "      <td>797.0</td>\n",
       "      <td>6105.810027</td>\n",
       "      <td>2011</td>\n",
       "      <td>797.0</td>\n",
       "      <td>2016</td>\n",
       "      <td>(12.59, 14.83]</td>\n",
       "      <td>(80000.0, 96000.0]</td>\n",
       "    </tr>\n",
       "    <tr>\n",
       "      <th>766671</th>\n",
       "      <td>FL</td>\n",
       "      <td>146000.0</td>\n",
       "      <td>Individual</td>\n",
       "      <td>Cash</td>\n",
       "      <td>9.96</td>\n",
       "      <td>1996-07-01</td>\n",
       "      <td>10</td>\n",
       "      <td>Marriott International</td>\n",
       "      <td>749.0</td>\n",
       "      <td>745.0</td>\n",
       "      <td>E</td>\n",
       "      <td>MORTGAGE</td>\n",
       "      <td>f</td>\n",
       "      <td>8.0</td>\n",
       "      <td>639.54</td>\n",
       "      <td>17.88</td>\n",
       "      <td>2011-06-01</td>\n",
       "      <td>2012-03-01</td>\n",
       "      <td>35000.0</td>\n",
       "      <td>1</td>\n",
       "      <td>9.0</td>\n",
       "      <td>0.0</td>\n",
       "      <td>0.0</td>\n",
       "      <td>debt_consolidation</td>\n",
       "      <td>25</td>\n",
       "      <td>60</td>\n",
       "      <td>28489.760904</td>\n",
       "      <td>Verified</td>\n",
       "      <td>331xx</td>\n",
       "      <td>5448</td>\n",
       "      <td>747.0</td>\n",
       "      <td>-6510.239096</td>\n",
       "      <td>2011</td>\n",
       "      <td>747.0</td>\n",
       "      <td>2012</td>\n",
       "      <td>(7.05, 10.13]</td>\n",
       "      <td>(120000.0, 9000000.0]</td>\n",
       "    </tr>\n",
       "    <tr>\n",
       "      <th>884507</th>\n",
       "      <td>MI</td>\n",
       "      <td>30000.0</td>\n",
       "      <td>Individual</td>\n",
       "      <td>Cash</td>\n",
       "      <td>22.96</td>\n",
       "      <td>1978-09-01</td>\n",
       "      <td>8</td>\n",
       "      <td>golden brown bakery</td>\n",
       "      <td>759.0</td>\n",
       "      <td>755.0</td>\n",
       "      <td>D</td>\n",
       "      <td>OWN</td>\n",
       "      <td>f</td>\n",
       "      <td>8.0</td>\n",
       "      <td>49.46</td>\n",
       "      <td>16.77</td>\n",
       "      <td>2011-09-01</td>\n",
       "      <td>2016-10-01</td>\n",
       "      <td>2000.0</td>\n",
       "      <td>1</td>\n",
       "      <td>6.0</td>\n",
       "      <td>0.0</td>\n",
       "      <td>0.0</td>\n",
       "      <td>other</td>\n",
       "      <td>17</td>\n",
       "      <td>60</td>\n",
       "      <td>2967.427698</td>\n",
       "      <td>Not Verified</td>\n",
       "      <td>490xx</td>\n",
       "      <td>12053</td>\n",
       "      <td>757.0</td>\n",
       "      <td>967.427698</td>\n",
       "      <td>2011</td>\n",
       "      <td>757.0</td>\n",
       "      <td>2016</td>\n",
       "      <td>(21.84, 24.79]</td>\n",
       "      <td>(1199.999, 32000.0]</td>\n",
       "    </tr>\n",
       "    <tr>\n",
       "      <th>1368779</th>\n",
       "      <td>KY</td>\n",
       "      <td>218000.0</td>\n",
       "      <td>Individual</td>\n",
       "      <td>Cash</td>\n",
       "      <td>1.07</td>\n",
       "      <td>1985-10-01</td>\n",
       "      <td>10</td>\n",
       "      <td>Presbyterian Publishing Corp.</td>\n",
       "      <td>749.0</td>\n",
       "      <td>745.0</td>\n",
       "      <td>E</td>\n",
       "      <td>MORTGAGE</td>\n",
       "      <td>f</td>\n",
       "      <td>8.0</td>\n",
       "      <td>683.25</td>\n",
       "      <td>21.49</td>\n",
       "      <td>2012-07-01</td>\n",
       "      <td>2012-12-01</td>\n",
       "      <td>25000.0</td>\n",
       "      <td>1</td>\n",
       "      <td>5.0</td>\n",
       "      <td>0.0</td>\n",
       "      <td>0.0</td>\n",
       "      <td>debt_consolidation</td>\n",
       "      <td>23</td>\n",
       "      <td>60</td>\n",
       "      <td>27195.602034</td>\n",
       "      <td>Verified</td>\n",
       "      <td>402xx</td>\n",
       "      <td>9770</td>\n",
       "      <td>747.0</td>\n",
       "      <td>2195.602034</td>\n",
       "      <td>2012</td>\n",
       "      <td>747.0</td>\n",
       "      <td>2012</td>\n",
       "      <td>(0.009000000000000001, 7.05]</td>\n",
       "      <td>(120000.0, 9000000.0]</td>\n",
       "    </tr>\n",
       "    <tr>\n",
       "      <th>1587833</th>\n",
       "      <td>MI</td>\n",
       "      <td>82000.0</td>\n",
       "      <td>Individual</td>\n",
       "      <td>Cash</td>\n",
       "      <td>18.59</td>\n",
       "      <td>2000-06-01</td>\n",
       "      <td>10</td>\n",
       "      <td>kroger</td>\n",
       "      <td>754.0</td>\n",
       "      <td>750.0</td>\n",
       "      <td>D</td>\n",
       "      <td>MORTGAGE</td>\n",
       "      <td>w</td>\n",
       "      <td>8.0</td>\n",
       "      <td>649.21</td>\n",
       "      <td>19.05</td>\n",
       "      <td>2012-10-01</td>\n",
       "      <td>2017-03-01</td>\n",
       "      <td>25000.0</td>\n",
       "      <td>1</td>\n",
       "      <td>11.0</td>\n",
       "      <td>0.0</td>\n",
       "      <td>0.0</td>\n",
       "      <td>debt_consolidation</td>\n",
       "      <td>19</td>\n",
       "      <td>60</td>\n",
       "      <td>38656.019830</td>\n",
       "      <td>Verified</td>\n",
       "      <td>481xx</td>\n",
       "      <td>4505</td>\n",
       "      <td>752.0</td>\n",
       "      <td>13656.019830</td>\n",
       "      <td>2012</td>\n",
       "      <td>752.0</td>\n",
       "      <td>2017</td>\n",
       "      <td>(17.05, 19.35]</td>\n",
       "      <td>(80000.0, 96000.0]</td>\n",
       "    </tr>\n",
       "    <tr>\n",
       "      <th>353370</th>\n",
       "      <td>CO</td>\n",
       "      <td>42000.0</td>\n",
       "      <td>Individual</td>\n",
       "      <td>Cash</td>\n",
       "      <td>23.63</td>\n",
       "      <td>1994-04-01</td>\n",
       "      <td>2</td>\n",
       "      <td>Jefferson count schools</td>\n",
       "      <td>744.0</td>\n",
       "      <td>740.0</td>\n",
       "      <td>C</td>\n",
       "      <td>RENT</td>\n",
       "      <td>f</td>\n",
       "      <td>8.0</td>\n",
       "      <td>165.86</td>\n",
       "      <td>11.91</td>\n",
       "      <td>2008-08-01</td>\n",
       "      <td>2010-01-01</td>\n",
       "      <td>5000.0</td>\n",
       "      <td>1</td>\n",
       "      <td>19.0</td>\n",
       "      <td>0.0</td>\n",
       "      <td>0.0</td>\n",
       "      <td>credit_card</td>\n",
       "      <td>13</td>\n",
       "      <td>36</td>\n",
       "      <td>5678.670000</td>\n",
       "      <td>Not Verified</td>\n",
       "      <td>805xx</td>\n",
       "      <td>5236</td>\n",
       "      <td>742.0</td>\n",
       "      <td>678.670000</td>\n",
       "      <td>2008</td>\n",
       "      <td>742.0</td>\n",
       "      <td>2010</td>\n",
       "      <td>(21.84, 24.79]</td>\n",
       "      <td>(40000.0, 47840.0]</td>\n",
       "    </tr>\n",
       "    <tr>\n",
       "      <th>428884</th>\n",
       "      <td>MI</td>\n",
       "      <td>30000.0</td>\n",
       "      <td>Individual</td>\n",
       "      <td>Cash</td>\n",
       "      <td>4.28</td>\n",
       "      <td>1986-11-01</td>\n",
       "      <td>0</td>\n",
       "      <td>None</td>\n",
       "      <td>754.0</td>\n",
       "      <td>750.0</td>\n",
       "      <td>C</td>\n",
       "      <td>MORTGAGE</td>\n",
       "      <td>f</td>\n",
       "      <td>8.0</td>\n",
       "      <td>135.09</td>\n",
       "      <td>13.16</td>\n",
       "      <td>2009-07-01</td>\n",
       "      <td>2010-12-01</td>\n",
       "      <td>4000.0</td>\n",
       "      <td>1</td>\n",
       "      <td>14.0</td>\n",
       "      <td>0.0</td>\n",
       "      <td>0.0</td>\n",
       "      <td>educational</td>\n",
       "      <td>13</td>\n",
       "      <td>36</td>\n",
       "      <td>4466.996068</td>\n",
       "      <td>Not Verified</td>\n",
       "      <td>482xx</td>\n",
       "      <td>8278</td>\n",
       "      <td>752.0</td>\n",
       "      <td>466.996068</td>\n",
       "      <td>2009</td>\n",
       "      <td>752.0</td>\n",
       "      <td>2010</td>\n",
       "      <td>(0.009000000000000001, 7.05]</td>\n",
       "      <td>(1199.999, 32000.0]</td>\n",
       "    </tr>\n",
       "    <tr>\n",
       "      <th>584881</th>\n",
       "      <td>IL</td>\n",
       "      <td>230000.0</td>\n",
       "      <td>Individual</td>\n",
       "      <td>Cash</td>\n",
       "      <td>5.79</td>\n",
       "      <td>1979-10-01</td>\n",
       "      <td>10</td>\n",
       "      <td>Scot Forge Company</td>\n",
       "      <td>789.0</td>\n",
       "      <td>785.0</td>\n",
       "      <td>C</td>\n",
       "      <td>MORTGAGE</td>\n",
       "      <td>f</td>\n",
       "      <td>8.0</td>\n",
       "      <td>410.02</td>\n",
       "      <td>13.98</td>\n",
       "      <td>2010-09-01</td>\n",
       "      <td>2011-12-01</td>\n",
       "      <td>12000.0</td>\n",
       "      <td>1</td>\n",
       "      <td>13.0</td>\n",
       "      <td>0.0</td>\n",
       "      <td>0.0</td>\n",
       "      <td>home_improvement</td>\n",
       "      <td>13</td>\n",
       "      <td>36</td>\n",
       "      <td>13656.944287</td>\n",
       "      <td>Verified</td>\n",
       "      <td>600xx</td>\n",
       "      <td>11293</td>\n",
       "      <td>787.0</td>\n",
       "      <td>1656.944287</td>\n",
       "      <td>2010</td>\n",
       "      <td>787.0</td>\n",
       "      <td>2011</td>\n",
       "      <td>(0.009000000000000001, 7.05]</td>\n",
       "      <td>(120000.0, 9000000.0]</td>\n",
       "    </tr>\n",
       "    <tr>\n",
       "      <th>700214</th>\n",
       "      <td>NC</td>\n",
       "      <td>36000.0</td>\n",
       "      <td>Individual</td>\n",
       "      <td>Cash</td>\n",
       "      <td>3.57</td>\n",
       "      <td>1995-11-01</td>\n",
       "      <td>1</td>\n",
       "      <td>crosby trucking</td>\n",
       "      <td>749.0</td>\n",
       "      <td>745.0</td>\n",
       "      <td>E</td>\n",
       "      <td>RENT</td>\n",
       "      <td>f</td>\n",
       "      <td>8.0</td>\n",
       "      <td>530.33</td>\n",
       "      <td>16.40</td>\n",
       "      <td>2011-03-01</td>\n",
       "      <td>2014-05-01</td>\n",
       "      <td>15000.0</td>\n",
       "      <td>1</td>\n",
       "      <td>4.0</td>\n",
       "      <td>0.0</td>\n",
       "      <td>0.0</td>\n",
       "      <td>small_business</td>\n",
       "      <td>21</td>\n",
       "      <td>36</td>\n",
       "      <td>19154.844190</td>\n",
       "      <td>Verified</td>\n",
       "      <td>282xx</td>\n",
       "      <td>5599</td>\n",
       "      <td>747.0</td>\n",
       "      <td>4154.844190</td>\n",
       "      <td>2011</td>\n",
       "      <td>747.0</td>\n",
       "      <td>2014</td>\n",
       "      <td>(0.009000000000000001, 7.05]</td>\n",
       "      <td>(32000.0, 40000.0]</td>\n",
       "    </tr>\n",
       "    <tr>\n",
       "      <th>1034529</th>\n",
       "      <td>OK</td>\n",
       "      <td>78000.0</td>\n",
       "      <td>Individual</td>\n",
       "      <td>Cash</td>\n",
       "      <td>25.97</td>\n",
       "      <td>1995-03-01</td>\n",
       "      <td>10</td>\n",
       "      <td>Stillwater Medical Center</td>\n",
       "      <td>769.0</td>\n",
       "      <td>765.0</td>\n",
       "      <td>C</td>\n",
       "      <td>MORTGAGE</td>\n",
       "      <td>f</td>\n",
       "      <td>8.0</td>\n",
       "      <td>482.92</td>\n",
       "      <td>14.65</td>\n",
       "      <td>2011-11-01</td>\n",
       "      <td>2012-08-01</td>\n",
       "      <td>14000.0</td>\n",
       "      <td>0</td>\n",
       "      <td>13.0</td>\n",
       "      <td>0.0</td>\n",
       "      <td>0.0</td>\n",
       "      <td>debt_consolidation</td>\n",
       "      <td>13</td>\n",
       "      <td>36</td>\n",
       "      <td>3863.360000</td>\n",
       "      <td>Verified</td>\n",
       "      <td>746xx</td>\n",
       "      <td>6089</td>\n",
       "      <td>767.0</td>\n",
       "      <td>-10136.640000</td>\n",
       "      <td>2011</td>\n",
       "      <td>767.0</td>\n",
       "      <td>2012</td>\n",
       "      <td>(24.79, 28.8]</td>\n",
       "      <td>(70000.0, 80000.0]</td>\n",
       "    </tr>\n",
       "    <tr>\n",
       "      <th>1177411</th>\n",
       "      <td>NY</td>\n",
       "      <td>80000.0</td>\n",
       "      <td>Individual</td>\n",
       "      <td>Cash</td>\n",
       "      <td>26.07</td>\n",
       "      <td>1984-06-01</td>\n",
       "      <td>2</td>\n",
       "      <td>Analysis &amp; Design Application Co</td>\n",
       "      <td>744.0</td>\n",
       "      <td>740.0</td>\n",
       "      <td>C</td>\n",
       "      <td>OWN</td>\n",
       "      <td>f</td>\n",
       "      <td>8.0</td>\n",
       "      <td>417.81</td>\n",
       "      <td>15.31</td>\n",
       "      <td>2012-04-01</td>\n",
       "      <td>2013-04-01</td>\n",
       "      <td>12000.0</td>\n",
       "      <td>1</td>\n",
       "      <td>12.0</td>\n",
       "      <td>0.0</td>\n",
       "      <td>0.0</td>\n",
       "      <td>wedding</td>\n",
       "      <td>13</td>\n",
       "      <td>36</td>\n",
       "      <td>13606.151561</td>\n",
       "      <td>Not Verified</td>\n",
       "      <td>117xx</td>\n",
       "      <td>10166</td>\n",
       "      <td>742.0</td>\n",
       "      <td>1606.151561</td>\n",
       "      <td>2012</td>\n",
       "      <td>742.0</td>\n",
       "      <td>2013</td>\n",
       "      <td>(24.79, 28.8]</td>\n",
       "      <td>(70000.0, 80000.0]</td>\n",
       "    </tr>\n",
       "    <tr>\n",
       "      <th>1185038</th>\n",
       "      <td>CA</td>\n",
       "      <td>80000.0</td>\n",
       "      <td>Individual</td>\n",
       "      <td>Cash</td>\n",
       "      <td>2.09</td>\n",
       "      <td>2003-08-01</td>\n",
       "      <td>5</td>\n",
       "      <td>JR International Distributors Inc</td>\n",
       "      <td>744.0</td>\n",
       "      <td>740.0</td>\n",
       "      <td>C</td>\n",
       "      <td>RENT</td>\n",
       "      <td>f</td>\n",
       "      <td>8.0</td>\n",
       "      <td>141.21</td>\n",
       "      <td>16.29</td>\n",
       "      <td>2012-03-01</td>\n",
       "      <td>2012-11-01</td>\n",
       "      <td>4000.0</td>\n",
       "      <td>1</td>\n",
       "      <td>5.0</td>\n",
       "      <td>0.0</td>\n",
       "      <td>0.0</td>\n",
       "      <td>small_business</td>\n",
       "      <td>15</td>\n",
       "      <td>36</td>\n",
       "      <td>4400.477913</td>\n",
       "      <td>Verified</td>\n",
       "      <td>925xx</td>\n",
       "      <td>3135</td>\n",
       "      <td>742.0</td>\n",
       "      <td>400.477913</td>\n",
       "      <td>2012</td>\n",
       "      <td>742.0</td>\n",
       "      <td>2012</td>\n",
       "      <td>(0.009000000000000001, 7.05]</td>\n",
       "      <td>(70000.0, 80000.0]</td>\n",
       "    </tr>\n",
       "    <tr>\n",
       "      <th>1246002</th>\n",
       "      <td>NJ</td>\n",
       "      <td>80000.0</td>\n",
       "      <td>Individual</td>\n",
       "      <td>Cash</td>\n",
       "      <td>24.84</td>\n",
       "      <td>1998-12-01</td>\n",
       "      <td>10</td>\n",
       "      <td>John Wiley &amp; Sons Inc</td>\n",
       "      <td>744.0</td>\n",
       "      <td>740.0</td>\n",
       "      <td>D</td>\n",
       "      <td>RENT</td>\n",
       "      <td>f</td>\n",
       "      <td>8.0</td>\n",
       "      <td>483.13</td>\n",
       "      <td>17.27</td>\n",
       "      <td>2012-04-01</td>\n",
       "      <td>2013-01-01</td>\n",
       "      <td>13500.0</td>\n",
       "      <td>1</td>\n",
       "      <td>5.0</td>\n",
       "      <td>0.0</td>\n",
       "      <td>0.0</td>\n",
       "      <td>credit_card</td>\n",
       "      <td>16</td>\n",
       "      <td>36</td>\n",
       "      <td>14777.550384</td>\n",
       "      <td>Verified</td>\n",
       "      <td>074xx</td>\n",
       "      <td>4870</td>\n",
       "      <td>742.0</td>\n",
       "      <td>1277.550384</td>\n",
       "      <td>2012</td>\n",
       "      <td>742.0</td>\n",
       "      <td>2013</td>\n",
       "      <td>(24.79, 28.8]</td>\n",
       "      <td>(70000.0, 80000.0]</td>\n",
       "    </tr>\n",
       "    <tr>\n",
       "      <th>1393728</th>\n",
       "      <td>CT</td>\n",
       "      <td>80000.0</td>\n",
       "      <td>Individual</td>\n",
       "      <td>Cash</td>\n",
       "      <td>17.76</td>\n",
       "      <td>1988-09-01</td>\n",
       "      <td>10</td>\n",
       "      <td>dept of corrections</td>\n",
       "      <td>794.0</td>\n",
       "      <td>790.0</td>\n",
       "      <td>C</td>\n",
       "      <td>MORTGAGE</td>\n",
       "      <td>f</td>\n",
       "      <td>8.0</td>\n",
       "      <td>48.75</td>\n",
       "      <td>15.31</td>\n",
       "      <td>2012-08-01</td>\n",
       "      <td>2013-01-01</td>\n",
       "      <td>1400.0</td>\n",
       "      <td>1</td>\n",
       "      <td>16.0</td>\n",
       "      <td>0.0</td>\n",
       "      <td>0.0</td>\n",
       "      <td>credit_card</td>\n",
       "      <td>12</td>\n",
       "      <td>36</td>\n",
       "      <td>1485.626251</td>\n",
       "      <td>Verified</td>\n",
       "      <td>067xx</td>\n",
       "      <td>8735</td>\n",
       "      <td>792.0</td>\n",
       "      <td>85.626251</td>\n",
       "      <td>2012</td>\n",
       "      <td>792.0</td>\n",
       "      <td>2013</td>\n",
       "      <td>(17.05, 19.35]</td>\n",
       "      <td>(70000.0, 80000.0]</td>\n",
       "    </tr>\n",
       "    <tr>\n",
       "      <th>1394603</th>\n",
       "      <td>MO</td>\n",
       "      <td>30000.0</td>\n",
       "      <td>Individual</td>\n",
       "      <td>Cash</td>\n",
       "      <td>30.76</td>\n",
       "      <td>1999-08-01</td>\n",
       "      <td>1</td>\n",
       "      <td>warrensburg chrysler</td>\n",
       "      <td>754.0</td>\n",
       "      <td>750.0</td>\n",
       "      <td>C</td>\n",
       "      <td>MORTGAGE</td>\n",
       "      <td>f</td>\n",
       "      <td>8.0</td>\n",
       "      <td>191.50</td>\n",
       "      <td>15.31</td>\n",
       "      <td>2012-07-01</td>\n",
       "      <td>2013-03-01</td>\n",
       "      <td>5500.0</td>\n",
       "      <td>0</td>\n",
       "      <td>9.0</td>\n",
       "      <td>0.0</td>\n",
       "      <td>0.0</td>\n",
       "      <td>home_improvement</td>\n",
       "      <td>12</td>\n",
       "      <td>36</td>\n",
       "      <td>1304.970000</td>\n",
       "      <td>Not Verified</td>\n",
       "      <td>647xx</td>\n",
       "      <td>4718</td>\n",
       "      <td>752.0</td>\n",
       "      <td>-4195.030000</td>\n",
       "      <td>2012</td>\n",
       "      <td>752.0</td>\n",
       "      <td>2013</td>\n",
       "      <td>(28.8, 999.0]</td>\n",
       "      <td>(1199.999, 32000.0]</td>\n",
       "    </tr>\n",
       "  </tbody>\n",
       "</table>\n",
       "</div>"
      ],
      "text/plain": [
       "        addr_state  annual_inc application_type disbursement_method    dti  \\\n",
       "id                                                                           \n",
       "533380          MA     33000.0       Individual                Cash  14.94   \n",
       "657025          CO     27600.0       Individual                Cash  16.83   \n",
       "666496          IL     35000.0       Individual                Cash  24.75   \n",
       "696388          MI     82000.0       Individual                Cash  14.59   \n",
       "766671          FL    146000.0       Individual                Cash   9.96   \n",
       "884507          MI     30000.0       Individual                Cash  22.96   \n",
       "1368779         KY    218000.0       Individual                Cash   1.07   \n",
       "1587833         MI     82000.0       Individual                Cash  18.59   \n",
       "353370          CO     42000.0       Individual                Cash  23.63   \n",
       "428884          MI     30000.0       Individual                Cash   4.28   \n",
       "584881          IL    230000.0       Individual                Cash   5.79   \n",
       "700214          NC     36000.0       Individual                Cash   3.57   \n",
       "1034529         OK     78000.0       Individual                Cash  25.97   \n",
       "1177411         NY     80000.0       Individual                Cash  26.07   \n",
       "1185038         CA     80000.0       Individual                Cash   2.09   \n",
       "1246002         NJ     80000.0       Individual                Cash  24.84   \n",
       "1393728         CT     80000.0       Individual                Cash  17.76   \n",
       "1394603         MO     30000.0       Individual                Cash  30.76   \n",
       "\n",
       "        earliest_cr_line  emp_length                          emp_title  \\\n",
       "id                                                                        \n",
       "533380        1997-10-01          10                       cvs pharmacy   \n",
       "657025        1976-12-01           7             Alamosa Public Schools   \n",
       "666496        1996-12-01           7                     Roys Body Shop   \n",
       "696388        1994-01-01          10          Northville Public Schools   \n",
       "766671        1996-07-01          10             Marriott International   \n",
       "884507        1978-09-01           8                golden brown bakery   \n",
       "1368779       1985-10-01          10      Presbyterian Publishing Corp.   \n",
       "1587833       2000-06-01          10                             kroger   \n",
       "353370        1994-04-01           2            Jefferson count schools   \n",
       "428884        1986-11-01           0                               None   \n",
       "584881        1979-10-01          10                 Scot Forge Company   \n",
       "700214        1995-11-01           1                    crosby trucking   \n",
       "1034529       1995-03-01          10          Stillwater Medical Center   \n",
       "1177411       1984-06-01           2   Analysis & Design Application Co   \n",
       "1185038       2003-08-01           5  JR International Distributors Inc   \n",
       "1246002       1998-12-01          10              John Wiley & Sons Inc   \n",
       "1393728       1988-09-01          10                dept of corrections   \n",
       "1394603       1999-08-01           1               warrensburg chrysler   \n",
       "\n",
       "         fico_range_high  fico_range_low grade home_ownership  \\\n",
       "id                                                              \n",
       "533380             744.0           740.0     D       MORTGAGE   \n",
       "657025             769.0           765.0     D       MORTGAGE   \n",
       "666496             744.0           740.0     D            OWN   \n",
       "696388             799.0           795.0     D       MORTGAGE   \n",
       "766671             749.0           745.0     E       MORTGAGE   \n",
       "884507             759.0           755.0     D            OWN   \n",
       "1368779            749.0           745.0     E       MORTGAGE   \n",
       "1587833            754.0           750.0     D       MORTGAGE   \n",
       "353370             744.0           740.0     C           RENT   \n",
       "428884             754.0           750.0     C       MORTGAGE   \n",
       "584881             789.0           785.0     C       MORTGAGE   \n",
       "700214             749.0           745.0     E           RENT   \n",
       "1034529            769.0           765.0     C       MORTGAGE   \n",
       "1177411            744.0           740.0     C            OWN   \n",
       "1185038            744.0           740.0     C           RENT   \n",
       "1246002            744.0           740.0     D           RENT   \n",
       "1393728            794.0           790.0     C       MORTGAGE   \n",
       "1394603            754.0           750.0     C       MORTGAGE   \n",
       "\n",
       "        initial_list_status  inq_last_6mths  installment  int_rate    issue_d  \\\n",
       "id                                                                              \n",
       "533380                    f             8.0       122.45     16.32 2010-06-01   \n",
       "657025                    f             8.0       333.03     15.65 2011-01-01   \n",
       "666496                    f             8.0       124.48     15.28 2011-02-01   \n",
       "696388                    f             8.0       335.13     15.28 2011-03-01   \n",
       "766671                    f             8.0       639.54     17.88 2011-06-01   \n",
       "884507                    f             8.0        49.46     16.77 2011-09-01   \n",
       "1368779                   f             8.0       683.25     21.49 2012-07-01   \n",
       "1587833                   w             8.0       649.21     19.05 2012-10-01   \n",
       "353370                    f             8.0       165.86     11.91 2008-08-01   \n",
       "428884                    f             8.0       135.09     13.16 2009-07-01   \n",
       "584881                    f             8.0       410.02     13.98 2010-09-01   \n",
       "700214                    f             8.0       530.33     16.40 2011-03-01   \n",
       "1034529                   f             8.0       482.92     14.65 2011-11-01   \n",
       "1177411                   f             8.0       417.81     15.31 2012-04-01   \n",
       "1185038                   f             8.0       141.21     16.29 2012-03-01   \n",
       "1246002                   f             8.0       483.13     17.27 2012-04-01   \n",
       "1393728                   f             8.0        48.75     15.31 2012-08-01   \n",
       "1394603                   f             8.0       191.50     15.31 2012-07-01   \n",
       "\n",
       "        last_pymnt_d  loan_amnt  loan_status  open_acc  pub_rec  \\\n",
       "id                                                                \n",
       "533380    2011-12-01     5000.0            1      20.0      0.0   \n",
       "657025    2016-02-01    13800.0            1      11.0      0.0   \n",
       "666496    2014-03-01     5200.0            1       7.0      0.0   \n",
       "696388    2016-03-01    14000.0            1      10.0      0.0   \n",
       "766671    2012-03-01    35000.0            1       9.0      0.0   \n",
       "884507    2016-10-01     2000.0            1       6.0      0.0   \n",
       "1368779   2012-12-01    25000.0            1       5.0      0.0   \n",
       "1587833   2017-03-01    25000.0            1      11.0      0.0   \n",
       "353370    2010-01-01     5000.0            1      19.0      0.0   \n",
       "428884    2010-12-01     4000.0            1      14.0      0.0   \n",
       "584881    2011-12-01    12000.0            1      13.0      0.0   \n",
       "700214    2014-05-01    15000.0            1       4.0      0.0   \n",
       "1034529   2012-08-01    14000.0            0      13.0      0.0   \n",
       "1177411   2013-04-01    12000.0            1      12.0      0.0   \n",
       "1185038   2012-11-01     4000.0            1       5.0      0.0   \n",
       "1246002   2013-01-01    13500.0            1       5.0      0.0   \n",
       "1393728   2013-01-01     1400.0            1      16.0      0.0   \n",
       "1394603   2013-03-01     5500.0            0       9.0      0.0   \n",
       "\n",
       "         pub_rec_bankruptcies             purpose  sub_grade  term  \\\n",
       "id                                                                   \n",
       "533380                    0.0    home_improvement         20    60   \n",
       "657025                    0.0                 car         19    60   \n",
       "666496                    0.0                 car         18    60   \n",
       "696388                    0.0    home_improvement         18    60   \n",
       "766671                    0.0  debt_consolidation         25    60   \n",
       "884507                    0.0               other         17    60   \n",
       "1368779                   0.0  debt_consolidation         23    60   \n",
       "1587833                   0.0  debt_consolidation         19    60   \n",
       "353370                    0.0         credit_card         13    36   \n",
       "428884                    0.0         educational         13    36   \n",
       "584881                    0.0    home_improvement         13    36   \n",
       "700214                    0.0      small_business         21    36   \n",
       "1034529                   0.0  debt_consolidation         13    36   \n",
       "1177411                   0.0             wedding         13    36   \n",
       "1185038                   0.0      small_business         15    36   \n",
       "1246002                   0.0         credit_card         16    36   \n",
       "1393728                   0.0         credit_card         12    36   \n",
       "1394603                   0.0    home_improvement         12    36   \n",
       "\n",
       "          total_pymnt verification_status zip_code  days_since_first_credit  \\\n",
       "id                                                                            \n",
       "533380    6048.103124            Verified    020xx                     4626   \n",
       "657025   19981.643198            Verified    811xx                    12449   \n",
       "666496    7073.703155        Not Verified    629xx                     5175   \n",
       "696388   20105.810027            Verified    481xx                     6268   \n",
       "766671   28489.760904            Verified    331xx                     5448   \n",
       "884507    2967.427698        Not Verified    490xx                    12053   \n",
       "1368779  27195.602034            Verified    402xx                     9770   \n",
       "1587833  38656.019830            Verified    481xx                     4505   \n",
       "353370    5678.670000        Not Verified    805xx                     5236   \n",
       "428884    4466.996068        Not Verified    482xx                     8278   \n",
       "584881   13656.944287            Verified    600xx                    11293   \n",
       "700214   19154.844190            Verified    282xx                     5599   \n",
       "1034529   3863.360000            Verified    746xx                     6089   \n",
       "1177411  13606.151561        Not Verified    117xx                    10166   \n",
       "1185038   4400.477913            Verified    925xx                     3135   \n",
       "1246002  14777.550384            Verified    074xx                     4870   \n",
       "1393728   1485.626251            Verified    067xx                     8735   \n",
       "1394603   1304.970000        Not Verified    647xx                     4718   \n",
       "\n",
       "         fico_score_average           PnL  years  fico_avg  default_year  \\\n",
       "id                                                                         \n",
       "533380                742.0   1048.103124   2010     742.0          2011   \n",
       "657025                767.0   6181.643198   2011     767.0          2016   \n",
       "666496                742.0   1873.703155   2011     742.0          2014   \n",
       "696388                797.0   6105.810027   2011     797.0          2016   \n",
       "766671                747.0  -6510.239096   2011     747.0          2012   \n",
       "884507                757.0    967.427698   2011     757.0          2016   \n",
       "1368779               747.0   2195.602034   2012     747.0          2012   \n",
       "1587833               752.0  13656.019830   2012     752.0          2017   \n",
       "353370                742.0    678.670000   2008     742.0          2010   \n",
       "428884                752.0    466.996068   2009     752.0          2010   \n",
       "584881                787.0   1656.944287   2010     787.0          2011   \n",
       "700214                747.0   4154.844190   2011     747.0          2014   \n",
       "1034529               767.0 -10136.640000   2011     767.0          2012   \n",
       "1177411               742.0   1606.151561   2012     742.0          2013   \n",
       "1185038               742.0    400.477913   2012     742.0          2012   \n",
       "1246002               742.0   1277.550384   2012     742.0          2013   \n",
       "1393728               792.0     85.626251   2012     792.0          2013   \n",
       "1394603               752.0  -4195.030000   2012     752.0          2013   \n",
       "\n",
       "                              dti_cut                inc_cut  \n",
       "id                                                            \n",
       "533380                 (14.83, 17.05]     (32000.0, 40000.0]  \n",
       "657025                 (14.83, 17.05]    (1199.999, 32000.0]  \n",
       "666496                 (21.84, 24.79]     (32000.0, 40000.0]  \n",
       "696388                 (12.59, 14.83]     (80000.0, 96000.0]  \n",
       "766671                  (7.05, 10.13]  (120000.0, 9000000.0]  \n",
       "884507                 (21.84, 24.79]    (1199.999, 32000.0]  \n",
       "1368779  (0.009000000000000001, 7.05]  (120000.0, 9000000.0]  \n",
       "1587833                (17.05, 19.35]     (80000.0, 96000.0]  \n",
       "353370                 (21.84, 24.79]     (40000.0, 47840.0]  \n",
       "428884   (0.009000000000000001, 7.05]    (1199.999, 32000.0]  \n",
       "584881   (0.009000000000000001, 7.05]  (120000.0, 9000000.0]  \n",
       "700214   (0.009000000000000001, 7.05]     (32000.0, 40000.0]  \n",
       "1034529                 (24.79, 28.8]     (70000.0, 80000.0]  \n",
       "1177411                 (24.79, 28.8]     (70000.0, 80000.0]  \n",
       "1185038  (0.009000000000000001, 7.05]     (70000.0, 80000.0]  \n",
       "1246002                 (24.79, 28.8]     (70000.0, 80000.0]  \n",
       "1393728                (17.05, 19.35]     (70000.0, 80000.0]  \n",
       "1394603                 (28.8, 999.0]    (1199.999, 32000.0]  "
      ]
     },
     "execution_count": 106,
     "metadata": {},
     "output_type": "execute_result"
    }
   ],
   "source": [
    "approved.query(\"inq_last_6mths==8\")"
   ]
  },
  {
   "cell_type": "code",
   "execution_count": 57,
   "metadata": {},
   "outputs": [
    {
     "data": {
      "text/plain": [
       "id\n",
       "56121         5145.48\n",
       "57167         6073.10\n",
       "61419         6475.33\n",
       "65104         7123.75\n",
       "119043       11652.85\n",
       "               ...   \n",
       "144852610      247.76\n",
       "145011883      857.96\n",
       "145038052        0.00\n",
       "145042659      640.22\n",
       "145455851        0.00\n",
       "Name: total_pymnt, Length: 249333, dtype: float64"
      ]
     },
     "execution_count": 57,
     "metadata": {},
     "output_type": "execute_result"
    }
   ],
   "source": [
    "x=approved['total_pymnt'].loc[approved['loan_status']==0]\n",
    "x"
   ]
  },
  {
   "cell_type": "markdown",
   "metadata": {},
   "source": [
    "### How much of principal is typically paid off before default? Broken out by loan grade?"
   ]
  },
  {
   "cell_type": "code",
   "execution_count": 132,
   "metadata": {},
   "outputs": [
    {
     "data": {
      "text/plain": [
       "grade\n",
       "A    1001.756625\n",
       "B    1167.453831\n",
       "C    1278.124600\n",
       "D    1271.522546\n",
       "E    1867.478122\n",
       "Name: PnL, dtype: float64"
      ]
     },
     "execution_count": 132,
     "metadata": {},
     "output_type": "execute_result"
    }
   ],
   "source": [
    "approved.groupby('grade')['PnL'].mean()"
   ]
  },
  {
   "cell_type": "code",
   "execution_count": 47,
   "metadata": {
    "scrolled": true
   },
   "outputs": [
    {
     "data": {
      "text/plain": [
       "[Text(0, 0.5, 'Average Profit $'),\n",
       " Text(0.5, 0, 'Grade'),\n",
       " Text(0.5, 1.0, 'Profit/Loss by Grade')]"
      ]
     },
     "execution_count": 47,
     "metadata": {},
     "output_type": "execute_result"
    },
    {
     "data": {
      "image/png": "[encoded data removed]",
      "text/plain": [
       "<Figure size 432x288 with 1 Axes>"
      ]
     },
     "metadata": {
      "needs_background": "light"
     },
     "output_type": "display_data"
    }
   ],
   "source": [
    "my_order = ['A','B','C','D','E']\n",
    "fig = sns.barplot(y='PnL',x='grade',data=approved,order=my_order, palette='rocket_r')\n",
    "fig.set(title = 'Profit/Loss by Grade', xlabel = 'Grade', ylabel = 'Average Profit $')"
   ]
  },
  {
   "cell_type": "markdown",
   "metadata": {},
   "source": [
    "## True life of loans [last_pmnt_d - issue_d] vs term (36/60)"
   ]
  },
  {
   "cell_type": "code",
   "execution_count": 24,
   "metadata": {},
   "outputs": [],
   "source": [
    "approved['tru_life']=approved['last_pymnt_d']-approved['issue_d']"
   ]
  },
  {
   "cell_type": "code",
   "execution_count": 25,
   "metadata": {},
   "outputs": [
    {
     "data": {
      "text/plain": [
       "id\n",
       "66943       426 days\n",
       "69550      1553 days\n",
       "380713     1400 days\n",
       "391748     1369 days\n",
       "419640     1491 days\n",
       "              ...   \n",
       "68616825    943 days\n",
       "68616851    578 days\n",
       "68616873    487 days\n",
       "68616891   1096 days\n",
       "68616919    852 days\n",
       "Name: tru_life, Length: 660896, dtype: timedelta64[ns]"
      ]
     },
     "execution_count": 25,
     "metadata": {},
     "output_type": "execute_result"
    }
   ],
   "source": [
    "approved['tru_life']"
   ]
  },
  {
   "cell_type": "code",
   "execution_count": 26,
   "metadata": {},
   "outputs": [],
   "source": [
    "approved['tru_months'] = approved['tru_life'].dt.days / 30.4167"
   ]
  },
  {
   "cell_type": "code",
   "execution_count": 139,
   "metadata": {},
   "outputs": [
    {
     "data": {
      "text/plain": [
       "count    660416.000000\n",
       "mean         25.335582\n",
       "std          12.078387\n",
       "min           0.000000\n",
       "25%          15.057518\n",
       "50%          27.024628\n",
       "75%          36.032837\n",
       "max          70.027321\n",
       "Name: tru_months, dtype: float64"
      ]
     },
     "execution_count": 139,
     "metadata": {},
     "output_type": "execute_result"
    }
   ],
   "source": [
    "approved['tru_months'].describe()"
   ]
  },
  {
   "cell_type": "code",
   "execution_count": 43,
   "metadata": {},
   "outputs": [],
   "source": [
    "approved['true']=(approved['tru_months']/approved['term']) * 100"
   ]
  },
  {
   "cell_type": "code",
   "execution_count": 41,
   "metadata": {},
   "outputs": [],
   "source": [
    "my_labels=['Charged Off', 'Fully Paid']\n",
    "handles, labels = fig.get_legend_handles_labels()\n",
    "handles = [handles[0], handles[1]]\n",
    "labels = my_labels"
   ]
  },
  {
   "cell_type": "code",
   "execution_count": 57,
   "metadata": {
    "scrolled": true
   },
   "outputs": [
    {
     "data": {
      "text/plain": [
       "<matplotlib.legend.Legend at 0x1eb85b3da60>"
      ]
     },
     "execution_count": 57,
     "metadata": {},
     "output_type": "execute_result"
    },
    {
     "data": {
      "image/png": "[encoded data removed]",
      "text/plain": [
       "<Figure size 432x288 with 1 Axes>"
      ]
     },
     "metadata": {
      "needs_background": "light"
     },
     "output_type": "display_data"
    }
   ],
   "source": [
    "my_order = ['A','B','C','D','E']\n",
    "fig = sns.barplot(x='grade', y='true',hue='loan_status', data=approved, palette='hls', order=my_order)\n",
    "fig.set(title = 'Loan Duration by Status', xlabel = 'Grade', ylabel = 'Percent to Loan Completion (%)')\n",
    "plt.legend(handles,labels, title='Loan Status', loc=3)\n",
    "#save fix axis\n",
    "\n",
    "#talk ab prepayment risk vs default risk"
   ]
  },
  {
   "cell_type": "code",
   "execution_count": 34,
   "metadata": {},
   "outputs": [
    {
     "data": {
      "text/plain": [
       "<matplotlib.legend.Legend at 0x1eb80f20130>"
      ]
     },
     "execution_count": 34,
     "metadata": {},
     "output_type": "execute_result"
    },
    {
     "data": {
      "image/png": "[encoded data removed]",
      "text/plain": [
       "<Figure size 432x288 with 1 Axes>"
      ]
     },
     "metadata": {
      "needs_background": "light"
     },
     "output_type": "display_data"
    }
   ],
   "source": [
    "my_order = ['A','B','C','D','E']\n",
    "fig = sns.barplot(x='grade', y='tru_months', hue='term', data=approved, palette='hls', order=my_order)\n",
    "fig.set(title = 'Loan Duration by Term', xlabel = 'Grade', ylabel = 'Months')\n",
    "fig.legend(title = 'Loan Term', loc = 'lower left')\n",
    "#save"
   ]
  },
  {
   "cell_type": "code",
   "execution_count": 144,
   "metadata": {},
   "outputs": [
    {
     "data": {
      "text/plain": [
       "<matplotlib.legend.Legend at 0x7ff45f1f3520>"
      ]
     },
     "execution_count": 144,
     "metadata": {},
     "output_type": "execute_result"
    },
    {
     "data": {
      "image/png": "[encoded data removed]",
      "text/plain": [
       "<Figure size 432x288 with 1 Axes>"
      ]
     },
     "metadata": {
      "needs_background": "light"
     },
     "output_type": "display_data"
    }
   ],
   "source": [
    "my_order = ['A','B','C','D','E']\n",
    "sns.boxplot(x='grade', y='tru_months', hue='term', data=approved, palette='hls', order=my_order)\n",
    "plt.title('Loan Duration')\n",
    "plt.legend(loc=1)"
   ]
  },
  {
   "cell_type": "code",
   "execution_count": 142,
   "metadata": {},
   "outputs": [
    {
     "data": {
      "text/html": [
       "<div>\n",
       "<style scoped>\n",
       "    .dataframe tbody tr th:only-of-type {\n",
       "        vertical-align: middle;\n",
       "    }\n",
       "\n",
       "    .dataframe tbody tr th {\n",
       "        vertical-align: top;\n",
       "    }\n",
       "\n",
       "    .dataframe thead th {\n",
       "        text-align: right;\n",
       "    }\n",
       "</style>\n",
       "<table border=\"1\" class=\"dataframe\">\n",
       "  <thead>\n",
       "    <tr style=\"text-align: right;\">\n",
       "      <th></th>\n",
       "      <th></th>\n",
       "      <th>tru_months</th>\n",
       "    </tr>\n",
       "    <tr>\n",
       "      <th>term</th>\n",
       "      <th>grade</th>\n",
       "      <th></th>\n",
       "    </tr>\n",
       "  </thead>\n",
       "  <tbody>\n",
       "    <tr>\n",
       "      <th rowspan=\"5\" valign=\"top\">36</th>\n",
       "      <th>A</th>\n",
       "      <td>29.030105</td>\n",
       "    </tr>\n",
       "    <tr>\n",
       "      <th>B</th>\n",
       "      <td>27.057505</td>\n",
       "    </tr>\n",
       "    <tr>\n",
       "      <th>C</th>\n",
       "      <td>25.052027</td>\n",
       "    </tr>\n",
       "    <tr>\n",
       "      <th>D</th>\n",
       "      <td>23.046550</td>\n",
       "    </tr>\n",
       "    <tr>\n",
       "      <th>E</th>\n",
       "      <td>22.027373</td>\n",
       "    </tr>\n",
       "    <tr>\n",
       "      <th rowspan=\"5\" valign=\"top\">60</th>\n",
       "      <th>A</th>\n",
       "      <td>41.062969</td>\n",
       "    </tr>\n",
       "    <tr>\n",
       "      <th>B</th>\n",
       "      <td>37.972561</td>\n",
       "    </tr>\n",
       "    <tr>\n",
       "      <th>C</th>\n",
       "      <td>34.060237</td>\n",
       "    </tr>\n",
       "    <tr>\n",
       "      <th>D</th>\n",
       "      <td>31.002706</td>\n",
       "    </tr>\n",
       "    <tr>\n",
       "      <th>E</th>\n",
       "      <td>29.030105</td>\n",
       "    </tr>\n",
       "  </tbody>\n",
       "</table>\n",
       "</div>"
      ],
      "text/plain": [
       "            tru_months\n",
       "term grade            \n",
       "36   A       29.030105\n",
       "     B       27.057505\n",
       "     C       25.052027\n",
       "     D       23.046550\n",
       "     E       22.027373\n",
       "60   A       41.062969\n",
       "     B       37.972561\n",
       "     C       34.060237\n",
       "     D       31.002706\n",
       "     E       29.030105"
      ]
     },
     "execution_count": 142,
     "metadata": {},
     "output_type": "execute_result"
    }
   ],
   "source": [
    "approved.groupby(['term','grade'])[['tru_months']].median()"
   ]
  },
  {
   "cell_type": "code",
   "execution_count": 143,
   "metadata": {},
   "outputs": [
    {
     "data": {
      "text/html": [
       "<div>\n",
       "<style scoped>\n",
       "    .dataframe tbody tr th:only-of-type {\n",
       "        vertical-align: middle;\n",
       "    }\n",
       "\n",
       "    .dataframe tbody tr th {\n",
       "        vertical-align: top;\n",
       "    }\n",
       "\n",
       "    .dataframe thead th {\n",
       "        text-align: right;\n",
       "    }\n",
       "</style>\n",
       "<table border=\"1\" class=\"dataframe\">\n",
       "  <thead>\n",
       "    <tr style=\"text-align: right;\">\n",
       "      <th></th>\n",
       "      <th>tru_months</th>\n",
       "    </tr>\n",
       "    <tr>\n",
       "      <th>term</th>\n",
       "      <th></th>\n",
       "    </tr>\n",
       "  </thead>\n",
       "  <tbody>\n",
       "    <tr>\n",
       "      <th>36</th>\n",
       "      <td>26.958875</td>\n",
       "    </tr>\n",
       "    <tr>\n",
       "      <th>60</th>\n",
       "      <td>33.041060</td>\n",
       "    </tr>\n",
       "  </tbody>\n",
       "</table>\n",
       "</div>"
      ],
      "text/plain": [
       "      tru_months\n",
       "term            \n",
       "36     26.958875\n",
       "60     33.041060"
      ]
     },
     "execution_count": 143,
     "metadata": {},
     "output_type": "execute_result"
    }
   ],
   "source": [
    "approved.groupby('term')[['tru_months']].median()"
   ]
  },
  {
   "cell_type": "code",
   "execution_count": 145,
   "metadata": {},
   "outputs": [
    {
     "data": {
      "text/plain": [
       "<AxesSubplot:xlabel='term', ylabel='tru_months'>"
      ]
     },
     "execution_count": 145,
     "metadata": {},
     "output_type": "execute_result"
    },
    {
     "data": {
      "image/png": "[encoded data removed]",
      "text/plain": [
       "<Figure size 432x288 with 1 Axes>"
      ]
     },
     "metadata": {
      "needs_background": "light"
     },
     "output_type": "display_data"
    }
   ],
   "source": [
    "fig = sns.barplot(x='term', y='tru_months', hue='loan_status', data=approved, palette='hls')"
   ]
  },
  {
   "cell_type": "code",
   "execution_count": 115,
   "metadata": {},
   "outputs": [
    {
     "data": {
      "text/plain": [
       "945xx    14555\n",
       "750xx    14029\n",
       "112xx    13339\n",
       "606xx    12090\n",
       "300xx    11699\n",
       "331xx    10968\n",
       "070xx    10424\n",
       "891xx    10294\n",
       "100xx    10273\n",
       "900xx    10267\n",
       "Name: zip_code, dtype: int64"
      ]
     },
     "execution_count": 115,
     "metadata": {},
     "output_type": "execute_result"
    }
   ],
   "source": [
    "approved['zip_code'].value_counts().head(10)"
   ]
  },
  {
   "cell_type": "code",
   "execution_count": 148,
   "metadata": {},
   "outputs": [
    {
     "data": {
      "text/html": [
       "<div>\n",
       "<style scoped>\n",
       "    .dataframe tbody tr th:only-of-type {\n",
       "        vertical-align: middle;\n",
       "    }\n",
       "\n",
       "    .dataframe tbody tr th {\n",
       "        vertical-align: top;\n",
       "    }\n",
       "\n",
       "    .dataframe thead th {\n",
       "        text-align: right;\n",
       "    }\n",
       "</style>\n",
       "<table border=\"1\" class=\"dataframe\">\n",
       "  <thead>\n",
       "    <tr style=\"text-align: right;\">\n",
       "      <th></th>\n",
       "      <th>default_rate</th>\n",
       "      <th>count</th>\n",
       "    </tr>\n",
       "    <tr>\n",
       "      <th>zip_code</th>\n",
       "      <th></th>\n",
       "      <th></th>\n",
       "    </tr>\n",
       "  </thead>\n",
       "  <tbody>\n",
       "    <tr>\n",
       "      <th>576xx</th>\n",
       "      <td>0.200000</td>\n",
       "      <td>25</td>\n",
       "    </tr>\n",
       "    <tr>\n",
       "      <th>997xx</th>\n",
       "      <td>0.200000</td>\n",
       "      <td>575</td>\n",
       "    </tr>\n",
       "    <tr>\n",
       "      <th>652xx</th>\n",
       "      <td>0.200000</td>\n",
       "      <td>805</td>\n",
       "    </tr>\n",
       "    <tr>\n",
       "      <th>417xx</th>\n",
       "      <td>0.200000</td>\n",
       "      <td>70</td>\n",
       "    </tr>\n",
       "    <tr>\n",
       "      <th>025xx</th>\n",
       "      <td>0.200000</td>\n",
       "      <td>575</td>\n",
       "    </tr>\n",
       "    <tr>\n",
       "      <th>...</th>\n",
       "      <td>...</td>\n",
       "      <td>...</td>\n",
       "    </tr>\n",
       "    <tr>\n",
       "      <th>878xx</th>\n",
       "      <td>0.105263</td>\n",
       "      <td>57</td>\n",
       "    </tr>\n",
       "    <tr>\n",
       "      <th>830xx</th>\n",
       "      <td>0.090909</td>\n",
       "      <td>88</td>\n",
       "    </tr>\n",
       "    <tr>\n",
       "      <th>022xx</th>\n",
       "      <td>0.084746</td>\n",
       "      <td>118</td>\n",
       "    </tr>\n",
       "    <tr>\n",
       "      <th>039xx</th>\n",
       "      <td>0.072165</td>\n",
       "      <td>97</td>\n",
       "    </tr>\n",
       "    <tr>\n",
       "      <th>045xx</th>\n",
       "      <td>0.070423</td>\n",
       "      <td>71</td>\n",
       "    </tr>\n",
       "  </tbody>\n",
       "</table>\n",
       "<p>489 rows × 2 columns</p>\n",
       "</div>"
      ],
      "text/plain": [
       "          default_rate  count\n",
       "zip_code                     \n",
       "576xx         0.200000     25\n",
       "997xx         0.200000    575\n",
       "652xx         0.200000    805\n",
       "417xx         0.200000     70\n",
       "025xx         0.200000    575\n",
       "...                ...    ...\n",
       "878xx         0.105263     57\n",
       "830xx         0.090909     88\n",
       "022xx         0.084746    118\n",
       "039xx         0.072165     97\n",
       "045xx         0.070423     71\n",
       "\n",
       "[489 rows x 2 columns]"
      ]
     },
     "execution_count": 148,
     "metadata": {},
     "output_type": "execute_result"
    }
   ],
   "source": [
    "default_zip = approved.groupby('zip_code').agg({'loan_status':['mean','count']})\n",
    "default_zip.sort_values(by=('loan_status','count'),ascending=False).head(20)\n",
    "default_zip.columns=['default_rate','count']\n",
    "default_zip.default_rate = 1 - default_zip.default_rate\n",
    "subset = default_zip.query(\"count>20 and default_rate<=.2\")\n",
    "subset.sort_values(by='default_rate',ascending=False)\n"
   ]
  },
  {
   "cell_type": "code",
   "execution_count": 146,
   "metadata": {},
   "outputs": [
    {
     "data": {
      "text/plain": [
       "addr_state\n",
       "IA    0.333333\n",
       "NE    0.191744\n",
       "MS    0.183218\n",
       "NV    0.177083\n",
       "AR    0.175842\n",
       "OK    0.171555\n",
       "AL    0.168669\n",
       "TN    0.163995\n",
       "LA    0.161705\n",
       "FL    0.159488\n",
       "NY    0.157492\n",
       "SD    0.157394\n",
       "MO    0.157256\n",
       "NM    0.156613\n",
       "IN    0.154382\n",
       "ND    0.153595\n",
       "NJ    0.151851\n",
       "OH    0.149827\n",
       "NC    0.149025\n",
       "MD    0.148214\n",
       "KY    0.147210\n",
       "MI    0.146165\n",
       "AZ    0.146163\n",
       "CA    0.146013\n",
       "PA    0.145152\n",
       "MN    0.144751\n",
       "HI    0.144621\n",
       "DE    0.144068\n",
       "VA    0.143076\n",
       "RI    0.138099\n",
       "AK    0.137931\n",
       "TX    0.137741\n",
       "UT    0.132543\n",
       "MA    0.132151\n",
       "GA    0.129085\n",
       "CT    0.126706\n",
       "WI    0.126268\n",
       "IL    0.125679\n",
       "MT    0.122332\n",
       "WA    0.120602\n",
       "SC    0.118019\n",
       "OR    0.117984\n",
       "CO    0.117231\n",
       "KS    0.114627\n",
       "WY    0.113195\n",
       "WV    0.111771\n",
       "ME    0.104790\n",
       "VT    0.102308\n",
       "NH    0.098734\n",
       "DC    0.093588\n",
       "ID    0.000000\n",
       "Name: loan_status, dtype: float64"
      ]
     },
     "execution_count": 146,
     "metadata": {},
     "output_type": "execute_result"
    }
   ],
   "source": [
    "default_state = approved.groupby('addr_state').mean()['loan_status']\n",
    "default_state = 1-default_state\n",
    "default_state.sort_values(ascending=False)"
   ]
  },
  {
   "cell_type": "code",
   "execution_count": 150,
   "metadata": {},
   "outputs": [
    {
     "data": {
      "text/plain": [
       "CA    101676\n",
       "NY     56295\n",
       "TX     53216\n",
       "FL     46367\n",
       "IL     26695\n",
       "NJ     24669\n",
       "PA     22473\n",
       "GA     21389\n",
       "OH     21131\n",
       "VA     18934\n",
       "NC     17695\n",
       "MI     17015\n",
       "AZ     15428\n",
       "MA     15278\n",
       "MD     15120\n",
       "WA     14610\n",
       "CO     13853\n",
       "MN     11689\n",
       "MO     10378\n",
       "CT     10110\n",
       "NV      9696\n",
       "IN      9483\n",
       "TN      8921\n",
       "WI      8577\n",
       "OR      8391\n",
       "AL      7909\n",
       "LA      7693\n",
       "SC      7592\n",
       "KY      6039\n",
       "OK      5864\n",
       "KS      5784\n",
       "AR      4868\n",
       "UT      4557\n",
       "NM      3697\n",
       "HI      3402\n",
       "NH      3160\n",
       "WV      3033\n",
       "RI      2882\n",
       "MS      2467\n",
       "DC      1934\n",
       "MT      1921\n",
       "DE      1770\n",
       "AK      1682\n",
       "WY      1493\n",
       "SD      1366\n",
       "VT      1300\n",
       "NE       751\n",
       "ME       334\n",
       "ND       306\n",
       "ID         7\n",
       "IA         3\n",
       "Name: addr_state, dtype: int64"
      ]
     },
     "execution_count": 150,
     "metadata": {},
     "output_type": "execute_result"
    }
   ],
   "source": [
    "approved['addr_state'].value_counts()"
   ]
  },
  {
   "cell_type": "code",
   "execution_count": 151,
   "metadata": {},
   "outputs": [
    {
     "data": {
      "text/plain": [
       "Cash    660903\n",
       "Name: disbursement_method, dtype: int64"
      ]
     },
     "execution_count": 151,
     "metadata": {},
     "output_type": "execute_result"
    }
   ],
   "source": [
    "approved['disbursement_method'].value_counts()"
   ]
  },
  {
   "cell_type": "code",
   "execution_count": 15,
   "metadata": {},
   "outputs": [
    {
     "data": {
      "text/plain": [
       "disbursement_method\n",
       "Cash    0.144489\n",
       "Name: loan_status, dtype: float64"
      ]
     },
     "execution_count": 15,
     "metadata": {},
     "output_type": "execute_result"
    }
   ],
   "source": [
    "default_state = approved.groupby('disbursement_method').mean()['loan_status']\n",
    "default_state = 1-default_state\n",
    "default_state.sort_values(ascending=False)"
   ]
  },
  {
   "cell_type": "code",
   "execution_count": 16,
   "metadata": {},
   "outputs": [],
   "source": [
    "approved['days_since_first_credit'] = approved['issue_d'] - approved['earliest_cr_line']"
   ]
  },
  {
   "cell_type": "code",
   "execution_count": 17,
   "metadata": {},
   "outputs": [],
   "source": [
    "approved['days_since_first_credit'] = approved['days_since_first_credit'].dt.days"
   ]
  },
  {
   "cell_type": "code",
   "execution_count": 18,
   "metadata": {},
   "outputs": [
    {
     "data": {
      "text/plain": [
       "(1094.999, 2861.0]    66771\n",
       "(4291.0, 4809.0]      66722\n",
       "(6788.0, 7852.0]      66121\n",
       "(2861.0, 3713.0]      66118\n",
       "(5355.0, 5967.0]      66081\n",
       "(9677.0, 25933.0]     66081\n",
       "(7852.0, 9677.0]      66008\n",
       "(5967.0, 6788.0]      65965\n",
       "(4809.0, 5355.0]      65543\n",
       "(3713.0, 4291.0]      65486\n",
       "Name: days_cut, dtype: int64"
      ]
     },
     "execution_count": 18,
     "metadata": {},
     "output_type": "execute_result"
    }
   ],
   "source": [
    "approved['days_cut'] = pd.qcut(approved.days_since_first_credit, q=10)\n",
    "approved['days_cut'].value_counts()"
   ]
  },
  {
   "cell_type": "code",
   "execution_count": 19,
   "metadata": {},
   "outputs": [
    {
     "data": {
      "text/plain": [
       "days_cut\n",
       "(1094.999, 2861.0]    17.133187\n",
       "(2861.0, 3713.0]      15.966908\n",
       "(3713.0, 4291.0]      15.838500\n",
       "(4291.0, 4809.0]      15.161416\n",
       "(4809.0, 5355.0]      14.683490\n",
       "(5355.0, 5967.0]      14.224966\n",
       "(5967.0, 6788.0]      13.723945\n",
       "(6788.0, 7852.0]      12.953525\n",
       "(9677.0, 25933.0]     12.418093\n",
       "(7852.0, 9677.0]      12.360623\n",
       "Name: loan_status, dtype: float64"
      ]
     },
     "execution_count": 19,
     "metadata": {},
     "output_type": "execute_result"
    }
   ],
   "source": [
    "default_day = approved.groupby('days_cut').mean()['loan_status']\n",
    "default_day = (1-default_day) * 100\n",
    "default_day.sort_values(ascending=False)"
   ]
  },
  {
   "cell_type": "code",
   "execution_count": 21,
   "metadata": {},
   "outputs": [
    {
     "data": {
      "text/plain": [
       "Text(0.5, 1.0, 'Credit History vs Default Rate %')"
      ]
     },
     "execution_count": 21,
     "metadata": {},
     "output_type": "execute_result"
    },
    {
     "data": {
      "image/png": "[encoded data removed]",
      "text/plain": [
       "<Figure size 432x288 with 1 Axes>"
      ]
     },
     "metadata": {
      "needs_background": "light"
     },
     "output_type": "display_data"
    }
   ],
   "source": [
    "sns.barplot(x=default_day.values,y=default_day.index, palette='rocket')\n",
    "plt.ylabel('Credit History in Days')\n",
    "plt.xlabel('Default Rate %')\n",
    "plt.title('Credit History vs Default Rate %')\n",
    "#save"
   ]
  },
  {
   "cell_type": "code",
   "execution_count": null,
   "metadata": {},
   "outputs": [],
   "source": []
  }
 ],
 "metadata": {
  "kernelspec": {
   "display_name": "Python 3",
   "language": "python",
   "name": "python3"
  },
  "language_info": {
   "codemirror_mode": {
    "name": "ipython",
    "version": 3
   },
   "file_extension": ".py",
   "mimetype": "text/x-python",
   "name": "python",
   "nbconvert_exporter": "python",
   "pygments_lexer": "ipython3",
   "version": "3.8.3"
  }
 },
 "nbformat": 4,
 "nbformat_minor": 4
}
