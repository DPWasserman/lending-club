{
 "cells": [
  {
   "cell_type": "markdown",
   "metadata": {},
   "source": [
    "Date: 3/27/21\n",
    "### Purpose\n",
    "- Compare PnL: model-driven port vs. null portfolio\n",
    "\n",
    "### Notes\n",
    "- changes needed for model prep because new parquet raw file (added fields and refinedfeatures())"
   ]
  },
  {
   "cell_type": "code",
   "execution_count": 1,
   "metadata": {},
   "outputs": [],
   "source": [
    "#Installing imblearn\n",
    "#!pip install -U imbalanced-learn"
   ]
  },
  {
   "cell_type": "code",
   "execution_count": 2,
   "metadata": {},
   "outputs": [],
   "source": [
    "import pandas as pd\n",
    "import numpy as np\n",
    "import seaborn as sns\n",
    "import matplotlib.pyplot as plt\n",
    "%matplotlib inline\n",
    "import warnings\n",
    "warnings.filterwarnings('ignore')\n",
    "# pd.set_option('display.height', 500)\n",
    "pd.set_option('display.max_rows', 30)\n",
    "pd.set_option('display.max_columns', 50)"
   ]
  },
  {
   "cell_type": "code",
   "execution_count": 3,
   "metadata": {},
   "outputs": [
    {
     "name": "stdout",
     "output_type": "stream",
     "text": [
      "Wall time: 10.9 s\n"
     ]
    }
   ],
   "source": [
    "%%time\n",
    "df = pd.read_parquet('../data/approved2.parquet', engine='fastparquet')"
   ]
  },
  {
   "cell_type": "code",
   "execution_count": 4,
   "metadata": {},
   "outputs": [
    {
     "data": {
      "text/html": [
       "<div>\n",
       "<style scoped>\n",
       "    .dataframe tbody tr th:only-of-type {\n",
       "        vertical-align: middle;\n",
       "    }\n",
       "\n",
       "    .dataframe tbody tr th {\n",
       "        vertical-align: top;\n",
       "    }\n",
       "\n",
       "    .dataframe thead th {\n",
       "        text-align: right;\n",
       "    }\n",
       "</style>\n",
       "<table border=\"1\" class=\"dataframe\">\n",
       "  <thead>\n",
       "    <tr style=\"text-align: right;\">\n",
       "      <th></th>\n",
       "      <th>addr_state</th>\n",
       "      <th>annual_inc</th>\n",
       "      <th>application_type</th>\n",
       "      <th>disbursement_method</th>\n",
       "      <th>dti</th>\n",
       "      <th>earliest_cr_line</th>\n",
       "      <th>emp_length</th>\n",
       "      <th>emp_title</th>\n",
       "      <th>fico_range_high</th>\n",
       "      <th>fico_range_low</th>\n",
       "      <th>grade</th>\n",
       "      <th>home_ownership</th>\n",
       "      <th>initial_list_status</th>\n",
       "      <th>inq_last_6mths</th>\n",
       "      <th>installment</th>\n",
       "      <th>int_rate</th>\n",
       "      <th>issue_d</th>\n",
       "      <th>last_pymnt_d</th>\n",
       "      <th>loan_amnt</th>\n",
       "      <th>loan_status</th>\n",
       "      <th>open_acc</th>\n",
       "      <th>pub_rec</th>\n",
       "      <th>pub_rec_bankruptcies</th>\n",
       "      <th>purpose</th>\n",
       "      <th>sub_grade</th>\n",
       "      <th>term</th>\n",
       "      <th>total_pymnt</th>\n",
       "      <th>verification_status</th>\n",
       "      <th>zip_code</th>\n",
       "      <th>days_since_first_credit</th>\n",
       "      <th>fico_score_average</th>\n",
       "    </tr>\n",
       "    <tr>\n",
       "      <th>id</th>\n",
       "      <th></th>\n",
       "      <th></th>\n",
       "      <th></th>\n",
       "      <th></th>\n",
       "      <th></th>\n",
       "      <th></th>\n",
       "      <th></th>\n",
       "      <th></th>\n",
       "      <th></th>\n",
       "      <th></th>\n",
       "      <th></th>\n",
       "      <th></th>\n",
       "      <th></th>\n",
       "      <th></th>\n",
       "      <th></th>\n",
       "      <th></th>\n",
       "      <th></th>\n",
       "      <th></th>\n",
       "      <th></th>\n",
       "      <th></th>\n",
       "      <th></th>\n",
       "      <th></th>\n",
       "      <th></th>\n",
       "      <th></th>\n",
       "      <th></th>\n",
       "      <th></th>\n",
       "      <th></th>\n",
       "      <th></th>\n",
       "      <th></th>\n",
       "      <th></th>\n",
       "      <th></th>\n",
       "    </tr>\n",
       "  </thead>\n",
       "  <tbody>\n",
       "    <tr>\n",
       "      <th>40049662</th>\n",
       "      <td>CA</td>\n",
       "      <td>100000.0</td>\n",
       "      <td>Individual</td>\n",
       "      <td>Cash</td>\n",
       "      <td>8.98</td>\n",
       "      <td>2004-07-01</td>\n",
       "      <td>10</td>\n",
       "      <td>Assistant Superintendent</td>\n",
       "      <td>699.0</td>\n",
       "      <td>695.0</td>\n",
       "      <td>B</td>\n",
       "      <td>RENT</td>\n",
       "      <td>w</td>\n",
       "      <td>0.0</td>\n",
       "      <td>527.10</td>\n",
       "      <td>11.44</td>\n",
       "      <td>2015-01-01</td>\n",
       "      <td>2017-03-01</td>\n",
       "      <td>24000.0</td>\n",
       "      <td>0</td>\n",
       "      <td>8.0</td>\n",
       "      <td>0.0</td>\n",
       "      <td>0.0</td>\n",
       "      <td>debt_consolidation</td>\n",
       "      <td>9</td>\n",
       "      <td>60</td>\n",
       "      <td>14607.180000</td>\n",
       "      <td>Source Verified</td>\n",
       "      <td>945xx</td>\n",
       "      <td>3836</td>\n",
       "      <td>697.0</td>\n",
       "    </tr>\n",
       "    <tr>\n",
       "      <th>83836761</th>\n",
       "      <td>IL</td>\n",
       "      <td>63900.0</td>\n",
       "      <td>Individual</td>\n",
       "      <td>Cash</td>\n",
       "      <td>11.36</td>\n",
       "      <td>2007-06-01</td>\n",
       "      <td>7</td>\n",
       "      <td>Logistics Manager</td>\n",
       "      <td>664.0</td>\n",
       "      <td>660.0</td>\n",
       "      <td>B</td>\n",
       "      <td>RENT</td>\n",
       "      <td>w</td>\n",
       "      <td>0.0</td>\n",
       "      <td>403.56</td>\n",
       "      <td>9.49</td>\n",
       "      <td>2016-06-01</td>\n",
       "      <td>2017-09-01</td>\n",
       "      <td>12600.0</td>\n",
       "      <td>1</td>\n",
       "      <td>3.0</td>\n",
       "      <td>0.0</td>\n",
       "      <td>0.0</td>\n",
       "      <td>debt_consolidation</td>\n",
       "      <td>7</td>\n",
       "      <td>36</td>\n",
       "      <td>13855.527151</td>\n",
       "      <td>Source Verified</td>\n",
       "      <td>604xx</td>\n",
       "      <td>3288</td>\n",
       "      <td>662.0</td>\n",
       "    </tr>\n",
       "    <tr>\n",
       "      <th>65651759</th>\n",
       "      <td>NE</td>\n",
       "      <td>27000.0</td>\n",
       "      <td>Individual</td>\n",
       "      <td>Cash</td>\n",
       "      <td>30.80</td>\n",
       "      <td>2001-04-01</td>\n",
       "      <td>4</td>\n",
       "      <td>Clerk</td>\n",
       "      <td>684.0</td>\n",
       "      <td>680.0</td>\n",
       "      <td>E</td>\n",
       "      <td>RENT</td>\n",
       "      <td>f</td>\n",
       "      <td>0.0</td>\n",
       "      <td>430.51</td>\n",
       "      <td>18.20</td>\n",
       "      <td>2015-11-01</td>\n",
       "      <td>2017-02-01</td>\n",
       "      <td>11875.0</td>\n",
       "      <td>0</td>\n",
       "      <td>7.0</td>\n",
       "      <td>1.0</td>\n",
       "      <td>0.0</td>\n",
       "      <td>debt_consolidation</td>\n",
       "      <td>21</td>\n",
       "      <td>36</td>\n",
       "      <td>9382.870000</td>\n",
       "      <td>Source Verified</td>\n",
       "      <td>681xx</td>\n",
       "      <td>5327</td>\n",
       "      <td>682.0</td>\n",
       "    </tr>\n",
       "    <tr>\n",
       "      <th>106600597</th>\n",
       "      <td>MA</td>\n",
       "      <td>48000.0</td>\n",
       "      <td>Individual</td>\n",
       "      <td>Cash</td>\n",
       "      <td>29.18</td>\n",
       "      <td>2005-01-01</td>\n",
       "      <td>10</td>\n",
       "      <td>Laborer</td>\n",
       "      <td>699.0</td>\n",
       "      <td>695.0</td>\n",
       "      <td>C</td>\n",
       "      <td>OWN</td>\n",
       "      <td>w</td>\n",
       "      <td>2.0</td>\n",
       "      <td>410.08</td>\n",
       "      <td>13.99</td>\n",
       "      <td>2017-04-01</td>\n",
       "      <td>2017-06-01</td>\n",
       "      <td>12000.0</td>\n",
       "      <td>1</td>\n",
       "      <td>18.0</td>\n",
       "      <td>0.0</td>\n",
       "      <td>0.0</td>\n",
       "      <td>major_purchase</td>\n",
       "      <td>13</td>\n",
       "      <td>36</td>\n",
       "      <td>12355.946778</td>\n",
       "      <td>Not Verified</td>\n",
       "      <td>027xx</td>\n",
       "      <td>4473</td>\n",
       "      <td>697.0</td>\n",
       "    </tr>\n",
       "    <tr>\n",
       "      <th>49955228</th>\n",
       "      <td>KY</td>\n",
       "      <td>27000.0</td>\n",
       "      <td>Individual</td>\n",
       "      <td>Cash</td>\n",
       "      <td>20.13</td>\n",
       "      <td>2003-08-01</td>\n",
       "      <td>4</td>\n",
       "      <td>Billing Associate</td>\n",
       "      <td>664.0</td>\n",
       "      <td>660.0</td>\n",
       "      <td>E</td>\n",
       "      <td>OWN</td>\n",
       "      <td>f</td>\n",
       "      <td>2.0</td>\n",
       "      <td>351.90</td>\n",
       "      <td>18.25</td>\n",
       "      <td>2015-05-01</td>\n",
       "      <td>2017-06-01</td>\n",
       "      <td>9700.0</td>\n",
       "      <td>0</td>\n",
       "      <td>10.0</td>\n",
       "      <td>0.0</td>\n",
       "      <td>0.0</td>\n",
       "      <td>debt_consolidation</td>\n",
       "      <td>21</td>\n",
       "      <td>36</td>\n",
       "      <td>8964.210000</td>\n",
       "      <td>Source Verified</td>\n",
       "      <td>409xx</td>\n",
       "      <td>4291</td>\n",
       "      <td>662.0</td>\n",
       "    </tr>\n",
       "  </tbody>\n",
       "</table>\n",
       "</div>"
      ],
      "text/plain": [
       "          addr_state  annual_inc application_type disbursement_method    dti  \\\n",
       "id                                                                             \n",
       "40049662          CA    100000.0       Individual                Cash   8.98   \n",
       "83836761          IL     63900.0       Individual                Cash  11.36   \n",
       "65651759          NE     27000.0       Individual                Cash  30.80   \n",
       "106600597         MA     48000.0       Individual                Cash  29.18   \n",
       "49955228          KY     27000.0       Individual                Cash  20.13   \n",
       "\n",
       "          earliest_cr_line  emp_length                 emp_title  \\\n",
       "id                                                                 \n",
       "40049662        2004-07-01          10  Assistant Superintendent   \n",
       "83836761        2007-06-01           7         Logistics Manager   \n",
       "65651759        2001-04-01           4                     Clerk   \n",
       "106600597       2005-01-01          10                   Laborer   \n",
       "49955228        2003-08-01           4         Billing Associate   \n",
       "\n",
       "           fico_range_high  fico_range_low grade home_ownership  \\\n",
       "id                                                                \n",
       "40049662             699.0           695.0     B           RENT   \n",
       "83836761             664.0           660.0     B           RENT   \n",
       "65651759             684.0           680.0     E           RENT   \n",
       "106600597            699.0           695.0     C            OWN   \n",
       "49955228             664.0           660.0     E            OWN   \n",
       "\n",
       "          initial_list_status  inq_last_6mths  installment  int_rate  \\\n",
       "id                                                                     \n",
       "40049662                    w             0.0       527.10     11.44   \n",
       "83836761                    w             0.0       403.56      9.49   \n",
       "65651759                    f             0.0       430.51     18.20   \n",
       "106600597                   w             2.0       410.08     13.99   \n",
       "49955228                    f             2.0       351.90     18.25   \n",
       "\n",
       "             issue_d last_pymnt_d  loan_amnt  loan_status  open_acc  pub_rec  \\\n",
       "id                                                                             \n",
       "40049662  2015-01-01   2017-03-01    24000.0            0       8.0      0.0   \n",
       "83836761  2016-06-01   2017-09-01    12600.0            1       3.0      0.0   \n",
       "65651759  2015-11-01   2017-02-01    11875.0            0       7.0      1.0   \n",
       "106600597 2017-04-01   2017-06-01    12000.0            1      18.0      0.0   \n",
       "49955228  2015-05-01   2017-06-01     9700.0            0      10.0      0.0   \n",
       "\n",
       "           pub_rec_bankruptcies             purpose  sub_grade  term  \\\n",
       "id                                                                     \n",
       "40049662                    0.0  debt_consolidation          9    60   \n",
       "83836761                    0.0  debt_consolidation          7    36   \n",
       "65651759                    0.0  debt_consolidation         21    36   \n",
       "106600597                   0.0      major_purchase         13    36   \n",
       "49955228                    0.0  debt_consolidation         21    36   \n",
       "\n",
       "            total_pymnt verification_status zip_code  days_since_first_credit  \\\n",
       "id                                                                              \n",
       "40049662   14607.180000     Source Verified    945xx                     3836   \n",
       "83836761   13855.527151     Source Verified    604xx                     3288   \n",
       "65651759    9382.870000     Source Verified    681xx                     5327   \n",
       "106600597  12355.946778        Not Verified    027xx                     4473   \n",
       "49955228    8964.210000     Source Verified    409xx                     4291   \n",
       "\n",
       "           fico_score_average  \n",
       "id                             \n",
       "40049662                697.0  \n",
       "83836761                662.0  \n",
       "65651759                682.0  \n",
       "106600597               697.0  \n",
       "49955228                662.0  "
      ]
     },
     "execution_count": 4,
     "metadata": {},
     "output_type": "execute_result"
    }
   ],
   "source": [
    "df.sample(5)"
   ]
  },
  {
   "cell_type": "code",
   "execution_count": 32,
   "metadata": {},
   "outputs": [
    {
     "data": {
      "text/plain": [
       "CA    190148\n",
       "TX    106621\n",
       "NY    106016\n",
       "FL     92490\n",
       "IL     50148\n",
       "       ...  \n",
       "VT      2570\n",
       "ME      1969\n",
       "ID      1631\n",
       "ND      1550\n",
       "IA         3\n",
       "Name: addr_state, Length: 51, dtype: int64"
      ]
     },
     "execution_count": 32,
     "metadata": {},
     "output_type": "execute_result"
    }
   ],
   "source": [
    "df.addr_state.value_counts()"
   ]
  },
  {
   "cell_type": "code",
   "execution_count": 5,
   "metadata": {},
   "outputs": [
    {
     "data": {
      "text/plain": [
       "inq_last_6mths        1\n",
       "zip_code              1\n",
       "last_pymnt_d       2087\n",
       "emp_title         83045\n",
       "dtype: int64"
      ]
     },
     "execution_count": 5,
     "metadata": {},
     "output_type": "execute_result"
    },
    {
     "data": {
      "image/png": "[encoded data removed]",
      "text/plain": [
       "<Figure size 432x288 with 1 Axes>"
      ]
     },
     "metadata": {
      "needs_background": "light"
     },
     "output_type": "display_data"
    }
   ],
   "source": [
    "missing = df.isnull().sum()\n",
    "missing = missing[missing > 0]\n",
    "missing.sort_values(inplace=True)\n",
    "missing.plot.bar()\n",
    "missing"
   ]
  },
  {
   "cell_type": "markdown",
   "metadata": {},
   "source": [
    "### Feature Engineering"
   ]
  },
  {
   "cell_type": "code",
   "execution_count": 6,
   "metadata": {},
   "outputs": [],
   "source": [
    "df.drop(df[df['last_pymnt_d'].isna()].index, inplace=True)\n",
    "df.drop(df[df['inq_last_6mths'].isna()].index, inplace=True)\n",
    "\n",
    "df['duration']=df['last_pymnt_d']-df['issue_d']\n",
    "df['duration'] = (df['duration'] / np.timedelta64(1,'D')).astype(int)\n",
    "\n",
    "df['PnL']=df['total_pymnt']-df['loan_amnt']"
   ]
  },
  {
   "cell_type": "markdown",
   "metadata": {},
   "source": [
    "### create df_full to get back PnL for model driven portfolio later"
   ]
  },
  {
   "cell_type": "code",
   "execution_count": 7,
   "metadata": {},
   "outputs": [
    {
     "data": {
      "text/html": [
       "<div>\n",
       "<style scoped>\n",
       "    .dataframe tbody tr th:only-of-type {\n",
       "        vertical-align: middle;\n",
       "    }\n",
       "\n",
       "    .dataframe tbody tr th {\n",
       "        vertical-align: top;\n",
       "    }\n",
       "\n",
       "    .dataframe thead th {\n",
       "        text-align: right;\n",
       "    }\n",
       "</style>\n",
       "<table border=\"1\" class=\"dataframe\">\n",
       "  <thead>\n",
       "    <tr style=\"text-align: right;\">\n",
       "      <th></th>\n",
       "      <th>addr_state</th>\n",
       "      <th>annual_inc</th>\n",
       "      <th>application_type</th>\n",
       "      <th>disbursement_method</th>\n",
       "      <th>dti</th>\n",
       "      <th>earliest_cr_line</th>\n",
       "      <th>emp_length</th>\n",
       "      <th>emp_title</th>\n",
       "      <th>fico_range_high</th>\n",
       "      <th>fico_range_low</th>\n",
       "      <th>grade</th>\n",
       "      <th>home_ownership</th>\n",
       "      <th>initial_list_status</th>\n",
       "      <th>inq_last_6mths</th>\n",
       "      <th>installment</th>\n",
       "      <th>int_rate</th>\n",
       "      <th>issue_d</th>\n",
       "      <th>last_pymnt_d</th>\n",
       "      <th>loan_amnt</th>\n",
       "      <th>loan_status</th>\n",
       "      <th>open_acc</th>\n",
       "      <th>pub_rec</th>\n",
       "      <th>pub_rec_bankruptcies</th>\n",
       "      <th>purpose</th>\n",
       "      <th>sub_grade</th>\n",
       "      <th>term</th>\n",
       "      <th>total_pymnt</th>\n",
       "      <th>verification_status</th>\n",
       "      <th>zip_code</th>\n",
       "      <th>days_since_first_credit</th>\n",
       "      <th>fico_score_average</th>\n",
       "      <th>duration</th>\n",
       "      <th>PnL</th>\n",
       "    </tr>\n",
       "    <tr>\n",
       "      <th>id</th>\n",
       "      <th></th>\n",
       "      <th></th>\n",
       "      <th></th>\n",
       "      <th></th>\n",
       "      <th></th>\n",
       "      <th></th>\n",
       "      <th></th>\n",
       "      <th></th>\n",
       "      <th></th>\n",
       "      <th></th>\n",
       "      <th></th>\n",
       "      <th></th>\n",
       "      <th></th>\n",
       "      <th></th>\n",
       "      <th></th>\n",
       "      <th></th>\n",
       "      <th></th>\n",
       "      <th></th>\n",
       "      <th></th>\n",
       "      <th></th>\n",
       "      <th></th>\n",
       "      <th></th>\n",
       "      <th></th>\n",
       "      <th></th>\n",
       "      <th></th>\n",
       "      <th></th>\n",
       "      <th></th>\n",
       "      <th></th>\n",
       "      <th></th>\n",
       "      <th></th>\n",
       "      <th></th>\n",
       "      <th></th>\n",
       "      <th></th>\n",
       "    </tr>\n",
       "  </thead>\n",
       "  <tbody>\n",
       "    <tr>\n",
       "      <th>22321809</th>\n",
       "      <td>AR</td>\n",
       "      <td>108000.0</td>\n",
       "      <td>Individual</td>\n",
       "      <td>Cash</td>\n",
       "      <td>25.48</td>\n",
       "      <td>1995-08-01</td>\n",
       "      <td>6</td>\n",
       "      <td>Project Manager</td>\n",
       "      <td>694.0</td>\n",
       "      <td>690.0</td>\n",
       "      <td>D</td>\n",
       "      <td>MORTGAGE</td>\n",
       "      <td>w</td>\n",
       "      <td>2.0</td>\n",
       "      <td>646.08</td>\n",
       "      <td>16.29</td>\n",
       "      <td>2014-07-01</td>\n",
       "      <td>2018-06-01</td>\n",
       "      <td>26400.0</td>\n",
       "      <td>1</td>\n",
       "      <td>30.0</td>\n",
       "      <td>0.0</td>\n",
       "      <td>0.0</td>\n",
       "      <td>debt_consolidation</td>\n",
       "      <td>17</td>\n",
       "      <td>60</td>\n",
       "      <td>37966.739282</td>\n",
       "      <td>Source Verified</td>\n",
       "      <td>720xx</td>\n",
       "      <td>6909</td>\n",
       "      <td>692.0</td>\n",
       "      <td>1431</td>\n",
       "      <td>11566.739282</td>\n",
       "    </tr>\n",
       "    <tr>\n",
       "      <th>93612407</th>\n",
       "      <td>IL</td>\n",
       "      <td>41600.0</td>\n",
       "      <td>Individual</td>\n",
       "      <td>Cash</td>\n",
       "      <td>22.82</td>\n",
       "      <td>1980-08-01</td>\n",
       "      <td>0</td>\n",
       "      <td>Dealer Relations Representative</td>\n",
       "      <td>704.0</td>\n",
       "      <td>700.0</td>\n",
       "      <td>B</td>\n",
       "      <td>RENT</td>\n",
       "      <td>f</td>\n",
       "      <td>0.0</td>\n",
       "      <td>389.98</td>\n",
       "      <td>10.49</td>\n",
       "      <td>2016-11-01</td>\n",
       "      <td>2018-07-01</td>\n",
       "      <td>12000.0</td>\n",
       "      <td>1</td>\n",
       "      <td>14.0</td>\n",
       "      <td>1.0</td>\n",
       "      <td>1.0</td>\n",
       "      <td>debt_consolidation</td>\n",
       "      <td>7</td>\n",
       "      <td>36</td>\n",
       "      <td>13585.514958</td>\n",
       "      <td>Source Verified</td>\n",
       "      <td>601xx</td>\n",
       "      <td>13241</td>\n",
       "      <td>702.0</td>\n",
       "      <td>607</td>\n",
       "      <td>1585.514958</td>\n",
       "    </tr>\n",
       "    <tr>\n",
       "      <th>59191858</th>\n",
       "      <td>MO</td>\n",
       "      <td>108000.0</td>\n",
       "      <td>Individual</td>\n",
       "      <td>Cash</td>\n",
       "      <td>12.89</td>\n",
       "      <td>2004-10-01</td>\n",
       "      <td>2</td>\n",
       "      <td>Project manager</td>\n",
       "      <td>679.0</td>\n",
       "      <td>675.0</td>\n",
       "      <td>B</td>\n",
       "      <td>MORTGAGE</td>\n",
       "      <td>f</td>\n",
       "      <td>1.0</td>\n",
       "      <td>196.41</td>\n",
       "      <td>10.99</td>\n",
       "      <td>2015-09-01</td>\n",
       "      <td>2018-11-01</td>\n",
       "      <td>6000.0</td>\n",
       "      <td>1</td>\n",
       "      <td>14.0</td>\n",
       "      <td>0.0</td>\n",
       "      <td>0.0</td>\n",
       "      <td>car</td>\n",
       "      <td>9</td>\n",
       "      <td>36</td>\n",
       "      <td>7129.290679</td>\n",
       "      <td>Verified</td>\n",
       "      <td>633xx</td>\n",
       "      <td>3987</td>\n",
       "      <td>677.0</td>\n",
       "      <td>1157</td>\n",
       "      <td>1129.290679</td>\n",
       "    </tr>\n",
       "    <tr>\n",
       "      <th>112625148</th>\n",
       "      <td>CA</td>\n",
       "      <td>54000.0</td>\n",
       "      <td>Individual</td>\n",
       "      <td>Cash</td>\n",
       "      <td>13.16</td>\n",
       "      <td>2011-01-01</td>\n",
       "      <td>4</td>\n",
       "      <td>Purchasing Manager</td>\n",
       "      <td>664.0</td>\n",
       "      <td>660.0</td>\n",
       "      <td>C</td>\n",
       "      <td>MORTGAGE</td>\n",
       "      <td>w</td>\n",
       "      <td>2.0</td>\n",
       "      <td>203.88</td>\n",
       "      <td>13.59</td>\n",
       "      <td>2017-07-01</td>\n",
       "      <td>2018-12-01</td>\n",
       "      <td>6000.0</td>\n",
       "      <td>1</td>\n",
       "      <td>8.0</td>\n",
       "      <td>1.0</td>\n",
       "      <td>1.0</td>\n",
       "      <td>debt_consolidation</td>\n",
       "      <td>12</td>\n",
       "      <td>36</td>\n",
       "      <td>6962.351946</td>\n",
       "      <td>Source Verified</td>\n",
       "      <td>906xx</td>\n",
       "      <td>2373</td>\n",
       "      <td>662.0</td>\n",
       "      <td>518</td>\n",
       "      <td>962.351946</td>\n",
       "    </tr>\n",
       "    <tr>\n",
       "      <th>66471676</th>\n",
       "      <td>CT</td>\n",
       "      <td>75000.0</td>\n",
       "      <td>Individual</td>\n",
       "      <td>Cash</td>\n",
       "      <td>22.70</td>\n",
       "      <td>1992-03-01</td>\n",
       "      <td>0</td>\n",
       "      <td>Warehouse Manager</td>\n",
       "      <td>664.0</td>\n",
       "      <td>660.0</td>\n",
       "      <td>D</td>\n",
       "      <td>RENT</td>\n",
       "      <td>w</td>\n",
       "      <td>0.0</td>\n",
       "      <td>1063.48</td>\n",
       "      <td>16.59</td>\n",
       "      <td>2015-12-01</td>\n",
       "      <td>2017-12-01</td>\n",
       "      <td>30000.0</td>\n",
       "      <td>0</td>\n",
       "      <td>9.0</td>\n",
       "      <td>0.0</td>\n",
       "      <td>0.0</td>\n",
       "      <td>debt_consolidation</td>\n",
       "      <td>17</td>\n",
       "      <td>36</td>\n",
       "      <td>25322.390000</td>\n",
       "      <td>Verified</td>\n",
       "      <td>066xx</td>\n",
       "      <td>8675</td>\n",
       "      <td>662.0</td>\n",
       "      <td>731</td>\n",
       "      <td>-4677.610000</td>\n",
       "    </tr>\n",
       "  </tbody>\n",
       "</table>\n",
       "</div>"
      ],
      "text/plain": [
       "          addr_state  annual_inc application_type disbursement_method    dti  \\\n",
       "id                                                                             \n",
       "22321809          AR    108000.0       Individual                Cash  25.48   \n",
       "93612407          IL     41600.0       Individual                Cash  22.82   \n",
       "59191858          MO    108000.0       Individual                Cash  12.89   \n",
       "112625148         CA     54000.0       Individual                Cash  13.16   \n",
       "66471676          CT     75000.0       Individual                Cash  22.70   \n",
       "\n",
       "          earliest_cr_line  emp_length                        emp_title  \\\n",
       "id                                                                        \n",
       "22321809        1995-08-01           6                  Project Manager   \n",
       "93612407        1980-08-01           0  Dealer Relations Representative   \n",
       "59191858        2004-10-01           2                  Project manager   \n",
       "112625148       2011-01-01           4               Purchasing Manager   \n",
       "66471676        1992-03-01           0                Warehouse Manager   \n",
       "\n",
       "           fico_range_high  fico_range_low grade home_ownership  \\\n",
       "id                                                                \n",
       "22321809             694.0           690.0     D       MORTGAGE   \n",
       "93612407             704.0           700.0     B           RENT   \n",
       "59191858             679.0           675.0     B       MORTGAGE   \n",
       "112625148            664.0           660.0     C       MORTGAGE   \n",
       "66471676             664.0           660.0     D           RENT   \n",
       "\n",
       "          initial_list_status  inq_last_6mths  installment  int_rate  \\\n",
       "id                                                                     \n",
       "22321809                    w             2.0       646.08     16.29   \n",
       "93612407                    f             0.0       389.98     10.49   \n",
       "59191858                    f             1.0       196.41     10.99   \n",
       "112625148                   w             2.0       203.88     13.59   \n",
       "66471676                    w             0.0      1063.48     16.59   \n",
       "\n",
       "             issue_d last_pymnt_d  loan_amnt  loan_status  open_acc  pub_rec  \\\n",
       "id                                                                             \n",
       "22321809  2014-07-01   2018-06-01    26400.0            1      30.0      0.0   \n",
       "93612407  2016-11-01   2018-07-01    12000.0            1      14.0      1.0   \n",
       "59191858  2015-09-01   2018-11-01     6000.0            1      14.0      0.0   \n",
       "112625148 2017-07-01   2018-12-01     6000.0            1       8.0      1.0   \n",
       "66471676  2015-12-01   2017-12-01    30000.0            0       9.0      0.0   \n",
       "\n",
       "           pub_rec_bankruptcies             purpose  sub_grade  term  \\\n",
       "id                                                                     \n",
       "22321809                    0.0  debt_consolidation         17    60   \n",
       "93612407                    1.0  debt_consolidation          7    36   \n",
       "59191858                    0.0                 car          9    36   \n",
       "112625148                   1.0  debt_consolidation         12    36   \n",
       "66471676                    0.0  debt_consolidation         17    36   \n",
       "\n",
       "            total_pymnt verification_status zip_code  days_since_first_credit  \\\n",
       "id                                                                              \n",
       "22321809   37966.739282     Source Verified    720xx                     6909   \n",
       "93612407   13585.514958     Source Verified    601xx                    13241   \n",
       "59191858    7129.290679            Verified    633xx                     3987   \n",
       "112625148   6962.351946     Source Verified    906xx                     2373   \n",
       "66471676   25322.390000            Verified    066xx                     8675   \n",
       "\n",
       "           fico_score_average  duration           PnL  \n",
       "id                                                     \n",
       "22321809                692.0      1431  11566.739282  \n",
       "93612407                702.0       607   1585.514958  \n",
       "59191858                677.0      1157   1129.290679  \n",
       "112625148               662.0       518    962.351946  \n",
       "66471676                662.0       731  -4677.610000  "
      ]
     },
     "execution_count": 7,
     "metadata": {},
     "output_type": "execute_result"
    }
   ],
   "source": [
    "df.shape\n",
    "df.sample(5)"
   ]
  },
  {
   "cell_type": "code",
   "execution_count": 8,
   "metadata": {},
   "outputs": [
    {
     "name": "stdout",
     "output_type": "stream",
     "text": [
      "Total investment for Model Portfolio: 18556096200\n",
      "Total PnL for Model Portfolio: 612451938\n",
      "Return for Model Portfolio: 3.30%\n"
     ]
    }
   ],
   "source": [
    "print(f'Total investment for Model Portfolio: {df.loan_amnt.sum():.0f}')\n",
    "print(f'Total PnL for Model Portfolio: {df.PnL.sum():.0f}')\n",
    "print(f'Return for Model Portfolio: {(df.PnL.sum()/df.loan_amnt.sum())*100:.2f}%')"
   ]
  },
  {
   "cell_type": "code",
   "execution_count": 9,
   "metadata": {},
   "outputs": [],
   "source": [
    "df36 = df.loc[df['term']==36]\n",
    "df36= df36.loc[df['issue_d'].dt.year.between(2007,2015)]"
   ]
  },
  {
   "cell_type": "code",
   "execution_count": 10,
   "metadata": {},
   "outputs": [
    {
     "name": "stdout",
     "output_type": "stream",
     "text": [
      "Total investment for Model Portfolio: 7668716150\n",
      "Total PnL for Model Portfolio: 636261024\n",
      "Return for Model Portfolio: 8.30%\n"
     ]
    }
   ],
   "source": [
    "print(f'Total investment for Model Portfolio: {df36.loan_amnt.sum():.0f}')\n",
    "print(f'Total PnL for Model Portfolio: {df36.PnL.sum():.0f}')\n",
    "print(f'Return for Model Portfolio: {(df36.PnL.sum()/df36.loan_amnt.sum())*100:.2f}%')"
   ]
  },
  {
   "cell_type": "code",
   "execution_count": 11,
   "metadata": {},
   "outputs": [],
   "source": [
    "df60 = df.loc[df['term']==60]\n",
    "df60= df60.loc[df['issue_d'].dt.year.between(2007,2013)]"
   ]
  },
  {
   "cell_type": "code",
   "execution_count": 12,
   "metadata": {},
   "outputs": [
    {
     "name": "stdout",
     "output_type": "stream",
     "text": [
      "Total investment for Model Portfolio: 931505175\n",
      "Total PnL for Model Portfolio: 166819866\n",
      "Return for Model Portfolio: 17.91%\n"
     ]
    }
   ],
   "source": [
    "print(f'Total investment for Model Portfolio: {df60.loan_amnt.sum():.0f}')\n",
    "print(f'Total PnL for Model Portfolio: {df60.PnL.sum():.0f}')\n",
    "print(f'Return for Model Portfolio: {(df60.PnL.sum()/df60.loan_amnt.sum())*100:.2f}%')"
   ]
  },
  {
   "cell_type": "code",
   "execution_count": 13,
   "metadata": {},
   "outputs": [],
   "source": [
    "df_all = pd.concat([df36, df60], axis=0)"
   ]
  },
  {
   "cell_type": "code",
   "execution_count": 14,
   "metadata": {},
   "outputs": [
    {
     "name": "stdout",
     "output_type": "stream",
     "text": [
      "Total investment for Model Portfolio: 8600221325\n",
      "Total PnL for Model Portfolio: 803080890\n",
      "Return for Model Portfolio: 9.34%\n"
     ]
    }
   ],
   "source": [
    "print(f'Total investment for Model Portfolio: {df_all.loan_amnt.sum():.0f}')\n",
    "print(f'Total PnL for Model Portfolio: {df_all.PnL.sum():.0f}')\n",
    "print(f'Return for Model Portfolio: {(df_all.PnL.sum()/df_all.loan_amnt.sum())*100:.2f}%')"
   ]
  },
  {
   "cell_type": "code",
   "execution_count": 26,
   "metadata": {},
   "outputs": [
    {
     "data": {
      "text/plain": [
       "C    179255\n",
       "Name: grade, dtype: int64"
      ]
     },
     "execution_count": 26,
     "metadata": {},
     "output_type": "execute_result"
    }
   ],
   "source": [
    "loan_grade='C'\n",
    "df_sample = df_all.loc[df_all['grade']==loan_grade]\n",
    "df_sample.grade.value_counts()"
   ]
  },
  {
   "cell_type": "code",
   "execution_count": 27,
   "metadata": {},
   "outputs": [
    {
     "name": "stdout",
     "output_type": "stream",
     "text": [
      "Total investment for Model Portfolio: 2255722225\n",
      "Total PnL for Model Portfolio: 230566444\n",
      "Return for Model Portfolio: 10.22%\n"
     ]
    }
   ],
   "source": [
    "print(f'Total investment for Model Portfolio: {df_sample.loan_amnt.sum():.0f}')\n",
    "print(f'Total PnL for Model Portfolio: {df_sample.PnL.sum():.0f}')\n",
    "print(f'Return for Model Portfolio: {(df_sample.PnL.sum()/df_sample.loan_amnt.sum())*100:.2f}%')"
   ]
  },
  {
   "cell_type": "code",
   "execution_count": null,
   "metadata": {},
   "outputs": [],
   "source": []
  },
  {
   "cell_type": "code",
   "execution_count": null,
   "metadata": {},
   "outputs": [],
   "source": [
    "approved = pd.read_pickle('../data/approved.pickle')"
   ]
  },
  {
   "cell_type": "code",
   "execution_count": null,
   "metadata": {},
   "outputs": [],
   "source": []
  },
  {
   "cell_type": "code",
   "execution_count": null,
   "metadata": {},
   "outputs": [],
   "source": []
  },
  {
   "cell_type": "code",
   "execution_count": null,
   "metadata": {},
   "outputs": [],
   "source": []
  },
  {
   "cell_type": "code",
   "execution_count": null,
   "metadata": {},
   "outputs": [],
   "source": []
  },
  {
   "cell_type": "code",
   "execution_count": null,
   "metadata": {},
   "outputs": [],
   "source": []
  },
  {
   "cell_type": "code",
   "execution_count": null,
   "metadata": {},
   "outputs": [],
   "source": []
  },
  {
   "cell_type": "markdown",
   "metadata": {},
   "source": [
    "### Convert Ordinals"
   ]
  },
  {
   "cell_type": "code",
   "execution_count": 29,
   "metadata": {},
   "outputs": [],
   "source": [
    "# # sub_grade\n",
    "# df.sub_grade.replace({'A1':1, 'A2':2, 'A3':3, 'A4':4, 'A5':5, 'B1':6, 'B2':7, \n",
    "#                       'B3':8, 'B4':9, 'B5':10, 'C1':11, 'C2':12, 'C3':13, 'C4':14, \n",
    "#                       'C5':15, 'D1':16, 'D2':17, 'D3':18, 'D4':19, 'D5':20, 'E1':21, \n",
    "#                       'E2':22, 'E3':23, 'E4':24, 'E5':25}, inplace=True)\n",
    "\n",
    "# disbursement_method\n",
    "df.disbursement_method.replace({'Cash':0,'DirectPay':1},inplace=True)\n",
    "\n",
    "# verification_status\n",
    "df.verification_status.replace({'Source Verified':'Verified'},inplace=True)\n",
    "df.verification_status.replace({'Not Verified':0,'Verified':1}, inplace=True)\n",
    "\n",
    "# initial_list_status\n",
    "df.initial_list_status.replace({'w':0,'f':1}, inplace=True)\n",
    "\n",
    "# application_type\n",
    "df.application_type.replace({'Individual':0,'Joint App':1}, inplace=True)"
   ]
  },
  {
   "cell_type": "markdown",
   "metadata": {},
   "source": [
    "### Dummification"
   ]
  },
  {
   "cell_type": "code",
   "execution_count": 30,
   "metadata": {},
   "outputs": [],
   "source": [
    "dummies=['purpose','addr_state','home_ownership']\n",
    "\n",
    "for d in dummies:\n",
    "    temp = pd.get_dummies(df[d], prefix=d, prefix_sep='__')\n",
    "    temp = temp.drop(d+'__'+str(df[d].mode()[0]), axis=1)\n",
    "    #drop the most common one (mode), making it the base case\n",
    "    df = pd.concat([df.drop(d, axis=1),temp], axis=1)\n",
    "    #merge back with main df"
   ]
  },
  {
   "cell_type": "markdown",
   "metadata": {},
   "source": [
    "### Filter for years"
   ]
  },
  {
   "cell_type": "code",
   "execution_count": 31,
   "metadata": {},
   "outputs": [],
   "source": [
    "df= df.loc[df['issue_d'].dt.year.between(2007,2015)]"
   ]
  },
  {
   "cell_type": "code",
   "execution_count": 32,
   "metadata": {},
   "outputs": [
    {
     "data": {
      "text/plain": [
       "799772"
      ]
     },
     "execution_count": 32,
     "metadata": {},
     "output_type": "execute_result"
    }
   ],
   "source": [
    "df.issue_d.dt.year.count()"
   ]
  },
  {
   "cell_type": "markdown",
   "metadata": {},
   "source": [
    "### Drop Columns"
   ]
  },
  {
   "cell_type": "code",
   "execution_count": 33,
   "metadata": {},
   "outputs": [],
   "source": [
    "df.drop(['emp_title','zip_code','grade','issue_d','earliest_cr_line','fico_range_high',\n",
    "         'fico_range_low','installment'],axis=1, inplace=True)"
   ]
  },
  {
   "cell_type": "code",
   "execution_count": 34,
   "metadata": {},
   "outputs": [],
   "source": [
    "df.drop(['duration','last_pymnt_d','PnL','total_pymnt'], axis=1, inplace=True)"
   ]
  },
  {
   "cell_type": "markdown",
   "metadata": {},
   "source": [
    "### Drop emp_length==-1"
   ]
  },
  {
   "cell_type": "code",
   "execution_count": 35,
   "metadata": {},
   "outputs": [],
   "source": [
    "df.drop(df[df['emp_length']==-1].index, inplace=True)"
   ]
  },
  {
   "cell_type": "code",
   "execution_count": 36,
   "metadata": {},
   "outputs": [],
   "source": [
    "df = df.dropna(how='all')"
   ]
  },
  {
   "cell_type": "markdown",
   "metadata": {},
   "source": [
    "### Drop the 60month product"
   ]
  },
  {
   "cell_type": "code",
   "execution_count": 37,
   "metadata": {},
   "outputs": [],
   "source": [
    "df = df.loc[df['term']==36]\n",
    "df.drop('term', axis=1, inplace=True)"
   ]
  },
  {
   "cell_type": "markdown",
   "metadata": {},
   "source": [
    "# Modelling"
   ]
  },
  {
   "cell_type": "markdown",
   "metadata": {},
   "source": [
    "### create target and features"
   ]
  },
  {
   "cell_type": "code",
   "execution_count": 38,
   "metadata": {},
   "outputs": [],
   "source": [
    "target = df['loan_status']"
   ]
  },
  {
   "cell_type": "code",
   "execution_count": 39,
   "metadata": {},
   "outputs": [
    {
     "data": {
      "text/plain": [
       "1    500426\n",
       "0     76601\n",
       "Name: loan_status, dtype: int64"
      ]
     },
     "execution_count": 39,
     "metadata": {},
     "output_type": "execute_result"
    }
   ],
   "source": [
    "target.value_counts()"
   ]
  },
  {
   "cell_type": "code",
   "execution_count": 40,
   "metadata": {},
   "outputs": [],
   "source": [
    "features = df.drop(['loan_status'], axis=1)"
   ]
  },
  {
   "cell_type": "markdown",
   "metadata": {},
   "source": [
    "### note the reduced train_size of .10"
   ]
  },
  {
   "cell_type": "code",
   "execution_count": 41,
   "metadata": {},
   "outputs": [],
   "source": [
    "from sklearn.linear_model import LogisticRegression, LogisticRegressionCV\n",
    "from sklearn.model_selection import GridSearchCV, StratifiedKFold, train_test_split, KFold\n",
    "\n",
    "Xtrain, Xtest, ytrain, ytest = train_test_split(features, target, train_size=.10 )\n",
    "logr = LogisticRegression()"
   ]
  },
  {
   "cell_type": "code",
   "execution_count": 42,
   "metadata": {},
   "outputs": [
    {
     "data": {
      "text/plain": [
       "(57702, 84)"
      ]
     },
     "execution_count": 42,
     "metadata": {},
     "output_type": "execute_result"
    }
   ],
   "source": [
    "Xtrain.shape"
   ]
  },
  {
   "cell_type": "markdown",
   "metadata": {},
   "source": [
    "### SMOTE to oversample minority class (defaulted loans)"
   ]
  },
  {
   "cell_type": "code",
   "execution_count": 43,
   "metadata": {},
   "outputs": [
    {
     "name": "stdout",
     "output_type": "stream",
     "text": [
      "Wall time: 4.71 s\n"
     ]
    }
   ],
   "source": [
    "%%time\n",
    "from imblearn.over_sampling import SMOTE\n",
    "smote = SMOTE(random_state = 101)\n",
    "X_oversample, y_oversample = smote.fit_resample(Xtrain, ytrain)"
   ]
  },
  {
   "cell_type": "code",
   "execution_count": 44,
   "metadata": {},
   "outputs": [
    {
     "name": "stdout",
     "output_type": "stream",
     "text": [
      "1    49980\n",
      "0    49980\n",
      "Name: loan_status, dtype: int64\n",
      "1    450446\n",
      "0     68879\n",
      "Name: loan_status, dtype: int64\n"
     ]
    }
   ],
   "source": [
    "print(y_oversample.value_counts())\n",
    "print(ytest.value_counts())"
   ]
  },
  {
   "cell_type": "markdown",
   "metadata": {},
   "source": [
    "### gridsearch"
   ]
  },
  {
   "cell_type": "code",
   "execution_count": 45,
   "metadata": {},
   "outputs": [],
   "source": [
    "Cs = [0.0001,0.001,0.01,1,10,100,1000,10000]\n",
    "params = [{'C':Cs, 'penalty':['l1','l2']}]\n",
    "grid_logr = GridSearchCV(estimator=logr, param_grid=params, cv=3)"
   ]
  },
  {
   "cell_type": "code",
   "execution_count": 46,
   "metadata": {},
   "outputs": [
    {
     "name": "stdout",
     "output_type": "stream",
     "text": [
      "Wall time: 22.4 s\n"
     ]
    },
    {
     "data": {
      "text/plain": [
       "GridSearchCV(cv=3, estimator=LogisticRegression(),\n",
       "             param_grid=[{'C': [0.0001, 0.001, 0.01, 1, 10, 100, 1000, 10000],\n",
       "                          'penalty': ['l1', 'l2']}])"
      ]
     },
     "execution_count": 46,
     "metadata": {},
     "output_type": "execute_result"
    }
   ],
   "source": [
    "%%time\n",
    "grid_logr.fit(X_oversample, y_oversample)"
   ]
  },
  {
   "cell_type": "code",
   "execution_count": 47,
   "metadata": {},
   "outputs": [
    {
     "name": "stdout",
     "output_type": "stream",
     "text": [
      "{'C': 0.001, 'penalty': 'l2'}\n",
      "0.6239395758303322\n"
     ]
    }
   ],
   "source": [
    "print(grid_logr.best_params_)\n",
    "print(grid_logr.best_score_)"
   ]
  },
  {
   "cell_type": "code",
   "execution_count": 48,
   "metadata": {},
   "outputs": [
    {
     "data": {
      "text/plain": [
       "0.6162075771434073"
      ]
     },
     "execution_count": 48,
     "metadata": {},
     "output_type": "execute_result"
    }
   ],
   "source": [
    "best_model = grid_logr.best_estimator_\n",
    "best_model.score(Xtest,ytest)"
   ]
  },
  {
   "cell_type": "code",
   "execution_count": 49,
   "metadata": {},
   "outputs": [],
   "source": [
    "coefs = pd.DataFrame(abs(best_model.coef_).T, index=features.columns)"
   ]
  },
  {
   "cell_type": "code",
   "execution_count": 50,
   "metadata": {},
   "outputs": [
    {
     "data": {
      "text/html": [
       "<div>\n",
       "<style scoped>\n",
       "    .dataframe tbody tr th:only-of-type {\n",
       "        vertical-align: middle;\n",
       "    }\n",
       "\n",
       "    .dataframe tbody tr th {\n",
       "        vertical-align: top;\n",
       "    }\n",
       "\n",
       "    .dataframe thead th {\n",
       "        text-align: right;\n",
       "    }\n",
       "</style>\n",
       "<table border=\"1\" class=\"dataframe\">\n",
       "  <thead>\n",
       "    <tr style=\"text-align: right;\">\n",
       "      <th></th>\n",
       "      <th>0</th>\n",
       "    </tr>\n",
       "  </thead>\n",
       "  <tbody>\n",
       "    <tr>\n",
       "      <th>sub_grade</th>\n",
       "      <td>0.051809</td>\n",
       "    </tr>\n",
       "    <tr>\n",
       "      <th>int_rate</th>\n",
       "      <td>0.041596</td>\n",
       "    </tr>\n",
       "    <tr>\n",
       "      <th>dti</th>\n",
       "      <td>0.039863</td>\n",
       "    </tr>\n",
       "    <tr>\n",
       "      <th>open_acc</th>\n",
       "      <td>0.012001</td>\n",
       "    </tr>\n",
       "    <tr>\n",
       "      <th>emp_length</th>\n",
       "      <td>0.006628</td>\n",
       "    </tr>\n",
       "    <tr>\n",
       "      <th>inq_last_6mths</th>\n",
       "      <td>0.004168</td>\n",
       "    </tr>\n",
       "    <tr>\n",
       "      <th>purpose__credit_card</th>\n",
       "      <td>0.003592</td>\n",
       "    </tr>\n",
       "    <tr>\n",
       "      <th>initial_list_status</th>\n",
       "      <td>0.003574</td>\n",
       "    </tr>\n",
       "    <tr>\n",
       "      <th>fico_score_average</th>\n",
       "      <td>0.002388</td>\n",
       "    </tr>\n",
       "    <tr>\n",
       "      <th>home_ownership__RENT</th>\n",
       "      <td>0.002367</td>\n",
       "    </tr>\n",
       "  </tbody>\n",
       "</table>\n",
       "</div>"
      ],
      "text/plain": [
       "                             0\n",
       "sub_grade             0.051809\n",
       "int_rate              0.041596\n",
       "dti                   0.039863\n",
       "open_acc              0.012001\n",
       "emp_length            0.006628\n",
       "inq_last_6mths        0.004168\n",
       "purpose__credit_card  0.003592\n",
       "initial_list_status   0.003574\n",
       "fico_score_average    0.002388\n",
       "home_ownership__RENT  0.002367"
      ]
     },
     "execution_count": 50,
     "metadata": {},
     "output_type": "execute_result"
    }
   ],
   "source": [
    "coefs.sort_values(0, ascending=False).head(10)"
   ]
  },
  {
   "cell_type": "markdown",
   "metadata": {},
   "source": [
    "### Confusion Matrix"
   ]
  },
  {
   "cell_type": "code",
   "execution_count": 51,
   "metadata": {},
   "outputs": [],
   "source": [
    "from sklearn.metrics import confusion_matrix"
   ]
  },
  {
   "cell_type": "code",
   "execution_count": 52,
   "metadata": {},
   "outputs": [
    {
     "data": {
      "text/html": [
       "<div>\n",
       "<style scoped>\n",
       "    .dataframe tbody tr th:only-of-type {\n",
       "        vertical-align: middle;\n",
       "    }\n",
       "\n",
       "    .dataframe tbody tr th {\n",
       "        vertical-align: top;\n",
       "    }\n",
       "\n",
       "    .dataframe thead th {\n",
       "        text-align: right;\n",
       "    }\n",
       "</style>\n",
       "<table border=\"1\" class=\"dataframe\">\n",
       "  <thead>\n",
       "    <tr style=\"text-align: right;\">\n",
       "      <th></th>\n",
       "      <th>Pred_0</th>\n",
       "      <th>Pred_1</th>\n",
       "    </tr>\n",
       "  </thead>\n",
       "  <tbody>\n",
       "    <tr>\n",
       "      <th>True_0</th>\n",
       "      <td>42427</td>\n",
       "      <td>26452</td>\n",
       "    </tr>\n",
       "    <tr>\n",
       "      <th>True_1</th>\n",
       "      <td>172861</td>\n",
       "      <td>277585</td>\n",
       "    </tr>\n",
       "  </tbody>\n",
       "</table>\n",
       "</div>"
      ],
      "text/plain": [
       "        Pred_0  Pred_1\n",
       "True_0   42427   26452\n",
       "True_1  172861  277585"
      ]
     },
     "execution_count": 52,
     "metadata": {},
     "output_type": "execute_result"
    }
   ],
   "source": [
    "cmat = confusion_matrix(ytest,best_model.predict(Xtest))\n",
    "\n",
    "#Label the confusion matrix\n",
    "pd.DataFrame(cmat, columns = [f'Pred_{label}' for label in best_model.classes_],\n",
    "             index = [f'True_{label}' for label in best_model.classes_])\n"
   ]
  },
  {
   "cell_type": "markdown",
   "metadata": {},
   "source": [
    "### Best model is one that strikes good balance of a high \"pred_1 precision\" and a high \"loan approval rate\""
   ]
  },
  {
   "cell_type": "code",
   "execution_count": 53,
   "metadata": {},
   "outputs": [
    {
     "name": "stdout",
     "output_type": "stream",
     "text": [
      "loan approval rate: 0.59\n",
      "precision pred_1: 0.91\n",
      "recall pred_1: 0.62\n"
     ]
    }
   ],
   "source": [
    "cmat=cmat\n",
    "print(f'loan approval rate: {sum(cmat[:,1])/sum(sum(cmat)):.2f}')\n",
    "print(f'precision pred_1: {cmat[1][1]/sum(cmat[:,1]):.2f}')\n",
    "print(f'recall pred_1: {cmat[1][1]/sum(cmat[1,:]):.2f}')"
   ]
  },
  {
   "cell_type": "code",
   "execution_count": 54,
   "metadata": {},
   "outputs": [
    {
     "name": "stdout",
     "output_type": "stream",
     "text": [
      "              precision    recall  f1-score   support\n",
      "\n",
      "           0       0.20      0.62      0.30     68879\n",
      "           1       0.91      0.62      0.74    450446\n",
      "\n",
      "    accuracy                           0.62    519325\n",
      "   macro avg       0.56      0.62      0.52    519325\n",
      "weighted avg       0.82      0.62      0.68    519325\n",
      "\n"
     ]
    }
   ],
   "source": [
    "from sklearn.metrics import classification_report\n",
    "print(classification_report(ytest, best_model.predict(Xtest)))"
   ]
  },
  {
   "cell_type": "markdown",
   "metadata": {},
   "source": [
    "### Merge test results back into the df to investigate the 'fully paid fails'"
   ]
  },
  {
   "cell_type": "code",
   "execution_count": 55,
   "metadata": {},
   "outputs": [],
   "source": [
    "model_results = pd.Series(best_model.predict(Xtest), index = Xtest.index, name=\"loan_status_predict\")"
   ]
  },
  {
   "cell_type": "code",
   "execution_count": 56,
   "metadata": {},
   "outputs": [],
   "source": [
    "df2 = pd.concat([Xtest, ytest, model_results], axis=1 )"
   ]
  },
  {
   "cell_type": "code",
   "execution_count": 57,
   "metadata": {},
   "outputs": [
    {
     "data": {
      "text/html": [
       "<div>\n",
       "<style scoped>\n",
       "    .dataframe tbody tr th:only-of-type {\n",
       "        vertical-align: middle;\n",
       "    }\n",
       "\n",
       "    .dataframe tbody tr th {\n",
       "        vertical-align: top;\n",
       "    }\n",
       "\n",
       "    .dataframe thead th {\n",
       "        text-align: right;\n",
       "    }\n",
       "</style>\n",
       "<table border=\"1\" class=\"dataframe\">\n",
       "  <thead>\n",
       "    <tr style=\"text-align: right;\">\n",
       "      <th></th>\n",
       "      <th>annual_inc</th>\n",
       "      <th>application_type</th>\n",
       "      <th>disbursement_method</th>\n",
       "      <th>dti</th>\n",
       "      <th>emp_length</th>\n",
       "      <th>initial_list_status</th>\n",
       "      <th>inq_last_6mths</th>\n",
       "      <th>int_rate</th>\n",
       "      <th>loan_amnt</th>\n",
       "      <th>open_acc</th>\n",
       "      <th>pub_rec</th>\n",
       "      <th>pub_rec_bankruptcies</th>\n",
       "      <th>sub_grade</th>\n",
       "      <th>verification_status</th>\n",
       "      <th>days_since_first_credit</th>\n",
       "      <th>fico_score_average</th>\n",
       "      <th>purpose__car</th>\n",
       "      <th>purpose__credit_card</th>\n",
       "      <th>purpose__educational</th>\n",
       "      <th>purpose__home_improvement</th>\n",
       "      <th>purpose__house</th>\n",
       "      <th>purpose__major_purchase</th>\n",
       "      <th>purpose__medical</th>\n",
       "      <th>purpose__moving</th>\n",
       "      <th>purpose__other</th>\n",
       "      <th>...</th>\n",
       "      <th>addr_state__NV</th>\n",
       "      <th>addr_state__NY</th>\n",
       "      <th>addr_state__OH</th>\n",
       "      <th>addr_state__OK</th>\n",
       "      <th>addr_state__OR</th>\n",
       "      <th>addr_state__PA</th>\n",
       "      <th>addr_state__RI</th>\n",
       "      <th>addr_state__SC</th>\n",
       "      <th>addr_state__SD</th>\n",
       "      <th>addr_state__TN</th>\n",
       "      <th>addr_state__TX</th>\n",
       "      <th>addr_state__UT</th>\n",
       "      <th>addr_state__VA</th>\n",
       "      <th>addr_state__VT</th>\n",
       "      <th>addr_state__WA</th>\n",
       "      <th>addr_state__WI</th>\n",
       "      <th>addr_state__WV</th>\n",
       "      <th>addr_state__WY</th>\n",
       "      <th>home_ownership__ANY</th>\n",
       "      <th>home_ownership__NONE</th>\n",
       "      <th>home_ownership__OTHER</th>\n",
       "      <th>home_ownership__OWN</th>\n",
       "      <th>home_ownership__RENT</th>\n",
       "      <th>loan_status</th>\n",
       "      <th>loan_status_predict</th>\n",
       "    </tr>\n",
       "    <tr>\n",
       "      <th>id</th>\n",
       "      <th></th>\n",
       "      <th></th>\n",
       "      <th></th>\n",
       "      <th></th>\n",
       "      <th></th>\n",
       "      <th></th>\n",
       "      <th></th>\n",
       "      <th></th>\n",
       "      <th></th>\n",
       "      <th></th>\n",
       "      <th></th>\n",
       "      <th></th>\n",
       "      <th></th>\n",
       "      <th></th>\n",
       "      <th></th>\n",
       "      <th></th>\n",
       "      <th></th>\n",
       "      <th></th>\n",
       "      <th></th>\n",
       "      <th></th>\n",
       "      <th></th>\n",
       "      <th></th>\n",
       "      <th></th>\n",
       "      <th></th>\n",
       "      <th></th>\n",
       "      <th></th>\n",
       "      <th></th>\n",
       "      <th></th>\n",
       "      <th></th>\n",
       "      <th></th>\n",
       "      <th></th>\n",
       "      <th></th>\n",
       "      <th></th>\n",
       "      <th></th>\n",
       "      <th></th>\n",
       "      <th></th>\n",
       "      <th></th>\n",
       "      <th></th>\n",
       "      <th></th>\n",
       "      <th></th>\n",
       "      <th></th>\n",
       "      <th></th>\n",
       "      <th></th>\n",
       "      <th></th>\n",
       "      <th></th>\n",
       "      <th></th>\n",
       "      <th></th>\n",
       "      <th></th>\n",
       "      <th></th>\n",
       "      <th></th>\n",
       "      <th></th>\n",
       "    </tr>\n",
       "  </thead>\n",
       "  <tbody>\n",
       "    <tr>\n",
       "      <th>54158796</th>\n",
       "      <td>34000.0</td>\n",
       "      <td>0</td>\n",
       "      <td>0</td>\n",
       "      <td>8.12</td>\n",
       "      <td>8</td>\n",
       "      <td>1</td>\n",
       "      <td>3.0</td>\n",
       "      <td>13.99</td>\n",
       "      <td>3600.0</td>\n",
       "      <td>7.0</td>\n",
       "      <td>0.0</td>\n",
       "      <td>0.0</td>\n",
       "      <td>14</td>\n",
       "      <td>0</td>\n",
       "      <td>7335</td>\n",
       "      <td>672.0</td>\n",
       "      <td>0</td>\n",
       "      <td>0</td>\n",
       "      <td>0</td>\n",
       "      <td>0</td>\n",
       "      <td>0</td>\n",
       "      <td>0</td>\n",
       "      <td>0</td>\n",
       "      <td>0</td>\n",
       "      <td>0</td>\n",
       "      <td>...</td>\n",
       "      <td>0</td>\n",
       "      <td>0</td>\n",
       "      <td>1</td>\n",
       "      <td>0</td>\n",
       "      <td>0</td>\n",
       "      <td>0</td>\n",
       "      <td>0</td>\n",
       "      <td>0</td>\n",
       "      <td>0</td>\n",
       "      <td>0</td>\n",
       "      <td>0</td>\n",
       "      <td>0</td>\n",
       "      <td>0</td>\n",
       "      <td>0</td>\n",
       "      <td>0</td>\n",
       "      <td>0</td>\n",
       "      <td>0</td>\n",
       "      <td>0</td>\n",
       "      <td>0</td>\n",
       "      <td>0</td>\n",
       "      <td>0</td>\n",
       "      <td>0</td>\n",
       "      <td>1</td>\n",
       "      <td>0</td>\n",
       "      <td>1</td>\n",
       "    </tr>\n",
       "    <tr>\n",
       "      <th>6935833</th>\n",
       "      <td>34000.0</td>\n",
       "      <td>0</td>\n",
       "      <td>0</td>\n",
       "      <td>11.36</td>\n",
       "      <td>5</td>\n",
       "      <td>1</td>\n",
       "      <td>0.0</td>\n",
       "      <td>8.90</td>\n",
       "      <td>8000.0</td>\n",
       "      <td>9.0</td>\n",
       "      <td>0.0</td>\n",
       "      <td>0.0</td>\n",
       "      <td>5</td>\n",
       "      <td>0</td>\n",
       "      <td>5753</td>\n",
       "      <td>707.0</td>\n",
       "      <td>0</td>\n",
       "      <td>0</td>\n",
       "      <td>0</td>\n",
       "      <td>0</td>\n",
       "      <td>0</td>\n",
       "      <td>0</td>\n",
       "      <td>0</td>\n",
       "      <td>0</td>\n",
       "      <td>0</td>\n",
       "      <td>...</td>\n",
       "      <td>0</td>\n",
       "      <td>0</td>\n",
       "      <td>0</td>\n",
       "      <td>0</td>\n",
       "      <td>0</td>\n",
       "      <td>0</td>\n",
       "      <td>0</td>\n",
       "      <td>0</td>\n",
       "      <td>0</td>\n",
       "      <td>0</td>\n",
       "      <td>0</td>\n",
       "      <td>0</td>\n",
       "      <td>0</td>\n",
       "      <td>0</td>\n",
       "      <td>0</td>\n",
       "      <td>0</td>\n",
       "      <td>0</td>\n",
       "      <td>0</td>\n",
       "      <td>0</td>\n",
       "      <td>0</td>\n",
       "      <td>0</td>\n",
       "      <td>0</td>\n",
       "      <td>1</td>\n",
       "      <td>0</td>\n",
       "      <td>1</td>\n",
       "    </tr>\n",
       "    <tr>\n",
       "      <th>3644982</th>\n",
       "      <td>29823.0</td>\n",
       "      <td>0</td>\n",
       "      <td>0</td>\n",
       "      <td>11.40</td>\n",
       "      <td>3</td>\n",
       "      <td>1</td>\n",
       "      <td>1.0</td>\n",
       "      <td>14.33</td>\n",
       "      <td>10000.0</td>\n",
       "      <td>7.0</td>\n",
       "      <td>0.0</td>\n",
       "      <td>0.0</td>\n",
       "      <td>11</td>\n",
       "      <td>1</td>\n",
       "      <td>2131</td>\n",
       "      <td>702.0</td>\n",
       "      <td>0</td>\n",
       "      <td>1</td>\n",
       "      <td>0</td>\n",
       "      <td>0</td>\n",
       "      <td>0</td>\n",
       "      <td>0</td>\n",
       "      <td>0</td>\n",
       "      <td>0</td>\n",
       "      <td>0</td>\n",
       "      <td>...</td>\n",
       "      <td>0</td>\n",
       "      <td>0</td>\n",
       "      <td>0</td>\n",
       "      <td>0</td>\n",
       "      <td>0</td>\n",
       "      <td>0</td>\n",
       "      <td>0</td>\n",
       "      <td>0</td>\n",
       "      <td>0</td>\n",
       "      <td>0</td>\n",
       "      <td>0</td>\n",
       "      <td>0</td>\n",
       "      <td>0</td>\n",
       "      <td>0</td>\n",
       "      <td>0</td>\n",
       "      <td>0</td>\n",
       "      <td>0</td>\n",
       "      <td>0</td>\n",
       "      <td>0</td>\n",
       "      <td>0</td>\n",
       "      <td>0</td>\n",
       "      <td>0</td>\n",
       "      <td>1</td>\n",
       "      <td>0</td>\n",
       "      <td>1</td>\n",
       "    </tr>\n",
       "    <tr>\n",
       "      <th>50233800</th>\n",
       "      <td>55000.0</td>\n",
       "      <td>0</td>\n",
       "      <td>0</td>\n",
       "      <td>19.11</td>\n",
       "      <td>5</td>\n",
       "      <td>0</td>\n",
       "      <td>0.0</td>\n",
       "      <td>11.53</td>\n",
       "      <td>4000.0</td>\n",
       "      <td>11.0</td>\n",
       "      <td>0.0</td>\n",
       "      <td>0.0</td>\n",
       "      <td>10</td>\n",
       "      <td>0</td>\n",
       "      <td>5202</td>\n",
       "      <td>682.0</td>\n",
       "      <td>0</td>\n",
       "      <td>0</td>\n",
       "      <td>0</td>\n",
       "      <td>0</td>\n",
       "      <td>0</td>\n",
       "      <td>0</td>\n",
       "      <td>0</td>\n",
       "      <td>0</td>\n",
       "      <td>0</td>\n",
       "      <td>...</td>\n",
       "      <td>0</td>\n",
       "      <td>0</td>\n",
       "      <td>0</td>\n",
       "      <td>0</td>\n",
       "      <td>0</td>\n",
       "      <td>0</td>\n",
       "      <td>0</td>\n",
       "      <td>0</td>\n",
       "      <td>0</td>\n",
       "      <td>0</td>\n",
       "      <td>0</td>\n",
       "      <td>0</td>\n",
       "      <td>0</td>\n",
       "      <td>0</td>\n",
       "      <td>0</td>\n",
       "      <td>0</td>\n",
       "      <td>0</td>\n",
       "      <td>0</td>\n",
       "      <td>0</td>\n",
       "      <td>0</td>\n",
       "      <td>0</td>\n",
       "      <td>0</td>\n",
       "      <td>1</td>\n",
       "      <td>0</td>\n",
       "      <td>1</td>\n",
       "    </tr>\n",
       "    <tr>\n",
       "      <th>799313</th>\n",
       "      <td>60000.0</td>\n",
       "      <td>0</td>\n",
       "      <td>0</td>\n",
       "      <td>4.72</td>\n",
       "      <td>10</td>\n",
       "      <td>1</td>\n",
       "      <td>1.0</td>\n",
       "      <td>13.99</td>\n",
       "      <td>5400.0</td>\n",
       "      <td>8.0</td>\n",
       "      <td>0.0</td>\n",
       "      <td>0.0</td>\n",
       "      <td>13</td>\n",
       "      <td>1</td>\n",
       "      <td>6512</td>\n",
       "      <td>677.0</td>\n",
       "      <td>0</td>\n",
       "      <td>0</td>\n",
       "      <td>0</td>\n",
       "      <td>0</td>\n",
       "      <td>0</td>\n",
       "      <td>0</td>\n",
       "      <td>0</td>\n",
       "      <td>0</td>\n",
       "      <td>0</td>\n",
       "      <td>...</td>\n",
       "      <td>0</td>\n",
       "      <td>1</td>\n",
       "      <td>0</td>\n",
       "      <td>0</td>\n",
       "      <td>0</td>\n",
       "      <td>0</td>\n",
       "      <td>0</td>\n",
       "      <td>0</td>\n",
       "      <td>0</td>\n",
       "      <td>0</td>\n",
       "      <td>0</td>\n",
       "      <td>0</td>\n",
       "      <td>0</td>\n",
       "      <td>0</td>\n",
       "      <td>0</td>\n",
       "      <td>0</td>\n",
       "      <td>0</td>\n",
       "      <td>0</td>\n",
       "      <td>0</td>\n",
       "      <td>0</td>\n",
       "      <td>0</td>\n",
       "      <td>0</td>\n",
       "      <td>1</td>\n",
       "      <td>0</td>\n",
       "      <td>1</td>\n",
       "    </tr>\n",
       "    <tr>\n",
       "      <th>...</th>\n",
       "      <td>...</td>\n",
       "      <td>...</td>\n",
       "      <td>...</td>\n",
       "      <td>...</td>\n",
       "      <td>...</td>\n",
       "      <td>...</td>\n",
       "      <td>...</td>\n",
       "      <td>...</td>\n",
       "      <td>...</td>\n",
       "      <td>...</td>\n",
       "      <td>...</td>\n",
       "      <td>...</td>\n",
       "      <td>...</td>\n",
       "      <td>...</td>\n",
       "      <td>...</td>\n",
       "      <td>...</td>\n",
       "      <td>...</td>\n",
       "      <td>...</td>\n",
       "      <td>...</td>\n",
       "      <td>...</td>\n",
       "      <td>...</td>\n",
       "      <td>...</td>\n",
       "      <td>...</td>\n",
       "      <td>...</td>\n",
       "      <td>...</td>\n",
       "      <td>...</td>\n",
       "      <td>...</td>\n",
       "      <td>...</td>\n",
       "      <td>...</td>\n",
       "      <td>...</td>\n",
       "      <td>...</td>\n",
       "      <td>...</td>\n",
       "      <td>...</td>\n",
       "      <td>...</td>\n",
       "      <td>...</td>\n",
       "      <td>...</td>\n",
       "      <td>...</td>\n",
       "      <td>...</td>\n",
       "      <td>...</td>\n",
       "      <td>...</td>\n",
       "      <td>...</td>\n",
       "      <td>...</td>\n",
       "      <td>...</td>\n",
       "      <td>...</td>\n",
       "      <td>...</td>\n",
       "      <td>...</td>\n",
       "      <td>...</td>\n",
       "      <td>...</td>\n",
       "      <td>...</td>\n",
       "      <td>...</td>\n",
       "      <td>...</td>\n",
       "    </tr>\n",
       "    <tr>\n",
       "      <th>55967440</th>\n",
       "      <td>186000.0</td>\n",
       "      <td>0</td>\n",
       "      <td>0</td>\n",
       "      <td>2.18</td>\n",
       "      <td>10</td>\n",
       "      <td>1</td>\n",
       "      <td>4.0</td>\n",
       "      <td>15.61</td>\n",
       "      <td>15000.0</td>\n",
       "      <td>11.0</td>\n",
       "      <td>0.0</td>\n",
       "      <td>0.0</td>\n",
       "      <td>16</td>\n",
       "      <td>1</td>\n",
       "      <td>3103</td>\n",
       "      <td>707.0</td>\n",
       "      <td>0</td>\n",
       "      <td>0</td>\n",
       "      <td>0</td>\n",
       "      <td>1</td>\n",
       "      <td>0</td>\n",
       "      <td>0</td>\n",
       "      <td>0</td>\n",
       "      <td>0</td>\n",
       "      <td>0</td>\n",
       "      <td>...</td>\n",
       "      <td>0</td>\n",
       "      <td>0</td>\n",
       "      <td>0</td>\n",
       "      <td>0</td>\n",
       "      <td>0</td>\n",
       "      <td>0</td>\n",
       "      <td>0</td>\n",
       "      <td>0</td>\n",
       "      <td>0</td>\n",
       "      <td>0</td>\n",
       "      <td>0</td>\n",
       "      <td>0</td>\n",
       "      <td>0</td>\n",
       "      <td>0</td>\n",
       "      <td>0</td>\n",
       "      <td>0</td>\n",
       "      <td>0</td>\n",
       "      <td>0</td>\n",
       "      <td>0</td>\n",
       "      <td>0</td>\n",
       "      <td>0</td>\n",
       "      <td>0</td>\n",
       "      <td>0</td>\n",
       "      <td>0</td>\n",
       "      <td>1</td>\n",
       "    </tr>\n",
       "    <tr>\n",
       "      <th>1242216</th>\n",
       "      <td>119000.0</td>\n",
       "      <td>0</td>\n",
       "      <td>0</td>\n",
       "      <td>9.99</td>\n",
       "      <td>10</td>\n",
       "      <td>1</td>\n",
       "      <td>3.0</td>\n",
       "      <td>15.31</td>\n",
       "      <td>16000.0</td>\n",
       "      <td>21.0</td>\n",
       "      <td>1.0</td>\n",
       "      <td>1.0</td>\n",
       "      <td>13</td>\n",
       "      <td>0</td>\n",
       "      <td>8552</td>\n",
       "      <td>692.0</td>\n",
       "      <td>0</td>\n",
       "      <td>1</td>\n",
       "      <td>0</td>\n",
       "      <td>0</td>\n",
       "      <td>0</td>\n",
       "      <td>0</td>\n",
       "      <td>0</td>\n",
       "      <td>0</td>\n",
       "      <td>0</td>\n",
       "      <td>...</td>\n",
       "      <td>0</td>\n",
       "      <td>0</td>\n",
       "      <td>0</td>\n",
       "      <td>0</td>\n",
       "      <td>0</td>\n",
       "      <td>0</td>\n",
       "      <td>0</td>\n",
       "      <td>1</td>\n",
       "      <td>0</td>\n",
       "      <td>0</td>\n",
       "      <td>0</td>\n",
       "      <td>0</td>\n",
       "      <td>0</td>\n",
       "      <td>0</td>\n",
       "      <td>0</td>\n",
       "      <td>0</td>\n",
       "      <td>0</td>\n",
       "      <td>0</td>\n",
       "      <td>0</td>\n",
       "      <td>0</td>\n",
       "      <td>0</td>\n",
       "      <td>0</td>\n",
       "      <td>0</td>\n",
       "      <td>0</td>\n",
       "      <td>1</td>\n",
       "    </tr>\n",
       "    <tr>\n",
       "      <th>32199411</th>\n",
       "      <td>64800.0</td>\n",
       "      <td>0</td>\n",
       "      <td>0</td>\n",
       "      <td>25.00</td>\n",
       "      <td>1</td>\n",
       "      <td>1</td>\n",
       "      <td>0.0</td>\n",
       "      <td>10.15</td>\n",
       "      <td>9000.0</td>\n",
       "      <td>13.0</td>\n",
       "      <td>1.0</td>\n",
       "      <td>1.0</td>\n",
       "      <td>7</td>\n",
       "      <td>0</td>\n",
       "      <td>9345</td>\n",
       "      <td>662.0</td>\n",
       "      <td>0</td>\n",
       "      <td>0</td>\n",
       "      <td>0</td>\n",
       "      <td>0</td>\n",
       "      <td>0</td>\n",
       "      <td>0</td>\n",
       "      <td>0</td>\n",
       "      <td>0</td>\n",
       "      <td>0</td>\n",
       "      <td>...</td>\n",
       "      <td>0</td>\n",
       "      <td>0</td>\n",
       "      <td>0</td>\n",
       "      <td>0</td>\n",
       "      <td>0</td>\n",
       "      <td>0</td>\n",
       "      <td>0</td>\n",
       "      <td>0</td>\n",
       "      <td>0</td>\n",
       "      <td>0</td>\n",
       "      <td>0</td>\n",
       "      <td>0</td>\n",
       "      <td>0</td>\n",
       "      <td>0</td>\n",
       "      <td>0</td>\n",
       "      <td>0</td>\n",
       "      <td>0</td>\n",
       "      <td>0</td>\n",
       "      <td>0</td>\n",
       "      <td>0</td>\n",
       "      <td>0</td>\n",
       "      <td>0</td>\n",
       "      <td>1</td>\n",
       "      <td>0</td>\n",
       "      <td>1</td>\n",
       "    </tr>\n",
       "    <tr>\n",
       "      <th>1420724</th>\n",
       "      <td>37000.0</td>\n",
       "      <td>0</td>\n",
       "      <td>0</td>\n",
       "      <td>0.81</td>\n",
       "      <td>0</td>\n",
       "      <td>1</td>\n",
       "      <td>0.0</td>\n",
       "      <td>14.09</td>\n",
       "      <td>6000.0</td>\n",
       "      <td>5.0</td>\n",
       "      <td>0.0</td>\n",
       "      <td>0.0</td>\n",
       "      <td>10</td>\n",
       "      <td>1</td>\n",
       "      <td>1218</td>\n",
       "      <td>697.0</td>\n",
       "      <td>0</td>\n",
       "      <td>0</td>\n",
       "      <td>0</td>\n",
       "      <td>0</td>\n",
       "      <td>0</td>\n",
       "      <td>0</td>\n",
       "      <td>0</td>\n",
       "      <td>0</td>\n",
       "      <td>0</td>\n",
       "      <td>...</td>\n",
       "      <td>0</td>\n",
       "      <td>0</td>\n",
       "      <td>0</td>\n",
       "      <td>1</td>\n",
       "      <td>0</td>\n",
       "      <td>0</td>\n",
       "      <td>0</td>\n",
       "      <td>0</td>\n",
       "      <td>0</td>\n",
       "      <td>0</td>\n",
       "      <td>0</td>\n",
       "      <td>0</td>\n",
       "      <td>0</td>\n",
       "      <td>0</td>\n",
       "      <td>0</td>\n",
       "      <td>0</td>\n",
       "      <td>0</td>\n",
       "      <td>0</td>\n",
       "      <td>0</td>\n",
       "      <td>0</td>\n",
       "      <td>0</td>\n",
       "      <td>0</td>\n",
       "      <td>0</td>\n",
       "      <td>0</td>\n",
       "      <td>1</td>\n",
       "    </tr>\n",
       "    <tr>\n",
       "      <th>13206823</th>\n",
       "      <td>85000.0</td>\n",
       "      <td>0</td>\n",
       "      <td>0</td>\n",
       "      <td>34.27</td>\n",
       "      <td>10</td>\n",
       "      <td>0</td>\n",
       "      <td>0.0</td>\n",
       "      <td>6.62</td>\n",
       "      <td>10000.0</td>\n",
       "      <td>27.0</td>\n",
       "      <td>0.0</td>\n",
       "      <td>0.0</td>\n",
       "      <td>2</td>\n",
       "      <td>1</td>\n",
       "      <td>14001</td>\n",
       "      <td>752.0</td>\n",
       "      <td>0</td>\n",
       "      <td>1</td>\n",
       "      <td>0</td>\n",
       "      <td>0</td>\n",
       "      <td>0</td>\n",
       "      <td>0</td>\n",
       "      <td>0</td>\n",
       "      <td>0</td>\n",
       "      <td>0</td>\n",
       "      <td>...</td>\n",
       "      <td>0</td>\n",
       "      <td>0</td>\n",
       "      <td>0</td>\n",
       "      <td>0</td>\n",
       "      <td>0</td>\n",
       "      <td>0</td>\n",
       "      <td>0</td>\n",
       "      <td>0</td>\n",
       "      <td>0</td>\n",
       "      <td>0</td>\n",
       "      <td>0</td>\n",
       "      <td>0</td>\n",
       "      <td>0</td>\n",
       "      <td>0</td>\n",
       "      <td>0</td>\n",
       "      <td>0</td>\n",
       "      <td>0</td>\n",
       "      <td>0</td>\n",
       "      <td>0</td>\n",
       "      <td>0</td>\n",
       "      <td>0</td>\n",
       "      <td>0</td>\n",
       "      <td>1</td>\n",
       "      <td>0</td>\n",
       "      <td>1</td>\n",
       "    </tr>\n",
       "  </tbody>\n",
       "</table>\n",
       "<p>26452 rows × 86 columns</p>\n",
       "</div>"
      ],
      "text/plain": [
       "          annual_inc  application_type  disbursement_method    dti  \\\n",
       "id                                                                   \n",
       "54158796     34000.0                 0                    0   8.12   \n",
       "6935833      34000.0                 0                    0  11.36   \n",
       "3644982      29823.0                 0                    0  11.40   \n",
       "50233800     55000.0                 0                    0  19.11   \n",
       "799313       60000.0                 0                    0   4.72   \n",
       "...              ...               ...                  ...    ...   \n",
       "55967440    186000.0                 0                    0   2.18   \n",
       "1242216     119000.0                 0                    0   9.99   \n",
       "32199411     64800.0                 0                    0  25.00   \n",
       "1420724      37000.0                 0                    0   0.81   \n",
       "13206823     85000.0                 0                    0  34.27   \n",
       "\n",
       "          emp_length  initial_list_status  inq_last_6mths  int_rate  \\\n",
       "id                                                                    \n",
       "54158796           8                    1             3.0     13.99   \n",
       "6935833            5                    1             0.0      8.90   \n",
       "3644982            3                    1             1.0     14.33   \n",
       "50233800           5                    0             0.0     11.53   \n",
       "799313            10                    1             1.0     13.99   \n",
       "...              ...                  ...             ...       ...   \n",
       "55967440          10                    1             4.0     15.61   \n",
       "1242216           10                    1             3.0     15.31   \n",
       "32199411           1                    1             0.0     10.15   \n",
       "1420724            0                    1             0.0     14.09   \n",
       "13206823          10                    0             0.0      6.62   \n",
       "\n",
       "          loan_amnt  open_acc  pub_rec  pub_rec_bankruptcies  sub_grade  \\\n",
       "id                                                                        \n",
       "54158796     3600.0       7.0      0.0                   0.0         14   \n",
       "6935833      8000.0       9.0      0.0                   0.0          5   \n",
       "3644982     10000.0       7.0      0.0                   0.0         11   \n",
       "50233800     4000.0      11.0      0.0                   0.0         10   \n",
       "799313       5400.0       8.0      0.0                   0.0         13   \n",
       "...             ...       ...      ...                   ...        ...   \n",
       "55967440    15000.0      11.0      0.0                   0.0         16   \n",
       "1242216     16000.0      21.0      1.0                   1.0         13   \n",
       "32199411     9000.0      13.0      1.0                   1.0          7   \n",
       "1420724      6000.0       5.0      0.0                   0.0         10   \n",
       "13206823    10000.0      27.0      0.0                   0.0          2   \n",
       "\n",
       "          verification_status  days_since_first_credit  fico_score_average  \\\n",
       "id                                                                           \n",
       "54158796                    0                     7335               672.0   \n",
       "6935833                     0                     5753               707.0   \n",
       "3644982                     1                     2131               702.0   \n",
       "50233800                    0                     5202               682.0   \n",
       "799313                      1                     6512               677.0   \n",
       "...                       ...                      ...                 ...   \n",
       "55967440                    1                     3103               707.0   \n",
       "1242216                     0                     8552               692.0   \n",
       "32199411                    0                     9345               662.0   \n",
       "1420724                     1                     1218               697.0   \n",
       "13206823                    1                    14001               752.0   \n",
       "\n",
       "          purpose__car  purpose__credit_card  purpose__educational  \\\n",
       "id                                                                   \n",
       "54158796             0                     0                     0   \n",
       "6935833              0                     0                     0   \n",
       "3644982              0                     1                     0   \n",
       "50233800             0                     0                     0   \n",
       "799313               0                     0                     0   \n",
       "...                ...                   ...                   ...   \n",
       "55967440             0                     0                     0   \n",
       "1242216              0                     1                     0   \n",
       "32199411             0                     0                     0   \n",
       "1420724              0                     0                     0   \n",
       "13206823             0                     1                     0   \n",
       "\n",
       "          purpose__home_improvement  purpose__house  purpose__major_purchase  \\\n",
       "id                                                                             \n",
       "54158796                          0               0                        0   \n",
       "6935833                           0               0                        0   \n",
       "3644982                           0               0                        0   \n",
       "50233800                          0               0                        0   \n",
       "799313                            0               0                        0   \n",
       "...                             ...             ...                      ...   \n",
       "55967440                          1               0                        0   \n",
       "1242216                           0               0                        0   \n",
       "32199411                          0               0                        0   \n",
       "1420724                           0               0                        0   \n",
       "13206823                          0               0                        0   \n",
       "\n",
       "          purpose__medical  purpose__moving  purpose__other  ...  \\\n",
       "id                                                           ...   \n",
       "54158796                 0                0               0  ...   \n",
       "6935833                  0                0               0  ...   \n",
       "3644982                  0                0               0  ...   \n",
       "50233800                 0                0               0  ...   \n",
       "799313                   0                0               0  ...   \n",
       "...                    ...              ...             ...  ...   \n",
       "55967440                 0                0               0  ...   \n",
       "1242216                  0                0               0  ...   \n",
       "32199411                 0                0               0  ...   \n",
       "1420724                  0                0               0  ...   \n",
       "13206823                 0                0               0  ...   \n",
       "\n",
       "          addr_state__NV  addr_state__NY  addr_state__OH  addr_state__OK  \\\n",
       "id                                                                         \n",
       "54158796               0               0               1               0   \n",
       "6935833                0               0               0               0   \n",
       "3644982                0               0               0               0   \n",
       "50233800               0               0               0               0   \n",
       "799313                 0               1               0               0   \n",
       "...                  ...             ...             ...             ...   \n",
       "55967440               0               0               0               0   \n",
       "1242216                0               0               0               0   \n",
       "32199411               0               0               0               0   \n",
       "1420724                0               0               0               1   \n",
       "13206823               0               0               0               0   \n",
       "\n",
       "          addr_state__OR  addr_state__PA  addr_state__RI  addr_state__SC  \\\n",
       "id                                                                         \n",
       "54158796               0               0               0               0   \n",
       "6935833                0               0               0               0   \n",
       "3644982                0               0               0               0   \n",
       "50233800               0               0               0               0   \n",
       "799313                 0               0               0               0   \n",
       "...                  ...             ...             ...             ...   \n",
       "55967440               0               0               0               0   \n",
       "1242216                0               0               0               1   \n",
       "32199411               0               0               0               0   \n",
       "1420724                0               0               0               0   \n",
       "13206823               0               0               0               0   \n",
       "\n",
       "          addr_state__SD  addr_state__TN  addr_state__TX  addr_state__UT  \\\n",
       "id                                                                         \n",
       "54158796               0               0               0               0   \n",
       "6935833                0               0               0               0   \n",
       "3644982                0               0               0               0   \n",
       "50233800               0               0               0               0   \n",
       "799313                 0               0               0               0   \n",
       "...                  ...             ...             ...             ...   \n",
       "55967440               0               0               0               0   \n",
       "1242216                0               0               0               0   \n",
       "32199411               0               0               0               0   \n",
       "1420724                0               0               0               0   \n",
       "13206823               0               0               0               0   \n",
       "\n",
       "          addr_state__VA  addr_state__VT  addr_state__WA  addr_state__WI  \\\n",
       "id                                                                         \n",
       "54158796               0               0               0               0   \n",
       "6935833                0               0               0               0   \n",
       "3644982                0               0               0               0   \n",
       "50233800               0               0               0               0   \n",
       "799313                 0               0               0               0   \n",
       "...                  ...             ...             ...             ...   \n",
       "55967440               0               0               0               0   \n",
       "1242216                0               0               0               0   \n",
       "32199411               0               0               0               0   \n",
       "1420724                0               0               0               0   \n",
       "13206823               0               0               0               0   \n",
       "\n",
       "          addr_state__WV  addr_state__WY  home_ownership__ANY  \\\n",
       "id                                                              \n",
       "54158796               0               0                    0   \n",
       "6935833                0               0                    0   \n",
       "3644982                0               0                    0   \n",
       "50233800               0               0                    0   \n",
       "799313                 0               0                    0   \n",
       "...                  ...             ...                  ...   \n",
       "55967440               0               0                    0   \n",
       "1242216                0               0                    0   \n",
       "32199411               0               0                    0   \n",
       "1420724                0               0                    0   \n",
       "13206823               0               0                    0   \n",
       "\n",
       "          home_ownership__NONE  home_ownership__OTHER  home_ownership__OWN  \\\n",
       "id                                                                           \n",
       "54158796                     0                      0                    0   \n",
       "6935833                      0                      0                    0   \n",
       "3644982                      0                      0                    0   \n",
       "50233800                     0                      0                    0   \n",
       "799313                       0                      0                    0   \n",
       "...                        ...                    ...                  ...   \n",
       "55967440                     0                      0                    0   \n",
       "1242216                      0                      0                    0   \n",
       "32199411                     0                      0                    0   \n",
       "1420724                      0                      0                    0   \n",
       "13206823                     0                      0                    0   \n",
       "\n",
       "          home_ownership__RENT  loan_status  loan_status_predict  \n",
       "id                                                                \n",
       "54158796                     1            0                    1  \n",
       "6935833                      1            0                    1  \n",
       "3644982                      1            0                    1  \n",
       "50233800                     1            0                    1  \n",
       "799313                       1            0                    1  \n",
       "...                        ...          ...                  ...  \n",
       "55967440                     0            0                    1  \n",
       "1242216                      0            0                    1  \n",
       "32199411                     1            0                    1  \n",
       "1420724                      0            0                    1  \n",
       "13206823                     1            0                    1  \n",
       "\n",
       "[26452 rows x 86 columns]"
      ]
     },
     "execution_count": 57,
     "metadata": {},
     "output_type": "execute_result"
    }
   ],
   "source": [
    "fails = df2.loc[(df2['loan_status'] == 0) & (df2['loan_status_predict'] == 1)]\n",
    "fails"
   ]
  },
  {
   "cell_type": "markdown",
   "metadata": {},
   "source": [
    "### PnL analysis"
   ]
  },
  {
   "cell_type": "code",
   "execution_count": 58,
   "metadata": {},
   "outputs": [],
   "source": [
    "model_port = df2.loc[df2['loan_status_predict'] == 1]"
   ]
  },
  {
   "cell_type": "code",
   "execution_count": 59,
   "metadata": {},
   "outputs": [],
   "source": [
    "PnL = df_full['PnL']"
   ]
  },
  {
   "cell_type": "code",
   "execution_count": 60,
   "metadata": {},
   "outputs": [],
   "source": [
    "model_port = model_port.merge(PnL, how='inner',left_index=True,right_index=True)"
   ]
  },
  {
   "cell_type": "code",
   "execution_count": 61,
   "metadata": {},
   "outputs": [
    {
     "name": "stdout",
     "output_type": "stream",
     "text": [
      "Total investment for Model Portfolio: 3985195325\n",
      "Total PnL for Model Portfolio: 340429811\n",
      "Return for Model Portfolio: 8.54%\n"
     ]
    }
   ],
   "source": [
    "print(f'Total investment for Model Portfolio: {model_port.loan_amnt.sum():.0f}')\n",
    "print(f'Total PnL for Model Portfolio: {model_port.PnL.sum():.0f}')\n",
    "print(f'Return for Model Portfolio: {(model_port.PnL.sum()/model_port.loan_amnt.sum())*100:.2f}%')"
   ]
  },
  {
   "cell_type": "code",
   "execution_count": 62,
   "metadata": {},
   "outputs": [],
   "source": [
    "null_port = df2.merge(PnL, how='inner',left_index=True,right_index=True)"
   ]
  },
  {
   "cell_type": "code",
   "execution_count": 64,
   "metadata": {},
   "outputs": [
    {
     "name": "stdout",
     "output_type": "stream",
     "text": [
      "Total investment for Null Portfolio: 6574531275\n",
      "Total PnL for Null Portfolio: 552100998\n",
      "Return for Null Portfolio: 8.40%\n"
     ]
    }
   ],
   "source": [
    "print(f'Total investment for Null Portfolio: {null_port.loan_amnt.sum():.0f}')\n",
    "print(f'Total PnL for Null Portfolio: {null_port.PnL.sum():.0f}')\n",
    "print(f'Return for Null Portfolio: {(null_port.PnL.sum()/null_port.loan_amnt.sum())*100:.2f}%')"
   ]
  },
  {
   "cell_type": "code",
   "execution_count": 65,
   "metadata": {},
   "outputs": [
    {
     "data": {
      "text/plain": [
       "(519325, 87)"
      ]
     },
     "execution_count": 65,
     "metadata": {},
     "output_type": "execute_result"
    }
   ],
   "source": [
    "null_port.shape"
   ]
  },
  {
   "cell_type": "code",
   "execution_count": null,
   "metadata": {},
   "outputs": [],
   "source": []
  },
  {
   "cell_type": "code",
   "execution_count": 138,
   "metadata": {
    "scrolled": true
   },
   "outputs": [
    {
     "data": {
      "text/plain": [
       "215537568.11461204"
      ]
     },
     "execution_count": 138,
     "metadata": {},
     "output_type": "execute_result"
    }
   ],
   "source": [
    "null_port.loc[null_port['loan_status_predict'] == 0].PnL.sum()"
   ]
  },
  {
   "cell_type": "code",
   "execution_count": 140,
   "metadata": {},
   "outputs": [
    {
     "data": {
      "text/plain": [
       "-193354091.0400848"
      ]
     },
     "execution_count": 140,
     "metadata": {},
     "output_type": "execute_result"
    }
   ],
   "source": [
    "null_port.loc[(null_port['loan_status_predict'] == 0) & (null_port['loan_status'] == 0)].PnL.sum()"
   ]
  },
  {
   "cell_type": "code",
   "execution_count": 141,
   "metadata": {},
   "outputs": [
    {
     "data": {
      "text/plain": [
       "408891659.1546968"
      ]
     },
     "execution_count": 141,
     "metadata": {},
     "output_type": "execute_result"
    }
   ],
   "source": [
    "null_port.loc[(null_port['loan_status_predict'] == 0) & (null_port['loan_status'] == 1)].PnL.sum()"
   ]
  },
  {
   "cell_type": "code",
   "execution_count": 142,
   "metadata": {},
   "outputs": [
    {
     "data": {
      "text/plain": [
       "1    305580\n",
       "0    213745\n",
       "Name: loan_status_predict, dtype: int64"
      ]
     },
     "execution_count": 142,
     "metadata": {},
     "output_type": "execute_result"
    }
   ],
   "source": [
    "null_port.loan_status_predict.value_counts()"
   ]
  },
  {
   "cell_type": "markdown",
   "metadata": {},
   "source": [
    "### Research the model fails"
   ]
  },
  {
   "cell_type": "code",
   "execution_count": 83,
   "metadata": {},
   "outputs": [
    {
     "data": {
      "text/plain": [
       "<AxesSubplot:xlabel='sub_grade', ylabel='count'>"
      ]
     },
     "execution_count": 83,
     "metadata": {},
     "output_type": "execute_result"
    },
    {
     "data": {
      "image/png": "[encoded data removed]",
      "text/plain": [
       "<Figure size 720x288 with 2 Axes>"
      ]
     },
     "metadata": {
      "needs_background": "light"
     },
     "output_type": "display_data"
    }
   ],
   "source": [
    "fig, (ax1,ax2) = plt.subplots(1,2, figsize=(10,4))  # 1 row, 2 columns\n",
    "sns.countplot(x=fails['sub_grade'],ax=ax1)\n",
    "sns.countplot(x=Xtest['sub_grade'],ax=ax2)"
   ]
  },
  {
   "cell_type": "code",
   "execution_count": 84,
   "metadata": {},
   "outputs": [
    {
     "data": {
      "text/plain": [
       "(0.0, 40.0)"
      ]
     },
     "execution_count": 84,
     "metadata": {},
     "output_type": "execute_result"
    },
    {
     "data": {
      "image/png": "[encoded data removed]",
      "text/plain": [
       "<Figure size 720x288 with 2 Axes>"
      ]
     },
     "metadata": {
      "needs_background": "light"
     },
     "output_type": "display_data"
    }
   ],
   "source": [
    "fig, (ax1,ax2) = plt.subplots(1,2, figsize=(10,4))\n",
    "sns.histplot(data=fails, x=\"dti\", ax=ax1)\n",
    "sns.histplot(data=Xtest, x=\"dti\", ax=ax2)\n",
    "plt.xlim(0, 40)\n",
    "# plt.show()"
   ]
  },
  {
   "cell_type": "code",
   "execution_count": 85,
   "metadata": {},
   "outputs": [
    {
     "data": {
      "text/plain": [
       "<AxesSubplot:xlabel='int_rate', ylabel='Count'>"
      ]
     },
     "execution_count": 85,
     "metadata": {},
     "output_type": "execute_result"
    },
    {
     "data": {
      "image/png": "[encoded data removed]",
      "text/plain": [
       "<Figure size 720x288 with 2 Axes>"
      ]
     },
     "metadata": {
      "needs_background": "light"
     },
     "output_type": "display_data"
    }
   ],
   "source": [
    "fig, (ax1,ax2) = plt.subplots(1,2, figsize=(10,4))\n",
    "sns.histplot(data=fails, x=\"int_rate\", ax=ax1)\n",
    "sns.histplot(data=Xtest, x=\"int_rate\", ax=ax2)"
   ]
  },
  {
   "cell_type": "code",
   "execution_count": 86,
   "metadata": {},
   "outputs": [
    {
     "data": {
      "text/plain": [
       "<AxesSubplot:xlabel='emp_length', ylabel='Count'>"
      ]
     },
     "execution_count": 86,
     "metadata": {},
     "output_type": "execute_result"
    },
    {
     "data": {
      "image/png": "[encoded data removed]",
      "text/plain": [
       "<Figure size 720x288 with 2 Axes>"
      ]
     },
     "metadata": {
      "needs_background": "light"
     },
     "output_type": "display_data"
    }
   ],
   "source": [
    "fig, (ax1,ax2) = plt.subplots(1,2, figsize=(10,4))\n",
    "sns.histplot(data=fails, x=\"emp_length\", ax=ax1)\n",
    "sns.histplot(data=Xtest, x=\"emp_length\", ax=ax2)"
   ]
  },
  {
   "cell_type": "code",
   "execution_count": 87,
   "metadata": {},
   "outputs": [
    {
     "data": {
      "text/plain": [
       "<AxesSubplot:xlabel='fico_score_average', ylabel='Count'>"
      ]
     },
     "execution_count": 87,
     "metadata": {},
     "output_type": "execute_result"
    },
    {
     "data": {
      "image/png": "[encoded data removed]",
      "text/plain": [
       "<Figure size 720x288 with 2 Axes>"
      ]
     },
     "metadata": {
      "needs_background": "light"
     },
     "output_type": "display_data"
    }
   ],
   "source": [
    "fig, (ax1,ax2) = plt.subplots(1,2, figsize=(10,4))\n",
    "sns.histplot(data=fails, x=\"fico_score_average\", ax=ax1)\n",
    "sns.histplot(data=Xtest, x=\"fico_score_average\", ax=ax2)"
   ]
  },
  {
   "cell_type": "code",
   "execution_count": 88,
   "metadata": {},
   "outputs": [
    {
     "data": {
      "text/plain": [
       "<AxesSubplot:xlabel='open_acc', ylabel='Count'>"
      ]
     },
     "execution_count": 88,
     "metadata": {},
     "output_type": "execute_result"
    },
    {
     "data": {
      "image/png": "[encoded data removed]",
      "text/plain": [
       "<Figure size 720x288 with 2 Axes>"
      ]
     },
     "metadata": {
      "needs_background": "light"
     },
     "output_type": "display_data"
    }
   ],
   "source": [
    "fig, (ax1,ax2) = plt.subplots(1,2, figsize=(10,4))\n",
    "sns.histplot(data=fails, x=\"open_acc\", ax=ax1)\n",
    "sns.histplot(data=Xtest, x=\"open_acc\", ax=ax2)"
   ]
  },
  {
   "cell_type": "code",
   "execution_count": null,
   "metadata": {},
   "outputs": [],
   "source": []
  },
  {
   "cell_type": "code",
   "execution_count": null,
   "metadata": {},
   "outputs": [],
   "source": []
  },
  {
   "cell_type": "code",
   "execution_count": null,
   "metadata": {},
   "outputs": [],
   "source": []
  },
  {
   "cell_type": "code",
   "execution_count": null,
   "metadata": {},
   "outputs": [],
   "source": []
  },
  {
   "cell_type": "code",
   "execution_count": null,
   "metadata": {},
   "outputs": [],
   "source": []
  },
  {
   "cell_type": "code",
   "execution_count": null,
   "metadata": {},
   "outputs": [],
   "source": []
  },
  {
   "cell_type": "code",
   "execution_count": null,
   "metadata": {},
   "outputs": [],
   "source": []
  },
  {
   "cell_type": "code",
   "execution_count": null,
   "metadata": {},
   "outputs": [],
   "source": []
  },
  {
   "cell_type": "code",
   "execution_count": null,
   "metadata": {},
   "outputs": [],
   "source": []
  },
  {
   "cell_type": "code",
   "execution_count": null,
   "metadata": {},
   "outputs": [],
   "source": []
  },
  {
   "cell_type": "code",
   "execution_count": null,
   "metadata": {},
   "outputs": [],
   "source": []
  },
  {
   "cell_type": "code",
   "execution_count": null,
   "metadata": {},
   "outputs": [],
   "source": []
  },
  {
   "cell_type": "code",
   "execution_count": null,
   "metadata": {},
   "outputs": [],
   "source": []
  },
  {
   "cell_type": "markdown",
   "metadata": {},
   "source": [
    "### change the threshold to improve the pred_1 precision"
   ]
  },
  {
   "cell_type": "code",
   "execution_count": 31,
   "metadata": {},
   "outputs": [],
   "source": [
    "probs_positive_class = best_model.predict_proba(Xtest)[:, 1]\n",
    "prediction = probs_positive_class > .6"
   ]
  },
  {
   "cell_type": "code",
   "execution_count": 32,
   "metadata": {},
   "outputs": [
    {
     "data": {
      "text/html": [
       "<div>\n",
       "<style scoped>\n",
       "    .dataframe tbody tr th:only-of-type {\n",
       "        vertical-align: middle;\n",
       "    }\n",
       "\n",
       "    .dataframe tbody tr th {\n",
       "        vertical-align: top;\n",
       "    }\n",
       "\n",
       "    .dataframe thead th {\n",
       "        text-align: right;\n",
       "    }\n",
       "</style>\n",
       "<table border=\"1\" class=\"dataframe\">\n",
       "  <thead>\n",
       "    <tr style=\"text-align: right;\">\n",
       "      <th></th>\n",
       "      <th>Pred_0</th>\n",
       "      <th>Pred_1</th>\n",
       "    </tr>\n",
       "  </thead>\n",
       "  <tbody>\n",
       "    <tr>\n",
       "      <th>True_0</th>\n",
       "      <td>60518</td>\n",
       "      <td>8620</td>\n",
       "    </tr>\n",
       "    <tr>\n",
       "      <th>True_1</th>\n",
       "      <td>317610</td>\n",
       "      <td>132956</td>\n",
       "    </tr>\n",
       "  </tbody>\n",
       "</table>\n",
       "</div>"
      ],
      "text/plain": [
       "        Pred_0  Pred_1\n",
       "True_0   60518    8620\n",
       "True_1  317610  132956"
      ]
     },
     "execution_count": 32,
     "metadata": {},
     "output_type": "execute_result"
    }
   ],
   "source": [
    "cmat2 = confusion_matrix(ytest, prediction, labels=[0, 1])\n",
    "pd.DataFrame(cmat2, columns = [f'Pred_{label}' for label in best_model.classes_],\n",
    "             index = [f'True_{label}' for label in best_model.classes_])"
   ]
  },
  {
   "cell_type": "code",
   "execution_count": 33,
   "metadata": {},
   "outputs": [
    {
     "name": "stdout",
     "output_type": "stream",
     "text": [
      "              precision    recall  f1-score   support\n",
      "\n",
      "           0       0.16      0.88      0.27     69138\n",
      "           1       0.94      0.30      0.45    450566\n",
      "\n",
      "    accuracy                           0.37    519704\n",
      "   macro avg       0.55      0.59      0.36    519704\n",
      "weighted avg       0.84      0.37      0.43    519704\n",
      "\n"
     ]
    }
   ],
   "source": [
    "from sklearn.metrics import classification_report\n",
    "print(classification_report(ytest, prediction))"
   ]
  },
  {
   "cell_type": "code",
   "execution_count": 34,
   "metadata": {},
   "outputs": [
    {
     "name": "stdout",
     "output_type": "stream",
     "text": [
      "loan approval rate: 0.27\n",
      "precision pred_1: 0.94\n",
      "recall pred_1: 0.30\n"
     ]
    }
   ],
   "source": [
    "cmat=cmat2\n",
    "print(f'loan approval rate: {sum(cmat[:,1])/sum(sum(cmat)):.2f}')\n",
    "print(f'precision pred_1: {cmat[1][1]/sum(cmat[:,1]):.2f}')\n",
    "print(f'recall pred_1: {cmat[1][1]/sum(cmat[1,:]):.2f}')"
   ]
  },
  {
   "cell_type": "markdown",
   "metadata": {},
   "source": [
    "### Loop to check thresholds"
   ]
  },
  {
   "cell_type": "code",
   "execution_count": 35,
   "metadata": {},
   "outputs": [
    {
     "name": "stdout",
     "output_type": "stream",
     "text": [
      "threshold:0.50\n",
      "loan approval rate: 0.58\n",
      "precision pred_1: 0.91\n",
      "recall pred_1: 0.61\n",
      "--------------------------------------------------\n",
      "threshold:0.53\n",
      "loan approval rate: 0.47\n",
      "precision pred_1: 0.92\n",
      "recall pred_1: 0.50\n",
      "--------------------------------------------------\n",
      "threshold:0.56\n",
      "loan approval rate: 0.39\n",
      "precision pred_1: 0.93\n",
      "recall pred_1: 0.41\n",
      "--------------------------------------------------\n",
      "threshold:0.58\n",
      "loan approval rate: 0.31\n",
      "precision pred_1: 0.94\n",
      "recall pred_1: 0.34\n",
      "--------------------------------------------------\n",
      "threshold:0.61\n",
      "loan approval rate: 0.25\n",
      "precision pred_1: 0.94\n",
      "recall pred_1: 0.27\n",
      "--------------------------------------------------\n",
      "threshold:0.64\n",
      "loan approval rate: 0.19\n",
      "precision pred_1: 0.94\n",
      "recall pred_1: 0.21\n",
      "--------------------------------------------------\n",
      "threshold:0.67\n",
      "loan approval rate: 0.15\n",
      "precision pred_1: 0.95\n",
      "recall pred_1: 0.17\n",
      "--------------------------------------------------\n",
      "threshold:0.69\n",
      "loan approval rate: 0.12\n",
      "precision pred_1: 0.95\n",
      "recall pred_1: 0.13\n",
      "--------------------------------------------------\n",
      "threshold:0.72\n",
      "loan approval rate: 0.09\n",
      "precision pred_1: 0.95\n",
      "recall pred_1: 0.10\n",
      "--------------------------------------------------\n",
      "threshold:0.75\n",
      "loan approval rate: 0.07\n",
      "precision pred_1: 0.96\n",
      "recall pred_1: 0.07\n",
      "--------------------------------------------------\n",
      "threshold:0.78\n",
      "loan approval rate: 0.05\n",
      "precision pred_1: 0.96\n",
      "recall pred_1: 0.05\n",
      "--------------------------------------------------\n",
      "threshold:0.81\n",
      "loan approval rate: 0.03\n",
      "precision pred_1: 0.96\n",
      "recall pred_1: 0.03\n",
      "--------------------------------------------------\n",
      "threshold:0.83\n",
      "loan approval rate: 0.02\n",
      "precision pred_1: 0.96\n",
      "recall pred_1: 0.02\n",
      "--------------------------------------------------\n",
      "threshold:0.86\n",
      "loan approval rate: 0.01\n",
      "precision pred_1: 0.96\n",
      "recall pred_1: 0.01\n",
      "--------------------------------------------------\n",
      "threshold:0.89\n",
      "loan approval rate: 0.00\n",
      "precision pred_1: 0.96\n",
      "recall pred_1: 0.00\n",
      "--------------------------------------------------\n",
      "threshold:0.92\n",
      "loan approval rate: 0.00\n",
      "precision pred_1: 0.94\n",
      "recall pred_1: 0.00\n",
      "--------------------------------------------------\n",
      "threshold:0.94\n",
      "loan approval rate: 0.00\n",
      "precision pred_1: 0.93\n",
      "recall pred_1: 0.00\n",
      "--------------------------------------------------\n",
      "threshold:0.97\n",
      "loan approval rate: 0.00\n",
      "precision pred_1: 0.91\n",
      "recall pred_1: 0.00\n",
      "--------------------------------------------------\n",
      "threshold:1.00\n",
      "loan approval rate: 0.00\n",
      "precision pred_1: nan\n",
      "recall pred_1: 0.00\n",
      "--------------------------------------------------\n"
     ]
    }
   ],
   "source": [
    "thresholds = np.linspace(0.5,1,19)\n",
    "\n",
    "for i in thresholds:\n",
    "    probs_positive_class = best_model.predict_proba(Xtest)[:, 1]\n",
    "    prediction = probs_positive_class > i\n",
    "    cmat = confusion_matrix(ytest, prediction, labels=[0, 1])\n",
    "    print(f'threshold:{i:.2f}')\n",
    "    print(f'loan approval rate: {sum(cmat[:,1])/sum(sum(cmat)):.2f}')\n",
    "    print(f'precision pred_1: {cmat[1][1]/sum(cmat[:,1]):.2f}')\n",
    "    print(f'recall pred_1: {cmat[1][1]/sum(cmat[1,:]):.2f}')\n",
    "    print(\"-\"*50)"
   ]
  },
  {
   "cell_type": "code",
   "execution_count": null,
   "metadata": {},
   "outputs": [],
   "source": []
  },
  {
   "cell_type": "code",
   "execution_count": null,
   "metadata": {},
   "outputs": [],
   "source": []
  },
  {
   "cell_type": "code",
   "execution_count": null,
   "metadata": {},
   "outputs": [],
   "source": []
  },
  {
   "cell_type": "code",
   "execution_count": null,
   "metadata": {},
   "outputs": [],
   "source": []
  },
  {
   "cell_type": "markdown",
   "metadata": {},
   "source": [
    "## ROC Curve"
   ]
  },
  {
   "cell_type": "code",
   "execution_count": null,
   "metadata": {},
   "outputs": [],
   "source": [
    "from sklearn.metrics import roc_curve"
   ]
  },
  {
   "cell_type": "code",
   "execution_count": null,
   "metadata": {},
   "outputs": [],
   "source": [
    "# predict probabilities\n",
    "yhat = logr.predict_proba(Xtest)"
   ]
  },
  {
   "cell_type": "code",
   "execution_count": null,
   "metadata": {},
   "outputs": [],
   "source": [
    "# keep probabilities for the positive outcome only\n",
    "yhat = yhat[:, 1]"
   ]
  },
  {
   "cell_type": "code",
   "execution_count": null,
   "metadata": {},
   "outputs": [],
   "source": [
    "# calculate roc curves\n",
    "fpr, tpr, thresholds = roc_curve(ytest, yhat)"
   ]
  },
  {
   "cell_type": "code",
   "execution_count": null,
   "metadata": {},
   "outputs": [],
   "source": [
    "# plot the roc curve for the model\n",
    "plt.plot([0,1], [0,1], linestyle='--', label='No Skill')\n",
    "plt.plot(fpr, tpr, marker='.', label='Logistic')\n",
    "# axis labels\n",
    "plt.xlabel('False Positive Rate')\n",
    "plt.ylabel('True Positive Rate')\n",
    "plt.legend()\n",
    "# show the plot\n",
    "plt.show()"
   ]
  },
  {
   "cell_type": "code",
   "execution_count": null,
   "metadata": {},
   "outputs": [],
   "source": [
    "# calculate roc curves\n",
    "fpr, tpr, thresholds = roc_curve(ytest, prediction)"
   ]
  },
  {
   "cell_type": "code",
   "execution_count": null,
   "metadata": {},
   "outputs": [],
   "source": [
    "# plot the roc curve for the model\n",
    "plt.plot([0,1], [0,1], linestyle='--', label='No Skill')\n",
    "plt.plot(fpr, tpr, marker='.', label='Logistic')\n",
    "# axis labels\n",
    "plt.xlabel('False Positive Rate')\n",
    "plt.ylabel('True Positive Rate')\n",
    "plt.legend()\n",
    "# show the plot\n",
    "plt.show()"
   ]
  },
  {
   "cell_type": "markdown",
   "metadata": {},
   "source": [
    "### SGD classifier"
   ]
  },
  {
   "cell_type": "code",
   "execution_count": null,
   "metadata": {},
   "outputs": [],
   "source": []
  },
  {
   "cell_type": "code",
   "execution_count": null,
   "metadata": {},
   "outputs": [],
   "source": []
  },
  {
   "cell_type": "code",
   "execution_count": null,
   "metadata": {},
   "outputs": [],
   "source": []
  },
  {
   "cell_type": "markdown",
   "metadata": {},
   "source": [
    "### Save model in pickle"
   ]
  },
  {
   "cell_type": "code",
   "execution_count": null,
   "metadata": {},
   "outputs": [],
   "source": [
    "filename = 'grid_logr_model.sav'\n",
    "pickle.dump(grid_logr, open(filename, 'wb'))"
   ]
  },
  {
   "cell_type": "code",
   "execution_count": null,
   "metadata": {},
   "outputs": [],
   "source": [
    "loaded_model = pickle.load(open(filename, 'rb'))\n",
    "result = loaded_model.score(Xtest, ytest)\n",
    "print(result)"
   ]
  }
 ],
 "metadata": {
  "kernelspec": {
   "display_name": "Python 3",
   "language": "python",
   "name": "python3"
  },
  "language_info": {
   "codemirror_mode": {
    "name": "ipython",
    "version": 3
   },
   "file_extension": ".py",
   "mimetype": "text/x-python",
   "name": "python",
   "nbconvert_exporter": "python",
   "pygments_lexer": "ipython3",
   "version": "3.8.5"
  }
 },
 "nbformat": 4,
 "nbformat_minor": 4
}
