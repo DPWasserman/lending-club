{
 "cells": [
  {
   "cell_type": "markdown",
   "metadata": {},
   "source": [
    "# Import Libraries & Packages"
   ]
  },
  {
   "cell_type": "code",
   "execution_count": 1,
   "metadata": {},
   "outputs": [],
   "source": [
    "import numpy as np\n",
    "import pandas as pd\n",
    "import dask.dataframe as dd\n",
    "import seaborn as sns"
   ]
  },
  {
   "cell_type": "code",
   "execution_count": 2,
   "metadata": {},
   "outputs": [],
   "source": [
    "import sys\n",
    "sys.path.append('../lending_club')\n",
    "import config"
   ]
  },
  {
   "cell_type": "markdown",
   "metadata": {},
   "source": [
    "# Import Approved Loan Data"
   ]
  },
  {
   "cell_type": "code",
   "execution_count": 4,
   "metadata": {},
   "outputs": [],
   "source": [
    "approved = pd.read_pickle('../data/approved.pickle')"
   ]
  },
  {
   "cell_type": "code",
   "execution_count": null,
   "metadata": {},
   "outputs": [],
   "source": [
    "from model_prep import divide_by_term\n",
    "\n",
    "three_year = divide_by_term(approved, 36)\n",
    "five_year = divide_by_term(approved, 60)\n",
    "approved = pd.concat([three_year,five_year],axis=0)"
   ]
  },
  {
   "cell_type": "markdown",
   "metadata": {},
   "source": [
    "#### What are the interest rates for each loan grade?"
   ]
  },
  {
   "cell_type": "code",
   "execution_count": 18,
   "metadata": {},
   "outputs": [
    {
     "data": {
      "text/plain": [
       "[Text(0, 0.5, 'Sub Grade'),\n",
       " Text(0.5, 0, 'Interest Rate'),\n",
       " Text(0.5, 1.0, 'Interest Rate by Sub Grade')]"
      ]
     },
     "execution_count": 18,
     "metadata": {},
     "output_type": "execute_result"
    },
    {
     "data": {
      "image/png": "[encoded data removed]",
      "text/plain": [
       "<Figure size 432x288 with 1 Axes>"
      ]
     },
     "metadata": {
      "needs_background": "light"
     },
     "output_type": "display_data"
    }
   ],
   "source": [
    "byGrade = approved.groupby(['sub_grade'])[['int_rate']].mean().reset_index()\n",
    "\n",
    "fig = sns.barplot(\n",
    "    data = byGrade,\n",
    "    y = 'sub_grade', x = 'int_rate', palette = 'hls')\n",
    "\n",
    "fig.set(title = 'Interest Rate by Sub Grade', ylabel = 'Sub Grade', xlabel = 'Interest Rate')"
   ]
  },
  {
   "cell_type": "markdown",
   "metadata": {},
   "source": [
    "#### Which states are the most common?"
   ]
  },
  {
   "cell_type": "code",
   "execution_count": 5,
   "metadata": {},
   "outputs": [
    {
     "data": {
      "text/plain": [
       "CA    190540\n",
       "TX    106795\n",
       "NY    106201\n",
       "FL     92665\n",
       "IL     50209\n",
       "Name: addr_state, dtype: int64"
      ]
     },
     "execution_count": 5,
     "metadata": {},
     "output_type": "execute_result"
    }
   ],
   "source": [
    "approved['addr_state'].value_counts().head(5)"
   ]
  },
  {
   "cell_type": "code",
   "execution_count": 18,
   "metadata": {
    "scrolled": true
   },
   "outputs": [],
   "source": [
    "pop = pd.read_csv('../data/population.csv', skiprows = 3)\n",
    "pop = pop.iloc[5:56]\n",
    "pop.rename(columns = {'Unnamed: 0': 'State'}, inplace = True)\n",
    "pop.drop(['Census', 'Estimates Base', '2016', '2017', '2018', '2019'], axis = 1, inplace = True)"
   ]
  },
  {
   "cell_type": "code",
   "execution_count": 19,
   "metadata": {
    "scrolled": true
   },
   "outputs": [
    {
     "name": "stderr",
     "output_type": "stream",
     "text": [
      "<ipython-input-19-445b849bc40a>:1: FutureWarning: The default value of regex will change from True to False in a future version. In addition, single character regular expressions will*not* be treated as literal strings when regex=True.\n",
      "  pop['State'] = pop['State'].str.replace('.','')\n"
     ]
    }
   ],
   "source": [
    "pop['State'] = pop['State'].str.replace('.','')"
   ]
  },
  {
   "cell_type": "code",
   "execution_count": 20,
   "metadata": {},
   "outputs": [],
   "source": [
    "# Dropped District of Columbia\n",
    "pop.drop(index = 13, inplace = True)"
   ]
  },
  {
   "cell_type": "code",
   "execution_count": 21,
   "metadata": {},
   "outputs": [],
   "source": [
    "for column in ['2010', '2011', '2012', '2013', '2014', '2015']:\n",
    "    pop[column] = pop[column].str.replace(',','').astype(int)"
   ]
  },
  {
   "cell_type": "code",
   "execution_count": 22,
   "metadata": {},
   "outputs": [],
   "source": [
    "State = {\n",
    "'Alabama': 'AL',\n",
    "'Alaska': 'AK',\n",
    "'Arizona': 'AZ',\n",
    "'Arkansas': 'AR',\n",
    "'California': 'CA',\n",
    "'Colorado': 'CO',\n",
    "'Connecticut': 'CT',\n",
    "'Delaware': 'DE',\n",
    "'Florida': 'FL',\n",
    "'Georgia': 'GA',\n",
    "'Hawaii': 'HI',\n",
    "'Idaho': 'ID',\n",
    "'Illinois': 'IL',\n",
    "'Indiana': 'IN',\n",
    "'Iowa': 'IA',\n",
    "'Kansas': 'KS',\n",
    "'Kentucky': 'KY',\n",
    "'Louisiana': 'LA',\n",
    "'Maine': 'ME',\n",
    "'Maryland': 'MD',\n",
    "'Massachusetts': 'MA',\n",
    "'Michigan': 'MI',\n",
    "'Minnesota': 'MN',\n",
    "'Mississippi': 'MS',\n",
    "'Missouri': 'MO',\n",
    "'Montana': 'MT',\n",
    "'Nebraska': 'NB',\n",
    "'Nevada': 'NV',\n",
    "'New Hampshire': 'NH',\n",
    "'New Jersey': 'NJ',\n",
    "'New Mexico': 'NM',\n",
    "'New York': 'NY',\n",
    "'North Carolina': 'NC',\n",
    "'North Dakota': 'ND',\n",
    "'Ohio': 'OH',\n",
    "'Oklahoma': 'OK',\n",
    "'Oregon': 'OR',\n",
    "'Pennsylvania': 'PA',\n",
    "'Rhode Island': 'RI',\n",
    "'South Carolina': 'SC',\n",
    "'South Dakota': 'SD',\n",
    "'Tennessee': 'TN',\n",
    "'Texas': 'TX',\n",
    "'Utah': 'UT',\n",
    "'Vermont': 'VT',\n",
    "'Virginia': 'VA',\n",
    "'Washington': 'WA',\n",
    "'West Virginia': 'WV',\n",
    "'Wisconsin': 'WI',\n",
    "'Wyoming': 'WY'\n",
    "}"
   ]
  },
  {
   "cell_type": "code",
   "execution_count": 23,
   "metadata": {},
   "outputs": [],
   "source": [
    "pop['State Abbr'] = pop['State'].replace(State)"
   ]
  },
  {
   "cell_type": "code",
   "execution_count": 24,
   "metadata": {},
   "outputs": [],
   "source": [
    "pop['Avg Population'] = (pop['2010'] + pop['2011'] + pop['2012'] + pop['2013'] + pop['2014'] + pop['2015']) / 6\n",
    "pop['Avg Population'] = pop['Avg Population'].astype(int)"
   ]
  },
  {
   "cell_type": "code",
   "execution_count": 26,
   "metadata": {},
   "outputs": [],
   "source": [
    "pop = pop.iloc[:,7:]"
   ]
  },
  {
   "cell_type": "code",
   "execution_count": 27,
   "metadata": {},
   "outputs": [
    {
     "data": {
      "text/html": [
       "<div>\n",
       "<style scoped>\n",
       "    .dataframe tbody tr th:only-of-type {\n",
       "        vertical-align: middle;\n",
       "    }\n",
       "\n",
       "    .dataframe tbody tr th {\n",
       "        vertical-align: top;\n",
       "    }\n",
       "\n",
       "    .dataframe thead th {\n",
       "        text-align: right;\n",
       "    }\n",
       "</style>\n",
       "<table border=\"1\" class=\"dataframe\">\n",
       "  <thead>\n",
       "    <tr style=\"text-align: right;\">\n",
       "      <th></th>\n",
       "      <th>State Abbr</th>\n",
       "      <th>Avg Population</th>\n",
       "    </tr>\n",
       "  </thead>\n",
       "  <tbody>\n",
       "    <tr>\n",
       "      <th>5</th>\n",
       "      <td>AL</td>\n",
       "      <td>4820720</td>\n",
       "    </tr>\n",
       "    <tr>\n",
       "      <th>6</th>\n",
       "      <td>AK</td>\n",
       "      <td>729555</td>\n",
       "    </tr>\n",
       "    <tr>\n",
       "      <th>7</th>\n",
       "      <td>AZ</td>\n",
       "      <td>6604607</td>\n",
       "    </tr>\n",
       "    <tr>\n",
       "      <th>8</th>\n",
       "      <td>AR</td>\n",
       "      <td>2953272</td>\n",
       "    </tr>\n",
       "    <tr>\n",
       "      <th>9</th>\n",
       "      <td>CA</td>\n",
       "      <td>38113745</td>\n",
       "    </tr>\n",
       "    <tr>\n",
       "      <th>10</th>\n",
       "      <td>CO</td>\n",
       "      <td>5238477</td>\n",
       "    </tr>\n",
       "    <tr>\n",
       "      <th>11</th>\n",
       "      <td>CT</td>\n",
       "      <td>3589738</td>\n",
       "    </tr>\n",
       "    <tr>\n",
       "      <th>12</th>\n",
       "      <td>DE</td>\n",
       "      <td>919911</td>\n",
       "    </tr>\n",
       "    <tr>\n",
       "      <th>14</th>\n",
       "      <td>FL</td>\n",
       "      <td>19466195</td>\n",
       "    </tr>\n",
       "    <tr>\n",
       "      <th>15</th>\n",
       "      <td>GA</td>\n",
       "      <td>9938991</td>\n",
       "    </tr>\n",
       "    <tr>\n",
       "      <th>16</th>\n",
       "      <td>HI</td>\n",
       "      <td>1397154</td>\n",
       "    </tr>\n",
       "    <tr>\n",
       "      <th>17</th>\n",
       "      <td>ID</td>\n",
       "      <td>1607226</td>\n",
       "    </tr>\n",
       "    <tr>\n",
       "      <th>18</th>\n",
       "      <td>IL</td>\n",
       "      <td>12871500</td>\n",
       "    </tr>\n",
       "    <tr>\n",
       "      <th>19</th>\n",
       "      <td>IN</td>\n",
       "      <td>6552573</td>\n",
       "    </tr>\n",
       "    <tr>\n",
       "      <th>20</th>\n",
       "      <td>IA</td>\n",
       "      <td>3086096</td>\n",
       "    </tr>\n",
       "    <tr>\n",
       "      <th>21</th>\n",
       "      <td>KS</td>\n",
       "      <td>2885895</td>\n",
       "    </tr>\n",
       "    <tr>\n",
       "      <th>22</th>\n",
       "      <td>KY</td>\n",
       "      <td>4391555</td>\n",
       "    </tr>\n",
       "    <tr>\n",
       "      <th>23</th>\n",
       "      <td>LA</td>\n",
       "      <td>4609049</td>\n",
       "    </tr>\n",
       "    <tr>\n",
       "      <th>24</th>\n",
       "      <td>ME</td>\n",
       "      <td>1328404</td>\n",
       "    </tr>\n",
       "    <tr>\n",
       "      <th>25</th>\n",
       "      <td>MD</td>\n",
       "      <td>5896848</td>\n",
       "    </tr>\n",
       "    <tr>\n",
       "      <th>26</th>\n",
       "      <td>MA</td>\n",
       "      <td>6685505</td>\n",
       "    </tr>\n",
       "    <tr>\n",
       "      <th>27</th>\n",
       "      <td>MI</td>\n",
       "      <td>9905282</td>\n",
       "    </tr>\n",
       "    <tr>\n",
       "      <th>28</th>\n",
       "      <td>MN</td>\n",
       "      <td>5396700</td>\n",
       "    </tr>\n",
       "    <tr>\n",
       "      <th>29</th>\n",
       "      <td>MS</td>\n",
       "      <td>2983457</td>\n",
       "    </tr>\n",
       "    <tr>\n",
       "      <th>30</th>\n",
       "      <td>MO</td>\n",
       "      <td>6033210</td>\n",
       "    </tr>\n",
       "    <tr>\n",
       "      <th>31</th>\n",
       "      <td>MT</td>\n",
       "      <td>1009618</td>\n",
       "    </tr>\n",
       "    <tr>\n",
       "      <th>32</th>\n",
       "      <td>NB</td>\n",
       "      <td>1859899</td>\n",
       "    </tr>\n",
       "    <tr>\n",
       "      <th>33</th>\n",
       "      <td>NV</td>\n",
       "      <td>2769944</td>\n",
       "    </tr>\n",
       "    <tr>\n",
       "      <th>34</th>\n",
       "      <td>NH</td>\n",
       "      <td>1326251</td>\n",
       "    </tr>\n",
       "    <tr>\n",
       "      <th>35</th>\n",
       "      <td>NJ</td>\n",
       "      <td>8843658</td>\n",
       "    </tr>\n",
       "    <tr>\n",
       "      <th>36</th>\n",
       "      <td>NM</td>\n",
       "      <td>2083907</td>\n",
       "    </tr>\n",
       "    <tr>\n",
       "      <th>37</th>\n",
       "      <td>NY</td>\n",
       "      <td>19567035</td>\n",
       "    </tr>\n",
       "    <tr>\n",
       "      <th>38</th>\n",
       "      <td>NC</td>\n",
       "      <td>9798210</td>\n",
       "    </tr>\n",
       "    <tr>\n",
       "      <th>39</th>\n",
       "      <td>ND</td>\n",
       "      <td>712436</td>\n",
       "    </tr>\n",
       "    <tr>\n",
       "      <th>40</th>\n",
       "      <td>OH</td>\n",
       "      <td>11571638</td>\n",
       "    </tr>\n",
       "    <tr>\n",
       "      <th>41</th>\n",
       "      <td>OK</td>\n",
       "      <td>3834673</td>\n",
       "    </tr>\n",
       "    <tr>\n",
       "      <th>42</th>\n",
       "      <td>OR</td>\n",
       "      <td>3918338</td>\n",
       "    </tr>\n",
       "    <tr>\n",
       "      <th>43</th>\n",
       "      <td>PA</td>\n",
       "      <td>12762256</td>\n",
       "    </tr>\n",
       "    <tr>\n",
       "      <th>44</th>\n",
       "      <td>RI</td>\n",
       "      <td>1054885</td>\n",
       "    </tr>\n",
       "    <tr>\n",
       "      <th>45</th>\n",
       "      <td>SC</td>\n",
       "      <td>4750772</td>\n",
       "    </tr>\n",
       "    <tr>\n",
       "      <th>46</th>\n",
       "      <td>SD</td>\n",
       "      <td>836457</td>\n",
       "    </tr>\n",
       "    <tr>\n",
       "      <th>47</th>\n",
       "      <td>TN</td>\n",
       "      <td>6472538</td>\n",
       "    </tr>\n",
       "    <tr>\n",
       "      <th>48</th>\n",
       "      <td>TX</td>\n",
       "      <td>26314456</td>\n",
       "    </tr>\n",
       "    <tr>\n",
       "      <th>49</th>\n",
       "      <td>UT</td>\n",
       "      <td>2876574</td>\n",
       "    </tr>\n",
       "    <tr>\n",
       "      <th>50</th>\n",
       "      <td>VT</td>\n",
       "      <td>625943</td>\n",
       "    </tr>\n",
       "    <tr>\n",
       "      <th>51</th>\n",
       "      <td>VA</td>\n",
       "      <td>8205860</td>\n",
       "    </tr>\n",
       "    <tr>\n",
       "      <th>52</th>\n",
       "      <td>WA</td>\n",
       "      <td>6941468</td>\n",
       "    </tr>\n",
       "    <tr>\n",
       "      <th>53</th>\n",
       "      <td>WV</td>\n",
       "      <td>1852144</td>\n",
       "    </tr>\n",
       "    <tr>\n",
       "      <th>54</th>\n",
       "      <td>WI</td>\n",
       "      <td>5727490</td>\n",
       "    </tr>\n",
       "    <tr>\n",
       "      <th>55</th>\n",
       "      <td>WY</td>\n",
       "      <td>576392</td>\n",
       "    </tr>\n",
       "  </tbody>\n",
       "</table>\n",
       "</div>"
      ],
      "text/plain": [
       "   State Abbr  Avg Population\n",
       "5          AL         4820720\n",
       "6          AK          729555\n",
       "7          AZ         6604607\n",
       "8          AR         2953272\n",
       "9          CA        38113745\n",
       "10         CO         5238477\n",
       "11         CT         3589738\n",
       "12         DE          919911\n",
       "14         FL        19466195\n",
       "15         GA         9938991\n",
       "16         HI         1397154\n",
       "17         ID         1607226\n",
       "18         IL        12871500\n",
       "19         IN         6552573\n",
       "20         IA         3086096\n",
       "21         KS         2885895\n",
       "22         KY         4391555\n",
       "23         LA         4609049\n",
       "24         ME         1328404\n",
       "25         MD         5896848\n",
       "26         MA         6685505\n",
       "27         MI         9905282\n",
       "28         MN         5396700\n",
       "29         MS         2983457\n",
       "30         MO         6033210\n",
       "31         MT         1009618\n",
       "32         NB         1859899\n",
       "33         NV         2769944\n",
       "34         NH         1326251\n",
       "35         NJ         8843658\n",
       "36         NM         2083907\n",
       "37         NY        19567035\n",
       "38         NC         9798210\n",
       "39         ND          712436\n",
       "40         OH        11571638\n",
       "41         OK         3834673\n",
       "42         OR         3918338\n",
       "43         PA        12762256\n",
       "44         RI         1054885\n",
       "45         SC         4750772\n",
       "46         SD          836457\n",
       "47         TN         6472538\n",
       "48         TX        26314456\n",
       "49         UT         2876574\n",
       "50         VT          625943\n",
       "51         VA         8205860\n",
       "52         WA         6941468\n",
       "53         WV         1852144\n",
       "54         WI         5727490\n",
       "55         WY          576392"
      ]
     },
     "execution_count": 27,
     "metadata": {},
     "output_type": "execute_result"
    }
   ],
   "source": [
    "pop"
   ]
  },
  {
   "cell_type": "code",
   "execution_count": 28,
   "metadata": {
    "scrolled": true
   },
   "outputs": [],
   "source": [
    "pop = pop.merge(pd.DataFrame(approved['addr_state'].value_counts().reset_index()).rename(columns = {'index': 'State Abbr'}))"
   ]
  },
  {
   "cell_type": "code",
   "execution_count": 29,
   "metadata": {},
   "outputs": [],
   "source": [
    "pop['Loans per Capita'] = pop['addr_state'] / pop['Avg Population']"
   ]
  },
  {
   "cell_type": "code",
   "execution_count": 30,
   "metadata": {},
   "outputs": [],
   "source": [
    "pop['Loans per Capita'] = round(pop['Loans per Capita'], 5) * 10000"
   ]
  },
  {
   "cell_type": "code",
   "execution_count": 31,
   "metadata": {},
   "outputs": [],
   "source": [
    "byCapita = pop.sort_values(by = 'Loans per Capita', ascending = False).head(10)"
   ]
  },
  {
   "cell_type": "code",
   "execution_count": 32,
   "metadata": {
    "scrolled": true
   },
   "outputs": [
    {
     "data": {
      "text/plain": [
       "[Text(0, 0.5, 'Loans per 10,000 residents'),\n",
       " Text(0.5, 0, 'State'),\n",
       " Text(0.5, 1.0, 'Top 10 States')]"
      ]
     },
     "execution_count": 32,
     "metadata": {},
     "output_type": "execute_result"
    },
    {
     "data": {
      "image/png": "[encoded data removed]",
      "text/plain": [
       "<Figure size 432x288 with 1 Axes>"
      ]
     },
     "metadata": {
      "needs_background": "light"
     },
     "output_type": "display_data"
    }
   ],
   "source": [
    "fig = sns.barplot(\n",
    "    data = byCapita,\n",
    "    y = 'Loans per Capita', x = 'State Abbr', palette = 'hls')\n",
    "\n",
    "fig.set(title = 'Top 10 States', ylabel = 'Loans per 10,000 residents', xlabel = 'State')"
   ]
  },
  {
   "cell_type": "markdown",
   "metadata": {},
   "source": [
    "### Most Frequent Zip Codes"
   ]
  },
  {
   "cell_type": "code",
   "execution_count": 33,
   "metadata": {
    "scrolled": true
   },
   "outputs": [
    {
     "data": {
      "text/plain": [
       "945xx    14555\n",
       "750xx    14029\n",
       "112xx    13339\n",
       "606xx    12090\n",
       "300xx    11699\n",
       "331xx    10968\n",
       "070xx    10424\n",
       "891xx    10294\n",
       "100xx    10273\n",
       "900xx    10267\n",
       "Name: zip_code, dtype: int64"
      ]
     },
     "execution_count": 33,
     "metadata": {},
     "output_type": "execute_result"
    }
   ],
   "source": [
    "approved['zip_code'].value_counts().head(10)"
   ]
  },
  {
   "cell_type": "markdown",
   "metadata": {},
   "source": [
    "- 945: Oakland, CA - Vicinity\n",
    "- 750: Dallas, TX - North\n",
    "- 112: Brooklyn, NY\n",
    "- 606: Chicago, IL - Main1\n",
    "- 300: Atlanta, GA - East\n",
    "- 331: Miami, FL - Main1\n",
    "- 070: Newark, NJ - Vicinity\n",
    "- 891: Las Vegas, NV - Main\n",
    "- 100: New York, NY - Main\n",
    "- 900: Los Angeles, CA - Main"
   ]
  },
  {
   "cell_type": "markdown",
   "metadata": {},
   "source": [
    "#### What loan durations are most common?"
   ]
  },
  {
   "cell_type": "code",
   "execution_count": 34,
   "metadata": {},
   "outputs": [],
   "source": [
    "byDuration = pd.DataFrame(approved['term'].value_counts()).reset_index()\n",
    "byDuration.rename(columns = {'index': 'term', 'term': 'count'}, inplace = True)"
   ]
  },
  {
   "cell_type": "code",
   "execution_count": 35,
   "metadata": {},
   "outputs": [
    {
     "data": {
      "text/plain": [
       "[Text(0, 0.5, 'Count'),\n",
       " Text(0.5, 0, 'Loan Duration (in months)'),\n",
       " Text(0.5, 1.0, 'Loan Durations')]"
      ]
     },
     "execution_count": 35,
     "metadata": {},
     "output_type": "execute_result"
    },
    {
     "data": {
      "image/png": "[encoded data removed]",
      "text/plain": [
       "<Figure size 432x288 with 1 Axes>"
      ]
     },
     "metadata": {
      "needs_background": "light"
     },
     "output_type": "display_data"
    }
   ],
   "source": [
    "fig = sns.barplot(y = 'count', x = 'term', data = byDuration, palette = 'hls')\n",
    "\n",
    "fig.set(title = 'Loan Durations', ylabel = 'Count', xlabel = 'Loan Duration (in months)')"
   ]
  },
  {
   "cell_type": "markdown",
   "metadata": {},
   "source": [
    "#### What are the most common loan purposes?"
   ]
  },
  {
   "cell_type": "code",
   "execution_count": 40,
   "metadata": {},
   "outputs": [],
   "source": [
    "byPurpose = pd.DataFrame(approved['purpose'].value_counts()).reset_index()\n",
    "byPurpose.rename(columns = {'index': 'purpose', 'purpose': 'count'}, inplace = True)\n",
    "byPurpose = byPurpose.sort_values('count', ascending = False)"
   ]
  },
  {
   "cell_type": "code",
   "execution_count": 42,
   "metadata": {
    "scrolled": true
   },
   "outputs": [
    {
     "data": {
      "text/plain": [
       "[Text(0, 0.5, 'Loan Purpose'), Text(0.5, 1.0, 'Frequency of Loan Purposes')]"
      ]
     },
     "execution_count": 42,
     "metadata": {},
     "output_type": "execute_result"
    },
    {
     "data": {
      "image/png": "[encoded data removed]",
      "text/plain": [
       "<Figure size 432x288 with 1 Axes>"
      ]
     },
     "metadata": {
      "needs_background": "light"
     },
     "output_type": "display_data"
    }
   ],
   "source": [
    "fig = sns.barplot(y = 'purpose', x = 'count', data = byPurpose, palette = 'rocket')\n",
    "\n",
    "fig.set(title = 'Frequency of Loan Purposes', ylabel = 'Loan Purpose')"
   ]
  },
  {
   "cell_type": "markdown",
   "metadata": {},
   "source": []
  },
  {
   "cell_type": "code",
   "execution_count": 94,
   "metadata": {},
   "outputs": [],
   "source": [
    "g = approved[approved['annual_inc'] < 150000]"
   ]
  },
  {
   "cell_type": "code",
   "execution_count": 95,
   "metadata": {},
   "outputs": [
    {
     "ename": "AttributeError",
     "evalue": "'AxesSubplot' object has no attribute 'xlim'",
     "output_type": "error",
     "traceback": [
      "\u001b[1;31m---------------------------------------------------------------------------\u001b[0m",
      "\u001b[1;31mAttributeError\u001b[0m                            Traceback (most recent call last)",
      "\u001b[1;32m<ipython-input-95-72a50c9ac268>\u001b[0m in \u001b[0;36m<module>\u001b[1;34m\u001b[0m\n\u001b[1;32m----> 1\u001b[1;33m sns.histplot(\n\u001b[0m\u001b[0;32m      2\u001b[0m     \u001b[0mdata\u001b[0m \u001b[1;33m=\u001b[0m \u001b[0mg\u001b[0m\u001b[1;33m,\u001b[0m\u001b[1;33m\u001b[0m\u001b[1;33m\u001b[0m\u001b[0m\n\u001b[0;32m      3\u001b[0m     \u001b[0mx\u001b[0m\u001b[1;33m=\u001b[0m\u001b[1;34m\"annual_inc\"\u001b[0m\u001b[1;33m,\u001b[0m \u001b[0mhue\u001b[0m\u001b[1;33m=\u001b[0m\u001b[1;34m\"term\"\u001b[0m\u001b[1;33m,\u001b[0m\u001b[1;33m\u001b[0m\u001b[1;33m\u001b[0m\u001b[0m\n\u001b[0;32m      4\u001b[0m     \u001b[0mmultiple\u001b[0m\u001b[1;33m=\u001b[0m\u001b[1;34m\"stack\"\u001b[0m\u001b[1;33m,\u001b[0m\u001b[1;33m\u001b[0m\u001b[1;33m\u001b[0m\u001b[0m\n\u001b[0;32m      5\u001b[0m     \u001b[0mpalette\u001b[0m\u001b[1;33m=\u001b[0m\u001b[1;34m\"light:m_r\"\u001b[0m\u001b[1;33m,\u001b[0m\u001b[1;33m\u001b[0m\u001b[1;33m\u001b[0m\u001b[0m\n",
      "\u001b[1;31mAttributeError\u001b[0m: 'AxesSubplot' object has no attribute 'xlim'"
     ]
    },
    {
     "data": {
      "image/png": "[encoded data removed]",
      "text/plain": [
       "<Figure size 432x288 with 1 Axes>"
      ]
     },
     "metadata": {
      "needs_background": "light"
     },
     "output_type": "display_data"
    }
   ],
   "source": [
    "sns.histplot(\n",
    "    data = g,\n",
    "    x=\"annual_inc\", hue=\"term\",\n",
    "    multiple=\"stack\",\n",
    "    palette=\"light:m_r\",\n",
    "    edgecolor=\".3\",\n",
    "    linewidth=.5\n",
    ").xlim(0,150000)"
   ]
  },
  {
   "cell_type": "code",
   "execution_count": 93,
   "metadata": {},
   "outputs": [
    {
     "data": {
      "text/plain": [
       "<seaborn.axisgrid.JointGrid at 0x265258e3280>"
      ]
     },
     "execution_count": 93,
     "metadata": {},
     "output_type": "execute_result"
    },
    {
     "data": {
      "image/png": "[encoded data removed]",
      "text/plain": [
       "<Figure size 432x432 with 3 Axes>"
      ]
     },
     "metadata": {
      "needs_background": "light"
     },
     "output_type": "display_data"
    }
   ],
   "source": [
    "sns.jointplot(data=approved, x=\"annual_inc\", y=\"fico_range_average\", hue=\"loan_status\", kind=\"kde\")"
   ]
  },
  {
   "cell_type": "code",
   "execution_count": 64,
   "metadata": {
    "scrolled": true
   },
   "outputs": [
    {
     "data": {
      "text/plain": [
       "Index(['addr_state', 'annual_inc', 'application_type', 'disbursement_method',\n",
       "       'dti', 'earliest_cr_line', 'emp_length', 'emp_title', 'fico_range_high',\n",
       "       'fico_range_low', 'grade', 'home_ownership', 'initial_list_status',\n",
       "       'installment', 'int_rate', 'issue_d', 'loan_amnt', 'open_acc',\n",
       "       'pub_rec', 'pub_rec_bankruptcies', 'purpose', 'sub_grade', 'term',\n",
       "       'verification_status', 'zip_code', 'loan_status', 'fico_range_average'],\n",
       "      dtype='object')"
      ]
     },
     "execution_count": 64,
     "metadata": {},
     "output_type": "execute_result"
    }
   ],
   "source": [
    "approved.columns"
   ]
  },
  {
   "cell_type": "code",
   "execution_count": 45,
   "metadata": {},
   "outputs": [
    {
     "data": {
      "text/plain": [
       "<matplotlib.axes._subplots.AxesSubplot at 0x1f4086e4ca0>"
      ]
     },
     "execution_count": 45,
     "metadata": {},
     "output_type": "execute_result"
    },
    {
     "data": {
      "image/png": "[encoded data removed]",
      "text/plain": [
       "<Figure size 432x288 with 1 Axes>"
      ]
     },
     "metadata": {
      "needs_background": "light"
     },
     "output_type": "display_data"
    }
   ],
   "source": [
    "approved[['issue_d', 'loan_status']].groupby(['issue_d']).count().plot()"
   ]
  },
  {
   "cell_type": "code",
   "execution_count": null,
   "metadata": {},
   "outputs": [],
   "source": []
  }
 ],
 "metadata": {
  "kernelspec": {
   "display_name": "Python 3",
   "language": "python",
   "name": "python3"
  },
  "language_info": {
   "codemirror_mode": {
    "name": "ipython",
    "version": 3
   },
   "file_extension": ".py",
   "mimetype": "text/x-python",
   "name": "python",
   "nbconvert_exporter": "python",
   "pygments_lexer": "ipython3",
   "version": "3.8.3"
  }
 },
 "nbformat": 4,
 "nbformat_minor": 4
}
