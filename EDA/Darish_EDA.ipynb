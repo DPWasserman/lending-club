{
 "cells": [
  {
   "cell_type": "code",
   "execution_count": 1,
   "metadata": {},
   "outputs": [],
   "source": [
    "import pandas as pd\n",
    "pd.set_option('display.max_columns', 500)\n",
    "import dask.dataframe as dd"
   ]
  },
  {
   "cell_type": "code",
   "execution_count": 2,
   "metadata": {},
   "outputs": [],
   "source": [
    "accepted_data = dd.read_csv('data/accepted_2007_to_2018Q4.csv', dtype={'sec_app_earliest_cr_line':'object',\n",
    "                                                                      'id':'object',\n",
    "                                                                      'desc':'object'})\n",
    "rejected_data = dd.read_csv('data/rejected_2007_to_2018Q4.csv')"
   ]
  },
  {
   "cell_type": "code",
   "execution_count": 18,
   "metadata": {},
   "outputs": [
    {
     "name": "stderr",
     "output_type": "stream",
     "text": [
      "/Users/darishsakeesing/opt/anaconda3/lib/python3.8/site-packages/dask/core.py:121: DtypeWarning: Columns (59) have mixed types.Specify dtype option on import or set low_memory=False.\n",
      "  return func(*(_execute_task(a, cache) for a in args))\n",
      "/Users/darishsakeesing/opt/anaconda3/lib/python3.8/site-packages/dask/core.py:121: DtypeWarning: Columns (129,130,131,134,135,136,139,145,146,147) have mixed types.Specify dtype option on import or set low_memory=False.\n",
      "  return func(*(_execute_task(a, cache) for a in args))\n",
      "/Users/darishsakeesing/opt/anaconda3/lib/python3.8/site-packages/dask/core.py:121: DtypeWarning: Columns (59,129,130,131,134,135,136,139,145,146,147) have mixed types.Specify dtype option on import or set low_memory=False.\n",
      "  return func(*(_execute_task(a, cache) for a in args))\n",
      "/Users/darishsakeesing/opt/anaconda3/lib/python3.8/site-packages/dask/core.py:121: DtypeWarning: Columns (129,130,131,134,135,136,139) have mixed types.Specify dtype option on import or set low_memory=False.\n",
      "  return func(*(_execute_task(a, cache) for a in args))\n",
      "/Users/darishsakeesing/opt/anaconda3/lib/python3.8/site-packages/dask/core.py:121: DtypeWarning: Columns (49,59,129,130,131,134,135,136,139) have mixed types.Specify dtype option on import or set low_memory=False.\n",
      "  return func(*(_execute_task(a, cache) for a in args))\n",
      "/Users/darishsakeesing/opt/anaconda3/lib/python3.8/site-packages/dask/core.py:121: DtypeWarning: Columns (49,59,129,130,131,134,135,136,139,145,146,147) have mixed types.Specify dtype option on import or set low_memory=False.\n",
      "  return func(*(_execute_task(a, cache) for a in args))\n"
     ]
    },
    {
     "data": {
      "text/plain": [
       "2260701"
      ]
     },
     "execution_count": 18,
     "metadata": {},
     "output_type": "execute_result"
    }
   ],
   "source": [
    "len(accepted_data)"
   ]
  },
  {
   "cell_type": "code",
   "execution_count": 15,
   "metadata": {
    "scrolled": true
   },
   "outputs": [
    {
     "name": "stderr",
     "output_type": "stream",
     "text": [
      "/Users/darishsakeesing/opt/anaconda3/lib/python3.8/site-packages/dask/core.py:121: DtypeWarning: Columns (59) have mixed types.Specify dtype option on import or set low_memory=False.\n",
      "  return func(*(_execute_task(a, cache) for a in args))\n",
      "/Users/darishsakeesing/opt/anaconda3/lib/python3.8/site-packages/dask/core.py:121: DtypeWarning: Columns (129,130,131,134,135,136,139,145,146,147) have mixed types.Specify dtype option on import or set low_memory=False.\n",
      "  return func(*(_execute_task(a, cache) for a in args))\n",
      "/Users/darishsakeesing/opt/anaconda3/lib/python3.8/site-packages/dask/core.py:121: DtypeWarning: Columns (59) have mixed types.Specify dtype option on import or set low_memory=False.\n",
      "  return func(*(_execute_task(a, cache) for a in args))\n",
      "/Users/darishsakeesing/opt/anaconda3/lib/python3.8/site-packages/dask/core.py:121: DtypeWarning: Columns (59,129,130,131,134,135,136,139,145,146,147) have mixed types.Specify dtype option on import or set low_memory=False.\n",
      "  return func(*(_execute_task(a, cache) for a in args))\n",
      "/Users/darishsakeesing/opt/anaconda3/lib/python3.8/site-packages/dask/core.py:121: DtypeWarning: Columns (129,130,131,134,135,136,139,145,146,147) have mixed types.Specify dtype option on import or set low_memory=False.\n",
      "  return func(*(_execute_task(a, cache) for a in args))\n",
      "/Users/darishsakeesing/opt/anaconda3/lib/python3.8/site-packages/dask/core.py:121: DtypeWarning: Columns (129,130,131,134,135,136,139) have mixed types.Specify dtype option on import or set low_memory=False.\n",
      "  return func(*(_execute_task(a, cache) for a in args))\n",
      "/Users/darishsakeesing/opt/anaconda3/lib/python3.8/site-packages/dask/core.py:121: DtypeWarning: Columns (49,59,129,130,131,134,135,136,139) have mixed types.Specify dtype option on import or set low_memory=False.\n",
      "  return func(*(_execute_task(a, cache) for a in args))\n",
      "/Users/darishsakeesing/opt/anaconda3/lib/python3.8/site-packages/dask/core.py:121: DtypeWarning: Columns (49,59,129,130,131,134,135,136,139,145,146,147) have mixed types.Specify dtype option on import or set low_memory=False.\n",
      "  return func(*(_execute_task(a, cache) for a in args))\n",
      "/Users/darishsakeesing/opt/anaconda3/lib/python3.8/site-packages/dask/core.py:121: DtypeWarning: Columns (59) have mixed types.Specify dtype option on import or set low_memory=False.\n",
      "  return func(*(_execute_task(a, cache) for a in args))\n"
     ]
    },
    {
     "data": {
      "text/plain": [
       "Sep-2017    1715\n",
       "Oct-2017    1629\n",
       "Nov-2017     640\n",
       "Oct-2018     538\n",
       "Nov-2018     481\n",
       "Aug-2018     456\n",
       "Sep-2018     416\n",
       "Dec-2017     413\n",
       "Jun-2017     394\n",
       "Feb-2019     387\n",
       "Dec-2018     379\n",
       "Jan-2019     368\n",
       "Jul-2017     343\n",
       "Jan-2018     329\n",
       "Feb-2018     307\n",
       "Mar-2019     302\n",
       "Jul-2018     297\n",
       "Aug-2017     294\n",
       "Jun-2018     231\n",
       "Mar-2018     218\n",
       "Apr-2018     218\n",
       "May-2017     217\n",
       "May-2018     216\n",
       "Apr-2019     104\n",
       "Mar-2017      11\n",
       "Feb-2017       9\n",
       "Apr-2017       5\n",
       "Name: payment_plan_start_date, dtype: int64"
      ]
     },
     "execution_count": 15,
     "metadata": {},
     "output_type": "execute_result"
    }
   ],
   "source": [
    "accepted_data.payment_plan_start_date.value_counts().compute()"
   ]
  },
  {
   "cell_type": "code",
   "execution_count": 14,
   "metadata": {
    "scrolled": true
   },
   "outputs": [
    {
     "name": "stderr",
     "output_type": "stream",
     "text": [
      "/Users/darishsakeesing/opt/anaconda3/lib/python3.8/site-packages/dask/core.py:121: DtypeWarning: Columns (59) have mixed types.Specify dtype option on import or set low_memory=False.\n",
      "  return func(*(_execute_task(a, cache) for a in args))\n",
      "/Users/darishsakeesing/opt/anaconda3/lib/python3.8/site-packages/dask/core.py:121: DtypeWarning: Columns (129,130,131,134,135,136,139,145,146,147) have mixed types.Specify dtype option on import or set low_memory=False.\n",
      "  return func(*(_execute_task(a, cache) for a in args))\n",
      "/Users/darishsakeesing/opt/anaconda3/lib/python3.8/site-packages/dask/core.py:121: DtypeWarning: Columns (59) have mixed types.Specify dtype option on import or set low_memory=False.\n",
      "  return func(*(_execute_task(a, cache) for a in args))\n",
      "/Users/darishsakeesing/opt/anaconda3/lib/python3.8/site-packages/dask/core.py:121: DtypeWarning: Columns (59,129,130,131,134,135,136,139,145,146,147) have mixed types.Specify dtype option on import or set low_memory=False.\n",
      "  return func(*(_execute_task(a, cache) for a in args))\n",
      "/Users/darishsakeesing/opt/anaconda3/lib/python3.8/site-packages/dask/core.py:121: DtypeWarning: Columns (129,130,131,134,135,136,139,145,146,147) have mixed types.Specify dtype option on import or set low_memory=False.\n",
      "  return func(*(_execute_task(a, cache) for a in args))\n",
      "/Users/darishsakeesing/opt/anaconda3/lib/python3.8/site-packages/dask/core.py:121: DtypeWarning: Columns (129,130,131,134,135,136,139) have mixed types.Specify dtype option on import or set low_memory=False.\n",
      "  return func(*(_execute_task(a, cache) for a in args))\n",
      "/Users/darishsakeesing/opt/anaconda3/lib/python3.8/site-packages/dask/core.py:121: DtypeWarning: Columns (49,59,129,130,131,134,135,136,139) have mixed types.Specify dtype option on import or set low_memory=False.\n",
      "  return func(*(_execute_task(a, cache) for a in args))\n",
      "/Users/darishsakeesing/opt/anaconda3/lib/python3.8/site-packages/dask/core.py:121: DtypeWarning: Columns (49,59,129,130,131,134,135,136,139,145,146,147) have mixed types.Specify dtype option on import or set low_memory=False.\n",
      "  return func(*(_execute_task(a, cache) for a in args))\n",
      "/Users/darishsakeesing/opt/anaconda3/lib/python3.8/site-packages/dask/core.py:121: DtypeWarning: Columns (59) have mixed types.Specify dtype option on import or set low_memory=False.\n",
      "  return func(*(_execute_task(a, cache) for a in args))\n"
     ]
    },
    {
     "name": "stdout",
     "output_type": "stream",
     "text": [
      "True     2252050\n",
      "False       8651\n",
      "Name: orig_projected_additional_accrued_interest, dtype: int64\n"
     ]
    },
    {
     "name": "stderr",
     "output_type": "stream",
     "text": [
      "/Users/darishsakeesing/opt/anaconda3/lib/python3.8/site-packages/dask/core.py:121: DtypeWarning: Columns (59) have mixed types.Specify dtype option on import or set low_memory=False.\n",
      "  return func(*(_execute_task(a, cache) for a in args))\n",
      "/Users/darishsakeesing/opt/anaconda3/lib/python3.8/site-packages/dask/core.py:121: DtypeWarning: Columns (129,130,131,134,135,136,139,145,146,147) have mixed types.Specify dtype option on import or set low_memory=False.\n",
      "  return func(*(_execute_task(a, cache) for a in args))\n",
      "/Users/darishsakeesing/opt/anaconda3/lib/python3.8/site-packages/dask/core.py:121: DtypeWarning: Columns (59) have mixed types.Specify dtype option on import or set low_memory=False.\n",
      "  return func(*(_execute_task(a, cache) for a in args))\n",
      "/Users/darishsakeesing/opt/anaconda3/lib/python3.8/site-packages/dask/core.py:121: DtypeWarning: Columns (59,129,130,131,134,135,136,139,145,146,147) have mixed types.Specify dtype option on import or set low_memory=False.\n",
      "  return func(*(_execute_task(a, cache) for a in args))\n",
      "/Users/darishsakeesing/opt/anaconda3/lib/python3.8/site-packages/dask/core.py:121: DtypeWarning: Columns (129,130,131,134,135,136,139,145,146,147) have mixed types.Specify dtype option on import or set low_memory=False.\n",
      "  return func(*(_execute_task(a, cache) for a in args))\n",
      "/Users/darishsakeesing/opt/anaconda3/lib/python3.8/site-packages/dask/core.py:121: DtypeWarning: Columns (129,130,131,134,135,136,139) have mixed types.Specify dtype option on import or set low_memory=False.\n",
      "  return func(*(_execute_task(a, cache) for a in args))\n",
      "/Users/darishsakeesing/opt/anaconda3/lib/python3.8/site-packages/dask/core.py:121: DtypeWarning: Columns (49,59,129,130,131,134,135,136,139) have mixed types.Specify dtype option on import or set low_memory=False.\n",
      "  return func(*(_execute_task(a, cache) for a in args))\n",
      "/Users/darishsakeesing/opt/anaconda3/lib/python3.8/site-packages/dask/core.py:121: DtypeWarning: Columns (49,59,129,130,131,134,135,136,139,145,146,147) have mixed types.Specify dtype option on import or set low_memory=False.\n",
      "  return func(*(_execute_task(a, cache) for a in args))\n",
      "/Users/darishsakeesing/opt/anaconda3/lib/python3.8/site-packages/dask/core.py:121: DtypeWarning: Columns (59) have mixed types.Specify dtype option on import or set low_memory=False.\n",
      "  return func(*(_execute_task(a, cache) for a in args))\n"
     ]
    },
    {
     "name": "stdout",
     "output_type": "stream",
     "text": [
      "False    2260668\n",
      "True          33\n",
      "Name: out_prncp, dtype: int64\n"
     ]
    },
    {
     "name": "stderr",
     "output_type": "stream",
     "text": [
      "/Users/darishsakeesing/opt/anaconda3/lib/python3.8/site-packages/dask/core.py:121: DtypeWarning: Columns (59) have mixed types.Specify dtype option on import or set low_memory=False.\n",
      "  return func(*(_execute_task(a, cache) for a in args))\n",
      "/Users/darishsakeesing/opt/anaconda3/lib/python3.8/site-packages/dask/core.py:121: DtypeWarning: Columns (129,130,131,134,135,136,139,145,146,147) have mixed types.Specify dtype option on import or set low_memory=False.\n",
      "  return func(*(_execute_task(a, cache) for a in args))\n",
      "/Users/darishsakeesing/opt/anaconda3/lib/python3.8/site-packages/dask/core.py:121: DtypeWarning: Columns (59) have mixed types.Specify dtype option on import or set low_memory=False.\n",
      "  return func(*(_execute_task(a, cache) for a in args))\n",
      "/Users/darishsakeesing/opt/anaconda3/lib/python3.8/site-packages/dask/core.py:121: DtypeWarning: Columns (59,129,130,131,134,135,136,139,145,146,147) have mixed types.Specify dtype option on import or set low_memory=False.\n",
      "  return func(*(_execute_task(a, cache) for a in args))\n",
      "/Users/darishsakeesing/opt/anaconda3/lib/python3.8/site-packages/dask/core.py:121: DtypeWarning: Columns (129,130,131,134,135,136,139,145,146,147) have mixed types.Specify dtype option on import or set low_memory=False.\n",
      "  return func(*(_execute_task(a, cache) for a in args))\n",
      "/Users/darishsakeesing/opt/anaconda3/lib/python3.8/site-packages/dask/core.py:121: DtypeWarning: Columns (129,130,131,134,135,136,139) have mixed types.Specify dtype option on import or set low_memory=False.\n",
      "  return func(*(_execute_task(a, cache) for a in args))\n",
      "/Users/darishsakeesing/opt/anaconda3/lib/python3.8/site-packages/dask/core.py:121: DtypeWarning: Columns (49,59,129,130,131,134,135,136,139) have mixed types.Specify dtype option on import or set low_memory=False.\n",
      "  return func(*(_execute_task(a, cache) for a in args))\n",
      "/Users/darishsakeesing/opt/anaconda3/lib/python3.8/site-packages/dask/core.py:121: DtypeWarning: Columns (49,59,129,130,131,134,135,136,139,145,146,147) have mixed types.Specify dtype option on import or set low_memory=False.\n",
      "  return func(*(_execute_task(a, cache) for a in args))\n",
      "/Users/darishsakeesing/opt/anaconda3/lib/python3.8/site-packages/dask/core.py:121: DtypeWarning: Columns (59) have mixed types.Specify dtype option on import or set low_memory=False.\n",
      "  return func(*(_execute_task(a, cache) for a in args))\n"
     ]
    },
    {
     "name": "stdout",
     "output_type": "stream",
     "text": [
      "False    2260668\n",
      "True          33\n",
      "Name: out_prncp_inv, dtype: int64\n"
     ]
    },
    {
     "name": "stderr",
     "output_type": "stream",
     "text": [
      "/Users/darishsakeesing/opt/anaconda3/lib/python3.8/site-packages/dask/core.py:121: DtypeWarning: Columns (59) have mixed types.Specify dtype option on import or set low_memory=False.\n",
      "  return func(*(_execute_task(a, cache) for a in args))\n",
      "/Users/darishsakeesing/opt/anaconda3/lib/python3.8/site-packages/dask/core.py:121: DtypeWarning: Columns (129,130,131,134,135,136,139,145,146,147) have mixed types.Specify dtype option on import or set low_memory=False.\n",
      "  return func(*(_execute_task(a, cache) for a in args))\n",
      "/Users/darishsakeesing/opt/anaconda3/lib/python3.8/site-packages/dask/core.py:121: DtypeWarning: Columns (59) have mixed types.Specify dtype option on import or set low_memory=False.\n",
      "  return func(*(_execute_task(a, cache) for a in args))\n",
      "/Users/darishsakeesing/opt/anaconda3/lib/python3.8/site-packages/dask/core.py:121: DtypeWarning: Columns (59,129,130,131,134,135,136,139,145,146,147) have mixed types.Specify dtype option on import or set low_memory=False.\n",
      "  return func(*(_execute_task(a, cache) for a in args))\n",
      "/Users/darishsakeesing/opt/anaconda3/lib/python3.8/site-packages/dask/core.py:121: DtypeWarning: Columns (129,130,131,134,135,136,139,145,146,147) have mixed types.Specify dtype option on import or set low_memory=False.\n",
      "  return func(*(_execute_task(a, cache) for a in args))\n",
      "/Users/darishsakeesing/opt/anaconda3/lib/python3.8/site-packages/dask/core.py:121: DtypeWarning: Columns (129,130,131,134,135,136,139) have mixed types.Specify dtype option on import or set low_memory=False.\n",
      "  return func(*(_execute_task(a, cache) for a in args))\n",
      "/Users/darishsakeesing/opt/anaconda3/lib/python3.8/site-packages/dask/core.py:121: DtypeWarning: Columns (49,59,129,130,131,134,135,136,139) have mixed types.Specify dtype option on import or set low_memory=False.\n",
      "  return func(*(_execute_task(a, cache) for a in args))\n",
      "/Users/darishsakeesing/opt/anaconda3/lib/python3.8/site-packages/dask/core.py:121: DtypeWarning: Columns (49,59,129,130,131,134,135,136,139,145,146,147) have mixed types.Specify dtype option on import or set low_memory=False.\n",
      "  return func(*(_execute_task(a, cache) for a in args))\n",
      "/Users/darishsakeesing/opt/anaconda3/lib/python3.8/site-packages/dask/core.py:121: DtypeWarning: Columns (59) have mixed types.Specify dtype option on import or set low_memory=False.\n",
      "  return func(*(_execute_task(a, cache) for a in args))\n"
     ]
    },
    {
     "name": "stdout",
     "output_type": "stream",
     "text": [
      "True     2249784\n",
      "False      10917\n",
      "Name: payment_plan_start_date, dtype: int64\n"
     ]
    },
    {
     "name": "stderr",
     "output_type": "stream",
     "text": [
      "/Users/darishsakeesing/opt/anaconda3/lib/python3.8/site-packages/dask/core.py:121: DtypeWarning: Columns (59) have mixed types.Specify dtype option on import or set low_memory=False.\n",
      "  return func(*(_execute_task(a, cache) for a in args))\n",
      "/Users/darishsakeesing/opt/anaconda3/lib/python3.8/site-packages/dask/core.py:121: DtypeWarning: Columns (129,130,131,134,135,136,139,145,146,147) have mixed types.Specify dtype option on import or set low_memory=False.\n",
      "  return func(*(_execute_task(a, cache) for a in args))\n",
      "/Users/darishsakeesing/opt/anaconda3/lib/python3.8/site-packages/dask/core.py:121: DtypeWarning: Columns (59) have mixed types.Specify dtype option on import or set low_memory=False.\n",
      "  return func(*(_execute_task(a, cache) for a in args))\n",
      "/Users/darishsakeesing/opt/anaconda3/lib/python3.8/site-packages/dask/core.py:121: DtypeWarning: Columns (59,129,130,131,134,135,136,139,145,146,147) have mixed types.Specify dtype option on import or set low_memory=False.\n",
      "  return func(*(_execute_task(a, cache) for a in args))\n",
      "/Users/darishsakeesing/opt/anaconda3/lib/python3.8/site-packages/dask/core.py:121: DtypeWarning: Columns (129,130,131,134,135,136,139,145,146,147) have mixed types.Specify dtype option on import or set low_memory=False.\n",
      "  return func(*(_execute_task(a, cache) for a in args))\n",
      "/Users/darishsakeesing/opt/anaconda3/lib/python3.8/site-packages/dask/core.py:121: DtypeWarning: Columns (129,130,131,134,135,136,139) have mixed types.Specify dtype option on import or set low_memory=False.\n",
      "  return func(*(_execute_task(a, cache) for a in args))\n",
      "/Users/darishsakeesing/opt/anaconda3/lib/python3.8/site-packages/dask/core.py:121: DtypeWarning: Columns (49,59,129,130,131,134,135,136,139) have mixed types.Specify dtype option on import or set low_memory=False.\n",
      "  return func(*(_execute_task(a, cache) for a in args))\n",
      "/Users/darishsakeesing/opt/anaconda3/lib/python3.8/site-packages/dask/core.py:121: DtypeWarning: Columns (49,59,129,130,131,134,135,136,139,145,146,147) have mixed types.Specify dtype option on import or set low_memory=False.\n",
      "  return func(*(_execute_task(a, cache) for a in args))\n",
      "/Users/darishsakeesing/opt/anaconda3/lib/python3.8/site-packages/dask/core.py:121: DtypeWarning: Columns (59) have mixed types.Specify dtype option on import or set low_memory=False.\n",
      "  return func(*(_execute_task(a, cache) for a in args))\n"
     ]
    },
    {
     "name": "stdout",
     "output_type": "stream",
     "text": [
      "False    2190237\n",
      "True       70464\n",
      "Name: pct_tl_nvr_dlq, dtype: int64\n"
     ]
    },
    {
     "name": "stderr",
     "output_type": "stream",
     "text": [
      "/Users/darishsakeesing/opt/anaconda3/lib/python3.8/site-packages/dask/core.py:121: DtypeWarning: Columns (59) have mixed types.Specify dtype option on import or set low_memory=False.\n",
      "  return func(*(_execute_task(a, cache) for a in args))\n",
      "/Users/darishsakeesing/opt/anaconda3/lib/python3.8/site-packages/dask/core.py:121: DtypeWarning: Columns (129,130,131,134,135,136,139,145,146,147) have mixed types.Specify dtype option on import or set low_memory=False.\n",
      "  return func(*(_execute_task(a, cache) for a in args))\n",
      "/Users/darishsakeesing/opt/anaconda3/lib/python3.8/site-packages/dask/core.py:121: DtypeWarning: Columns (59) have mixed types.Specify dtype option on import or set low_memory=False.\n",
      "  return func(*(_execute_task(a, cache) for a in args))\n",
      "/Users/darishsakeesing/opt/anaconda3/lib/python3.8/site-packages/dask/core.py:121: DtypeWarning: Columns (59,129,130,131,134,135,136,139,145,146,147) have mixed types.Specify dtype option on import or set low_memory=False.\n",
      "  return func(*(_execute_task(a, cache) for a in args))\n",
      "/Users/darishsakeesing/opt/anaconda3/lib/python3.8/site-packages/dask/core.py:121: DtypeWarning: Columns (129,130,131,134,135,136,139,145,146,147) have mixed types.Specify dtype option on import or set low_memory=False.\n",
      "  return func(*(_execute_task(a, cache) for a in args))\n",
      "/Users/darishsakeesing/opt/anaconda3/lib/python3.8/site-packages/dask/core.py:121: DtypeWarning: Columns (129,130,131,134,135,136,139) have mixed types.Specify dtype option on import or set low_memory=False.\n",
      "  return func(*(_execute_task(a, cache) for a in args))\n",
      "/Users/darishsakeesing/opt/anaconda3/lib/python3.8/site-packages/dask/core.py:121: DtypeWarning: Columns (49,59,129,130,131,134,135,136,139) have mixed types.Specify dtype option on import or set low_memory=False.\n",
      "  return func(*(_execute_task(a, cache) for a in args))\n",
      "/Users/darishsakeesing/opt/anaconda3/lib/python3.8/site-packages/dask/core.py:121: DtypeWarning: Columns (49,59,129,130,131,134,135,136,139,145,146,147) have mixed types.Specify dtype option on import or set low_memory=False.\n",
      "  return func(*(_execute_task(a, cache) for a in args))\n",
      "/Users/darishsakeesing/opt/anaconda3/lib/python3.8/site-packages/dask/core.py:121: DtypeWarning: Columns (59) have mixed types.Specify dtype option on import or set low_memory=False.\n",
      "  return func(*(_execute_task(a, cache) for a in args))\n"
     ]
    },
    {
     "name": "stdout",
     "output_type": "stream",
     "text": [
      "False    2185289\n",
      "True       75412\n",
      "Name: percent_bc_gt_75, dtype: int64\n"
     ]
    },
    {
     "name": "stderr",
     "output_type": "stream",
     "text": [
      "/Users/darishsakeesing/opt/anaconda3/lib/python3.8/site-packages/dask/core.py:121: DtypeWarning: Columns (59) have mixed types.Specify dtype option on import or set low_memory=False.\n",
      "  return func(*(_execute_task(a, cache) for a in args))\n",
      "/Users/darishsakeesing/opt/anaconda3/lib/python3.8/site-packages/dask/core.py:121: DtypeWarning: Columns (129,130,131,134,135,136,139,145,146,147) have mixed types.Specify dtype option on import or set low_memory=False.\n",
      "  return func(*(_execute_task(a, cache) for a in args))\n",
      "/Users/darishsakeesing/opt/anaconda3/lib/python3.8/site-packages/dask/core.py:121: DtypeWarning: Columns (59) have mixed types.Specify dtype option on import or set low_memory=False.\n",
      "  return func(*(_execute_task(a, cache) for a in args))\n",
      "/Users/darishsakeesing/opt/anaconda3/lib/python3.8/site-packages/dask/core.py:121: DtypeWarning: Columns (59,129,130,131,134,135,136,139,145,146,147) have mixed types.Specify dtype option on import or set low_memory=False.\n",
      "  return func(*(_execute_task(a, cache) for a in args))\n",
      "/Users/darishsakeesing/opt/anaconda3/lib/python3.8/site-packages/dask/core.py:121: DtypeWarning: Columns (129,130,131,134,135,136,139) have mixed types.Specify dtype option on import or set low_memory=False.\n",
      "  return func(*(_execute_task(a, cache) for a in args))\n",
      "/Users/darishsakeesing/opt/anaconda3/lib/python3.8/site-packages/dask/core.py:121: DtypeWarning: Columns (129,130,131,134,135,136,139,145,146,147) have mixed types.Specify dtype option on import or set low_memory=False.\n",
      "  return func(*(_execute_task(a, cache) for a in args))\n",
      "/Users/darishsakeesing/opt/anaconda3/lib/python3.8/site-packages/dask/core.py:121: DtypeWarning: Columns (49,59,129,130,131,134,135,136,139) have mixed types.Specify dtype option on import or set low_memory=False.\n",
      "  return func(*(_execute_task(a, cache) for a in args))\n",
      "/Users/darishsakeesing/opt/anaconda3/lib/python3.8/site-packages/dask/core.py:121: DtypeWarning: Columns (49,59,129,130,131,134,135,136,139,145,146,147) have mixed types.Specify dtype option on import or set low_memory=False.\n",
      "  return func(*(_execute_task(a, cache) for a in args))\n",
      "/Users/darishsakeesing/opt/anaconda3/lib/python3.8/site-packages/dask/core.py:121: DtypeWarning: Columns (59) have mixed types.Specify dtype option on import or set low_memory=False.\n",
      "  return func(*(_execute_task(a, cache) for a in args))\n"
     ]
    },
    {
     "name": "stdout",
     "output_type": "stream",
     "text": [
      "False    2260668\n",
      "True          33\n",
      "Name: policy_code, dtype: int64\n"
     ]
    },
    {
     "name": "stderr",
     "output_type": "stream",
     "text": [
      "/Users/darishsakeesing/opt/anaconda3/lib/python3.8/site-packages/dask/core.py:121: DtypeWarning: Columns (59) have mixed types.Specify dtype option on import or set low_memory=False.\n",
      "  return func(*(_execute_task(a, cache) for a in args))\n",
      "/Users/darishsakeesing/opt/anaconda3/lib/python3.8/site-packages/dask/core.py:121: DtypeWarning: Columns (129,130,131,134,135,136,139,145,146,147) have mixed types.Specify dtype option on import or set low_memory=False.\n",
      "  return func(*(_execute_task(a, cache) for a in args))\n",
      "/Users/darishsakeesing/opt/anaconda3/lib/python3.8/site-packages/dask/core.py:121: DtypeWarning: Columns (59) have mixed types.Specify dtype option on import or set low_memory=False.\n",
      "  return func(*(_execute_task(a, cache) for a in args))\n",
      "/Users/darishsakeesing/opt/anaconda3/lib/python3.8/site-packages/dask/core.py:121: DtypeWarning: Columns (59,129,130,131,134,135,136,139,145,146,147) have mixed types.Specify dtype option on import or set low_memory=False.\n",
      "  return func(*(_execute_task(a, cache) for a in args))\n",
      "/Users/darishsakeesing/opt/anaconda3/lib/python3.8/site-packages/dask/core.py:121: DtypeWarning: Columns (129,130,131,134,135,136,139,145,146,147) have mixed types.Specify dtype option on import or set low_memory=False.\n",
      "  return func(*(_execute_task(a, cache) for a in args))\n",
      "/Users/darishsakeesing/opt/anaconda3/lib/python3.8/site-packages/dask/core.py:121: DtypeWarning: Columns (129,130,131,134,135,136,139) have mixed types.Specify dtype option on import or set low_memory=False.\n",
      "  return func(*(_execute_task(a, cache) for a in args))\n",
      "/Users/darishsakeesing/opt/anaconda3/lib/python3.8/site-packages/dask/core.py:121: DtypeWarning: Columns (49,59,129,130,131,134,135,136,139) have mixed types.Specify dtype option on import or set low_memory=False.\n",
      "  return func(*(_execute_task(a, cache) for a in args))\n",
      "/Users/darishsakeesing/opt/anaconda3/lib/python3.8/site-packages/dask/core.py:121: DtypeWarning: Columns (49,59,129,130,131,134,135,136,139,145,146,147) have mixed types.Specify dtype option on import or set low_memory=False.\n",
      "  return func(*(_execute_task(a, cache) for a in args))\n",
      "/Users/darishsakeesing/opt/anaconda3/lib/python3.8/site-packages/dask/core.py:121: DtypeWarning: Columns (59) have mixed types.Specify dtype option on import or set low_memory=False.\n",
      "  return func(*(_execute_task(a, cache) for a in args))\n"
     ]
    },
    {
     "name": "stdout",
     "output_type": "stream",
     "text": [
      "False    2260639\n",
      "True          62\n",
      "Name: pub_rec, dtype: int64\n"
     ]
    },
    {
     "name": "stderr",
     "output_type": "stream",
     "text": [
      "/Users/darishsakeesing/opt/anaconda3/lib/python3.8/site-packages/dask/core.py:121: DtypeWarning: Columns (59) have mixed types.Specify dtype option on import or set low_memory=False.\n",
      "  return func(*(_execute_task(a, cache) for a in args))\n",
      "/Users/darishsakeesing/opt/anaconda3/lib/python3.8/site-packages/dask/core.py:121: DtypeWarning: Columns (129,130,131,134,135,136,139,145,146,147) have mixed types.Specify dtype option on import or set low_memory=False.\n",
      "  return func(*(_execute_task(a, cache) for a in args))\n",
      "/Users/darishsakeesing/opt/anaconda3/lib/python3.8/site-packages/dask/core.py:121: DtypeWarning: Columns (59) have mixed types.Specify dtype option on import or set low_memory=False.\n",
      "  return func(*(_execute_task(a, cache) for a in args))\n",
      "/Users/darishsakeesing/opt/anaconda3/lib/python3.8/site-packages/dask/core.py:121: DtypeWarning: Columns (59,129,130,131,134,135,136,139,145,146,147) have mixed types.Specify dtype option on import or set low_memory=False.\n",
      "  return func(*(_execute_task(a, cache) for a in args))\n",
      "/Users/darishsakeesing/opt/anaconda3/lib/python3.8/site-packages/dask/core.py:121: DtypeWarning: Columns (129,130,131,134,135,136,139,145,146,147) have mixed types.Specify dtype option on import or set low_memory=False.\n",
      "  return func(*(_execute_task(a, cache) for a in args))\n",
      "/Users/darishsakeesing/opt/anaconda3/lib/python3.8/site-packages/dask/core.py:121: DtypeWarning: Columns (129,130,131,134,135,136,139) have mixed types.Specify dtype option on import or set low_memory=False.\n",
      "  return func(*(_execute_task(a, cache) for a in args))\n",
      "/Users/darishsakeesing/opt/anaconda3/lib/python3.8/site-packages/dask/core.py:121: DtypeWarning: Columns (49,59,129,130,131,134,135,136,139) have mixed types.Specify dtype option on import or set low_memory=False.\n",
      "  return func(*(_execute_task(a, cache) for a in args))\n",
      "/Users/darishsakeesing/opt/anaconda3/lib/python3.8/site-packages/dask/core.py:121: DtypeWarning: Columns (49,59,129,130,131,134,135,136,139,145,146,147) have mixed types.Specify dtype option on import or set low_memory=False.\n",
      "  return func(*(_execute_task(a, cache) for a in args))\n",
      "/Users/darishsakeesing/opt/anaconda3/lib/python3.8/site-packages/dask/core.py:121: DtypeWarning: Columns (59) have mixed types.Specify dtype option on import or set low_memory=False.\n",
      "  return func(*(_execute_task(a, cache) for a in args))\n"
     ]
    },
    {
     "name": "stdout",
     "output_type": "stream",
     "text": [
      "False    2259303\n",
      "True        1398\n",
      "Name: pub_rec_bankruptcies, dtype: int64\n"
     ]
    },
    {
     "name": "stderr",
     "output_type": "stream",
     "text": [
      "/Users/darishsakeesing/opt/anaconda3/lib/python3.8/site-packages/dask/core.py:121: DtypeWarning: Columns (59) have mixed types.Specify dtype option on import or set low_memory=False.\n",
      "  return func(*(_execute_task(a, cache) for a in args))\n",
      "/Users/darishsakeesing/opt/anaconda3/lib/python3.8/site-packages/dask/core.py:121: DtypeWarning: Columns (129,130,131,134,135,136,139,145,146,147) have mixed types.Specify dtype option on import or set low_memory=False.\n",
      "  return func(*(_execute_task(a, cache) for a in args))\n",
      "/Users/darishsakeesing/opt/anaconda3/lib/python3.8/site-packages/dask/core.py:121: DtypeWarning: Columns (59) have mixed types.Specify dtype option on import or set low_memory=False.\n",
      "  return func(*(_execute_task(a, cache) for a in args))\n",
      "/Users/darishsakeesing/opt/anaconda3/lib/python3.8/site-packages/dask/core.py:121: DtypeWarning: Columns (59,129,130,131,134,135,136,139,145,146,147) have mixed types.Specify dtype option on import or set low_memory=False.\n",
      "  return func(*(_execute_task(a, cache) for a in args))\n",
      "/Users/darishsakeesing/opt/anaconda3/lib/python3.8/site-packages/dask/core.py:121: DtypeWarning: Columns (129,130,131,134,135,136,139,145,146,147) have mixed types.Specify dtype option on import or set low_memory=False.\n",
      "  return func(*(_execute_task(a, cache) for a in args))\n",
      "/Users/darishsakeesing/opt/anaconda3/lib/python3.8/site-packages/dask/core.py:121: DtypeWarning: Columns (129,130,131,134,135,136,139) have mixed types.Specify dtype option on import or set low_memory=False.\n",
      "  return func(*(_execute_task(a, cache) for a in args))\n",
      "/Users/darishsakeesing/opt/anaconda3/lib/python3.8/site-packages/dask/core.py:121: DtypeWarning: Columns (49,59,129,130,131,134,135,136,139) have mixed types.Specify dtype option on import or set low_memory=False.\n",
      "  return func(*(_execute_task(a, cache) for a in args))\n",
      "/Users/darishsakeesing/opt/anaconda3/lib/python3.8/site-packages/dask/core.py:121: DtypeWarning: Columns (49,59,129,130,131,134,135,136,139,145,146,147) have mixed types.Specify dtype option on import or set low_memory=False.\n",
      "  return func(*(_execute_task(a, cache) for a in args))\n",
      "/Users/darishsakeesing/opt/anaconda3/lib/python3.8/site-packages/dask/core.py:121: DtypeWarning: Columns (59) have mixed types.Specify dtype option on import or set low_memory=False.\n",
      "  return func(*(_execute_task(a, cache) for a in args))\n"
     ]
    },
    {
     "name": "stdout",
     "output_type": "stream",
     "text": [
      "False    2260668\n",
      "True          33\n",
      "Name: purpose, dtype: int64\n"
     ]
    },
    {
     "name": "stderr",
     "output_type": "stream",
     "text": [
      "/Users/darishsakeesing/opt/anaconda3/lib/python3.8/site-packages/dask/core.py:121: DtypeWarning: Columns (59) have mixed types.Specify dtype option on import or set low_memory=False.\n",
      "  return func(*(_execute_task(a, cache) for a in args))\n",
      "/Users/darishsakeesing/opt/anaconda3/lib/python3.8/site-packages/dask/core.py:121: DtypeWarning: Columns (129,130,131,134,135,136,139,145,146,147) have mixed types.Specify dtype option on import or set low_memory=False.\n",
      "  return func(*(_execute_task(a, cache) for a in args))\n",
      "/Users/darishsakeesing/opt/anaconda3/lib/python3.8/site-packages/dask/core.py:121: DtypeWarning: Columns (59) have mixed types.Specify dtype option on import or set low_memory=False.\n",
      "  return func(*(_execute_task(a, cache) for a in args))\n",
      "/Users/darishsakeesing/opt/anaconda3/lib/python3.8/site-packages/dask/core.py:121: DtypeWarning: Columns (59,129,130,131,134,135,136,139,145,146,147) have mixed types.Specify dtype option on import or set low_memory=False.\n",
      "  return func(*(_execute_task(a, cache) for a in args))\n",
      "/Users/darishsakeesing/opt/anaconda3/lib/python3.8/site-packages/dask/core.py:121: DtypeWarning: Columns (129,130,131,134,135,136,139,145,146,147) have mixed types.Specify dtype option on import or set low_memory=False.\n",
      "  return func(*(_execute_task(a, cache) for a in args))\n",
      "/Users/darishsakeesing/opt/anaconda3/lib/python3.8/site-packages/dask/core.py:121: DtypeWarning: Columns (129,130,131,134,135,136,139) have mixed types.Specify dtype option on import or set low_memory=False.\n",
      "  return func(*(_execute_task(a, cache) for a in args))\n",
      "/Users/darishsakeesing/opt/anaconda3/lib/python3.8/site-packages/dask/core.py:121: DtypeWarning: Columns (49,59,129,130,131,134,135,136,139) have mixed types.Specify dtype option on import or set low_memory=False.\n",
      "  return func(*(_execute_task(a, cache) for a in args))\n",
      "/Users/darishsakeesing/opt/anaconda3/lib/python3.8/site-packages/dask/core.py:121: DtypeWarning: Columns (49,59,129,130,131,134,135,136,139,145,146,147) have mixed types.Specify dtype option on import or set low_memory=False.\n",
      "  return func(*(_execute_task(a, cache) for a in args))\n",
      "/Users/darishsakeesing/opt/anaconda3/lib/python3.8/site-packages/dask/core.py:121: DtypeWarning: Columns (59) have mixed types.Specify dtype option on import or set low_memory=False.\n",
      "  return func(*(_execute_task(a, cache) for a in args))\n"
     ]
    },
    {
     "name": "stdout",
     "output_type": "stream",
     "text": [
      "False    2260668\n",
      "True          33\n",
      "Name: pymnt_plan, dtype: int64\n"
     ]
    },
    {
     "name": "stderr",
     "output_type": "stream",
     "text": [
      "/Users/darishsakeesing/opt/anaconda3/lib/python3.8/site-packages/dask/core.py:121: DtypeWarning: Columns (59) have mixed types.Specify dtype option on import or set low_memory=False.\n",
      "  return func(*(_execute_task(a, cache) for a in args))\n",
      "/Users/darishsakeesing/opt/anaconda3/lib/python3.8/site-packages/dask/core.py:121: DtypeWarning: Columns (129,130,131,134,135,136,139,145,146,147) have mixed types.Specify dtype option on import or set low_memory=False.\n",
      "  return func(*(_execute_task(a, cache) for a in args))\n",
      "/Users/darishsakeesing/opt/anaconda3/lib/python3.8/site-packages/dask/core.py:121: DtypeWarning: Columns (59) have mixed types.Specify dtype option on import or set low_memory=False.\n",
      "  return func(*(_execute_task(a, cache) for a in args))\n",
      "/Users/darishsakeesing/opt/anaconda3/lib/python3.8/site-packages/dask/core.py:121: DtypeWarning: Columns (59,129,130,131,134,135,136,139,145,146,147) have mixed types.Specify dtype option on import or set low_memory=False.\n",
      "  return func(*(_execute_task(a, cache) for a in args))\n",
      "/Users/darishsakeesing/opt/anaconda3/lib/python3.8/site-packages/dask/core.py:121: DtypeWarning: Columns (129,130,131,134,135,136,139) have mixed types.Specify dtype option on import or set low_memory=False.\n",
      "  return func(*(_execute_task(a, cache) for a in args))\n",
      "/Users/darishsakeesing/opt/anaconda3/lib/python3.8/site-packages/dask/core.py:121: DtypeWarning: Columns (129,130,131,134,135,136,139,145,146,147) have mixed types.Specify dtype option on import or set low_memory=False.\n",
      "  return func(*(_execute_task(a, cache) for a in args))\n",
      "/Users/darishsakeesing/opt/anaconda3/lib/python3.8/site-packages/dask/core.py:121: DtypeWarning: Columns (49,59,129,130,131,134,135,136,139) have mixed types.Specify dtype option on import or set low_memory=False.\n",
      "  return func(*(_execute_task(a, cache) for a in args))\n",
      "/Users/darishsakeesing/opt/anaconda3/lib/python3.8/site-packages/dask/core.py:121: DtypeWarning: Columns (49,59,129,130,131,134,135,136,139,145,146,147) have mixed types.Specify dtype option on import or set low_memory=False.\n",
      "  return func(*(_execute_task(a, cache) for a in args))\n",
      "/Users/darishsakeesing/opt/anaconda3/lib/python3.8/site-packages/dask/core.py:121: DtypeWarning: Columns (59) have mixed types.Specify dtype option on import or set low_memory=False.\n",
      "  return func(*(_execute_task(a, cache) for a in args))\n"
     ]
    },
    {
     "name": "stdout",
     "output_type": "stream",
     "text": [
      "False    2260668\n",
      "True          33\n",
      "Name: recoveries, dtype: int64\n"
     ]
    },
    {
     "name": "stderr",
     "output_type": "stream",
     "text": [
      "/Users/darishsakeesing/opt/anaconda3/lib/python3.8/site-packages/dask/core.py:121: DtypeWarning: Columns (59) have mixed types.Specify dtype option on import or set low_memory=False.\n",
      "  return func(*(_execute_task(a, cache) for a in args))\n",
      "/Users/darishsakeesing/opt/anaconda3/lib/python3.8/site-packages/dask/core.py:121: DtypeWarning: Columns (129,130,131,134,135,136,139,145,146,147) have mixed types.Specify dtype option on import or set low_memory=False.\n",
      "  return func(*(_execute_task(a, cache) for a in args))\n",
      "/Users/darishsakeesing/opt/anaconda3/lib/python3.8/site-packages/dask/core.py:121: DtypeWarning: Columns (59) have mixed types.Specify dtype option on import or set low_memory=False.\n",
      "  return func(*(_execute_task(a, cache) for a in args))\n",
      "/Users/darishsakeesing/opt/anaconda3/lib/python3.8/site-packages/dask/core.py:121: DtypeWarning: Columns (59,129,130,131,134,135,136,139,145,146,147) have mixed types.Specify dtype option on import or set low_memory=False.\n",
      "  return func(*(_execute_task(a, cache) for a in args))\n",
      "/Users/darishsakeesing/opt/anaconda3/lib/python3.8/site-packages/dask/core.py:121: DtypeWarning: Columns (129,130,131,134,135,136,139,145,146,147) have mixed types.Specify dtype option on import or set low_memory=False.\n",
      "  return func(*(_execute_task(a, cache) for a in args))\n",
      "/Users/darishsakeesing/opt/anaconda3/lib/python3.8/site-packages/dask/core.py:121: DtypeWarning: Columns (129,130,131,134,135,136,139) have mixed types.Specify dtype option on import or set low_memory=False.\n",
      "  return func(*(_execute_task(a, cache) for a in args))\n",
      "/Users/darishsakeesing/opt/anaconda3/lib/python3.8/site-packages/dask/core.py:121: DtypeWarning: Columns (49,59,129,130,131,134,135,136,139) have mixed types.Specify dtype option on import or set low_memory=False.\n",
      "  return func(*(_execute_task(a, cache) for a in args))\n",
      "/Users/darishsakeesing/opt/anaconda3/lib/python3.8/site-packages/dask/core.py:121: DtypeWarning: Columns (49,59,129,130,131,134,135,136,139,145,146,147) have mixed types.Specify dtype option on import or set low_memory=False.\n",
      "  return func(*(_execute_task(a, cache) for a in args))\n",
      "/Users/darishsakeesing/opt/anaconda3/lib/python3.8/site-packages/dask/core.py:121: DtypeWarning: Columns (59) have mixed types.Specify dtype option on import or set low_memory=False.\n",
      "  return func(*(_execute_task(a, cache) for a in args))\n"
     ]
    },
    {
     "name": "stdout",
     "output_type": "stream",
     "text": [
      "False    2260668\n",
      "True          33\n",
      "Name: revol_bal, dtype: int64\n"
     ]
    },
    {
     "name": "stderr",
     "output_type": "stream",
     "text": [
      "/Users/darishsakeesing/opt/anaconda3/lib/python3.8/site-packages/dask/core.py:121: DtypeWarning: Columns (59) have mixed types.Specify dtype option on import or set low_memory=False.\n",
      "  return func(*(_execute_task(a, cache) for a in args))\n",
      "/Users/darishsakeesing/opt/anaconda3/lib/python3.8/site-packages/dask/core.py:121: DtypeWarning: Columns (129,130,131,134,135,136,139,145,146,147) have mixed types.Specify dtype option on import or set low_memory=False.\n",
      "  return func(*(_execute_task(a, cache) for a in args))\n",
      "/Users/darishsakeesing/opt/anaconda3/lib/python3.8/site-packages/dask/core.py:121: DtypeWarning: Columns (59) have mixed types.Specify dtype option on import or set low_memory=False.\n",
      "  return func(*(_execute_task(a, cache) for a in args))\n",
      "/Users/darishsakeesing/opt/anaconda3/lib/python3.8/site-packages/dask/core.py:121: DtypeWarning: Columns (59,129,130,131,134,135,136,139,145,146,147) have mixed types.Specify dtype option on import or set low_memory=False.\n",
      "  return func(*(_execute_task(a, cache) for a in args))\n",
      "/Users/darishsakeesing/opt/anaconda3/lib/python3.8/site-packages/dask/core.py:121: DtypeWarning: Columns (129,130,131,134,135,136,139,145,146,147) have mixed types.Specify dtype option on import or set low_memory=False.\n",
      "  return func(*(_execute_task(a, cache) for a in args))\n",
      "/Users/darishsakeesing/opt/anaconda3/lib/python3.8/site-packages/dask/core.py:121: DtypeWarning: Columns (129,130,131,134,135,136,139) have mixed types.Specify dtype option on import or set low_memory=False.\n",
      "  return func(*(_execute_task(a, cache) for a in args))\n",
      "/Users/darishsakeesing/opt/anaconda3/lib/python3.8/site-packages/dask/core.py:121: DtypeWarning: Columns (49,59,129,130,131,134,135,136,139) have mixed types.Specify dtype option on import or set low_memory=False.\n",
      "  return func(*(_execute_task(a, cache) for a in args))\n",
      "/Users/darishsakeesing/opt/anaconda3/lib/python3.8/site-packages/dask/core.py:121: DtypeWarning: Columns (49,59,129,130,131,134,135,136,139,145,146,147) have mixed types.Specify dtype option on import or set low_memory=False.\n",
      "  return func(*(_execute_task(a, cache) for a in args))\n",
      "/Users/darishsakeesing/opt/anaconda3/lib/python3.8/site-packages/dask/core.py:121: DtypeWarning: Columns (59) have mixed types.Specify dtype option on import or set low_memory=False.\n",
      "  return func(*(_execute_task(a, cache) for a in args))\n"
     ]
    },
    {
     "name": "stdout",
     "output_type": "stream",
     "text": [
      "True     2152681\n",
      "False     108020\n",
      "Name: revol_bal_joint, dtype: int64\n"
     ]
    },
    {
     "name": "stderr",
     "output_type": "stream",
     "text": [
      "/Users/darishsakeesing/opt/anaconda3/lib/python3.8/site-packages/dask/core.py:121: DtypeWarning: Columns (59) have mixed types.Specify dtype option on import or set low_memory=False.\n",
      "  return func(*(_execute_task(a, cache) for a in args))\n",
      "/Users/darishsakeesing/opt/anaconda3/lib/python3.8/site-packages/dask/core.py:121: DtypeWarning: Columns (129,130,131,134,135,136,139,145,146,147) have mixed types.Specify dtype option on import or set low_memory=False.\n",
      "  return func(*(_execute_task(a, cache) for a in args))\n",
      "/Users/darishsakeesing/opt/anaconda3/lib/python3.8/site-packages/dask/core.py:121: DtypeWarning: Columns (59) have mixed types.Specify dtype option on import or set low_memory=False.\n",
      "  return func(*(_execute_task(a, cache) for a in args))\n",
      "/Users/darishsakeesing/opt/anaconda3/lib/python3.8/site-packages/dask/core.py:121: DtypeWarning: Columns (59,129,130,131,134,135,136,139,145,146,147) have mixed types.Specify dtype option on import or set low_memory=False.\n",
      "  return func(*(_execute_task(a, cache) for a in args))\n",
      "/Users/darishsakeesing/opt/anaconda3/lib/python3.8/site-packages/dask/core.py:121: DtypeWarning: Columns (129,130,131,134,135,136,139,145,146,147) have mixed types.Specify dtype option on import or set low_memory=False.\n",
      "  return func(*(_execute_task(a, cache) for a in args))\n",
      "/Users/darishsakeesing/opt/anaconda3/lib/python3.8/site-packages/dask/core.py:121: DtypeWarning: Columns (129,130,131,134,135,136,139) have mixed types.Specify dtype option on import or set low_memory=False.\n",
      "  return func(*(_execute_task(a, cache) for a in args))\n",
      "/Users/darishsakeesing/opt/anaconda3/lib/python3.8/site-packages/dask/core.py:121: DtypeWarning: Columns (49,59,129,130,131,134,135,136,139) have mixed types.Specify dtype option on import or set low_memory=False.\n",
      "  return func(*(_execute_task(a, cache) for a in args))\n",
      "/Users/darishsakeesing/opt/anaconda3/lib/python3.8/site-packages/dask/core.py:121: DtypeWarning: Columns (49,59,129,130,131,134,135,136,139,145,146,147) have mixed types.Specify dtype option on import or set low_memory=False.\n",
      "  return func(*(_execute_task(a, cache) for a in args))\n",
      "/Users/darishsakeesing/opt/anaconda3/lib/python3.8/site-packages/dask/core.py:121: DtypeWarning: Columns (59) have mixed types.Specify dtype option on import or set low_memory=False.\n",
      "  return func(*(_execute_task(a, cache) for a in args))\n"
     ]
    },
    {
     "name": "stdout",
     "output_type": "stream",
     "text": [
      "False    2258866\n",
      "True        1835\n",
      "Name: revol_util, dtype: int64\n"
     ]
    },
    {
     "name": "stderr",
     "output_type": "stream",
     "text": [
      "/Users/darishsakeesing/opt/anaconda3/lib/python3.8/site-packages/dask/core.py:121: DtypeWarning: Columns (59) have mixed types.Specify dtype option on import or set low_memory=False.\n",
      "  return func(*(_execute_task(a, cache) for a in args))\n",
      "/Users/darishsakeesing/opt/anaconda3/lib/python3.8/site-packages/dask/core.py:121: DtypeWarning: Columns (129,130,131,134,135,136,139,145,146,147) have mixed types.Specify dtype option on import or set low_memory=False.\n",
      "  return func(*(_execute_task(a, cache) for a in args))\n",
      "/Users/darishsakeesing/opt/anaconda3/lib/python3.8/site-packages/dask/core.py:121: DtypeWarning: Columns (59) have mixed types.Specify dtype option on import or set low_memory=False.\n",
      "  return func(*(_execute_task(a, cache) for a in args))\n",
      "/Users/darishsakeesing/opt/anaconda3/lib/python3.8/site-packages/dask/core.py:121: DtypeWarning: Columns (59,129,130,131,134,135,136,139,145,146,147) have mixed types.Specify dtype option on import or set low_memory=False.\n",
      "  return func(*(_execute_task(a, cache) for a in args))\n",
      "/Users/darishsakeesing/opt/anaconda3/lib/python3.8/site-packages/dask/core.py:121: DtypeWarning: Columns (129,130,131,134,135,136,139) have mixed types.Specify dtype option on import or set low_memory=False.\n",
      "  return func(*(_execute_task(a, cache) for a in args))\n",
      "/Users/darishsakeesing/opt/anaconda3/lib/python3.8/site-packages/dask/core.py:121: DtypeWarning: Columns (129,130,131,134,135,136,139,145,146,147) have mixed types.Specify dtype option on import or set low_memory=False.\n",
      "  return func(*(_execute_task(a, cache) for a in args))\n",
      "/Users/darishsakeesing/opt/anaconda3/lib/python3.8/site-packages/dask/core.py:121: DtypeWarning: Columns (49,59,129,130,131,134,135,136,139) have mixed types.Specify dtype option on import or set low_memory=False.\n",
      "  return func(*(_execute_task(a, cache) for a in args))\n",
      "/Users/darishsakeesing/opt/anaconda3/lib/python3.8/site-packages/dask/core.py:121: DtypeWarning: Columns (49,59,129,130,131,134,135,136,139,145,146,147) have mixed types.Specify dtype option on import or set low_memory=False.\n",
      "  return func(*(_execute_task(a, cache) for a in args))\n",
      "/Users/darishsakeesing/opt/anaconda3/lib/python3.8/site-packages/dask/core.py:121: DtypeWarning: Columns (59) have mixed types.Specify dtype option on import or set low_memory=False.\n",
      "  return func(*(_execute_task(a, cache) for a in args))\n"
     ]
    },
    {
     "name": "stdout",
     "output_type": "stream",
     "text": [
      "True     2152680\n",
      "False     108021\n",
      "Name: sec_app_chargeoff_within_12_mths, dtype: int64\n"
     ]
    },
    {
     "name": "stderr",
     "output_type": "stream",
     "text": [
      "/Users/darishsakeesing/opt/anaconda3/lib/python3.8/site-packages/dask/core.py:121: DtypeWarning: Columns (59) have mixed types.Specify dtype option on import or set low_memory=False.\n",
      "  return func(*(_execute_task(a, cache) for a in args))\n",
      "/Users/darishsakeesing/opt/anaconda3/lib/python3.8/site-packages/dask/core.py:121: DtypeWarning: Columns (129,130,131,134,135,136,139,145,146,147) have mixed types.Specify dtype option on import or set low_memory=False.\n",
      "  return func(*(_execute_task(a, cache) for a in args))\n",
      "/Users/darishsakeesing/opt/anaconda3/lib/python3.8/site-packages/dask/core.py:121: DtypeWarning: Columns (59) have mixed types.Specify dtype option on import or set low_memory=False.\n",
      "  return func(*(_execute_task(a, cache) for a in args))\n",
      "/Users/darishsakeesing/opt/anaconda3/lib/python3.8/site-packages/dask/core.py:121: DtypeWarning: Columns (59,129,130,131,134,135,136,139,145,146,147) have mixed types.Specify dtype option on import or set low_memory=False.\n",
      "  return func(*(_execute_task(a, cache) for a in args))\n",
      "/Users/darishsakeesing/opt/anaconda3/lib/python3.8/site-packages/dask/core.py:121: DtypeWarning: Columns (129,130,131,134,135,136,139) have mixed types.Specify dtype option on import or set low_memory=False.\n",
      "  return func(*(_execute_task(a, cache) for a in args))\n",
      "/Users/darishsakeesing/opt/anaconda3/lib/python3.8/site-packages/dask/core.py:121: DtypeWarning: Columns (129,130,131,134,135,136,139,145,146,147) have mixed types.Specify dtype option on import or set low_memory=False.\n",
      "  return func(*(_execute_task(a, cache) for a in args))\n",
      "/Users/darishsakeesing/opt/anaconda3/lib/python3.8/site-packages/dask/core.py:121: DtypeWarning: Columns (49,59,129,130,131,134,135,136,139) have mixed types.Specify dtype option on import or set low_memory=False.\n",
      "  return func(*(_execute_task(a, cache) for a in args))\n",
      "/Users/darishsakeesing/opt/anaconda3/lib/python3.8/site-packages/dask/core.py:121: DtypeWarning: Columns (49,59,129,130,131,134,135,136,139,145,146,147) have mixed types.Specify dtype option on import or set low_memory=False.\n",
      "  return func(*(_execute_task(a, cache) for a in args))\n",
      "/Users/darishsakeesing/opt/anaconda3/lib/python3.8/site-packages/dask/core.py:121: DtypeWarning: Columns (59) have mixed types.Specify dtype option on import or set low_memory=False.\n",
      "  return func(*(_execute_task(a, cache) for a in args))\n"
     ]
    },
    {
     "name": "stdout",
     "output_type": "stream",
     "text": [
      "True     2152680\n",
      "False     108021\n",
      "Name: sec_app_collections_12_mths_ex_med, dtype: int64\n"
     ]
    },
    {
     "name": "stderr",
     "output_type": "stream",
     "text": [
      "/Users/darishsakeesing/opt/anaconda3/lib/python3.8/site-packages/dask/core.py:121: DtypeWarning: Columns (59) have mixed types.Specify dtype option on import or set low_memory=False.\n",
      "  return func(*(_execute_task(a, cache) for a in args))\n",
      "/Users/darishsakeesing/opt/anaconda3/lib/python3.8/site-packages/dask/core.py:121: DtypeWarning: Columns (129,130,131,134,135,136,139,145,146,147) have mixed types.Specify dtype option on import or set low_memory=False.\n",
      "  return func(*(_execute_task(a, cache) for a in args))\n",
      "/Users/darishsakeesing/opt/anaconda3/lib/python3.8/site-packages/dask/core.py:121: DtypeWarning: Columns (59) have mixed types.Specify dtype option on import or set low_memory=False.\n",
      "  return func(*(_execute_task(a, cache) for a in args))\n",
      "/Users/darishsakeesing/opt/anaconda3/lib/python3.8/site-packages/dask/core.py:121: DtypeWarning: Columns (59,129,130,131,134,135,136,139,145,146,147) have mixed types.Specify dtype option on import or set low_memory=False.\n",
      "  return func(*(_execute_task(a, cache) for a in args))\n",
      "/Users/darishsakeesing/opt/anaconda3/lib/python3.8/site-packages/dask/core.py:121: DtypeWarning: Columns (129,130,131,134,135,136,139,145,146,147) have mixed types.Specify dtype option on import or set low_memory=False.\n",
      "  return func(*(_execute_task(a, cache) for a in args))\n",
      "/Users/darishsakeesing/opt/anaconda3/lib/python3.8/site-packages/dask/core.py:121: DtypeWarning: Columns (129,130,131,134,135,136,139) have mixed types.Specify dtype option on import or set low_memory=False.\n",
      "  return func(*(_execute_task(a, cache) for a in args))\n",
      "/Users/darishsakeesing/opt/anaconda3/lib/python3.8/site-packages/dask/core.py:121: DtypeWarning: Columns (49,59,129,130,131,134,135,136,139) have mixed types.Specify dtype option on import or set low_memory=False.\n",
      "  return func(*(_execute_task(a, cache) for a in args))\n",
      "/Users/darishsakeesing/opt/anaconda3/lib/python3.8/site-packages/dask/core.py:121: DtypeWarning: Columns (49,59,129,130,131,134,135,136,139,145,146,147) have mixed types.Specify dtype option on import or set low_memory=False.\n",
      "  return func(*(_execute_task(a, cache) for a in args))\n",
      "/Users/darishsakeesing/opt/anaconda3/lib/python3.8/site-packages/dask/core.py:121: DtypeWarning: Columns (59) have mixed types.Specify dtype option on import or set low_memory=False.\n",
      "  return func(*(_execute_task(a, cache) for a in args))\n"
     ]
    },
    {
     "name": "stdout",
     "output_type": "stream",
     "text": [
      "True     2152680\n",
      "False     108021\n",
      "Name: sec_app_earliest_cr_line, dtype: int64\n"
     ]
    },
    {
     "name": "stderr",
     "output_type": "stream",
     "text": [
      "/Users/darishsakeesing/opt/anaconda3/lib/python3.8/site-packages/dask/core.py:121: DtypeWarning: Columns (59) have mixed types.Specify dtype option on import or set low_memory=False.\n",
      "  return func(*(_execute_task(a, cache) for a in args))\n",
      "/Users/darishsakeesing/opt/anaconda3/lib/python3.8/site-packages/dask/core.py:121: DtypeWarning: Columns (129,130,131,134,135,136,139,145,146,147) have mixed types.Specify dtype option on import or set low_memory=False.\n",
      "  return func(*(_execute_task(a, cache) for a in args))\n",
      "/Users/darishsakeesing/opt/anaconda3/lib/python3.8/site-packages/dask/core.py:121: DtypeWarning: Columns (59) have mixed types.Specify dtype option on import or set low_memory=False.\n",
      "  return func(*(_execute_task(a, cache) for a in args))\n",
      "/Users/darishsakeesing/opt/anaconda3/lib/python3.8/site-packages/dask/core.py:121: DtypeWarning: Columns (59,129,130,131,134,135,136,139,145,146,147) have mixed types.Specify dtype option on import or set low_memory=False.\n",
      "  return func(*(_execute_task(a, cache) for a in args))\n",
      "/Users/darishsakeesing/opt/anaconda3/lib/python3.8/site-packages/dask/core.py:121: DtypeWarning: Columns (129,130,131,134,135,136,139) have mixed types.Specify dtype option on import or set low_memory=False.\n",
      "  return func(*(_execute_task(a, cache) for a in args))\n",
      "/Users/darishsakeesing/opt/anaconda3/lib/python3.8/site-packages/dask/core.py:121: DtypeWarning: Columns (129,130,131,134,135,136,139,145,146,147) have mixed types.Specify dtype option on import or set low_memory=False.\n",
      "  return func(*(_execute_task(a, cache) for a in args))\n",
      "/Users/darishsakeesing/opt/anaconda3/lib/python3.8/site-packages/dask/core.py:121: DtypeWarning: Columns (49,59,129,130,131,134,135,136,139) have mixed types.Specify dtype option on import or set low_memory=False.\n",
      "  return func(*(_execute_task(a, cache) for a in args))\n",
      "/Users/darishsakeesing/opt/anaconda3/lib/python3.8/site-packages/dask/core.py:121: DtypeWarning: Columns (49,59,129,130,131,134,135,136,139,145,146,147) have mixed types.Specify dtype option on import or set low_memory=False.\n",
      "  return func(*(_execute_task(a, cache) for a in args))\n",
      "/Users/darishsakeesing/opt/anaconda3/lib/python3.8/site-packages/dask/core.py:121: DtypeWarning: Columns (59) have mixed types.Specify dtype option on import or set low_memory=False.\n",
      "  return func(*(_execute_task(a, cache) for a in args))\n"
     ]
    },
    {
     "name": "stdout",
     "output_type": "stream",
     "text": [
      "True     2152680\n",
      "False     108021\n",
      "Name: sec_app_fico_range_high, dtype: int64\n"
     ]
    },
    {
     "name": "stderr",
     "output_type": "stream",
     "text": [
      "/Users/darishsakeesing/opt/anaconda3/lib/python3.8/site-packages/dask/core.py:121: DtypeWarning: Columns (59) have mixed types.Specify dtype option on import or set low_memory=False.\n",
      "  return func(*(_execute_task(a, cache) for a in args))\n",
      "/Users/darishsakeesing/opt/anaconda3/lib/python3.8/site-packages/dask/core.py:121: DtypeWarning: Columns (129,130,131,134,135,136,139,145,146,147) have mixed types.Specify dtype option on import or set low_memory=False.\n",
      "  return func(*(_execute_task(a, cache) for a in args))\n",
      "/Users/darishsakeesing/opt/anaconda3/lib/python3.8/site-packages/dask/core.py:121: DtypeWarning: Columns (59) have mixed types.Specify dtype option on import or set low_memory=False.\n",
      "  return func(*(_execute_task(a, cache) for a in args))\n",
      "/Users/darishsakeesing/opt/anaconda3/lib/python3.8/site-packages/dask/core.py:121: DtypeWarning: Columns (59,129,130,131,134,135,136,139,145,146,147) have mixed types.Specify dtype option on import or set low_memory=False.\n",
      "  return func(*(_execute_task(a, cache) for a in args))\n",
      "/Users/darishsakeesing/opt/anaconda3/lib/python3.8/site-packages/dask/core.py:121: DtypeWarning: Columns (129,130,131,134,135,136,139) have mixed types.Specify dtype option on import or set low_memory=False.\n",
      "  return func(*(_execute_task(a, cache) for a in args))\n",
      "/Users/darishsakeesing/opt/anaconda3/lib/python3.8/site-packages/dask/core.py:121: DtypeWarning: Columns (129,130,131,134,135,136,139,145,146,147) have mixed types.Specify dtype option on import or set low_memory=False.\n",
      "  return func(*(_execute_task(a, cache) for a in args))\n",
      "/Users/darishsakeesing/opt/anaconda3/lib/python3.8/site-packages/dask/core.py:121: DtypeWarning: Columns (49,59,129,130,131,134,135,136,139) have mixed types.Specify dtype option on import or set low_memory=False.\n",
      "  return func(*(_execute_task(a, cache) for a in args))\n",
      "/Users/darishsakeesing/opt/anaconda3/lib/python3.8/site-packages/dask/core.py:121: DtypeWarning: Columns (49,59,129,130,131,134,135,136,139,145,146,147) have mixed types.Specify dtype option on import or set low_memory=False.\n",
      "  return func(*(_execute_task(a, cache) for a in args))\n",
      "/Users/darishsakeesing/opt/anaconda3/lib/python3.8/site-packages/dask/core.py:121: DtypeWarning: Columns (59) have mixed types.Specify dtype option on import or set low_memory=False.\n",
      "  return func(*(_execute_task(a, cache) for a in args))\n"
     ]
    },
    {
     "name": "stdout",
     "output_type": "stream",
     "text": [
      "True     2152680\n",
      "False     108021\n",
      "Name: sec_app_fico_range_low, dtype: int64\n"
     ]
    },
    {
     "name": "stderr",
     "output_type": "stream",
     "text": [
      "/Users/darishsakeesing/opt/anaconda3/lib/python3.8/site-packages/dask/core.py:121: DtypeWarning: Columns (59) have mixed types.Specify dtype option on import or set low_memory=False.\n",
      "  return func(*(_execute_task(a, cache) for a in args))\n",
      "/Users/darishsakeesing/opt/anaconda3/lib/python3.8/site-packages/dask/core.py:121: DtypeWarning: Columns (129,130,131,134,135,136,139,145,146,147) have mixed types.Specify dtype option on import or set low_memory=False.\n",
      "  return func(*(_execute_task(a, cache) for a in args))\n",
      "/Users/darishsakeesing/opt/anaconda3/lib/python3.8/site-packages/dask/core.py:121: DtypeWarning: Columns (59) have mixed types.Specify dtype option on import or set low_memory=False.\n",
      "  return func(*(_execute_task(a, cache) for a in args))\n",
      "/Users/darishsakeesing/opt/anaconda3/lib/python3.8/site-packages/dask/core.py:121: DtypeWarning: Columns (59,129,130,131,134,135,136,139,145,146,147) have mixed types.Specify dtype option on import or set low_memory=False.\n",
      "  return func(*(_execute_task(a, cache) for a in args))\n",
      "/Users/darishsakeesing/opt/anaconda3/lib/python3.8/site-packages/dask/core.py:121: DtypeWarning: Columns (129,130,131,134,135,136,139,145,146,147) have mixed types.Specify dtype option on import or set low_memory=False.\n",
      "  return func(*(_execute_task(a, cache) for a in args))\n",
      "/Users/darishsakeesing/opt/anaconda3/lib/python3.8/site-packages/dask/core.py:121: DtypeWarning: Columns (129,130,131,134,135,136,139) have mixed types.Specify dtype option on import or set low_memory=False.\n",
      "  return func(*(_execute_task(a, cache) for a in args))\n",
      "/Users/darishsakeesing/opt/anaconda3/lib/python3.8/site-packages/dask/core.py:121: DtypeWarning: Columns (49,59,129,130,131,134,135,136,139) have mixed types.Specify dtype option on import or set low_memory=False.\n",
      "  return func(*(_execute_task(a, cache) for a in args))\n",
      "/Users/darishsakeesing/opt/anaconda3/lib/python3.8/site-packages/dask/core.py:121: DtypeWarning: Columns (49,59,129,130,131,134,135,136,139,145,146,147) have mixed types.Specify dtype option on import or set low_memory=False.\n",
      "  return func(*(_execute_task(a, cache) for a in args))\n",
      "/Users/darishsakeesing/opt/anaconda3/lib/python3.8/site-packages/dask/core.py:121: DtypeWarning: Columns (59) have mixed types.Specify dtype option on import or set low_memory=False.\n",
      "  return func(*(_execute_task(a, cache) for a in args))\n"
     ]
    },
    {
     "name": "stdout",
     "output_type": "stream",
     "text": [
      "True     2152680\n",
      "False     108021\n",
      "Name: sec_app_inq_last_6mths, dtype: int64\n"
     ]
    },
    {
     "name": "stderr",
     "output_type": "stream",
     "text": [
      "/Users/darishsakeesing/opt/anaconda3/lib/python3.8/site-packages/dask/core.py:121: DtypeWarning: Columns (59) have mixed types.Specify dtype option on import or set low_memory=False.\n",
      "  return func(*(_execute_task(a, cache) for a in args))\n",
      "/Users/darishsakeesing/opt/anaconda3/lib/python3.8/site-packages/dask/core.py:121: DtypeWarning: Columns (129,130,131,134,135,136,139,145,146,147) have mixed types.Specify dtype option on import or set low_memory=False.\n",
      "  return func(*(_execute_task(a, cache) for a in args))\n",
      "/Users/darishsakeesing/opt/anaconda3/lib/python3.8/site-packages/dask/core.py:121: DtypeWarning: Columns (59) have mixed types.Specify dtype option on import or set low_memory=False.\n",
      "  return func(*(_execute_task(a, cache) for a in args))\n",
      "/Users/darishsakeesing/opt/anaconda3/lib/python3.8/site-packages/dask/core.py:121: DtypeWarning: Columns (59,129,130,131,134,135,136,139,145,146,147) have mixed types.Specify dtype option on import or set low_memory=False.\n",
      "  return func(*(_execute_task(a, cache) for a in args))\n",
      "/Users/darishsakeesing/opt/anaconda3/lib/python3.8/site-packages/dask/core.py:121: DtypeWarning: Columns (129,130,131,134,135,136,139,145,146,147) have mixed types.Specify dtype option on import or set low_memory=False.\n",
      "  return func(*(_execute_task(a, cache) for a in args))\n",
      "/Users/darishsakeesing/opt/anaconda3/lib/python3.8/site-packages/dask/core.py:121: DtypeWarning: Columns (129,130,131,134,135,136,139) have mixed types.Specify dtype option on import or set low_memory=False.\n",
      "  return func(*(_execute_task(a, cache) for a in args))\n",
      "/Users/darishsakeesing/opt/anaconda3/lib/python3.8/site-packages/dask/core.py:121: DtypeWarning: Columns (49,59,129,130,131,134,135,136,139) have mixed types.Specify dtype option on import or set low_memory=False.\n",
      "  return func(*(_execute_task(a, cache) for a in args))\n",
      "/Users/darishsakeesing/opt/anaconda3/lib/python3.8/site-packages/dask/core.py:121: DtypeWarning: Columns (49,59,129,130,131,134,135,136,139,145,146,147) have mixed types.Specify dtype option on import or set low_memory=False.\n",
      "  return func(*(_execute_task(a, cache) for a in args))\n",
      "/Users/darishsakeesing/opt/anaconda3/lib/python3.8/site-packages/dask/core.py:121: DtypeWarning: Columns (59) have mixed types.Specify dtype option on import or set low_memory=False.\n",
      "  return func(*(_execute_task(a, cache) for a in args))\n"
     ]
    },
    {
     "name": "stdout",
     "output_type": "stream",
     "text": [
      "True     2152680\n",
      "False     108021\n",
      "Name: sec_app_mort_acc, dtype: int64\n"
     ]
    },
    {
     "name": "stderr",
     "output_type": "stream",
     "text": [
      "/Users/darishsakeesing/opt/anaconda3/lib/python3.8/site-packages/dask/core.py:121: DtypeWarning: Columns (59) have mixed types.Specify dtype option on import or set low_memory=False.\n",
      "  return func(*(_execute_task(a, cache) for a in args))\n",
      "/Users/darishsakeesing/opt/anaconda3/lib/python3.8/site-packages/dask/core.py:121: DtypeWarning: Columns (129,130,131,134,135,136,139,145,146,147) have mixed types.Specify dtype option on import or set low_memory=False.\n",
      "  return func(*(_execute_task(a, cache) for a in args))\n",
      "/Users/darishsakeesing/opt/anaconda3/lib/python3.8/site-packages/dask/core.py:121: DtypeWarning: Columns (59) have mixed types.Specify dtype option on import or set low_memory=False.\n",
      "  return func(*(_execute_task(a, cache) for a in args))\n",
      "/Users/darishsakeesing/opt/anaconda3/lib/python3.8/site-packages/dask/core.py:121: DtypeWarning: Columns (59,129,130,131,134,135,136,139,145,146,147) have mixed types.Specify dtype option on import or set low_memory=False.\n",
      "  return func(*(_execute_task(a, cache) for a in args))\n",
      "/Users/darishsakeesing/opt/anaconda3/lib/python3.8/site-packages/dask/core.py:121: DtypeWarning: Columns (129,130,131,134,135,136,139) have mixed types.Specify dtype option on import or set low_memory=False.\n",
      "  return func(*(_execute_task(a, cache) for a in args))\n",
      "/Users/darishsakeesing/opt/anaconda3/lib/python3.8/site-packages/dask/core.py:121: DtypeWarning: Columns (129,130,131,134,135,136,139,145,146,147) have mixed types.Specify dtype option on import or set low_memory=False.\n",
      "  return func(*(_execute_task(a, cache) for a in args))\n",
      "/Users/darishsakeesing/opt/anaconda3/lib/python3.8/site-packages/dask/core.py:121: DtypeWarning: Columns (49,59,129,130,131,134,135,136,139) have mixed types.Specify dtype option on import or set low_memory=False.\n",
      "  return func(*(_execute_task(a, cache) for a in args))\n",
      "/Users/darishsakeesing/opt/anaconda3/lib/python3.8/site-packages/dask/core.py:121: DtypeWarning: Columns (49,59,129,130,131,134,135,136,139,145,146,147) have mixed types.Specify dtype option on import or set low_memory=False.\n",
      "  return func(*(_execute_task(a, cache) for a in args))\n",
      "/Users/darishsakeesing/opt/anaconda3/lib/python3.8/site-packages/dask/core.py:121: DtypeWarning: Columns (59) have mixed types.Specify dtype option on import or set low_memory=False.\n",
      "  return func(*(_execute_task(a, cache) for a in args))\n"
     ]
    },
    {
     "name": "stdout",
     "output_type": "stream",
     "text": [
      "True     2224759\n",
      "False      35942\n",
      "Name: sec_app_mths_since_last_major_derog, dtype: int64\n"
     ]
    },
    {
     "name": "stderr",
     "output_type": "stream",
     "text": [
      "/Users/darishsakeesing/opt/anaconda3/lib/python3.8/site-packages/dask/core.py:121: DtypeWarning: Columns (59) have mixed types.Specify dtype option on import or set low_memory=False.\n",
      "  return func(*(_execute_task(a, cache) for a in args))\n",
      "/Users/darishsakeesing/opt/anaconda3/lib/python3.8/site-packages/dask/core.py:121: DtypeWarning: Columns (129,130,131,134,135,136,139,145,146,147) have mixed types.Specify dtype option on import or set low_memory=False.\n",
      "  return func(*(_execute_task(a, cache) for a in args))\n",
      "/Users/darishsakeesing/opt/anaconda3/lib/python3.8/site-packages/dask/core.py:121: DtypeWarning: Columns (59) have mixed types.Specify dtype option on import or set low_memory=False.\n",
      "  return func(*(_execute_task(a, cache) for a in args))\n",
      "/Users/darishsakeesing/opt/anaconda3/lib/python3.8/site-packages/dask/core.py:121: DtypeWarning: Columns (59,129,130,131,134,135,136,139,145,146,147) have mixed types.Specify dtype option on import or set low_memory=False.\n",
      "  return func(*(_execute_task(a, cache) for a in args))\n",
      "/Users/darishsakeesing/opt/anaconda3/lib/python3.8/site-packages/dask/core.py:121: DtypeWarning: Columns (129,130,131,134,135,136,139,145,146,147) have mixed types.Specify dtype option on import or set low_memory=False.\n",
      "  return func(*(_execute_task(a, cache) for a in args))\n",
      "/Users/darishsakeesing/opt/anaconda3/lib/python3.8/site-packages/dask/core.py:121: DtypeWarning: Columns (129,130,131,134,135,136,139) have mixed types.Specify dtype option on import or set low_memory=False.\n",
      "  return func(*(_execute_task(a, cache) for a in args))\n",
      "/Users/darishsakeesing/opt/anaconda3/lib/python3.8/site-packages/dask/core.py:121: DtypeWarning: Columns (49,59,129,130,131,134,135,136,139) have mixed types.Specify dtype option on import or set low_memory=False.\n",
      "  return func(*(_execute_task(a, cache) for a in args))\n",
      "/Users/darishsakeesing/opt/anaconda3/lib/python3.8/site-packages/dask/core.py:121: DtypeWarning: Columns (49,59,129,130,131,134,135,136,139,145,146,147) have mixed types.Specify dtype option on import or set low_memory=False.\n",
      "  return func(*(_execute_task(a, cache) for a in args))\n",
      "/Users/darishsakeesing/opt/anaconda3/lib/python3.8/site-packages/dask/core.py:121: DtypeWarning: Columns (59) have mixed types.Specify dtype option on import or set low_memory=False.\n",
      "  return func(*(_execute_task(a, cache) for a in args))\n"
     ]
    },
    {
     "name": "stdout",
     "output_type": "stream",
     "text": [
      "True     2152680\n",
      "False     108021\n",
      "Name: sec_app_num_rev_accts, dtype: int64\n"
     ]
    }
   ],
   "source": [
    "print(accepted_data.orig_projected_additional_accrued_interest.isna().value_counts().compute())\n",
    "print(accepted_data.out_prncp.isna().value_counts().compute())\n",
    "print(accepted_data.out_prncp_inv.isna().value_counts().compute())\n",
    "print(accepted_data.payment_plan_start_date.isna().value_counts().compute())\n",
    "print(accepted_data.pct_tl_nvr_dlq.isna().value_counts().compute())\n",
    "print(accepted_data.percent_bc_gt_75.isna().value_counts().compute())\n",
    "print(accepted_data.policy_code.isna().value_counts().compute())\n",
    "print(accepted_data.pub_rec.isna().value_counts().compute())\n",
    "print(accepted_data.pub_rec_bankruptcies.isna().value_counts().compute())\n",
    "print(accepted_data.purpose.isna().value_counts().compute())\n",
    "print(accepted_data.pymnt_plan.isna().value_counts().compute())\n",
    "print(accepted_data.recoveries.isna().value_counts().compute())\n",
    "print(accepted_data.revol_bal.isna().value_counts().compute())\n",
    "print(accepted_data.revol_bal_joint.isna().value_counts().compute())\n",
    "print(accepted_data.revol_util.isna().value_counts().compute())\n",
    "print(accepted_data.sec_app_chargeoff_within_12_mths.isna().value_counts().compute())\n",
    "print(accepted_data.sec_app_collections_12_mths_ex_med.isna().value_counts().compute())\n",
    "print(accepted_data.sec_app_earliest_cr_line.isna().value_counts().compute())\n",
    "print(accepted_data.sec_app_fico_range_high.isna().value_counts().compute())\n",
    "print(accepted_data.sec_app_fico_range_low.isna().value_counts().compute())\n",
    "print(accepted_data.sec_app_inq_last_6mths.isna().value_counts().compute())\n",
    "print(accepted_data.sec_app_mort_acc.isna().value_counts().compute())\n",
    "print(accepted_data.sec_app_mths_since_last_major_derog.isna().value_counts().compute())\n",
    "print(accepted_data.sec_app_num_rev_accts.isna().value_counts().compute())\n"
   ]
  },
  {
   "cell_type": "code",
   "execution_count": 20,
   "metadata": {},
   "outputs": [
    {
     "name": "stderr",
     "output_type": "stream",
     "text": [
      "/Users/darishsakeesing/opt/anaconda3/lib/python3.8/site-packages/dask/core.py:121: DtypeWarning: Columns (59) have mixed types.Specify dtype option on import or set low_memory=False.\n",
      "  return func(*(_execute_task(a, cache) for a in args))\n",
      "/Users/darishsakeesing/opt/anaconda3/lib/python3.8/site-packages/dask/core.py:121: DtypeWarning: Columns (129,130,131,134,135,136,139,145,146,147) have mixed types.Specify dtype option on import or set low_memory=False.\n",
      "  return func(*(_execute_task(a, cache) for a in args))\n",
      "/Users/darishsakeesing/opt/anaconda3/lib/python3.8/site-packages/dask/core.py:121: DtypeWarning: Columns (59) have mixed types.Specify dtype option on import or set low_memory=False.\n",
      "  return func(*(_execute_task(a, cache) for a in args))\n",
      "/Users/darishsakeesing/opt/anaconda3/lib/python3.8/site-packages/dask/core.py:121: DtypeWarning: Columns (59,129,130,131,134,135,136,139,145,146,147) have mixed types.Specify dtype option on import or set low_memory=False.\n",
      "  return func(*(_execute_task(a, cache) for a in args))\n",
      "/Users/darishsakeesing/opt/anaconda3/lib/python3.8/site-packages/dask/core.py:121: DtypeWarning: Columns (129,130,131,134,135,136,139,145,146,147) have mixed types.Specify dtype option on import or set low_memory=False.\n",
      "  return func(*(_execute_task(a, cache) for a in args))\n",
      "/Users/darishsakeesing/opt/anaconda3/lib/python3.8/site-packages/dask/core.py:121: DtypeWarning: Columns (129,130,131,134,135,136,139) have mixed types.Specify dtype option on import or set low_memory=False.\n",
      "  return func(*(_execute_task(a, cache) for a in args))\n",
      "/Users/darishsakeesing/opt/anaconda3/lib/python3.8/site-packages/dask/core.py:121: DtypeWarning: Columns (49,59,129,130,131,134,135,136,139) have mixed types.Specify dtype option on import or set low_memory=False.\n",
      "  return func(*(_execute_task(a, cache) for a in args))\n",
      "/Users/darishsakeesing/opt/anaconda3/lib/python3.8/site-packages/dask/core.py:121: DtypeWarning: Columns (49,59,129,130,131,134,135,136,139,145,146,147) have mixed types.Specify dtype option on import or set low_memory=False.\n",
      "  return func(*(_execute_task(a, cache) for a in args))\n",
      "/Users/darishsakeesing/opt/anaconda3/lib/python3.8/site-packages/dask/core.py:121: DtypeWarning: Columns (59) have mixed types.Specify dtype option on import or set low_memory=False.\n",
      "  return func(*(_execute_task(a, cache) for a in args))\n"
     ]
    },
    {
     "name": "stdout",
     "output_type": "stream",
     "text": [
      "False    2260668\n",
      "True          33\n",
      "Name: collection_recovery_fee, dtype: int64\n"
     ]
    }
   ],
   "source": [
    "print(accepted_data.collection_recovery_fee.isna().value_counts().compute())"
   ]
  },
  {
   "cell_type": "code",
   "execution_count": 22,
   "metadata": {},
   "outputs": [
    {
     "name": "stderr",
     "output_type": "stream",
     "text": [
      "/Users/darishsakeesing/opt/anaconda3/lib/python3.8/site-packages/dask/core.py:121: DtypeWarning: Columns (59) have mixed types.Specify dtype option on import or set low_memory=False.\n",
      "  return func(*(_execute_task(a, cache) for a in args))\n",
      "/Users/darishsakeesing/opt/anaconda3/lib/python3.8/site-packages/dask/core.py:121: DtypeWarning: Columns (129,130,131,134,135,136,139,145,146,147) have mixed types.Specify dtype option on import or set low_memory=False.\n",
      "  return func(*(_execute_task(a, cache) for a in args))\n",
      "/Users/darishsakeesing/opt/anaconda3/lib/python3.8/site-packages/dask/core.py:121: DtypeWarning: Columns (59) have mixed types.Specify dtype option on import or set low_memory=False.\n",
      "  return func(*(_execute_task(a, cache) for a in args))\n",
      "/Users/darishsakeesing/opt/anaconda3/lib/python3.8/site-packages/dask/core.py:121: DtypeWarning: Columns (59,129,130,131,134,135,136,139,145,146,147) have mixed types.Specify dtype option on import or set low_memory=False.\n",
      "  return func(*(_execute_task(a, cache) for a in args))\n",
      "/Users/darishsakeesing/opt/anaconda3/lib/python3.8/site-packages/dask/core.py:121: DtypeWarning: Columns (129,130,131,134,135,136,139) have mixed types.Specify dtype option on import or set low_memory=False.\n",
      "  return func(*(_execute_task(a, cache) for a in args))\n",
      "/Users/darishsakeesing/opt/anaconda3/lib/python3.8/site-packages/dask/core.py:121: DtypeWarning: Columns (129,130,131,134,135,136,139,145,146,147) have mixed types.Specify dtype option on import or set low_memory=False.\n",
      "  return func(*(_execute_task(a, cache) for a in args))\n",
      "/Users/darishsakeesing/opt/anaconda3/lib/python3.8/site-packages/dask/core.py:121: DtypeWarning: Columns (49,59,129,130,131,134,135,136,139) have mixed types.Specify dtype option on import or set low_memory=False.\n",
      "  return func(*(_execute_task(a, cache) for a in args))\n",
      "/Users/darishsakeesing/opt/anaconda3/lib/python3.8/site-packages/dask/core.py:121: DtypeWarning: Columns (49,59,129,130,131,134,135,136,139,145,146,147) have mixed types.Specify dtype option on import or set low_memory=False.\n",
      "  return func(*(_execute_task(a, cache) for a in args))\n",
      "/Users/darishsakeesing/opt/anaconda3/lib/python3.8/site-packages/dask/core.py:121: DtypeWarning: Columns (59) have mixed types.Specify dtype option on import or set low_memory=False.\n",
      "  return func(*(_execute_task(a, cache) for a in args))\n"
     ]
    }
   ],
   "source": [
    "accepted_data.il_util.value_counts().compute().to_csv('data/il_ratio.csv')"
   ]
  },
  {
   "cell_type": "code",
   "execution_count": 4,
   "metadata": {},
   "outputs": [
    {
     "data": {
      "text/html": [
       "<div><strong>Dask DataFrame Structure:</strong></div>\n",
       "<div>\n",
       "<style scoped>\n",
       "    .dataframe tbody tr th:only-of-type {\n",
       "        vertical-align: middle;\n",
       "    }\n",
       "\n",
       "    .dataframe tbody tr th {\n",
       "        vertical-align: top;\n",
       "    }\n",
       "\n",
       "    .dataframe thead th {\n",
       "        text-align: right;\n",
       "    }\n",
       "</style>\n",
       "<table border=\"1\" class=\"dataframe\">\n",
       "  <thead>\n",
       "    <tr style=\"text-align: right;\">\n",
       "      <th></th>\n",
       "      <th>open_acc_6m</th>\n",
       "      <th>open_act_il</th>\n",
       "      <th>open_il_12m</th>\n",
       "      <th>open_il_24m</th>\n",
       "      <th>open_rv_12m</th>\n",
       "      <th>open_rv_24m</th>\n",
       "      <th>orig_projected_additional_accrued_interest</th>\n",
       "      <th>out_prncp</th>\n",
       "      <th>out_prncp_inv</th>\n",
       "      <th>payment_plan_start_date</th>\n",
       "      <th>pct_tl_nvr_dlq</th>\n",
       "      <th>percent_bc_gt_75</th>\n",
       "      <th>policy_code</th>\n",
       "      <th>pub_rec</th>\n",
       "      <th>pub_rec_bankruptcies</th>\n",
       "      <th>purpose</th>\n",
       "      <th>pymnt_plan</th>\n",
       "      <th>recoveries</th>\n",
       "      <th>revol_bal</th>\n",
       "      <th>revol_bal_joint</th>\n",
       "      <th>revol_util</th>\n",
       "      <th>sec_app_chargeoff_within_12_mths</th>\n",
       "      <th>sec_app_collections_12_mths_ex_med</th>\n",
       "      <th>sec_app_earliest_cr_line</th>\n",
       "      <th>sec_app_fico_range_high</th>\n",
       "      <th>sec_app_fico_range_low</th>\n",
       "      <th>sec_app_inq_last_6mths</th>\n",
       "      <th>sec_app_mort_acc</th>\n",
       "      <th>sec_app_mths_since_last_major_derog</th>\n",
       "      <th>sec_app_num_rev_accts</th>\n",
       "    </tr>\n",
       "    <tr>\n",
       "      <th>npartitions=27</th>\n",
       "      <th></th>\n",
       "      <th></th>\n",
       "      <th></th>\n",
       "      <th></th>\n",
       "      <th></th>\n",
       "      <th></th>\n",
       "      <th></th>\n",
       "      <th></th>\n",
       "      <th></th>\n",
       "      <th></th>\n",
       "      <th></th>\n",
       "      <th></th>\n",
       "      <th></th>\n",
       "      <th></th>\n",
       "      <th></th>\n",
       "      <th></th>\n",
       "      <th></th>\n",
       "      <th></th>\n",
       "      <th></th>\n",
       "      <th></th>\n",
       "      <th></th>\n",
       "      <th></th>\n",
       "      <th></th>\n",
       "      <th></th>\n",
       "      <th></th>\n",
       "      <th></th>\n",
       "      <th></th>\n",
       "      <th></th>\n",
       "      <th></th>\n",
       "      <th></th>\n",
       "    </tr>\n",
       "  </thead>\n",
       "  <tbody>\n",
       "    <tr>\n",
       "      <th></th>\n",
       "      <td>float64</td>\n",
       "      <td>float64</td>\n",
       "      <td>float64</td>\n",
       "      <td>float64</td>\n",
       "      <td>float64</td>\n",
       "      <td>float64</td>\n",
       "      <td>float64</td>\n",
       "      <td>float64</td>\n",
       "      <td>float64</td>\n",
       "      <td>object</td>\n",
       "      <td>float64</td>\n",
       "      <td>float64</td>\n",
       "      <td>float64</td>\n",
       "      <td>float64</td>\n",
       "      <td>float64</td>\n",
       "      <td>object</td>\n",
       "      <td>object</td>\n",
       "      <td>float64</td>\n",
       "      <td>float64</td>\n",
       "      <td>float64</td>\n",
       "      <td>float64</td>\n",
       "      <td>float64</td>\n",
       "      <td>float64</td>\n",
       "      <td>object</td>\n",
       "      <td>float64</td>\n",
       "      <td>float64</td>\n",
       "      <td>float64</td>\n",
       "      <td>float64</td>\n",
       "      <td>float64</td>\n",
       "      <td>float64</td>\n",
       "    </tr>\n",
       "    <tr>\n",
       "      <th></th>\n",
       "      <td>...</td>\n",
       "      <td>...</td>\n",
       "      <td>...</td>\n",
       "      <td>...</td>\n",
       "      <td>...</td>\n",
       "      <td>...</td>\n",
       "      <td>...</td>\n",
       "      <td>...</td>\n",
       "      <td>...</td>\n",
       "      <td>...</td>\n",
       "      <td>...</td>\n",
       "      <td>...</td>\n",
       "      <td>...</td>\n",
       "      <td>...</td>\n",
       "      <td>...</td>\n",
       "      <td>...</td>\n",
       "      <td>...</td>\n",
       "      <td>...</td>\n",
       "      <td>...</td>\n",
       "      <td>...</td>\n",
       "      <td>...</td>\n",
       "      <td>...</td>\n",
       "      <td>...</td>\n",
       "      <td>...</td>\n",
       "      <td>...</td>\n",
       "      <td>...</td>\n",
       "      <td>...</td>\n",
       "      <td>...</td>\n",
       "      <td>...</td>\n",
       "      <td>...</td>\n",
       "    </tr>\n",
       "    <tr>\n",
       "      <th>...</th>\n",
       "      <td>...</td>\n",
       "      <td>...</td>\n",
       "      <td>...</td>\n",
       "      <td>...</td>\n",
       "      <td>...</td>\n",
       "      <td>...</td>\n",
       "      <td>...</td>\n",
       "      <td>...</td>\n",
       "      <td>...</td>\n",
       "      <td>...</td>\n",
       "      <td>...</td>\n",
       "      <td>...</td>\n",
       "      <td>...</td>\n",
       "      <td>...</td>\n",
       "      <td>...</td>\n",
       "      <td>...</td>\n",
       "      <td>...</td>\n",
       "      <td>...</td>\n",
       "      <td>...</td>\n",
       "      <td>...</td>\n",
       "      <td>...</td>\n",
       "      <td>...</td>\n",
       "      <td>...</td>\n",
       "      <td>...</td>\n",
       "      <td>...</td>\n",
       "      <td>...</td>\n",
       "      <td>...</td>\n",
       "      <td>...</td>\n",
       "      <td>...</td>\n",
       "      <td>...</td>\n",
       "    </tr>\n",
       "    <tr>\n",
       "      <th></th>\n",
       "      <td>...</td>\n",
       "      <td>...</td>\n",
       "      <td>...</td>\n",
       "      <td>...</td>\n",
       "      <td>...</td>\n",
       "      <td>...</td>\n",
       "      <td>...</td>\n",
       "      <td>...</td>\n",
       "      <td>...</td>\n",
       "      <td>...</td>\n",
       "      <td>...</td>\n",
       "      <td>...</td>\n",
       "      <td>...</td>\n",
       "      <td>...</td>\n",
       "      <td>...</td>\n",
       "      <td>...</td>\n",
       "      <td>...</td>\n",
       "      <td>...</td>\n",
       "      <td>...</td>\n",
       "      <td>...</td>\n",
       "      <td>...</td>\n",
       "      <td>...</td>\n",
       "      <td>...</td>\n",
       "      <td>...</td>\n",
       "      <td>...</td>\n",
       "      <td>...</td>\n",
       "      <td>...</td>\n",
       "      <td>...</td>\n",
       "      <td>...</td>\n",
       "      <td>...</td>\n",
       "    </tr>\n",
       "    <tr>\n",
       "      <th></th>\n",
       "      <td>...</td>\n",
       "      <td>...</td>\n",
       "      <td>...</td>\n",
       "      <td>...</td>\n",
       "      <td>...</td>\n",
       "      <td>...</td>\n",
       "      <td>...</td>\n",
       "      <td>...</td>\n",
       "      <td>...</td>\n",
       "      <td>...</td>\n",
       "      <td>...</td>\n",
       "      <td>...</td>\n",
       "      <td>...</td>\n",
       "      <td>...</td>\n",
       "      <td>...</td>\n",
       "      <td>...</td>\n",
       "      <td>...</td>\n",
       "      <td>...</td>\n",
       "      <td>...</td>\n",
       "      <td>...</td>\n",
       "      <td>...</td>\n",
       "      <td>...</td>\n",
       "      <td>...</td>\n",
       "      <td>...</td>\n",
       "      <td>...</td>\n",
       "      <td>...</td>\n",
       "      <td>...</td>\n",
       "      <td>...</td>\n",
       "      <td>...</td>\n",
       "      <td>...</td>\n",
       "    </tr>\n",
       "  </tbody>\n",
       "</table>\n",
       "</div>\n",
       "<div>Dask Name: getitem, 54 tasks</div>"
      ],
      "text/plain": [
       "Dask DataFrame Structure:\n",
       "               open_acc_6m open_act_il open_il_12m open_il_24m open_rv_12m open_rv_24m orig_projected_additional_accrued_interest out_prncp out_prncp_inv payment_plan_start_date pct_tl_nvr_dlq percent_bc_gt_75 policy_code  pub_rec pub_rec_bankruptcies purpose pymnt_plan recoveries revol_bal revol_bal_joint revol_util sec_app_chargeoff_within_12_mths sec_app_collections_12_mths_ex_med sec_app_earliest_cr_line sec_app_fico_range_high sec_app_fico_range_low sec_app_inq_last_6mths sec_app_mort_acc sec_app_mths_since_last_major_derog sec_app_num_rev_accts\n",
       "npartitions=27                                                                                                                                                                                                                                                                                                                                                                                                                                                                                                                                                              \n",
       "                   float64     float64     float64     float64     float64     float64                                    float64   float64       float64                  object        float64          float64     float64  float64              float64  object     object    float64   float64         float64    float64                          float64                            float64                   object                 float64                float64                float64          float64                             float64               float64\n",
       "                       ...         ...         ...         ...         ...         ...                                        ...       ...           ...                     ...            ...              ...         ...      ...                  ...     ...        ...        ...       ...             ...        ...                              ...                                ...                      ...                     ...                    ...                    ...              ...                                 ...                   ...\n",
       "...                    ...         ...         ...         ...         ...         ...                                        ...       ...           ...                     ...            ...              ...         ...      ...                  ...     ...        ...        ...       ...             ...        ...                              ...                                ...                      ...                     ...                    ...                    ...              ...                                 ...                   ...\n",
       "                       ...         ...         ...         ...         ...         ...                                        ...       ...           ...                     ...            ...              ...         ...      ...                  ...     ...        ...        ...       ...             ...        ...                              ...                                ...                      ...                     ...                    ...                    ...              ...                                 ...                   ...\n",
       "                       ...         ...         ...         ...         ...         ...                                        ...       ...           ...                     ...            ...              ...         ...      ...                  ...     ...        ...        ...       ...             ...        ...                              ...                                ...                      ...                     ...                    ...                    ...              ...                                 ...                   ...\n",
       "Dask Name: getitem, 54 tasks"
      ]
     },
     "execution_count": 4,
     "metadata": {},
     "output_type": "execute_result"
    }
   ],
   "source": [
    "accepted_data[['open_acc_6m',\n",
    "'open_act_il',\n",
    "'open_il_12m',\n",
    "'open_il_24m',\n",
    "'open_rv_12m',\n",
    "'open_rv_24m',\n",
    "'orig_projected_additional_accrued_interest',\n",
    "'out_prncp',\n",
    "'out_prncp_inv',\n",
    "'payment_plan_start_date',\n",
    "'pct_tl_nvr_dlq',\n",
    "'percent_bc_gt_75',\n",
    "'policy_code',\n",
    "'pub_rec',\n",
    "'pub_rec_bankruptcies',\n",
    "'purpose',\n",
    "'pymnt_plan',\n",
    "'recoveries',\n",
    "'revol_bal',\n",
    "'revol_bal_joint',\n",
    "'revol_util',\n",
    "'sec_app_chargeoff_within_12_mths',\n",
    "'sec_app_collections_12_mths_ex_med',\n",
    "'sec_app_earliest_cr_line',\n",
    "'sec_app_fico_range_high',\n",
    "'sec_app_fico_range_low',\n",
    "'sec_app_inq_last_6mths',\n",
    "'sec_app_mort_acc',\n",
    "'sec_app_mths_since_last_major_derog',\n",
    "'sec_app_num_rev_accts']]"
   ]
  },
  {
   "cell_type": "code",
   "execution_count": 28,
   "metadata": {},
   "outputs": [
    {
     "ename": "AttributeError",
     "evalue": "'Series' object has no attribute 'to_datetime'",
     "output_type": "error",
     "traceback": [
      "\u001b[0;31m---------------------------------------------------------------------------\u001b[0m",
      "\u001b[0;31mAttributeError\u001b[0m                            Traceback (most recent call last)",
      "\u001b[0;32m<ipython-input-28-b3d297a52024>\u001b[0m in \u001b[0;36m<module>\u001b[0;34m\u001b[0m\n\u001b[0;32m----> 1\u001b[0;31m \u001b[0maccepted_data\u001b[0m\u001b[0;34m[\u001b[0m\u001b[0;34m'issue_d'\u001b[0m\u001b[0;34m]\u001b[0m\u001b[0;34m.\u001b[0m\u001b[0mto_datetime\u001b[0m\u001b[0;34m(\u001b[0m\u001b[0;34m)\u001b[0m\u001b[0;34m.\u001b[0m\u001b[0mcompute\u001b[0m\u001b[0;34m(\u001b[0m\u001b[0;34m)\u001b[0m\u001b[0;34m\u001b[0m\u001b[0;34m\u001b[0m\u001b[0m\n\u001b[0m",
      "\u001b[0;31mAttributeError\u001b[0m: 'Series' object has no attribute 'to_datetime'"
     ]
    }
   ],
   "source": [
    "accepted_data['issue_d'].to_datetime().compute()"
   ]
  }
 ],
 "metadata": {
  "kernelspec": {
   "display_name": "Python 3",
   "language": "python",
   "name": "python3"
  },
  "language_info": {
   "codemirror_mode": {
    "name": "ipython",
    "version": 3
   },
   "file_extension": ".py",
   "mimetype": "text/x-python",
   "name": "python",
   "nbconvert_exporter": "python",
   "pygments_lexer": "ipython3",
   "version": "3.8.5"
  }
 },
 "nbformat": 4,
 "nbformat_minor": 4
}
