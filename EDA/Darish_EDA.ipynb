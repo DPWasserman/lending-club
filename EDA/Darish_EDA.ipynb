{
 "cells": [
  {
   "cell_type": "code",
   "execution_count": 1,
   "metadata": {},
   "outputs": [],
   "source": [
    "import pandas as pd\n",
    "import numpy as np\n",
    "import seaborn as sns\n",
    "import matplotlib.pyplot as plt\n",
    "import matplotlib.backends.backend_pdf\n",
    "import dask.dataframe as dd"
   ]
  },
  {
   "cell_type": "markdown",
   "metadata": {},
   "source": [
    "# PANDAS EDA"
   ]
  },
  {
   "cell_type": "code",
   "execution_count": 95,
   "metadata": {},
   "outputs": [],
   "source": [
    "### FIND PERCENTAGE NULL IN FIELDS BY YEAR AND WRITE OUTPUT TO A TXT FILE\n",
    "\n",
    "#open path to a txt file\n",
    "f = open(\"../data/descriptive.txt\",\"w+\")\n",
    "\n",
    "#iterate through year\n",
    "for i in range(2007, 2019):\n",
    "    \n",
    "    #read df and use only relevant fields\n",
    "    df = pd.read_parquet(f'../data/y{i}')\n",
    "    df = df[['open_acc_6m', 'open_act_il', 'open_il_12m', 'open_il_24m', 'open_rv_12m', 'open_rv_24m',\n",
    "                       'pct_tl_nvr_dlq', 'percent_bc_gt_75', 'pub_rec', 'pub_rec_bankruptcies', 'purpose', 'revol_bal',\n",
    "                       'revol_bal_joint', 'revol_util', 'sec_app_chargeoff_within_12_mths', \n",
    "                       'sec_app_collections_12_mths_ex_med', 'sec_app_earliest_cr_line', 'sec_app_fico_range_high',\n",
    "                       'sec_app_fico_range_low', 'sec_app_inq_last_6mths', 'sec_app_mort_acc', \n",
    "                       'sec_app_mths_since_last_major_derog', 'sec_app_num_rev_accts', 'all_util']]\n",
    "\n",
    "    \n",
    "\n",
    "    "
   ]
  },
  {
   "cell_type": "code",
   "execution_count": 96,
   "metadata": {},
   "outputs": [],
   "source": [
    "### FIND PERCENTAGE NULL IN FIELDS BY YEAR AND WRITE OUTPUT TO A TXT FILE\n",
    "\n",
    "#open path to a txt file\n",
    "f = open(\"../data/descriptive_all.txt\",\"w+\")\n",
    "\n",
    "#iterate through year\n",
    "for i in range(2007, 2019):\n",
    "    \n",
    "    #read df and use only relevant fields\n",
    "    df = pd.read_parquet(f'../data/y{i}')\n",
    "#     df = df[['open_acc_6m', 'open_act_il', 'open_il_12m', 'open_il_24m', 'open_rv_12m', 'open_rv_24m',\n",
    "#                        'pct_tl_nvr_dlq', 'percent_bc_gt_75', 'pub_rec', 'pub_rec_bankruptcies', 'purpose', 'revol_bal',\n",
    "#                        'revol_bal_joint', 'revol_util', 'sec_app_chargeoff_within_12_mths', \n",
    "#                        'sec_app_collections_12_mths_ex_med', 'sec_app_earliest_cr_line', 'sec_app_fico_range_high',\n",
    "#                        'sec_app_fico_range_low', 'sec_app_inq_last_6mths', 'sec_app_mort_acc', \n",
    "#                        'sec_app_mths_since_last_major_derog', 'sec_app_num_rev_accts', 'all_util']]\n",
    "\n",
    "    \n",
    "    # Write output\n",
    "    f.write(f'=====YEAR: {i}=====\\n')\n",
    "    for col in df.columns:\n",
    "        pct = sum(df[col].isna())/len(df) * 100\n",
    "        if pct <=\n",
    "        f.write('Name: %s ' % col)\n",
    "        f.write(f'Percentage null: %s\\n' % pct)\n",
    "        \n",
    "    f.write('\\n')\n",
    "\n",
    "f.close()"
   ]
  },
  {
   "cell_type": "code",
   "execution_count": 69,
   "metadata": {},
   "outputs": [
    {
     "data": {
      "image/png": "[encoded data removed]",
      "text/plain": [
       "<Figure size 432x288 with 1 Axes>"
      ]
     },
     "metadata": {
      "needs_background": "light"
     },
     "output_type": "display_data"
    }
   ],
   "source": [
    "# open_acc_6m\n",
    "\n",
    "pdf = matplotlib.backends.backend_pdf.PdfPages(\"../data/open_acc_6m_plots.pdf\")\n",
    "\n",
    "fig_list = []\n",
    "for i in range(2007, 2019):\n",
    "    df = pd.read_parquet(f'../data/y{i}')\n",
    "    df = df[['open_acc_6m']]\n",
    "    figure = df.open_acc_6m.plot(kind='hist').figure\n",
    "    fig_list.append(figure)\n",
    "\n",
    "for fig in fig_list:\n",
    "    pdf.savefig(fig)\n",
    "\n",
    "pdf.close()"
   ]
  },
  {
   "cell_type": "markdown",
   "metadata": {},
   "source": [
    "# DASK EDA"
   ]
  },
  {
   "cell_type": "code",
   "execution_count": 2,
   "metadata": {},
   "outputs": [],
   "source": [
    "accepted_data = dd.read_csv('../data/accepted_2007_to_2018Q4.csv', dtype={'sec_app_earliest_cr_line':'object',\n",
    "                                                                      'id':'object',\n",
    "                                                                      'desc':'object'}, low_memory=False)"
   ]
  },
  {
   "cell_type": "code",
   "execution_count": 9,
   "metadata": {},
   "outputs": [],
   "source": [
    "accepted_data = accepted_data[accepted_data.issue_d.notnull()]"
   ]
  },
  {
   "cell_type": "code",
   "execution_count": 13,
   "metadata": {},
   "outputs": [],
   "source": [
    "accepted_data.issue_d = accepted_data.issue_d.map_partitions(pd.to_datetime, meta=('issue_d', 'datetime64[ns]'))"
   ]
  },
  {
   "cell_type": "code",
   "execution_count": 21,
   "metadata": {},
   "outputs": [],
   "source": [
    "columns = ['acc_now_delinq','acc_open_past_24mths', 'addr_state', 'all_util', 'annual_inc', 'annual_inc_joint',\n",
    "           'application_type', 'avg_cur_bal', 'bc_open_to_buy', 'bc_util', 'chargeoff_within_12_mths', \n",
    "           'collections_12_mths_ex_med', 'delinq_2yrs', 'delinq_amnt', 'desc', 'disbursement_method', \n",
    "           'dti', 'dti_joint', 'earliest_cr_line', 'emp_length', 'emp_title', 'fico_range_high',\n",
    "           'fico_range_low', 'grade', 'home_ownership', 'id', 'il_util', 'initial_list_status', \n",
    "           'inq_fi', 'inq_last_12m', 'inq_last_6mths', 'int_rate', 'loan_amnt', 'loan_status', 'max_bal_bc',\n",
    "           'mo_sin_old_il_acct', 'mo_sin_old_rev_tl_op', 'mo_sin_rcnt_rev_tl_op', 'mo_sin_rcnt_tl', 'mort_acc',\n",
    "           'mths_since_last_delinq', 'mths_since_last_major_derog', 'mths_since_last_record', 'mths_since_rcnt_il',\n",
    "           'mths_since_recent_bc', 'mths_since_recent_bc_dlq', 'mths_since_recent_inq', \n",
    "           'mths_since_recent_revol_delinq', 'num_accts_ever_120_pd', 'num_actv_bc_tl', 'num_actv_rev_tl', \n",
    "           'num_bc_sats', 'num_bc_tl', 'num_il_tl', 'num_op_rev_tl', 'num_rev_accts', 'num_rev_tl_bal_gt_0',\n",
    "           'num_sats', 'num_tl_120dpd_2m', 'num_tl_30dpd', 'num_tl_90g_dpd_24m', 'num_tl_op_past_12m',\n",
    "           'open_acc', 'open_acc_6m', 'open_act_il', 'open_il_12m', 'open_il_24m', 'open_rv_12m', 'open_rv_24m',\n",
    "           'pct_tl_nvr_dlq', 'percent_bc_gt_75', 'pub_rec', 'pub_rec_bankruptcies', 'purpose', 'revol_bal',\n",
    "           'revol_bal_joint', 'revol_util', 'sec_app_chargeoff_within_12_mths', 'sec_app_collections_12_mths_ex_med',\n",
    "           'sec_app_earliest_cr_line', 'sec_app_fico_range_high', 'sec_app_fico_range_low', 'sec_app_inq_last_6mths',\n",
    "           'sec_app_mort_acc', 'sec_app_mths_since_last_major_derog', 'sec_app_num_rev_accts', 'sec_app_open_acc',\n",
    "           'sec_app_open_act_il', 'sec_app_revol_util', 'sub_grade', 'tax_liens', 'term', 'title', 'tot_coll_amt',\n",
    "           'tot_cur_bal', 'tot_hi_cred_lim', 'total_acc', 'total_bal_ex_mort', 'total_bal_il', 'total_bc_limit', \n",
    "           'total_cu_tl', 'total_il_high_credit_limit', 'total_rev_hi_lim', 'verification_status', \n",
    "           'verification_status_joint', 'zip_code']"
   ]
  },
  {
   "cell_type": "code",
   "execution_count": 22,
   "metadata": {
    "scrolled": true
   },
   "outputs": [
    {
     "name": "stdout",
     "output_type": "stream",
     "text": [
      "acc_now_delinq done.\n",
      "acc_open_past_24mths done.\n",
      "addr_state done.\n",
      "all_util done.\n",
      "annual_inc done.\n",
      "annual_inc_joint done.\n",
      "application_type done.\n",
      "avg_cur_bal done.\n",
      "bc_open_to_buy done.\n",
      "bc_util done.\n",
      "chargeoff_within_12_mths done.\n",
      "collections_12_mths_ex_med done.\n",
      "delinq_2yrs done.\n",
      "delinq_amnt done.\n",
      "desc done.\n",
      "disbursement_method done.\n",
      "dti done.\n",
      "dti_joint done.\n",
      "earliest_cr_line done.\n",
      "emp_length done.\n",
      "emp_title done.\n",
      "fico_range_high done.\n",
      "fico_range_low done.\n",
      "grade done.\n",
      "home_ownership done.\n",
      "id done.\n",
      "il_util done.\n",
      "initial_list_status done.\n",
      "inq_fi done.\n",
      "inq_last_12m done.\n",
      "inq_last_6mths done.\n",
      "int_rate done.\n",
      "loan_amnt done.\n",
      "loan_status done.\n",
      "max_bal_bc done.\n",
      "mo_sin_old_il_acct done.\n",
      "mo_sin_old_rev_tl_op done.\n",
      "mo_sin_rcnt_rev_tl_op done.\n",
      "mo_sin_rcnt_tl done.\n",
      "mort_acc done.\n",
      "mths_since_last_delinq done.\n",
      "mths_since_last_major_derog done.\n",
      "mths_since_last_record done.\n",
      "mths_since_rcnt_il done.\n",
      "mths_since_recent_bc done.\n",
      "mths_since_recent_bc_dlq done.\n",
      "mths_since_recent_inq done.\n",
      "mths_since_recent_revol_delinq done.\n",
      "num_accts_ever_120_pd done.\n",
      "num_actv_bc_tl done.\n",
      "num_actv_rev_tl done.\n",
      "num_bc_sats done.\n",
      "num_bc_tl done.\n",
      "num_il_tl done.\n",
      "num_op_rev_tl done.\n",
      "num_rev_accts done.\n",
      "num_rev_tl_bal_gt_0 done.\n",
      "num_sats done.\n",
      "num_tl_120dpd_2m done.\n",
      "num_tl_30dpd done.\n",
      "num_tl_90g_dpd_24m done.\n",
      "num_tl_op_past_12m done.\n",
      "open_acc done.\n",
      "open_acc_6m done.\n",
      "open_act_il done.\n",
      "open_il_12m done.\n",
      "open_il_24m done.\n",
      "open_rv_12m done.\n",
      "open_rv_24m done.\n",
      "pct_tl_nvr_dlq done.\n",
      "percent_bc_gt_75 done.\n",
      "pub_rec done.\n",
      "pub_rec_bankruptcies done.\n",
      "purpose done.\n",
      "revol_bal done.\n",
      "revol_bal_joint done.\n",
      "revol_util done.\n",
      "sec_app_chargeoff_within_12_mths done.\n",
      "sec_app_collections_12_mths_ex_med done.\n",
      "sec_app_earliest_cr_line done.\n",
      "sec_app_fico_range_high done.\n",
      "sec_app_fico_range_low done.\n",
      "sec_app_inq_last_6mths done.\n",
      "sec_app_mort_acc done.\n",
      "sec_app_mths_since_last_major_derog done.\n",
      "sec_app_num_rev_accts done.\n",
      "sec_app_open_acc done.\n",
      "sec_app_open_act_il done.\n",
      "sec_app_revol_util done.\n",
      "sub_grade done.\n",
      "tax_liens done.\n",
      "term done.\n",
      "title done.\n",
      "tot_coll_amt done.\n",
      "tot_cur_bal done.\n",
      "tot_hi_cred_lim done.\n",
      "total_acc done.\n",
      "total_bal_ex_mort done.\n",
      "total_bal_il done.\n",
      "total_bc_limit done.\n",
      "total_cu_tl done.\n",
      "total_il_high_credit_limit done.\n",
      "total_rev_hi_lim done.\n",
      "verification_status done.\n",
      "verification_status_joint done.\n",
      "zip_code done.\n"
     ]
    }
   ],
   "source": [
    "inception_time = []\n",
    "for col in columns:\n",
    "    df = accepted_data[[col, 'issue_d']][accepted_data[col].notnull()]\n",
    "    inception_time.append({'col': col, 'min_date': min(df.issue_d), 'max_date': max(df.issue_d)})\n",
    "    print(col, 'done.')"
   ]
  },
  {
   "cell_type": "code",
   "execution_count": 24,
   "metadata": {},
   "outputs": [],
   "source": [
    "inceptionDF = pd.DataFrame(inception_time)"
   ]
  },
  {
   "cell_type": "code",
   "execution_count": 27,
   "metadata": {},
   "outputs": [],
   "source": [
    "inceptionDF.to_csv('../data/inception_date.csv')"
   ]
  },
  {
   "cell_type": "markdown",
   "metadata": {},
   "source": [
    "## Plots"
   ]
  },
  {
   "cell_type": "code",
   "execution_count": 90,
   "metadata": {},
   "outputs": [
    {
     "data": {
      "text/plain": [
       "{'whiskers': [<matplotlib.lines.Line2D at 0x7fcc84df4880>,\n",
       "  <matplotlib.lines.Line2D at 0x7fcc84df4490>],\n",
       " 'caps': [<matplotlib.lines.Line2D at 0x7fcc84df4d00>,\n",
       "  <matplotlib.lines.Line2D at 0x7fcc84dec070>],\n",
       " 'boxes': [<matplotlib.lines.Line2D at 0x7fcc6668af40>],\n",
       " 'medians': [<matplotlib.lines.Line2D at 0x7fcc84dec3d0>],\n",
       " 'fliers': [<matplotlib.lines.Line2D at 0x7fcc84dec700>],\n",
       " 'means': []}"
      ]
     },
     "execution_count": 90,
     "metadata": {},
     "output_type": "execute_result"
    },
    {
     "data": {
      "image/png": "[encoded data removed]",
      "text/plain": [
       "<Figure size 504x504 with 2 Axes>"
      ]
     },
     "metadata": {
      "needs_background": "light"
     },
     "output_type": "display_data"
    }
   ],
   "source": [
    "# open_acc_6m\n",
    "fig, axes = plt.subplots(nrows=1, ncols=2, figsize=(7, 7))\n",
    "axes[0].hist(accepted_data.open_acc_6m.compute().sample(frac=0.5, replace=False))\n",
    "axes[1].boxplot(data=accepted_data.open_acc_6m.compute().sample(frac=0.5, replace=False))\n",
    "#accepted_data.open_acc_6m.compute().sample(frac=0.5, replace=False).plot(kind='hist')"
   ]
  },
  {
   "cell_type": "code",
   "execution_count": 94,
   "metadata": {},
   "outputs": [
    {
     "data": {
      "text/plain": [
       "{'whiskers': [<matplotlib.lines.Line2D at 0x7fcc6487fd00>,\n",
       "  <matplotlib.lines.Line2D at 0x7fcc664880a0>],\n",
       " 'caps': [<matplotlib.lines.Line2D at 0x7fcc66488400>,\n",
       "  <matplotlib.lines.Line2D at 0x7fcc66488760>],\n",
       " 'boxes': [<matplotlib.lines.Line2D at 0x7fcc6487f9a0>],\n",
       " 'medians': [<matplotlib.lines.Line2D at 0x7fcc66488ac0>],\n",
       " 'fliers': [<matplotlib.lines.Line2D at 0x7fcc66488e20>],\n",
       " 'means': []}"
      ]
     },
     "execution_count": 94,
     "metadata": {},
     "output_type": "execute_result"
    },
    {
     "data": {
      "image/png": "[encoded data removed]",
      "text/plain": [
       "<Figure size 432x288 with 1 Axes>"
      ]
     },
     "metadata": {
      "needs_background": "light"
     },
     "output_type": "display_data"
    }
   ],
   "source": [
    "plt.boxplot(accepted_data.open_acc_6m.compute().sample(frac=0.5, replace=False))"
   ]
  },
  {
   "cell_type": "code",
   "execution_count": 79,
   "metadata": {},
   "outputs": [
    {
     "data": {
      "text/plain": [
       "<AxesSubplot:ylabel='Frequency'>"
      ]
     },
     "execution_count": 79,
     "metadata": {},
     "output_type": "execute_result"
    },
    {
     "data": {
      "image/png": "[encoded data removed]",
      "text/plain": [
       "<Figure size 432x288 with 1 Axes>"
      ]
     },
     "metadata": {
      "needs_background": "light"
     },
     "output_type": "display_data"
    }
   ],
   "source": [
    "# open_act_il\n",
    "accepted_data.open_act_il.compute().sample(frac=0.5, replace=False).plot(kind='hist')"
   ]
  },
  {
   "cell_type": "code",
   "execution_count": null,
   "metadata": {},
   "outputs": [],
   "source": [
    "# open_il_12m\n",
    "accepted_data.open_il_12m.compute().sample(frac=0.5, replace=False).plot(kind='hist')"
   ]
  },
  {
   "cell_type": "code",
   "execution_count": 80,
   "metadata": {},
   "outputs": [
    {
     "data": {
      "text/plain": [
       "<AxesSubplot:ylabel='Frequency'>"
      ]
     },
     "execution_count": 80,
     "metadata": {},
     "output_type": "execute_result"
    },
    {
     "data": {
      "image/png": "[encoded data removed]",
      "text/plain": [
       "<Figure size 432x288 with 1 Axes>"
      ]
     },
     "metadata": {
      "needs_background": "light"
     },
     "output_type": "display_data"
    }
   ],
   "source": [
    "# open_il_24m\n",
    "accepted_data.open_il_24m.compute().sample(frac=0.5, replace=False).plot(kind='hist')"
   ]
  },
  {
   "cell_type": "code",
   "execution_count": null,
   "metadata": {},
   "outputs": [],
   "source": [
    "# open_rv_12m\n",
    "accepted_data.open_rv_12m.compute().sample(frac=0.5, replace=False).plot(kind='hist')"
   ]
  },
  {
   "cell_type": "code",
   "execution_count": null,
   "metadata": {},
   "outputs": [],
   "source": [
    "# open_rv_24m\n"
   ]
  }
 ],
 "metadata": {
  "kernelspec": {
   "display_name": "Python 3",
   "language": "python",
   "name": "python3"
  },
  "language_info": {
   "codemirror_mode": {
    "name": "ipython",
    "version": 3
   },
   "file_extension": ".py",
   "mimetype": "text/x-python",
   "name": "python",
   "nbconvert_exporter": "python",
   "pygments_lexer": "ipython3",
   "version": "3.8.5"
  }
 },
 "nbformat": 4,
 "nbformat_minor": 4
}
