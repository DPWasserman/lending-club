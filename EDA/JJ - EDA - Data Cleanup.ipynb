{
 "cells": [
  {
   "cell_type": "code",
   "execution_count": 8,
   "metadata": {},
   "outputs": [],
   "source": [
    "import pandas as pd\n",
    "import numpy as np\n",
    "import seaborn as sns\n",
    "%matplotlib inline \n",
    "import matplotlib.pyplot as plt\n",
    "import dask\n",
    "import dask.dataframe as dd"
   ]
  },
  {
   "cell_type": "markdown",
   "metadata": {},
   "source": [
    "#### Import my subset using Dask"
   ]
  },
  {
   "cell_type": "code",
   "execution_count": 22,
   "metadata": {},
   "outputs": [],
   "source": [
    "#my subset\n",
    "df1 = dd.read_csv('accepted_2007_to_2018Q4.csv', usecols=['acc_now_delinq','acc_open_past_24mths','addr_state','all_util',\n",
    "                'annual_inc','annual_inc_joint','application_type','avg_cur_bal',\n",
    "                'bc_open_to_buy','bc_util','chargeoff_within_12_mths','collection_recovery_fee',\n",
    "                'collections_12_mths_ex_med','debt_settlement_flag','debt_settlement_flag_date',\n",
    "                'deferral_term','delinq_2yrs','delinq_amnt','disbursement_method',\n",
    "                'dti','dti_joint','earliest_cr_line','emp_length','emp_title',\n",
    "                'fico_range_high','fico_range_low','funded_amnt','funded_amnt_inv',\n",
    "                'grade','int_rate','loan_status','issue_d'], low_memory = False)"
   ]
  },
  {
   "cell_type": "markdown",
   "metadata": {},
   "source": [
    "#### Only use years 2015-2018"
   ]
  },
  {
   "cell_type": "code",
   "execution_count": 23,
   "metadata": {},
   "outputs": [],
   "source": [
    "df1['issue_d']=dd.to_datetime(df1.issue_d)"
   ]
  },
  {
   "cell_type": "code",
   "execution_count": 24,
   "metadata": {},
   "outputs": [],
   "source": [
    "df1 = df1.loc[df1['issue_d'].dt.year.between(2015,2018)]"
   ]
  },
  {
   "cell_type": "code",
   "execution_count": 25,
   "metadata": {
    "scrolled": true
   },
   "outputs": [
    {
     "data": {
      "text/plain": [
       "2016-03-01    61992\n",
       "2015-10-01    48631\n",
       "2018-05-01    46311\n",
       "2018-10-01    46305\n",
       "2018-08-01    46079\n",
       "2015-07-01    45962\n",
       "2015-12-01    44343\n",
       "2017-08-01    43573\n",
       "2018-07-01    43089\n",
       "2018-04-01    42928\n",
       "2017-11-01    42343\n",
       "2018-11-01    41973\n",
       "2018-06-01    41533\n",
       "2018-12-01    40134\n",
       "2017-09-01    39713\n",
       "2016-02-01    39529\n",
       "2017-07-01    39415\n",
       "2018-09-01    39026\n",
       "2018-03-01    38771\n",
       "2017-12-01    38154\n",
       "2017-10-01    38151\n",
       "2017-06-01    38087\n",
       "2017-05-01    37681\n",
       "2015-11-01    37530\n",
       "2017-03-01    37181\n",
       "2016-04-01    36432\n",
       "2018-01-01    36347\n",
       "2016-08-01    36280\n",
       "2016-12-01    36183\n",
       "2015-08-01    35886\n",
       "2015-04-01    35427\n",
       "2015-01-01    35107\n",
       "2016-07-01    34696\n",
       "2016-11-01    34591\n",
       "2016-06-01    33019\n",
       "2016-10-01    32772\n",
       "2018-02-01    32746\n",
       "2016-01-01    32366\n",
       "2015-05-01    31913\n",
       "2017-01-01    31835\n",
       "2017-04-01    29683\n",
       "2015-09-01    28641\n",
       "2015-06-01    28485\n",
       "2016-05-01    28403\n",
       "2016-09-01    28144\n",
       "2017-02-01    27763\n",
       "2015-03-01    25400\n",
       "2015-02-01    23770\n",
       "Name: issue_d, dtype: int64"
      ]
     },
     "execution_count": 25,
     "metadata": {},
     "output_type": "execute_result"
    }
   ],
   "source": [
    "df1['issue_d'].value_counts().compute()"
   ]
  },
  {
   "cell_type": "code",
   "execution_count": 26,
   "metadata": {},
   "outputs": [],
   "source": [
    "# If there is no issue date, this is not a \"good\" record"
   ]
  },
  {
   "cell_type": "code",
   "execution_count": 27,
   "metadata": {},
   "outputs": [],
   "source": [
    "df1 = df1.dropna(subset=['issue_d'])"
   ]
  },
  {
   "cell_type": "markdown",
   "metadata": {},
   "source": [
    "#### Drop\n",
    "- grades G and F\n",
    "- features not available at origination of loan"
   ]
  },
  {
   "cell_type": "code",
   "execution_count": 28,
   "metadata": {},
   "outputs": [],
   "source": [
    "df1 = df1[(df1.grade != 'F') & (df1.grade != 'G')]"
   ]
  },
  {
   "cell_type": "code",
   "execution_count": 29,
   "metadata": {},
   "outputs": [],
   "source": [
    "#add 'desc' to list\n",
    "df1 = df1.drop(['collection_recovery_fee','debt_settlement_flag','debt_settlement_flag_date','deferral_term','funded_amnt','funded_amnt_inv'], axis=1)"
   ]
  },
  {
   "cell_type": "markdown",
   "metadata": {},
   "source": [
    "## Evaluate each feature"
   ]
  },
  {
   "cell_type": "code",
   "execution_count": 10,
   "metadata": {},
   "outputs": [
    {
     "data": {
      "text/plain": [
       "0.0     1750076\n",
       "1.0        6467\n",
       "2.0         317\n",
       "3.0          37\n",
       "4.0           7\n",
       "6.0           2\n",
       "14.0          1\n",
       "7.0           1\n",
       "5.0           1\n",
       "Name: acc_now_delinq, dtype: int64"
      ]
     },
     "execution_count": 10,
     "metadata": {},
     "output_type": "execute_result"
    }
   ],
   "source": [
    "df1['acc_now_delinq'].value_counts().compute()"
   ]
  },
  {
   "cell_type": "code",
   "execution_count": 11,
   "metadata": {},
   "outputs": [
    {
     "data": {
      "text/plain": [
       "0"
      ]
     },
     "execution_count": 11,
     "metadata": {},
     "output_type": "execute_result"
    }
   ],
   "source": [
    "sum(df1['acc_now_delinq'].isnull().compute())"
   ]
  },
  {
   "cell_type": "code",
   "execution_count": 12,
   "metadata": {},
   "outputs": [
    {
     "data": {
      "text/plain": [
       "count    1.756909e+06\n",
       "mean     4.559388e+00\n",
       "std      3.213900e+00\n",
       "min      0.000000e+00\n",
       "25%      2.000000e+00\n",
       "50%      4.000000e+00\n",
       "75%      6.000000e+00\n",
       "max      6.400000e+01\n",
       "Name: acc_open_past_24mths, dtype: float64"
      ]
     },
     "execution_count": 12,
     "metadata": {},
     "output_type": "execute_result"
    }
   ],
   "source": [
    "df1['acc_open_past_24mths'].describe().compute()"
   ]
  },
  {
   "cell_type": "code",
   "execution_count": 13,
   "metadata": {},
   "outputs": [
    {
     "data": {
      "text/plain": [
       "0"
      ]
     },
     "execution_count": 13,
     "metadata": {},
     "output_type": "execute_result"
    }
   ],
   "source": [
    "sum(df1['acc_open_past_24mths'].isnull().compute())"
   ]
  },
  {
   "cell_type": "markdown",
   "metadata": {},
   "source": [
    "### State"
   ]
  },
  {
   "cell_type": "code",
   "execution_count": 14,
   "metadata": {
    "scrolled": true
   },
   "outputs": [
    {
     "data": {
      "text/plain": [
       "CA    238127\n",
       "TX    146874\n",
       "NY    142953\n",
       "FL    127698\n",
       "IL     71141\n",
       "NJ     63845\n",
       "PA     59292\n",
       "OH     58674\n",
       "GA     57831\n",
       "NC     48899\n",
       "VA     47602\n",
       "MI     46205\n",
       "AZ     42249\n",
       "MD     42072\n",
       "MA     39949\n",
       "CO     37649\n",
       "WA     35748\n",
       "MN     30701\n",
       "IN     30325\n",
       "TN     28833\n",
       "CT     28020\n",
       "MO     28007\n",
       "NV     25589\n",
       "WI     23510\n",
       "SC     21896\n",
       "AL     20902\n",
       "OR     20437\n",
       "LA     19814\n",
       "KY     17095\n",
       "OK     16206\n",
       "KS     14657\n",
       "AR     13259\n",
       "UT     11330\n",
       "MS     11151\n",
       "NM      9192\n",
       "NH      8757\n",
       "HI      7924\n",
       "RI      7792\n",
       "NE      7650\n",
       "WV      5827\n",
       "DE      5076\n",
       "ME      4878\n",
       "MT      4798\n",
       "ID      4224\n",
       "VT      3949\n",
       "AK      3896\n",
       "DC      3863\n",
       "WY      3541\n",
       "ND      3514\n",
       "SD      3488\n",
       "Name: addr_state, dtype: int64"
      ]
     },
     "execution_count": 14,
     "metadata": {},
     "output_type": "execute_result"
    }
   ],
   "source": [
    "df1.addr_state.value_counts().compute()"
   ]
  },
  {
   "cell_type": "code",
   "execution_count": 15,
   "metadata": {},
   "outputs": [
    {
     "data": {
      "text/plain": [
       "0"
      ]
     },
     "execution_count": 15,
     "metadata": {},
     "output_type": "execute_result"
    }
   ],
   "source": [
    "sum(df1['addr_state'].isnull().compute())"
   ]
  },
  {
   "cell_type": "code",
   "execution_count": 16,
   "metadata": {},
   "outputs": [],
   "source": [
    "#NEED TO DUMMIFY"
   ]
  },
  {
   "cell_type": "markdown",
   "metadata": {},
   "source": [
    "### Balance to credit limit on all trades"
   ]
  },
  {
   "cell_type": "code",
   "execution_count": 17,
   "metadata": {},
   "outputs": [
    {
     "data": {
      "text/plain": [
       "388531"
      ]
     },
     "execution_count": 17,
     "metadata": {},
     "output_type": "execute_result"
    }
   ],
   "source": [
    "sum(df1['all_util'].isnull().compute())"
   ]
  },
  {
   "cell_type": "code",
   "execution_count": 18,
   "metadata": {},
   "outputs": [
    {
     "data": {
      "text/plain": [
       "(array([0, 1, 2, 3, 4, 5, 6]),\n",
       " [Text(0, 0, 'Fully Paid'),\n",
       "  Text(1, 0, 'Current'),\n",
       "  Text(2, 0, 'Charged Off'),\n",
       "  Text(3, 0, 'In Grace Period'),\n",
       "  Text(4, 0, 'Late (31-120 days)'),\n",
       "  Text(5, 0, 'Late (16-30 days)'),\n",
       "  Text(6, 0, 'Default')])"
      ]
     },
     "execution_count": 18,
     "metadata": {},
     "output_type": "execute_result"
    },
    {
     "data": {
      "image/png": "[encoded data removed]",
      "text/plain": [
       "<Figure size 432x288 with 1 Axes>"
      ]
     },
     "metadata": {
      "needs_background": "light"
     },
     "output_type": "display_data"
    }
   ],
   "source": [
    "util_box = df1[['loan_status', 'all_util']].dropna().compute()\n",
    "sns.boxplot(x='loan_status', y=\"all_util\", data=util_box)\n",
    "plt.xticks(rotation=45)"
   ]
  },
  {
   "cell_type": "code",
   "execution_count": 19,
   "metadata": {},
   "outputs": [
    {
     "data": {
      "text/plain": [
       "56.83556298040454"
      ]
     },
     "execution_count": 19,
     "metadata": {},
     "output_type": "execute_result"
    }
   ],
   "source": [
    "df1['all_util'].mean().compute()"
   ]
  },
  {
   "cell_type": "code",
   "execution_count": 41,
   "metadata": {},
   "outputs": [],
   "source": [
    "df1.all_util = df1.all_util.fillna(np.mean(df1.all_util))"
   ]
  },
  {
   "cell_type": "code",
   "execution_count": 42,
   "metadata": {},
   "outputs": [
    {
     "data": {
      "text/plain": [
       "0"
      ]
     },
     "execution_count": 42,
     "metadata": {},
     "output_type": "execute_result"
    }
   ],
   "source": [
    "sum(df1['all_util'].isnull().compute())"
   ]
  },
  {
   "cell_type": "markdown",
   "metadata": {},
   "source": [
    "### Annual Income"
   ]
  },
  {
   "cell_type": "markdown",
   "metadata": {},
   "source": [
    "- 94% missing in annual_inc_joint"
   ]
  },
  {
   "cell_type": "code",
   "execution_count": 30,
   "metadata": {},
   "outputs": [],
   "source": [
    "#create new feature combining annual_inc and annual_inc_joint\n",
    "df1['annual_inc_total'] = df1['annual_inc_joint'].fillna(df1['annual_inc'])"
   ]
  },
  {
   "cell_type": "code",
   "execution_count": 22,
   "metadata": {},
   "outputs": [
    {
     "data": {
      "text/plain": [
       "0"
      ]
     },
     "execution_count": 22,
     "metadata": {},
     "output_type": "execute_result"
    }
   ],
   "source": [
    "sum(df1['annual_inc_total'].isnull().compute())"
   ]
  },
  {
   "cell_type": "code",
   "execution_count": 23,
   "metadata": {},
   "outputs": [
    {
     "data": {
      "text/plain": [
       "<AxesSubplot:xlabel='annual_inc_total', ylabel='int_rate'>"
      ]
     },
     "execution_count": 23,
     "metadata": {},
     "output_type": "execute_result"
    },
    {
     "data": {
      "image/png": "[encoded data removed]",
      "text/plain": [
       "<Figure size 432x288 with 1 Axes>"
      ]
     },
     "metadata": {
      "needs_background": "light"
     },
     "output_type": "display_data"
    }
   ],
   "source": [
    "sns.scatterplot(x='annual_inc_total',y='int_rate', data=df1.compute())"
   ]
  },
  {
   "cell_type": "code",
   "execution_count": 24,
   "metadata": {},
   "outputs": [
    {
     "data": {
      "text/plain": [
       "count    1.756909e+06\n",
       "mean     8.366654e+04\n",
       "std      1.255351e+05\n",
       "min      1.900000e+03\n",
       "25%      5.200000e+04\n",
       "50%      7.500000e+04\n",
       "75%      1.100000e+05\n",
       "max      1.100000e+08\n",
       "Name: annual_inc_total, dtype: float64"
      ]
     },
     "execution_count": 24,
     "metadata": {},
     "output_type": "execute_result"
    }
   ],
   "source": [
    "df1['annual_inc_total'].describe().compute()"
   ]
  },
  {
   "cell_type": "code",
   "execution_count": 31,
   "metadata": {},
   "outputs": [],
   "source": [
    "#Drop 2 outliers\n",
    "df1= df1[df1.annual_inc_total < .2e8]"
   ]
  },
  {
   "cell_type": "code",
   "execution_count": 26,
   "metadata": {},
   "outputs": [
    {
     "data": {
      "text/plain": [
       "<AxesSubplot:xlabel='annual_inc_total', ylabel='int_rate'>"
      ]
     },
     "execution_count": 26,
     "metadata": {},
     "output_type": "execute_result"
    },
    {
     "data": {
      "image/png": "[encoded data removed]",
      "text/plain": [
       "<Figure size 432x288 with 1 Axes>"
      ]
     },
     "metadata": {
      "needs_background": "light"
     },
     "output_type": "display_data"
    }
   ],
   "source": [
    "sns.scatterplot(x='annual_inc_total',y='int_rate', data=df1.compute())"
   ]
  },
  {
   "cell_type": "code",
   "execution_count": 32,
   "metadata": {},
   "outputs": [],
   "source": [
    "#drop annual inc and annual inc joint\n",
    "df1 = df1.drop(['annual_inc','annual_inc_joint'], axis=1)"
   ]
  },
  {
   "cell_type": "markdown",
   "metadata": {},
   "source": [
    "#### Application Type"
   ]
  },
  {
   "cell_type": "code",
   "execution_count": 28,
   "metadata": {},
   "outputs": [
    {
     "data": {
      "text/plain": [
       "Individual    1638772\n",
       "Joint App      118135\n",
       "Name: application_type, dtype: int64"
      ]
     },
     "execution_count": 28,
     "metadata": {},
     "output_type": "execute_result"
    }
   ],
   "source": [
    "df1['application_type'].value_counts().compute()"
   ]
  },
  {
   "cell_type": "code",
   "execution_count": 33,
   "metadata": {},
   "outputs": [],
   "source": [
    "#covert to binary\n",
    "import dask.array as da\n",
    "x= df1['application_type'].to_dask_array()\n",
    "df1['application_type_indiv']= da.where(x =='Individual',1,0)"
   ]
  },
  {
   "cell_type": "code",
   "execution_count": 30,
   "metadata": {},
   "outputs": [
    {
     "data": {
      "text/plain": [
       "1    1638772\n",
       "0     118135\n",
       "Name: application_type_indiv, dtype: int64"
      ]
     },
     "execution_count": 30,
     "metadata": {},
     "output_type": "execute_result"
    }
   ],
   "source": [
    "df1['application_type_indiv'].value_counts().compute()"
   ]
  },
  {
   "cell_type": "code",
   "execution_count": 34,
   "metadata": {},
   "outputs": [],
   "source": [
    "#drop application column\n",
    "df1 = df1.drop('application_type', axis=1)"
   ]
  },
  {
   "cell_type": "code",
   "execution_count": 32,
   "metadata": {},
   "outputs": [
    {
     "data": {
      "text/plain": [
       "0"
      ]
     },
     "execution_count": 32,
     "metadata": {},
     "output_type": "execute_result"
    }
   ],
   "source": [
    "sum(df1['application_type_indiv'].isnull().compute())"
   ]
  },
  {
   "cell_type": "markdown",
   "metadata": {},
   "source": [
    "#### Average current balance of all accounts"
   ]
  },
  {
   "cell_type": "code",
   "execution_count": 33,
   "metadata": {},
   "outputs": [
    {
     "data": {
      "text/plain": [
       "count    1.756852e+06\n",
       "mean     1.358154e+04\n",
       "std      1.659573e+04\n",
       "min      0.000000e+00\n",
       "25%      3.406000e+03\n",
       "50%      7.982000e+03\n",
       "75%      1.952550e+04\n",
       "max      7.529940e+05\n",
       "Name: avg_cur_bal, dtype: float64"
      ]
     },
     "execution_count": 33,
     "metadata": {},
     "output_type": "execute_result"
    }
   ],
   "source": [
    "df1['avg_cur_bal'].describe().compute()"
   ]
  },
  {
   "cell_type": "code",
   "execution_count": 35,
   "metadata": {},
   "outputs": [
    {
     "data": {
      "text/plain": [
       "55"
      ]
     },
     "execution_count": 35,
     "metadata": {},
     "output_type": "execute_result"
    }
   ],
   "source": [
    "sum(df1['avg_cur_bal'].isnull().compute())"
   ]
  },
  {
   "cell_type": "code",
   "execution_count": 37,
   "metadata": {},
   "outputs": [],
   "source": [
    "df1 = df1.dropna(subset=['avg_cur_bal'])"
   ]
  },
  {
   "cell_type": "code",
   "execution_count": 38,
   "metadata": {},
   "outputs": [
    {
     "data": {
      "text/plain": [
       "0"
      ]
     },
     "execution_count": 38,
     "metadata": {},
     "output_type": "execute_result"
    }
   ],
   "source": [
    "sum(df1['avg_cur_bal'].isnull().compute())"
   ]
  },
  {
   "cell_type": "code",
   "execution_count": 35,
   "metadata": {},
   "outputs": [
    {
     "data": {
      "text/html": [
       "<div>\n",
       "<style scoped>\n",
       "    .dataframe tbody tr th:only-of-type {\n",
       "        vertical-align: middle;\n",
       "    }\n",
       "\n",
       "    .dataframe tbody tr th {\n",
       "        vertical-align: top;\n",
       "    }\n",
       "\n",
       "    .dataframe thead th {\n",
       "        text-align: right;\n",
       "    }\n",
       "</style>\n",
       "<table border=\"1\" class=\"dataframe\">\n",
       "  <thead>\n",
       "    <tr style=\"text-align: right;\">\n",
       "      <th></th>\n",
       "      <th>avg_cur_bal</th>\n",
       "    </tr>\n",
       "    <tr>\n",
       "      <th>loan_status</th>\n",
       "      <th></th>\n",
       "    </tr>\n",
       "  </thead>\n",
       "  <tbody>\n",
       "    <tr>\n",
       "      <th>Charged Off</th>\n",
       "      <td>10872.912693</td>\n",
       "    </tr>\n",
       "    <tr>\n",
       "      <th>Current</th>\n",
       "      <td>13671.719193</td>\n",
       "    </tr>\n",
       "    <tr>\n",
       "      <th>Default</th>\n",
       "      <td>12771.368421</td>\n",
       "    </tr>\n",
       "    <tr>\n",
       "      <th>Fully Paid</th>\n",
       "      <td>14214.878308</td>\n",
       "    </tr>\n",
       "    <tr>\n",
       "      <th>In Grace Period</th>\n",
       "      <td>14057.718726</td>\n",
       "    </tr>\n",
       "    <tr>\n",
       "      <th>Late (16-30 days)</th>\n",
       "      <td>12798.756980</td>\n",
       "    </tr>\n",
       "    <tr>\n",
       "      <th>Late (31-120 days)</th>\n",
       "      <td>12094.687158</td>\n",
       "    </tr>\n",
       "  </tbody>\n",
       "</table>\n",
       "</div>"
      ],
      "text/plain": [
       "                     avg_cur_bal\n",
       "loan_status                     \n",
       "Charged Off         10872.912693\n",
       "Current             13671.719193\n",
       "Default             12771.368421\n",
       "Fully Paid          14214.878308\n",
       "In Grace Period     14057.718726\n",
       "Late (16-30 days)   12798.756980\n",
       "Late (31-120 days)  12094.687158"
      ]
     },
     "execution_count": 35,
     "metadata": {},
     "output_type": "execute_result"
    }
   ],
   "source": [
    "df1[['loan_status', 'avg_cur_bal']].dropna().groupby('loan_status').mean().compute()"
   ]
  },
  {
   "cell_type": "code",
   "execution_count": null,
   "metadata": {},
   "outputs": [],
   "source": []
  },
  {
   "cell_type": "code",
   "execution_count": 36,
   "metadata": {},
   "outputs": [
    {
     "data": {
      "text/plain": [
       "(array([0, 1, 2, 3, 4, 5, 6]),\n",
       " [Text(0, 0, 'Fully Paid'),\n",
       "  Text(1, 0, 'Current'),\n",
       "  Text(2, 0, 'Charged Off'),\n",
       "  Text(3, 0, 'In Grace Period'),\n",
       "  Text(4, 0, 'Late (31-120 days)'),\n",
       "  Text(5, 0, 'Late (16-30 days)'),\n",
       "  Text(6, 0, 'Default')])"
      ]
     },
     "execution_count": 36,
     "metadata": {},
     "output_type": "execute_result"
    },
    {
     "data": {
      "image/png": "[encoded data removed]",
      "text/plain": [
       "<Figure size 432x288 with 1 Axes>"
      ]
     },
     "metadata": {
      "needs_background": "light"
     },
     "output_type": "display_data"
    }
   ],
   "source": [
    "cur_bal_box = df1[['loan_status', 'avg_cur_bal']].dropna().compute()\n",
    "sns.boxplot(x='loan_status', y='avg_cur_bal', data=cur_bal_box)\n",
    "plt.xticks(rotation=45)"
   ]
  },
  {
   "cell_type": "code",
   "execution_count": 37,
   "metadata": {},
   "outputs": [],
   "source": [
    "#log?"
   ]
  },
  {
   "cell_type": "markdown",
   "metadata": {},
   "source": [
    "#### Total open to buy on revolving bankcards"
   ]
  },
  {
   "cell_type": "code",
   "execution_count": 38,
   "metadata": {},
   "outputs": [
    {
     "data": {
      "text/plain": [
       "0.0         21305\n",
       "2000.0       1536\n",
       "500.0        1515\n",
       "1000.0       1361\n",
       "3000.0       1307\n",
       "            ...  \n",
       "75413.0         1\n",
       "75412.0         1\n",
       "75411.0         1\n",
       "75409.0         1\n",
       "711140.0        1\n",
       "Name: bc_open_to_buy, Length: 88934, dtype: int64"
      ]
     },
     "execution_count": 38,
     "metadata": {},
     "output_type": "execute_result"
    }
   ],
   "source": [
    "df1['bc_open_to_buy'].value_counts().compute()"
   ]
  },
  {
   "cell_type": "code",
   "execution_count": 39,
   "metadata": {},
   "outputs": [
    {
     "data": {
      "text/plain": [
       "20182"
      ]
     },
     "execution_count": 39,
     "metadata": {},
     "output_type": "execute_result"
    }
   ],
   "source": [
    "sum(df1['bc_open_to_buy'].isnull().compute())"
   ]
  },
  {
   "cell_type": "markdown",
   "metadata": {},
   "source": [
    "#### Ratio of total current balance to high credit/credit limit for all bankcard accounts."
   ]
  },
  {
   "cell_type": "code",
   "execution_count": 40,
   "metadata": {},
   "outputs": [
    {
     "data": {
      "text/plain": [
       "0.0      23883\n",
       "98.0      4941\n",
       "99.0      4546\n",
       "97.0      4523\n",
       "96.0      4471\n",
       "         ...  \n",
       "156.2        1\n",
       "155.5        1\n",
       "154.9        1\n",
       "154.4        1\n",
       "318.2        1\n",
       "Name: bc_util, Length: 1445, dtype: int64"
      ]
     },
     "execution_count": 40,
     "metadata": {},
     "output_type": "execute_result"
    }
   ],
   "source": [
    "df1['bc_util'].value_counts().compute()"
   ]
  },
  {
   "cell_type": "code",
   "execution_count": 41,
   "metadata": {},
   "outputs": [
    {
     "data": {
      "text/plain": [
       "21034"
      ]
     },
     "execution_count": 41,
     "metadata": {},
     "output_type": "execute_result"
    }
   ],
   "source": [
    "sum(df1['bc_util'].isnull().compute())"
   ]
  },
  {
   "cell_type": "markdown",
   "metadata": {},
   "source": [
    "#### # of chargeoffs & # of collections"
   ]
  },
  {
   "cell_type": "code",
   "execution_count": 42,
   "metadata": {},
   "outputs": [
    {
     "data": {
      "text/plain": [
       "0.0     1743147\n",
       "1.0       12708\n",
       "2.0         794\n",
       "3.0         151\n",
       "4.0          61\n",
       "5.0          20\n",
       "6.0          11\n",
       "7.0           7\n",
       "9.0           5\n",
       "8.0           2\n",
       "10.0          1\n",
       "Name: chargeoff_within_12_mths, dtype: int64"
      ]
     },
     "execution_count": 42,
     "metadata": {},
     "output_type": "execute_result"
    }
   ],
   "source": [
    "df1['chargeoff_within_12_mths'].value_counts().compute()"
   ]
  },
  {
   "cell_type": "code",
   "execution_count": 43,
   "metadata": {},
   "outputs": [
    {
     "data": {
      "text/plain": [
       "0"
      ]
     },
     "execution_count": 43,
     "metadata": {},
     "output_type": "execute_result"
    }
   ],
   "source": [
    "sum(df1['chargeoff_within_12_mths'].isnull().compute())"
   ]
  },
  {
   "cell_type": "code",
   "execution_count": 44,
   "metadata": {},
   "outputs": [
    {
     "data": {
      "text/plain": [
       "0.0     1724125\n",
       "1.0       30330\n",
       "2.0        2052\n",
       "3.0         246\n",
       "4.0          83\n",
       "5.0          34\n",
       "6.0          15\n",
       "7.0           7\n",
       "9.0           4\n",
       "8.0           4\n",
       "12.0          2\n",
       "10.0          2\n",
       "20.0          1\n",
       "14.0          1\n",
       "11.0          1\n",
       "Name: collections_12_mths_ex_med, dtype: int64"
      ]
     },
     "execution_count": 44,
     "metadata": {},
     "output_type": "execute_result"
    }
   ],
   "source": [
    "df1['collections_12_mths_ex_med'].value_counts().compute()"
   ]
  },
  {
   "cell_type": "code",
   "execution_count": 45,
   "metadata": {},
   "outputs": [
    {
     "data": {
      "text/plain": [
       "0"
      ]
     },
     "execution_count": 45,
     "metadata": {},
     "output_type": "execute_result"
    }
   ],
   "source": [
    "sum(df1['collections_12_mths_ex_med'].isnull().compute())"
   ]
  },
  {
   "cell_type": "markdown",
   "metadata": {},
   "source": [
    "- 99%, 98% of non-null values are 0 \n",
    "- both have 141 missings - drop"
   ]
  },
  {
   "cell_type": "markdown",
   "metadata": {},
   "source": [
    "### DELINQ"
   ]
  },
  {
   "cell_type": "code",
   "execution_count": 46,
   "metadata": {},
   "outputs": [
    {
     "data": {
      "text/plain": [
       "0"
      ]
     },
     "execution_count": 46,
     "metadata": {},
     "output_type": "execute_result"
    }
   ],
   "source": [
    "sum(df1['delinq_2yrs'].isnull().compute())"
   ]
  },
  {
   "cell_type": "code",
   "execution_count": 47,
   "metadata": {},
   "outputs": [
    {
     "data": {
      "text/plain": [
       "0"
      ]
     },
     "execution_count": 47,
     "metadata": {},
     "output_type": "execute_result"
    }
   ],
   "source": [
    "sum(df1['delinq_amnt'].isnull().compute())"
   ]
  },
  {
   "cell_type": "markdown",
   "metadata": {},
   "source": [
    "#### Disbursement method"
   ]
  },
  {
   "cell_type": "code",
   "execution_count": 48,
   "metadata": {},
   "outputs": [
    {
     "data": {
      "text/plain": [
       "Cash         1679433\n",
       "DirectPay      77474\n",
       "Name: disbursement_method, dtype: int64"
      ]
     },
     "execution_count": 48,
     "metadata": {},
     "output_type": "execute_result"
    }
   ],
   "source": [
    "df1['disbursement_method'].value_counts().compute()"
   ]
  },
  {
   "cell_type": "code",
   "execution_count": 49,
   "metadata": {},
   "outputs": [],
   "source": [
    "#covert to binary\n",
    "#import dask.array as da\n",
    "x = df1['disbursement_method'].to_dask_array()\n",
    "df1['disbursement_method_cash']= da.where(x =='Cash',1,0)"
   ]
  },
  {
   "cell_type": "code",
   "execution_count": 50,
   "metadata": {},
   "outputs": [
    {
     "data": {
      "text/plain": [
       "1    1679433\n",
       "0      77474\n",
       "Name: disbursement_method_cash, dtype: int64"
      ]
     },
     "execution_count": 50,
     "metadata": {},
     "output_type": "execute_result"
    }
   ],
   "source": [
    "df1['disbursement_method_cash'].value_counts().compute()"
   ]
  },
  {
   "cell_type": "code",
   "execution_count": 51,
   "metadata": {},
   "outputs": [],
   "source": [
    "#drop original column\n",
    "df1 = df1.drop('disbursement_method', axis=1)"
   ]
  },
  {
   "cell_type": "code",
   "execution_count": 52,
   "metadata": {},
   "outputs": [
    {
     "data": {
      "text/plain": [
       "0"
      ]
     },
     "execution_count": 52,
     "metadata": {},
     "output_type": "execute_result"
    }
   ],
   "source": [
    "sum(df1['disbursement_method_cash'].isnull().compute())"
   ]
  },
  {
   "cell_type": "markdown",
   "metadata": {},
   "source": [
    "#### DTI"
   ]
  },
  {
   "cell_type": "code",
   "execution_count": 53,
   "metadata": {},
   "outputs": [
    {
     "data": {
      "text/plain": [
       "1666"
      ]
     },
     "execution_count": 53,
     "metadata": {},
     "output_type": "execute_result"
    }
   ],
   "source": [
    "sum(df1['dti'].isnull().compute())"
   ]
  },
  {
   "cell_type": "code",
   "execution_count": 54,
   "metadata": {},
   "outputs": [
    {
     "data": {
      "text/plain": [
       "0.00      1338\n",
       "16.80     1198\n",
       "18.00     1192\n",
       "19.20     1166\n",
       "14.40     1151\n",
       "          ... \n",
       "100.17       1\n",
       "100.18       1\n",
       "100.22       1\n",
       "100.23       1\n",
       "72.51        1\n",
       "Name: dti, Length: 10744, dtype: int64"
      ]
     },
     "execution_count": 54,
     "metadata": {},
     "output_type": "execute_result"
    }
   ],
   "source": [
    "df1['dti'].value_counts().compute()"
   ]
  },
  {
   "cell_type": "code",
   "execution_count": 55,
   "metadata": {},
   "outputs": [
    {
     "data": {
      "text/plain": [
       "17.32    76\n",
       "17.96    76\n",
       "19.89    76\n",
       "22.39    75\n",
       "16.97    75\n",
       "         ..\n",
       "46.52     1\n",
       "46.83     1\n",
       "46.86     1\n",
       "48.58     1\n",
       "69.49     1\n",
       "Name: dti_joint, Length: 4014, dtype: int64"
      ]
     },
     "execution_count": 55,
     "metadata": {},
     "output_type": "execute_result"
    }
   ],
   "source": [
    "df1['dti_joint'].value_counts().compute()"
   ]
  },
  {
   "cell_type": "code",
   "execution_count": 56,
   "metadata": {},
   "outputs": [
    {
     "data": {
      "text/plain": [
       "1638776"
      ]
     },
     "execution_count": 56,
     "metadata": {},
     "output_type": "execute_result"
    }
   ],
   "source": [
    "sum(df1['dti_joint'].isnull().compute())"
   ]
  },
  {
   "cell_type": "markdown",
   "metadata": {},
   "source": [
    "- 94% missing - impute 0 for not joint?"
   ]
  },
  {
   "cell_type": "markdown",
   "metadata": {},
   "source": [
    "#### Earliest reported credit line opened"
   ]
  },
  {
   "cell_type": "code",
   "execution_count": 57,
   "metadata": {},
   "outputs": [
    {
     "data": {
      "text/plain": [
       "Sep-2004    12853\n",
       "Sep-2005    12642\n",
       "Sep-2003    12319\n",
       "Aug-2005    12229\n",
       "Aug-2006    12168\n",
       "            ...  \n",
       "Nov-1952        1\n",
       "May-1958        1\n",
       "Jan-1948        1\n",
       "Mar-1958        1\n",
       "Jan-1944        1\n",
       "Name: earliest_cr_line, Length: 737, dtype: int64"
      ]
     },
     "execution_count": 57,
     "metadata": {},
     "output_type": "execute_result"
    }
   ],
   "source": [
    "df1['earliest_cr_line'].value_counts().compute()"
   ]
  },
  {
   "cell_type": "code",
   "execution_count": 58,
   "metadata": {},
   "outputs": [],
   "source": [
    "#need to change format\n",
    "df1['earliest_cr_line']=dd.to_datetime(df1.earliest_cr_line,unit='ns')"
   ]
  },
  {
   "cell_type": "code",
   "execution_count": 59,
   "metadata": {},
   "outputs": [
    {
     "data": {
      "text/plain": [
       "2004-09-01    12853\n",
       "2005-09-01    12642\n",
       "2003-09-01    12319\n",
       "2005-08-01    12229\n",
       "2006-08-01    12168\n",
       "              ...  \n",
       "1959-04-01        1\n",
       "1955-06-01        1\n",
       "1955-08-01        1\n",
       "1960-11-01        1\n",
       "1933-03-01        1\n",
       "Name: earliest_cr_line, Length: 737, dtype: int64"
      ]
     },
     "execution_count": 59,
     "metadata": {},
     "output_type": "execute_result"
    }
   ],
   "source": [
    "df1['earliest_cr_line'].value_counts().compute()"
   ]
  },
  {
   "cell_type": "code",
   "execution_count": 60,
   "metadata": {},
   "outputs": [
    {
     "data": {
      "text/plain": [
       "0"
      ]
     },
     "execution_count": 60,
     "metadata": {},
     "output_type": "execute_result"
    }
   ],
   "source": [
    "sum(df1['earliest_cr_line'].isnull().compute())"
   ]
  },
  {
   "cell_type": "markdown",
   "metadata": {},
   "source": [
    "### Professions"
   ]
  },
  {
   "cell_type": "markdown",
   "metadata": {},
   "source": [
    "- need to deal with emp_title"
   ]
  },
  {
   "cell_type": "code",
   "execution_count": 61,
   "metadata": {},
   "outputs": [
    {
     "data": {
      "text/plain": [
       "10+ years    585596\n",
       "2 years      158869\n",
       "< 1 year     150740\n",
       "3 years      141066\n",
       "1 year       116276\n",
       "5 years      106598\n",
       "4 years      106326\n",
       "6 years       74858\n",
       "8 years       67893\n",
       "7 years       65050\n",
       "9 years       60101\n",
       "Name: emp_length, dtype: int64"
      ]
     },
     "execution_count": 61,
     "metadata": {},
     "output_type": "execute_result"
    }
   ],
   "source": [
    "df1['emp_length'].value_counts().compute()"
   ]
  },
  {
   "cell_type": "code",
   "execution_count": 62,
   "metadata": {},
   "outputs": [],
   "source": [
    "#covert to ordinal\n",
    "#subset.emp_length.replace({'< 1 year':0, '1 year':1, '2 years':2, '3 years':3,'4 years':4, '5 years':5, '6 years':6, '7 years':7, '8 years':8, '9 years':9, '10+ years':10}, inplace=True)"
   ]
  },
  {
   "cell_type": "code",
   "execution_count": 63,
   "metadata": {},
   "outputs": [
    {
     "data": {
      "text/plain": [
       "123534"
      ]
     },
     "execution_count": 63,
     "metadata": {},
     "output_type": "execute_result"
    }
   ],
   "source": [
    "sum(df1['emp_length'].isnull().compute())"
   ]
  },
  {
   "cell_type": "markdown",
   "metadata": {},
   "source": [
    "### Fico"
   ]
  },
  {
   "cell_type": "code",
   "execution_count": 64,
   "metadata": {},
   "outputs": [
    {
     "data": {
      "text/plain": [
       "count    1.756907e+06\n",
       "mean     7.036037e+02\n",
       "std      3.366068e+01\n",
       "min      6.640000e+02\n",
       "25%      6.840000e+02\n",
       "50%      7.040000e+02\n",
       "75%      7.340000e+02\n",
       "max      8.500000e+02\n",
       "Name: fico_range_high, dtype: float64"
      ]
     },
     "execution_count": 64,
     "metadata": {},
     "output_type": "execute_result"
    }
   ],
   "source": [
    "df1['fico_range_high'].describe().compute()"
   ]
  },
  {
   "cell_type": "code",
   "execution_count": 65,
   "metadata": {},
   "outputs": [
    {
     "data": {
      "text/plain": [
       "0"
      ]
     },
     "execution_count": 65,
     "metadata": {},
     "output_type": "execute_result"
    }
   ],
   "source": [
    "sum(df1['fico_range_high'].isnull().compute())"
   ]
  },
  {
   "cell_type": "code",
   "execution_count": 66,
   "metadata": {},
   "outputs": [
    {
     "data": {
      "text/plain": [
       "0"
      ]
     },
     "execution_count": 66,
     "metadata": {},
     "output_type": "execute_result"
    }
   ],
   "source": [
    "sum(df1['fico_range_low'].isnull().compute())"
   ]
  },
  {
   "cell_type": "markdown",
   "metadata": {},
   "source": [
    "### Grade "
   ]
  },
  {
   "cell_type": "code",
   "execution_count": 67,
   "metadata": {},
   "outputs": [
    {
     "data": {
      "text/plain": [
       "B    526608\n",
       "C    524739\n",
       "A    358156\n",
       "D    247524\n",
       "E     99880\n",
       "Name: grade, dtype: int64"
      ]
     },
     "execution_count": 67,
     "metadata": {},
     "output_type": "execute_result"
    }
   ],
   "source": [
    "df1['grade'].value_counts().compute()"
   ]
  },
  {
   "cell_type": "code",
   "execution_count": 68,
   "metadata": {},
   "outputs": [
    {
     "data": {
      "text/plain": [
       "0"
      ]
     },
     "execution_count": 68,
     "metadata": {},
     "output_type": "execute_result"
    }
   ],
   "source": [
    "sum(df1['grade'].isnull().compute())"
   ]
  },
  {
   "cell_type": "code",
   "execution_count": 69,
   "metadata": {},
   "outputs": [
    {
     "data": {
      "text/plain": [
       "<AxesSubplot:xlabel='grade', ylabel='int_rate'>"
      ]
     },
     "execution_count": 69,
     "metadata": {},
     "output_type": "execute_result"
    },
    {
     "data": {
      "image/png": "[encoded data removed]",
      "text/plain": [
       "<Figure size 432x288 with 1 Axes>"
      ]
     },
     "metadata": {
      "needs_background": "light"
     },
     "output_type": "display_data"
    }
   ],
   "source": [
    "my_order = ['A','B','C','D','E']\n",
    "sns.boxplot(x='grade', y='int_rate', data=df1.compute(), order=my_order)"
   ]
  },
  {
   "cell_type": "code",
   "execution_count": 70,
   "metadata": {},
   "outputs": [],
   "source": [
    "#removed F & G at top"
   ]
  },
  {
   "cell_type": "code",
   "execution_count": 39,
   "metadata": {},
   "outputs": [],
   "source": [
    "df1['grade'] = df1['grade'].mask(df1['grade'] == 'E', '1').mask(df1['grade'] == 'D', '2').mask(df1['grade'] == 'C', '3').mask(df1['grade'] == 'B', '4').mask(df1['grade'] == 'A', '5')\n"
   ]
  },
  {
   "cell_type": "code",
   "execution_count": 40,
   "metadata": {},
   "outputs": [
    {
     "data": {
      "text/plain": [
       "4    526594\n",
       "3    524725\n",
       "5    358154\n",
       "2    247502\n",
       "1     99877\n",
       "Name: grade, dtype: int64"
      ]
     },
     "execution_count": 40,
     "metadata": {},
     "output_type": "execute_result"
    }
   ],
   "source": [
    "df1['grade'].value_counts().compute()"
   ]
  }
 ],
 "metadata": {
  "kernelspec": {
   "display_name": "Python 3",
   "language": "python",
   "name": "python3"
  },
  "language_info": {
   "codemirror_mode": {
    "name": "ipython",
    "version": 3
   },
   "file_extension": ".py",
   "mimetype": "text/x-python",
   "name": "python",
   "nbconvert_exporter": "python",
   "pygments_lexer": "ipython3",
   "version": "3.8.5"
  }
 },
 "nbformat": 4,
 "nbformat_minor": 4
}
